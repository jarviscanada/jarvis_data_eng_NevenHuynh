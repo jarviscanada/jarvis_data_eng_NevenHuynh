{
 "cells": [
  {
   "cell_type": "markdown",
   "metadata": {
    "application/vnd.databricks.v1+cell": {
     "cellMetadata": {
      "byteLimit": 2048000,
      "rowLimit": 10000
     },
     "inputWidgets": {},
     "nuid": "0c374aaf-b7d7-490a-a6f5-e4c775315b00",
     "showTitle": false,
     "tableResultSettingsMap": {},
     "title": ""
    }
   },
   "source": [
    "#Bronze Layer - Raw Data Ingestion\n",
    "\n",
    "This notebook handles the ingestion of raw customer churn data into the Bronze layer of the medallion architecture. The dataset is a CSV file containing customer demographic, financial, and engagement details from a European bank. It defines and applies an explicit schema for data consistency and type safety, performs column renaming to ensure naming consistency, and writes the raw data to a Delta table (`bronze_customers`) for further processing in the Silver layer. \n",
    "\n"
   ]
  },
  {
   "cell_type": "code",
   "execution_count": 0,
   "metadata": {
    "application/vnd.databricks.v1+cell": {
     "cellMetadata": {
      "byteLimit": 2048000,
      "rowLimit": 10000
     },
     "inputWidgets": {},
     "nuid": "17f11f3c-d0a0-41ba-9e19-e6248637a354",
     "showTitle": false,
     "tableResultSettingsMap": {},
     "title": ""
    }
   },
   "outputs": [],
   "source": [
    "from pyspark.sql.functions import *\n",
    "from pyspark.sql.types import *\n",
    "\n",
    "file_path = \"/Volumes/workspace/default/volumes/Customer-Churn-Records.csv\"\n",
    "\n",
    "# Define the schema for the dataset\n",
    "schema = StructType([\n",
    "    StructField(\"RowNumber\", IntegerType(), True),\n",
    "    StructField(\"CustomerId\", IntegerType(), True),\n",
    "    StructField(\"Surname\", StringType(), True),\n",
    "    StructField(\"CreditScore\", IntegerType(), True),\n",
    "    StructField(\"Geography\", StringType(), True),\n",
    "    StructField(\"Gender\", StringType(), True),\n",
    "    StructField(\"Age\", IntegerType(), True),\n",
    "    StructField(\"Tenure\", IntegerType(), True),\n",
    "    StructField(\"Balance\", FloatType(), True),\n",
    "    StructField(\"NumOfProducts\", IntegerType(), True),\n",
    "    StructField(\"HasCrCard\", IntegerType(), True),\n",
    "    StructField(\"IsActiveMember\", IntegerType(), True),\n",
    "    StructField(\"EstimatedSalary\", FloatType(), True),\n",
    "    StructField(\"Exited\", IntegerType(), True),\n",
    "    StructField(\"Complain\", IntegerType(), True),\n",
    "    StructField(\"Satisfaction Score\", IntegerType(), True),\n",
    "    StructField(\"Card Type\", StringType(), True),\n",
    "    StructField(\"Point Earned\", IntegerType(), True),\n",
    "])\n",
    "\n",
    "# Read the CSV file \n",
    "df_bronze = (\n",
    "    spark.read.format(\"csv\")\n",
    "    .option(\"header\", \"true\")\n",
    "    .schema(schema)\n",
    "    .load(file_path)\n",
    "    .withColumn(\"time_ingested\", current_timestamp())\n",
    ")\n",
    "\n",
    "# Rename the columns in the dataset to ensure consistency and remove spaces to ensure compatibility with Delta Lake\n",
    "df_bronze = (df_bronze\n",
    "             .withColumnRenamed(\"RowNumber\", \"row_number\")\n",
    "             .withColumnRenamed(\"CustomerId\", \"customer_id\")\n",
    "             .withColumnRenamed(\"Surname\", \"surname\")\n",
    "             .withColumnRenamed(\"CreditScore\", \"credit_score\")\n",
    "             .withColumnRenamed(\"Geography\", \"geography\")\n",
    "             .withColumnRenamed(\"Gender\", \"gender\")\n",
    "             .withColumnRenamed(\"Age\", \"age\")\n",
    "             .withColumnRenamed(\"Tenure\", \"tenure\")\n",
    "             .withColumnRenamed(\"NumOfProducts\", \"num_of_products\")\n",
    "             .withColumnRenamed(\"HasCrCard\", \"has_cr_card\")\n",
    "             .withColumnRenamed(\"IsActiveMember\", \"is_active_member\")\n",
    "             .withColumnRenamed(\"EstimatedSalary\", \"estimated_salary\")\n",
    "             .withColumnRenamed(\"Exited\", \"exited\")\n",
    "             .withColumnRenamed(\"Complain\", \"complain\")\n",
    "             .withColumnRenamed(\"Satisfaction Score\", \"satisfaction_score\")\n",
    "             .withColumnRenamed(\"Card Type\", \"card_type\")\n",
    "             .withColumnRenamed(\"Point Earned\", \"point_earned\")\n",
    "             )\n",
    "\n",
    "# Save the bronze table as a delta table\n",
    "df_bronze.write.format(\"delta\").mode(\"overwrite\").saveAsTable(\"bronze_customers\")\n"
   ]
  },
  {
   "cell_type": "code",
   "execution_count": 0,
   "metadata": {
    "application/vnd.databricks.v1+cell": {
     "cellMetadata": {
      "byteLimit": 2048000,
      "rowLimit": 10000
     },
     "inputWidgets": {},
     "nuid": "5c1bf082-318c-467c-b88c-67710962cfa8",
     "showTitle": false,
     "tableResultSettingsMap": {},
     "title": ""
    }
   },
   "outputs": [
    {
     "output_type": "display_data",
     "data": {
      "text/html": [
       "<style scoped>\n",
       "  .table-result-container {\n",
       "    max-height: 300px;\n",
       "    overflow: auto;\n",
       "  }\n",
       "  table, th, td {\n",
       "    border: 1px solid black;\n",
       "    border-collapse: collapse;\n",
       "  }\n",
       "  th, td {\n",
       "    padding: 5px;\n",
       "  }\n",
       "  th {\n",
       "    text-align: left;\n",
       "  }\n",
       "</style><div class='table-result-container'><table class='table-result'><thead style='background-color: white'><tr><th>row_number</th><th>customer_id</th><th>surname</th><th>credit_score</th><th>geography</th><th>gender</th><th>age</th><th>tenure</th><th>Balance</th><th>num_of_products</th><th>has_cr_card</th><th>is_active_member</th><th>estimated_salary</th><th>exited</th><th>complain</th><th>satisfaction_score</th><th>card_type</th><th>point_earned</th><th>time_ingested</th></tr></thead><tbody><tr><td>1</td><td>15634602</td><td>Hargrave</td><td>619</td><td>France</td><td>Female</td><td>42</td><td>2</td><td>0.0</td><td>1</td><td>1</td><td>1</td><td>101348.88</td><td>1</td><td>1</td><td>2</td><td>DIAMOND</td><td>464</td><td>2025-07-30T18:16:01.307Z</td></tr><tr><td>2</td><td>15647311</td><td>Hill</td><td>608</td><td>Spain</td><td>Female</td><td>41</td><td>1</td><td>83807.86</td><td>1</td><td>0</td><td>1</td><td>112542.58</td><td>0</td><td>1</td><td>3</td><td>DIAMOND</td><td>456</td><td>2025-07-30T18:16:01.307Z</td></tr><tr><td>3</td><td>15619304</td><td>Onio</td><td>502</td><td>France</td><td>Female</td><td>42</td><td>8</td><td>159660.8</td><td>3</td><td>1</td><td>0</td><td>113931.57</td><td>1</td><td>1</td><td>3</td><td>DIAMOND</td><td>377</td><td>2025-07-30T18:16:01.307Z</td></tr><tr><td>4</td><td>15701354</td><td>Boni</td><td>699</td><td>France</td><td>Female</td><td>39</td><td>1</td><td>0.0</td><td>2</td><td>0</td><td>0</td><td>93826.63</td><td>0</td><td>0</td><td>5</td><td>GOLD</td><td>350</td><td>2025-07-30T18:16:01.307Z</td></tr><tr><td>5</td><td>15737888</td><td>Mitchell</td><td>850</td><td>Spain</td><td>Female</td><td>43</td><td>2</td><td>125510.82</td><td>1</td><td>1</td><td>1</td><td>79084.1</td><td>0</td><td>0</td><td>5</td><td>GOLD</td><td>425</td><td>2025-07-30T18:16:01.307Z</td></tr><tr><td>6</td><td>15574012</td><td>Chu</td><td>645</td><td>Spain</td><td>Male</td><td>44</td><td>8</td><td>113755.78</td><td>2</td><td>1</td><td>0</td><td>149756.7</td><td>1</td><td>1</td><td>5</td><td>DIAMOND</td><td>484</td><td>2025-07-30T18:16:01.307Z</td></tr><tr><td>7</td><td>15592531</td><td>Bartlett</td><td>822</td><td>France</td><td>Male</td><td>50</td><td>7</td><td>0.0</td><td>2</td><td>1</td><td>1</td><td>10062.8</td><td>0</td><td>0</td><td>2</td><td>SILVER</td><td>206</td><td>2025-07-30T18:16:01.307Z</td></tr><tr><td>8</td><td>15656148</td><td>Obinna</td><td>376</td><td>Germany</td><td>Female</td><td>29</td><td>4</td><td>115046.74</td><td>4</td><td>1</td><td>0</td><td>119346.88</td><td>1</td><td>1</td><td>2</td><td>DIAMOND</td><td>282</td><td>2025-07-30T18:16:01.307Z</td></tr><tr><td>9</td><td>15792365</td><td>He</td><td>501</td><td>France</td><td>Male</td><td>44</td><td>4</td><td>142051.06</td><td>2</td><td>0</td><td>1</td><td>74940.5</td><td>0</td><td>0</td><td>3</td><td>GOLD</td><td>251</td><td>2025-07-30T18:16:01.307Z</td></tr><tr><td>10</td><td>15592389</td><td>H?</td><td>684</td><td>France</td><td>Male</td><td>27</td><td>2</td><td>134603.88</td><td>1</td><td>1</td><td>1</td><td>71725.73</td><td>0</td><td>0</td><td>3</td><td>GOLD</td><td>342</td><td>2025-07-30T18:16:01.307Z</td></tr></tbody></table></div>"
      ]
     },
     "metadata": {
      "application/vnd.databricks.v1+output": {
       "addedWidgets": {},
       "aggData": [],
       "aggError": "",
       "aggOverflow": false,
       "aggSchema": [],
       "aggSeriesLimitReached": false,
       "aggType": "",
       "arguments": {},
       "columnCustomDisplayInfos": {},
       "data": [
        [
         1,
         15634602,
         "Hargrave",
         619,
         "France",
         "Female",
         42,
         2,
         0.0,
         1,
         1,
         1,
         101348.88,
         1,
         1,
         2,
         "DIAMOND",
         464,
         "2025-07-30T18:16:01.307Z"
        ],
        [
         2,
         15647311,
         "Hill",
         608,
         "Spain",
         "Female",
         41,
         1,
         83807.86,
         1,
         0,
         1,
         112542.58,
         0,
         1,
         3,
         "DIAMOND",
         456,
         "2025-07-30T18:16:01.307Z"
        ],
        [
         3,
         15619304,
         "Onio",
         502,
         "France",
         "Female",
         42,
         8,
         159660.8,
         3,
         1,
         0,
         113931.57,
         1,
         1,
         3,
         "DIAMOND",
         377,
         "2025-07-30T18:16:01.307Z"
        ],
        [
         4,
         15701354,
         "Boni",
         699,
         "France",
         "Female",
         39,
         1,
         0.0,
         2,
         0,
         0,
         93826.63,
         0,
         0,
         5,
         "GOLD",
         350,
         "2025-07-30T18:16:01.307Z"
        ],
        [
         5,
         15737888,
         "Mitchell",
         850,
         "Spain",
         "Female",
         43,
         2,
         125510.82,
         1,
         1,
         1,
         79084.1,
         0,
         0,
         5,
         "GOLD",
         425,
         "2025-07-30T18:16:01.307Z"
        ],
        [
         6,
         15574012,
         "Chu",
         645,
         "Spain",
         "Male",
         44,
         8,
         113755.78,
         2,
         1,
         0,
         149756.7,
         1,
         1,
         5,
         "DIAMOND",
         484,
         "2025-07-30T18:16:01.307Z"
        ],
        [
         7,
         15592531,
         "Bartlett",
         822,
         "France",
         "Male",
         50,
         7,
         0.0,
         2,
         1,
         1,
         10062.8,
         0,
         0,
         2,
         "SILVER",
         206,
         "2025-07-30T18:16:01.307Z"
        ],
        [
         8,
         15656148,
         "Obinna",
         376,
         "Germany",
         "Female",
         29,
         4,
         115046.74,
         4,
         1,
         0,
         119346.88,
         1,
         1,
         2,
         "DIAMOND",
         282,
         "2025-07-30T18:16:01.307Z"
        ],
        [
         9,
         15792365,
         "He",
         501,
         "France",
         "Male",
         44,
         4,
         142051.06,
         2,
         0,
         1,
         74940.5,
         0,
         0,
         3,
         "GOLD",
         251,
         "2025-07-30T18:16:01.307Z"
        ],
        [
         10,
         15592389,
         "H?",
         684,
         "France",
         "Male",
         27,
         2,
         134603.88,
         1,
         1,
         1,
         71725.73,
         0,
         0,
         3,
         "GOLD",
         342,
         "2025-07-30T18:16:01.307Z"
        ]
       ],
       "datasetInfos": [],
       "dbfsResultPath": null,
       "isJsonSchema": true,
       "metadata": {},
       "overflow": false,
       "plotOptions": {
        "customPlotOptions": {},
        "displayType": "table",
        "pivotAggregation": null,
        "pivotColumns": null,
        "xColumns": null,
        "yColumns": null
       },
       "removedWidgets": [],
       "schema": [
        {
         "metadata": "{}",
         "name": "row_number",
         "type": "\"integer\""
        },
        {
         "metadata": "{}",
         "name": "customer_id",
         "type": "\"integer\""
        },
        {
         "metadata": "{}",
         "name": "surname",
         "type": "\"string\""
        },
        {
         "metadata": "{}",
         "name": "credit_score",
         "type": "\"integer\""
        },
        {
         "metadata": "{}",
         "name": "geography",
         "type": "\"string\""
        },
        {
         "metadata": "{}",
         "name": "gender",
         "type": "\"string\""
        },
        {
         "metadata": "{}",
         "name": "age",
         "type": "\"integer\""
        },
        {
         "metadata": "{}",
         "name": "tenure",
         "type": "\"integer\""
        },
        {
         "metadata": "{}",
         "name": "Balance",
         "type": "\"float\""
        },
        {
         "metadata": "{}",
         "name": "num_of_products",
         "type": "\"integer\""
        },
        {
         "metadata": "{}",
         "name": "has_cr_card",
         "type": "\"integer\""
        },
        {
         "metadata": "{}",
         "name": "is_active_member",
         "type": "\"integer\""
        },
        {
         "metadata": "{}",
         "name": "estimated_salary",
         "type": "\"float\""
        },
        {
         "metadata": "{}",
         "name": "exited",
         "type": "\"integer\""
        },
        {
         "metadata": "{}",
         "name": "complain",
         "type": "\"integer\""
        },
        {
         "metadata": "{}",
         "name": "satisfaction_score",
         "type": "\"integer\""
        },
        {
         "metadata": "{}",
         "name": "card_type",
         "type": "\"string\""
        },
        {
         "metadata": "{}",
         "name": "point_earned",
         "type": "\"integer\""
        },
        {
         "metadata": "{}",
         "name": "time_ingested",
         "type": "\"timestamp\""
        }
       ],
       "type": "table"
      }
     },
     "output_type": "display_data"
    }
   ],
   "source": [
    "# Display the first 10 records of the table\n",
    "display(df_bronze.limit(10))"
   ]
  }
 ],
 "metadata": {
  "application/vnd.databricks.v1+notebook": {
   "computePreferences": {
    "hardware": {
     "accelerator": null,
     "gpuPoolId": null,
     "memory": null
    }
   },
   "dashboards": [
    {
     "elements": [],
     "globalVars": {},
     "guid": "",
     "layoutOption": {
      "grid": true,
      "stack": true
     },
     "nuid": "6efd2238-ba49-4e02-9ff0-5d894b6ab53e",
     "origId": 7561383358107840,
     "title": "Untitled",
     "version": "DashboardViewV1",
     "width": 1024
    }
   ],
   "environmentMetadata": {
    "base_environment": "",
    "environment_version": "2"
   },
   "inputWidgetPreferences": null,
   "language": "python",
   "notebookMetadata": {
    "mostRecentlyExecutedCommandWithImplicitDF": {
     "commandId": 7561383358107846,
     "dataframes": [
      "_sqldf"
     ]
    },
    "pythonIndentUnit": 4
   },
   "notebookName": "bronze_ingestion",
   "widgets": {}
  },
  "language_info": {
   "name": "python"
  }
 },
 "nbformat": 4,
 "nbformat_minor": 0
}