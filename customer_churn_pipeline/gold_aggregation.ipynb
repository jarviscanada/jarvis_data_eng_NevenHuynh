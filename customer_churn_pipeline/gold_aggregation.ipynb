{
 "cells": [
  {
   "cell_type": "markdown",
   "metadata": {
    "application/vnd.databricks.v1+cell": {
     "cellMetadata": {
      "byteLimit": 2048000,
      "rowLimit": 10000
     },
     "inputWidgets": {},
     "nuid": "0c31c1c8-e356-4b1b-8e2c-dfb67142d8cb",
     "showTitle": false,
     "tableResultSettingsMap": {},
     "title": ""
    }
   },
   "source": [
    "# Gold Layer: Aggregations\n",
    "The Gold Layer consists of aggregated tables to support business intelligence use cases and decision-making. Data in this layer is derived from the cleaned and transformed Silver layer, and is structured to provide insights.\n",
    "This notebook focuses on \n",
    "- Customer Churn trends segmented by key dimensions such as `age_group`, `gender`, and `geography`.\n",
    "- Aggregated metrics such a churn percentages, total customer counts, and group-specific statistics.\n",
    "\n"
   ]
  },
  {
   "cell_type": "code",
   "execution_count": 0,
   "metadata": {
    "application/vnd.databricks.v1+cell": {
     "cellMetadata": {
      "byteLimit": 2048000,
      "rowLimit": 10000
     },
     "inputWidgets": {},
     "nuid": "db65c082-b9e4-4804-bb09-780a47ac0bea",
     "showTitle": false,
     "tableResultSettingsMap": {},
     "title": ""
    }
   },
   "outputs": [],
   "source": [
    "df_gold = spark.read.table(\"silver_customers\")"
   ]
  },
  {
   "cell_type": "code",
   "execution_count": 0,
   "metadata": {
    "application/vnd.databricks.v1+cell": {
     "cellMetadata": {
      "byteLimit": 2048000,
      "rowLimit": 10000
     },
     "inputWidgets": {},
     "nuid": "7a940829-790c-457e-9217-989043b30bed",
     "showTitle": false,
     "tableResultSettingsMap": {},
     "title": ""
    }
   },
   "outputs": [],
   "source": [
    "from pyspark.sql.functions import *"
   ]
  },
  {
   "cell_type": "code",
   "execution_count": 0,
   "metadata": {
    "application/vnd.databricks.v1+cell": {
     "cellMetadata": {
      "byteLimit": 2048000,
      "rowLimit": 10000
     },
     "inputWidgets": {},
     "nuid": "d3504e0a-e530-45bf-9ecc-1335e2b54497",
     "showTitle": false,
     "tableResultSettingsMap": {
      "0": {
       "dataGridStateBlob": "{\"version\":1,\"tableState\":{\"columnPinning\":{\"left\":[\"#row_number#\"],\"right\":[]},\"columnSizing\":{},\"columnVisibility\":{}},\"settings\":{\"columns\":{}},\"syncTimestamp\":1753803994188}",
       "filterBlob": null,
       "queryPlanFiltersBlob": null,
       "tableResultIndex": 0
      }
     },
     "title": ""
    }
   },
   "outputs": [
    {
     "output_type": "display_data",
     "data": {
      "text/html": [
       "<style scoped>\n",
       "  .table-result-container {\n",
       "    max-height: 300px;\n",
       "    overflow: auto;\n",
       "  }\n",
       "  table, th, td {\n",
       "    border: 1px solid black;\n",
       "    border-collapse: collapse;\n",
       "  }\n",
       "  th, td {\n",
       "    padding: 5px;\n",
       "  }\n",
       "  th {\n",
       "    text-align: left;\n",
       "  }\n",
       "</style><div class='table-result-container'><table class='table-result'><thead style='background-color: white'><tr><th>row_number</th><th>customer_id</th><th>surname</th><th>credit_score</th><th>geography</th><th>gender</th><th>age</th><th>tenure</th><th>Balance</th><th>num_of_products</th><th>has_cr_card</th><th>is_active_member</th><th>estimated_salary</th><th>exited</th><th>complain</th><th>satisfaction_score</th><th>card_type</th><th>point_earned</th><th>time_ingested</th><th>age_group</th><th>credit_score_group</th><th>balance_group</th><th>estimated_salary_group</th><th>point_earned_group</th></tr></thead><tbody><tr><td>433</td><td>15705521</td><td>Pisani</td><td>548</td><td>Germany</td><td>Female</td><td>33</td><td>0</td><td>101084.36</td><td>1</td><td>1</td><td>0</td><td>42749.85</td><td>0</td><td>0</td><td>5</td><td>DIAMOND</td><td>860</td><td>2025-07-31T02:50:30.321Z</td><td>25-34</td><td>poor</td><td>Medium</td><td>Low</td><td>751-1000</td></tr><tr><td>480</td><td>15797736</td><td>Smith</td><td>658</td><td>France</td><td>Male</td><td>29</td><td>4</td><td>80262.6</td><td>1</td><td>1</td><td>1</td><td>20612.82</td><td>0</td><td>0</td><td>2</td><td>GOLD</td><td>420</td><td>2025-07-31T02:50:30.321Z</td><td>25-34</td><td>fair</td><td>Medium</td><td>Low</td><td>251-500</td></tr><tr><td>1292</td><td>15679611</td><td>Andrews</td><td>734</td><td>Spain</td><td>Female</td><td>37</td><td>2</td><td>130404.92</td><td>1</td><td>0</td><td>0</td><td>34548.74</td><td>0</td><td>0</td><td>2</td><td>DIAMOND</td><td>434</td><td>2025-07-31T02:50:30.321Z</td><td>35-44</td><td>very good</td><td>Medium-High</td><td>Low</td><td>251-500</td></tr><tr><td>2900</td><td>15810944</td><td>Bryant</td><td>586</td><td>France</td><td>Female</td><td>35</td><td>7</td><td>0.0</td><td>2</td><td>1</td><td>0</td><td>70760.69</td><td>0</td><td>0</td><td>4</td><td>PLATINUM</td><td>481</td><td>2025-07-31T02:50:30.321Z</td><td>35-44</td><td>fair</td><td>No Balance</td><td>Medium-Low</td><td>251-500</td></tr><tr><td>4837</td><td>15728078</td><td>Yeh</td><td>609</td><td>France</td><td>Male</td><td>26</td><td>10</td><td>126392.18</td><td>1</td><td>0</td><td>1</td><td>43651.49</td><td>0</td><td>0</td><td>1</td><td>GOLD</td><td>494</td><td>2025-07-31T02:50:30.321Z</td><td>25-34</td><td>fair</td><td>Medium-High</td><td>Low</td><td>251-500</td></tr><tr><td>5502</td><td>15796496</td><td>Trevisani</td><td>631</td><td>France</td><td>Female</td><td>31</td><td>8</td><td>137687.72</td><td>1</td><td>1</td><td>0</td><td>190067.12</td><td>0</td><td>0</td><td>1</td><td>GOLD</td><td>498</td><td>2025-07-31T02:50:30.321Z</td><td>25-34</td><td>fair</td><td>High</td><td>High</td><td>251-500</td></tr><tr><td>5626</td><td>15663234</td><td>Bishop</td><td>508</td><td>France</td><td>Female</td><td>60</td><td>7</td><td>143262.05</td><td>1</td><td>1</td><td>1</td><td>129562.74</td><td>0</td><td>0</td><td>3</td><td>GOLD</td><td>727</td><td>2025-07-31T02:50:30.321Z</td><td>55-64</td><td>poor</td><td>High</td><td>Medium-High</td><td>501-750</td></tr><tr><td>5970</td><td>15579714</td><td>Pan</td><td>542</td><td>France</td><td>Female</td><td>29</td><td>7</td><td>0.0</td><td>2</td><td>0</td><td>1</td><td>196651.72</td><td>0</td><td>0</td><td>3</td><td>DIAMOND</td><td>761</td><td>2025-07-31T02:50:30.321Z</td><td>25-34</td><td>poor</td><td>No Balance</td><td>High</td><td>751-1000</td></tr><tr><td>6496</td><td>15640852</td><td>McGregor</td><td>617</td><td>Germany</td><td>Female</td><td>39</td><td>5</td><td>83348.89</td><td>3</td><td>1</td><td>0</td><td>7953.62</td><td>1</td><td>1</td><td>3</td><td>PLATINUM</td><td>994</td><td>2025-07-31T02:50:30.321Z</td><td>35-44</td><td>fair</td><td>Medium</td><td>Low</td><td>751-1000</td></tr><tr><td>8257</td><td>15768574</td><td>Anderson</td><td>671</td><td>Spain</td><td>Male</td><td>58</td><td>1</td><td>178713.98</td><td>1</td><td>1</td><td>1</td><td>21768.21</td><td>0</td><td>0</td><td>4</td><td>SILVER</td><td>953</td><td>2025-07-31T02:50:30.321Z</td><td>55-64</td><td>good</td><td>High</td><td>Low</td><td>751-1000</td></tr></tbody></table></div>"
      ]
     },
     "metadata": {
      "application/vnd.databricks.v1+output": {
       "addedWidgets": {},
       "aggData": [],
       "aggError": "",
       "aggOverflow": false,
       "aggSchema": [],
       "aggSeriesLimitReached": false,
       "aggType": "",
       "arguments": {},
       "columnCustomDisplayInfos": {},
       "data": [
        [
         433,
         15705521,
         "Pisani",
         548,
         "Germany",
         "Female",
         33,
         0,
         101084.36,
         1,
         1,
         0,
         42749.85,
         0,
         0,
         5,
         "DIAMOND",
         860,
         "2025-07-31T02:50:30.321Z",
         "25-34",
         "poor",
         "Medium",
         "Low",
         "751-1000"
        ],
        [
         480,
         15797736,
         "Smith",
         658,
         "France",
         "Male",
         29,
         4,
         80262.6,
         1,
         1,
         1,
         20612.82,
         0,
         0,
         2,
         "GOLD",
         420,
         "2025-07-31T02:50:30.321Z",
         "25-34",
         "fair",
         "Medium",
         "Low",
         "251-500"
        ],
        [
         1292,
         15679611,
         "Andrews",
         734,
         "Spain",
         "Female",
         37,
         2,
         130404.92,
         1,
         0,
         0,
         34548.74,
         0,
         0,
         2,
         "DIAMOND",
         434,
         "2025-07-31T02:50:30.321Z",
         "35-44",
         "very good",
         "Medium-High",
         "Low",
         "251-500"
        ],
        [
         2900,
         15810944,
         "Bryant",
         586,
         "France",
         "Female",
         35,
         7,
         0.0,
         2,
         1,
         0,
         70760.69,
         0,
         0,
         4,
         "PLATINUM",
         481,
         "2025-07-31T02:50:30.321Z",
         "35-44",
         "fair",
         "No Balance",
         "Medium-Low",
         "251-500"
        ],
        [
         4837,
         15728078,
         "Yeh",
         609,
         "France",
         "Male",
         26,
         10,
         126392.18,
         1,
         0,
         1,
         43651.49,
         0,
         0,
         1,
         "GOLD",
         494,
         "2025-07-31T02:50:30.321Z",
         "25-34",
         "fair",
         "Medium-High",
         "Low",
         "251-500"
        ],
        [
         5502,
         15796496,
         "Trevisani",
         631,
         "France",
         "Female",
         31,
         8,
         137687.72,
         1,
         1,
         0,
         190067.12,
         0,
         0,
         1,
         "GOLD",
         498,
         "2025-07-31T02:50:30.321Z",
         "25-34",
         "fair",
         "High",
         "High",
         "251-500"
        ],
        [
         5626,
         15663234,
         "Bishop",
         508,
         "France",
         "Female",
         60,
         7,
         143262.05,
         1,
         1,
         1,
         129562.74,
         0,
         0,
         3,
         "GOLD",
         727,
         "2025-07-31T02:50:30.321Z",
         "55-64",
         "poor",
         "High",
         "Medium-High",
         "501-750"
        ],
        [
         5970,
         15579714,
         "Pan",
         542,
         "France",
         "Female",
         29,
         7,
         0.0,
         2,
         0,
         1,
         196651.72,
         0,
         0,
         3,
         "DIAMOND",
         761,
         "2025-07-31T02:50:30.321Z",
         "25-34",
         "poor",
         "No Balance",
         "High",
         "751-1000"
        ],
        [
         6496,
         15640852,
         "McGregor",
         617,
         "Germany",
         "Female",
         39,
         5,
         83348.89,
         3,
         1,
         0,
         7953.62,
         1,
         1,
         3,
         "PLATINUM",
         994,
         "2025-07-31T02:50:30.321Z",
         "35-44",
         "fair",
         "Medium",
         "Low",
         "751-1000"
        ],
        [
         8257,
         15768574,
         "Anderson",
         671,
         "Spain",
         "Male",
         58,
         1,
         178713.98,
         1,
         1,
         1,
         21768.21,
         0,
         0,
         4,
         "SILVER",
         953,
         "2025-07-31T02:50:30.321Z",
         "55-64",
         "good",
         "High",
         "Low",
         "751-1000"
        ]
       ],
       "datasetInfos": [],
       "dbfsResultPath": null,
       "isJsonSchema": true,
       "metadata": {},
       "overflow": false,
       "plotOptions": {
        "customPlotOptions": {},
        "displayType": "table",
        "pivotAggregation": null,
        "pivotColumns": null,
        "xColumns": null,
        "yColumns": null
       },
       "removedWidgets": [],
       "schema": [
        {
         "metadata": "{}",
         "name": "row_number",
         "type": "\"integer\""
        },
        {
         "metadata": "{}",
         "name": "customer_id",
         "type": "\"integer\""
        },
        {
         "metadata": "{}",
         "name": "surname",
         "type": "\"string\""
        },
        {
         "metadata": "{}",
         "name": "credit_score",
         "type": "\"integer\""
        },
        {
         "metadata": "{}",
         "name": "geography",
         "type": "\"string\""
        },
        {
         "metadata": "{}",
         "name": "gender",
         "type": "\"string\""
        },
        {
         "metadata": "{}",
         "name": "age",
         "type": "\"integer\""
        },
        {
         "metadata": "{}",
         "name": "tenure",
         "type": "\"integer\""
        },
        {
         "metadata": "{}",
         "name": "Balance",
         "type": "\"float\""
        },
        {
         "metadata": "{}",
         "name": "num_of_products",
         "type": "\"integer\""
        },
        {
         "metadata": "{}",
         "name": "has_cr_card",
         "type": "\"integer\""
        },
        {
         "metadata": "{}",
         "name": "is_active_member",
         "type": "\"integer\""
        },
        {
         "metadata": "{}",
         "name": "estimated_salary",
         "type": "\"float\""
        },
        {
         "metadata": "{}",
         "name": "exited",
         "type": "\"integer\""
        },
        {
         "metadata": "{}",
         "name": "complain",
         "type": "\"integer\""
        },
        {
         "metadata": "{}",
         "name": "satisfaction_score",
         "type": "\"integer\""
        },
        {
         "metadata": "{}",
         "name": "card_type",
         "type": "\"string\""
        },
        {
         "metadata": "{}",
         "name": "point_earned",
         "type": "\"integer\""
        },
        {
         "metadata": "{}",
         "name": "time_ingested",
         "type": "\"timestamp\""
        },
        {
         "metadata": "{}",
         "name": "age_group",
         "type": "\"string\""
        },
        {
         "metadata": "{}",
         "name": "credit_score_group",
         "type": "\"string\""
        },
        {
         "metadata": "{}",
         "name": "balance_group",
         "type": "\"string\""
        },
        {
         "metadata": "{}",
         "name": "estimated_salary_group",
         "type": "\"string\""
        },
        {
         "metadata": "{}",
         "name": "point_earned_group",
         "type": "\"string\""
        }
       ],
       "type": "table"
      }
     },
     "output_type": "display_data"
    }
   ],
   "source": [
    "display(df_gold.limit(10))"
   ]
  },
  {
   "cell_type": "markdown",
   "metadata": {
    "application/vnd.databricks.v1+cell": {
     "cellMetadata": {
      "byteLimit": 2048000,
      "rowLimit": 10000
     },
     "inputWidgets": {},
     "nuid": "3fb46c84-c0ce-4a65-b8ae-5d8ac1fc5a11",
     "showTitle": false,
     "tableResultSettingsMap": {},
     "title": ""
    }
   },
   "source": [
    "## Margin of Error\n",
    "To ensure that these aggregated metrics are statistically reliable, we employ the concept of **Margin of Error** (MOE) and determine a minimum group size `n`.\n",
    "\n",
    "The Margin of Error quantifies the precision of our calculated metrics for each customer segment. For instance, an average churn rate of 20% with a 2% MOE at a 95% confidence level means we are 95% confident the true churn rate falls between 18% and 22%. \n",
    "\n",
    "Calculating `n` gives us the minimum number of customers that must be present within an aggregated segment for its reported metrics. We derive `n` using a statistical formula that considers:\n",
    "\n",
    "1. Our desired Confidence level 95%\n",
    "2. Overall churn rate observed in the dataset\n",
    "\n",
    "Margin of error = Z * √(p(1-p)/n)\n",
    "<br>\n",
    "Z = Z-score for selected confidence level (1.96 for 95% confidence)\n",
    "<br>\n",
    "p = sample proportion (churn rate)\n",
    "<br>\n",
    "n = sample size\n"
   ]
  },
  {
   "cell_type": "code",
   "execution_count": 0,
   "metadata": {
    "application/vnd.databricks.v1+cell": {
     "cellMetadata": {
      "byteLimit": 2048000,
      "rowLimit": 10000
     },
     "inputWidgets": {},
     "nuid": "be8d7fae-7e8e-4cea-808e-f856066ca884",
     "showTitle": false,
     "tableResultSettingsMap": {},
     "title": ""
    }
   },
   "outputs": [
    {
     "output_type": "stream",
     "name": "stdout",
     "output_type": "stream",
     "text": [
      "churn rate: 0.2038\nminimum sample size: 250\n"
     ]
    }
   ],
   "source": [
    "import math \n",
    "\n",
    "churn_df = df_gold.agg(avg(\"exited\"))\n",
    "churn = churn_df.collect()[0][0]\n",
    "print(f\"churn rate: {churn}\")\n",
    "Z = 1.96\n",
    "margin_of_error = 0.05\n",
    "n = (Z**2) * churn * (1-churn) / (margin_of_error**2)\n",
    "n = math.ceil(n)\n",
    "print(f\"minimum sample size: {n}\")"
   ]
  },
  {
   "cell_type": "markdown",
   "metadata": {
    "application/vnd.databricks.v1+cell": {
     "cellMetadata": {
      "byteLimit": 2048000,
      "rowLimit": 10000
     },
     "inputWidgets": {},
     "nuid": "b1b3f643-72a5-4628-a7ba-e9c0ebc99935",
     "showTitle": false,
     "tableResultSettingsMap": {},
     "title": ""
    }
   },
   "source": [
    "### Calculating Churn Rates by Account Balance"
   ]
  },
  {
   "cell_type": "code",
   "execution_count": 0,
   "metadata": {
    "application/vnd.databricks.v1+cell": {
     "cellMetadata": {
      "byteLimit": 2048000,
      "rowLimit": 10000
     },
     "inputWidgets": {},
     "nuid": "61080e06-5744-4c3d-8b4e-1696b632c6fb",
     "showTitle": false,
     "tableResultSettingsMap": {
      "0": {
       "dataGridStateBlob": "{\"version\":1,\"tableState\":{\"columnPinning\":{\"left\":[\"#row_number#\"],\"right\":[]},\"columnSizing\":{},\"columnVisibility\":{}},\"settings\":{\"columns\":{}},\"syncTimestamp\":1753805063944}",
       "filterBlob": null,
       "queryPlanFiltersBlob": null,
       "tableResultIndex": 0
      }
     },
     "title": ""
    }
   },
   "outputs": [
    {
     "output_type": "display_data",
     "data": {
      "text/html": [
       "<style scoped>\n",
       "  .table-result-container {\n",
       "    max-height: 300px;\n",
       "    overflow: auto;\n",
       "  }\n",
       "  table, th, td {\n",
       "    border: 1px solid black;\n",
       "    border-collapse: collapse;\n",
       "  }\n",
       "  th, td {\n",
       "    padding: 5px;\n",
       "  }\n",
       "  th {\n",
       "    text-align: left;\n",
       "  }\n",
       "</style><div class='table-result-container'><table class='table-result'><thead style='background-color: white'><tr><th>balance_group</th><th>exited</th><th>not_exited</th><th>churn_rate</th></tr></thead><tbody><tr><td>Medium-High</td><td>540</td><td>1441</td><td>0.27</td></tr><tr><td>Low</td><td>86</td><td>257</td><td>0.25</td></tr><tr><td>High</td><td>481</td><td>1609</td><td>0.23</td></tr><tr><td>Medium</td><td>431</td><td>1538</td><td>0.22</td></tr><tr><td>No Balance</td><td>500</td><td>3117</td><td>0.14</td></tr></tbody></table></div>"
      ]
     },
     "metadata": {
      "application/vnd.databricks.v1+output": {
       "addedWidgets": {},
       "aggData": [],
       "aggError": "",
       "aggOverflow": false,
       "aggSchema": [],
       "aggSeriesLimitReached": false,
       "aggType": "",
       "arguments": {},
       "columnCustomDisplayInfos": {},
       "data": [
        [
         "Medium-High",
         540,
         1441,
         0.27
        ],
        [
         "Low",
         86,
         257,
         0.25
        ],
        [
         "High",
         481,
         1609,
         0.23
        ],
        [
         "Medium",
         431,
         1538,
         0.22
        ],
        [
         "No Balance",
         500,
         3117,
         0.14
        ]
       ],
       "datasetInfos": [],
       "dbfsResultPath": null,
       "isJsonSchema": true,
       "metadata": {},
       "overflow": false,
       "plotOptions": {
        "customPlotOptions": {},
        "displayType": "table",
        "pivotAggregation": null,
        "pivotColumns": null,
        "xColumns": null,
        "yColumns": null
       },
       "removedWidgets": [],
       "schema": [
        {
         "metadata": "{}",
         "name": "balance_group",
         "type": "\"string\""
        },
        {
         "metadata": "{}",
         "name": "exited",
         "type": "\"long\""
        },
        {
         "metadata": "{}",
         "name": "not_exited",
         "type": "\"long\""
        },
        {
         "metadata": "{}",
         "name": "churn_rate",
         "type": "\"double\""
        }
       ],
       "type": "table"
      }
     },
     "output_type": "display_data"
    }
   ],
   "source": [
    "df_gold_balance = df_gold.groupBy(\"balance_group\").agg(count(when(col(\"exited\")==1, 1)).alias(\"exited\"), count(when(col(\"exited\")==0, 1)).alias(\"not_exited\"))\n",
    "df_gold_balance = df_gold_balance.withColumn(\"churn_rate\", round(col(\"exited\")/(col(\"exited\")+col(\"not_exited\")),2))\n",
    "display(df_gold_balance.orderBy(desc(\"churn_rate\")))"
   ]
  },
  {
   "cell_type": "markdown",
   "metadata": {
    "application/vnd.databricks.v1+cell": {
     "cellMetadata": {
      "byteLimit": 2048000,
      "rowLimit": 10000
     },
     "inputWidgets": {},
     "nuid": "044684ad-0245-4fd4-bc6b-e345a0c90321",
     "showTitle": false,
     "tableResultSettingsMap": {},
     "title": ""
    }
   },
   "source": []
  },
  {
   "cell_type": "markdown",
   "metadata": {
    "application/vnd.databricks.v1+cell": {
     "cellMetadata": {
      "byteLimit": 2048000,
      "rowLimit": 10000
     },
     "inputWidgets": {},
     "nuid": "bc10c066-2b83-489f-957c-50dcf8f669ad",
     "showTitle": false,
     "tableResultSettingsMap": {},
     "title": ""
    }
   },
   "source": [
    "### Calculating Churn Rates by Credit Score"
   ]
  },
  {
   "cell_type": "code",
   "execution_count": 0,
   "metadata": {
    "application/vnd.databricks.v1+cell": {
     "cellMetadata": {
      "byteLimit": 2048000,
      "rowLimit": 10000
     },
     "inputWidgets": {},
     "nuid": "31607145-b00a-4c28-a854-3300087b8822",
     "showTitle": false,
     "tableResultSettingsMap": {
      "0": {
       "dataGridStateBlob": "{\"version\":1,\"tableState\":{\"columnPinning\":{\"left\":[\"#row_number#\"],\"right\":[]},\"columnSizing\":{},\"columnVisibility\":{}},\"settings\":{\"columns\":{}},\"syncTimestamp\":1753805056001}",
       "filterBlob": null,
       "queryPlanFiltersBlob": null,
       "tableResultIndex": 0
      }
     },
     "title": ""
    }
   },
   "outputs": [
    {
     "output_type": "display_data",
     "data": {
      "text/html": [
       "<style scoped>\n",
       "  .table-result-container {\n",
       "    max-height: 300px;\n",
       "    overflow: auto;\n",
       "  }\n",
       "  table, th, td {\n",
       "    border: 1px solid black;\n",
       "    border-collapse: collapse;\n",
       "  }\n",
       "  th, td {\n",
       "    padding: 5px;\n",
       "  }\n",
       "  th {\n",
       "    text-align: left;\n",
       "  }\n",
       "</style><div class='table-result-container'><table class='table-result'><thead style='background-color: white'><tr><th>credit_score_group</th><th>exited</th><th>not_exited</th><th>churn_rate</th></tr></thead><tbody><tr><td>poor</td><td>420</td><td>1437</td><td>0.23</td></tr><tr><td>fair</td><td>708</td><td>2734</td><td>0.21</td></tr><tr><td>very good</td><td>194</td><td>739</td><td>0.21</td></tr><tr><td>excellent</td><td>272</td><td>1092</td><td>0.2</td></tr><tr><td>good</td><td>444</td><td>1960</td><td>0.18</td></tr></tbody></table></div>"
      ]
     },
     "metadata": {
      "application/vnd.databricks.v1+output": {
       "addedWidgets": {},
       "aggData": [],
       "aggError": "",
       "aggOverflow": false,
       "aggSchema": [],
       "aggSeriesLimitReached": false,
       "aggType": "",
       "arguments": {},
       "columnCustomDisplayInfos": {},
       "data": [
        [
         "poor",
         420,
         1437,
         0.23
        ],
        [
         "fair",
         708,
         2734,
         0.21
        ],
        [
         "very good",
         194,
         739,
         0.21
        ],
        [
         "excellent",
         272,
         1092,
         0.2
        ],
        [
         "good",
         444,
         1960,
         0.18
        ]
       ],
       "datasetInfos": [],
       "dbfsResultPath": null,
       "isJsonSchema": true,
       "metadata": {},
       "overflow": false,
       "plotOptions": {
        "customPlotOptions": {},
        "displayType": "table",
        "pivotAggregation": null,
        "pivotColumns": null,
        "xColumns": null,
        "yColumns": null
       },
       "removedWidgets": [],
       "schema": [
        {
         "metadata": "{}",
         "name": "credit_score_group",
         "type": "\"string\""
        },
        {
         "metadata": "{}",
         "name": "exited",
         "type": "\"long\""
        },
        {
         "metadata": "{}",
         "name": "not_exited",
         "type": "\"long\""
        },
        {
         "metadata": "{}",
         "name": "churn_rate",
         "type": "\"double\""
        }
       ],
       "type": "table"
      }
     },
     "output_type": "display_data"
    }
   ],
   "source": [
    "df_gold_credit = df_gold.groupBy(\"credit_score_group\").agg(count(when(col(\"exited\")==1, 1)).alias(\"exited\"), count(when(col(\"exited\")==0, 1)).alias(\"not_exited\"))\n",
    "df_gold_credit = df_gold_credit.withColumn(\"churn_rate\", round(col(\"exited\")/(col(\"exited\")+col(\"not_exited\")),2))\n",
    "display(df_gold_credit.orderBy(desc(\"churn_rate\")))"
   ]
  },
  {
   "cell_type": "markdown",
   "metadata": {
    "application/vnd.databricks.v1+cell": {
     "cellMetadata": {
      "byteLimit": 2048000,
      "rowLimit": 10000
     },
     "inputWidgets": {},
     "nuid": "86b8cf77-bb65-48e5-940e-603073d88e90",
     "showTitle": false,
     "tableResultSettingsMap": {},
     "title": ""
    }
   },
   "source": [
    "### Calculating Churn Rates by Salary"
   ]
  },
  {
   "cell_type": "code",
   "execution_count": 0,
   "metadata": {
    "application/vnd.databricks.v1+cell": {
     "cellMetadata": {
      "byteLimit": 2048000,
      "rowLimit": 10000
     },
     "inputWidgets": {},
     "nuid": "d26be167-46b5-49dc-bfc0-6bb11cab0d6d",
     "showTitle": false,
     "tableResultSettingsMap": {},
     "title": ""
    }
   },
   "outputs": [
    {
     "output_type": "display_data",
     "data": {
      "text/html": [
       "<style scoped>\n",
       "  .table-result-container {\n",
       "    max-height: 300px;\n",
       "    overflow: auto;\n",
       "  }\n",
       "  table, th, td {\n",
       "    border: 1px solid black;\n",
       "    border-collapse: collapse;\n",
       "  }\n",
       "  th, td {\n",
       "    padding: 5px;\n",
       "  }\n",
       "  th {\n",
       "    text-align: left;\n",
       "  }\n",
       "</style><div class='table-result-container'><table class='table-result'><thead style='background-color: white'><tr><th>estimated_salary_group</th><th>exited</th><th>not_exited</th><th>churn_rate</th></tr></thead><tbody><tr><td>High</td><td>556</td><td>2036</td><td>0.21</td></tr><tr><td>Medium-High</td><td>496</td><td>1969</td><td>0.2</td></tr><tr><td>Medium-Low</td><td>486</td><td>1961</td><td>0.2</td></tr><tr><td>Low</td><td>500</td><td>1996</td><td>0.2</td></tr></tbody></table></div>"
      ]
     },
     "metadata": {
      "application/vnd.databricks.v1+output": {
       "addedWidgets": {},
       "aggData": [],
       "aggError": "",
       "aggOverflow": false,
       "aggSchema": [],
       "aggSeriesLimitReached": false,
       "aggType": "",
       "arguments": {},
       "columnCustomDisplayInfos": {},
       "data": [
        [
         "High",
         556,
         2036,
         0.21
        ],
        [
         "Medium-High",
         496,
         1969,
         0.2
        ],
        [
         "Medium-Low",
         486,
         1961,
         0.2
        ],
        [
         "Low",
         500,
         1996,
         0.2
        ]
       ],
       "datasetInfos": [],
       "dbfsResultPath": null,
       "isJsonSchema": true,
       "metadata": {},
       "overflow": false,
       "plotOptions": {
        "customPlotOptions": {},
        "displayType": "table",
        "pivotAggregation": null,
        "pivotColumns": null,
        "xColumns": null,
        "yColumns": null
       },
       "removedWidgets": [],
       "schema": [
        {
         "metadata": "{}",
         "name": "estimated_salary_group",
         "type": "\"string\""
        },
        {
         "metadata": "{}",
         "name": "exited",
         "type": "\"long\""
        },
        {
         "metadata": "{}",
         "name": "not_exited",
         "type": "\"long\""
        },
        {
         "metadata": "{}",
         "name": "churn_rate",
         "type": "\"double\""
        }
       ],
       "type": "table"
      }
     },
     "output_type": "display_data"
    }
   ],
   "source": [
    "df_gold_salary = df_gold.groupBy(\"estimated_salary_group\").agg(count(when(col(\"exited\")==1, 1)).alias(\"exited\"), count(when(col(\"exited\")==0, 1)).alias(\"not_exited\"))\n",
    "df_gold_salary = df_gold_salary.withColumn(\"churn_rate\", round(col(\"exited\")/(col(\"exited\")+col(\"not_exited\")),2))\n",
    "display(df_gold_salary.orderBy(desc(\"churn_rate\")))\n"
   ]
  },
  {
   "cell_type": "markdown",
   "metadata": {
    "application/vnd.databricks.v1+cell": {
     "cellMetadata": {
      "byteLimit": 2048000,
      "rowLimit": 10000
     },
     "inputWidgets": {},
     "nuid": "c24f30c9-e1d3-497a-acee-e4c418288987",
     "showTitle": false,
     "tableResultSettingsMap": {},
     "title": ""
    }
   },
   "source": [
    "### Calculating Churn Rates by Satisfaction Score"
   ]
  },
  {
   "cell_type": "code",
   "execution_count": 0,
   "metadata": {
    "application/vnd.databricks.v1+cell": {
     "cellMetadata": {
      "byteLimit": 2048000,
      "rowLimit": 10000
     },
     "inputWidgets": {},
     "nuid": "33cc15eb-fa30-4d62-adf2-7ee08dc00ff7",
     "showTitle": false,
     "tableResultSettingsMap": {},
     "title": ""
    }
   },
   "outputs": [
    {
     "output_type": "display_data",
     "data": {
      "text/html": [
       "<style scoped>\n",
       "  .table-result-container {\n",
       "    max-height: 300px;\n",
       "    overflow: auto;\n",
       "  }\n",
       "  table, th, td {\n",
       "    border: 1px solid black;\n",
       "    border-collapse: collapse;\n",
       "  }\n",
       "  th, td {\n",
       "    padding: 5px;\n",
       "  }\n",
       "  th {\n",
       "    text-align: left;\n",
       "  }\n",
       "</style><div class='table-result-container'><table class='table-result'><thead style='background-color: white'><tr><th>satisfaction_score</th><th>exited</th><th>not_exited</th><th>churn_rate</th></tr></thead><tbody><tr><td>2</td><td>439</td><td>1575</td><td>0.22</td></tr><tr><td>4</td><td>414</td><td>1594</td><td>0.21</td></tr><tr><td>3</td><td>401</td><td>1641</td><td>0.2</td></tr><tr><td>1</td><td>387</td><td>1545</td><td>0.2</td></tr><tr><td>5</td><td>397</td><td>1607</td><td>0.2</td></tr></tbody></table></div>"
      ]
     },
     "metadata": {
      "application/vnd.databricks.v1+output": {
       "addedWidgets": {},
       "aggData": [],
       "aggError": "",
       "aggOverflow": false,
       "aggSchema": [],
       "aggSeriesLimitReached": false,
       "aggType": "",
       "arguments": {},
       "columnCustomDisplayInfos": {},
       "data": [
        [
         2,
         439,
         1575,
         0.22
        ],
        [
         4,
         414,
         1594,
         0.21
        ],
        [
         3,
         401,
         1641,
         0.2
        ],
        [
         1,
         387,
         1545,
         0.2
        ],
        [
         5,
         397,
         1607,
         0.2
        ]
       ],
       "datasetInfos": [],
       "dbfsResultPath": null,
       "isJsonSchema": true,
       "metadata": {},
       "overflow": false,
       "plotOptions": {
        "customPlotOptions": {},
        "displayType": "table",
        "pivotAggregation": null,
        "pivotColumns": null,
        "xColumns": null,
        "yColumns": null
       },
       "removedWidgets": [],
       "schema": [
        {
         "metadata": "{}",
         "name": "satisfaction_score",
         "type": "\"integer\""
        },
        {
         "metadata": "{}",
         "name": "exited",
         "type": "\"long\""
        },
        {
         "metadata": "{}",
         "name": "not_exited",
         "type": "\"long\""
        },
        {
         "metadata": "{}",
         "name": "churn_rate",
         "type": "\"double\""
        }
       ],
       "type": "table"
      }
     },
     "output_type": "display_data"
    }
   ],
   "source": [
    "df_gold_satisfaction = df_gold.groupBy(\"satisfaction_score\").agg(count(when(col(\"exited\")==1, 1)).alias(\"exited\"), count(when(col(\"exited\")==0, 1)).alias(\"not_exited\"))\n",
    "df_gold_satisfaction = df_gold_satisfaction.withColumn(\"churn_rate\", round(col(\"exited\")/(col(\"exited\")+col(\"not_exited\")),2))\n",
    "display(df_gold_satisfaction.orderBy(desc(\"churn_rate\")))"
   ]
  },
  {
   "cell_type": "markdown",
   "metadata": {
    "application/vnd.databricks.v1+cell": {
     "cellMetadata": {
      "byteLimit": 2048000,
      "rowLimit": 10000
     },
     "inputWidgets": {},
     "nuid": "dcb74d54-1282-401c-a254-208e44084b18",
     "showTitle": false,
     "tableResultSettingsMap": {},
     "title": ""
    }
   },
   "source": [
    "### Calculating Churn Rates by Points Earned"
   ]
  },
  {
   "cell_type": "code",
   "execution_count": 0,
   "metadata": {
    "application/vnd.databricks.v1+cell": {
     "cellMetadata": {
      "byteLimit": 2048000,
      "rowLimit": 10000
     },
     "inputWidgets": {},
     "nuid": "449713dc-c9ec-4443-8872-39548c92bea8",
     "showTitle": false,
     "tableResultSettingsMap": {},
     "title": ""
    }
   },
   "outputs": [
    {
     "output_type": "display_data",
     "data": {
      "text/html": [
       "<style scoped>\n",
       "  .table-result-container {\n",
       "    max-height: 300px;\n",
       "    overflow: auto;\n",
       "  }\n",
       "  table, th, td {\n",
       "    border: 1px solid black;\n",
       "    border-collapse: collapse;\n",
       "  }\n",
       "  th, td {\n",
       "    padding: 5px;\n",
       "  }\n",
       "  th {\n",
       "    text-align: left;\n",
       "  }\n",
       "</style><div class='table-result-container'><table class='table-result'><thead style='background-color: white'><tr><th>point_earned_group</th><th>exited</th><th>not_exited</th><th>churn_rate</th></tr></thead><tbody><tr><td>501-750</td><td>668</td><td>2579</td><td>0.21</td></tr><tr><td>251-500</td><td>645</td><td>2520</td><td>0.2</td></tr><tr><td>0-250</td><td>86</td><td>345</td><td>0.2</td></tr><tr><td>751-1000</td><td>639</td><td>2518</td><td>0.2</td></tr></tbody></table></div>"
      ]
     },
     "metadata": {
      "application/vnd.databricks.v1+output": {
       "addedWidgets": {},
       "aggData": [],
       "aggError": "",
       "aggOverflow": false,
       "aggSchema": [],
       "aggSeriesLimitReached": false,
       "aggType": "",
       "arguments": {},
       "columnCustomDisplayInfos": {},
       "data": [
        [
         "501-750",
         668,
         2579,
         0.21
        ],
        [
         "251-500",
         645,
         2520,
         0.2
        ],
        [
         "0-250",
         86,
         345,
         0.2
        ],
        [
         "751-1000",
         639,
         2518,
         0.2
        ]
       ],
       "datasetInfos": [],
       "dbfsResultPath": null,
       "isJsonSchema": true,
       "metadata": {},
       "overflow": false,
       "plotOptions": {
        "customPlotOptions": {},
        "displayType": "table",
        "pivotAggregation": null,
        "pivotColumns": null,
        "xColumns": null,
        "yColumns": null
       },
       "removedWidgets": [],
       "schema": [
        {
         "metadata": "{}",
         "name": "point_earned_group",
         "type": "\"string\""
        },
        {
         "metadata": "{}",
         "name": "exited",
         "type": "\"long\""
        },
        {
         "metadata": "{}",
         "name": "not_exited",
         "type": "\"long\""
        },
        {
         "metadata": "{}",
         "name": "churn_rate",
         "type": "\"double\""
        }
       ],
       "type": "table"
      }
     },
     "output_type": "display_data"
    }
   ],
   "source": [
    "df_gold_points = df_gold.groupBy(\"point_earned_group\").agg(count(when(col(\"exited\")==1, 1)).alias(\"exited\"), count(when(col(\"exited\")==0, 1)).alias(\"not_exited\"))\n",
    "df_gold_points = df_gold_points.withColumn(\"churn_rate\", round(col(\"exited\")/(col(\"exited\")+col(\"not_exited\")),2))\n",
    "display(df_gold_points.orderBy(desc(\"churn_rate\")))"
   ]
  },
  {
   "cell_type": "markdown",
   "metadata": {
    "application/vnd.databricks.v1+cell": {
     "cellMetadata": {
      "byteLimit": 2048000,
      "rowLimit": 10000
     },
     "inputWidgets": {},
     "nuid": "5f7cbeb3-d389-46da-8717-93412f5ed65b",
     "showTitle": false,
     "tableResultSettingsMap": {},
     "title": ""
    }
   },
   "source": [
    "### Calculating Churn Rates by Tenure"
   ]
  },
  {
   "cell_type": "code",
   "execution_count": 0,
   "metadata": {
    "application/vnd.databricks.v1+cell": {
     "cellMetadata": {
      "byteLimit": 2048000,
      "rowLimit": 10000
     },
     "inputWidgets": {},
     "nuid": "a193a3c7-2ea7-44dc-bac7-2e53548b29e1",
     "showTitle": false,
     "tableResultSettingsMap": {},
     "title": ""
    }
   },
   "outputs": [
    {
     "output_type": "display_data",
     "data": {
      "text/html": [
       "<style scoped>\n",
       "  .table-result-container {\n",
       "    max-height: 300px;\n",
       "    overflow: auto;\n",
       "  }\n",
       "  table, th, td {\n",
       "    border: 1px solid black;\n",
       "    border-collapse: collapse;\n",
       "  }\n",
       "  th, td {\n",
       "    padding: 5px;\n",
       "  }\n",
       "  th {\n",
       "    text-align: left;\n",
       "  }\n",
       "</style><div class='table-result-container'><table class='table-result'><thead style='background-color: white'><tr><th>tenure</th><th>exited</th><th>not_exited</th><th>churn_rate</th></tr></thead><tbody><tr><td>0</td><td>95</td><td>318</td><td>0.23</td></tr><tr><td>1</td><td>232</td><td>803</td><td>0.22</td></tr><tr><td>9</td><td>214</td><td>770</td><td>0.22</td></tr><tr><td>3</td><td>213</td><td>796</td><td>0.21</td></tr><tr><td>10</td><td>101</td><td>389</td><td>0.21</td></tr><tr><td>5</td><td>209</td><td>803</td><td>0.21</td></tr><tr><td>4</td><td>203</td><td>786</td><td>0.21</td></tr><tr><td>6</td><td>196</td><td>771</td><td>0.2</td></tr><tr><td>8</td><td>197</td><td>828</td><td>0.19</td></tr><tr><td>2</td><td>201</td><td>847</td><td>0.19</td></tr><tr><td>7</td><td>177</td><td>851</td><td>0.17</td></tr></tbody></table></div>"
      ]
     },
     "metadata": {
      "application/vnd.databricks.v1+output": {
       "addedWidgets": {},
       "aggData": [],
       "aggError": "",
       "aggOverflow": false,
       "aggSchema": [],
       "aggSeriesLimitReached": false,
       "aggType": "",
       "arguments": {},
       "columnCustomDisplayInfos": {},
       "data": [
        [
         0,
         95,
         318,
         0.23
        ],
        [
         1,
         232,
         803,
         0.22
        ],
        [
         9,
         214,
         770,
         0.22
        ],
        [
         3,
         213,
         796,
         0.21
        ],
        [
         10,
         101,
         389,
         0.21
        ],
        [
         5,
         209,
         803,
         0.21
        ],
        [
         4,
         203,
         786,
         0.21
        ],
        [
         6,
         196,
         771,
         0.2
        ],
        [
         8,
         197,
         828,
         0.19
        ],
        [
         2,
         201,
         847,
         0.19
        ],
        [
         7,
         177,
         851,
         0.17
        ]
       ],
       "datasetInfos": [],
       "dbfsResultPath": null,
       "isJsonSchema": true,
       "metadata": {},
       "overflow": false,
       "plotOptions": {
        "customPlotOptions": {},
        "displayType": "table",
        "pivotAggregation": null,
        "pivotColumns": null,
        "xColumns": null,
        "yColumns": null
       },
       "removedWidgets": [],
       "schema": [
        {
         "metadata": "{}",
         "name": "tenure",
         "type": "\"integer\""
        },
        {
         "metadata": "{}",
         "name": "exited",
         "type": "\"long\""
        },
        {
         "metadata": "{}",
         "name": "not_exited",
         "type": "\"long\""
        },
        {
         "metadata": "{}",
         "name": "churn_rate",
         "type": "\"double\""
        }
       ],
       "type": "table"
      }
     },
     "output_type": "display_data"
    }
   ],
   "source": [
    "df_gold_tenure = df_gold.groupBy(\"tenure\").agg(count(when(col(\"exited\")==1, 1)).alias(\"exited\"), count(when(col(\"exited\")==0, 1)).alias(\"not_exited\"))\n",
    "df_gold_tenure = df_gold_tenure.withColumn(\"churn_rate\", round(col(\"exited\")/(col(\"exited\")+col(\"not_exited\")),2))\n",
    "display(df_gold_tenure.orderBy(desc(\"churn_rate\")))"
   ]
  },
  {
   "cell_type": "markdown",
   "metadata": {
    "application/vnd.databricks.v1+cell": {
     "cellMetadata": {
      "byteLimit": 2048000,
      "rowLimit": 10000
     },
     "inputWidgets": {},
     "nuid": "8c664548-cb82-4399-bf1d-bcae41cf0bb5",
     "showTitle": false,
     "tableResultSettingsMap": {},
     "title": ""
    }
   },
   "source": [
    "### Calculating Churn Rates by Card Type"
   ]
  },
  {
   "cell_type": "code",
   "execution_count": 0,
   "metadata": {
    "application/vnd.databricks.v1+cell": {
     "cellMetadata": {
      "byteLimit": 2048000,
      "rowLimit": 10000
     },
     "inputWidgets": {},
     "nuid": "262706e4-407f-4cf9-8189-765ce2b6e522",
     "showTitle": false,
     "tableResultSettingsMap": {},
     "title": ""
    }
   },
   "outputs": [
    {
     "output_type": "display_data",
     "data": {
      "text/html": [
       "<style scoped>\n",
       "  .table-result-container {\n",
       "    max-height: 300px;\n",
       "    overflow: auto;\n",
       "  }\n",
       "  table, th, td {\n",
       "    border: 1px solid black;\n",
       "    border-collapse: collapse;\n",
       "  }\n",
       "  th, td {\n",
       "    padding: 5px;\n",
       "  }\n",
       "  th {\n",
       "    text-align: left;\n",
       "  }\n",
       "</style><div class='table-result-container'><table class='table-result'><thead style='background-color: white'><tr><th>card_type</th><th>exited</th><th>not_exited</th><th>churn_rate</th></tr></thead><tbody><tr><td>DIAMOND</td><td>546</td><td>1961</td><td>0.22</td></tr><tr><td>SILVER</td><td>502</td><td>1994</td><td>0.2</td></tr><tr><td>PLATINUM</td><td>508</td><td>1987</td><td>0.2</td></tr><tr><td>GOLD</td><td>482</td><td>2020</td><td>0.19</td></tr></tbody></table></div>"
      ]
     },
     "metadata": {
      "application/vnd.databricks.v1+output": {
       "addedWidgets": {},
       "aggData": [],
       "aggError": "",
       "aggOverflow": false,
       "aggSchema": [],
       "aggSeriesLimitReached": false,
       "aggType": "",
       "arguments": {},
       "columnCustomDisplayInfos": {},
       "data": [
        [
         "DIAMOND",
         546,
         1961,
         0.22
        ],
        [
         "SILVER",
         502,
         1994,
         0.2
        ],
        [
         "PLATINUM",
         508,
         1987,
         0.2
        ],
        [
         "GOLD",
         482,
         2020,
         0.19
        ]
       ],
       "datasetInfos": [],
       "dbfsResultPath": null,
       "isJsonSchema": true,
       "metadata": {},
       "overflow": false,
       "plotOptions": {
        "customPlotOptions": {},
        "displayType": "table",
        "pivotAggregation": null,
        "pivotColumns": null,
        "xColumns": null,
        "yColumns": null
       },
       "removedWidgets": [],
       "schema": [
        {
         "metadata": "{}",
         "name": "card_type",
         "type": "\"string\""
        },
        {
         "metadata": "{}",
         "name": "exited",
         "type": "\"long\""
        },
        {
         "metadata": "{}",
         "name": "not_exited",
         "type": "\"long\""
        },
        {
         "metadata": "{}",
         "name": "churn_rate",
         "type": "\"double\""
        }
       ],
       "type": "table"
      }
     },
     "output_type": "display_data"
    }
   ],
   "source": [
    "df_gold_card_type = df_gold.groupBy(\"card_type\").agg(count(when(col(\"exited\")==1, 1)).alias(\"exited\"), count(when(col(\"exited\")==0, 1)).alias(\"not_exited\"))\n",
    "df_gold_card_type = df_gold_card_type.withColumn(\"churn_rate\", round(col(\"exited\")/(col(\"exited\")+col(\"not_exited\")),2))\n",
    "display(df_gold_card_type.orderBy(desc(\"churn_rate\")))"
   ]
  },
  {
   "cell_type": "markdown",
   "metadata": {
    "application/vnd.databricks.v1+cell": {
     "cellMetadata": {
      "byteLimit": 2048000,
      "rowLimit": 10000
     },
     "inputWidgets": {},
     "nuid": "3635b83a-df19-4249-866c-0df778e043a7",
     "showTitle": false,
     "tableResultSettingsMap": {},
     "title": ""
    }
   },
   "source": [
    "### Calculating Churn Rates by Credit Card Ownership"
   ]
  },
  {
   "cell_type": "code",
   "execution_count": 0,
   "metadata": {
    "application/vnd.databricks.v1+cell": {
     "cellMetadata": {
      "byteLimit": 2048000,
      "rowLimit": 10000
     },
     "inputWidgets": {},
     "nuid": "255e23b5-1bc4-481c-9eb9-61d0a2063cda",
     "showTitle": false,
     "tableResultSettingsMap": {},
     "title": ""
    }
   },
   "outputs": [
    {
     "output_type": "display_data",
     "data": {
      "text/html": [
       "<style scoped>\n",
       "  .table-result-container {\n",
       "    max-height: 300px;\n",
       "    overflow: auto;\n",
       "  }\n",
       "  table, th, td {\n",
       "    border: 1px solid black;\n",
       "    border-collapse: collapse;\n",
       "  }\n",
       "  th, td {\n",
       "    padding: 5px;\n",
       "  }\n",
       "  th {\n",
       "    text-align: left;\n",
       "  }\n",
       "</style><div class='table-result-container'><table class='table-result'><thead style='background-color: white'><tr><th>has_cr_card</th><th>exited</th><th>not_exited</th><th>churn_rate</th></tr></thead><tbody><tr><td>0</td><td>613</td><td>2332</td><td>0.21</td></tr><tr><td>1</td><td>1425</td><td>5630</td><td>0.2</td></tr></tbody></table></div>"
      ]
     },
     "metadata": {
      "application/vnd.databricks.v1+output": {
       "addedWidgets": {},
       "aggData": [],
       "aggError": "",
       "aggOverflow": false,
       "aggSchema": [],
       "aggSeriesLimitReached": false,
       "aggType": "",
       "arguments": {},
       "columnCustomDisplayInfos": {},
       "data": [
        [
         0,
         613,
         2332,
         0.21
        ],
        [
         1,
         1425,
         5630,
         0.2
        ]
       ],
       "datasetInfos": [],
       "dbfsResultPath": null,
       "isJsonSchema": true,
       "metadata": {},
       "overflow": false,
       "plotOptions": {
        "customPlotOptions": {},
        "displayType": "table",
        "pivotAggregation": null,
        "pivotColumns": null,
        "xColumns": null,
        "yColumns": null
       },
       "removedWidgets": [],
       "schema": [
        {
         "metadata": "{}",
         "name": "has_cr_card",
         "type": "\"integer\""
        },
        {
         "metadata": "{}",
         "name": "exited",
         "type": "\"long\""
        },
        {
         "metadata": "{}",
         "name": "not_exited",
         "type": "\"long\""
        },
        {
         "metadata": "{}",
         "name": "churn_rate",
         "type": "\"double\""
        }
       ],
       "type": "table"
      }
     },
     "output_type": "display_data"
    }
   ],
   "source": [
    "df_gold_credit_card = df_gold.groupBy(\"has_cr_card\").agg(count(when(col(\"exited\")==1, 1)).alias(\"exited\"), count(when(col(\"exited\")==0, 1)).alias(\"not_exited\"))\n",
    "df_gold_credit_card = df_gold_credit_card.withColumn(\"churn_rate\", round(col(\"exited\")/(col(\"exited\")+col(\"not_exited\")),2))\n",
    "display(df_gold_credit_card.orderBy(desc(\"churn_rate\")))"
   ]
  },
  {
   "cell_type": "markdown",
   "metadata": {
    "application/vnd.databricks.v1+cell": {
     "cellMetadata": {
      "byteLimit": 2048000,
      "rowLimit": 10000
     },
     "inputWidgets": {},
     "nuid": "5eafdba2-1075-42bb-a657-c6109ece210c",
     "showTitle": false,
     "tableResultSettingsMap": {},
     "title": ""
    }
   },
   "source": [
    "### Calculating Churn Rates by Geography"
   ]
  },
  {
   "cell_type": "code",
   "execution_count": 0,
   "metadata": {
    "application/vnd.databricks.v1+cell": {
     "cellMetadata": {
      "byteLimit": 2048000,
      "rowLimit": 10000
     },
     "inputWidgets": {},
     "nuid": "502cee2e-4070-4787-838a-890e6a35f33c",
     "showTitle": false,
     "tableResultSettingsMap": {},
     "title": ""
    }
   },
   "outputs": [
    {
     "output_type": "display_data",
     "data": {
      "text/html": [
       "<style scoped>\n",
       "  .table-result-container {\n",
       "    max-height: 300px;\n",
       "    overflow: auto;\n",
       "  }\n",
       "  table, th, td {\n",
       "    border: 1px solid black;\n",
       "    border-collapse: collapse;\n",
       "  }\n",
       "  th, td {\n",
       "    padding: 5px;\n",
       "  }\n",
       "  th {\n",
       "    text-align: left;\n",
       "  }\n",
       "</style><div class='table-result-container'><table class='table-result'><thead style='background-color: white'><tr><th>geography</th><th>exited</th><th>not_exited</th><th>churn_rate</th></tr></thead><tbody><tr><td>Germany</td><td>814</td><td>1695</td><td>0.32</td></tr><tr><td>Spain</td><td>413</td><td>2064</td><td>0.17</td></tr><tr><td>France</td><td>811</td><td>4203</td><td>0.16</td></tr></tbody></table></div>"
      ]
     },
     "metadata": {
      "application/vnd.databricks.v1+output": {
       "addedWidgets": {},
       "aggData": [],
       "aggError": "",
       "aggOverflow": false,
       "aggSchema": [],
       "aggSeriesLimitReached": false,
       "aggType": "",
       "arguments": {},
       "columnCustomDisplayInfos": {},
       "data": [
        [
         "Germany",
         814,
         1695,
         0.32
        ],
        [
         "Spain",
         413,
         2064,
         0.17
        ],
        [
         "France",
         811,
         4203,
         0.16
        ]
       ],
       "datasetInfos": [],
       "dbfsResultPath": null,
       "isJsonSchema": true,
       "metadata": {},
       "overflow": false,
       "plotOptions": {
        "customPlotOptions": {},
        "displayType": "table",
        "pivotAggregation": null,
        "pivotColumns": null,
        "xColumns": null,
        "yColumns": null
       },
       "removedWidgets": [],
       "schema": [
        {
         "metadata": "{}",
         "name": "geography",
         "type": "\"string\""
        },
        {
         "metadata": "{}",
         "name": "exited",
         "type": "\"long\""
        },
        {
         "metadata": "{}",
         "name": "not_exited",
         "type": "\"long\""
        },
        {
         "metadata": "{}",
         "name": "churn_rate",
         "type": "\"double\""
        }
       ],
       "type": "table"
      }
     },
     "output_type": "display_data"
    }
   ],
   "source": [
    "df_gold_geo = df_gold.groupBy(\"geography\").agg(count(when(col(\"exited\")==1, 1)).alias(\"exited\"), count(when(col(\"exited\")==0, 1)).alias(\"not_exited\"))\n",
    "df_gold_geo = df_gold_geo.withColumn(\"churn_rate\", round(col(\"exited\")/(col(\"exited\")+col(\"not_exited\")),2))\n",
    "display(df_gold_geo)"
   ]
  },
  {
   "cell_type": "markdown",
   "metadata": {
    "application/vnd.databricks.v1+cell": {
     "cellMetadata": {
      "byteLimit": 2048000,
      "rowLimit": 10000
     },
     "inputWidgets": {},
     "nuid": "173f5e38-7612-474f-bc6a-7816465e9869",
     "showTitle": false,
     "tableResultSettingsMap": {},
     "title": ""
    }
   },
   "source": [
    "### Calculating Churn Rates by Age "
   ]
  },
  {
   "cell_type": "code",
   "execution_count": 0,
   "metadata": {
    "application/vnd.databricks.v1+cell": {
     "cellMetadata": {
      "byteLimit": 2048000,
      "rowLimit": 10000
     },
     "inputWidgets": {},
     "nuid": "5a2d549e-02a9-495c-b079-22c9cdbba4ff",
     "showTitle": false,
     "tableResultSettingsMap": {
      "0": {
       "dataGridStateBlob": "{\"version\":1,\"tableState\":{\"columnPinning\":{\"left\":[\"#row_number#\"],\"right\":[]},\"columnSizing\":{},\"columnVisibility\":{}},\"settings\":{\"columns\":{}},\"syncTimestamp\":1753805243670}",
       "filterBlob": null,
       "queryPlanFiltersBlob": null,
       "tableResultIndex": 0
      }
     },
     "title": ""
    }
   },
   "outputs": [
    {
     "output_type": "display_data",
     "data": {
      "text/html": [
       "<style scoped>\n",
       "  .table-result-container {\n",
       "    max-height: 300px;\n",
       "    overflow: auto;\n",
       "  }\n",
       "  table, th, td {\n",
       "    border: 1px solid black;\n",
       "    border-collapse: collapse;\n",
       "  }\n",
       "  th, td {\n",
       "    padding: 5px;\n",
       "  }\n",
       "  th {\n",
       "    text-align: left;\n",
       "  }\n",
       "</style><div class='table-result-container'><table class='table-result'><thead style='background-color: white'><tr><th>age_group</th><th>exited</th><th>not_exited</th><th>churn_rate</th></tr></thead><tbody><tr><td>55-64</td><td>299</td><td>301</td><td>0.5</td></tr><tr><td>45-54</td><td>702</td><td>756</td><td>0.48</td></tr><tr><td>35-44</td><td>704</td><td>3277</td><td>0.18</td></tr><tr><td>65+</td><td>43</td><td>239</td><td>0.15</td></tr><tr><td>18-24</td><td>40</td><td>417</td><td>0.09</td></tr><tr><td>25-34</td><td>250</td><td>2972</td><td>0.08</td></tr></tbody></table></div>"
      ]
     },
     "metadata": {
      "application/vnd.databricks.v1+output": {
       "addedWidgets": {},
       "aggData": [],
       "aggError": "",
       "aggOverflow": false,
       "aggSchema": [],
       "aggSeriesLimitReached": false,
       "aggType": "",
       "arguments": {},
       "columnCustomDisplayInfos": {},
       "data": [
        [
         "55-64",
         299,
         301,
         0.5
        ],
        [
         "45-54",
         702,
         756,
         0.48
        ],
        [
         "35-44",
         704,
         3277,
         0.18
        ],
        [
         "65+",
         43,
         239,
         0.15
        ],
        [
         "18-24",
         40,
         417,
         0.09
        ],
        [
         "25-34",
         250,
         2972,
         0.08
        ]
       ],
       "datasetInfos": [],
       "dbfsResultPath": null,
       "isJsonSchema": true,
       "metadata": {},
       "overflow": false,
       "plotOptions": {
        "customPlotOptions": {},
        "displayType": "table",
        "pivotAggregation": null,
        "pivotColumns": null,
        "xColumns": null,
        "yColumns": null
       },
       "removedWidgets": [],
       "schema": [
        {
         "metadata": "{}",
         "name": "age_group",
         "type": "\"string\""
        },
        {
         "metadata": "{}",
         "name": "exited",
         "type": "\"long\""
        },
        {
         "metadata": "{}",
         "name": "not_exited",
         "type": "\"long\""
        },
        {
         "metadata": "{}",
         "name": "churn_rate",
         "type": "\"double\""
        }
       ],
       "type": "table"
      }
     },
     "output_type": "display_data"
    }
   ],
   "source": [
    "df_gold_age = df_gold.groupBy(\"age_group\").agg(count(when(col(\"exited\")==1, 1)).alias(\"exited\"), count(when(col(\"exited\")==0, 1)).alias(\"not_exited\"))\n",
    "df_gold_age = df_gold_age.withColumn(\"churn_rate\", round(col(\"exited\")/(col(\"exited\")+col(\"not_exited\")),2))\n",
    "display(df_gold_age.orderBy(desc(\"churn_rate\")))\n"
   ]
  },
  {
   "cell_type": "markdown",
   "metadata": {
    "application/vnd.databricks.v1+cell": {
     "cellMetadata": {
      "byteLimit": 2048000,
      "rowLimit": 10000
     },
     "inputWidgets": {},
     "nuid": "a2ae0395-3e03-4cb6-8c46-e82fd729a51b",
     "showTitle": false,
     "tableResultSettingsMap": {},
     "title": ""
    }
   },
   "source": [
    "### Calculating Churn Rates by Number of Products"
   ]
  },
  {
   "cell_type": "code",
   "execution_count": 0,
   "metadata": {
    "application/vnd.databricks.v1+cell": {
     "cellMetadata": {
      "byteLimit": 2048000,
      "rowLimit": 10000
     },
     "inputWidgets": {},
     "nuid": "7398abb4-d0a2-4c46-9426-26a86374c785",
     "showTitle": false,
     "tableResultSettingsMap": {},
     "title": ""
    }
   },
   "outputs": [
    {
     "output_type": "display_data",
     "data": {
      "text/html": [
       "<style scoped>\n",
       "  .table-result-container {\n",
       "    max-height: 300px;\n",
       "    overflow: auto;\n",
       "  }\n",
       "  table, th, td {\n",
       "    border: 1px solid black;\n",
       "    border-collapse: collapse;\n",
       "  }\n",
       "  th, td {\n",
       "    padding: 5px;\n",
       "  }\n",
       "  th {\n",
       "    text-align: left;\n",
       "  }\n",
       "</style><div class='table-result-container'><table class='table-result'><thead style='background-color: white'><tr><th>num_of_products</th><th>exited</th><th>not_exited</th><th>churn_rate</th></tr></thead><tbody><tr><td>4</td><td>60</td><td>0</td><td>1.0</td></tr><tr><td>3</td><td>220</td><td>46</td><td>0.83</td></tr><tr><td>1</td><td>1409</td><td>3675</td><td>0.28</td></tr><tr><td>2</td><td>349</td><td>4241</td><td>0.08</td></tr></tbody></table></div>"
      ]
     },
     "metadata": {
      "application/vnd.databricks.v1+output": {
       "addedWidgets": {},
       "aggData": [],
       "aggError": "",
       "aggOverflow": false,
       "aggSchema": [],
       "aggSeriesLimitReached": false,
       "aggType": "",
       "arguments": {},
       "columnCustomDisplayInfos": {},
       "data": [
        [
         4,
         60,
         0,
         1.0
        ],
        [
         3,
         220,
         46,
         0.83
        ],
        [
         1,
         1409,
         3675,
         0.28
        ],
        [
         2,
         349,
         4241,
         0.08
        ]
       ],
       "datasetInfos": [],
       "dbfsResultPath": null,
       "isJsonSchema": true,
       "metadata": {},
       "overflow": false,
       "plotOptions": {
        "customPlotOptions": {},
        "displayType": "table",
        "pivotAggregation": null,
        "pivotColumns": null,
        "xColumns": null,
        "yColumns": null
       },
       "removedWidgets": [],
       "schema": [
        {
         "metadata": "{}",
         "name": "num_of_products",
         "type": "\"integer\""
        },
        {
         "metadata": "{}",
         "name": "exited",
         "type": "\"long\""
        },
        {
         "metadata": "{}",
         "name": "not_exited",
         "type": "\"long\""
        },
        {
         "metadata": "{}",
         "name": "churn_rate",
         "type": "\"double\""
        }
       ],
       "type": "table"
      }
     },
     "output_type": "display_data"
    }
   ],
   "source": [
    "df_gold_number_of_products = df_gold.groupBy(\"num_of_products\").agg(count(when(col(\"exited\")==1, 1)).alias(\"exited\"), count(when(col(\"exited\")==0, 1)).alias(\"not_exited\"))\n",
    "df_gold_number_of_products = df_gold_number_of_products.withColumn(\"churn_rate\", round(col(\"exited\")/(col(\"exited\")+col(\"not_exited\")),2))\n",
    "display(df_gold_number_of_products.orderBy(desc(\"churn_rate\")))"
   ]
  },
  {
   "cell_type": "markdown",
   "metadata": {
    "application/vnd.databricks.v1+cell": {
     "cellMetadata": {
      "byteLimit": 2048000,
      "rowLimit": 10000
     },
     "inputWidgets": {},
     "nuid": "d7b80f1a-e64d-465d-8c1b-a7dabb58f2db",
     "showTitle": false,
     "tableResultSettingsMap": {},
     "title": ""
    }
   },
   "source": [
    "### Calculating Churn Rates by Account Activity"
   ]
  },
  {
   "cell_type": "code",
   "execution_count": 0,
   "metadata": {
    "application/vnd.databricks.v1+cell": {
     "cellMetadata": {
      "byteLimit": 2048000,
      "rowLimit": 10000
     },
     "inputWidgets": {},
     "nuid": "0e4dea02-c24e-4edd-bfd7-86df54602ba5",
     "showTitle": false,
     "tableResultSettingsMap": {},
     "title": ""
    }
   },
   "outputs": [
    {
     "output_type": "display_data",
     "data": {
      "text/html": [
       "<style scoped>\n",
       "  .table-result-container {\n",
       "    max-height: 300px;\n",
       "    overflow: auto;\n",
       "  }\n",
       "  table, th, td {\n",
       "    border: 1px solid black;\n",
       "    border-collapse: collapse;\n",
       "  }\n",
       "  th, td {\n",
       "    padding: 5px;\n",
       "  }\n",
       "  th {\n",
       "    text-align: left;\n",
       "  }\n",
       "</style><div class='table-result-container'><table class='table-result'><thead style='background-color: white'><tr><th>is_active_member</th><th>exited</th><th>not_exited</th><th>churn_rate</th></tr></thead><tbody><tr><td>0</td><td>1303</td><td>3546</td><td>0.27</td></tr><tr><td>1</td><td>735</td><td>4416</td><td>0.14</td></tr></tbody></table></div>"
      ]
     },
     "metadata": {
      "application/vnd.databricks.v1+output": {
       "addedWidgets": {},
       "aggData": [],
       "aggError": "",
       "aggOverflow": false,
       "aggSchema": [],
       "aggSeriesLimitReached": false,
       "aggType": "",
       "arguments": {},
       "columnCustomDisplayInfos": {},
       "data": [
        [
         0,
         1303,
         3546,
         0.27
        ],
        [
         1,
         735,
         4416,
         0.14
        ]
       ],
       "datasetInfos": [],
       "dbfsResultPath": null,
       "isJsonSchema": true,
       "metadata": {},
       "overflow": false,
       "plotOptions": {
        "customPlotOptions": {},
        "displayType": "table",
        "pivotAggregation": null,
        "pivotColumns": null,
        "xColumns": null,
        "yColumns": null
       },
       "removedWidgets": [],
       "schema": [
        {
         "metadata": "{}",
         "name": "is_active_member",
         "type": "\"integer\""
        },
        {
         "metadata": "{}",
         "name": "exited",
         "type": "\"long\""
        },
        {
         "metadata": "{}",
         "name": "not_exited",
         "type": "\"long\""
        },
        {
         "metadata": "{}",
         "name": "churn_rate",
         "type": "\"double\""
        }
       ],
       "type": "table"
      }
     },
     "output_type": "display_data"
    }
   ],
   "source": [
    "df_gold_active = df_gold.groupBy(\"is_active_member\").agg(count(when(col(\"exited\")==1, 1)).alias(\"exited\"), count(when(col(\"exited\")==0, 1)).alias(\"not_exited\"))\n",
    "df_gold_active = df_gold_active.withColumn(\"churn_rate\", round(col(\"exited\")/(col(\"exited\")+col(\"not_exited\")),2))\n",
    "display(df_gold_active.orderBy(desc(\"churn_rate\")))\n"
   ]
  },
  {
   "cell_type": "markdown",
   "metadata": {
    "application/vnd.databricks.v1+cell": {
     "cellMetadata": {
      "byteLimit": 2048000,
      "rowLimit": 10000
     },
     "inputWidgets": {},
     "nuid": "6a795f71-82db-43a7-9c79-0e70898cfe01",
     "showTitle": false,
     "tableResultSettingsMap": {},
     "title": ""
    }
   },
   "source": [
    "### Calculating Churn Rates by Customer Complaint"
   ]
  },
  {
   "cell_type": "code",
   "execution_count": 0,
   "metadata": {
    "application/vnd.databricks.v1+cell": {
     "cellMetadata": {
      "byteLimit": 2048000,
      "rowLimit": 10000
     },
     "inputWidgets": {},
     "nuid": "1e79c244-b52a-402f-b7dc-8cb3175d6119",
     "showTitle": false,
     "tableResultSettingsMap": {},
     "title": ""
    }
   },
   "outputs": [
    {
     "output_type": "display_data",
     "data": {
      "text/html": [
       "<style scoped>\n",
       "  .table-result-container {\n",
       "    max-height: 300px;\n",
       "    overflow: auto;\n",
       "  }\n",
       "  table, th, td {\n",
       "    border: 1px solid black;\n",
       "    border-collapse: collapse;\n",
       "  }\n",
       "  th, td {\n",
       "    padding: 5px;\n",
       "  }\n",
       "  th {\n",
       "    text-align: left;\n",
       "  }\n",
       "</style><div class='table-result-container'><table class='table-result'><thead style='background-color: white'><tr><th>complain</th><th>exited</th><th>not_exited</th><th>churn_rate</th></tr></thead><tbody><tr><td>1</td><td>2034</td><td>10</td><td>1.0</td></tr><tr><td>0</td><td>4</td><td>7952</td><td>0.0</td></tr></tbody></table></div>"
      ]
     },
     "metadata": {
      "application/vnd.databricks.v1+output": {
       "addedWidgets": {},
       "aggData": [],
       "aggError": "",
       "aggOverflow": false,
       "aggSchema": [],
       "aggSeriesLimitReached": false,
       "aggType": "",
       "arguments": {},
       "columnCustomDisplayInfos": {},
       "data": [
        [
         1,
         2034,
         10,
         1.0
        ],
        [
         0,
         4,
         7952,
         0.0
        ]
       ],
       "datasetInfos": [],
       "dbfsResultPath": null,
       "isJsonSchema": true,
       "metadata": {},
       "overflow": false,
       "plotOptions": {
        "customPlotOptions": {},
        "displayType": "table",
        "pivotAggregation": null,
        "pivotColumns": null,
        "xColumns": null,
        "yColumns": null
       },
       "removedWidgets": [],
       "schema": [
        {
         "metadata": "{}",
         "name": "complain",
         "type": "\"integer\""
        },
        {
         "metadata": "{}",
         "name": "exited",
         "type": "\"long\""
        },
        {
         "metadata": "{}",
         "name": "not_exited",
         "type": "\"long\""
        },
        {
         "metadata": "{}",
         "name": "churn_rate",
         "type": "\"double\""
        }
       ],
       "type": "table"
      }
     },
     "output_type": "display_data"
    }
   ],
   "source": [
    "df_gold_complain = df_gold.groupBy(\"complain\").agg(count(when(col(\"exited\")==1, 1)).alias(\"exited\"), count(when(col(\"exited\")==0, 1)).alias(\"not_exited\"))\n",
    "df_gold_complain = df_gold_complain.withColumn(\"churn_rate\", round(col(\"exited\")/(col(\"exited\")+col(\"not_exited\")),2))\n",
    "display(df_gold_complain.orderBy(desc(\"churn_rate\")))\n"
   ]
  },
  {
   "cell_type": "markdown",
   "metadata": {
    "application/vnd.databricks.v1+cell": {
     "cellMetadata": {
      "byteLimit": 2048000,
      "rowLimit": 10000
     },
     "inputWidgets": {},
     "nuid": "129e658d-b4b6-4d3a-bf50-844f497ecabb",
     "showTitle": false,
     "tableResultSettingsMap": {},
     "title": ""
    }
   },
   "source": [
    "### Calculating Churn Rates by Gender"
   ]
  },
  {
   "cell_type": "code",
   "execution_count": 0,
   "metadata": {
    "application/vnd.databricks.v1+cell": {
     "cellMetadata": {
      "byteLimit": 2048000,
      "rowLimit": 10000
     },
     "inputWidgets": {},
     "nuid": "4b7aac4d-df71-4c2f-a9d8-bebb59ea97a8",
     "showTitle": false,
     "tableResultSettingsMap": {},
     "title": ""
    }
   },
   "outputs": [
    {
     "output_type": "display_data",
     "data": {
      "text/html": [
       "<style scoped>\n",
       "  .table-result-container {\n",
       "    max-height: 300px;\n",
       "    overflow: auto;\n",
       "  }\n",
       "  table, th, td {\n",
       "    border: 1px solid black;\n",
       "    border-collapse: collapse;\n",
       "  }\n",
       "  th, td {\n",
       "    padding: 5px;\n",
       "  }\n",
       "  th {\n",
       "    text-align: left;\n",
       "  }\n",
       "</style><div class='table-result-container'><table class='table-result'><thead style='background-color: white'><tr><th>gender</th><th>exited</th><th>not_exited</th><th>churn_rate</th></tr></thead><tbody><tr><td>Female</td><td>1139</td><td>3404</td><td>0.25</td></tr><tr><td>Male</td><td>899</td><td>4558</td><td>0.16</td></tr></tbody></table></div>"
      ]
     },
     "metadata": {
      "application/vnd.databricks.v1+output": {
       "addedWidgets": {},
       "aggData": [],
       "aggError": "",
       "aggOverflow": false,
       "aggSchema": [],
       "aggSeriesLimitReached": false,
       "aggType": "",
       "arguments": {},
       "columnCustomDisplayInfos": {},
       "data": [
        [
         "Female",
         1139,
         3404,
         0.25
        ],
        [
         "Male",
         899,
         4558,
         0.16
        ]
       ],
       "datasetInfos": [],
       "dbfsResultPath": null,
       "isJsonSchema": true,
       "metadata": {},
       "overflow": false,
       "plotOptions": {
        "customPlotOptions": {},
        "displayType": "table",
        "pivotAggregation": null,
        "pivotColumns": null,
        "xColumns": null,
        "yColumns": null
       },
       "removedWidgets": [],
       "schema": [
        {
         "metadata": "{}",
         "name": "gender",
         "type": "\"string\""
        },
        {
         "metadata": "{}",
         "name": "exited",
         "type": "\"long\""
        },
        {
         "metadata": "{}",
         "name": "not_exited",
         "type": "\"long\""
        },
        {
         "metadata": "{}",
         "name": "churn_rate",
         "type": "\"double\""
        }
       ],
       "type": "table"
      }
     },
     "output_type": "display_data"
    }
   ],
   "source": [
    "df_gold_gender = df_gold.groupBy(\"gender\").agg(count(when(col(\"exited\")==1, 1)).alias(\"exited\"), count(when(col(\"exited\")==0, 1)).alias(\"not_exited\"))\n",
    "df_gold_gender = df_gold_gender.withColumn(\"churn_rate\", round(col(\"exited\")/(col(\"exited\")+col(\"not_exited\")),2))\n",
    "display(df_gold_gender.orderBy(desc(\"churn_rate\")))"
   ]
  },
  {
   "cell_type": "markdown",
   "metadata": {
    "application/vnd.databricks.v1+cell": {
     "cellMetadata": {
      "byteLimit": 2048000,
      "rowLimit": 10000
     },
     "inputWidgets": {},
     "nuid": "a7e6ca1e-b568-44fa-a4e1-9b7dcff983e4",
     "showTitle": false,
     "tableResultSettingsMap": {},
     "title": ""
    }
   },
   "source": [
    "### Columns of significance for churn rate\n",
    "- geography\n",
    "- age groups\n",
    "- number of products\n",
    "- is active\n",
    "- gender\n",
    "\n"
   ]
  },
  {
   "cell_type": "markdown",
   "metadata": {
    "application/vnd.databricks.v1+cell": {
     "cellMetadata": {
      "byteLimit": 2048000,
      "rowLimit": 10000
     },
     "inputWidgets": {},
     "nuid": "468e94cd-3cef-4148-bf9f-7b9286d795e7",
     "showTitle": false,
     "tableResultSettingsMap": {},
     "title": ""
    }
   },
   "source": [
    "## Dashboard Tables"
   ]
  },
  {
   "cell_type": "markdown",
   "metadata": {
    "application/vnd.databricks.v1+cell": {
     "cellMetadata": {
      "byteLimit": 2048000,
      "rowLimit": 10000
     },
     "inputWidgets": {},
     "nuid": "8d81d123-a67b-4c9a-acf3-caef14115526",
     "showTitle": false,
     "tableResultSettingsMap": {},
     "title": ""
    }
   },
   "source": [
    "### Churn Rates by Age and Gender"
   ]
  },
  {
   "cell_type": "code",
   "execution_count": 0,
   "metadata": {
    "application/vnd.databricks.v1+cell": {
     "cellMetadata": {
      "byteLimit": 2048000,
      "rowLimit": 10000
     },
     "inputWidgets": {},
     "nuid": "356bb84a-0d8f-4033-a482-4cd17e4ef0dd",
     "showTitle": false,
     "tableResultSettingsMap": {},
     "title": ""
    }
   },
   "outputs": [
    {
     "output_type": "display_data",
     "data": {
      "text/html": [
       "<style scoped>\n",
       "  .table-result-container {\n",
       "    max-height: 300px;\n",
       "    overflow: auto;\n",
       "  }\n",
       "  table, th, td {\n",
       "    border: 1px solid black;\n",
       "    border-collapse: collapse;\n",
       "  }\n",
       "  th, td {\n",
       "    padding: 5px;\n",
       "  }\n",
       "  th {\n",
       "    text-align: left;\n",
       "  }\n",
       "</style><div class='table-result-container'><table class='table-result'><thead style='background-color: white'><tr><th>age_group</th><th>gender</th><th>exited</th><th>not_exited</th><th>churn_rate</th><th>age_gender</th></tr></thead><tbody><tr><td>55-64</td><td>Female</td><td>172</td><td>126</td><td>0.58</td><td>55-64 Female</td></tr><tr><td>45-54</td><td>Female</td><td>390</td><td>333</td><td>0.54</td><td>45-54 Female</td></tr><tr><td>45-54</td><td>Male</td><td>312</td><td>423</td><td>0.42</td><td>45-54 Male</td></tr><tr><td>55-64</td><td>Male</td><td>127</td><td>175</td><td>0.42</td><td>55-64 Male</td></tr><tr><td>35-44</td><td>Female</td><td>385</td><td>1386</td><td>0.22</td><td>35-44 Female</td></tr><tr><td>65+</td><td>Female</td><td>25</td><td>103</td><td>0.2</td><td>65+ Female</td></tr><tr><td>35-44</td><td>Male</td><td>319</td><td>1891</td><td>0.14</td><td>35-44 Male</td></tr><tr><td>65+</td><td>Male</td><td>18</td><td>136</td><td>0.12</td><td>65+ Male</td></tr><tr><td>18-24</td><td>Female</td><td>23</td><td>180</td><td>0.11</td><td>18-24 Female</td></tr><tr><td>25-34</td><td>Female</td><td>144</td><td>1276</td><td>0.1</td><td>25-34 Female</td></tr><tr><td>18-24</td><td>Male</td><td>17</td><td>237</td><td>0.07</td><td>18-24 Male</td></tr><tr><td>25-34</td><td>Male</td><td>106</td><td>1696</td><td>0.06</td><td>25-34 Male</td></tr></tbody></table></div>"
      ]
     },
     "metadata": {
      "application/vnd.databricks.v1+output": {
       "addedWidgets": {},
       "aggData": [],
       "aggError": "",
       "aggOverflow": false,
       "aggSchema": [],
       "aggSeriesLimitReached": false,
       "aggType": "",
       "arguments": {},
       "columnCustomDisplayInfos": {},
       "data": [
        [
         "55-64",
         "Female",
         172,
         126,
         0.58,
         "55-64 Female"
        ],
        [
         "45-54",
         "Female",
         390,
         333,
         0.54,
         "45-54 Female"
        ],
        [
         "45-54",
         "Male",
         312,
         423,
         0.42,
         "45-54 Male"
        ],
        [
         "55-64",
         "Male",
         127,
         175,
         0.42,
         "55-64 Male"
        ],
        [
         "35-44",
         "Female",
         385,
         1386,
         0.22,
         "35-44 Female"
        ],
        [
         "65+",
         "Female",
         25,
         103,
         0.2,
         "65+ Female"
        ],
        [
         "35-44",
         "Male",
         319,
         1891,
         0.14,
         "35-44 Male"
        ],
        [
         "65+",
         "Male",
         18,
         136,
         0.12,
         "65+ Male"
        ],
        [
         "18-24",
         "Female",
         23,
         180,
         0.11,
         "18-24 Female"
        ],
        [
         "25-34",
         "Female",
         144,
         1276,
         0.1,
         "25-34 Female"
        ],
        [
         "18-24",
         "Male",
         17,
         237,
         0.07,
         "18-24 Male"
        ],
        [
         "25-34",
         "Male",
         106,
         1696,
         0.06,
         "25-34 Male"
        ]
       ],
       "datasetInfos": [],
       "dbfsResultPath": null,
       "isJsonSchema": true,
       "metadata": {},
       "overflow": false,
       "plotOptions": {
        "customPlotOptions": {},
        "displayType": "table",
        "pivotAggregation": null,
        "pivotColumns": null,
        "xColumns": null,
        "yColumns": null
       },
       "removedWidgets": [],
       "schema": [
        {
         "metadata": "{}",
         "name": "age_group",
         "type": "\"string\""
        },
        {
         "metadata": "{}",
         "name": "gender",
         "type": "\"string\""
        },
        {
         "metadata": "{}",
         "name": "exited",
         "type": "\"long\""
        },
        {
         "metadata": "{}",
         "name": "not_exited",
         "type": "\"long\""
        },
        {
         "metadata": "{}",
         "name": "churn_rate",
         "type": "\"double\""
        },
        {
         "metadata": "{}",
         "name": "age_gender",
         "type": "\"string\""
        }
       ],
       "type": "table"
      }
     },
     "output_type": "display_data"
    }
   ],
   "source": [
    "df_gold_age_gender = df_gold.groupBy(\"age_group\", \"gender\").agg(count(when(col(\"exited\")==1, 1)).alias(\"exited\"), count(when(col(\"exited\")==0, 1)).alias(\"not_exited\"))\n",
    "df_gold_age_gender = df_gold_age_gender.withColumn(\"churn_rate\", round(col(\"exited\")/(col(\"exited\")+col(\"not_exited\")),2))\n",
    "#df_gold_age_gender = df_gold_age_gender.filter((col(\"exited\") + col(\"not_exited\")) >= (n))\n",
    "df_gold_age_gender = df_gold_age_gender.withColumn(\"age_gender\", concat(col(\"age_group\"), lit(\" \"), col(\"gender\")))\n",
    "display(df_gold_age_gender.orderBy(desc(\"churn_rate\")))"
   ]
  },
  {
   "cell_type": "markdown",
   "metadata": {
    "application/vnd.databricks.v1+cell": {
     "cellMetadata": {
      "byteLimit": 2048000,
      "rowLimit": 10000
     },
     "inputWidgets": {},
     "nuid": "8bd9d8ff-5079-47e2-81f9-b37f438eb06f",
     "showTitle": false,
     "tableResultSettingsMap": {},
     "title": ""
    }
   },
   "source": [
    "### Churn Rates by Age and Products"
   ]
  },
  {
   "cell_type": "code",
   "execution_count": 0,
   "metadata": {
    "application/vnd.databricks.v1+cell": {
     "cellMetadata": {
      "byteLimit": 2048000,
      "rowLimit": 10000
     },
     "inputWidgets": {},
     "nuid": "9aa82689-3a3f-45fc-bf58-c887e18dd741",
     "showTitle": false,
     "tableResultSettingsMap": {},
     "title": ""
    }
   },
   "outputs": [
    {
     "output_type": "display_data",
     "data": {
      "text/html": [
       "<style scoped>\n",
       "  .table-result-container {\n",
       "    max-height: 300px;\n",
       "    overflow: auto;\n",
       "  }\n",
       "  table, th, td {\n",
       "    border: 1px solid black;\n",
       "    border-collapse: collapse;\n",
       "  }\n",
       "  th, td {\n",
       "    padding: 5px;\n",
       "  }\n",
       "  th {\n",
       "    text-align: left;\n",
       "  }\n",
       "</style><div class='table-result-container'><table class='table-result'><thead style='background-color: white'><tr><th>age_group</th><th>num_of_products</th><th>exited</th><th>not_exited</th><th>churn_rate</th><th>age_products</th></tr></thead><tbody><tr><td>45-54</td><td>1</td><td>517</td><td>358</td><td>0.59</td><td>45-54 1</td></tr><tr><td>55-64</td><td>1</td><td>197</td><td>156</td><td>0.56</td><td>55-64 1</td></tr><tr><td>35-44</td><td>1</td><td>463</td><td>1503</td><td>0.24</td><td>35-44 1</td></tr><tr><td>45-54</td><td>2</td><td>98</td><td>397</td><td>0.2</td><td>45-54 2</td></tr><tr><td>25-34</td><td>1</td><td>179</td><td>1343</td><td>0.12</td><td>25-34 1</td></tr><tr><td>35-44</td><td>2</td><td>133</td><td>1753</td><td>0.07</td><td>35-44 2</td></tr><tr><td>25-34</td><td>2</td><td>40</td><td>1611</td><td>0.02</td><td>25-34 2</td></tr></tbody></table></div>"
      ]
     },
     "metadata": {
      "application/vnd.databricks.v1+output": {
       "addedWidgets": {},
       "aggData": [],
       "aggError": "",
       "aggOverflow": false,
       "aggSchema": [],
       "aggSeriesLimitReached": false,
       "aggType": "",
       "arguments": {},
       "columnCustomDisplayInfos": {},
       "data": [
        [
         "45-54",
         1,
         517,
         358,
         0.59,
         "45-54 1"
        ],
        [
         "55-64",
         1,
         197,
         156,
         0.56,
         "55-64 1"
        ],
        [
         "35-44",
         1,
         463,
         1503,
         0.24,
         "35-44 1"
        ],
        [
         "45-54",
         2,
         98,
         397,
         0.2,
         "45-54 2"
        ],
        [
         "25-34",
         1,
         179,
         1343,
         0.12,
         "25-34 1"
        ],
        [
         "35-44",
         2,
         133,
         1753,
         0.07,
         "35-44 2"
        ],
        [
         "25-34",
         2,
         40,
         1611,
         0.02,
         "25-34 2"
        ]
       ],
       "datasetInfos": [],
       "dbfsResultPath": null,
       "isJsonSchema": true,
       "metadata": {},
       "overflow": false,
       "plotOptions": {
        "customPlotOptions": {},
        "displayType": "table",
        "pivotAggregation": null,
        "pivotColumns": null,
        "xColumns": null,
        "yColumns": null
       },
       "removedWidgets": [],
       "schema": [
        {
         "metadata": "{}",
         "name": "age_group",
         "type": "\"string\""
        },
        {
         "metadata": "{}",
         "name": "num_of_products",
         "type": "\"integer\""
        },
        {
         "metadata": "{}",
         "name": "exited",
         "type": "\"long\""
        },
        {
         "metadata": "{}",
         "name": "not_exited",
         "type": "\"long\""
        },
        {
         "metadata": "{}",
         "name": "churn_rate",
         "type": "\"double\""
        },
        {
         "metadata": "{}",
         "name": "age_products",
         "type": "\"string\""
        }
       ],
       "type": "table"
      }
     },
     "output_type": "display_data"
    }
   ],
   "source": [
    "df_gold_age_products = df_gold.groupBy(\"age_group\", \"num_of_products\").agg(count(when(col(\"exited\")==1, 1)).alias(\"exited\"), count(when(col(\"exited\")==0, 1)).alias(\"not_exited\"))\n",
    "df_gold_age_products = df_gold_age_products.withColumn(\"churn_rate\", round(col(\"exited\")/(col(\"exited\")+col(\"not_exited\")),2))\n",
    "df_gold_age_products = df_gold_age_products.filter((col(\"exited\") + col(\"not_exited\")) >= (n))\n",
    "df_gold_age_products = df_gold_age_products.withColumn(\"age_products\", concat(col(\"age_group\"), lit(\" \"), col(\"num_of_products\")))\n",
    "display(df_gold_age_products.orderBy(desc(\"churn_rate\")))"
   ]
  },
  {
   "cell_type": "markdown",
   "metadata": {
    "application/vnd.databricks.v1+cell": {
     "cellMetadata": {
      "byteLimit": 2048000,
      "rowLimit": 10000
     },
     "inputWidgets": {},
     "nuid": "a0ae3dd4-ec71-4e76-ba46-f2e783ebde8d",
     "showTitle": false,
     "tableResultSettingsMap": {},
     "title": ""
    }
   },
   "source": [
    "### Churn Rates by Age and Activity"
   ]
  },
  {
   "cell_type": "code",
   "execution_count": 0,
   "metadata": {
    "application/vnd.databricks.v1+cell": {
     "cellMetadata": {
      "byteLimit": 2048000,
      "rowLimit": 10000
     },
     "inputWidgets": {},
     "nuid": "77a6fe85-d831-4e8c-9745-82934706b206",
     "showTitle": false,
     "tableResultSettingsMap": {
      "0": {
       "dataGridStateBlob": "{\"version\":1,\"tableState\":{\"columnPinning\":{\"left\":[\"#row_number#\"],\"right\":[]},\"columnSizing\":{},\"columnVisibility\":{}},\"settings\":{\"columns\":{}},\"syncTimestamp\":1753840036277}",
       "filterBlob": null,
       "queryPlanFiltersBlob": null,
       "tableResultIndex": 0
      }
     },
     "title": ""
    }
   },
   "outputs": [
    {
     "output_type": "display_data",
     "data": {
      "text/html": [
       "<style scoped>\n",
       "  .table-result-container {\n",
       "    max-height: 300px;\n",
       "    overflow: auto;\n",
       "  }\n",
       "  table, th, td {\n",
       "    border: 1px solid black;\n",
       "    border-collapse: collapse;\n",
       "  }\n",
       "  th, td {\n",
       "    padding: 5px;\n",
       "  }\n",
       "  th {\n",
       "    text-align: left;\n",
       "  }\n",
       "</style><div class='table-result-container'><table class='table-result'><thead style='background-color: white'><tr><th>age_group</th><th>is_active_member</th><th>exited</th><th>not_exited</th><th>churn_rate</th><th>age_active</th></tr></thead><tbody><tr><td>45-54</td><td>0</td><td>459</td><td>300</td><td>0.6</td><td>45-54 0</td></tr><tr><td>45-54</td><td>1</td><td>243</td><td>456</td><td>0.35</td><td>45-54 1</td></tr><tr><td>55-64</td><td>1</td><td>110</td><td>285</td><td>0.28</td><td>55-64 1</td></tr><tr><td>35-44</td><td>0</td><td>449</td><td>1600</td><td>0.22</td><td>35-44 0</td></tr><tr><td>35-44</td><td>1</td><td>255</td><td>1677</td><td>0.13</td><td>35-44 1</td></tr><tr><td>25-34</td><td>0</td><td>153</td><td>1427</td><td>0.1</td><td>25-34 0</td></tr><tr><td>25-34</td><td>1</td><td>97</td><td>1545</td><td>0.06</td><td>25-34 1</td></tr></tbody></table></div>"
      ]
     },
     "metadata": {
      "application/vnd.databricks.v1+output": {
       "addedWidgets": {},
       "aggData": [],
       "aggError": "",
       "aggOverflow": false,
       "aggSchema": [],
       "aggSeriesLimitReached": false,
       "aggType": "",
       "arguments": {},
       "columnCustomDisplayInfos": {},
       "data": [
        [
         "45-54",
         0,
         459,
         300,
         0.6,
         "45-54 0"
        ],
        [
         "45-54",
         1,
         243,
         456,
         0.35,
         "45-54 1"
        ],
        [
         "55-64",
         1,
         110,
         285,
         0.28,
         "55-64 1"
        ],
        [
         "35-44",
         0,
         449,
         1600,
         0.22,
         "35-44 0"
        ],
        [
         "35-44",
         1,
         255,
         1677,
         0.13,
         "35-44 1"
        ],
        [
         "25-34",
         0,
         153,
         1427,
         0.1,
         "25-34 0"
        ],
        [
         "25-34",
         1,
         97,
         1545,
         0.06,
         "25-34 1"
        ]
       ],
       "datasetInfos": [],
       "dbfsResultPath": null,
       "isJsonSchema": true,
       "metadata": {},
       "overflow": false,
       "plotOptions": {
        "customPlotOptions": {},
        "displayType": "table",
        "pivotAggregation": null,
        "pivotColumns": null,
        "xColumns": null,
        "yColumns": null
       },
       "removedWidgets": [],
       "schema": [
        {
         "metadata": "{}",
         "name": "age_group",
         "type": "\"string\""
        },
        {
         "metadata": "{}",
         "name": "is_active_member",
         "type": "\"integer\""
        },
        {
         "metadata": "{}",
         "name": "exited",
         "type": "\"long\""
        },
        {
         "metadata": "{}",
         "name": "not_exited",
         "type": "\"long\""
        },
        {
         "metadata": "{}",
         "name": "churn_rate",
         "type": "\"double\""
        },
        {
         "metadata": "{}",
         "name": "age_active",
         "type": "\"string\""
        }
       ],
       "type": "table"
      }
     },
     "output_type": "display_data"
    }
   ],
   "source": [
    "df_gold_age_active = df_gold.groupBy(\"age_group\", \"is_active_member\").agg(count(when(col(\"exited\")==1, 1)).alias(\"exited\"), count(when(col(\"exited\")==0, 1)).alias(\"not_exited\"))\n",
    "df_gold_age_active = df_gold_age_active.withColumn(\"churn_rate\", round(col(\"exited\")/(col(\"exited\")+col(\"not_exited\")),2))\n",
    "df_gold_age_active = df_gold_age_active.filter((col(\"exited\") + col(\"not_exited\")) >= (n))\n",
    "df_gold_age_active = df_gold_age_active.withColumn(\"age_active\", concat(col(\"age_group\"), lit(\" \"), col(\"is_active_member\")))\n",
    "display(df_gold_age_active.orderBy(desc(\"churn_rate\")))"
   ]
  },
  {
   "cell_type": "markdown",
   "metadata": {
    "application/vnd.databricks.v1+cell": {
     "cellMetadata": {
      "byteLimit": 2048000,
      "rowLimit": 10000
     },
     "inputWidgets": {},
     "nuid": "4b5f2278-cdbd-4aa3-8c57-14be0bbae982",
     "showTitle": false,
     "tableResultSettingsMap": {},
     "title": ""
    }
   },
   "source": [
    "### Churn Rates By Geography and Activity"
   ]
  },
  {
   "cell_type": "code",
   "execution_count": 0,
   "metadata": {
    "application/vnd.databricks.v1+cell": {
     "cellMetadata": {
      "byteLimit": 2048000,
      "rowLimit": 10000
     },
     "inputWidgets": {},
     "nuid": "296715bc-536f-4194-9857-9011325ac2ed",
     "showTitle": false,
     "tableResultSettingsMap": {},
     "title": ""
    }
   },
   "outputs": [
    {
     "output_type": "display_data",
     "data": {
      "text/html": [
       "<style scoped>\n",
       "  .table-result-container {\n",
       "    max-height: 300px;\n",
       "    overflow: auto;\n",
       "  }\n",
       "  table, th, td {\n",
       "    border: 1px solid black;\n",
       "    border-collapse: collapse;\n",
       "  }\n",
       "  th, td {\n",
       "    padding: 5px;\n",
       "  }\n",
       "  th {\n",
       "    text-align: left;\n",
       "  }\n",
       "</style><div class='table-result-container'><table class='table-result'><thead style='background-color: white'><tr><th>geography</th><th>is_active_member</th><th>exited</th><th>not_exited</th><th>churn_rate</th><th>geo_active</th></tr></thead><tbody><tr><td>Germany</td><td>0</td><td>518</td><td>743</td><td>0.41</td><td>Germany 0</td></tr><tr><td>Germany</td><td>1</td><td>296</td><td>952</td><td>0.24</td><td>Germany 1</td></tr><tr><td>Spain</td><td>0</td><td>272</td><td>893</td><td>0.23</td><td>Spain 0</td></tr><tr><td>France</td><td>0</td><td>513</td><td>1910</td><td>0.21</td><td>France 0</td></tr><tr><td>France</td><td>1</td><td>298</td><td>2293</td><td>0.12</td><td>France 1</td></tr><tr><td>Spain</td><td>1</td><td>141</td><td>1171</td><td>0.11</td><td>Spain 1</td></tr></tbody></table></div>"
      ]
     },
     "metadata": {
      "application/vnd.databricks.v1+output": {
       "addedWidgets": {},
       "aggData": [],
       "aggError": "",
       "aggOverflow": false,
       "aggSchema": [],
       "aggSeriesLimitReached": false,
       "aggType": "",
       "arguments": {},
       "columnCustomDisplayInfos": {},
       "data": [
        [
         "Germany",
         0,
         518,
         743,
         0.41,
         "Germany 0"
        ],
        [
         "Germany",
         1,
         296,
         952,
         0.24,
         "Germany 1"
        ],
        [
         "Spain",
         0,
         272,
         893,
         0.23,
         "Spain 0"
        ],
        [
         "France",
         0,
         513,
         1910,
         0.21,
         "France 0"
        ],
        [
         "France",
         1,
         298,
         2293,
         0.12,
         "France 1"
        ],
        [
         "Spain",
         1,
         141,
         1171,
         0.11,
         "Spain 1"
        ]
       ],
       "datasetInfos": [],
       "dbfsResultPath": null,
       "isJsonSchema": true,
       "metadata": {},
       "overflow": false,
       "plotOptions": {
        "customPlotOptions": {},
        "displayType": "table",
        "pivotAggregation": null,
        "pivotColumns": null,
        "xColumns": null,
        "yColumns": null
       },
       "removedWidgets": [],
       "schema": [
        {
         "metadata": "{}",
         "name": "geography",
         "type": "\"string\""
        },
        {
         "metadata": "{}",
         "name": "is_active_member",
         "type": "\"integer\""
        },
        {
         "metadata": "{}",
         "name": "exited",
         "type": "\"long\""
        },
        {
         "metadata": "{}",
         "name": "not_exited",
         "type": "\"long\""
        },
        {
         "metadata": "{}",
         "name": "churn_rate",
         "type": "\"double\""
        },
        {
         "metadata": "{}",
         "name": "geo_active",
         "type": "\"string\""
        }
       ],
       "type": "table"
      }
     },
     "output_type": "display_data"
    }
   ],
   "source": [
    "df_gold_geo_active = df_gold.groupBy(\"geography\", \"is_active_member\").agg(count(when(col(\"exited\")==1, 1)).alias(\"exited\"), count(when(col(\"exited\")==0, 1)).alias(\"not_exited\"))\n",
    "df_gold_geo_active = df_gold_geo_active.withColumn(\"churn_rate\", round(col(\"exited\")/(col(\"exited\")+col(\"not_exited\")),2))\n",
    "df_gold_geo_active = df_gold_geo_active.filter((col(\"exited\") + col(\"not_exited\")) >= (n))\n",
    "df_gold_geo_active = df_gold_geo_active.withColumn(\"geo_active\", concat(col(\"geography\"), lit(\" \"), col(\"is_active_member\")))\n",
    "display(df_gold_geo_active.orderBy(desc(\"churn_rate\")))"
   ]
  },
  {
   "cell_type": "markdown",
   "metadata": {
    "application/vnd.databricks.v1+cell": {
     "cellMetadata": {
      "byteLimit": 2048000,
      "rowLimit": 10000
     },
     "inputWidgets": {},
     "nuid": "609cf23b-d536-4632-bb25-bcc04f5eedb3",
     "showTitle": false,
     "tableResultSettingsMap": {},
     "title": ""
    }
   },
   "source": [
    "### Save the Tables"
   ]
  },
  {
   "cell_type": "code",
   "execution_count": 0,
   "metadata": {
    "application/vnd.databricks.v1+cell": {
     "cellMetadata": {
      "byteLimit": 2048000,
      "rowLimit": 10000
     },
     "inputWidgets": {},
     "nuid": "a032da8e-035d-4729-9fa8-7c36dafd49d7",
     "showTitle": false,
     "tableResultSettingsMap": {},
     "title": ""
    }
   },
   "outputs": [],
   "source": [
    "df_gold_age_gender.write.format(\"delta\").mode(\"overwrite\").saveAsTable(\"gold_age_gender\")\n",
    "df_gold_age_products.write.format(\"delta\").mode(\"overwrite\").saveAsTable(\"gold_age_products\")\n",
    "df_gold_age_active.write.format(\"delta\").mode(\"overwrite\").saveAsTable(\"gold_age_active\")\n",
    "df_gold_geo_active.write.format(\"delta\").mode(\"overwrite\").saveAsTable(\"gold_geo_active\")\n",
    "df_gold_age.write.format(\"delta\").mode(\"overwrite\").saveAsTable(\"gold_age\")\n",
    "df_gold_geo.write.format(\"delta\").mode(\"overwrite\").saveAsTable(\"gold_geo\")"
   ]
  }
 ],
 "metadata": {
  "application/vnd.databricks.v1+notebook": {
   "computePreferences": null,
   "dashboards": [],
   "environmentMetadata": {
    "base_environment": "",
    "environment_version": "2"
   },
   "inputWidgetPreferences": null,
   "language": "python",
   "notebookMetadata": {
    "pythonIndentUnit": 4
   },
   "notebookName": "gold_aggregation",
   "widgets": {}
  },
  "language_info": {
   "name": "python"
  }
 },
 "nbformat": 4,
 "nbformat_minor": 0
}