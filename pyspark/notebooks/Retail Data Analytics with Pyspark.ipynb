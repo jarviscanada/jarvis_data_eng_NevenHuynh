{
 "cells": [
  {
   "cell_type": "markdown",
   "metadata": {
    "application/vnd.databricks.v1+cell": {
     "cellMetadata": {},
     "inputWidgets": {},
     "nuid": "297d0a7e-e15f-4747-9a09-11b44c074be1",
     "showTitle": false,
     "tableResultSettingsMap": {},
     "title": ""
    }
   },
   "source": [
    "# Retail Data Wrangling and Analytics"
   ]
  },
  {
   "cell_type": "code",
   "execution_count": 0,
   "metadata": {
    "application/vnd.databricks.v1+cell": {
     "cellMetadata": {
      "byteLimit": 2048000,
      "rowLimit": 10000
     },
     "inputWidgets": {},
     "nuid": "c0cc5128-5582-459c-9829-f9039db0a031",
     "showTitle": false,
     "tableResultSettingsMap": {},
     "title": ""
    }
   },
   "outputs": [],
   "source": [
    "# Import modules \n",
    "import pandas as pd\n",
    "%matplotlib inline\n",
    "import matplotlib.pyplot as plt\n",
    "import numpy as np"
   ]
  },
  {
   "cell_type": "markdown",
   "metadata": {
    "application/vnd.databricks.v1+cell": {
     "cellMetadata": {},
     "inputWidgets": {},
     "nuid": "6b7c298a-e6b9-46d2-a883-72a2b55682cd",
     "showTitle": false,
     "tableResultSettingsMap": {},
     "title": ""
    }
   },
   "source": [
    "# Load CSV into Dataframe\n",
    "Alternatively, the LGS IT team also dumped the transactional data into a [CSV file](https://raw.githubusercontent.com/jarviscanada/jarvis_data_eng_demo/feature/data/python_data_wrangling/data/online_retail_II.csv). However, the CSV header (column names) doesn't follow the snakecase or camelcase naming convention (e.g. `Customer ID` instead of `customer_id` or `CustomerID`). As a result, you will need to use Pandas to clean up the data before doing any analytics. In addition, unlike the PSQL scheme, CSV files do not have data types associated. Therefore, you will need to cast/convert certain columns into correct data types (e.g. DateTime, numbers, etc..)\n",
    "\n",
    "**Data Preperation**\n",
    "\n",
    "- Read the `data/online_retail_II.csv` file into a DataFrame\n",
    "- Rename all columns to upper camelcase or snakecase\n",
    "- Convert/cast all columns to the appropriate data types (e.g. datetime)"
   ]
  },
  {
   "cell_type": "code",
   "execution_count": 0,
   "metadata": {
    "application/vnd.databricks.v1+cell": {
     "cellMetadata": {
      "byteLimit": 2048000,
      "rowLimit": 10000
     },
     "inputWidgets": {},
     "nuid": "f5cece24-78b3-4776-9a78-f40647423030",
     "showTitle": false,
     "tableResultSettingsMap": {},
     "title": ""
    }
   },
   "outputs": [
    {
     "output_type": "stream",
     "name": "stdout",
     "output_type": "stream",
     "text": [
      "+-------+----------+--------------------+--------+-------------------+-----+-----------+--------------+\n|invoice|stock_code|         description|quantity|       invoice_date|price|customer_id|       country|\n+-------+----------+--------------------+--------+-------------------+-----+-----------+--------------+\n| 489434|     85048|15CM CHRISTMAS GL...|      12|2009-12-01 07:45:00| 6.95|    13085.0|United Kingdom|\n| 489434|    79323P|  PINK CHERRY LIGHTS|      12|2009-12-01 07:45:00| 6.75|    13085.0|United Kingdom|\n| 489434|    79323W| WHITE CHERRY LIGHTS|      12|2009-12-01 07:45:00| 6.75|    13085.0|United Kingdom|\n| 489434|     22041|\"RECORD FRAME 7\"\"...|      48|2009-12-01 07:45:00|  2.1|    13085.0|United Kingdom|\n| 489434|     21232|STRAWBERRY CERAMI...|      24|2009-12-01 07:45:00| 1.25|    13085.0|United Kingdom|\n| 489434|     22064|PINK DOUGHNUT TRI...|      24|2009-12-01 07:45:00| 1.65|    13085.0|United Kingdom|\n| 489434|     21871| SAVE THE PLANET MUG|      24|2009-12-01 07:45:00| 1.25|    13085.0|United Kingdom|\n| 489434|     21523|FANCY FONT HOME S...|      10|2009-12-01 07:45:00| 5.95|    13085.0|United Kingdom|\n| 489435|     22350|           CAT BOWL |      12|2009-12-01 07:46:00| 2.55|    13085.0|United Kingdom|\n| 489435|     22349|DOG BOWL , CHASIN...|      12|2009-12-01 07:46:00| 3.75|    13085.0|United Kingdom|\n| 489435|     22195|HEART MEASURING S...|      24|2009-12-01 07:46:00| 1.65|    13085.0|United Kingdom|\n| 489435|     22353|LUNCHBOX WITH CUT...|      12|2009-12-01 07:46:00| 2.55|    13085.0|United Kingdom|\n| 489436|    48173C|DOOR MAT BLACK FL...|      10|2009-12-01 09:06:00| 5.95|    13078.0|United Kingdom|\n| 489436|     21755|LOVE BUILDING BLO...|      18|2009-12-01 09:06:00| 5.45|    13078.0|United Kingdom|\n| 489436|     21754|HOME BUILDING BLO...|       3|2009-12-01 09:06:00| 5.95|    13078.0|United Kingdom|\n| 489436|     84879|ASSORTED COLOUR B...|      16|2009-12-01 09:06:00| 1.69|    13078.0|United Kingdom|\n| 489436|     22119| PEACE WOODEN BLO...|       3|2009-12-01 09:06:00| 6.95|    13078.0|United Kingdom|\n| 489436|     22142|CHRISTMAS CRAFT W...|      12|2009-12-01 09:06:00| 1.45|    13078.0|United Kingdom|\n| 489436|     22296|HEART IVORY TRELL...|      12|2009-12-01 09:06:00| 1.65|    13078.0|United Kingdom|\n| 489436|     22295|HEART FILIGREE DO...|      12|2009-12-01 09:06:00| 1.65|    13078.0|United Kingdom|\n+-------+----------+--------------------+--------+-------------------+-----+-----------+--------------+\nonly showing top 20 rows\n\n"
     ]
    }
   ],
   "source": [
    "from pyspark.sql.types import StructType, StructField, StringType, IntegerType, TimestampType, FloatType\n",
    "\n",
    "schema = StructType([\n",
    "    StructField(\"Invoice\", StringType(), True), \n",
    "    StructField(\"StockCode\", StringType(), True),\n",
    "    StructField(\"Description\", StringType(), True),\n",
    "    StructField(\"Quantity\", IntegerType(), True),\n",
    "    StructField(\"InvoiceDate\", TimestampType(), True),\n",
    "    StructField(\"Price\", FloatType(), True),\n",
    "    StructField(\"Customer ID\", FloatType(), True),\n",
    "    StructField(\"Country\", StringType(), True)\n",
    "])\n",
    "file_location = \"dbfs:/FileStore/tables/online_retail_II.csv\"\n",
    "retail_df = spark.read.format(\"csv\").option(\"header\", \"true\").schema(schema).load(file_location)\n",
    "retail_df = (retail_df\n",
    "             .withColumnRenamed(\"Invoice\", \"invoice\")\n",
    "             .withColumnRenamed(\"StockCode\", \"stock_code\")\n",
    "             .withColumnRenamed(\"Description\", \"description\")\n",
    "             .withColumnRenamed(\"Quantity\", \"quantity\")\n",
    "             .withColumnRenamed(\"InvoiceDate\", \"invoice_date\")\n",
    "             .withColumnRenamed(\"Price\", \"price\")\n",
    "             .withColumnRenamed(\"Customer ID\", \"customer_id\")\n",
    "             .withColumnRenamed(\"Country\", \"country\")\n",
    ")\n",
    "spark.sql(\"DROP TABLE IF EXISTS online_retail_ii\")\n",
    "retail_df.write.mode(\"overwrite\").saveAsTable(\"online_retail_ii\")\n",
    "retail_df.show()"
   ]
  },
  {
   "cell_type": "markdown",
   "metadata": {
    "application/vnd.databricks.v1+cell": {
     "cellMetadata": {},
     "inputWidgets": {},
     "nuid": "c887382b-2be7-44c0-b0f7-aeee4fdea28d",
     "showTitle": false,
     "tableResultSettingsMap": {},
     "title": ""
    }
   },
   "source": [
    "# Total Invoice Amount Distribution\n"
   ]
  },
  {
   "cell_type": "markdown",
   "metadata": {
    "application/vnd.databricks.v1+cell": {
     "cellMetadata": {},
     "inputWidgets": {},
     "nuid": "3f460433-52cf-4883-ba72-f43ec73155cb",
     "showTitle": false,
     "tableResultSettingsMap": {},
     "title": ""
    }
   },
   "source": [
    "Find the total amount per invoice"
   ]
  },
  {
   "cell_type": "code",
   "execution_count": 0,
   "metadata": {
    "application/vnd.databricks.v1+cell": {
     "cellMetadata": {
      "byteLimit": 2048000,
      "rowLimit": 10000
     },
     "inputWidgets": {},
     "nuid": "9aa5ab01-dd3b-49f5-a257-91714a9f96ba",
     "showTitle": false,
     "tableResultSettingsMap": {},
     "title": ""
    }
   },
   "outputs": [
    {
     "output_type": "stream",
     "name": "stdout",
     "output_type": "stream",
     "text": [
      "+-------+------------------+\n|invoice|       total_price|\n+-------+------------------+\n| 502860|106.96000170707703|\n| 503942| 304.3299980163574|\n| 504328|355.18999540805817|\n| 504372|315.85000228881836|\n| 505024|216.54000103473663|\n| 505703|328.48000049591064|\n| 506092|105.71000051498413|\n| 506258| 306.1999979019165|\n| 507206| 673.8599939346313|\n| 507464| 1621.800048828125|\n| 508195|207.36001586914062|\n| 508647|              60.0|\n| 508840|112.93999806046486|\n| 508905|160.40000343322754|\n| 508953|100.80000305175781|\n| 509891|              4.25|\n| 510434|30.500000715255737|\n| 510436|180.64999771118164|\n| 510516|270.04999923706055|\n| 510761| 65.04999804496765|\n+-------+------------------+\nonly showing top 20 rows\n\n"
     ]
    }
   ],
   "source": [
    "from pyspark.sql.functions import sum\n",
    "\n",
    "invoice = spark.sql(\"SELECT * FROM online_retail_ii\")\n",
    "# Filter the data to remove negative values\n",
    "invoice = invoice.filter(\"price > 0 AND quantity > 0\")\n",
    "# Calculate the total price for each row\n",
    "invoice = invoice.withColumn(\"total_price\", invoice.quantity * invoice.price)\n",
    "\n",
    "#Grouping the data by invoice and summing the total_price\n",
    "invoice = invoice.groupBy(\"invoice\").agg(sum(\"total_price\").alias(\"total_price\"))\n",
    "invoice.show()\n"
   ]
  },
  {
   "cell_type": "code",
   "execution_count": 0,
   "metadata": {
    "application/vnd.databricks.v1+cell": {
     "cellMetadata": {
      "byteLimit": 2048000,
      "rowLimit": 10000
     },
     "inputWidgets": {},
     "nuid": "27c865d1-bc27-48d4-9c21-96f21e4a112e",
     "showTitle": false,
     "tableResultSettingsMap": {},
     "title": ""
    }
   },
   "outputs": [
    {
     "output_type": "stream",
     "name": "stdout",
     "output_type": "stream",
     "text": [
      "Minimum: 0.19\nMean: 523.3\nMedian: 304.31\nMode: 15.0\nMaximum: 168469.59\n"
     ]
    },
    {
     "output_type": "display_data",
     "data": {
      "image/png": "[encoded data removed]",
      "text/plain": [
       "<Figure size 800x200 with 1 Axes>"
      ]
     },
     "metadata": {},
     "output_type": "display_data"
    }
   ],
   "source": [
    "# Convert pyspark dataframe to pandas dataframe\n",
    "invoice_pd = invoice.select(\"total_price\").toPandas()\n",
    "\n",
    "# Calculate summary statistics on the invoice dataframe\n",
    "min = invoice_pd[\"total_price\"].min()\n",
    "mean = invoice_pd[\"total_price\"].mean()\n",
    "median = invoice_pd[\"total_price\"].median()\n",
    "mode = invoice_pd[\"total_price\"].mode()[0]\n",
    "max = invoice_pd[\"total_price\"].max()\n",
    "\n",
    "# Plot the histogram of the total_price column\n",
    "plt.figure(figsize=(8, 2))\n",
    "plt.hist(invoice_pd[\"total_price\"], bins=10, color='skyblue', edgecolor='black')\n",
    "\n",
    "# Add summary statistics to the histogram plot\n",
    "plt.axvline(min, color='red', linestyle='dashed', linewidth=2, label='Minimum')\n",
    "plt.axvline(mean, color='green', linestyle='dashed', linewidth=2, label='Mean')\n",
    "plt.axvline(median, color='orange', linestyle='dashed', linewidth=2, label='Median')\n",
    "plt.axvline(mode, color='purple', linestyle='dashed', linewidth=2, label='Mode')\n",
    "plt.axvline(max, color='blue', linestyle='dashed', linewidth=2, label='Maximum')\n",
    "\n",
    "plt.title(\"Data Distribution\")\n",
    "plt.xlabel(\"Total Price\")\n",
    "plt.ylabel(\"Frequency\")\n",
    "plt.grid(True)\n",
    "\n",
    "print(\"Minimum:\", round(min, 2))\n",
    "print(\"Mean:\", round(mean, 2))\n",
    "print(\"Median:\", round(median, 2))\n",
    "print(\"Mode:\", round(mode, 2))\n",
    "print(\"Maximum:\", round(max, 2))\n",
    "\n",
    "plt.show()"
   ]
  },
  {
   "cell_type": "markdown",
   "metadata": {
    "application/vnd.databricks.v1+cell": {
     "cellMetadata": {},
     "inputWidgets": {},
     "nuid": "9231e689-c20a-49f5-9e26-6184c64323c2",
     "showTitle": false,
     "tableResultSettingsMap": {},
     "title": ""
    }
   },
   "source": [
    "Remove outliers by using the first 85 quantiles of the data"
   ]
  },
  {
   "cell_type": "code",
   "execution_count": 0,
   "metadata": {
    "application/vnd.databricks.v1+cell": {
     "cellMetadata": {
      "byteLimit": 2048000,
      "rowLimit": 10000
     },
     "inputWidgets": {},
     "nuid": "bc8889ce-3972-43ea-a610-b46aa13f9970",
     "showTitle": false,
     "tableResultSettingsMap": {},
     "title": ""
    }
   },
   "outputs": [
    {
     "output_type": "stream",
     "name": "stdout",
     "output_type": "stream",
     "text": [
      "Minimum: 0.19\nMean: 271.68\nMedian: 256.23\nMode: 15.0\nMaximum: 724.25\n"
     ]
    },
    {
     "output_type": "display_data",
     "data": {
      "image/png": "[encoded data removed]",
      "text/plain": [
       "<Figure size 1000x600 with 1 Axes>"
      ]
     },
     "metadata": {},
     "output_type": "display_data"
    }
   ],
   "source": [
    "# Convert pyspark dataframe to pandas dataframe\n",
    "invoice_pd = invoice.select(\"total_price\").toPandas()\n",
    "\n",
    "# Calculate the first 85 quantiles (from 1st percentile to 85th percentile)\n",
    "quantiles = np.quantile(invoice_pd[\"total_price\"], np.linspace(0, 0.85, 86))\n",
    "\n",
    "# Define the minimum and maximum value for the x-axis from the quantiles\n",
    "min_value = quantiles[0]\n",
    "max_value = quantiles[-1]\n",
    "\n",
    "# Filter the dataframe to include only values between the min and max quantile values\n",
    "invoice_pd = invoice_pd[invoice_pd[\"total_price\"].between(min_value, max_value)]\n",
    "\n",
    "# Calculate the summary statistics for the filtered dataframe\n",
    "min = invoice_pd[\"total_price\"].min()\n",
    "mean = invoice_pd[\"total_price\"].mean()\n",
    "median = invoice_pd[\"total_price\"].median()\n",
    "mode = invoice_pd[\"total_price\"].mode()[0]\n",
    "max = invoice_pd[\"total_price\"].max()\n",
    "\n",
    "# Plot the histogram of the total_price column, but only for the range between min and max quantile values\n",
    "plt.figure(figsize=(10, 6))\n",
    "plt.hist(invoice_pd[\"total_price\"], bins=10, color='skyblue', edgecolor='black')\n",
    "\n",
    "# Add labels and title\n",
    "plt.title(\"Data Distribution\")\n",
    "plt.xlabel(\"Total Price\")\n",
    "plt.ylabel(\"Frequency\")\n",
    "\n",
    "# Add summary statistics to the histogram plot\n",
    "plt.axvline(min, color='red', linestyle='dashed', linewidth=2, label='Minimum')\n",
    "plt.axvline(mean, color='green', linestyle='dashed', linewidth=2, label='Mean')\n",
    "plt.axvline(median, color='orange', linestyle='dashed', linewidth=2, label='Median')\n",
    "plt.axvline(mode, color='purple', linestyle='dashed', linewidth=2, label='Mode')\n",
    "plt.axvline(max, color='blue', linestyle='dashed', linewidth=2, label='Maximum')\n",
    "\n",
    "print(\"Minimum:\", round(min, 2))\n",
    "print(\"Mean:\", round(mean, 2))\n",
    "print(\"Median:\", round(median, 2))\n",
    "print(\"Mode:\", round(mode, 2))\n",
    "print(\"Maximum:\", round(max, 2))\n",
    "\n",
    "# Show the plot\n",
    "plt.show()"
   ]
  },
  {
   "cell_type": "markdown",
   "metadata": {
    "application/vnd.databricks.v1+cell": {
     "cellMetadata": {},
     "inputWidgets": {},
     "nuid": "f292a2ee-166a-40b3-b009-c06db5879bb0",
     "showTitle": false,
     "tableResultSettingsMap": {},
     "title": ""
    }
   },
   "source": [
    "# Monthly Placed and Canceled Orders"
   ]
  },
  {
   "cell_type": "markdown",
   "metadata": {
    "application/vnd.databricks.v1+cell": {
     "cellMetadata": {},
     "inputWidgets": {},
     "nuid": "fa9c66b5-36ed-4ce2-a219-c53eabc3048e",
     "showTitle": false,
     "tableResultSettingsMap": {},
     "title": ""
    }
   },
   "source": [
    "Calculate the net amount of orders placed each month"
   ]
  },
  {
   "cell_type": "code",
   "execution_count": 0,
   "metadata": {
    "application/vnd.databricks.v1+cell": {
     "cellMetadata": {
      "byteLimit": 2048000,
      "rowLimit": 10000
     },
     "inputWidgets": {},
     "nuid": "02e78b26-a240-4186-bf00-39f4a52d98f2",
     "showTitle": false,
     "tableResultSettingsMap": {},
     "title": ""
    }
   },
   "outputs": [
    {
     "output_type": "display_data",
     "data": {
      "text/html": [
       "<style scoped>\n",
       "  .table-result-container {\n",
       "    max-height: 300px;\n",
       "    overflow: auto;\n",
       "  }\n",
       "  table, th, td {\n",
       "    border: 1px solid black;\n",
       "    border-collapse: collapse;\n",
       "  }\n",
       "  th, td {\n",
       "    padding: 5px;\n",
       "  }\n",
       "  th {\n",
       "    text-align: left;\n",
       "  }\n",
       "</style><div class='table-result-container'><table class='table-result'><thead style='background-color: white'><tr><th>month</th><th>placed_invoices_count</th><th>cancelled_invoices_count</th><th>total_invoices</th></tr></thead><tbody><tr><td>200912</td><td>1929</td><td>401</td><td>1528</td></tr><tr><td>201001</td><td>1333</td><td>300</td><td>1033</td></tr><tr><td>201002</td><td>1729</td><td>240</td><td>1489</td></tr><tr><td>201003</td><td>1960</td><td>407</td><td>1553</td></tr><tr><td>201004</td><td>1588</td><td>304</td><td>1284</td></tr><tr><td>201005</td><td>2011</td><td>407</td><td>1604</td></tr><tr><td>201006</td><td>1859</td><td>357</td><td>1502</td></tr><tr><td>201007</td><td>1673</td><td>344</td><td>1329</td></tr><tr><td>201008</td><td>1604</td><td>273</td><td>1331</td></tr><tr><td>201009</td><td>2004</td><td>371</td><td>1633</td></tr><tr><td>201010</td><td>2489</td><td>476</td><td>2013</td></tr><tr><td>201011</td><td>3093</td><td>576</td><td>2517</td></tr><tr><td>201012</td><td>1699</td><td>326</td><td>1373</td></tr><tr><td>201101</td><td>1216</td><td>260</td><td>956</td></tr><tr><td>201102</td><td>1174</td><td>219</td><td>955</td></tr><tr><td>201103</td><td>1665</td><td>318</td><td>1347</td></tr><tr><td>201104</td><td>1504</td><td>240</td><td>1264</td></tr><tr><td>201105</td><td>1848</td><td>314</td><td>1534</td></tr><tr><td>201106</td><td>1683</td><td>329</td><td>1354</td></tr><tr><td>201107</td><td>1657</td><td>270</td><td>1387</td></tr><tr><td>201108</td><td>1459</td><td>278</td><td>1181</td></tr><tr><td>201109</td><td>1994</td><td>333</td><td>1661</td></tr><tr><td>201110</td><td>2275</td><td>362</td><td>1913</td></tr><tr><td>201111</td><td>3021</td><td>441</td><td>2580</td></tr><tr><td>201112</td><td>869</td><td>146</td><td>723</td></tr></tbody></table></div>"
      ]
     },
     "metadata": {
      "application/vnd.databricks.v1+output": {
       "addedWidgets": {},
       "aggData": [],
       "aggError": "",
       "aggOverflow": false,
       "aggSchema": [],
       "aggSeriesLimitReached": false,
       "aggType": "",
       "arguments": {},
       "columnCustomDisplayInfos": {},
       "data": [
        [
         200912,
         1929,
         401,
         1528
        ],
        [
         201001,
         1333,
         300,
         1033
        ],
        [
         201002,
         1729,
         240,
         1489
        ],
        [
         201003,
         1960,
         407,
         1553
        ],
        [
         201004,
         1588,
         304,
         1284
        ],
        [
         201005,
         2011,
         407,
         1604
        ],
        [
         201006,
         1859,
         357,
         1502
        ],
        [
         201007,
         1673,
         344,
         1329
        ],
        [
         201008,
         1604,
         273,
         1331
        ],
        [
         201009,
         2004,
         371,
         1633
        ],
        [
         201010,
         2489,
         476,
         2013
        ],
        [
         201011,
         3093,
         576,
         2517
        ],
        [
         201012,
         1699,
         326,
         1373
        ],
        [
         201101,
         1216,
         260,
         956
        ],
        [
         201102,
         1174,
         219,
         955
        ],
        [
         201103,
         1665,
         318,
         1347
        ],
        [
         201104,
         1504,
         240,
         1264
        ],
        [
         201105,
         1848,
         314,
         1534
        ],
        [
         201106,
         1683,
         329,
         1354
        ],
        [
         201107,
         1657,
         270,
         1387
        ],
        [
         201108,
         1459,
         278,
         1181
        ],
        [
         201109,
         1994,
         333,
         1661
        ],
        [
         201110,
         2275,
         362,
         1913
        ],
        [
         201111,
         3021,
         441,
         2580
        ],
        [
         201112,
         869,
         146,
         723
        ]
       ],
       "datasetInfos": [],
       "dbfsResultPath": null,
       "isJsonSchema": true,
       "metadata": {},
       "overflow": false,
       "plotOptions": {
        "customPlotOptions": {},
        "displayType": "table",
        "pivotAggregation": null,
        "pivotColumns": null,
        "xColumns": null,
        "yColumns": null
       },
       "removedWidgets": [],
       "schema": [
        {
         "metadata": "{}",
         "name": "month",
         "type": "\"integer\""
        },
        {
         "metadata": "{}",
         "name": "placed_invoices_count",
         "type": "\"long\""
        },
        {
         "metadata": "{}",
         "name": "cancelled_invoices_count",
         "type": "\"long\""
        },
        {
         "metadata": "{}",
         "name": "total_invoices",
         "type": "\"long\""
        }
       ],
       "type": "table"
      }
     },
     "output_type": "display_data"
    }
   ],
   "source": [
    "from pyspark.sql.functions import year, month, countDistinct, count, isnull\n",
    "\n",
    "placed_orders_df = spark.sql(\"SELECT * FROM online_retail_ii\")\n",
    "\n",
    "# Create month column by combining the year and month\n",
    "placed_orders_df = placed_orders_df.withColumn(\"month\", year(placed_orders_df.invoice_date) * 100 + month(placed_orders_df.invoice_date))\n",
    "\n",
    "# Finding the number of cancelled orders per month\n",
    "cancelled_orders_df = placed_orders_df.filter(placed_orders_df.invoice.startswith(\"C\"))\n",
    "cancelled_orders_df = cancelled_orders_df.groupBy(\"month\").agg(countDistinct(\"invoice\").alias(\"cancelled_invoices_count\"))\n",
    "\n",
    "# Findind the number of placed orders per month\n",
    "placed_orders_df = placed_orders_df.filter(~placed_orders_df.invoice.startswith(\"C\"))\n",
    "placed_orders_df = placed_orders_df.groupBy(\"month\").agg(countDistinct(\"invoice\").alias(\"placed_invoices_count\"))\n",
    "\n",
    "monthly_orders_df = placed_orders_df.join(cancelled_orders_df, \"month\", \"inner\")\n",
    "\n",
    "# Find net amount of orders by subtracting cancelled orders from placed orders\n",
    "monthly_orders_df = monthly_orders_df.withColumn(\"total_invoices\", monthly_orders_df.placed_invoices_count - (monthly_orders_df.cancelled_invoices_count))\n",
    "monthly_orders_df = monthly_orders_df.orderBy([\"month\", \"total_invoices\"], ascending = True)\n",
    "display(monthly_orders_df)"
   ]
  },
  {
   "cell_type": "code",
   "execution_count": 0,
   "metadata": {
    "application/vnd.databricks.v1+cell": {
     "cellMetadata": {
      "byteLimit": 2048000,
      "rowLimit": 10000
     },
     "inputWidgets": {},
     "nuid": "b8dd80a0-4ea4-48e8-b039-238ac2295ed1",
     "showTitle": false,
     "tableResultSettingsMap": {},
     "title": ""
    }
   },
   "outputs": [
    {
     "output_type": "display_data",
     "data": {
      "image/png": "[encoded data removed]",
      "text/plain": [
       "<Figure size 1800x1000 with 1 Axes>"
      ]
     },
     "metadata": {},
     "output_type": "display_data"
    }
   ],
   "source": [
    "# Convert pyspark dataframe to pandas dataframe\n",
    "monthly_pd = monthly_orders_df.toPandas()\n",
    "\n",
    "# Specify the x-axis as the length of the \"month\" column\n",
    "x = range(len(monthly_pd[\"month\"]))\n",
    "width = 0.35\n",
    "\n",
    "plt.figure(figsize=(18, 10))\n",
    "\n",
    "# Plotting the bars for placed and cancelled orders\n",
    "plt.bar([i - width/2 for i in x], monthly_pd[\"total_invoices\"], width = width, label=\"Placed Invoices\")\n",
    "plt.bar([i + width/2 for i in x], monthly_pd[\"cancelled_invoices_count\"], width = width, label=\"Cancelled Invoices\")\n",
    "plt.xlabel(\"Invoice Year Month\")\n",
    "plt.ylabel(\"Number of Invoices\")\n",
    "plt.title(\"Monthly Invoices\")\n",
    "\n",
    "plt.xticks(x, monthly_pd[\"month\"], rotation = 90)\n",
    "plt.legend()\n",
    "plt.show()"
   ]
  },
  {
   "cell_type": "markdown",
   "metadata": {
    "application/vnd.databricks.v1+cell": {
     "cellMetadata": {},
     "inputWidgets": {},
     "nuid": "2fd131e7-c10b-49fa-ba61-262841b9296e",
     "showTitle": false,
     "tableResultSettingsMap": {},
     "title": ""
    }
   },
   "source": [
    "# Monthly Sales"
   ]
  },
  {
   "cell_type": "markdown",
   "metadata": {
    "application/vnd.databricks.v1+cell": {
     "cellMetadata": {},
     "inputWidgets": {},
     "nuid": "35256185-0c86-4cb8-b6f6-bbb065f44228",
     "showTitle": false,
     "tableResultSettingsMap": {},
     "title": ""
    }
   },
   "source": [
    "Calculate monthly sales "
   ]
  },
  {
   "cell_type": "code",
   "execution_count": 0,
   "metadata": {
    "application/vnd.databricks.v1+cell": {
     "cellMetadata": {
      "byteLimit": 2048000,
      "rowLimit": 10000
     },
     "inputWidgets": {},
     "nuid": "47e90809-c143-4bca-9d99-f8ea549d7d8b",
     "showTitle": false,
     "tableResultSettingsMap": {},
     "title": ""
    }
   },
   "outputs": [
    {
     "output_type": "display_data",
     "data": {
      "text/html": [
       "<style scoped>\n",
       "  .table-result-container {\n",
       "    max-height: 300px;\n",
       "    overflow: auto;\n",
       "  }\n",
       "  table, th, td {\n",
       "    border: 1px solid black;\n",
       "    border-collapse: collapse;\n",
       "  }\n",
       "  th, td {\n",
       "    padding: 5px;\n",
       "  }\n",
       "  th {\n",
       "    text-align: left;\n",
       "  }\n",
       "</style><div class='table-result-container'><table class='table-result'><thead style='background-color: white'><tr><th>month</th><th>total_sales</th></tr></thead><tbody><tr><td>200912</td><td>799847.1075055711</td></tr><tr><td>201001</td><td>624032.8896515106</td></tr><tr><td>201002</td><td>533091.424455221</td></tr><tr><td>201003</td><td>765848.757825097</td></tr><tr><td>201004</td><td>590580.4300854017</td></tr><tr><td>201005</td><td>615322.8286303803</td></tr><tr><td>201006</td><td>679786.6077747606</td></tr><tr><td>201007</td><td>575236.3596651554</td></tr><tr><td>201008</td><td>656776.3393343091</td></tr><tr><td>201009</td><td>853650.4293782803</td></tr><tr><td>201010</td><td>1045168.3482284844</td></tr><tr><td>201011</td><td>1422654.6372941246</td></tr><tr><td>201012</td><td>1126445.4675593823</td></tr><tr><td>201101</td><td>560000.258079961</td></tr><tr><td>201102</td><td>498062.6492906958</td></tr><tr><td>201103</td><td>683267.079093039</td></tr><tr><td>201104</td><td>493207.11913273286</td></tr><tr><td>201105</td><td>723333.5078510791</td></tr><tr><td>201106</td><td>691123.1178948507</td></tr><tr><td>201107</td><td>681300.1086762528</td></tr><tr><td>201108</td><td>682680.5088247135</td></tr><tr><td>201109</td><td>1019687.6194412147</td></tr><tr><td>201110</td><td>1070704.6672792248</td></tr><tr><td>201111</td><td>1461756.2452435382</td></tr><tr><td>201112</td><td>433686.0082483664</td></tr></tbody></table></div>"
      ]
     },
     "metadata": {
      "application/vnd.databricks.v1+output": {
       "addedWidgets": {},
       "aggData": [],
       "aggError": "",
       "aggOverflow": false,
       "aggSchema": [],
       "aggSeriesLimitReached": false,
       "aggType": "",
       "arguments": {},
       "columnCustomDisplayInfos": {},
       "data": [
        [
         200912,
         799847.1075055711
        ],
        [
         201001,
         624032.8896515106
        ],
        [
         201002,
         533091.424455221
        ],
        [
         201003,
         765848.757825097
        ],
        [
         201004,
         590580.4300854017
        ],
        [
         201005,
         615322.8286303803
        ],
        [
         201006,
         679786.6077747606
        ],
        [
         201007,
         575236.3596651554
        ],
        [
         201008,
         656776.3393343091
        ],
        [
         201009,
         853650.4293782803
        ],
        [
         201010,
         1045168.3482284844
        ],
        [
         201011,
         1422654.6372941246
        ],
        [
         201012,
         1126445.4675593823
        ],
        [
         201101,
         560000.258079961
        ],
        [
         201102,
         498062.6492906958
        ],
        [
         201103,
         683267.079093039
        ],
        [
         201104,
         493207.11913273286
        ],
        [
         201105,
         723333.5078510791
        ],
        [
         201106,
         691123.1178948507
        ],
        [
         201107,
         681300.1086762528
        ],
        [
         201108,
         682680.5088247135
        ],
        [
         201109,
         1019687.6194412147
        ],
        [
         201110,
         1070704.6672792248
        ],
        [
         201111,
         1461756.2452435382
        ],
        [
         201112,
         433686.0082483664
        ]
       ],
       "datasetInfos": [],
       "dbfsResultPath": null,
       "isJsonSchema": true,
       "metadata": {},
       "overflow": false,
       "plotOptions": {
        "customPlotOptions": {},
        "displayType": "table",
        "pivotAggregation": null,
        "pivotColumns": null,
        "xColumns": null,
        "yColumns": null
       },
       "removedWidgets": [],
       "schema": [
        {
         "metadata": "{}",
         "name": "month",
         "type": "\"integer\""
        },
        {
         "metadata": "{}",
         "name": "total_sales",
         "type": "\"double\""
        }
       ],
       "type": "table"
      }
     },
     "output_type": "display_data"
    }
   ],
   "source": [
    "from pyspark.sql.functions import year, month, sum\n",
    "\n",
    "monthly_sales = spark.sql(\"SELECT * FROM online_retail_ii\")\n",
    "\n",
    "# Create month column by combining the year and month\n",
    "monthly_sales = monthly_sales.withColumn(\"month\", year(monthly_sales.invoice_date) * 100 + month(monthly_sales.invoice_date))\n",
    "# Calculate the total price for each row\n",
    "monthly_sales = monthly_sales.withColumn(\"total_price\", monthly_sales.quantity * monthly_sales.price)\n",
    "\n",
    "# Sum the total sales per month\n",
    "monthly_sales = monthly_sales.groupBy(\"month\").agg(sum(\"total_price\").alias(\"total_sales\")).orderBy(\"month\")\n",
    "display(monthly_sales)\n"
   ]
  },
  {
   "cell_type": "code",
   "execution_count": 0,
   "metadata": {
    "application/vnd.databricks.v1+cell": {
     "cellMetadata": {
      "byteLimit": 2048000,
      "rowLimit": 10000
     },
     "inputWidgets": {},
     "nuid": "6d56984d-801e-4e80-a716-d543dbb71307",
     "showTitle": false,
     "tableResultSettingsMap": {},
     "title": ""
    }
   },
   "outputs": [
    {
     "output_type": "display_data",
     "data": {
      "image/png": "[encoded data removed]",
      "text/plain": [
       "<Figure size 1800x1000 with 1 Axes>"
      ]
     },
     "metadata": {},
     "output_type": "display_data"
    }
   ],
   "source": [
    "# Convert pyspark dataframe to pandas dataframe\n",
    "monthly_sales_pd = monthly_sales.toPandas()\n",
    "\n",
    "# Specify the x-axis as the length of the \"month\" column\n",
    "x = range(len(monthly_sales_pd[\"month\"]))\n",
    "# Set the y-axis as the total sales column\n",
    "y = monthly_sales_pd[\"total_sales\"]\n",
    "\n",
    "plt.figure(figsize=(18,10))\n",
    "\n",
    "plt.plot(x, y)\n",
    "plt.xlabel(\"Month\")\n",
    "plt.ylabel(\"Sales(Million)\")\n",
    "plt.title(\"Monthly Sales\")\n",
    "plt.xticks(x, monthly_sales_pd[\"month\"], rotation = 90)\n",
    "\n",
    "plt.show()"
   ]
  },
  {
   "cell_type": "markdown",
   "metadata": {
    "application/vnd.databricks.v1+cell": {
     "cellMetadata": {},
     "inputWidgets": {},
     "nuid": "a3df172e-cccd-4c9b-b34c-4a5073019010",
     "showTitle": false,
     "tableResultSettingsMap": {},
     "title": ""
    }
   },
   "source": [
    "# Monthly Sales Growth\n"
   ]
  },
  {
   "cell_type": "markdown",
   "metadata": {
    "application/vnd.databricks.v1+cell": {
     "cellMetadata": {},
     "inputWidgets": {},
     "nuid": "c1063e11-2bd8-4c49-a86c-dffa57c41504",
     "showTitle": false,
     "tableResultSettingsMap": {},
     "title": ""
    }
   },
   "source": [
    "Calculate the growth of sales on a month to month basis"
   ]
  },
  {
   "cell_type": "code",
   "execution_count": 0,
   "metadata": {
    "application/vnd.databricks.v1+cell": {
     "cellMetadata": {
      "byteLimit": 2048000,
      "rowLimit": 10000
     },
     "inputWidgets": {},
     "nuid": "7b973f7a-de0d-4664-bbd3-e56451300f51",
     "showTitle": false,
     "tableResultSettingsMap": {},
     "title": ""
    }
   },
   "outputs": [
    {
     "output_type": "display_data",
     "data": {
      "text/html": [
       "<style scoped>\n",
       "  .table-result-container {\n",
       "    max-height: 300px;\n",
       "    overflow: auto;\n",
       "  }\n",
       "  table, th, td {\n",
       "    border: 1px solid black;\n",
       "    border-collapse: collapse;\n",
       "  }\n",
       "  th, td {\n",
       "    padding: 5px;\n",
       "  }\n",
       "  th {\n",
       "    text-align: left;\n",
       "  }\n",
       "</style><div class='table-result-container'><table class='table-result'><thead style='background-color: white'><tr><th>month</th><th>total_sales</th><th>growth</th></tr></thead><tbody><tr><td>200912</td><td>799847.1075055711</td><td>null</td></tr><tr><td>201001</td><td>624032.8896515106</td><td>-0.2198097813997982</td></tr><tr><td>201002</td><td>533091.424455221</td><td>-0.14573184635680916</td></tr><tr><td>201003</td><td>765848.757825097</td><td>0.43661804090684114</td></tr><tr><td>201004</td><td>590580.4300854017</td><td>-0.22885501340686726</td></tr><tr><td>201005</td><td>615322.8286303803</td><td>0.041895053212990266</td></tr><tr><td>201006</td><td>679786.6077747606</td><td>0.104764159795383</td></tr><tr><td>201007</td><td>575236.3596651554</td><td>-0.15379862873710315</td></tr><tr><td>201008</td><td>656776.3393343091</td><td>0.1417503923371917</td></tr><tr><td>201009</td><td>853650.4293782803</td><td>0.29975819507066515</td></tr><tr><td>201010</td><td>1045168.3482284844</td><td>0.2243516927528379</td></tr><tr><td>201011</td><td>1422654.6372941246</td><td>0.3611727141426195</td></tr><tr><td>201012</td><td>1126445.4675593823</td><td>-0.208208768291178</td></tr><tr><td>201101</td><td>560000.258079961</td><td>-0.5028607471844263</td></tr><tr><td>201102</td><td>498062.6492906958</td><td>-0.11060282186588073</td></tr><tr><td>201103</td><td>683267.079093039</td><td>0.3718496660331743</td></tr><tr><td>201104</td><td>493207.11913273286</td><td>-0.27816349678750746</td></tr><tr><td>201105</td><td>723333.5078510791</td><td>0.4665917822171869</td></tr><tr><td>201106</td><td>691123.1178948507</td><td>-0.0445304822832291</td></tr><tr><td>201107</td><td>681300.1086762528</td><td>-0.014213110463615543</td></tr><tr><td>201108</td><td>682680.5088247135</td><td>0.0020261264175384284</td></tr><tr><td>201109</td><td>1019687.6194412147</td><td>0.4936527500934289</td></tr><tr><td>201110</td><td>1070704.6672792248</td><td>0.05003203615041173</td></tr><tr><td>201111</td><td>1461756.2452435382</td><td>0.3652282369871584</td></tr><tr><td>201112</td><td>433686.0082483664</td><td>-0.703311677538883</td></tr></tbody></table></div>"
      ]
     },
     "metadata": {
      "application/vnd.databricks.v1+output": {
       "addedWidgets": {},
       "aggData": [],
       "aggError": "",
       "aggOverflow": false,
       "aggSchema": [],
       "aggSeriesLimitReached": false,
       "aggType": "",
       "arguments": {},
       "columnCustomDisplayInfos": {},
       "data": [
        [
         200912,
         799847.1075055711,
         null
        ],
        [
         201001,
         624032.8896515106,
         -0.2198097813997982
        ],
        [
         201002,
         533091.424455221,
         -0.14573184635680916
        ],
        [
         201003,
         765848.757825097,
         0.43661804090684114
        ],
        [
         201004,
         590580.4300854017,
         -0.22885501340686726
        ],
        [
         201005,
         615322.8286303803,
         0.041895053212990266
        ],
        [
         201006,
         679786.6077747606,
         0.104764159795383
        ],
        [
         201007,
         575236.3596651554,
         -0.15379862873710315
        ],
        [
         201008,
         656776.3393343091,
         0.1417503923371917
        ],
        [
         201009,
         853650.4293782803,
         0.29975819507066515
        ],
        [
         201010,
         1045168.3482284844,
         0.2243516927528379
        ],
        [
         201011,
         1422654.6372941246,
         0.3611727141426195
        ],
        [
         201012,
         1126445.4675593823,
         -0.208208768291178
        ],
        [
         201101,
         560000.258079961,
         -0.5028607471844263
        ],
        [
         201102,
         498062.6492906958,
         -0.11060282186588073
        ],
        [
         201103,
         683267.079093039,
         0.3718496660331743
        ],
        [
         201104,
         493207.11913273286,
         -0.27816349678750746
        ],
        [
         201105,
         723333.5078510791,
         0.4665917822171869
        ],
        [
         201106,
         691123.1178948507,
         -0.0445304822832291
        ],
        [
         201107,
         681300.1086762528,
         -0.014213110463615543
        ],
        [
         201108,
         682680.5088247135,
         0.0020261264175384284
        ],
        [
         201109,
         1019687.6194412147,
         0.4936527500934289
        ],
        [
         201110,
         1070704.6672792248,
         0.05003203615041173
        ],
        [
         201111,
         1461756.2452435382,
         0.3652282369871584
        ],
        [
         201112,
         433686.0082483664,
         -0.703311677538883
        ]
       ],
       "datasetInfos": [],
       "dbfsResultPath": null,
       "isJsonSchema": true,
       "metadata": {},
       "overflow": false,
       "plotOptions": {
        "customPlotOptions": {},
        "displayType": "table",
        "pivotAggregation": null,
        "pivotColumns": null,
        "xColumns": null,
        "yColumns": null
       },
       "removedWidgets": [],
       "schema": [
        {
         "metadata": "{}",
         "name": "month",
         "type": "\"integer\""
        },
        {
         "metadata": "{}",
         "name": "total_sales",
         "type": "\"double\""
        },
        {
         "metadata": "{}",
         "name": "growth",
         "type": "\"double\""
        }
       ],
       "type": "table"
      }
     },
     "output_type": "display_data"
    }
   ],
   "source": [
    "from pyspark.sql.window import Window\n",
    "from pyspark.sql.functions import lag\n",
    "\n",
    "monthly_growth = monthly_sales\n",
    "\n",
    "# Calculate the growth of the sales per month as a percentage by subtracting the previous month's sales from the current month's sales and dividing by the previous month's sales\n",
    "monthly_growth = monthly_growth.withColumn(\"growth\", (monthly_growth.total_sales - lag(monthly_growth.total_sales, 1).over(Window.orderBy(\"month\"))) / lag(monthly_growth.total_sales, 1).over(Window.orderBy(\"month\")))\n",
    "monthly_growth = monthly_growth.orderBy(\"month\")\n",
    "display(monthly_growth)"
   ]
  },
  {
   "cell_type": "code",
   "execution_count": 0,
   "metadata": {
    "application/vnd.databricks.v1+cell": {
     "cellMetadata": {
      "byteLimit": 2048000,
      "rowLimit": 10000
     },
     "inputWidgets": {},
     "nuid": "4a342046-2041-4dd4-9c8b-183327c09b81",
     "showTitle": false,
     "tableResultSettingsMap": {},
     "title": ""
    }
   },
   "outputs": [
    {
     "output_type": "display_data",
     "data": {
      "image/png": "[encoded data removed]",
      "text/plain": [
       "<Figure size 1800x1000 with 1 Axes>"
      ]
     },
     "metadata": {},
     "output_type": "display_data"
    }
   ],
   "source": [
    "# Convert pyspark dataframe to pandas dataframe\n",
    "monthly_growth_pd = monthly_growth.toPandas()\n",
    "\n",
    "# Specify the x-axis as the length of the \"month\" column\n",
    "x = range(len(monthly_growth_pd[\"month\"]))\n",
    "# Set the y-axis as the growth column\n",
    "y = monthly_growth_pd[\"growth\"]\n",
    "\n",
    "plt.figure(figsize=(18,10))\n",
    "\n",
    "plt.plot(x, y)\n",
    "plt.xlabel(\"Month\")\n",
    "plt.ylabel(\"Growth %\")\n",
    "plt.title(\"Monthly Growth\")\n",
    "plt.xticks(x, monthly_growth_pd[\"month\"], rotation = 90)\n",
    "\n",
    "plt.show()"
   ]
  },
  {
   "cell_type": "markdown",
   "metadata": {
    "application/vnd.databricks.v1+cell": {
     "cellMetadata": {},
     "inputWidgets": {},
     "nuid": "e63367d4-ec9f-4d3f-a55e-ff57227937f6",
     "showTitle": false,
     "tableResultSettingsMap": {},
     "title": ""
    }
   },
   "source": [
    "# Monthly Active Users"
   ]
  },
  {
   "cell_type": "markdown",
   "metadata": {
    "application/vnd.databricks.v1+cell": {
     "cellMetadata": {},
     "inputWidgets": {},
     "nuid": "7f32cf58-d111-489b-b2cb-6f7f8eb461c1",
     "showTitle": false,
     "tableResultSettingsMap": {},
     "title": ""
    }
   },
   "source": [
    "Show the number of active users per month"
   ]
  },
  {
   "cell_type": "code",
   "execution_count": 0,
   "metadata": {
    "application/vnd.databricks.v1+cell": {
     "cellMetadata": {
      "byteLimit": 2048000,
      "rowLimit": 10000
     },
     "inputWidgets": {},
     "nuid": "558fb52d-12ad-453e-a73e-0dae2c908ce9",
     "showTitle": false,
     "tableResultSettingsMap": {},
     "title": ""
    }
   },
   "outputs": [
    {
     "output_type": "display_data",
     "data": {
      "text/html": [
       "<style scoped>\n",
       "  .table-result-container {\n",
       "    max-height: 300px;\n",
       "    overflow: auto;\n",
       "  }\n",
       "  table, th, td {\n",
       "    border: 1px solid black;\n",
       "    border-collapse: collapse;\n",
       "  }\n",
       "  th, td {\n",
       "    padding: 5px;\n",
       "  }\n",
       "  th {\n",
       "    text-align: left;\n",
       "  }\n",
       "</style><div class='table-result-container'><table class='table-result'><thead style='background-color: white'><tr><th>month</th><th>active_users</th></tr></thead><tbody><tr><td>200912</td><td>1045</td></tr><tr><td>201001</td><td>786</td></tr><tr><td>201002</td><td>807</td></tr><tr><td>201003</td><td>1111</td></tr><tr><td>201004</td><td>998</td></tr><tr><td>201005</td><td>1062</td></tr><tr><td>201006</td><td>1095</td></tr><tr><td>201007</td><td>988</td></tr><tr><td>201008</td><td>964</td></tr><tr><td>201009</td><td>1202</td></tr><tr><td>201010</td><td>1577</td></tr><tr><td>201011</td><td>1683</td></tr><tr><td>201012</td><td>948</td></tr><tr><td>201101</td><td>783</td></tr><tr><td>201102</td><td>798</td></tr><tr><td>201103</td><td>1020</td></tr><tr><td>201104</td><td>899</td></tr><tr><td>201105</td><td>1079</td></tr><tr><td>201106</td><td>1051</td></tr><tr><td>201107</td><td>993</td></tr><tr><td>201108</td><td>980</td></tr><tr><td>201109</td><td>1302</td></tr><tr><td>201110</td><td>1425</td></tr><tr><td>201111</td><td>1711</td></tr><tr><td>201112</td><td>686</td></tr></tbody></table></div>"
      ]
     },
     "metadata": {
      "application/vnd.databricks.v1+output": {
       "addedWidgets": {},
       "aggData": [],
       "aggError": "",
       "aggOverflow": false,
       "aggSchema": [],
       "aggSeriesLimitReached": false,
       "aggType": "",
       "arguments": {},
       "columnCustomDisplayInfos": {},
       "data": [
        [
         200912,
         1045
        ],
        [
         201001,
         786
        ],
        [
         201002,
         807
        ],
        [
         201003,
         1111
        ],
        [
         201004,
         998
        ],
        [
         201005,
         1062
        ],
        [
         201006,
         1095
        ],
        [
         201007,
         988
        ],
        [
         201008,
         964
        ],
        [
         201009,
         1202
        ],
        [
         201010,
         1577
        ],
        [
         201011,
         1683
        ],
        [
         201012,
         948
        ],
        [
         201101,
         783
        ],
        [
         201102,
         798
        ],
        [
         201103,
         1020
        ],
        [
         201104,
         899
        ],
        [
         201105,
         1079
        ],
        [
         201106,
         1051
        ],
        [
         201107,
         993
        ],
        [
         201108,
         980
        ],
        [
         201109,
         1302
        ],
        [
         201110,
         1425
        ],
        [
         201111,
         1711
        ],
        [
         201112,
         686
        ]
       ],
       "datasetInfos": [],
       "dbfsResultPath": null,
       "isJsonSchema": true,
       "metadata": {},
       "overflow": false,
       "plotOptions": {
        "customPlotOptions": {},
        "displayType": "table",
        "pivotAggregation": null,
        "pivotColumns": null,
        "xColumns": null,
        "yColumns": null
       },
       "removedWidgets": [],
       "schema": [
        {
         "metadata": "{}",
         "name": "month",
         "type": "\"integer\""
        },
        {
         "metadata": "{}",
         "name": "active_users",
         "type": "\"long\""
        }
       ],
       "type": "table"
      }
     },
     "output_type": "display_data"
    }
   ],
   "source": [
    "from pyspark.sql.functions import year, month, countDistinct\n",
    "\n",
    "monthly_active_users = spark.sql(\"SELECT * FROM online_retail_ii\")\n",
    "\n",
    "# Create month column by combining the year and month\n",
    "monthly_active_users = monthly_active_users.withColumn(\"month\", year(monthly_active_users.invoice_date) * 100 + month(monthly_active_users.invoice_date))\n",
    "# Calculate the number of unique customers per month\n",
    "monthly_active_users = monthly_active_users.groupBy(\"month\").agg(countDistinct(\"customer_id\").alias(\"active_users\")).orderBy(\"month\")\n",
    "display(monthly_active_users)"
   ]
  },
  {
   "cell_type": "code",
   "execution_count": 0,
   "metadata": {
    "application/vnd.databricks.v1+cell": {
     "cellMetadata": {
      "byteLimit": 2048000,
      "rowLimit": 10000
     },
     "inputWidgets": {},
     "nuid": "9183f20d-5497-448d-8982-1cbe1142074b",
     "showTitle": false,
     "tableResultSettingsMap": {},
     "title": ""
    }
   },
   "outputs": [
    {
     "output_type": "display_data",
     "data": {
      "image/png": "[encoded data removed]",
      "text/plain": [
       "<Figure size 1800x1000 with 1 Axes>"
      ]
     },
     "metadata": {},
     "output_type": "display_data"
    }
   ],
   "source": [
    "# Convert pyspark dataframe to pandas dataframe\n",
    "monthly_active_users_pd = monthly_active_users.toPandas()\n",
    "\n",
    "# Specify the x-axis as the length of the \"month\" column\n",
    "x = range(len(monthly_active_users_pd[\"month\"]))\n",
    "# Set the y-axis as the active users column\n",
    "y = monthly_active_users_pd[\"active_users\"]\n",
    "\n",
    "plt.figure(figsize=(18,10))\n",
    "plt.bar(x, y, width = 0.8, label=\"Active Users\")\n",
    "plt.xlabel(\"Year Month\")\n",
    "plt.ylabel(\"Number of Active Users\")\n",
    "plt.title(\"Monthly Active Users\")\n",
    "\n",
    "plt.xticks(x, monthly_active_users_pd[\"month\"], rotation = 90)\n",
    "plt.show()"
   ]
  },
  {
   "cell_type": "markdown",
   "metadata": {
    "application/vnd.databricks.v1+cell": {
     "cellMetadata": {},
     "inputWidgets": {},
     "nuid": "2304717f-d6bb-45f4-9815-e436b223a167",
     "showTitle": false,
     "tableResultSettingsMap": {},
     "title": ""
    }
   },
   "source": [
    "# New and Existing Users\n",
    "\n"
   ]
  },
  {
   "cell_type": "markdown",
   "metadata": {
    "application/vnd.databricks.v1+cell": {
     "cellMetadata": {},
     "inputWidgets": {},
     "nuid": "e13cbc2c-69f1-41ee-8eb3-613dc7d398ec",
     "showTitle": false,
     "tableResultSettingsMap": {},
     "title": ""
    }
   },
   "source": [
    "Show the number of new users and existing users per month"
   ]
  },
  {
   "cell_type": "code",
   "execution_count": 0,
   "metadata": {
    "application/vnd.databricks.v1+cell": {
     "cellMetadata": {
      "byteLimit": 2048000,
      "rowLimit": 10000
     },
     "inputWidgets": {},
     "nuid": "667ab107-f904-4ae9-a2fc-54bb78b1e855",
     "showTitle": false,
     "tableResultSettingsMap": {},
     "title": ""
    }
   },
   "outputs": [
    {
     "output_type": "display_data",
     "data": {
      "text/html": [
       "<style scoped>\n",
       "  .table-result-container {\n",
       "    max-height: 300px;\n",
       "    overflow: auto;\n",
       "  }\n",
       "  table, th, td {\n",
       "    border: 1px solid black;\n",
       "    border-collapse: collapse;\n",
       "  }\n",
       "  th, td {\n",
       "    padding: 5px;\n",
       "  }\n",
       "  th {\n",
       "    text-align: left;\n",
       "  }\n",
       "</style><div class='table-result-container'><table class='table-result'><thead style='background-color: white'><tr><th>month</th><th>existing_customers_count</th><th>first_order_month</th><th>new_customers_count</th></tr></thead><tbody><tr><td>null</td><td>null</td><td>200912</td><td>1045</td></tr><tr><td>201001</td><td>392</td><td>201001</td><td>394</td></tr><tr><td>201002</td><td>444</td><td>201002</td><td>363</td></tr><tr><td>201003</td><td>675</td><td>201003</td><td>436</td></tr><tr><td>201004</td><td>707</td><td>201004</td><td>291</td></tr><tr><td>201005</td><td>808</td><td>201005</td><td>254</td></tr><tr><td>201006</td><td>826</td><td>201006</td><td>269</td></tr><tr><td>201007</td><td>805</td><td>201007</td><td>183</td></tr><tr><td>201008</td><td>806</td><td>201008</td><td>158</td></tr><tr><td>201009</td><td>960</td><td>201009</td><td>242</td></tr><tr><td>201010</td><td>1198</td><td>201010</td><td>379</td></tr><tr><td>201011</td><td>1361</td><td>201011</td><td>322</td></tr><tr><td>201012</td><td>871</td><td>201012</td><td>77</td></tr><tr><td>201101</td><td>712</td><td>201101</td><td>71</td></tr><tr><td>201102</td><td>675</td><td>201102</td><td>123</td></tr><tr><td>201103</td><td>842</td><td>201103</td><td>178</td></tr><tr><td>201104</td><td>794</td><td>201104</td><td>105</td></tr><tr><td>201105</td><td>971</td><td>201105</td><td>108</td></tr><tr><td>201106</td><td>943</td><td>201106</td><td>108</td></tr><tr><td>201107</td><td>891</td><td>201107</td><td>102</td></tr><tr><td>201108</td><td>874</td><td>201108</td><td>106</td></tr><tr><td>201109</td><td>1115</td><td>201109</td><td>187</td></tr><tr><td>201110</td><td>1204</td><td>201110</td><td>221</td></tr><tr><td>201111</td><td>1519</td><td>201111</td><td>192</td></tr><tr><td>201112</td><td>658</td><td>201112</td><td>28</td></tr></tbody></table></div>"
      ]
     },
     "metadata": {
      "application/vnd.databricks.v1+output": {
       "addedWidgets": {},
       "aggData": [],
       "aggError": "",
       "aggOverflow": false,
       "aggSchema": [],
       "aggSeriesLimitReached": false,
       "aggType": "",
       "arguments": {},
       "columnCustomDisplayInfos": {},
       "data": [
        [
         null,
         null,
         200912,
         1045
        ],
        [
         201001,
         392,
         201001,
         394
        ],
        [
         201002,
         444,
         201002,
         363
        ],
        [
         201003,
         675,
         201003,
         436
        ],
        [
         201004,
         707,
         201004,
         291
        ],
        [
         201005,
         808,
         201005,
         254
        ],
        [
         201006,
         826,
         201006,
         269
        ],
        [
         201007,
         805,
         201007,
         183
        ],
        [
         201008,
         806,
         201008,
         158
        ],
        [
         201009,
         960,
         201009,
         242
        ],
        [
         201010,
         1198,
         201010,
         379
        ],
        [
         201011,
         1361,
         201011,
         322
        ],
        [
         201012,
         871,
         201012,
         77
        ],
        [
         201101,
         712,
         201101,
         71
        ],
        [
         201102,
         675,
         201102,
         123
        ],
        [
         201103,
         842,
         201103,
         178
        ],
        [
         201104,
         794,
         201104,
         105
        ],
        [
         201105,
         971,
         201105,
         108
        ],
        [
         201106,
         943,
         201106,
         108
        ],
        [
         201107,
         891,
         201107,
         102
        ],
        [
         201108,
         874,
         201108,
         106
        ],
        [
         201109,
         1115,
         201109,
         187
        ],
        [
         201110,
         1204,
         201110,
         221
        ],
        [
         201111,
         1519,
         201111,
         192
        ],
        [
         201112,
         658,
         201112,
         28
        ]
       ],
       "datasetInfos": [],
       "dbfsResultPath": null,
       "isJsonSchema": true,
       "metadata": {},
       "overflow": false,
       "plotOptions": {
        "customPlotOptions": {},
        "displayType": "table",
        "pivotAggregation": null,
        "pivotColumns": null,
        "xColumns": null,
        "yColumns": null
       },
       "removedWidgets": [],
       "schema": [
        {
         "metadata": "{}",
         "name": "month",
         "type": "\"integer\""
        },
        {
         "metadata": "{}",
         "name": "existing_customers_count",
         "type": "\"long\""
        },
        {
         "metadata": "{}",
         "name": "first_order_month",
         "type": "\"integer\""
        },
        {
         "metadata": "{}",
         "name": "new_customers_count",
         "type": "\"long\""
        }
       ],
       "type": "table"
      }
     },
     "output_type": "display_data"
    }
   ],
   "source": [
    "from pyspark.sql.functions import min, count, countDistinct\n",
    "\n",
    "df = spark.sql(\"SELECT * FROM online_retail_ii\")\n",
    "\n",
    "# Create month column by combining the year and month\n",
    "df = df.withColumn(\"month\", year(df.invoice_date) * 100 + month(df.invoice_date))\n",
    "\n",
    "# Find the first month each customer made a purchase\n",
    "new_users = df.groupBy(\"customer_id\").agg(min(\"month\").alias(\"first_order_month\"))\n",
    "existing_users = df.join(new_users, \"customer_id\", \"inner\")\n",
    "# Filter out invoices made during a customer's first purchase month\n",
    "existing_users = existing_users.filter(existing_users.month > existing_users.first_order_month)\n",
    "\n",
    "# Calculate the number of new and existing users per month\n",
    "new_users_count = new_users.groupBy(\"first_order_month\").agg(count(\"customer_id\").alias(\"new_customers_count\")).orderBy(\"first_order_month\")\n",
    "existing_users_count = existing_users.groupBy(\"month\").agg(countDistinct(\"customer_id\").alias(\"existing_customers_count\")).orderBy(\"month\")\n",
    "\n",
    "# Join the new and existing users\n",
    "new_ex = existing_users_count.join(new_users_count, existing_users_count.month == new_users_count.first_order_month, \"right\")\n",
    "new_ex = new_ex.orderBy(\"month\")\n",
    "\n",
    "display(new_ex)"
   ]
  },
  {
   "cell_type": "code",
   "execution_count": 0,
   "metadata": {
    "application/vnd.databricks.v1+cell": {
     "cellMetadata": {
      "byteLimit": 2048000,
      "rowLimit": 10000
     },
     "inputWidgets": {},
     "nuid": "32693dca-bb98-40ca-90f5-280986668f98",
     "showTitle": false,
     "tableResultSettingsMap": {},
     "title": ""
    }
   },
   "outputs": [
    {
     "output_type": "display_data",
     "data": {
      "image/png": "[encoded data removed]",
      "text/plain": [
       "<Figure size 1500x1000 with 1 Axes>"
      ]
     },
     "metadata": {},
     "output_type": "display_data"
    }
   ],
   "source": [
    "# Convert pyspark dataframe to pandas dataframe\n",
    "new_ex_pd = new_ex.toPandas()\n",
    "\n",
    "# Specify the x-axis as the length of the \"month\" column\n",
    "x = range(len(new_ex_pd[\"first_order_month\"]))\n",
    "width = 0.35\n",
    "plt.figure(figsize=(15,10))\n",
    "\n",
    "# Plot the new and existing users\n",
    "plt.bar([i - width/2 for i in x], new_ex_pd[\"new_customers_count\"], width, label=\"New Customers\")\n",
    "plt.bar([i + width/2 for i in x], new_ex_pd[\"existing_customers_count\"], width, label=\"Existing Customers\")\n",
    "\n",
    "plt.xlabel(\"Invoice Year Month\")\n",
    "plt.ylabel(\"Number of Users\")\n",
    "plt.title(\"Monthly New and Existing Users\")\n",
    "\n",
    "plt.xticks(x, new_ex_pd[\"first_order_month\"], rotation = 90)\n",
    "plt.legend()\n",
    "plt.show()\n"
   ]
  },
  {
   "cell_type": "markdown",
   "metadata": {
    "application/vnd.databricks.v1+cell": {
     "cellMetadata": {},
     "inputWidgets": {},
     "nuid": "7f0ad3e0-82ea-4869-ac38-fad3960ae2a5",
     "showTitle": false,
     "tableResultSettingsMap": {},
     "title": ""
    }
   },
   "source": [
    "## Finding RFM\n",
    "\n",
    "RFM is a method used for analyzing customer value. It is commonly used in database marketing and direct marketing and has received particular attention in the retail and professional services industries. ([wikipedia](https://en.wikipedia.org/wiki/RFM_(market_research)))\n",
    "\n",
    "Optional Reading: [Making Your Database Pay Off Using Recency Frequency and Monetary Analysis](http://www.dbmarketing.com/2010/03/making-your-database-pay-off-using-recency-frequency-and-monetary-analysis/)\n",
    "\n",
    "\n",
    "RFM stands for three dimensions:\n",
    "\n",
    "- Recency – How recently did the customer purchase?\n",
    "\n",
    "- Frequency – How often do they purchase?\n",
    "\n",
    "- Monetary Value – How much do they spend?\n",
    "\n",
    "Note: To simplify the problem, let's keep all placed and canceled orders.\n",
    "\n",
    "\n",
    "**Sample RFM table**\n",
    "\n",
    "![](https://i.imgur.com/sXFIg6u.jpg)"
   ]
  },
  {
   "cell_type": "code",
   "execution_count": 0,
   "metadata": {
    "application/vnd.databricks.v1+cell": {
     "cellMetadata": {
      "byteLimit": 2048000,
      "rowLimit": 10000
     },
     "inputWidgets": {},
     "nuid": "521a181e-af86-4729-8a02-e026abaf7072",
     "showTitle": false,
     "tableResultSettingsMap": {},
     "title": ""
    }
   },
   "outputs": [
    {
     "output_type": "stream",
     "name": "stdout",
     "output_type": "stream",
     "text": [
      "+-----------+-------+--------------+--------+\n|customer_id|recency|invoice_amount|monetary|\n+-----------+-------+--------------+--------+\n|    12346.0| 201101|            17|  -64.68|\n|    12347.0| 201112|             8| 5633.32|\n|    12348.0| 201109|             5|  2019.4|\n|    12349.0| 201111|             5| 4404.54|\n|    12350.0| 201102|             1|   334.4|\n|    12351.0| 201011|             1|  300.93|\n|    12352.0| 201111|            13| 1889.21|\n|    12353.0| 201105|             2|  406.76|\n|    12354.0| 201104|             1|  1079.4|\n|    12355.0| 201105|             2|  947.61|\n|    12356.0| 201111|             6| 6373.68|\n|    12357.0| 201111|             3|18287.66|\n|    12358.0| 201112|             5| 3887.07|\n|    12359.0| 201112|            14| 8714.89|\n|    12360.0| 201110|             9| 4212.89|\n|    12361.0| 201102|             4|  511.25|\n|    12362.0| 201112|            14| 5284.58|\n|    12363.0| 201108|             2|   552.0|\n|    12364.0| 201112|             4|  1313.1|\n|    12365.0| 201102|             3|  320.69|\n+-----------+-------+--------------+--------+\nonly showing top 20 rows\n\n"
     ]
    }
   ],
   "source": [
    "from pyspark.sql.functions import countDistinct, sum, max, year, month, round\n",
    "\n",
    "rfm = spark.sql(\"SELECT * FROM online_retail_ii WHERE customer_id IS NOT NULL\")\n",
    "\n",
    "# Create month column by combining the year and month\n",
    "rfm = rfm.withColumn(\"month\", year(rfm.invoice_date) * 100 + month(rfm.invoice_date))\n",
    "# Calculate the total price for each row\n",
    "rfm = rfm.withColumn(\"total_price\", rfm.quantity * rfm.price)\n",
    "\n",
    "# Calculate RFM metrics\n",
    "rfm = rfm.groupBy(\"customer_id\").agg( max(\"month\").alias(\"recency\"), countDistinct(\"invoice\").alias(\"invoice_amount\"), round(sum(\"total_price\"), 2).alias(\"monetary\")).orderBy(\"customer_id\")\n",
    "rfm.show()"
   ]
  },
  {
   "cell_type": "markdown",
   "metadata": {
    "application/vnd.databricks.v1+cell": {
     "cellMetadata": {},
     "inputWidgets": {},
     "nuid": "b28e6834-df7c-426d-9e6c-0f0216f4acfe",
     "showTitle": false,
     "tableResultSettingsMap": {},
     "title": ""
    }
   },
   "source": [
    "# RFM Segmentation"
   ]
  },
  {
   "cell_type": "markdown",
   "metadata": {
    "application/vnd.databricks.v1+cell": {
     "cellMetadata": {},
     "inputWidgets": {},
     "nuid": "30361e3f-fed7-482f-b98b-903386c83db0",
     "showTitle": false,
     "tableResultSettingsMap": {},
     "title": ""
    }
   },
   "source": [
    "Segment the customers into 11 groups\n",
    "- About to Sleep\n",
    "- At Risk\n",
    "- Can't Lose\n",
    "- Champions\n",
    "- Hibernating\n",
    "- Loyal Customers\n",
    "- Need Attention\n",
    "- New Customers\n",
    "- Potential Loyalists\n",
    "- Promising"
   ]
  },
  {
   "cell_type": "code",
   "execution_count": 0,
   "metadata": {
    "application/vnd.databricks.v1+cell": {
     "cellMetadata": {
      "byteLimit": 2048000,
      "rowLimit": 10000
     },
     "inputWidgets": {},
     "nuid": "236f892d-7e00-4f3d-9607-ba78c43a3ba3",
     "showTitle": false,
     "tableResultSettingsMap": {},
     "title": ""
    }
   },
   "outputs": [
    {
     "output_type": "stream",
     "name": "stdout",
     "output_type": "stream",
     "text": [
      "+-----------+--------+-------+---------+\n|customer_id|Monetary|Recency|Frequency|\n+-----------+--------+-------+---------+\n|    12346.0| 77556.0|    348|       12|\n|    12347.0|  5633.0|     25|        8|\n|    12348.0|  2019.0|     98|        5|\n|    12349.0|  4429.0|     41|        4|\n|    12350.0|   334.0|    333|        1|\n|    12351.0|   301.0|    398|        1|\n|    12352.0|  2850.0|     59|       10|\n|    12353.0|   407.0|    227|        2|\n|    12354.0|  1079.0|    255|        1|\n|    12355.0|   948.0|    237|        2|\n|    12356.0|  6374.0|     45|        6|\n|    12357.0| 18288.0|     56|        3|\n|    12358.0|  3887.0|     24|        5|\n|    12359.0|  8936.0|     80|       10|\n|    12360.0|  4253.0|     75|        8|\n|    12361.0|   511.0|    310|        4|\n|    12362.0|  5356.0|     26|       11|\n|    12363.0|   552.0|    132|        2|\n|    12364.0|  1313.0|     30|        4|\n|    12365.0|   641.0|    314|        2|\n+-----------+--------+-------+---------+\nonly showing top 20 rows\n\n"
     ]
    }
   ],
   "source": [
    "from pyspark.sql.functions import sum, max, to_date, lit, datediff, count, round\n",
    "from datetime import datetime\n",
    "\n",
    "df = spark.sql(\"SELECT * FROM online_retail_ii WHERE customer_id IS NOT NULL\")\n",
    "\n",
    "# Set today's date as January 1st, 2012\n",
    "today = to_date(lit(\"2012-01-01\"))\n",
    "\n",
    "# Filter out negative quantities and prices\n",
    "df = df.filter((df.quantity > 0) & (df.price > 0))\n",
    "\n",
    "# Calculate the total price for each row\n",
    "df = df.withColumn(\"total_price\", df.quantity * df.price)\n",
    "\n",
    "# Calculate RFM metrics\n",
    "df_x = df.groupBy(\"customer_id\").agg(round(sum(\"total_price\"), 0).alias(\"Monetary\"), datediff(today, max(\"invoice_date\")).alias(\"Recency\")).orderBy(\"customer_id\")\n",
    "\n",
    "# Sum the total price for each invoice\n",
    "df_y = df.groupBy(\"customer_id\", \"invoice\").agg(sum(\"total_price\").alias(\"total_price\"))\n",
    "\n",
    "# Calculate the number of unique invoices for each customer\n",
    "df_z = df_y.groupBy(\"customer_id\").agg(count(\"total_price\").alias(\"Frequency\"))\n",
    "\n",
    "rfm_table = df_x.join(df_z, \"customer_id\", \"inner\").orderBy(\"customer_id\")\n",
    "\n",
    "rfm_table.show()"
   ]
  },
  {
   "cell_type": "code",
   "execution_count": 0,
   "metadata": {
    "application/vnd.databricks.v1+cell": {
     "cellMetadata": {
      "byteLimit": 2048000,
      "rowLimit": 10000
     },
     "inputWidgets": {},
     "nuid": "e8882c46-725e-4bbe-85b3-18845557e724",
     "showTitle": false,
     "tableResultSettingsMap": {},
     "title": ""
    }
   },
   "outputs": [
    {
     "output_type": "execute_result",
     "data": {
      "text/html": [
       "<div>\n",
       "<style scoped>\n",
       "    .dataframe tbody tr th:only-of-type {\n",
       "        vertical-align: middle;\n",
       "    }\n",
       "\n",
       "    .dataframe tbody tr th {\n",
       "        vertical-align: top;\n",
       "    }\n",
       "\n",
       "    .dataframe thead th {\n",
       "        text-align: right;\n",
       "    }\n",
       "</style>\n",
       "<table border=\"1\" class=\"dataframe\">\n",
       "  <thead>\n",
       "    <tr style=\"text-align: right;\">\n",
       "      <th></th>\n",
       "      <th>customer_id</th>\n",
       "      <th>Monetary</th>\n",
       "      <th>Recency</th>\n",
       "      <th>Frequency</th>\n",
       "      <th>RecencyScore</th>\n",
       "      <th>FrequencyScore</th>\n",
       "      <th>MonetaryScore</th>\n",
       "    </tr>\n",
       "  </thead>\n",
       "  <tbody>\n",
       "    <tr>\n",
       "      <th>0</th>\n",
       "      <td>12346.0</td>\n",
       "      <td>77556.0</td>\n",
       "      <td>348</td>\n",
       "      <td>12</td>\n",
       "      <td>2</td>\n",
       "      <td>5</td>\n",
       "      <td>5</td>\n",
       "    </tr>\n",
       "    <tr>\n",
       "      <th>1</th>\n",
       "      <td>12347.0</td>\n",
       "      <td>5633.0</td>\n",
       "      <td>25</td>\n",
       "      <td>8</td>\n",
       "      <td>5</td>\n",
       "      <td>4</td>\n",
       "      <td>5</td>\n",
       "    </tr>\n",
       "    <tr>\n",
       "      <th>2</th>\n",
       "      <td>12348.0</td>\n",
       "      <td>2019.0</td>\n",
       "      <td>98</td>\n",
       "      <td>5</td>\n",
       "      <td>3</td>\n",
       "      <td>4</td>\n",
       "      <td>4</td>\n",
       "    </tr>\n",
       "    <tr>\n",
       "      <th>3</th>\n",
       "      <td>12349.0</td>\n",
       "      <td>4429.0</td>\n",
       "      <td>41</td>\n",
       "      <td>4</td>\n",
       "      <td>5</td>\n",
       "      <td>3</td>\n",
       "      <td>5</td>\n",
       "    </tr>\n",
       "    <tr>\n",
       "      <th>4</th>\n",
       "      <td>12350.0</td>\n",
       "      <td>334.0</td>\n",
       "      <td>333</td>\n",
       "      <td>1</td>\n",
       "      <td>2</td>\n",
       "      <td>1</td>\n",
       "      <td>2</td>\n",
       "    </tr>\n",
       "  </tbody>\n",
       "</table>\n",
       "</div>"
      ],
      "text/plain": [
       "   customer_id  Monetary  Recency  ...  RecencyScore FrequencyScore MonetaryScore\n",
       "0      12346.0   77556.0      348  ...             2              5             5\n",
       "1      12347.0    5633.0       25  ...             5              4             5\n",
       "2      12348.0    2019.0       98  ...             3              4             4\n",
       "3      12349.0    4429.0       41  ...             5              3             5\n",
       "4      12350.0     334.0      333  ...             2              1             2\n",
       "\n",
       "[5 rows x 7 columns]"
      ]
     },
     "execution_count": 50,
     "metadata": {},
     "output_type": "execute_result"
    }
   ],
   "source": [
    "# Convert pyspark dataframe to pandas dataframe\n",
    "rfm_table_pd = rfm_table.toPandas()\n",
    "\n",
    "# Group the RFM metrics into scores of 1 to 5\n",
    "rfm_table_pd['RecencyScore'] = pd.qcut(rfm_table_pd['Recency'],5,labels=[5,4,3,2,1])\n",
    "rfm_table_pd['FrequencyScore'] = pd.qcut(rfm_table_pd['Frequency'].rank(method=\"first\"),5,labels=[1,2,3,4,5])\n",
    "rfm_table_pd['MonetaryScore'] = pd.qcut(rfm_table_pd['Monetary'],5,labels=[1,2,3,4,5])\n",
    "\n",
    "rfm_table_pd.head()"
   ]
  },
  {
   "cell_type": "code",
   "execution_count": 0,
   "metadata": {
    "application/vnd.databricks.v1+cell": {
     "cellMetadata": {
      "byteLimit": 2048000,
      "rowLimit": 10000
     },
     "inputWidgets": {},
     "nuid": "99bcc0c1-b062-4984-aa27-3db2f0750e3e",
     "showTitle": false,
     "tableResultSettingsMap": {},
     "title": ""
    }
   },
   "outputs": [
    {
     "output_type": "execute_result",
     "data": {
      "text/plain": [
       "0    255\n",
       "1    545\n",
       "2    344\n",
       "3    535\n",
       "4    212\n",
       "dtype: object"
      ]
     },
     "execution_count": 54,
     "metadata": {},
     "output_type": "execute_result"
    }
   ],
   "source": [
    "# Display the RFM scores for each customer\n",
    "(rfm_table_pd['RecencyScore'].astype(str) + \n",
    " rfm_table_pd['FrequencyScore'].astype(str) + \n",
    " rfm_table_pd['MonetaryScore'].astype(str)).head()"
   ]
  },
  {
   "cell_type": "code",
   "execution_count": 0,
   "metadata": {
    "application/vnd.databricks.v1+cell": {
     "cellMetadata": {
      "byteLimit": 2048000,
      "rowLimit": 10000
     },
     "inputWidgets": {},
     "nuid": "092e42e2-5a07-4d75-b68a-ac2f8b22a41b",
     "showTitle": false,
     "tableResultSettingsMap": {},
     "title": ""
    }
   },
   "outputs": [
    {
     "output_type": "execute_result",
     "data": {
      "text/html": [
       "<div>\n",
       "<style scoped>\n",
       "    .dataframe tbody tr th:only-of-type {\n",
       "        vertical-align: middle;\n",
       "    }\n",
       "\n",
       "    .dataframe tbody tr th {\n",
       "        vertical-align: top;\n",
       "    }\n",
       "\n",
       "    .dataframe thead th {\n",
       "        text-align: right;\n",
       "    }\n",
       "</style>\n",
       "<table border=\"1\" class=\"dataframe\">\n",
       "  <thead>\n",
       "    <tr style=\"text-align: right;\">\n",
       "      <th></th>\n",
       "      <th>customer_id</th>\n",
       "      <th>Monetary</th>\n",
       "      <th>Recency</th>\n",
       "      <th>Frequency</th>\n",
       "      <th>RecencyScore</th>\n",
       "      <th>FrequencyScore</th>\n",
       "      <th>MonetaryScore</th>\n",
       "      <th>RFM_SCORE</th>\n",
       "    </tr>\n",
       "  </thead>\n",
       "  <tbody>\n",
       "    <tr>\n",
       "      <th>0</th>\n",
       "      <td>12346.0</td>\n",
       "      <td>77556.0</td>\n",
       "      <td>348</td>\n",
       "      <td>12</td>\n",
       "      <td>2</td>\n",
       "      <td>5</td>\n",
       "      <td>5</td>\n",
       "      <td>255</td>\n",
       "    </tr>\n",
       "    <tr>\n",
       "      <th>1</th>\n",
       "      <td>12347.0</td>\n",
       "      <td>5633.0</td>\n",
       "      <td>25</td>\n",
       "      <td>8</td>\n",
       "      <td>5</td>\n",
       "      <td>4</td>\n",
       "      <td>5</td>\n",
       "      <td>545</td>\n",
       "    </tr>\n",
       "    <tr>\n",
       "      <th>2</th>\n",
       "      <td>12348.0</td>\n",
       "      <td>2019.0</td>\n",
       "      <td>98</td>\n",
       "      <td>5</td>\n",
       "      <td>3</td>\n",
       "      <td>4</td>\n",
       "      <td>4</td>\n",
       "      <td>344</td>\n",
       "    </tr>\n",
       "    <tr>\n",
       "      <th>3</th>\n",
       "      <td>12349.0</td>\n",
       "      <td>4429.0</td>\n",
       "      <td>41</td>\n",
       "      <td>4</td>\n",
       "      <td>5</td>\n",
       "      <td>3</td>\n",
       "      <td>5</td>\n",
       "      <td>535</td>\n",
       "    </tr>\n",
       "    <tr>\n",
       "      <th>4</th>\n",
       "      <td>12350.0</td>\n",
       "      <td>334.0</td>\n",
       "      <td>333</td>\n",
       "      <td>1</td>\n",
       "      <td>2</td>\n",
       "      <td>1</td>\n",
       "      <td>2</td>\n",
       "      <td>212</td>\n",
       "    </tr>\n",
       "  </tbody>\n",
       "</table>\n",
       "</div>"
      ],
      "text/plain": [
       "   customer_id  Monetary  Recency  ...  FrequencyScore MonetaryScore RFM_SCORE\n",
       "0      12346.0   77556.0      348  ...               5             5       255\n",
       "1      12347.0    5633.0       25  ...               4             5       545\n",
       "2      12348.0    2019.0       98  ...               4             4       344\n",
       "3      12349.0    4429.0       41  ...               3             5       535\n",
       "4      12350.0     334.0      333  ...               1             2       212\n",
       "\n",
       "[5 rows x 8 columns]"
      ]
     },
     "execution_count": 91,
     "metadata": {},
     "output_type": "execute_result"
    }
   ],
   "source": [
    "# Create RFM score column for each customer\n",
    "rfm_table_pd[\"RFM_SCORE\"] = rfm_table_pd['RecencyScore'].astype(str) + rfm_table_pd['FrequencyScore'].astype(str) + rfm_table_pd['MonetaryScore'].astype(str)\n",
    "rfm_table_pd.head()\n"
   ]
  },
  {
   "cell_type": "code",
   "execution_count": 0,
   "metadata": {
    "application/vnd.databricks.v1+cell": {
     "cellMetadata": {
      "byteLimit": 2048000,
      "rowLimit": 10000
     },
     "inputWidgets": {},
     "nuid": "5938a464-5a90-404f-9813-62de9769ab65",
     "showTitle": false,
     "tableResultSettingsMap": {},
     "title": ""
    }
   },
   "outputs": [
    {
     "output_type": "execute_result",
     "data": {
      "text/html": [
       "<div>\n",
       "<style scoped>\n",
       "    .dataframe tbody tr th:only-of-type {\n",
       "        vertical-align: middle;\n",
       "    }\n",
       "\n",
       "    .dataframe tbody tr th {\n",
       "        vertical-align: top;\n",
       "    }\n",
       "\n",
       "    .dataframe thead th {\n",
       "        text-align: right;\n",
       "    }\n",
       "</style>\n",
       "<table border=\"1\" class=\"dataframe\">\n",
       "  <thead>\n",
       "    <tr style=\"text-align: right;\">\n",
       "      <th></th>\n",
       "      <th>customer_id</th>\n",
       "      <th>Monetary</th>\n",
       "      <th>Recency</th>\n",
       "      <th>Frequency</th>\n",
       "      <th>RecencyScore</th>\n",
       "      <th>FrequencyScore</th>\n",
       "      <th>MonetaryScore</th>\n",
       "      <th>RFM_SCORE</th>\n",
       "      <th>Segment</th>\n",
       "    </tr>\n",
       "  </thead>\n",
       "  <tbody>\n",
       "    <tr>\n",
       "      <th>0</th>\n",
       "      <td>12346.0</td>\n",
       "      <td>77556.0</td>\n",
       "      <td>348</td>\n",
       "      <td>12</td>\n",
       "      <td>2</td>\n",
       "      <td>5</td>\n",
       "      <td>5</td>\n",
       "      <td>255</td>\n",
       "      <td>Can't Lose</td>\n",
       "    </tr>\n",
       "    <tr>\n",
       "      <th>1</th>\n",
       "      <td>12347.0</td>\n",
       "      <td>5633.0</td>\n",
       "      <td>25</td>\n",
       "      <td>8</td>\n",
       "      <td>5</td>\n",
       "      <td>4</td>\n",
       "      <td>5</td>\n",
       "      <td>545</td>\n",
       "      <td>Champions</td>\n",
       "    </tr>\n",
       "    <tr>\n",
       "      <th>2</th>\n",
       "      <td>12348.0</td>\n",
       "      <td>2019.0</td>\n",
       "      <td>98</td>\n",
       "      <td>5</td>\n",
       "      <td>3</td>\n",
       "      <td>4</td>\n",
       "      <td>4</td>\n",
       "      <td>344</td>\n",
       "      <td>Loyal Customers</td>\n",
       "    </tr>\n",
       "    <tr>\n",
       "      <th>3</th>\n",
       "      <td>12349.0</td>\n",
       "      <td>4429.0</td>\n",
       "      <td>41</td>\n",
       "      <td>4</td>\n",
       "      <td>5</td>\n",
       "      <td>3</td>\n",
       "      <td>5</td>\n",
       "      <td>535</td>\n",
       "      <td>Potential Loyalists</td>\n",
       "    </tr>\n",
       "    <tr>\n",
       "      <th>4</th>\n",
       "      <td>12350.0</td>\n",
       "      <td>334.0</td>\n",
       "      <td>333</td>\n",
       "      <td>1</td>\n",
       "      <td>2</td>\n",
       "      <td>1</td>\n",
       "      <td>2</td>\n",
       "      <td>212</td>\n",
       "      <td>Hibernating</td>\n",
       "    </tr>\n",
       "  </tbody>\n",
       "</table>\n",
       "</div>"
      ],
      "text/plain": [
       "   customer_id  Monetary  Recency  ...  MonetaryScore RFM_SCORE              Segment\n",
       "0      12346.0   77556.0      348  ...              5       255           Can't Lose\n",
       "1      12347.0    5633.0       25  ...              5       545            Champions\n",
       "2      12348.0    2019.0       98  ...              4       344      Loyal Customers\n",
       "3      12349.0    4429.0       41  ...              5       535  Potential Loyalists\n",
       "4      12350.0     334.0      333  ...              2       212          Hibernating\n",
       "\n",
       "[5 rows x 9 columns]"
      ]
     },
     "execution_count": 94,
     "metadata": {},
     "output_type": "execute_result"
    }
   ],
   "source": [
    "#segmenting of customers according to RecencyScore and FrequencyScore values\n",
    "seg_map = {\n",
    "    r'[1-2][1-2]': 'Hibernating',\n",
    "    r'[1-2][3-4]': 'At Risk',\n",
    "    r'[1-2]5': 'Can\\'t Lose',\n",
    "    r'3[1-2]': 'About to Sleep',\n",
    "    r'33': 'Need Attention',\n",
    "    r'[3-4][4-5]': 'Loyal Customers',\n",
    "    r'41': 'Promising',\n",
    "    r'51': 'New Customers',\n",
    "    r'[4-5][2-3]': 'Potential Loyalists',\n",
    "    r'5[4-5]': 'Champions'\n",
    "}\n",
    "\n",
    "#creation of segment variable\n",
    "rfm_table_pd['Segment'] = rfm_table_pd['RecencyScore'].astype(str) + rfm_table_pd['FrequencyScore'].astype(str)\n",
    "rfm_table_pd['Segment'] = rfm_table_pd['Segment'].replace(seg_map, regex=True)\n",
    "\n",
    "rfm_table_pd.head()"
   ]
  },
  {
   "cell_type": "code",
   "execution_count": 0,
   "metadata": {
    "application/vnd.databricks.v1+cell": {
     "cellMetadata": {
      "byteLimit": 2048000,
      "rowLimit": 10000
     },
     "inputWidgets": {},
     "nuid": "3b571117-f35d-43f9-888d-f8f567cc0fd8",
     "showTitle": false,
     "tableResultSettingsMap": {},
     "title": ""
    }
   },
   "outputs": [
    {
     "output_type": "execute_result",
     "data": {
      "text/html": [
       "<div>\n",
       "<style scoped>\n",
       "    .dataframe tbody tr th:only-of-type {\n",
       "        vertical-align: middle;\n",
       "    }\n",
       "\n",
       "    .dataframe tbody tr th {\n",
       "        vertical-align: top;\n",
       "    }\n",
       "\n",
       "    .dataframe thead tr th {\n",
       "        text-align: left;\n",
       "    }\n",
       "\n",
       "    .dataframe thead tr:last-of-type th {\n",
       "        text-align: right;\n",
       "    }\n",
       "</style>\n",
       "<table border=\"1\" class=\"dataframe\">\n",
       "  <thead>\n",
       "    <tr>\n",
       "      <th></th>\n",
       "      <th colspan=\"2\" halign=\"left\">Recency</th>\n",
       "      <th colspan=\"2\" halign=\"left\">Frequency</th>\n",
       "      <th colspan=\"2\" halign=\"left\">Monetary</th>\n",
       "    </tr>\n",
       "    <tr>\n",
       "      <th></th>\n",
       "      <th>mean</th>\n",
       "      <th>count</th>\n",
       "      <th>mean</th>\n",
       "      <th>count</th>\n",
       "      <th>mean</th>\n",
       "      <th>count</th>\n",
       "    </tr>\n",
       "    <tr>\n",
       "      <th>Segment</th>\n",
       "      <th></th>\n",
       "      <th></th>\n",
       "      <th></th>\n",
       "      <th></th>\n",
       "      <th></th>\n",
       "      <th></th>\n",
       "    </tr>\n",
       "  </thead>\n",
       "  <tbody>\n",
       "    <tr>\n",
       "      <th>About to Sleep</th>\n",
       "      <td>129.618557</td>\n",
       "      <td>388</td>\n",
       "      <td>1.360825</td>\n",
       "      <td>388</td>\n",
       "      <td>531.956186</td>\n",
       "      <td>388</td>\n",
       "    </tr>\n",
       "    <tr>\n",
       "      <th>At Risk</th>\n",
       "      <td>395.942667</td>\n",
       "      <td>750</td>\n",
       "      <td>3.904000</td>\n",
       "      <td>750</td>\n",
       "      <td>1383.584000</td>\n",
       "      <td>750</td>\n",
       "    </tr>\n",
       "    <tr>\n",
       "      <th>Can't Lose</th>\n",
       "      <td>353.802817</td>\n",
       "      <td>71</td>\n",
       "      <td>15.929577</td>\n",
       "      <td>71</td>\n",
       "      <td>8355.619718</td>\n",
       "      <td>71</td>\n",
       "    </tr>\n",
       "    <tr>\n",
       "      <th>Champions</th>\n",
       "      <td>31.250000</td>\n",
       "      <td>852</td>\n",
       "      <td>19.214789</td>\n",
       "      <td>852</td>\n",
       "      <td>10795.529343</td>\n",
       "      <td>852</td>\n",
       "    </tr>\n",
       "    <tr>\n",
       "      <th>Hibernating</th>\n",
       "      <td>482.012484</td>\n",
       "      <td>1522</td>\n",
       "      <td>1.252300</td>\n",
       "      <td>1522</td>\n",
       "      <td>437.960578</td>\n",
       "      <td>1522</td>\n",
       "    </tr>\n",
       "    <tr>\n",
       "      <th>Loyal Customers</th>\n",
       "      <td>90.306016</td>\n",
       "      <td>1147</td>\n",
       "      <td>9.802964</td>\n",
       "      <td>1147</td>\n",
       "      <td>4199.729730</td>\n",
       "      <td>1147</td>\n",
       "    </tr>\n",
       "    <tr>\n",
       "      <th>Need Attention</th>\n",
       "      <td>136.241636</td>\n",
       "      <td>269</td>\n",
       "      <td>3.156134</td>\n",
       "      <td>269</td>\n",
       "      <td>1283.122677</td>\n",
       "      <td>269</td>\n",
       "    </tr>\n",
       "    <tr>\n",
       "      <th>New Customers</th>\n",
       "      <td>33.303571</td>\n",
       "      <td>56</td>\n",
       "      <td>1.000000</td>\n",
       "      <td>56</td>\n",
       "      <td>356.196429</td>\n",
       "      <td>56</td>\n",
       "    </tr>\n",
       "    <tr>\n",
       "      <th>Potential Loyalists</th>\n",
       "      <td>48.297335</td>\n",
       "      <td>713</td>\n",
       "      <td>2.589060</td>\n",
       "      <td>713</td>\n",
       "      <td>1155.415147</td>\n",
       "      <td>713</td>\n",
       "    </tr>\n",
       "    <tr>\n",
       "      <th>Promising</th>\n",
       "      <td>61.281818</td>\n",
       "      <td>110</td>\n",
       "      <td>1.000000</td>\n",
       "      <td>110</td>\n",
       "      <td>324.481818</td>\n",
       "      <td>110</td>\n",
       "    </tr>\n",
       "  </tbody>\n",
       "</table>\n",
       "</div>"
      ],
      "text/plain": [
       "                        Recency        Frequency            Monetary      \n",
       "                           mean count       mean count          mean count\n",
       "Segment                                                                   \n",
       "About to Sleep       129.618557   388   1.360825   388    531.956186   388\n",
       "At Risk              395.942667   750   3.904000   750   1383.584000   750\n",
       "Can't Lose           353.802817    71  15.929577    71   8355.619718    71\n",
       "Champions             31.250000   852  19.214789   852  10795.529343   852\n",
       "Hibernating          482.012484  1522   1.252300  1522    437.960578  1522\n",
       "Loyal Customers       90.306016  1147   9.802964  1147   4199.729730  1147\n",
       "Need Attention       136.241636   269   3.156134   269   1283.122677   269\n",
       "New Customers         33.303571    56   1.000000    56    356.196429    56\n",
       "Potential Loyalists   48.297335   713   2.589060   713   1155.415147   713\n",
       "Promising             61.281818   110   1.000000   110    324.481818   110"
      ]
     },
     "execution_count": 68,
     "metadata": {},
     "output_type": "execute_result"
    }
   ],
   "source": [
    "rfm_table_pd[[\"Segment\", \"Recency\",\"Frequency\",\"Monetary\"]].groupby(\"Segment\").agg([\"mean\",\"count\"])\n"
   ]
  }
 ],
 "metadata": {
  "application/vnd.databricks.v1+notebook": {
   "computePreferences": null,
   "dashboards": [],
   "environmentMetadata": null,
   "inputWidgetPreferences": null,
   "language": "python",
   "notebookMetadata": {
    "mostRecentlyExecutedCommandWithImplicitDF": {
     "commandId": 5911671500197436,
     "dataframes": [
      "_sqldf"
     ]
    },
    "pythonIndentUnit": 4
   },
   "notebookName": "Retail Data Analytics with Pyspark",
   "widgets": {}
  },
  "kernelspec": {
   "display_name": "Python 3",
   "language": "python",
   "name": "python3"
  },
  "language_info": {
   "name": "python"
  }
 },
 "nbformat": 4,
 "nbformat_minor": 0
}