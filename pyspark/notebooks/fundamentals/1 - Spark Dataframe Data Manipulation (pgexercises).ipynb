{
 "cells": [
  {
   "cell_type": "markdown",
   "metadata": {
    "application/vnd.databricks.v1+cell": {
     "cellMetadata": {
      "byteLimit": 2048000,
      "rowLimit": 10000
     },
     "inputWidgets": {},
     "nuid": "53193039-ba28-4c23-92e7-d4109013bb0c",
     "showTitle": false,
     "tableResultSettingsMap": {},
     "title": ""
    }
   },
   "source": [
    "# Learning Objectives\n",
    "In this notebook, you will learn Spark Dataframe APIs.\n",
    "\n",
    "# Question List\n",
    "\n",
    "Solve the following questions using Spark Dataframe APIs\n",
    "\n",
    "### Join\n",
    "\n",
    "1. easy - https://pgexercises.com/questions/joins/simplejoin.html\n",
    "2. easy - https://pgexercises.com/questions/joins/simplejoin2.html\n",
    "3. easy - https://pgexercises.com/questions/joins/self2.html \n",
    "4. medium - https://pgexercises.com/questions/joins/threejoin.html (three join)\n",
    "5. medium - https://pgexercises.com/questions/joins/sub.html (subquery and join)\n",
    "\n",
    "### Aggregation\n",
    "\n",
    "1. easy - https://pgexercises.com/questions/aggregates/count3.html Group by order by\n",
    "2. easy - https://pgexercises.com/questions/aggregates/fachours.html group by order by\n",
    "3. easy - https://pgexercises.com/questions/aggregates/fachoursbymonth.html group by with condition \n",
    "4. easy - https://pgexercises.com/questions/aggregates/fachoursbymonth2.html group by multi col\n",
    "5. easy - https://pgexercises.com/questions/aggregates/members1.html count distinct\n",
    "6. med - https://pgexercises.com/questions/aggregates/nbooking.html group by multiple cols, join\n",
    "\n",
    "### String & Date\n",
    "\n",
    "1. easy - https://pgexercises.com/questions/string/concat.html format string\n",
    "2. easy - https://pgexercises.com/questions/string/case.html WHERE + string function\n",
    "3. easy - https://pgexercises.com/questions/string/reg.html WHERE + string function\n",
    "4. easy - https://pgexercises.com/questions/string/substr.html group by, substr\n",
    "5. easy - https://pgexercises.com/questions/date/series.html generate ts\n",
    "6. easy - https://pgexercises.com/questions/date/bookingspermonth.html extract month from ts"
   ]
  },
  {
   "cell_type": "markdown",
   "metadata": {
    "application/vnd.databricks.v1+cell": {
     "cellMetadata": {
      "byteLimit": 2048000,
      "rowLimit": 10000
     },
     "inputWidgets": {},
     "nuid": "5af8ed8a-34dc-4766-a62b-cdc1dfd2ec41",
     "showTitle": false,
     "tableResultSettingsMap": {},
     "title": ""
    }
   },
   "source": [
    "### Question\n",
    "\n",
    "How can you produce a list of the start times for bookings by members named 'David Farrell'?\n",
    "\n",
    "https://pgexercises.com/questions/joins/simplejoin.html"
   ]
  },
  {
   "cell_type": "code",
   "execution_count": 0,
   "metadata": {
    "application/vnd.databricks.v1+cell": {
     "cellMetadata": {
      "byteLimit": 2048000,
      "rowLimit": 10000
     },
     "inputWidgets": {},
     "nuid": "cd26e494-0ac0-4d54-b463-563b18d5d371",
     "showTitle": false,
     "tableResultSettingsMap": {},
     "title": ""
    }
   },
   "outputs": [
    {
     "output_type": "display_data",
     "data": {
      "text/html": [
       "<style scoped>\n",
       "  .table-result-container {\n",
       "    max-height: 300px;\n",
       "    overflow: auto;\n",
       "  }\n",
       "  table, th, td {\n",
       "    border: 1px solid black;\n",
       "    border-collapse: collapse;\n",
       "  }\n",
       "  th, td {\n",
       "    padding: 5px;\n",
       "  }\n",
       "  th {\n",
       "    text-align: left;\n",
       "  }\n",
       "</style><div class='table-result-container'><table class='table-result'><thead style='background-color: white'><tr><th>starttime</th></tr></thead><tbody><tr><td>2012-09-18T09:00:00.000+0000</td></tr><tr><td>2012-09-18T17:30:00.000+0000</td></tr><tr><td>2012-09-18T13:30:00.000+0000</td></tr><tr><td>2012-09-18T20:00:00.000+0000</td></tr><tr><td>2012-09-19T09:30:00.000+0000</td></tr><tr><td>2012-09-19T15:00:00.000+0000</td></tr><tr><td>2012-09-19T12:00:00.000+0000</td></tr><tr><td>2012-09-20T15:30:00.000+0000</td></tr><tr><td>2012-09-20T11:30:00.000+0000</td></tr><tr><td>2012-09-20T14:00:00.000+0000</td></tr><tr><td>2012-09-21T10:30:00.000+0000</td></tr><tr><td>2012-09-21T14:00:00.000+0000</td></tr><tr><td>2012-09-22T08:30:00.000+0000</td></tr><tr><td>2012-09-22T17:00:00.000+0000</td></tr><tr><td>2012-09-23T08:30:00.000+0000</td></tr><tr><td>2012-09-23T17:30:00.000+0000</td></tr><tr><td>2012-09-23T19:00:00.000+0000</td></tr><tr><td>2012-09-24T08:00:00.000+0000</td></tr><tr><td>2012-09-24T16:30:00.000+0000</td></tr><tr><td>2012-09-24T12:30:00.000+0000</td></tr><tr><td>2012-09-25T15:30:00.000+0000</td></tr><tr><td>2012-09-25T17:00:00.000+0000</td></tr><tr><td>2012-09-26T13:00:00.000+0000</td></tr><tr><td>2012-09-26T17:00:00.000+0000</td></tr><tr><td>2012-09-27T08:00:00.000+0000</td></tr><tr><td>2012-09-28T11:30:00.000+0000</td></tr><tr><td>2012-09-28T09:30:00.000+0000</td></tr><tr><td>2012-09-28T13:00:00.000+0000</td></tr><tr><td>2012-09-29T16:00:00.000+0000</td></tr><tr><td>2012-09-29T10:30:00.000+0000</td></tr><tr><td>2012-09-29T13:30:00.000+0000</td></tr><tr><td>2012-09-29T14:30:00.000+0000</td></tr><tr><td>2012-09-29T17:30:00.000+0000</td></tr><tr><td>2012-09-30T14:30:00.000+0000</td></tr></tbody></table></div>"
      ]
     },
     "metadata": {
      "application/vnd.databricks.v1+output": {
       "addedWidgets": {},
       "aggData": [],
       "aggError": "",
       "aggOverflow": false,
       "aggSchema": [],
       "aggSeriesLimitReached": false,
       "aggType": "",
       "arguments": {},
       "columnCustomDisplayInfos": {},
       "data": [
        [
         "2012-09-18T09:00:00.000+0000"
        ],
        [
         "2012-09-18T17:30:00.000+0000"
        ],
        [
         "2012-09-18T13:30:00.000+0000"
        ],
        [
         "2012-09-18T20:00:00.000+0000"
        ],
        [
         "2012-09-19T09:30:00.000+0000"
        ],
        [
         "2012-09-19T15:00:00.000+0000"
        ],
        [
         "2012-09-19T12:00:00.000+0000"
        ],
        [
         "2012-09-20T15:30:00.000+0000"
        ],
        [
         "2012-09-20T11:30:00.000+0000"
        ],
        [
         "2012-09-20T14:00:00.000+0000"
        ],
        [
         "2012-09-21T10:30:00.000+0000"
        ],
        [
         "2012-09-21T14:00:00.000+0000"
        ],
        [
         "2012-09-22T08:30:00.000+0000"
        ],
        [
         "2012-09-22T17:00:00.000+0000"
        ],
        [
         "2012-09-23T08:30:00.000+0000"
        ],
        [
         "2012-09-23T17:30:00.000+0000"
        ],
        [
         "2012-09-23T19:00:00.000+0000"
        ],
        [
         "2012-09-24T08:00:00.000+0000"
        ],
        [
         "2012-09-24T16:30:00.000+0000"
        ],
        [
         "2012-09-24T12:30:00.000+0000"
        ],
        [
         "2012-09-25T15:30:00.000+0000"
        ],
        [
         "2012-09-25T17:00:00.000+0000"
        ],
        [
         "2012-09-26T13:00:00.000+0000"
        ],
        [
         "2012-09-26T17:00:00.000+0000"
        ],
        [
         "2012-09-27T08:00:00.000+0000"
        ],
        [
         "2012-09-28T11:30:00.000+0000"
        ],
        [
         "2012-09-28T09:30:00.000+0000"
        ],
        [
         "2012-09-28T13:00:00.000+0000"
        ],
        [
         "2012-09-29T16:00:00.000+0000"
        ],
        [
         "2012-09-29T10:30:00.000+0000"
        ],
        [
         "2012-09-29T13:30:00.000+0000"
        ],
        [
         "2012-09-29T14:30:00.000+0000"
        ],
        [
         "2012-09-29T17:30:00.000+0000"
        ],
        [
         "2012-09-30T14:30:00.000+0000"
        ]
       ],
       "datasetInfos": [],
       "dbfsResultPath": null,
       "isJsonSchema": true,
       "metadata": {},
       "overflow": false,
       "plotOptions": {
        "customPlotOptions": {},
        "displayType": "table",
        "pivotAggregation": null,
        "pivotColumns": null,
        "xColumns": null,
        "yColumns": null
       },
       "removedWidgets": [],
       "schema": [
        {
         "metadata": "{}",
         "name": "starttime",
         "type": "\"timestamp\""
        }
       ],
       "type": "table"
      }
     },
     "output_type": "display_data"
    }
   ],
   "source": [
    "# Write you solution here\n",
    "# hint: you might need to re-run `0 - ETL pgexercieses CSV files` notebook to init tables\n",
    "\n",
    "members = spark.sql(\"SELECT * FROM members\")\n",
    "bookings = spark.sql(\"SELECT * FROM bookings\")\n",
    "\n",
    "bookings = bookings.join(members, bookings[\"memid\"] == members[\"memid\"], 'inner')\n",
    "bookings = bookings.filter((bookings[\"firstname\"] == 'David') & (bookings[\"surname\"] == 'Farrell'))\n",
    "display(bookings.select(\"starttime\"))"
   ]
  },
  {
   "cell_type": "markdown",
   "metadata": {
    "application/vnd.databricks.v1+cell": {
     "cellMetadata": {
      "byteLimit": 2048000,
      "rowLimit": 10000
     },
     "inputWidgets": {},
     "nuid": "ff72e52d-1973-4b94-bc0e-87b1e12b2a54",
     "showTitle": false,
     "tableResultSettingsMap": {},
     "title": ""
    }
   },
   "source": [
    "### Question\n",
    "How can you produce a list of the start times for bookings for tennis courts, for the date '2012-09-21'? Return a list of start time and facility name pairings, ordered by the time.\n",
    "https://pgexercises.com/questions/joins/simplejoin2.html"
   ]
  },
  {
   "cell_type": "code",
   "execution_count": 0,
   "metadata": {
    "application/vnd.databricks.v1+cell": {
     "cellMetadata": {
      "byteLimit": 2048000,
      "rowLimit": 10000
     },
     "inputWidgets": {},
     "nuid": "f7f5f4dc-31ec-4dbd-8428-33cc490f05a4",
     "showTitle": false,
     "tableResultSettingsMap": {},
     "title": ""
    }
   },
   "outputs": [
    {
     "output_type": "display_data",
     "data": {
      "text/html": [
       "<style scoped>\n",
       "  .table-result-container {\n",
       "    max-height: 300px;\n",
       "    overflow: auto;\n",
       "  }\n",
       "  table, th, td {\n",
       "    border: 1px solid black;\n",
       "    border-collapse: collapse;\n",
       "  }\n",
       "  th, td {\n",
       "    padding: 5px;\n",
       "  }\n",
       "  th {\n",
       "    text-align: left;\n",
       "  }\n",
       "</style><div class='table-result-container'><table class='table-result'><thead style='background-color: white'><tr><th>starttime</th><th>name</th></tr></thead><tbody><tr><td>2012-09-21T08:00:00.000+0000</td><td>Tennis Court 1</td></tr><tr><td>2012-09-21T08:00:00.000+0000</td><td>Tennis Court 2</td></tr><tr><td>2012-09-21T09:30:00.000+0000</td><td>Tennis Court 1</td></tr><tr><td>2012-09-21T10:00:00.000+0000</td><td>Tennis Court 2</td></tr><tr><td>2012-09-21T11:30:00.000+0000</td><td>Tennis Court 2</td></tr><tr><td>2012-09-21T12:00:00.000+0000</td><td>Tennis Court 1</td></tr><tr><td>2012-09-21T13:30:00.000+0000</td><td>Tennis Court 1</td></tr><tr><td>2012-09-21T14:00:00.000+0000</td><td>Tennis Court 2</td></tr><tr><td>2012-09-21T15:30:00.000+0000</td><td>Tennis Court 1</td></tr><tr><td>2012-09-21T16:00:00.000+0000</td><td>Tennis Court 2</td></tr><tr><td>2012-09-21T17:00:00.000+0000</td><td>Tennis Court 1</td></tr><tr><td>2012-09-21T18:00:00.000+0000</td><td>Tennis Court 2</td></tr></tbody></table></div>"
      ]
     },
     "metadata": {
      "application/vnd.databricks.v1+output": {
       "addedWidgets": {},
       "aggData": [],
       "aggError": "",
       "aggOverflow": false,
       "aggSchema": [],
       "aggSeriesLimitReached": false,
       "aggType": "",
       "arguments": {},
       "columnCustomDisplayInfos": {},
       "data": [
        [
         "2012-09-21T08:00:00.000+0000",
         "Tennis Court 1"
        ],
        [
         "2012-09-21T08:00:00.000+0000",
         "Tennis Court 2"
        ],
        [
         "2012-09-21T09:30:00.000+0000",
         "Tennis Court 1"
        ],
        [
         "2012-09-21T10:00:00.000+0000",
         "Tennis Court 2"
        ],
        [
         "2012-09-21T11:30:00.000+0000",
         "Tennis Court 2"
        ],
        [
         "2012-09-21T12:00:00.000+0000",
         "Tennis Court 1"
        ],
        [
         "2012-09-21T13:30:00.000+0000",
         "Tennis Court 1"
        ],
        [
         "2012-09-21T14:00:00.000+0000",
         "Tennis Court 2"
        ],
        [
         "2012-09-21T15:30:00.000+0000",
         "Tennis Court 1"
        ],
        [
         "2012-09-21T16:00:00.000+0000",
         "Tennis Court 2"
        ],
        [
         "2012-09-21T17:00:00.000+0000",
         "Tennis Court 1"
        ],
        [
         "2012-09-21T18:00:00.000+0000",
         "Tennis Court 2"
        ]
       ],
       "datasetInfos": [],
       "dbfsResultPath": null,
       "isJsonSchema": true,
       "metadata": {},
       "overflow": false,
       "plotOptions": {
        "customPlotOptions": {},
        "displayType": "table",
        "pivotAggregation": null,
        "pivotColumns": null,
        "xColumns": null,
        "yColumns": null
       },
       "removedWidgets": [],
       "schema": [
        {
         "metadata": "{}",
         "name": "starttime",
         "type": "\"timestamp\""
        },
        {
         "metadata": "{}",
         "name": "name",
         "type": "\"string\""
        }
       ],
       "type": "table"
      }
     },
     "output_type": "display_data"
    }
   ],
   "source": [
    "bookings = spark.sql(\"SELECT * FROM bookings\")\n",
    "facilities = spark.sql(\"SELECT * FROM facilities\")\n",
    "\n",
    "bookings = bookings.join(facilities, 'facid', 'inner')\n",
    "bookings = bookings.filter((bookings[\"name\"].like('Tennis Court %')) & (bookings[\"starttime\"] >= \"2012-09-21 00:00:00\") & (bookings[\"starttime\"] < \"2012-09-22 00:00:00\"))\n",
    "display(bookings.select(\"starttime\", \"name\").orderBy(bookings.starttime.asc()))\n"
   ]
  },
  {
   "cell_type": "markdown",
   "metadata": {
    "application/vnd.databricks.v1+cell": {
     "cellMetadata": {
      "byteLimit": 2048000,
      "rowLimit": 10000
     },
     "inputWidgets": {},
     "nuid": "0326d188-de24-470f-bd8b-c7207ad6024b",
     "showTitle": false,
     "tableResultSettingsMap": {},
     "title": ""
    }
   },
   "source": [
    "### Question\n",
    "How can you output a list of all members, including the individual who recommended them (if any)? Ensure that results are ordered by (surname, firstname).\n",
    "https://pgexercises.com/questions/joins/self2.html"
   ]
  },
  {
   "cell_type": "code",
   "execution_count": 0,
   "metadata": {
    "application/vnd.databricks.v1+cell": {
     "cellMetadata": {
      "byteLimit": 2048000,
      "rowLimit": 10000
     },
     "inputWidgets": {},
     "nuid": "26af9355-15d6-4c89-b66b-35ec93ab7b8f",
     "showTitle": false,
     "tableResultSettingsMap": {},
     "title": ""
    }
   },
   "outputs": [
    {
     "output_type": "display_data",
     "data": {
      "text/html": [
       "<style scoped>\n",
       "  .table-result-container {\n",
       "    max-height: 300px;\n",
       "    overflow: auto;\n",
       "  }\n",
       "  table, th, td {\n",
       "    border: 1px solid black;\n",
       "    border-collapse: collapse;\n",
       "  }\n",
       "  th, td {\n",
       "    padding: 5px;\n",
       "  }\n",
       "  th {\n",
       "    text-align: left;\n",
       "  }\n",
       "</style><div class='table-result-container'><table class='table-result'><thead style='background-color: white'><tr><th>memfname</th><th>memsname</th><th>recfname</th><th>recsname</th></tr></thead><tbody><tr><td>Florence</td><td>Bader</td><td>Ponder</td><td>Stibbons</td></tr><tr><td>Anne</td><td>Baker</td><td>Ponder</td><td>Stibbons</td></tr><tr><td>Timothy</td><td>Baker</td><td>Jemima</td><td>Farrell</td></tr><tr><td>Tim</td><td>Boothe</td><td>Tim</td><td>Rownam</td></tr><tr><td>Gerald</td><td>Butters</td><td>Darren</td><td>Smith</td></tr><tr><td>Joan</td><td>Coplin</td><td>Timothy</td><td>Baker</td></tr><tr><td>Erica</td><td>Crumpet</td><td>Tracy</td><td>Smith</td></tr><tr><td>Nancy</td><td>Dare</td><td>Janice</td><td>Joplette</td></tr><tr><td>David</td><td>Farrell</td><td>null</td><td>null</td></tr><tr><td>Jemima</td><td>Farrell</td><td>null</td><td>null</td></tr><tr><td>GUEST</td><td>GUEST</td><td>null</td><td>null</td></tr><tr><td>Matthew</td><td>Genting</td><td>Gerald</td><td>Butters</td></tr><tr><td>John</td><td>Hunt</td><td>Millicent</td><td>Purview</td></tr><tr><td>David</td><td>Jones</td><td>Janice</td><td>Joplette</td></tr><tr><td>Douglas</td><td>Jones</td><td>David</td><td>Jones</td></tr><tr><td>Janice</td><td>Joplette</td><td>Darren</td><td>Smith</td></tr><tr><td>Anna</td><td>Mackenzie</td><td>Darren</td><td>Smith</td></tr><tr><td>Charles</td><td>Owen</td><td>Darren</td><td>Smith</td></tr><tr><td>David</td><td>Pinker</td><td>Jemima</td><td>Farrell</td></tr><tr><td>Millicent</td><td>Purview</td><td>Tracy</td><td>Smith</td></tr><tr><td>Tim</td><td>Rownam</td><td>null</td><td>null</td></tr><tr><td>Henrietta</td><td>Rumney</td><td>Matthew</td><td>Genting</td></tr><tr><td>Ramnaresh</td><td>Sarwin</td><td>Florence</td><td>Bader</td></tr><tr><td>Darren</td><td>Smith</td><td>null</td><td>null</td></tr><tr><td>Darren</td><td>Smith</td><td>null</td><td>null</td></tr><tr><td>Jack</td><td>Smith</td><td>Darren</td><td>Smith</td></tr><tr><td>Tracy</td><td>Smith</td><td>null</td><td>null</td></tr><tr><td>Ponder</td><td>Stibbons</td><td>Burton</td><td>Tracy</td></tr><tr><td>Burton</td><td>Tracy</td><td>null</td><td>null</td></tr><tr><td>Hyacinth</td><td>Tupperware</td><td>null</td><td>null</td></tr><tr><td>Henry</td><td>Worthington-Smyth</td><td>Tracy</td><td>Smith</td></tr></tbody></table></div>"
      ]
     },
     "metadata": {
      "application/vnd.databricks.v1+output": {
       "addedWidgets": {},
       "aggData": [],
       "aggError": "",
       "aggOverflow": false,
       "aggSchema": [],
       "aggSeriesLimitReached": false,
       "aggType": "",
       "arguments": {},
       "columnCustomDisplayInfos": {},
       "data": [
        [
         "Florence",
         "Bader",
         "Ponder",
         "Stibbons"
        ],
        [
         "Anne",
         "Baker",
         "Ponder",
         "Stibbons"
        ],
        [
         "Timothy",
         "Baker",
         "Jemima",
         "Farrell"
        ],
        [
         "Tim",
         "Boothe",
         "Tim",
         "Rownam"
        ],
        [
         "Gerald",
         "Butters",
         "Darren",
         "Smith"
        ],
        [
         "Joan",
         "Coplin",
         "Timothy",
         "Baker"
        ],
        [
         "Erica",
         "Crumpet",
         "Tracy",
         "Smith"
        ],
        [
         "Nancy",
         "Dare",
         "Janice",
         "Joplette"
        ],
        [
         "David",
         "Farrell",
         null,
         null
        ],
        [
         "Jemima",
         "Farrell",
         null,
         null
        ],
        [
         "GUEST",
         "GUEST",
         null,
         null
        ],
        [
         "Matthew",
         "Genting",
         "Gerald",
         "Butters"
        ],
        [
         "John",
         "Hunt",
         "Millicent",
         "Purview"
        ],
        [
         "David",
         "Jones",
         "Janice",
         "Joplette"
        ],
        [
         "Douglas",
         "Jones",
         "David",
         "Jones"
        ],
        [
         "Janice",
         "Joplette",
         "Darren",
         "Smith"
        ],
        [
         "Anna",
         "Mackenzie",
         "Darren",
         "Smith"
        ],
        [
         "Charles",
         "Owen",
         "Darren",
         "Smith"
        ],
        [
         "David",
         "Pinker",
         "Jemima",
         "Farrell"
        ],
        [
         "Millicent",
         "Purview",
         "Tracy",
         "Smith"
        ],
        [
         "Tim",
         "Rownam",
         null,
         null
        ],
        [
         "Henrietta",
         "Rumney",
         "Matthew",
         "Genting"
        ],
        [
         "Ramnaresh",
         "Sarwin",
         "Florence",
         "Bader"
        ],
        [
         "Darren",
         "Smith",
         null,
         null
        ],
        [
         "Darren",
         "Smith",
         null,
         null
        ],
        [
         "Jack",
         "Smith",
         "Darren",
         "Smith"
        ],
        [
         "Tracy",
         "Smith",
         null,
         null
        ],
        [
         "Ponder",
         "Stibbons",
         "Burton",
         "Tracy"
        ],
        [
         "Burton",
         "Tracy",
         null,
         null
        ],
        [
         "Hyacinth",
         "Tupperware",
         null,
         null
        ],
        [
         "Henry",
         "Worthington-Smyth",
         "Tracy",
         "Smith"
        ]
       ],
       "datasetInfos": [],
       "dbfsResultPath": null,
       "isJsonSchema": true,
       "metadata": {},
       "overflow": false,
       "plotOptions": {
        "customPlotOptions": {},
        "displayType": "table",
        "pivotAggregation": null,
        "pivotColumns": null,
        "xColumns": null,
        "yColumns": null
       },
       "removedWidgets": [],
       "schema": [
        {
         "metadata": "{}",
         "name": "memfname",
         "type": "\"string\""
        },
        {
         "metadata": "{}",
         "name": "memsname",
         "type": "\"string\""
        },
        {
         "metadata": "{}",
         "name": "recfname",
         "type": "\"string\""
        },
        {
         "metadata": "{}",
         "name": "recsname",
         "type": "\"string\""
        }
       ],
       "type": "table"
      }
     },
     "output_type": "display_data"
    }
   ],
   "source": [
    "members = spark.sql(\"SELECT * FROM members\")\n",
    "recommenders = spark.sql(\"SELECT * FROM members\")\n",
    "\n",
    "joined = members.join(recommenders, members[\"recommendedby\"] == recommenders[\"memid\"], \"left\")\n",
    "result = joined.select(\n",
    "    members.firstname.alias(\"memfname\"),\n",
    "    members.surname.alias(\"memsname\"),\n",
    "    recommenders.firstname.alias(\"recfname\"),\n",
    "    recommenders.surname.alias(\"recsname\")\n",
    ")\n",
    "display(result.orderBy([\"memsname\", \"memfname\"], ascending = True))\n"
   ]
  },
  {
   "cell_type": "markdown",
   "metadata": {
    "application/vnd.databricks.v1+cell": {
     "cellMetadata": {
      "byteLimit": 2048000,
      "rowLimit": 10000
     },
     "inputWidgets": {},
     "nuid": "38ce76fb-4424-4470-b6d1-398101fb4fc9",
     "showTitle": false,
     "tableResultSettingsMap": {},
     "title": ""
    }
   },
   "source": [
    "### Question\n",
    "How can you produce a list of all members who have used a tennis court? Include in your output the name of the court, and the name of the member formatted as a single column. Ensure no duplicate data, and order by the member name followed by the facility name. \\\n",
    "https://pgexercises.com/questions/joins/threejoin.html"
   ]
  },
  {
   "cell_type": "code",
   "execution_count": 0,
   "metadata": {
    "application/vnd.databricks.v1+cell": {
     "cellMetadata": {
      "byteLimit": 2048000,
      "rowLimit": 10000
     },
     "inputWidgets": {},
     "nuid": "12e8d16f-f9ce-49d9-a2fc-8d664b539fe8",
     "showTitle": false,
     "tableResultSettingsMap": {},
     "title": ""
    }
   },
   "outputs": [
    {
     "output_type": "display_data",
     "data": {
      "text/html": [
       "<style scoped>\n",
       "  .table-result-container {\n",
       "    max-height: 300px;\n",
       "    overflow: auto;\n",
       "  }\n",
       "  table, th, td {\n",
       "    border: 1px solid black;\n",
       "    border-collapse: collapse;\n",
       "  }\n",
       "  th, td {\n",
       "    padding: 5px;\n",
       "  }\n",
       "  th {\n",
       "    text-align: left;\n",
       "  }\n",
       "</style><div class='table-result-container'><table class='table-result'><thead style='background-color: white'><tr><th>member</th><th>name</th></tr></thead><tbody><tr><td>Anne Baker</td><td>Tennis Court 1</td></tr><tr><td>Anne Baker</td><td>Tennis Court 2</td></tr><tr><td>Burton Tracy</td><td>Tennis Court 1</td></tr><tr><td>Burton Tracy</td><td>Tennis Court 2</td></tr><tr><td>Charles Owen</td><td>Tennis Court 1</td></tr><tr><td>Charles Owen</td><td>Tennis Court 2</td></tr><tr><td>Darren Smith</td><td>Tennis Court 2</td></tr><tr><td>David Farrell</td><td>Tennis Court 1</td></tr><tr><td>David Farrell</td><td>Tennis Court 2</td></tr><tr><td>David Jones</td><td>Tennis Court 1</td></tr><tr><td>David Jones</td><td>Tennis Court 2</td></tr><tr><td>David Pinker</td><td>Tennis Court 1</td></tr><tr><td>Douglas Jones</td><td>Tennis Court 1</td></tr><tr><td>Erica Crumpet</td><td>Tennis Court 1</td></tr><tr><td>Florence Bader</td><td>Tennis Court 1</td></tr><tr><td>Florence Bader</td><td>Tennis Court 2</td></tr><tr><td>GUEST GUEST</td><td>Tennis Court 1</td></tr><tr><td>GUEST GUEST</td><td>Tennis Court 2</td></tr><tr><td>Gerald Butters</td><td>Tennis Court 1</td></tr><tr><td>Gerald Butters</td><td>Tennis Court 2</td></tr><tr><td>Henrietta Rumney</td><td>Tennis Court 2</td></tr><tr><td>Jack Smith</td><td>Tennis Court 1</td></tr><tr><td>Jack Smith</td><td>Tennis Court 2</td></tr><tr><td>Janice Joplette</td><td>Tennis Court 1</td></tr><tr><td>Janice Joplette</td><td>Tennis Court 2</td></tr><tr><td>Jemima Farrell</td><td>Tennis Court 1</td></tr><tr><td>Jemima Farrell</td><td>Tennis Court 2</td></tr><tr><td>Joan Coplin</td><td>Tennis Court 1</td></tr><tr><td>John Hunt</td><td>Tennis Court 1</td></tr><tr><td>John Hunt</td><td>Tennis Court 2</td></tr><tr><td>Matthew Genting</td><td>Tennis Court 1</td></tr><tr><td>Millicent Purview</td><td>Tennis Court 2</td></tr><tr><td>Nancy Dare</td><td>Tennis Court 1</td></tr><tr><td>Nancy Dare</td><td>Tennis Court 2</td></tr><tr><td>Ponder Stibbons</td><td>Tennis Court 1</td></tr><tr><td>Ponder Stibbons</td><td>Tennis Court 2</td></tr><tr><td>Ramnaresh Sarwin</td><td>Tennis Court 1</td></tr><tr><td>Ramnaresh Sarwin</td><td>Tennis Court 2</td></tr><tr><td>Tim Boothe</td><td>Tennis Court 1</td></tr><tr><td>Tim Boothe</td><td>Tennis Court 2</td></tr><tr><td>Tim Rownam</td><td>Tennis Court 1</td></tr><tr><td>Tim Rownam</td><td>Tennis Court 2</td></tr><tr><td>Timothy Baker</td><td>Tennis Court 1</td></tr><tr><td>Timothy Baker</td><td>Tennis Court 2</td></tr><tr><td>Tracy Smith</td><td>Tennis Court 1</td></tr><tr><td>Tracy Smith</td><td>Tennis Court 2</td></tr></tbody></table></div>"
      ]
     },
     "metadata": {
      "application/vnd.databricks.v1+output": {
       "addedWidgets": {},
       "aggData": [],
       "aggError": "",
       "aggOverflow": false,
       "aggSchema": [],
       "aggSeriesLimitReached": false,
       "aggType": "",
       "arguments": {},
       "columnCustomDisplayInfos": {},
       "data": [
        [
         "Anne Baker",
         "Tennis Court 1"
        ],
        [
         "Anne Baker",
         "Tennis Court 2"
        ],
        [
         "Burton Tracy",
         "Tennis Court 1"
        ],
        [
         "Burton Tracy",
         "Tennis Court 2"
        ],
        [
         "Charles Owen",
         "Tennis Court 1"
        ],
        [
         "Charles Owen",
         "Tennis Court 2"
        ],
        [
         "Darren Smith",
         "Tennis Court 2"
        ],
        [
         "David Farrell",
         "Tennis Court 1"
        ],
        [
         "David Farrell",
         "Tennis Court 2"
        ],
        [
         "David Jones",
         "Tennis Court 1"
        ],
        [
         "David Jones",
         "Tennis Court 2"
        ],
        [
         "David Pinker",
         "Tennis Court 1"
        ],
        [
         "Douglas Jones",
         "Tennis Court 1"
        ],
        [
         "Erica Crumpet",
         "Tennis Court 1"
        ],
        [
         "Florence Bader",
         "Tennis Court 1"
        ],
        [
         "Florence Bader",
         "Tennis Court 2"
        ],
        [
         "GUEST GUEST",
         "Tennis Court 1"
        ],
        [
         "GUEST GUEST",
         "Tennis Court 2"
        ],
        [
         "Gerald Butters",
         "Tennis Court 1"
        ],
        [
         "Gerald Butters",
         "Tennis Court 2"
        ],
        [
         "Henrietta Rumney",
         "Tennis Court 2"
        ],
        [
         "Jack Smith",
         "Tennis Court 1"
        ],
        [
         "Jack Smith",
         "Tennis Court 2"
        ],
        [
         "Janice Joplette",
         "Tennis Court 1"
        ],
        [
         "Janice Joplette",
         "Tennis Court 2"
        ],
        [
         "Jemima Farrell",
         "Tennis Court 1"
        ],
        [
         "Jemima Farrell",
         "Tennis Court 2"
        ],
        [
         "Joan Coplin",
         "Tennis Court 1"
        ],
        [
         "John Hunt",
         "Tennis Court 1"
        ],
        [
         "John Hunt",
         "Tennis Court 2"
        ],
        [
         "Matthew Genting",
         "Tennis Court 1"
        ],
        [
         "Millicent Purview",
         "Tennis Court 2"
        ],
        [
         "Nancy Dare",
         "Tennis Court 1"
        ],
        [
         "Nancy Dare",
         "Tennis Court 2"
        ],
        [
         "Ponder Stibbons",
         "Tennis Court 1"
        ],
        [
         "Ponder Stibbons",
         "Tennis Court 2"
        ],
        [
         "Ramnaresh Sarwin",
         "Tennis Court 1"
        ],
        [
         "Ramnaresh Sarwin",
         "Tennis Court 2"
        ],
        [
         "Tim Boothe",
         "Tennis Court 1"
        ],
        [
         "Tim Boothe",
         "Tennis Court 2"
        ],
        [
         "Tim Rownam",
         "Tennis Court 1"
        ],
        [
         "Tim Rownam",
         "Tennis Court 2"
        ],
        [
         "Timothy Baker",
         "Tennis Court 1"
        ],
        [
         "Timothy Baker",
         "Tennis Court 2"
        ],
        [
         "Tracy Smith",
         "Tennis Court 1"
        ],
        [
         "Tracy Smith",
         "Tennis Court 2"
        ]
       ],
       "datasetInfos": [],
       "dbfsResultPath": null,
       "isJsonSchema": true,
       "metadata": {},
       "overflow": false,
       "plotOptions": {
        "customPlotOptions": {},
        "displayType": "table",
        "pivotAggregation": null,
        "pivotColumns": null,
        "xColumns": null,
        "yColumns": null
       },
       "removedWidgets": [],
       "schema": [
        {
         "metadata": "{}",
         "name": "member",
         "type": "\"string\""
        },
        {
         "metadata": "{}",
         "name": "name",
         "type": "\"string\""
        }
       ],
       "type": "table"
      }
     },
     "output_type": "display_data"
    }
   ],
   "source": [
    "from pyspark.sql.functions import concat_ws\n",
    "\n",
    "members = spark.sql(\"SELECT * FROM members\")\n",
    "bookings = spark.sql(\"SELECT * FROM bookings\")\n",
    "facilities = spark.sql(\"SELECT * FROM facilities\")\n",
    "\n",
    "bookings = bookings.join(members, bookings[\"memid\"] == members[\"memid\"], \"inner\")\n",
    "bookings = bookings.join(facilities, bookings[\"facid\"] == facilities[\"facid\"], \"inner\")\n",
    "\n",
    "bookings = bookings.filter(bookings[\"name\"].like(\"Tennis Court %\"))\n",
    "bookings = bookings.withColumn(\"member\", concat_ws(\" \", bookings[\"firstname\"], bookings[\"surname\"]))\n",
    "display(bookings.select(\"member\", \"name\").distinct().orderBy([\"member\", \"name\"], ascending = True))"
   ]
  },
  {
   "cell_type": "markdown",
   "metadata": {
    "application/vnd.databricks.v1+cell": {
     "cellMetadata": {},
     "inputWidgets": {},
     "nuid": "4b4a281f-6d72-4e7a-a667-552c5c691720",
     "showTitle": false,
     "tableResultSettingsMap": {},
     "title": ""
    }
   },
   "source": [
    "### Question\n",
    "How can you output a list of all members, including the individual who recommended them (if any), without using any joins? Ensure that there are no duplicates in the list, and that each firstname + surname pairing is formatted as a column and ordered. \\\n",
    "https://pgexercises.com/questions/joins/sub.html"
   ]
  },
  {
   "cell_type": "code",
   "execution_count": 0,
   "metadata": {
    "application/vnd.databricks.v1+cell": {
     "cellMetadata": {
      "byteLimit": 2048000,
      "rowLimit": 10000
     },
     "inputWidgets": {},
     "nuid": "1b28cb0b-e44f-4eee-8de5-24aebdb16845",
     "showTitle": false,
     "tableResultSettingsMap": {},
     "title": ""
    }
   },
   "outputs": [
    {
     "output_type": "display_data",
     "data": {
      "text/html": [
       "<style scoped>\n",
       "  .table-result-container {\n",
       "    max-height: 300px;\n",
       "    overflow: auto;\n",
       "  }\n",
       "  table, th, td {\n",
       "    border: 1px solid black;\n",
       "    border-collapse: collapse;\n",
       "  }\n",
       "  th, td {\n",
       "    padding: 5px;\n",
       "  }\n",
       "  th {\n",
       "    text-align: left;\n",
       "  }\n",
       "</style><div class='table-result-container'><table class='table-result'><thead style='background-color: white'><tr><th>member</th><th>recommender</th></tr></thead><tbody><tr><td>Anna Mackenzie</td><td>Darren Smith</td></tr><tr><td>Anne Baker</td><td>Ponder Stibbons</td></tr><tr><td>Burton Tracy</td><td>null</td></tr><tr><td>Charles Owen</td><td>Darren Smith</td></tr><tr><td>Darren Smith</td><td>null</td></tr><tr><td>Darren Smith</td><td>null</td></tr><tr><td>David Farrell</td><td>null</td></tr><tr><td>David Jones</td><td>Janice Joplette</td></tr><tr><td>David Pinker</td><td>Jemima Farrell</td></tr><tr><td>Douglas Jones</td><td>David Jones</td></tr><tr><td>Erica Crumpet</td><td>Tracy Smith</td></tr><tr><td>Florence Bader</td><td>Ponder Stibbons</td></tr><tr><td>GUEST GUEST</td><td>null</td></tr><tr><td>Gerald Butters</td><td>Darren Smith</td></tr><tr><td>Henrietta Rumney</td><td>Matthew Genting</td></tr><tr><td>Henry Worthington-Smyth</td><td>Tracy Smith</td></tr><tr><td>Hyacinth Tupperware</td><td>null</td></tr><tr><td>Jack Smith</td><td>Darren Smith</td></tr><tr><td>Janice Joplette</td><td>Darren Smith</td></tr><tr><td>Jemima Farrell</td><td>null</td></tr><tr><td>Joan Coplin</td><td>Timothy Baker</td></tr><tr><td>John Hunt</td><td>Millicent Purview</td></tr><tr><td>Matthew Genting</td><td>Gerald Butters</td></tr><tr><td>Millicent Purview</td><td>Tracy Smith</td></tr><tr><td>Nancy Dare</td><td>Janice Joplette</td></tr><tr><td>Ponder Stibbons</td><td>Burton Tracy</td></tr><tr><td>Ramnaresh Sarwin</td><td>Florence Bader</td></tr><tr><td>Tim Boothe</td><td>Tim Rownam</td></tr><tr><td>Tim Rownam</td><td>null</td></tr><tr><td>Timothy Baker</td><td>Jemima Farrell</td></tr><tr><td>Tracy Smith</td><td>null</td></tr></tbody></table></div>"
      ]
     },
     "metadata": {
      "application/vnd.databricks.v1+output": {
       "addedWidgets": {},
       "aggData": [],
       "aggError": "",
       "aggOverflow": false,
       "aggSchema": [],
       "aggSeriesLimitReached": false,
       "aggType": "",
       "arguments": {},
       "columnCustomDisplayInfos": {},
       "data": [
        [
         "Anna Mackenzie",
         "Darren Smith"
        ],
        [
         "Anne Baker",
         "Ponder Stibbons"
        ],
        [
         "Burton Tracy",
         null
        ],
        [
         "Charles Owen",
         "Darren Smith"
        ],
        [
         "Darren Smith",
         null
        ],
        [
         "Darren Smith",
         null
        ],
        [
         "David Farrell",
         null
        ],
        [
         "David Jones",
         "Janice Joplette"
        ],
        [
         "David Pinker",
         "Jemima Farrell"
        ],
        [
         "Douglas Jones",
         "David Jones"
        ],
        [
         "Erica Crumpet",
         "Tracy Smith"
        ],
        [
         "Florence Bader",
         "Ponder Stibbons"
        ],
        [
         "GUEST GUEST",
         null
        ],
        [
         "Gerald Butters",
         "Darren Smith"
        ],
        [
         "Henrietta Rumney",
         "Matthew Genting"
        ],
        [
         "Henry Worthington-Smyth",
         "Tracy Smith"
        ],
        [
         "Hyacinth Tupperware",
         null
        ],
        [
         "Jack Smith",
         "Darren Smith"
        ],
        [
         "Janice Joplette",
         "Darren Smith"
        ],
        [
         "Jemima Farrell",
         null
        ],
        [
         "Joan Coplin",
         "Timothy Baker"
        ],
        [
         "John Hunt",
         "Millicent Purview"
        ],
        [
         "Matthew Genting",
         "Gerald Butters"
        ],
        [
         "Millicent Purview",
         "Tracy Smith"
        ],
        [
         "Nancy Dare",
         "Janice Joplette"
        ],
        [
         "Ponder Stibbons",
         "Burton Tracy"
        ],
        [
         "Ramnaresh Sarwin",
         "Florence Bader"
        ],
        [
         "Tim Boothe",
         "Tim Rownam"
        ],
        [
         "Tim Rownam",
         null
        ],
        [
         "Timothy Baker",
         "Jemima Farrell"
        ],
        [
         "Tracy Smith",
         null
        ]
       ],
       "datasetInfos": [],
       "dbfsResultPath": null,
       "isJsonSchema": true,
       "metadata": {},
       "overflow": false,
       "plotOptions": {
        "customPlotOptions": {},
        "displayType": "table",
        "pivotAggregation": null,
        "pivotColumns": null,
        "xColumns": null,
        "yColumns": null
       },
       "removedWidgets": [],
       "schema": [
        {
         "metadata": "{}",
         "name": "member",
         "type": "\"string\""
        },
        {
         "metadata": "{}",
         "name": "recommender",
         "type": "\"string\""
        }
       ],
       "type": "table"
      }
     },
     "output_type": "display_data"
    }
   ],
   "source": [
    "from pyspark.sql.functions import concat_ws\n",
    "\n",
    "members = spark.sql(\"SELECT * FROM members\")\n",
    "recommenders = spark.sql(\"SELECT * FROM members\")\n",
    "\n",
    "members = members.withColumn(\"member\", concat_ws(\" \", members[\"firstname\"], members[\"surname\"]))\n",
    "recommenders= recommenders.withColumn(\"recommender\", concat_ws(\" \", recommenders[\"firstname\"], recommenders[\"surname\"]))\n",
    "\n",
    "result = members.join(recommenders, members[\"recommendedby\"] == recommenders[\"memid\"], \"left\")\n",
    "\n",
    "display(result.select(\"member\", \"recommender\").orderBy([\"member\", \"recommender\"], ascending = True))"
   ]
  },
  {
   "cell_type": "markdown",
   "metadata": {
    "application/vnd.databricks.v1+cell": {
     "cellMetadata": {},
     "inputWidgets": {},
     "nuid": "2a3fad81-5888-4d18-817c-1581c7f32c9e",
     "showTitle": false,
     "tableResultSettingsMap": {},
     "title": ""
    }
   },
   "source": [
    "### Question\n",
    "Produce a count of the number of recommendations each member has made. Order by member ID. \\\n",
    "https://pgexercises.com/questions/aggregates/count3.html"
   ]
  },
  {
   "cell_type": "code",
   "execution_count": 0,
   "metadata": {
    "application/vnd.databricks.v1+cell": {
     "cellMetadata": {
      "byteLimit": 2048000,
      "rowLimit": 10000
     },
     "inputWidgets": {},
     "nuid": "0ef8d016-cc3e-4981-9700-1670329a9a86",
     "showTitle": false,
     "tableResultSettingsMap": {},
     "title": ""
    }
   },
   "outputs": [
    {
     "output_type": "display_data",
     "data": {
      "text/html": [
       "<style scoped>\n",
       "  .table-result-container {\n",
       "    max-height: 300px;\n",
       "    overflow: auto;\n",
       "  }\n",
       "  table, th, td {\n",
       "    border: 1px solid black;\n",
       "    border-collapse: collapse;\n",
       "  }\n",
       "  th, td {\n",
       "    padding: 5px;\n",
       "  }\n",
       "  th {\n",
       "    text-align: left;\n",
       "  }\n",
       "</style><div class='table-result-container'><table class='table-result'><thead style='background-color: white'><tr><th>recommendedby</th><th>count</th></tr></thead><tbody><tr><td>null</td><td>9</td></tr><tr><td>1</td><td>5</td></tr><tr><td>2</td><td>3</td></tr><tr><td>3</td><td>1</td></tr><tr><td>4</td><td>2</td></tr><tr><td>5</td><td>1</td></tr><tr><td>6</td><td>1</td></tr><tr><td>9</td><td>2</td></tr><tr><td>11</td><td>1</td></tr><tr><td>13</td><td>2</td></tr><tr><td>15</td><td>1</td></tr><tr><td>16</td><td>1</td></tr><tr><td>20</td><td>1</td></tr><tr><td>30</td><td>1</td></tr></tbody></table></div>"
      ]
     },
     "metadata": {
      "application/vnd.databricks.v1+output": {
       "addedWidgets": {},
       "aggData": [],
       "aggError": "",
       "aggOverflow": false,
       "aggSchema": [],
       "aggSeriesLimitReached": false,
       "aggType": "",
       "arguments": {},
       "columnCustomDisplayInfos": {},
       "data": [
        [
         null,
         9
        ],
        [
         1,
         5
        ],
        [
         2,
         3
        ],
        [
         3,
         1
        ],
        [
         4,
         2
        ],
        [
         5,
         1
        ],
        [
         6,
         1
        ],
        [
         9,
         2
        ],
        [
         11,
         1
        ],
        [
         13,
         2
        ],
        [
         15,
         1
        ],
        [
         16,
         1
        ],
        [
         20,
         1
        ],
        [
         30,
         1
        ]
       ],
       "datasetInfos": [],
       "dbfsResultPath": null,
       "isJsonSchema": true,
       "metadata": {},
       "overflow": false,
       "plotOptions": {
        "customPlotOptions": {},
        "displayType": "table",
        "pivotAggregation": null,
        "pivotColumns": null,
        "xColumns": null,
        "yColumns": null
       },
       "removedWidgets": [],
       "schema": [
        {
         "metadata": "{}",
         "name": "recommendedby",
         "type": "\"integer\""
        },
        {
         "metadata": "{}",
         "name": "count",
         "type": "\"long\""
        }
       ],
       "type": "table"
      }
     },
     "output_type": "display_data"
    }
   ],
   "source": [
    "from pyspark.sql.functions import count\n",
    "\n",
    "members = spark.sql(\"SELECT * FROM members\")\n",
    "members = members.groupBy(\"recommendedby\").agg(count(\"*\").alias(\"count\"))\n",
    "display(members.select(\"recommendedby\", \"count\").orderBy(members.recommendedby.asc()))"
   ]
  },
  {
   "cell_type": "markdown",
   "metadata": {
    "application/vnd.databricks.v1+cell": {
     "cellMetadata": {},
     "inputWidgets": {},
     "nuid": "2f669c6b-501d-40cf-b03e-e743e88c3b77",
     "showTitle": false,
     "tableResultSettingsMap": {},
     "title": ""
    }
   },
   "source": [
    "### Question\n",
    "Produce a list of the total number of slots booked per facility. For now, just produce an output table consisting of facility id and slots, sorted by facility id. \\\n",
    "https://pgexercises.com/questions/aggregates/fachours.html"
   ]
  },
  {
   "cell_type": "code",
   "execution_count": 0,
   "metadata": {
    "application/vnd.databricks.v1+cell": {
     "cellMetadata": {
      "byteLimit": 2048000,
      "rowLimit": 10000
     },
     "inputWidgets": {},
     "nuid": "6ef5e006-4468-4522-8ae7-baee7dd6ab9e",
     "showTitle": false,
     "tableResultSettingsMap": {},
     "title": ""
    }
   },
   "outputs": [
    {
     "output_type": "display_data",
     "data": {
      "text/html": [
       "<style scoped>\n",
       "  .table-result-container {\n",
       "    max-height: 300px;\n",
       "    overflow: auto;\n",
       "  }\n",
       "  table, th, td {\n",
       "    border: 1px solid black;\n",
       "    border-collapse: collapse;\n",
       "  }\n",
       "  th, td {\n",
       "    padding: 5px;\n",
       "  }\n",
       "  th {\n",
       "    text-align: left;\n",
       "  }\n",
       "</style><div class='table-result-container'><table class='table-result'><thead style='background-color: white'><tr><th>facid</th><th>Total Slots</th></tr></thead><tbody><tr><td>0</td><td>1320</td></tr><tr><td>1</td><td>1278</td></tr><tr><td>2</td><td>1209</td></tr><tr><td>3</td><td>830</td></tr><tr><td>4</td><td>1404</td></tr><tr><td>5</td><td>228</td></tr><tr><td>6</td><td>1104</td></tr><tr><td>7</td><td>908</td></tr><tr><td>8</td><td>911</td></tr></tbody></table></div>"
      ]
     },
     "metadata": {
      "application/vnd.databricks.v1+output": {
       "addedWidgets": {},
       "aggData": [],
       "aggError": "",
       "aggOverflow": false,
       "aggSchema": [],
       "aggSeriesLimitReached": false,
       "aggType": "",
       "arguments": {},
       "columnCustomDisplayInfos": {},
       "data": [
        [
         0,
         1320
        ],
        [
         1,
         1278
        ],
        [
         2,
         1209
        ],
        [
         3,
         830
        ],
        [
         4,
         1404
        ],
        [
         5,
         228
        ],
        [
         6,
         1104
        ],
        [
         7,
         908
        ],
        [
         8,
         911
        ]
       ],
       "datasetInfos": [],
       "dbfsResultPath": null,
       "isJsonSchema": true,
       "metadata": {},
       "overflow": false,
       "plotOptions": {
        "customPlotOptions": {},
        "displayType": "table",
        "pivotAggregation": null,
        "pivotColumns": null,
        "xColumns": null,
        "yColumns": null
       },
       "removedWidgets": [],
       "schema": [
        {
         "metadata": "{}",
         "name": "facid",
         "type": "\"integer\""
        },
        {
         "metadata": "{}",
         "name": "Total Slots",
         "type": "\"long\""
        }
       ],
       "type": "table"
      }
     },
     "output_type": "display_data"
    }
   ],
   "source": [
    "from pyspark.sql.functions import sum\n",
    "bookings = spark.sql(\"SELECT * FROM bookings\")\n",
    "\n",
    "bookings = bookings.groupBy(\"facid\").agg(sum(\"slots\").alias(\"Total Slots\"))\n",
    "display(bookings.select(\"facid\", \"Total Slots\").orderBy(\"facid\"))"
   ]
  },
  {
   "cell_type": "markdown",
   "metadata": {
    "application/vnd.databricks.v1+cell": {
     "cellMetadata": {},
     "inputWidgets": {},
     "nuid": "26cbc7f8-5f49-41a5-a3e3-decff3cc5d0b",
     "showTitle": false,
     "tableResultSettingsMap": {},
     "title": ""
    }
   },
   "source": [
    "### Question\n",
    "Produce a list of the total number of slots booked per facility in the month of September 2012. Produce an output table consisting of facility id and slots, sorted by the number of slots. \\\n",
    "https://pgexercises.com/questions/aggregates/fachoursbymonth.html"
   ]
  },
  {
   "cell_type": "code",
   "execution_count": 0,
   "metadata": {
    "application/vnd.databricks.v1+cell": {
     "cellMetadata": {
      "byteLimit": 2048000,
      "rowLimit": 10000
     },
     "inputWidgets": {},
     "nuid": "52ab5e68-b719-4ae7-bfa3-a27a6f6ce12b",
     "showTitle": false,
     "tableResultSettingsMap": {},
     "title": ""
    }
   },
   "outputs": [
    {
     "output_type": "display_data",
     "data": {
      "text/html": [
       "<style scoped>\n",
       "  .table-result-container {\n",
       "    max-height: 300px;\n",
       "    overflow: auto;\n",
       "  }\n",
       "  table, th, td {\n",
       "    border: 1px solid black;\n",
       "    border-collapse: collapse;\n",
       "  }\n",
       "  th, td {\n",
       "    padding: 5px;\n",
       "  }\n",
       "  th {\n",
       "    text-align: left;\n",
       "  }\n",
       "</style><div class='table-result-container'><table class='table-result'><thead style='background-color: white'><tr><th>facid</th><th>Total Slots</th></tr></thead><tbody><tr><td>5</td><td>122</td></tr><tr><td>3</td><td>422</td></tr><tr><td>7</td><td>426</td></tr><tr><td>8</td><td>471</td></tr><tr><td>6</td><td>540</td></tr><tr><td>2</td><td>570</td></tr><tr><td>1</td><td>588</td></tr><tr><td>0</td><td>591</td></tr><tr><td>4</td><td>648</td></tr></tbody></table></div>"
      ]
     },
     "metadata": {
      "application/vnd.databricks.v1+output": {
       "addedWidgets": {},
       "aggData": [],
       "aggError": "",
       "aggOverflow": false,
       "aggSchema": [],
       "aggSeriesLimitReached": false,
       "aggType": "",
       "arguments": {},
       "columnCustomDisplayInfos": {},
       "data": [
        [
         5,
         122
        ],
        [
         3,
         422
        ],
        [
         7,
         426
        ],
        [
         8,
         471
        ],
        [
         6,
         540
        ],
        [
         2,
         570
        ],
        [
         1,
         588
        ],
        [
         0,
         591
        ],
        [
         4,
         648
        ]
       ],
       "datasetInfos": [],
       "dbfsResultPath": null,
       "isJsonSchema": true,
       "metadata": {},
       "overflow": false,
       "plotOptions": {
        "customPlotOptions": {},
        "displayType": "table",
        "pivotAggregation": null,
        "pivotColumns": null,
        "xColumns": null,
        "yColumns": null
       },
       "removedWidgets": [],
       "schema": [
        {
         "metadata": "{}",
         "name": "facid",
         "type": "\"integer\""
        },
        {
         "metadata": "{}",
         "name": "Total Slots",
         "type": "\"long\""
        }
       ],
       "type": "table"
      }
     },
     "output_type": "display_data"
    }
   ],
   "source": [
    "from pyspark.sql.functions import sum\n",
    "\n",
    "bookings = spark.sql(\"SELECT * FROM bookings\")\n",
    "\n",
    "bookings = bookings.filter((bookings[\"starttime\"] >= '2012-09-01 00:00:00') & (bookings[\"starttime\"] < '2012-10-01 00:00:00'))\n",
    "bookings = bookings.groupBy(\"facid\").agg(sum(\"slots\").alias(\"Total Slots\"))\n",
    "display(bookings.select(\"facid\", \"Total Slots\").orderBy([\"Total Slots\"], ascending = True))"
   ]
  },
  {
   "cell_type": "markdown",
   "metadata": {
    "application/vnd.databricks.v1+cell": {
     "cellMetadata": {},
     "inputWidgets": {},
     "nuid": "c4feb0e9-a677-481b-a23f-40ff16b8959f",
     "showTitle": false,
     "tableResultSettingsMap": {},
     "title": ""
    }
   },
   "source": [
    "### Question\n",
    "Produce a list of the total number of slots booked per facility per month in the year of 2012. Produce an output table consisting of facility id and slots, sorted by the id and month. \\\n",
    "https://pgexercises.com/questions/aggregates/fachoursbymonth2.html"
   ]
  },
  {
   "cell_type": "code",
   "execution_count": 0,
   "metadata": {
    "application/vnd.databricks.v1+cell": {
     "cellMetadata": {
      "byteLimit": 2048000,
      "rowLimit": 10000
     },
     "inputWidgets": {},
     "nuid": "aa5d3395-2949-4786-aafa-a0b8b03ad159",
     "showTitle": false,
     "tableResultSettingsMap": {},
     "title": ""
    }
   },
   "outputs": [
    {
     "output_type": "display_data",
     "data": {
      "text/html": [
       "<style scoped>\n",
       "  .table-result-container {\n",
       "    max-height: 300px;\n",
       "    overflow: auto;\n",
       "  }\n",
       "  table, th, td {\n",
       "    border: 1px solid black;\n",
       "    border-collapse: collapse;\n",
       "  }\n",
       "  th, td {\n",
       "    padding: 5px;\n",
       "  }\n",
       "  th {\n",
       "    text-align: left;\n",
       "  }\n",
       "</style><div class='table-result-container'><table class='table-result'><thead style='background-color: white'><tr><th>facid</th><th>month</th><th>Total Slots</th></tr></thead><tbody><tr><td>0</td><td>7</td><td>270</td></tr><tr><td>0</td><td>8</td><td>459</td></tr><tr><td>0</td><td>9</td><td>591</td></tr><tr><td>1</td><td>7</td><td>207</td></tr><tr><td>1</td><td>8</td><td>483</td></tr><tr><td>1</td><td>9</td><td>588</td></tr><tr><td>2</td><td>7</td><td>180</td></tr><tr><td>2</td><td>8</td><td>459</td></tr><tr><td>2</td><td>9</td><td>570</td></tr><tr><td>3</td><td>7</td><td>104</td></tr><tr><td>3</td><td>8</td><td>304</td></tr><tr><td>3</td><td>9</td><td>422</td></tr><tr><td>4</td><td>7</td><td>264</td></tr><tr><td>4</td><td>8</td><td>492</td></tr><tr><td>4</td><td>9</td><td>648</td></tr><tr><td>5</td><td>7</td><td>24</td></tr><tr><td>5</td><td>8</td><td>82</td></tr><tr><td>5</td><td>9</td><td>122</td></tr><tr><td>6</td><td>7</td><td>164</td></tr><tr><td>6</td><td>8</td><td>400</td></tr><tr><td>6</td><td>9</td><td>540</td></tr><tr><td>7</td><td>7</td><td>156</td></tr><tr><td>7</td><td>8</td><td>326</td></tr><tr><td>7</td><td>9</td><td>426</td></tr><tr><td>8</td><td>7</td><td>117</td></tr><tr><td>8</td><td>8</td><td>322</td></tr><tr><td>8</td><td>9</td><td>471</td></tr></tbody></table></div>"
      ]
     },
     "metadata": {
      "application/vnd.databricks.v1+output": {
       "addedWidgets": {},
       "aggData": [],
       "aggError": "",
       "aggOverflow": false,
       "aggSchema": [],
       "aggSeriesLimitReached": false,
       "aggType": "",
       "arguments": {},
       "columnCustomDisplayInfos": {},
       "data": [
        [
         0,
         7,
         270
        ],
        [
         0,
         8,
         459
        ],
        [
         0,
         9,
         591
        ],
        [
         1,
         7,
         207
        ],
        [
         1,
         8,
         483
        ],
        [
         1,
         9,
         588
        ],
        [
         2,
         7,
         180
        ],
        [
         2,
         8,
         459
        ],
        [
         2,
         9,
         570
        ],
        [
         3,
         7,
         104
        ],
        [
         3,
         8,
         304
        ],
        [
         3,
         9,
         422
        ],
        [
         4,
         7,
         264
        ],
        [
         4,
         8,
         492
        ],
        [
         4,
         9,
         648
        ],
        [
         5,
         7,
         24
        ],
        [
         5,
         8,
         82
        ],
        [
         5,
         9,
         122
        ],
        [
         6,
         7,
         164
        ],
        [
         6,
         8,
         400
        ],
        [
         6,
         9,
         540
        ],
        [
         7,
         7,
         156
        ],
        [
         7,
         8,
         326
        ],
        [
         7,
         9,
         426
        ],
        [
         8,
         7,
         117
        ],
        [
         8,
         8,
         322
        ],
        [
         8,
         9,
         471
        ]
       ],
       "datasetInfos": [],
       "dbfsResultPath": null,
       "isJsonSchema": true,
       "metadata": {},
       "overflow": false,
       "plotOptions": {
        "customPlotOptions": {},
        "displayType": "table",
        "pivotAggregation": null,
        "pivotColumns": null,
        "xColumns": null,
        "yColumns": null
       },
       "removedWidgets": [],
       "schema": [
        {
         "metadata": "{}",
         "name": "facid",
         "type": "\"integer\""
        },
        {
         "metadata": "{}",
         "name": "month",
         "type": "\"integer\""
        },
        {
         "metadata": "{}",
         "name": "Total Slots",
         "type": "\"long\""
        }
       ],
       "type": "table"
      }
     },
     "output_type": "display_data"
    }
   ],
   "source": [
    "from pyspark.sql.functions import sum, month\n",
    "\n",
    "bookings = spark.sql(\"SELECT * FROM bookings\")\n",
    "\n",
    "bookings = bookings.filter((bookings[\"starttime\"] >= '2012-01-01 00:00:00') & (bookings[\"starttime\"] < '2013-01-01 00:00:00'))\n",
    "bookings = bookings.withColumn(\"month\", month(\"starttime\"))\n",
    "bookings = bookings.groupBy(\"facid\", \"month\").agg(sum(\"slots\").alias(\"Total Slots\"))\n",
    "display(bookings.select(\"facid\", \"month\", \"Total Slots\").orderBy(\"facid\", \"month\"))\n"
   ]
  },
  {
   "cell_type": "markdown",
   "metadata": {
    "application/vnd.databricks.v1+cell": {
     "cellMetadata": {},
     "inputWidgets": {},
     "nuid": "b907813a-7eda-41e1-8e0e-b98ff7cd1146",
     "showTitle": false,
     "tableResultSettingsMap": {},
     "title": ""
    }
   },
   "source": [
    "### Question\n",
    "Find the total number of members (including guests) who have made at least one booking. \\\n",
    "https://pgexercises.com/questions/aggregates/members1.html"
   ]
  },
  {
   "cell_type": "code",
   "execution_count": 0,
   "metadata": {
    "application/vnd.databricks.v1+cell": {
     "cellMetadata": {
      "byteLimit": 2048000,
      "rowLimit": 10000
     },
     "inputWidgets": {},
     "nuid": "c273d4fc-3ce9-402c-8abd-c874dd29c3ff",
     "showTitle": false,
     "tableResultSettingsMap": {},
     "title": ""
    }
   },
   "outputs": [
    {
     "output_type": "stream",
     "name": "stdout",
     "output_type": "stream",
     "text": [
      "30"
     ]
    }
   ],
   "source": [
    "from pyspark.sql.functions import count\n",
    "\n",
    "bookings = spark.sql(\"SELECT * FROM bookings\")\n",
    "display(bookings.select(\"memid\").distinct().count())"
   ]
  },
  {
   "cell_type": "markdown",
   "metadata": {
    "application/vnd.databricks.v1+cell": {
     "cellMetadata": {},
     "inputWidgets": {},
     "nuid": "7aebbf2b-1162-4515-ae60-f9f09e79d084",
     "showTitle": false,
     "tableResultSettingsMap": {},
     "title": ""
    }
   },
   "source": [
    "### Question\n",
    "Produce a list of each member name, id, and their first booking after September 1st 2012. Order by member ID. \\\n",
    "https://pgexercises.com/questions/aggregates/nbooking.html"
   ]
  },
  {
   "cell_type": "code",
   "execution_count": 0,
   "metadata": {
    "application/vnd.databricks.v1+cell": {
     "cellMetadata": {
      "byteLimit": 2048000,
      "rowLimit": 10000
     },
     "inputWidgets": {},
     "nuid": "bcff1047-3478-4d96-82b3-6716907b158c",
     "showTitle": false,
     "tableResultSettingsMap": {},
     "title": ""
    }
   },
   "outputs": [
    {
     "output_type": "display_data",
     "data": {
      "text/html": [
       "<style scoped>\n",
       "  .table-result-container {\n",
       "    max-height: 300px;\n",
       "    overflow: auto;\n",
       "  }\n",
       "  table, th, td {\n",
       "    border: 1px solid black;\n",
       "    border-collapse: collapse;\n",
       "  }\n",
       "  th, td {\n",
       "    padding: 5px;\n",
       "  }\n",
       "  th {\n",
       "    text-align: left;\n",
       "  }\n",
       "</style><div class='table-result-container'><table class='table-result'><thead style='background-color: white'><tr><th>surname</th><th>firstname</th><th>memid</th><th>first booking</th></tr></thead><tbody><tr><td>GUEST</td><td>GUEST</td><td>0</td><td>2012-09-01T08:00:00.000+0000</td></tr><tr><td>Smith</td><td>Darren</td><td>1</td><td>2012-09-01T09:00:00.000+0000</td></tr><tr><td>Smith</td><td>Tracy</td><td>2</td><td>2012-09-01T11:30:00.000+0000</td></tr><tr><td>Rownam</td><td>Tim</td><td>3</td><td>2012-09-01T16:00:00.000+0000</td></tr><tr><td>Joplette</td><td>Janice</td><td>4</td><td>2012-09-01T15:00:00.000+0000</td></tr><tr><td>Butters</td><td>Gerald</td><td>5</td><td>2012-09-02T12:30:00.000+0000</td></tr><tr><td>Tracy</td><td>Burton</td><td>6</td><td>2012-09-01T15:00:00.000+0000</td></tr><tr><td>Dare</td><td>Nancy</td><td>7</td><td>2012-09-01T12:30:00.000+0000</td></tr><tr><td>Boothe</td><td>Tim</td><td>8</td><td>2012-09-01T08:30:00.000+0000</td></tr><tr><td>Stibbons</td><td>Ponder</td><td>9</td><td>2012-09-01T11:00:00.000+0000</td></tr><tr><td>Owen</td><td>Charles</td><td>10</td><td>2012-09-01T11:00:00.000+0000</td></tr><tr><td>Jones</td><td>David</td><td>11</td><td>2012-09-01T09:30:00.000+0000</td></tr><tr><td>Baker</td><td>Anne</td><td>12</td><td>2012-09-01T14:30:00.000+0000</td></tr><tr><td>Farrell</td><td>Jemima</td><td>13</td><td>2012-09-01T09:30:00.000+0000</td></tr><tr><td>Smith</td><td>Jack</td><td>14</td><td>2012-09-01T11:00:00.000+0000</td></tr><tr><td>Bader</td><td>Florence</td><td>15</td><td>2012-09-01T10:30:00.000+0000</td></tr><tr><td>Baker</td><td>Timothy</td><td>16</td><td>2012-09-01T15:00:00.000+0000</td></tr><tr><td>Pinker</td><td>David</td><td>17</td><td>2012-09-01T08:30:00.000+0000</td></tr><tr><td>Genting</td><td>Matthew</td><td>20</td><td>2012-09-01T18:00:00.000+0000</td></tr><tr><td>Mackenzie</td><td>Anna</td><td>21</td><td>2012-09-01T08:30:00.000+0000</td></tr><tr><td>Coplin</td><td>Joan</td><td>22</td><td>2012-09-02T11:30:00.000+0000</td></tr><tr><td>Sarwin</td><td>Ramnaresh</td><td>24</td><td>2012-09-04T11:00:00.000+0000</td></tr><tr><td>Jones</td><td>Douglas</td><td>26</td><td>2012-09-08T13:00:00.000+0000</td></tr><tr><td>Rumney</td><td>Henrietta</td><td>27</td><td>2012-09-16T13:30:00.000+0000</td></tr><tr><td>Farrell</td><td>David</td><td>28</td><td>2012-09-18T09:00:00.000+0000</td></tr><tr><td>Worthington-Smyth</td><td>Henry</td><td>29</td><td>2012-09-19T09:30:00.000+0000</td></tr><tr><td>Purview</td><td>Millicent</td><td>30</td><td>2012-09-19T11:30:00.000+0000</td></tr><tr><td>Tupperware</td><td>Hyacinth</td><td>33</td><td>2012-09-20T08:00:00.000+0000</td></tr><tr><td>Hunt</td><td>John</td><td>35</td><td>2012-09-23T14:00:00.000+0000</td></tr><tr><td>Crumpet</td><td>Erica</td><td>36</td><td>2012-09-27T11:30:00.000+0000</td></tr></tbody></table></div>"
      ]
     },
     "metadata": {
      "application/vnd.databricks.v1+output": {
       "addedWidgets": {},
       "aggData": [],
       "aggError": "",
       "aggOverflow": false,
       "aggSchema": [],
       "aggSeriesLimitReached": false,
       "aggType": "",
       "arguments": {},
       "columnCustomDisplayInfos": {},
       "data": [
        [
         "GUEST",
         "GUEST",
         0,
         "2012-09-01T08:00:00.000+0000"
        ],
        [
         "Smith",
         "Darren",
         1,
         "2012-09-01T09:00:00.000+0000"
        ],
        [
         "Smith",
         "Tracy",
         2,
         "2012-09-01T11:30:00.000+0000"
        ],
        [
         "Rownam",
         "Tim",
         3,
         "2012-09-01T16:00:00.000+0000"
        ],
        [
         "Joplette",
         "Janice",
         4,
         "2012-09-01T15:00:00.000+0000"
        ],
        [
         "Butters",
         "Gerald",
         5,
         "2012-09-02T12:30:00.000+0000"
        ],
        [
         "Tracy",
         "Burton",
         6,
         "2012-09-01T15:00:00.000+0000"
        ],
        [
         "Dare",
         "Nancy",
         7,
         "2012-09-01T12:30:00.000+0000"
        ],
        [
         "Boothe",
         "Tim",
         8,
         "2012-09-01T08:30:00.000+0000"
        ],
        [
         "Stibbons",
         "Ponder",
         9,
         "2012-09-01T11:00:00.000+0000"
        ],
        [
         "Owen",
         "Charles",
         10,
         "2012-09-01T11:00:00.000+0000"
        ],
        [
         "Jones",
         "David",
         11,
         "2012-09-01T09:30:00.000+0000"
        ],
        [
         "Baker",
         "Anne",
         12,
         "2012-09-01T14:30:00.000+0000"
        ],
        [
         "Farrell",
         "Jemima",
         13,
         "2012-09-01T09:30:00.000+0000"
        ],
        [
         "Smith",
         "Jack",
         14,
         "2012-09-01T11:00:00.000+0000"
        ],
        [
         "Bader",
         "Florence",
         15,
         "2012-09-01T10:30:00.000+0000"
        ],
        [
         "Baker",
         "Timothy",
         16,
         "2012-09-01T15:00:00.000+0000"
        ],
        [
         "Pinker",
         "David",
         17,
         "2012-09-01T08:30:00.000+0000"
        ],
        [
         "Genting",
         "Matthew",
         20,
         "2012-09-01T18:00:00.000+0000"
        ],
        [
         "Mackenzie",
         "Anna",
         21,
         "2012-09-01T08:30:00.000+0000"
        ],
        [
         "Coplin",
         "Joan",
         22,
         "2012-09-02T11:30:00.000+0000"
        ],
        [
         "Sarwin",
         "Ramnaresh",
         24,
         "2012-09-04T11:00:00.000+0000"
        ],
        [
         "Jones",
         "Douglas",
         26,
         "2012-09-08T13:00:00.000+0000"
        ],
        [
         "Rumney",
         "Henrietta",
         27,
         "2012-09-16T13:30:00.000+0000"
        ],
        [
         "Farrell",
         "David",
         28,
         "2012-09-18T09:00:00.000+0000"
        ],
        [
         "Worthington-Smyth",
         "Henry",
         29,
         "2012-09-19T09:30:00.000+0000"
        ],
        [
         "Purview",
         "Millicent",
         30,
         "2012-09-19T11:30:00.000+0000"
        ],
        [
         "Tupperware",
         "Hyacinth",
         33,
         "2012-09-20T08:00:00.000+0000"
        ],
        [
         "Hunt",
         "John",
         35,
         "2012-09-23T14:00:00.000+0000"
        ],
        [
         "Crumpet",
         "Erica",
         36,
         "2012-09-27T11:30:00.000+0000"
        ]
       ],
       "datasetInfos": [],
       "dbfsResultPath": null,
       "isJsonSchema": true,
       "metadata": {},
       "overflow": false,
       "plotOptions": {
        "customPlotOptions": {},
        "displayType": "table",
        "pivotAggregation": null,
        "pivotColumns": null,
        "xColumns": null,
        "yColumns": null
       },
       "removedWidgets": [],
       "schema": [
        {
         "metadata": "{}",
         "name": "surname",
         "type": "\"string\""
        },
        {
         "metadata": "{}",
         "name": "firstname",
         "type": "\"string\""
        },
        {
         "metadata": "{}",
         "name": "memid",
         "type": "\"integer\""
        },
        {
         "metadata": "{}",
         "name": "first booking",
         "type": "\"timestamp\""
        }
       ],
       "type": "table"
      }
     },
     "output_type": "display_data"
    }
   ],
   "source": [
    "from pyspark.sql.functions import min\n",
    "\n",
    "members = spark.sql(\"SELECT * FROM members\")\n",
    "bookings = spark.sql(\"SELECT * FROM bookings\")\n",
    "\n",
    "members = members.join(bookings, \"memid\", \"inner\")\n",
    "members = members.filter(bookings[\"starttime\"] >= '2012-09-01 00:00:00')\n",
    "members = members.groupBy(\"memid\", \"firstname\", \"surname\").agg(min(\"starttime\").alias(\"first booking\"))\n",
    "\n",
    "display(members.select(\"surname\", \"firstname\", \"memid\", \"first booking\").orderBy(\"memid\"))"
   ]
  },
  {
   "cell_type": "markdown",
   "metadata": {
    "application/vnd.databricks.v1+cell": {
     "cellMetadata": {},
     "inputWidgets": {},
     "nuid": "ba6fb62f-dcfe-4c2d-9ff9-ae275fff9497",
     "showTitle": false,
     "tableResultSettingsMap": {},
     "title": ""
    }
   },
   "source": [
    "### Question\n",
    "Output the names of all members, formatted as 'Surname, Firstname' \\\n",
    "https://pgexercises.com/questions/string/concat.html"
   ]
  },
  {
   "cell_type": "code",
   "execution_count": 0,
   "metadata": {
    "application/vnd.databricks.v1+cell": {
     "cellMetadata": {
      "byteLimit": 2048000,
      "rowLimit": 10000
     },
     "inputWidgets": {},
     "nuid": "9c4a7372-098c-4fca-96fd-ad88bdb93d17",
     "showTitle": false,
     "tableResultSettingsMap": {},
     "title": ""
    }
   },
   "outputs": [
    {
     "output_type": "display_data",
     "data": {
      "text/html": [
       "<style scoped>\n",
       "  .table-result-container {\n",
       "    max-height: 300px;\n",
       "    overflow: auto;\n",
       "  }\n",
       "  table, th, td {\n",
       "    border: 1px solid black;\n",
       "    border-collapse: collapse;\n",
       "  }\n",
       "  th, td {\n",
       "    padding: 5px;\n",
       "  }\n",
       "  th {\n",
       "    text-align: left;\n",
       "  }\n",
       "</style><div class='table-result-container'><table class='table-result'><thead style='background-color: white'><tr><th>member</th></tr></thead><tbody><tr><td>GUEST, GUEST</td></tr><tr><td>Smith, Darren</td></tr><tr><td>Smith, Tracy</td></tr><tr><td>Rownam, Tim</td></tr><tr><td>Joplette, Janice</td></tr><tr><td>Butters, Gerald</td></tr><tr><td>Tracy, Burton</td></tr><tr><td>Dare, Nancy</td></tr><tr><td>Boothe, Tim</td></tr><tr><td>Stibbons, Ponder</td></tr><tr><td>Owen, Charles</td></tr><tr><td>Jones, David</td></tr><tr><td>Baker, Anne</td></tr><tr><td>Farrell, Jemima</td></tr><tr><td>Smith, Jack</td></tr><tr><td>Bader, Florence</td></tr><tr><td>Baker, Timothy</td></tr><tr><td>Pinker, David</td></tr><tr><td>Genting, Matthew</td></tr><tr><td>Mackenzie, Anna</td></tr><tr><td>Coplin, Joan</td></tr><tr><td>Sarwin, Ramnaresh</td></tr><tr><td>Jones, Douglas</td></tr><tr><td>Rumney, Henrietta</td></tr><tr><td>Farrell, David</td></tr><tr><td>Worthington-Smyth, Henry</td></tr><tr><td>Purview, Millicent</td></tr><tr><td>Tupperware, Hyacinth</td></tr><tr><td>Hunt, John</td></tr><tr><td>Crumpet, Erica</td></tr><tr><td>Smith, Darren</td></tr></tbody></table></div>"
      ]
     },
     "metadata": {
      "application/vnd.databricks.v1+output": {
       "addedWidgets": {},
       "aggData": [],
       "aggError": "",
       "aggOverflow": false,
       "aggSchema": [],
       "aggSeriesLimitReached": false,
       "aggType": "",
       "arguments": {},
       "columnCustomDisplayInfos": {},
       "data": [
        [
         "GUEST, GUEST"
        ],
        [
         "Smith, Darren"
        ],
        [
         "Smith, Tracy"
        ],
        [
         "Rownam, Tim"
        ],
        [
         "Joplette, Janice"
        ],
        [
         "Butters, Gerald"
        ],
        [
         "Tracy, Burton"
        ],
        [
         "Dare, Nancy"
        ],
        [
         "Boothe, Tim"
        ],
        [
         "Stibbons, Ponder"
        ],
        [
         "Owen, Charles"
        ],
        [
         "Jones, David"
        ],
        [
         "Baker, Anne"
        ],
        [
         "Farrell, Jemima"
        ],
        [
         "Smith, Jack"
        ],
        [
         "Bader, Florence"
        ],
        [
         "Baker, Timothy"
        ],
        [
         "Pinker, David"
        ],
        [
         "Genting, Matthew"
        ],
        [
         "Mackenzie, Anna"
        ],
        [
         "Coplin, Joan"
        ],
        [
         "Sarwin, Ramnaresh"
        ],
        [
         "Jones, Douglas"
        ],
        [
         "Rumney, Henrietta"
        ],
        [
         "Farrell, David"
        ],
        [
         "Worthington-Smyth, Henry"
        ],
        [
         "Purview, Millicent"
        ],
        [
         "Tupperware, Hyacinth"
        ],
        [
         "Hunt, John"
        ],
        [
         "Crumpet, Erica"
        ],
        [
         "Smith, Darren"
        ]
       ],
       "datasetInfos": [],
       "dbfsResultPath": null,
       "isJsonSchema": true,
       "metadata": {},
       "overflow": false,
       "plotOptions": {
        "customPlotOptions": {},
        "displayType": "table",
        "pivotAggregation": null,
        "pivotColumns": null,
        "xColumns": null,
        "yColumns": null
       },
       "removedWidgets": [],
       "schema": [
        {
         "metadata": "{}",
         "name": "member",
         "type": "\"string\""
        }
       ],
       "type": "table"
      }
     },
     "output_type": "display_data"
    }
   ],
   "source": [
    "from pyspark.sql.functions import concat_ws\n",
    "\n",
    "members = spark.sql(\"SELECT * FROM members\")\n",
    "\n",
    "members = members.withColumn(\"member\", concat_ws(\", \", members[\"surname\"], members[\"firstname\"]))\n",
    "display(members.select(\"member\"))"
   ]
  },
  {
   "cell_type": "markdown",
   "metadata": {
    "application/vnd.databricks.v1+cell": {
     "cellMetadata": {},
     "inputWidgets": {},
     "nuid": "7c0cb8ea-59b2-4e7f-ab0e-bd541f00695f",
     "showTitle": false,
     "tableResultSettingsMap": {},
     "title": ""
    }
   },
   "source": [
    "### Question\n",
    "Perform a case-insensitive search to find all facilities whose name begins with 'tennis'. Retrieve all columns. \\\n",
    "https://pgexercises.com/questions/string/case.html"
   ]
  },
  {
   "cell_type": "code",
   "execution_count": 0,
   "metadata": {
    "application/vnd.databricks.v1+cell": {
     "cellMetadata": {
      "byteLimit": 2048000,
      "rowLimit": 10000
     },
     "inputWidgets": {},
     "nuid": "73402b80-a231-4738-a003-fe3113903816",
     "showTitle": false,
     "tableResultSettingsMap": {},
     "title": ""
    }
   },
   "outputs": [
    {
     "output_type": "display_data",
     "data": {
      "text/html": [
       "<style scoped>\n",
       "  .table-result-container {\n",
       "    max-height: 300px;\n",
       "    overflow: auto;\n",
       "  }\n",
       "  table, th, td {\n",
       "    border: 1px solid black;\n",
       "    border-collapse: collapse;\n",
       "  }\n",
       "  th, td {\n",
       "    padding: 5px;\n",
       "  }\n",
       "  th {\n",
       "    text-align: left;\n",
       "  }\n",
       "</style><div class='table-result-container'><table class='table-result'><thead style='background-color: white'><tr><th>facid</th><th>name</th><th>membercost</th><th>guestcost</th><th>initialoutlay</th><th>monthlymaintenance</th></tr></thead><tbody><tr><td>0</td><td>Tennis Court 1</td><td>5.0</td><td>25.0</td><td>10000.0</td><td>200.0</td></tr><tr><td>1</td><td>Tennis Court 2</td><td>5.0</td><td>25.0</td><td>8000.0</td><td>200.0</td></tr></tbody></table></div>"
      ]
     },
     "metadata": {
      "application/vnd.databricks.v1+output": {
       "addedWidgets": {},
       "aggData": [],
       "aggError": "",
       "aggOverflow": false,
       "aggSchema": [],
       "aggSeriesLimitReached": false,
       "aggType": "",
       "arguments": {},
       "columnCustomDisplayInfos": {},
       "data": [
        [
         0,
         "Tennis Court 1",
         5.0,
         25.0,
         10000.0,
         200.0
        ],
        [
         1,
         "Tennis Court 2",
         5.0,
         25.0,
         8000.0,
         200.0
        ]
       ],
       "datasetInfos": [],
       "dbfsResultPath": null,
       "isJsonSchema": true,
       "metadata": {},
       "overflow": false,
       "plotOptions": {
        "customPlotOptions": {},
        "displayType": "table",
        "pivotAggregation": null,
        "pivotColumns": null,
        "xColumns": null,
        "yColumns": null
       },
       "removedWidgets": [],
       "schema": [
        {
         "metadata": "{}",
         "name": "facid",
         "type": "\"integer\""
        },
        {
         "metadata": "{}",
         "name": "name",
         "type": "\"string\""
        },
        {
         "metadata": "{}",
         "name": "membercost",
         "type": "\"float\""
        },
        {
         "metadata": "{}",
         "name": "guestcost",
         "type": "\"float\""
        },
        {
         "metadata": "{}",
         "name": "initialoutlay",
         "type": "\"float\""
        },
        {
         "metadata": "{}",
         "name": "monthlymaintenance",
         "type": "\"float\""
        }
       ],
       "type": "table"
      }
     },
     "output_type": "display_data"
    }
   ],
   "source": [
    "from pyspark.sql.functions import lower\n",
    "\n",
    "facilities = spark.sql(\"SELECT * FROM facilities\")\n",
    "\n",
    "facilities = facilities.filter(lower(facilities[\"name\"]).like(\"tennis%\"))\n",
    "display(facilities)"
   ]
  },
  {
   "cell_type": "markdown",
   "metadata": {
    "application/vnd.databricks.v1+cell": {
     "cellMetadata": {},
     "inputWidgets": {},
     "nuid": "9baeadc0-7849-44c1-b985-c554c16e6a78",
     "showTitle": false,
     "tableResultSettingsMap": {},
     "title": ""
    }
   },
   "source": [
    "### Question\n",
    "You've noticed that the club's member table has telephone numbers with very inconsistent formatting. You'd like to find all the telephone numbers that contain parentheses, returning the member ID and telephone number sorted by member ID. \\\n",
    "https://pgexercises.com/questions/string/reg.html"
   ]
  },
  {
   "cell_type": "code",
   "execution_count": 0,
   "metadata": {
    "application/vnd.databricks.v1+cell": {
     "cellMetadata": {
      "byteLimit": 2048000,
      "rowLimit": 10000
     },
     "inputWidgets": {},
     "nuid": "d8adc3f2-f773-4160-99e2-d75c7a534ad3",
     "showTitle": false,
     "tableResultSettingsMap": {},
     "title": ""
    }
   },
   "outputs": [
    {
     "output_type": "display_data",
     "data": {
      "text/html": [
       "<style scoped>\n",
       "  .table-result-container {\n",
       "    max-height: 300px;\n",
       "    overflow: auto;\n",
       "  }\n",
       "  table, th, td {\n",
       "    border: 1px solid black;\n",
       "    border-collapse: collapse;\n",
       "  }\n",
       "  th, td {\n",
       "    padding: 5px;\n",
       "  }\n",
       "  th {\n",
       "    text-align: left;\n",
       "  }\n",
       "</style><div class='table-result-container'><table class='table-result'><thead style='background-color: white'><tr><th>memid</th><th>telephone</th></tr></thead><tbody><tr><td>0</td><td>(000) 000-0000</td></tr><tr><td>3</td><td>(844) 693-0723</td></tr><tr><td>4</td><td>(833) 942-4710</td></tr><tr><td>5</td><td>(844) 078-4130</td></tr><tr><td>6</td><td>(822) 354-9973</td></tr><tr><td>7</td><td>(833) 776-4001</td></tr><tr><td>8</td><td>(811) 433-2547</td></tr><tr><td>9</td><td>(833) 160-3900</td></tr><tr><td>10</td><td>(855) 542-5251</td></tr><tr><td>11</td><td>(844) 536-8036</td></tr><tr><td>13</td><td>(855) 016-0163</td></tr><tr><td>14</td><td>(822) 163-3254</td></tr><tr><td>15</td><td>(833) 499-3527</td></tr><tr><td>20</td><td>(811) 972-1377</td></tr><tr><td>21</td><td>(822) 661-2898</td></tr><tr><td>22</td><td>(822) 499-2232</td></tr><tr><td>24</td><td>(822) 413-1470</td></tr><tr><td>27</td><td>(822) 989-8876</td></tr><tr><td>28</td><td>(855) 755-9876</td></tr><tr><td>29</td><td>(855) 894-3758</td></tr><tr><td>30</td><td>(855) 941-9786</td></tr><tr><td>33</td><td>(822) 665-5327</td></tr><tr><td>35</td><td>(899) 720-6978</td></tr><tr><td>36</td><td>(811) 732-4816</td></tr><tr><td>37</td><td>(822) 577-3541</td></tr></tbody></table></div>"
      ]
     },
     "metadata": {
      "application/vnd.databricks.v1+output": {
       "addedWidgets": {},
       "aggData": [],
       "aggError": "",
       "aggOverflow": false,
       "aggSchema": [],
       "aggSeriesLimitReached": false,
       "aggType": "",
       "arguments": {},
       "columnCustomDisplayInfos": {},
       "data": [
        [
         0,
         "(000) 000-0000"
        ],
        [
         3,
         "(844) 693-0723"
        ],
        [
         4,
         "(833) 942-4710"
        ],
        [
         5,
         "(844) 078-4130"
        ],
        [
         6,
         "(822) 354-9973"
        ],
        [
         7,
         "(833) 776-4001"
        ],
        [
         8,
         "(811) 433-2547"
        ],
        [
         9,
         "(833) 160-3900"
        ],
        [
         10,
         "(855) 542-5251"
        ],
        [
         11,
         "(844) 536-8036"
        ],
        [
         13,
         "(855) 016-0163"
        ],
        [
         14,
         "(822) 163-3254"
        ],
        [
         15,
         "(833) 499-3527"
        ],
        [
         20,
         "(811) 972-1377"
        ],
        [
         21,
         "(822) 661-2898"
        ],
        [
         22,
         "(822) 499-2232"
        ],
        [
         24,
         "(822) 413-1470"
        ],
        [
         27,
         "(822) 989-8876"
        ],
        [
         28,
         "(855) 755-9876"
        ],
        [
         29,
         "(855) 894-3758"
        ],
        [
         30,
         "(855) 941-9786"
        ],
        [
         33,
         "(822) 665-5327"
        ],
        [
         35,
         "(899) 720-6978"
        ],
        [
         36,
         "(811) 732-4816"
        ],
        [
         37,
         "(822) 577-3541"
        ]
       ],
       "datasetInfos": [],
       "dbfsResultPath": null,
       "isJsonSchema": true,
       "metadata": {},
       "overflow": false,
       "plotOptions": {
        "customPlotOptions": {},
        "displayType": "table",
        "pivotAggregation": null,
        "pivotColumns": null,
        "xColumns": null,
        "yColumns": null
       },
       "removedWidgets": [],
       "schema": [
        {
         "metadata": "{}",
         "name": "memid",
         "type": "\"integer\""
        },
        {
         "metadata": "{}",
         "name": "telephone",
         "type": "\"string\""
        }
       ],
       "type": "table"
      }
     },
     "output_type": "display_data"
    }
   ],
   "source": [
    "members = spark.sql(\"SELECT * FROM members\")\n",
    "members = members.filter(members[\"telephone\"].like(\"(%)%\"))\n",
    "display(members.select(\"memid\", \"telephone\").orderBy(\"memid\"))"
   ]
  },
  {
   "cell_type": "markdown",
   "metadata": {
    "application/vnd.databricks.v1+cell": {
     "cellMetadata": {},
     "inputWidgets": {},
     "nuid": "ae4c95d9-08fe-4ded-a25f-717f6e6de695",
     "showTitle": false,
     "tableResultSettingsMap": {},
     "title": ""
    }
   },
   "source": [
    "### Question\n",
    "You'd like to produce a count of how many members you have whose surname starts with each letter of the alphabet. Sort by the letter, and don't worry about printing out a letter if the count is 0. \\\n",
    "https://pgexercises.com/questions/string/substr.html"
   ]
  },
  {
   "cell_type": "code",
   "execution_count": 0,
   "metadata": {
    "application/vnd.databricks.v1+cell": {
     "cellMetadata": {
      "byteLimit": 2048000,
      "rowLimit": 10000
     },
     "inputWidgets": {},
     "nuid": "f6e4bf44-ea8d-4995-b02a-6533060e269e",
     "showTitle": false,
     "tableResultSettingsMap": {},
     "title": ""
    }
   },
   "outputs": [
    {
     "output_type": "display_data",
     "data": {
      "text/html": [
       "<style scoped>\n",
       "  .table-result-container {\n",
       "    max-height: 300px;\n",
       "    overflow: auto;\n",
       "  }\n",
       "  table, th, td {\n",
       "    border: 1px solid black;\n",
       "    border-collapse: collapse;\n",
       "  }\n",
       "  th, td {\n",
       "    padding: 5px;\n",
       "  }\n",
       "  th {\n",
       "    text-align: left;\n",
       "  }\n",
       "</style><div class='table-result-container'><table class='table-result'><thead style='background-color: white'><tr><th>letter</th><th>count</th></tr></thead><tbody><tr><td>B</td><td>5</td></tr><tr><td>C</td><td>2</td></tr><tr><td>D</td><td>1</td></tr><tr><td>F</td><td>2</td></tr><tr><td>G</td><td>2</td></tr><tr><td>H</td><td>1</td></tr><tr><td>J</td><td>3</td></tr><tr><td>M</td><td>1</td></tr><tr><td>O</td><td>1</td></tr><tr><td>P</td><td>2</td></tr><tr><td>R</td><td>2</td></tr><tr><td>S</td><td>6</td></tr><tr><td>T</td><td>2</td></tr><tr><td>W</td><td>1</td></tr></tbody></table></div>"
      ]
     },
     "metadata": {
      "application/vnd.databricks.v1+output": {
       "addedWidgets": {},
       "aggData": [],
       "aggError": "",
       "aggOverflow": false,
       "aggSchema": [],
       "aggSeriesLimitReached": false,
       "aggType": "",
       "arguments": {},
       "columnCustomDisplayInfos": {},
       "data": [
        [
         "B",
         5
        ],
        [
         "C",
         2
        ],
        [
         "D",
         1
        ],
        [
         "F",
         2
        ],
        [
         "G",
         2
        ],
        [
         "H",
         1
        ],
        [
         "J",
         3
        ],
        [
         "M",
         1
        ],
        [
         "O",
         1
        ],
        [
         "P",
         2
        ],
        [
         "R",
         2
        ],
        [
         "S",
         6
        ],
        [
         "T",
         2
        ],
        [
         "W",
         1
        ]
       ],
       "datasetInfos": [],
       "dbfsResultPath": null,
       "isJsonSchema": true,
       "metadata": {},
       "overflow": false,
       "plotOptions": {
        "customPlotOptions": {},
        "displayType": "table",
        "pivotAggregation": null,
        "pivotColumns": null,
        "xColumns": null,
        "yColumns": null
       },
       "removedWidgets": [],
       "schema": [
        {
         "metadata": "{}",
         "name": "letter",
         "type": "\"string\""
        },
        {
         "metadata": "{}",
         "name": "count",
         "type": "\"long\""
        }
       ],
       "type": "table"
      }
     },
     "output_type": "display_data"
    }
   ],
   "source": [
    "from pyspark.sql.functions import count, substring\n",
    "\n",
    "members = spark.sql(\"SELECT * FROM members\")\n",
    "members = members.withColumn(\"letter\", substring(\"surname\", 1, 1))\n",
    "members = members.groupBy(\"letter\").agg(count(\"letter\").alias(\"count\"))\n",
    "\n",
    "display(members.select(\"letter\", \"count\").orderBy(\"letter\"))"
   ]
  },
  {
   "cell_type": "markdown",
   "metadata": {
    "application/vnd.databricks.v1+cell": {
     "cellMetadata": {},
     "inputWidgets": {},
     "nuid": "4842266d-3e58-4f6e-90e0-d864cb52dcb7",
     "showTitle": false,
     "tableResultSettingsMap": {},
     "title": ""
    }
   },
   "source": [
    "### Question\n",
    "Produce a list of all the dates in October 2012. They can be output as a timestamp (with time set to midnight) or a date. \\\n",
    "https://pgexercises.com/questions/date/series.html"
   ]
  },
  {
   "cell_type": "code",
   "execution_count": 0,
   "metadata": {
    "application/vnd.databricks.v1+cell": {
     "cellMetadata": {
      "byteLimit": 2048000,
      "rowLimit": 10000
     },
     "inputWidgets": {},
     "nuid": "1ed6f786-18be-4ffb-b802-0cc18253018f",
     "showTitle": false,
     "tableResultSettingsMap": {},
     "title": ""
    }
   },
   "outputs": [
    {
     "output_type": "display_data",
     "data": {
      "text/html": [
       "<style scoped>\n",
       "  .table-result-container {\n",
       "    max-height: 300px;\n",
       "    overflow: auto;\n",
       "  }\n",
       "  table, th, td {\n",
       "    border: 1px solid black;\n",
       "    border-collapse: collapse;\n",
       "  }\n",
       "  th, td {\n",
       "    padding: 5px;\n",
       "  }\n",
       "  th {\n",
       "    text-align: left;\n",
       "  }\n",
       "</style><div class='table-result-container'><table class='table-result'><thead style='background-color: white'><tr><th>col</th></tr></thead><tbody><tr><td>2012-10-01T00:00:00.000+0000</td></tr><tr><td>2012-10-02T00:00:00.000+0000</td></tr><tr><td>2012-10-03T00:00:00.000+0000</td></tr><tr><td>2012-10-04T00:00:00.000+0000</td></tr><tr><td>2012-10-05T00:00:00.000+0000</td></tr><tr><td>2012-10-06T00:00:00.000+0000</td></tr><tr><td>2012-10-07T00:00:00.000+0000</td></tr><tr><td>2012-10-08T00:00:00.000+0000</td></tr><tr><td>2012-10-09T00:00:00.000+0000</td></tr><tr><td>2012-10-10T00:00:00.000+0000</td></tr><tr><td>2012-10-11T00:00:00.000+0000</td></tr><tr><td>2012-10-12T00:00:00.000+0000</td></tr><tr><td>2012-10-13T00:00:00.000+0000</td></tr><tr><td>2012-10-14T00:00:00.000+0000</td></tr><tr><td>2012-10-15T00:00:00.000+0000</td></tr><tr><td>2012-10-16T00:00:00.000+0000</td></tr><tr><td>2012-10-17T00:00:00.000+0000</td></tr><tr><td>2012-10-18T00:00:00.000+0000</td></tr><tr><td>2012-10-19T00:00:00.000+0000</td></tr><tr><td>2012-10-20T00:00:00.000+0000</td></tr><tr><td>2012-10-21T00:00:00.000+0000</td></tr><tr><td>2012-10-22T00:00:00.000+0000</td></tr><tr><td>2012-10-23T00:00:00.000+0000</td></tr><tr><td>2012-10-24T00:00:00.000+0000</td></tr><tr><td>2012-10-25T00:00:00.000+0000</td></tr><tr><td>2012-10-26T00:00:00.000+0000</td></tr><tr><td>2012-10-27T00:00:00.000+0000</td></tr><tr><td>2012-10-28T00:00:00.000+0000</td></tr><tr><td>2012-10-29T00:00:00.000+0000</td></tr><tr><td>2012-10-30T00:00:00.000+0000</td></tr><tr><td>2012-10-31T00:00:00.000+0000</td></tr></tbody></table></div>"
      ]
     },
     "metadata": {
      "application/vnd.databricks.v1+output": {
       "addedWidgets": {},
       "aggData": [],
       "aggError": "",
       "aggOverflow": false,
       "aggSchema": [],
       "aggSeriesLimitReached": false,
       "aggType": "",
       "arguments": {},
       "columnCustomDisplayInfos": {},
       "data": [
        [
         "2012-10-01T00:00:00.000+0000"
        ],
        [
         "2012-10-02T00:00:00.000+0000"
        ],
        [
         "2012-10-03T00:00:00.000+0000"
        ],
        [
         "2012-10-04T00:00:00.000+0000"
        ],
        [
         "2012-10-05T00:00:00.000+0000"
        ],
        [
         "2012-10-06T00:00:00.000+0000"
        ],
        [
         "2012-10-07T00:00:00.000+0000"
        ],
        [
         "2012-10-08T00:00:00.000+0000"
        ],
        [
         "2012-10-09T00:00:00.000+0000"
        ],
        [
         "2012-10-10T00:00:00.000+0000"
        ],
        [
         "2012-10-11T00:00:00.000+0000"
        ],
        [
         "2012-10-12T00:00:00.000+0000"
        ],
        [
         "2012-10-13T00:00:00.000+0000"
        ],
        [
         "2012-10-14T00:00:00.000+0000"
        ],
        [
         "2012-10-15T00:00:00.000+0000"
        ],
        [
         "2012-10-16T00:00:00.000+0000"
        ],
        [
         "2012-10-17T00:00:00.000+0000"
        ],
        [
         "2012-10-18T00:00:00.000+0000"
        ],
        [
         "2012-10-19T00:00:00.000+0000"
        ],
        [
         "2012-10-20T00:00:00.000+0000"
        ],
        [
         "2012-10-21T00:00:00.000+0000"
        ],
        [
         "2012-10-22T00:00:00.000+0000"
        ],
        [
         "2012-10-23T00:00:00.000+0000"
        ],
        [
         "2012-10-24T00:00:00.000+0000"
        ],
        [
         "2012-10-25T00:00:00.000+0000"
        ],
        [
         "2012-10-26T00:00:00.000+0000"
        ],
        [
         "2012-10-27T00:00:00.000+0000"
        ],
        [
         "2012-10-28T00:00:00.000+0000"
        ],
        [
         "2012-10-29T00:00:00.000+0000"
        ],
        [
         "2012-10-30T00:00:00.000+0000"
        ],
        [
         "2012-10-31T00:00:00.000+0000"
        ]
       ],
       "datasetInfos": [],
       "dbfsResultPath": null,
       "isJsonSchema": true,
       "metadata": {},
       "overflow": false,
       "plotOptions": {
        "customPlotOptions": {},
        "displayType": "table",
        "pivotAggregation": null,
        "pivotColumns": null,
        "xColumns": null,
        "yColumns": null
       },
       "removedWidgets": [],
       "schema": [
        {
         "metadata": "{}",
         "name": "col",
         "type": "\"timestamp\""
        }
       ],
       "type": "table"
      }
     },
     "output_type": "display_data"
    }
   ],
   "source": [
    "from pyspark.sql.functions import sequence, explode, to_timestamp\n",
    "\n",
    "start_date = '2012-10-01 00:00:00'\n",
    "end_date = '2012-10-31 23:59:59'\n",
    "\n",
    "df = spark.createDataFrame([(start_date, end_date)], [\"start_date\", \"end_date\"])\n",
    "\n",
    "df = df.select(sequence(to_timestamp(df.start_date), to_timestamp(df.end_date), expr(\"INTERVAL 1 DAY\")).alias(\"dates\"))\n",
    "df = df.select(explode(\"dates\"))\n",
    "\n",
    "display(df)\n"
   ]
  },
  {
   "cell_type": "markdown",
   "metadata": {
    "application/vnd.databricks.v1+cell": {
     "cellMetadata": {},
     "inputWidgets": {},
     "nuid": "0c4135eb-4106-4ef2-8ab0-c5bb86ad47ff",
     "showTitle": false,
     "tableResultSettingsMap": {},
     "title": ""
    }
   },
   "source": [
    "### Question\n",
    "Return a count of bookings for each month, sorted by month. \\\n",
    "https://pgexercises.com/questions/date/bookingspermonth.html"
   ]
  },
  {
   "cell_type": "code",
   "execution_count": 0,
   "metadata": {
    "application/vnd.databricks.v1+cell": {
     "cellMetadata": {
      "byteLimit": 2048000,
      "rowLimit": 10000
     },
     "inputWidgets": {},
     "nuid": "28b45874-f8ec-4ea7-a836-5e9e706d487b",
     "showTitle": false,
     "tableResultSettingsMap": {},
     "title": ""
    }
   },
   "outputs": [
    {
     "output_type": "display_data",
     "data": {
      "text/html": [
       "<style scoped>\n",
       "  .table-result-container {\n",
       "    max-height: 300px;\n",
       "    overflow: auto;\n",
       "  }\n",
       "  table, th, td {\n",
       "    border: 1px solid black;\n",
       "    border-collapse: collapse;\n",
       "  }\n",
       "  th, td {\n",
       "    padding: 5px;\n",
       "  }\n",
       "  th {\n",
       "    text-align: left;\n",
       "  }\n",
       "</style><div class='table-result-container'><table class='table-result'><thead style='background-color: white'><tr><th>month</th><th>count</th></tr></thead><tbody><tr><td>1</td><td>1</td></tr><tr><td>7</td><td>658</td></tr><tr><td>8</td><td>1472</td></tr><tr><td>9</td><td>1913</td></tr></tbody></table></div>"
      ]
     },
     "metadata": {
      "application/vnd.databricks.v1+output": {
       "addedWidgets": {},
       "aggData": [],
       "aggError": "",
       "aggOverflow": false,
       "aggSchema": [],
       "aggSeriesLimitReached": false,
       "aggType": "",
       "arguments": {},
       "columnCustomDisplayInfos": {},
       "data": [
        [
         1,
         1
        ],
        [
         7,
         658
        ],
        [
         8,
         1472
        ],
        [
         9,
         1913
        ]
       ],
       "datasetInfos": [],
       "dbfsResultPath": null,
       "isJsonSchema": true,
       "metadata": {},
       "overflow": false,
       "plotOptions": {
        "customPlotOptions": {},
        "displayType": "table",
        "pivotAggregation": null,
        "pivotColumns": null,
        "xColumns": null,
        "yColumns": null
       },
       "removedWidgets": [],
       "schema": [
        {
         "metadata": "{}",
         "name": "month",
         "type": "\"integer\""
        },
        {
         "metadata": "{}",
         "name": "count",
         "type": "\"long\""
        }
       ],
       "type": "table"
      }
     },
     "output_type": "display_data"
    }
   ],
   "source": [
    "from pyspark.sql.functions import month\n",
    "\n",
    "bookings = spark.sql(\"SELECT * FROM bookings\")\n",
    "bookings = bookings.withColumn(\"month\", month(\"starttime\"))\n",
    "bookings = bookings.groupBy(\"month\").agg(count(\"*\").alias(\"count\"))\n",
    "display(bookings.select(\"month\", \"count\").orderBy(\"month\"))"
   ]
  },
  {
   "cell_type": "markdown",
   "metadata": {
    "application/vnd.databricks.v1+cell": {
     "cellMetadata": {},
     "inputWidgets": {},
     "nuid": "bf549e48-218c-4152-8176-9ac1c47fcd2f",
     "showTitle": false,
     "tableResultSettingsMap": {},
     "title": ""
    }
   },
   "source": []
  }
 ],
 "metadata": {
  "application/vnd.databricks.v1+notebook": {
   "computePreferences": null,
   "dashboards": [],
   "environmentMetadata": null,
   "language": "python",
   "notebookMetadata": {
    "pythonIndentUnit": 4
   },
   "notebookName": "1 - Spark Dataframe Data Manipulation (pgexercises)",
   "widgets": {}
  }
 },
 "nbformat": 4,
 "nbformat_minor": 0
}
