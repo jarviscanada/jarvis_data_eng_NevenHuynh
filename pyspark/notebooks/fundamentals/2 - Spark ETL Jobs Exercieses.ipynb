{
 "cells": [
  {
   "cell_type": "markdown",
   "metadata": {
    "application/vnd.databricks.v1+cell": {
     "cellMetadata": {},
     "inputWidgets": {},
     "nuid": "9be60341-fe75-47c1-b33c-d7bacb1fe4ff",
     "showTitle": false,
     "tableResultSettingsMap": {},
     "title": ""
    }
   },
   "source": [
    "# Learning Objectives\n",
    "\n",
    "In this notebook, you will craft sophisticated ETL jobs that interface with a variety of common data sources, such as \n",
    "- REST APIs (HTTP endpoints)\n",
    "- RDBMS\n",
    "- Hive tables (managed tables)\n",
    "- Various file formats (csv, json, parquet, etc.)"
   ]
  },
  {
   "cell_type": "markdown",
   "metadata": {
    "application/vnd.databricks.v1+cell": {
     "cellMetadata": {},
     "inputWidgets": {},
     "nuid": "5d9fe8dc-6b2e-4499-8961-7e01309d05f1",
     "showTitle": false,
     "tableResultSettingsMap": {},
     "title": ""
    }
   },
   "source": [
    "\n",
    "# Interview Questions\n",
    "\n",
    "As you progress through the practice, attempt to answer the following questions:\n",
    "\n",
    "## Columnar File\n",
    "- What is a columnar file format and what advantages does it offer?\n",
    "- Why is Parquet frequently used with Spark and how does it function?\n",
    "- How do you read/write data from/to a Parquet file using a DataFrame?\n",
    "\n",
    "## Partitions\n",
    "- How do you save data to a file system by partitions? (Hint: Provide the code)\n",
    "- How and why can partitions reduce query execution time? (Hint: Give an example)\n",
    "\n",
    "## JDBC and RDBMS\n",
    "- How do you load data from an RDBMS into Spark? (Hint: Discuss the steps and JDBC)\n",
    "\n",
    "## REST API and HTTP Requests\n",
    "- How can Spark be used to fetch data from a REST API? (Hint: Discuss making API requests)"
   ]
  },
  {
   "cell_type": "markdown",
   "metadata": {
    "application/vnd.databricks.v1+cell": {
     "cellMetadata": {},
     "inputWidgets": {},
     "nuid": "8c7f0dcb-2214-41ae-a6f4-12d5a34506ff",
     "showTitle": false,
     "tableResultSettingsMap": {},
     "title": ""
    }
   },
   "source": [
    "## ETL Job One: Parquet file\n",
    "### Extract\n",
    "Extract data from the managed tables (e.g. `bookings_csv`, `members_csv`, and `facilities_csv`)\n",
    "\n",
    "### Transform\n",
    "Data transformation requirements https://pgexercises.com/questions/aggregates/fachoursbymonth.html\n",
    "\n",
    "### Load\n",
    "Load data into a parquet file\n",
    "\n",
    "### What is Parquet? \n",
    "\n",
    "Columnar files are an important technique for optimizing Spark queries. Additionally, they are often tested in interviews.\n",
    "- https://www.youtube.com/watch?v=KLFadWdomyI\n",
    "- https://www.databricks.com/glossary/what-is-parquet"
   ]
  },
  {
   "cell_type": "code",
   "execution_count": 0,
   "metadata": {
    "application/vnd.databricks.v1+cell": {
     "cellMetadata": {
      "byteLimit": 2048000,
      "rowLimit": 10000
     },
     "inputWidgets": {},
     "nuid": "33324d02-bc67-4c31-b822-8fe8c69fead5",
     "showTitle": false,
     "tableResultSettingsMap": {},
     "title": ""
    }
   },
   "outputs": [
    {
     "output_type": "stream",
     "name": "stdout",
     "output_type": "stream",
     "text": [
      "+-----+-----------+\n|facid|Total Slots|\n+-----+-----------+\n|    5|        122|\n|    3|        422|\n|    7|        426|\n|    8|        471|\n|    6|        540|\n|    2|        570|\n|    1|        588|\n|    0|        591|\n|    4|        648|\n+-----+-----------+\n\n"
     ]
    }
   ],
   "source": [
    "# Write your solution here\n",
    "from pyspark.sql.functions import sum\n",
    "\n",
    "bookingsDF = spark.sql(\"SELECT * FROM bookings\")\n",
    "bookingsDF = bookingsDF.filter((bookingsDF[\"starttime\"] >= '2012-09-01 00:00:00') & (bookingsDF[\"starttime\"] < '2012-10-01 00:00:00'))\n",
    "bookingsDF = bookingsDF.groupBy(\"facid\").agg(sum(\"slots\").alias(\"Total Slots\"))\n",
    "bookingsDF = bookingsDF.orderBy(\"Total Slots\")\n",
    "\n",
    "bookingsDF.write.mode(\"overwrite\").parquet(\"bookings.parquet\")\n",
    "bookingsParquet = spark.read.parquet(\"/bookings.parquet\")\n",
    "\n",
    "bookingsParquet.show()\n",
    "\n"
   ]
  },
  {
   "cell_type": "markdown",
   "metadata": {
    "application/vnd.databricks.v1+cell": {
     "cellMetadata": {},
     "inputWidgets": {},
     "nuid": "b51d425e-d532-47e5-8cbf-a91ca78246b5",
     "showTitle": false,
     "tableResultSettingsMap": {},
     "title": ""
    }
   },
   "source": [
    "## ETL Job Two: Partitions\n",
    "\n",
    "### Extract\n",
    "Extract data from the managed tables (e.g. `bookings_csv`, `members_csv`, and `facilities_csv`)\n",
    "\n",
    "### Transform\n",
    "Transform the data https://pgexercises.com/questions/joins/threejoin.html\n",
    "\n",
    "### Load\n",
    "Partition the result data by facility column and then save to `threejoin_delta` managed table. Additionally, they are often tested in interviews.\n",
    "\n",
    "hint: https://spark.apache.org/docs/latest/api/python/reference/pyspark.sql/api/pyspark.sql.DataFrameWriter.partitionBy.html\n",
    "\n",
    "What are paritions? \n",
    "\n",
    "Partitions are an important technique to optimize Spark queries\n",
    "- https://www.youtube.com/watch?v=hvF7tY2-L3U&t=268s"
   ]
  },
  {
   "cell_type": "code",
   "execution_count": 0,
   "metadata": {
    "application/vnd.databricks.v1+cell": {
     "cellMetadata": {
      "byteLimit": 2048000,
      "rowLimit": 10000
     },
     "inputWidgets": {},
     "nuid": "32aea2ca-5178-4034-91ee-c09942c5f518",
     "showTitle": false,
     "tableResultSettingsMap": {},
     "title": ""
    }
   },
   "outputs": [
    {
     "output_type": "display_data",
     "data": {
      "text/html": [
       "<style scoped>\n",
       "  .table-result-container {\n",
       "    max-height: 300px;\n",
       "    overflow: auto;\n",
       "  }\n",
       "  table, th, td {\n",
       "    border: 1px solid black;\n",
       "    border-collapse: collapse;\n",
       "  }\n",
       "  th, td {\n",
       "    padding: 5px;\n",
       "  }\n",
       "  th {\n",
       "    text-align: left;\n",
       "  }\n",
       "</style><div class='table-result-container'><table class='table-result'><thead style='background-color: white'><tr><th>member</th><th>name</th></tr></thead><tbody><tr><td>Anne Baker</td><td>Tennis Court 1</td></tr><tr><td>Burton Tracy</td><td>Tennis Court 1</td></tr><tr><td>Charles Owen</td><td>Tennis Court 1</td></tr><tr><td>David Farrell</td><td>Tennis Court 1</td></tr><tr><td>David Jones</td><td>Tennis Court 1</td></tr><tr><td>David Pinker</td><td>Tennis Court 1</td></tr><tr><td>Douglas Jones</td><td>Tennis Court 1</td></tr><tr><td>Erica Crumpet</td><td>Tennis Court 1</td></tr><tr><td>Florence Bader</td><td>Tennis Court 1</td></tr><tr><td>GUEST GUEST</td><td>Tennis Court 1</td></tr><tr><td>Gerald Butters</td><td>Tennis Court 1</td></tr><tr><td>Jack Smith</td><td>Tennis Court 1</td></tr><tr><td>Janice Joplette</td><td>Tennis Court 1</td></tr><tr><td>Jemima Farrell</td><td>Tennis Court 1</td></tr><tr><td>Joan Coplin</td><td>Tennis Court 1</td></tr><tr><td>John Hunt</td><td>Tennis Court 1</td></tr><tr><td>Matthew Genting</td><td>Tennis Court 1</td></tr><tr><td>Nancy Dare</td><td>Tennis Court 1</td></tr><tr><td>Ponder Stibbons</td><td>Tennis Court 1</td></tr><tr><td>Ramnaresh Sarwin</td><td>Tennis Court 1</td></tr><tr><td>Tim Boothe</td><td>Tennis Court 1</td></tr><tr><td>Tim Rownam</td><td>Tennis Court 1</td></tr><tr><td>Timothy Baker</td><td>Tennis Court 1</td></tr><tr><td>Tracy Smith</td><td>Tennis Court 1</td></tr></tbody></table></div>"
      ]
     },
     "metadata": {
      "application/vnd.databricks.v1+output": {
       "addedWidgets": {},
       "aggData": [],
       "aggError": "",
       "aggOverflow": false,
       "aggSchema": [],
       "aggSeriesLimitReached": false,
       "aggType": "",
       "arguments": {},
       "columnCustomDisplayInfos": {},
       "data": [
        [
         "Anne Baker",
         "Tennis Court 1"
        ],
        [
         "Burton Tracy",
         "Tennis Court 1"
        ],
        [
         "Charles Owen",
         "Tennis Court 1"
        ],
        [
         "David Farrell",
         "Tennis Court 1"
        ],
        [
         "David Jones",
         "Tennis Court 1"
        ],
        [
         "David Pinker",
         "Tennis Court 1"
        ],
        [
         "Douglas Jones",
         "Tennis Court 1"
        ],
        [
         "Erica Crumpet",
         "Tennis Court 1"
        ],
        [
         "Florence Bader",
         "Tennis Court 1"
        ],
        [
         "GUEST GUEST",
         "Tennis Court 1"
        ],
        [
         "Gerald Butters",
         "Tennis Court 1"
        ],
        [
         "Jack Smith",
         "Tennis Court 1"
        ],
        [
         "Janice Joplette",
         "Tennis Court 1"
        ],
        [
         "Jemima Farrell",
         "Tennis Court 1"
        ],
        [
         "Joan Coplin",
         "Tennis Court 1"
        ],
        [
         "John Hunt",
         "Tennis Court 1"
        ],
        [
         "Matthew Genting",
         "Tennis Court 1"
        ],
        [
         "Nancy Dare",
         "Tennis Court 1"
        ],
        [
         "Ponder Stibbons",
         "Tennis Court 1"
        ],
        [
         "Ramnaresh Sarwin",
         "Tennis Court 1"
        ],
        [
         "Tim Boothe",
         "Tennis Court 1"
        ],
        [
         "Tim Rownam",
         "Tennis Court 1"
        ],
        [
         "Timothy Baker",
         "Tennis Court 1"
        ],
        [
         "Tracy Smith",
         "Tennis Court 1"
        ]
       ],
       "datasetInfos": [],
       "dbfsResultPath": null,
       "isJsonSchema": true,
       "metadata": {},
       "overflow": false,
       "plotOptions": {
        "customPlotOptions": {},
        "displayType": "table",
        "pivotAggregation": null,
        "pivotColumns": null,
        "xColumns": null,
        "yColumns": null
       },
       "removedWidgets": [],
       "schema": [
        {
         "metadata": "{}",
         "name": "member",
         "type": "\"string\""
        },
        {
         "metadata": "{}",
         "name": "name",
         "type": "\"string\""
        }
       ],
       "type": "table"
      }
     },
     "output_type": "display_data"
    }
   ],
   "source": [
    "# Write your solution here\n",
    "from pyspark.sql.functions import concat_ws\n",
    "\n",
    "members = spark.sql(\"SELECT * FROM members\")\n",
    "bookings = spark.sql(\"SELECT * FROM bookings\")\n",
    "facilities = spark.sql(\"SELECT * FROM facilities\")\n",
    "\n",
    "dataframe = (\n",
    "    members\n",
    "    .join(bookings, \"memid\", \"inner\")\n",
    "    .join(facilities, \"facid\", \"inner\")\n",
    "    .filter(facilities[\"name\"].like(\"Tennis Court%\"))\n",
    "    .withColumn(\"member\", concat_ws(\" \", members[\"firstname\"], members[\"surname\"]))\n",
    "    .select(\"member\", \"name\").distinct().orderBy([\"member\", \"name\"], ascending = True)\n",
    ")\n",
    "\n",
    "spark.sql(\"DROP TABLE IF EXISTS threejoin_delta\")\n",
    "dbutils.fs.rm(\"dbfs:/user/hive/warehouse/threejoin_delta\", recurse=True)\n",
    "\n",
    "dataframe.write.partitionBy(\"name\").mode(\"overwrite\").format(\"parquet\").saveAsTable(\"threejoin_delta\")\n",
    "\n",
    "#display(spark.read.parquet(\"/user/hive/warehouse/threejoin_delta/name=Tennis Court 1\"))\n",
    "display(spark.sql(\"SELECT * FROM threejoin_delta WHERE name = 'Tennis Court 1'\"))\n",
    "#display(spark.read.table(\"threejoin_delta\").filter(\"name = 'Tennis Court 1'\"))\n"
   ]
  },
  {
   "cell_type": "markdown",
   "metadata": {
    "application/vnd.databricks.v1+cell": {
     "cellMetadata": {},
     "inputWidgets": {},
     "nuid": "7610de14-acd6-4374-945d-661dbc08a08e",
     "showTitle": false,
     "tableResultSettingsMap": {},
     "title": ""
    }
   },
   "source": [
    "## ETL Job Three: HTTP Requests\n",
    "\n",
    "### Extract\n",
    "Extract daily stock price data price from the following companies, Google, Apple, Microsoft, and Tesla. \n",
    "\n",
    "Data Source\n",
    "- API: https://rapidapi.com/alphavantage/api/alpha-vantage\n",
    "- Endpoint: GET `TIME_SERIES_DAILY`\n",
    "\n",
    "Sample HTTP request\n",
    "\n",
    "```\n",
    "curl --request GET \\\n",
    "\t--url 'https://alpha-vantage.p.rapidapi.com/query?function=TIME_SERIES_DAILY&symbol=TSLA&outputsize=compact&datatype=json' \\\n",
    "\t--header 'X-RapidAPI-Host: alpha-vantage.p.rapidapi.com' \\\n",
    "\t--header 'X-RapidAPI-Key: [YOUR_KEY]'\n",
    "\n",
    "```\n",
    "\n",
    "Sample Python HTTP request\n",
    "\n",
    "```\n",
    "import requests\n",
    "\n",
    "url = \"https://alpha-vantage.p.rapidapi.com/query\"\n",
    "\n",
    "querystring = {\n",
    "    \"function\":\"TIME_SERIES_DAILY\",\n",
    "    \"symbol\":\"IBM\",\n",
    "    \"datatype\":\"json\",\n",
    "    \"outputsize\":\"compact\"\n",
    "}\n",
    "\n",
    "headers = {\n",
    "    \"X-RapidAPI-Host\": \"alpha-vantage.p.rapidapi.com\",\n",
    "    \"X-RapidAPI-Key\": \"[YOUR_KEY]\"\n",
    "}\n",
    "\n",
    "response = requests.get(url, headers=headers, params=querystring)\n",
    "\n",
    "data = response.json()\n",
    "\n",
    "# Now 'data' contains the daily time series data for \"IBM\"\n",
    "```\n",
    "\n",
    "### Transform\n",
    "Find **weekly** max closing price for each company.\n",
    "\n",
    "hints: \n",
    "  - Use a `for-loop` to get stock data for each company\n",
    "  - Use the spark `union` operation to concat all data into one DF\n",
    "  - create a new `week` column from the data column\n",
    "  - use `group by` to calcualte max closing price\n",
    "\n",
    "### Load\n",
    "- Partition `DF` by company\n",
    "- Load the DF in to a managed table called, `max_closing_price_weekly`"
   ]
  },
  {
   "cell_type": "code",
   "execution_count": 0,
   "metadata": {
    "application/vnd.databricks.v1+cell": {
     "cellMetadata": {
      "byteLimit": 2048000,
      "rowLimit": 10000
     },
     "inputWidgets": {},
     "nuid": "7b76fcc5-fc12-4401-a16c-e24c4c890dd0",
     "showTitle": false,
     "tableResultSettingsMap": {},
     "title": ""
    }
   },
   "outputs": [
    {
     "output_type": "display_data",
     "data": {
      "text/html": [
       "<style scoped>\n",
       "  .table-result-container {\n",
       "    max-height: 300px;\n",
       "    overflow: auto;\n",
       "  }\n",
       "  table, th, td {\n",
       "    border: 1px solid black;\n",
       "    border-collapse: collapse;\n",
       "  }\n",
       "  th, td {\n",
       "    padding: 5px;\n",
       "  }\n",
       "  th {\n",
       "    text-align: left;\n",
       "  }\n",
       "</style><div class='table-result-container'><table class='table-result'><thead style='background-color: white'><tr><th>week</th><th>weekly max</th><th>company</th></tr></thead><tbody><tr><td>1</td><td>193.13</td><td>GOOG</td></tr><tr><td>2</td><td>197.96</td><td>GOOG</td></tr><tr><td>3</td><td>197.55</td><td>GOOG</td></tr><tr><td>4</td><td>201.9</td><td>GOOG</td></tr><tr><td>5</td><td>205.6</td><td>GOOG</td></tr><tr><td>6</td><td>207.71</td><td>GOOG</td></tr><tr><td>7</td><td>188.2</td><td>GOOG</td></tr><tr><td>8</td><td>187.13</td><td>GOOG</td></tr><tr><td>9</td><td>181.19</td><td>GOOG</td></tr><tr><td>10</td><td>175.75</td><td>GOOG</td></tr><tr><td>11</td><td>169.0</td><td>GOOG</td></tr><tr><td>12</td><td>166.57</td><td>GOOG</td></tr><tr><td>13</td><td>169.93</td><td>GOOG</td></tr><tr><td>44</td><td>176.14</td><td>GOOG</td></tr><tr><td>45</td><td>182.28</td><td>GOOG</td></tr><tr><td>46</td><td>183.32</td><td>GOOG</td></tr><tr><td>47</td><td>179.58</td><td>GOOG</td></tr><tr><td>48</td><td>170.82</td><td>GOOG</td></tr><tr><td>49</td><td>176.49</td><td>GOOG</td></tr><tr><td>50</td><td>196.71</td><td>GOOG</td></tr><tr><td>51</td><td>198.16</td><td>GOOG</td></tr><tr><td>52</td><td>197.57</td><td>GOOG</td></tr><tr><td>1</td><td>424.83</td><td>MSFT</td></tr><tr><td>2</td><td>427.85</td><td>MSFT</td></tr><tr><td>3</td><td>429.03</td><td>MSFT</td></tr><tr><td>4</td><td>446.71</td><td>MSFT</td></tr><tr><td>5</td><td>447.2</td><td>MSFT</td></tr><tr><td>6</td><td>415.82</td><td>MSFT</td></tr><tr><td>7</td><td>412.22</td><td>MSFT</td></tr><tr><td>8</td><td>416.13</td><td>MSFT</td></tr><tr><td>9</td><td>404.0</td><td>MSFT</td></tr><tr><td>10</td><td>401.02</td><td>MSFT</td></tr><tr><td>11</td><td>388.56</td><td>MSFT</td></tr><tr><td>12</td><td>391.26</td><td>MSFT</td></tr><tr><td>13</td><td>393.08</td><td>MSFT</td></tr><tr><td>44</td><td>432.53</td><td>MSFT</td></tr><tr><td>45</td><td>425.43</td><td>MSFT</td></tr><tr><td>46</td><td>426.89</td><td>MSFT</td></tr><tr><td>47</td><td>417.79</td><td>MSFT</td></tr><tr><td>48</td><td>427.99</td><td>MSFT</td></tr><tr><td>49</td><td>443.57</td><td>MSFT</td></tr><tr><td>50</td><td>449.56</td><td>MSFT</td></tr><tr><td>51</td><td>454.46</td><td>MSFT</td></tr><tr><td>52</td><td>439.33</td><td>MSFT</td></tr><tr><td>1</td><td>417.41</td><td>TSLA</td></tr><tr><td>2</td><td>411.05</td><td>TSLA</td></tr><tr><td>3</td><td>428.22</td><td>TSLA</td></tr><tr><td>4</td><td>424.07</td><td>TSLA</td></tr><tr><td>5</td><td>404.6</td><td>TSLA</td></tr><tr><td>6</td><td>392.21</td><td>TSLA</td></tr><tr><td>7</td><td>355.94</td><td>TSLA</td></tr><tr><td>8</td><td>360.56</td><td>TSLA</td></tr><tr><td>9</td><td>330.53</td><td>TSLA</td></tr><tr><td>10</td><td>284.65</td><td>TSLA</td></tr><tr><td>11</td><td>249.98</td><td>TSLA</td></tr><tr><td>12</td><td>248.71</td><td>TSLA</td></tr><tr><td>13</td><td>278.39</td><td>TSLA</td></tr><tr><td>44</td><td>262.51</td><td>TSLA</td></tr><tr><td>45</td><td>321.22</td><td>TSLA</td></tr><tr><td>46</td><td>350.0</td><td>TSLA</td></tr><tr><td>47</td><td>352.56</td><td>TSLA</td></tr><tr><td>48</td><td>345.16</td><td>TSLA</td></tr><tr><td>49</td><td>389.22</td><td>TSLA</td></tr><tr><td>50</td><td>436.23</td><td>TSLA</td></tr><tr><td>51</td><td>479.86</td><td>TSLA</td></tr><tr><td>52</td><td>462.28</td><td>TSLA</td></tr><tr><td>1</td><td>252.2</td><td>AAPL</td></tr><tr><td>2</td><td>245.0</td><td>AAPL</td></tr><tr><td>3</td><td>237.87</td><td>AAPL</td></tr><tr><td>4</td><td>223.83</td><td>AAPL</td></tr><tr><td>5</td><td>239.36</td><td>AAPL</td></tr><tr><td>6</td><td>233.22</td><td>AAPL</td></tr><tr><td>7</td><td>244.6</td><td>AAPL</td></tr><tr><td>8</td><td>245.83</td><td>AAPL</td></tr><tr><td>9</td><td>247.1</td><td>AAPL</td></tr><tr><td>10</td><td>239.07</td><td>AAPL</td></tr><tr><td>11</td><td>227.48</td><td>AAPL</td></tr><tr><td>12</td><td>218.27</td><td>AAPL</td></tr><tr><td>13</td><td>220.73</td><td>AAPL</td></tr><tr><td>44</td><td>233.67</td><td>AAPL</td></tr><tr><td>45</td><td>227.48</td><td>AAPL</td></tr><tr><td>46</td><td>228.22</td><td>AAPL</td></tr><tr><td>47</td><td>229.87</td><td>AAPL</td></tr><tr><td>48</td><td>237.33</td><td>AAPL</td></tr><tr><td>49</td><td>243.04</td><td>AAPL</td></tr><tr><td>50</td><td>248.13</td><td>AAPL</td></tr><tr><td>51</td><td>254.49</td><td>AAPL</td></tr><tr><td>52</td><td>259.02</td><td>AAPL</td></tr></tbody></table></div>"
      ]
     },
     "metadata": {
      "application/vnd.databricks.v1+output": {
       "addedWidgets": {},
       "aggData": [],
       "aggError": "",
       "aggOverflow": false,
       "aggSchema": [],
       "aggSeriesLimitReached": false,
       "aggType": "",
       "arguments": {},
       "columnCustomDisplayInfos": {},
       "data": [
        [
         1,
         193.13,
         "GOOG"
        ],
        [
         2,
         197.96,
         "GOOG"
        ],
        [
         3,
         197.55,
         "GOOG"
        ],
        [
         4,
         201.9,
         "GOOG"
        ],
        [
         5,
         205.6,
         "GOOG"
        ],
        [
         6,
         207.71,
         "GOOG"
        ],
        [
         7,
         188.2,
         "GOOG"
        ],
        [
         8,
         187.13,
         "GOOG"
        ],
        [
         9,
         181.19,
         "GOOG"
        ],
        [
         10,
         175.75,
         "GOOG"
        ],
        [
         11,
         169.0,
         "GOOG"
        ],
        [
         12,
         166.57,
         "GOOG"
        ],
        [
         13,
         169.93,
         "GOOG"
        ],
        [
         44,
         176.14,
         "GOOG"
        ],
        [
         45,
         182.28,
         "GOOG"
        ],
        [
         46,
         183.32,
         "GOOG"
        ],
        [
         47,
         179.58,
         "GOOG"
        ],
        [
         48,
         170.82,
         "GOOG"
        ],
        [
         49,
         176.49,
         "GOOG"
        ],
        [
         50,
         196.71,
         "GOOG"
        ],
        [
         51,
         198.16,
         "GOOG"
        ],
        [
         52,
         197.57,
         "GOOG"
        ],
        [
         1,
         424.83,
         "MSFT"
        ],
        [
         2,
         427.85,
         "MSFT"
        ],
        [
         3,
         429.03,
         "MSFT"
        ],
        [
         4,
         446.71,
         "MSFT"
        ],
        [
         5,
         447.2,
         "MSFT"
        ],
        [
         6,
         415.82,
         "MSFT"
        ],
        [
         7,
         412.22,
         "MSFT"
        ],
        [
         8,
         416.13,
         "MSFT"
        ],
        [
         9,
         404.0,
         "MSFT"
        ],
        [
         10,
         401.02,
         "MSFT"
        ],
        [
         11,
         388.56,
         "MSFT"
        ],
        [
         12,
         391.26,
         "MSFT"
        ],
        [
         13,
         393.08,
         "MSFT"
        ],
        [
         44,
         432.53,
         "MSFT"
        ],
        [
         45,
         425.43,
         "MSFT"
        ],
        [
         46,
         426.89,
         "MSFT"
        ],
        [
         47,
         417.79,
         "MSFT"
        ],
        [
         48,
         427.99,
         "MSFT"
        ],
        [
         49,
         443.57,
         "MSFT"
        ],
        [
         50,
         449.56,
         "MSFT"
        ],
        [
         51,
         454.46,
         "MSFT"
        ],
        [
         52,
         439.33,
         "MSFT"
        ],
        [
         1,
         417.41,
         "TSLA"
        ],
        [
         2,
         411.05,
         "TSLA"
        ],
        [
         3,
         428.22,
         "TSLA"
        ],
        [
         4,
         424.07,
         "TSLA"
        ],
        [
         5,
         404.6,
         "TSLA"
        ],
        [
         6,
         392.21,
         "TSLA"
        ],
        [
         7,
         355.94,
         "TSLA"
        ],
        [
         8,
         360.56,
         "TSLA"
        ],
        [
         9,
         330.53,
         "TSLA"
        ],
        [
         10,
         284.65,
         "TSLA"
        ],
        [
         11,
         249.98,
         "TSLA"
        ],
        [
         12,
         248.71,
         "TSLA"
        ],
        [
         13,
         278.39,
         "TSLA"
        ],
        [
         44,
         262.51,
         "TSLA"
        ],
        [
         45,
         321.22,
         "TSLA"
        ],
        [
         46,
         350.0,
         "TSLA"
        ],
        [
         47,
         352.56,
         "TSLA"
        ],
        [
         48,
         345.16,
         "TSLA"
        ],
        [
         49,
         389.22,
         "TSLA"
        ],
        [
         50,
         436.23,
         "TSLA"
        ],
        [
         51,
         479.86,
         "TSLA"
        ],
        [
         52,
         462.28,
         "TSLA"
        ],
        [
         1,
         252.2,
         "AAPL"
        ],
        [
         2,
         245.0,
         "AAPL"
        ],
        [
         3,
         237.87,
         "AAPL"
        ],
        [
         4,
         223.83,
         "AAPL"
        ],
        [
         5,
         239.36,
         "AAPL"
        ],
        [
         6,
         233.22,
         "AAPL"
        ],
        [
         7,
         244.6,
         "AAPL"
        ],
        [
         8,
         245.83,
         "AAPL"
        ],
        [
         9,
         247.1,
         "AAPL"
        ],
        [
         10,
         239.07,
         "AAPL"
        ],
        [
         11,
         227.48,
         "AAPL"
        ],
        [
         12,
         218.27,
         "AAPL"
        ],
        [
         13,
         220.73,
         "AAPL"
        ],
        [
         44,
         233.67,
         "AAPL"
        ],
        [
         45,
         227.48,
         "AAPL"
        ],
        [
         46,
         228.22,
         "AAPL"
        ],
        [
         47,
         229.87,
         "AAPL"
        ],
        [
         48,
         237.33,
         "AAPL"
        ],
        [
         49,
         243.04,
         "AAPL"
        ],
        [
         50,
         248.13,
         "AAPL"
        ],
        [
         51,
         254.49,
         "AAPL"
        ],
        [
         52,
         259.02,
         "AAPL"
        ]
       ],
       "datasetInfos": [],
       "dbfsResultPath": null,
       "isJsonSchema": true,
       "metadata": {},
       "overflow": false,
       "plotOptions": {
        "customPlotOptions": {},
        "displayType": "table",
        "pivotAggregation": null,
        "pivotColumns": null,
        "xColumns": null,
        "yColumns": null
       },
       "removedWidgets": [],
       "schema": [
        {
         "metadata": "{}",
         "name": "week",
         "type": "\"integer\""
        },
        {
         "metadata": "{}",
         "name": "weekly max",
         "type": "\"float\""
        },
        {
         "metadata": "{}",
         "name": "company",
         "type": "\"string\""
        }
       ],
       "type": "table"
      }
     },
     "output_type": "display_data"
    }
   ],
   "source": [
    "# Write your solution here\n",
    "from pyspark.sql.types import StructType, StructField, StringType, DateType, FloatType, json\n",
    "from pyspark.sql.functions import weekofyear, max\n",
    "import requests, time\n",
    "from datetime import datetime\n",
    "\n",
    "url = \"https://alpha-vantage.p.rapidapi.com/query\"\n",
    "\n",
    "tickers = [\"GOOG\", \"AAPL\", \"MSFT\", \"TSLA\"]\n",
    "\n",
    "schema = StructType([\n",
    "    StructField(\"company\", StringType(), True),\n",
    "    StructField(\"date\", DateType(), True),\n",
    "    StructField(\"close\", FloatType(), True)\n",
    "])\n",
    "\n",
    "final_df = spark.createDataFrame([], schema=schema)\n",
    "\n",
    "headers = {\n",
    "    \"X-RapidAPI-Host\": \"alpha-vantage.p.rapidapi.com\",\n",
    "    \"X-RapidAPI-Key\": \"cc5c24148dmsh6d6d9644eb647ccp183ebbjsn3f9c5aa36327\"\n",
    "}\n",
    "\n",
    "for ticker in tickers:\n",
    "    querystring = {\n",
    "    \"function\":\"TIME_SERIES_DAILY\",\n",
    "    \"symbol\":ticker,\n",
    "    \"datatype\":\"json\",\n",
    "    \"outputsize\":\"compact\"\n",
    "    }\n",
    "    response = requests.get(url, headers=headers, params=querystring)\n",
    "    data = response.json().get(\"Time Series (Daily)\", {})\n",
    "\n",
    "    stock_data = [(ticker, datetime.strptime(date, \"%Y-%m-%d\").date(), float(values[\"4. close\"])) for date, values in data.items()]\n",
    "    \n",
    "    stock_df = spark.createDataFrame(stock_data, schema = schema)\n",
    "\n",
    "    final_df = final_df.union(stock_df)\n",
    "    time.sleep(1)\n",
    "\n",
    "final_df = ( \n",
    "    final_df\n",
    "    .withColumn(\"week\", weekofyear(\"date\"))\n",
    "    .groupBy(\"company\", \"week\").agg(max(\"close\").alias(\"weekly max\"))\n",
    "    .orderBy(\"company\", \"week\")\n",
    ")\n",
    "\n",
    "spark.sql(\"DROP TABLE IF EXISTS max_closing_price_weekly\")\n",
    "dbutils.fs.rm(\"dbfs:/user/hive/warehouse/max_closing_price_weekly\", recurse=True)\n",
    "final_df.write.partitionBy(\"company\").mode(\"overwrite\").format(\"parquet\").saveAsTable(\"max_closing_price_weekly\")\n",
    "\n",
    "display(spark.sql(\"SELECT * FROM max_closing_price_weekly\"))\n",
    "\n"
   ]
  },
  {
   "cell_type": "markdown",
   "metadata": {
    "application/vnd.databricks.v1+cell": {
     "cellMetadata": {},
     "inputWidgets": {},
     "nuid": "37f98592-1f5f-4b42-9350-6720e69a7c22",
     "showTitle": false,
     "tableResultSettingsMap": {},
     "title": ""
    }
   },
   "source": [
    "## ETL Job Four: RDBMS\n",
    "\n",
    "\n",
    "### Extract\n",
    "Extract RNA data from a public PostgreSQL database.\n",
    "\n",
    "- https://rnacentral.org/help/public-database\n",
    "- Extract 100 RNA records from the `rna` table (hint: use `limit` in your sql)\n",
    "- hint: use `spark.read.jdbc` https://docs.databricks.com/external-data/jdbc.html\n",
    "\n",
    "### Transform\n",
    "We want to load the data as it so there is no transformation required.\n",
    "\n",
    "\n",
    "### Load\n",
    "Load the DF in to a managed table called, `rna_100_records`"
   ]
  },
  {
   "cell_type": "code",
   "execution_count": 0,
   "metadata": {
    "application/vnd.databricks.v1+cell": {
     "cellMetadata": {
      "byteLimit": 2048000,
      "rowLimit": 10000
     },
     "inputWidgets": {},
     "nuid": "3011d775-d108-4cb0-85d1-bf21ae1c23d4",
     "showTitle": false,
     "tableResultSettingsMap": {},
     "title": ""
    }
   },
   "outputs": [
    {
     "output_type": "display_data",
     "data": {
      "text/html": [
       "<style scoped>\n",
       "  .table-result-container {\n",
       "    max-height: 300px;\n",
       "    overflow: auto;\n",
       "  }\n",
       "  table, th, td {\n",
       "    border: 1px solid black;\n",
       "    border-collapse: collapse;\n",
       "  }\n",
       "  th, td {\n",
       "    padding: 5px;\n",
       "  }\n",
       "  th {\n",
       "    text-align: left;\n",
       "  }\n",
       "</style><div class='table-result-container'><table class='table-result'><thead style='background-color: white'><tr><th>id</th><th>upi</th><th>timestamp</th><th>userstamp</th><th>crc64</th><th>len</th><th>seq_short</th><th>seq_long</th><th>md5</th></tr></thead><tbody><tr><td>8988357</td><td>URS00008926C5</td><td>2015-10-20T18:04:07.000+0000</td><td>RNACEN</td><td>F9626977AB4E17FB</td><td>1336</td><td>TCAGCGGCGAACGGGTGAGTAACACGTGGGTGACTTGCCCCGAAGATGGGGATAACCTCTGGAAACGGGGGCTAATACCCAATGTGCTCGGTGATTCGGTTCATCGAGTAAAGCTCCGGCGCTTCGGGAGAGGCCTGCGGCCCATCAGCTAGTTGGTAGGGTAACGGCCTACCAAGGCAGAGGCGGGTAGGGGGCGTGAGAGCGCGGACCCCCACACTGGCACTGAGATACGGGCCAGACTCCTACGGGAGGCAGCAGTAAGGGATATTGCGCAATGGACGAAAGTCAGACGCAGCGACGCCGCGTGGGCGATGAAGGCCTTCGGGTTGTAAAGCCCTTTTATGGGGGAAGAGAAAAAGGACGGTACCCCAGGAATAAGTCCCGGCTAACTACGTGCCAGCAGCCGCGGTAAAACGTAGGGGACAAGCGTTATCCGGATTCACTGGGCGTAAAGAGCGTTGAGGCGGTTCCGTAAGTTGGGCGTGAAAGCTCCGGGCTTAACTCGGAGATGTCGTTCAATACTGCGGGGCTTGAGGACAGCAGAGGAAGGTGGAATTCCCGGTGTAGTGGTGAAATGCGTAGATATCGGGAGGAACACCCGTGGCGAAGGCGGCCTTCTGGGCTGTTCCTGACGCTGAAGGCGAAAGCTAGGGGAGCGAACGGGATTAGATACCCCGGTAGTCCTAGCTGTAAACGATGGATGCTGGGTGTGGGGGGTGTAAATTCCCTCTGTGCCGAAGCAAACGCGTTAAGCATCCCGCCTGGGGACTACGGCCGCAAGGCTAAAACTCAAACGAATTGACGGGGGCCCGCACAAGCAGCGGAGCGTGTGGTTTAATTCGATGCTACACGAAGAACCTTACCTGGGTTTGACATGCACGTGGTAGGGAACCGAAAGGGGACCGACCTTCGGGAGCGTGCACAGGTGCTGCATGGCTGTCGTCAGCTCGTGCCGTGAGGTGTCGGGTTAAGTCCCGTAACGAGCGCAACCCTTGCCCTTAGTTACAAGTGTCTAAGGGGACTGCCCGGGACAACTGGGAGGAAGGTGGGGATGACGTCAAGTCAGCATGGCCTTTATATCCAGGGCTACACACACGCTACAATGGCCGGTACAATAGGTTGCGAAGTCGTGAGGCGGAGCCAATCCTCAAAGCCGGTCTCAGTTCGAATTGCAGTCTGCAACTCGACTGCATGAAGCTGGAGTTGCTAGTAATCGCAGGTCAGCTATACTGCGGTGATACGTTCCCGGGCCTTGTACACACCGCCCGTCACGTCATGGAAGCTGGCAACGCCTGAAGCCGGTGAGCTAACCCGAAAGGGAGGCAGCCGTCGAGGG</td><td>null</td><td>fe4792a9218a34fdee33c9c52c548cf7</td></tr><tr><td>8988360</td><td>URS00008926C8</td><td>2015-10-20T18:04:07.000+0000</td><td>RNACEN</td><td>DEA611A8ABDE9078</td><td>1307</td><td>ACTGCTATCGGATTGATACTAAGCCATGCGAGTCATTGTAGCAATACAAGGCATACGGCTCAGTAACGCGTAGTCAACCTAACCTATGGACGGGAATAACCTCGGGAAACTGAGAATAATGCCCGATAGAACATTATGCCTGGAATGGTTTATGTTCCAAATGATTTATCGCCGTAGGATGGGACTGCGGCCTATCAGTTTGTTGGTGAGGTAATGGCCCACCAAGACTATTACAGGTACGGGCTCTGAGAGGAGTAGCCCGGAGATGGGTACTGAGACACGGACCCAGGCCCTATGGGGCGCAGCAGGCGAGAAAACTTTGCAATGTGCGAAAGCACGACAAGGTTAATCCGAGTGATTTGTGCTAAACGAATCTTTTGTTAGTCCTAGAAACACTAACGAATAAGGGGTGGGCAAGTTCTGGTGTCAGCCGCCGCGGTAAAACCAGCACCTCAAGTGGTCAGGATGATTATTGGGCCTAAAGCATCCGTAGCCGGCCCTGTAAGTTTTCGGTTAAATCTGTACGCTTAACGTACAGGCTGCCGGGAATACTGCAGAGCTAGGGAGTGGGAGAAGTAGACGGTACTCGGTAGGAAGTGGTAAAATGCTTTGATCTATCGATGACCACCTGTGGCGAAGGCGGTCTACTAGAACACGTCCGACGGTGAGGGATGAAAGCTGGGGGAGCAAACCGGATTAGATACCCGGGTAGTCCCAGCTGTAAACTATGCAAACTCAGTGATGCATTGGCTTGTGGCCAATGCAGTGCTGCAGGGAAGCCGTTAAGTTTGCCGCCTGGGAAGTACGTACGCAAGTATGAAACTTAAAGGAATTGGCGGGGGAGCACCACAAGGGGTGAAGCCTGCGGTTCAATTGGAGTCAACGCCAGAAATCTTACCCGGAGAGACAGCAGAATGAAGGTCAAGCTGAAGACTTTACCAGACAAGCTGAGAGGTGGTGCATGGCCGTCGCCAGCTCGTGCCGTGAGATGTCCTGCTAAGTCAGGTAACGAGCGAGATCCCTGCCTCTAGTTGCCACCATTACTCTCAGGAGTAGTGGGGCGAATTAGCGGGACCGCCGCAGTTAATGCGGAGGAAGGAAGGGGCCACGGCAGGTCAGTATGCCCCGAAACTCTGGGGCCACACGCGGGCTGCAATGGTAACGACAATTGGTTTCGAATCCGAAAGGATGAGGTAATCCTCAAACGTTACCACAGTTATGACTGAGGGCTGCAACTCGCCCTCACGAATATGGAATCCCTAGTAACTGCGTGTCATTATCGCGCGGTGAATACGTCCCTGCTCCTT</td><td>null</td><td>5eb946fc85a2e16f40b2de67dbff627b</td></tr><tr><td>8988361</td><td>URS00008926C9</td><td>2015-10-20T18:04:07.000+0000</td><td>RNACEN</td><td>AE161A21AF6713C0</td><td>1367</td><td>AGCCCAGCTTGCTGGGTGGATTAGTGGCGAACGGGTGAGTAACACGTGAGTAACCTGCCCTTGACTCTGGGATAAGCCTGGGAAACTGGGTCTAATACCGGATAGGAACGTCCACCGCATGGTGGGTGTTGGAAAGATTTATCGGTCATGGATGGACTCGCGGCCTATCAGCTTGTTGGTGAGGTAATGGCTCACCAAGGCGACGACGGGTAGCCGGCCTGAGAGGGTGACCGGCCACACTGGGACTGAGACACGGCCCAGACTCCTACGGGAGGCAGCAGTGGGGAATATTGCACAATGGGCGAAAGCCTGATGCAGCGACGCCGCGTGAGGGATGACGGCCTTCGGGTTGTAAACCTCTTTCAGTAGGGAAGAAGCGAAAGTGACGGTACCTGCAGAAGAAGCACCGGCTAACTACGTGCCAGCAGCCGCGGTAATACGTAGGGTGCGAGCGTTATCCGGAATTATTGGGCGTAAAGAGCTCGTAGGCGGTTTGTCGCGTCTGTCGTGAAAGTCCGGGGCTTAACCCCGGATCTGCGGTGGGTACGGGCAGACTAGAGTGCAGTAGGGGAGACTGGAATTCCTGGTGTAGCGGTGGAATGCGCAGATATCAGGAGGAACACCGATGGCGAAGGCAGGTCTCTGGGCTGTAACTGACGCTGAGGAGCGAAAGCATGGGGAGCGAACAGGATTAGATACCCTGGTAGTCCATGCCGTAAACGTTGGGCACTAGGTGTGGGGACCATTCCACGGTTTCCGCGCCGCAGCTAACGCATTAAGTGCCCCGCCTGGGGAGTACGGCCGCAAGGCTAAAACTCAAAGGAATTGACGGGGGCCCGCACAAGCGGCGGAGCATGCGGATTAATTCGATGCAACGCGAAGAACCTTACCAAGGCTTGACATGTTCTCGATCGCCGTAGAGATACGGTTTCCCCTTTGGGGCGGGATCACAGGTGGTGCATGGTTGTCGTCAGCTCGTGTCGTGAGATGTTGGGTTAAGTCCCGCAACGAGCGCAACCCTCGTTCCATGTTGCCAGCACGTAATGGTGGGGACTCATGGGAGACTGCCGGGGTCAACTCGGAGGAAGGTGGGGACGACGTCAAATCATCATGCCCCTTATGTCTTGGGCTTCACGCATGCTACAATGGCCGGTACAATGGGTTGCGATACTGTGAGGTGGAGCTAATCCCAAAAAGCCGGTCTCAGTTCGGATTGGGGTCTGCAACTCGACCCCATGAAGTCGGAGTCGCTAGTAATCGCAGATCAGCAACGCTGCGGTGAATACGTTCCCGGGCCTTGTACACACCGCCCGTCAANTCACGAAAGTCGGTAACACCCGAAGCCGGTGGCCTAACCCTTGTGGGGG</td><td>null</td><td>fe4849b1977b5be3c2a06183c24788c2</td></tr><tr><td>8988362</td><td>URS00008926CA</td><td>2015-10-20T18:04:07.000+0000</td><td>RNACEN</td><td>03DF15DE82E78D7F</td><td>1398</td><td>GAGTTTGATCATGGCTCAGGATGAACGCTGGCTACAGGCTTAACACATGCAAGTCGAGGGGAAACGGCATTTGGTGCTTGCACCGAATGGACGTCGACCGGCGCACGGGTGAGTAACGCGTATCCAACCTTCCCGTTACTGCGGGATAACCTGCCGAAAGGCAGACTAATACCGCATGTTCTTCGATGACGGCATCAGATTCGAAGCAAAGATCCGTCGGTAACGGAGGGGGATGCGTCTGATTAGCTAGTTGGCGGGGCGACGGCCCACCAAGGCGACGATCAGTAGGGGTTCTGAGAGGAAGGTCCCCCACATTGGAACTGAGACACGGTCCAAACTCCTACGGGAGGCAGCAGTGAGGAATATTGGTCAATGGGCGGAAGCCTGAACCAGCCAAGTAGCGTGCAGGATGACGGCCCTACGGGTTGTAAACTGCTTTTATGCGGGGATAAAGTGAGGGACGCGTCCCTTTTTGCAGGTACCGCATGAATAAGGACCGGCTAATTCCGTGCCAGCAGCCGCGGTAATACGGAAGGTCCGGGCGTTATCCGGATTTATTGGGTTTAAAGGGAGCGTAGGCCGGGGATTAAGTGTGTTGTGAAATGTAGGCGCCCAACGTCTGACTTGCAGCGCATACTGGTTCCCTTGAGTACGCGCAACGCCGGCGGAATTCGTCGTGTAGCGGTGAAATGCTTAGATATGACGAAGAACCCCGATTGCGAAGGCAGCCGGCGGGAGCGCAACTGACGCTGAAGCTCGAAGGTGCGGGTATCGAACAGGATTAGATACCCTGGTAGTCCGCACGGTAAACGATGGATGCCCGCTGTCGGCGCCTTGCGCCGGCGGCCAAGCGAAAGCGTTAAGCATCCCACCTGGGGAGTACGCCGGCAACGGTGAAACTCAAAGGAATTGACGGGGGCCCGCACAAGCGGAGGAACATGTGGTTTAATTCGATGATACGCGAGGAACCTTACCCGGGCTTGAATCGCAGGAGAACGAAACAGAGATGTTGAGGTCCTTCGGGACTCCTGCGAAGGTGCTGCATGGTCGTCGTCAGCTCGTGCCGTGAGGTGTCGGCTTAAGTGCCATAACGAGCGCAACCCCTCTCCCCAGTTGCCATCGGGTGATGCCGGGCACTCCGGGGACACTGCCGCCGCAAGGTGCGAGGAAGGCGGGGATGACGTCAAATCAGCACGGCCCTTACGTCCGGGGCTACACACGTGTTACAATGGCCGGCACAGAGTGTCGGTGCGGCGCGAGCCGCATCTAATCTTGAAAACCGGTCTCAGTTCGGACTGGGGTCTGCAACCCGACCCCACGAAGCTGGATTCGCTAGTAATCGCGCATCAGCCACGGCGCGGTGAATACGTTCCCGGGCCTTGCACACACCGCCCGTCA</td><td>null</td><td>c4bb7b410de36a58cfe8a7f49c170fd5</td></tr><tr><td>8988364</td><td>URS00008926CC</td><td>2015-10-20T18:04:07.000+0000</td><td>RNACEN</td><td>AE0439B061E1640E</td><td>1409</td><td>GTCGAACGGTAACAGGAAGCAGCTTGCTGCTTTGCTGACGAGTGGCGGACGGGTGAGTAATGTCTGGGAAACTGCCTGATGGAGGGGGATAACTACTGGAAACGGTGGCTAATACCGCATAACGTCGCAAGACCAAAGAGGGGGACCTTCGGGCCTCTTGCCATCAGATGTGCCCAGATGGGATTAGCTTGTTGGTGAGGTAACGGCTCACCAAGGCGACGATCCCTAGCTGGTCTGAGAGGATGACCAGCCACACTGGAACTGAGACACGGTCCAGACTCCTACGGGAGGCAGCAGTGGGGAATATTGCACAATGGGCGCAAGCCTGATGCAGCCATGCCGCGTGTATGAAGAAGGCCTTCGGGTTGTAAAGTACTTTCAGCGGGGAGGAAGGTGTTGTGGTTAATAACCGCAGCAATTGACGTTACCCGCAGAAGAAGCACCGGCTAACTCCGTGCCAGCAGCCGCGGTAATACGGAGGGTGCAAGCGTTAATCGGAATTACTGGGCGTAAAGCGCACGCAGGCGGTCTGTCAAGTCGGATGTGAAATCCCCGGGCTCAACCTGGGAACTGCATTCGAAACTGGCAGGCTTGAGTCTTGTAGAGGGGGGTAGAATTCCAGGTGTAGCGGTGAAATGCGTAGAGATCTGGAGGAATACCGGTGGCGAAGGCGGCCCCCTGGACAAAGACTGACGCTCAGGTGCGAAAGCGTGGGGAGCAAACAGGATTAGATACCCTGGTAGTCCACGCCGTAAACGATGTCTACTTGGAGGTTGTGCCCTTGAGGCGTGGCTTCCGGAGCTAACGCGTTAAGTAGACCGCCTGGGGAGTACGGCCGCAAGGTTAAAACTCAAATGAATTGACGGGGGCCCGCACAAGCGGTGGAGCATGTGGTTTAATTCGATGCAACGCGAAGAACCTTACCTGGTCTTGACATCCACAGAACTTTCCAGAGATGGACTGGTGCCTTCGGGAACTGTGAGACAGGTGCTGCATGGCTGTCGTCAGCTCGTGTTGTGAAATGTTGGGTTAAGTCCCGCAACGAGCGCAACCCTTATCCTTTGTTGCCAGCGATTAGGTCGGGAACTCAAAGGAGACTGCCAGTGATAAACTGGAGGAAGGTGGGGATGACGTCAAGTCATCATGGCCCTTACGACCAGGGCTACACACGTGCTACAATGGCGCATACAAAGAGAAGCGACCTCGCGAGAGCAAGCGGACCTCATAAAGTGCGTCGTAGTCCGGATTGGAGTCTGCAACTCGACTCCATGAAGTCGGAATCGCTAGTAATCGTGGATCAGAATGCCACGGTGAATACGTTCCCGGGCCTTGTACACACCGCCCGTCACACCATGGGAGTGGGTTGCAAAAGAAGTAGGTAGCTTAACCTTCGGGAGGGCGCTTACCAC</td><td>null</td><td>5ebae3845f9c331ae71786ed8c0fa100</td></tr><tr><td>11797345</td><td>URS0000B40361</td><td>2017-10-13T16:48:29.334+0000</td><td>rnacen</td><td>7DEEC8E7492E0C07</td><td>426</td><td>GTGAGGAATATTGGTCAATGGGCGAGAGCCTGAACCAGCCAAGTAGCGTGCAGGATGACGGCCCTATGGGTTGTAAACTGCTTTTATGCGGGGATAAAGTGCGCGACGTGTCGTGCATTGCAGGTACCGCATGAATAAGGACCGGCTAATTCCGTGCCAGCAGCCGCGGTAATACGGAAGGTCCGGGCGTTATCCGGATTTATTGGGTTTAAAGGGAGCGTAGGCCGCCAGGTAAGCGTGTTGTGAAATGTACCGGCTCAACCGGTGAATTGCAGCGCGAACTGTCTGGCTTGAGTGCACGGTAAGCAGGCGGAATTCATGGTGTAGCGGTGAAATGCTTAGATATCATGAAGAACTCCGATTGCGAAGGCAGCTTGCTGCAGTGCGACTGACGCTGATGCTCGAAGGTGCGGGTATCAAACAGGA</td><td>null</td><td>1a56bf4ac54397a3fe81b23e3f14edc1</td></tr><tr><td>8987869</td><td>URS00008924DD</td><td>2015-10-20T18:04:07.000+0000</td><td>RNACEN</td><td>501C63AF85F4994B</td><td>1378</td><td>TGATCCTGGCGCAGGATGAACGGTGGCGGCGTGCTTAACACATGCAAGTCGAACGATGACTTTTGTGCTTGCACAAAATGATTAGTGGCGAACGGGTGAGTAACACGTGAGTAACCTGCCCTTAACTTCGGGATAAGCCTGGGAAACCGGGTCTAATACCGGATACGACGGATCACCGCATGGCGGTCCGTGGTAAGCTTGATGCGGTTTTGGATGGACTCGCGGCCTATCAGCTAGTTGGTTGGGGTAATGGCCCACCAAGGCGACGACGGGTAGCCGGCCTGAGAGGGTGACCGGCCACACTGGGACTGAGACACGGCCCAGACTCCTACGGGAGGCAGCAGTGGGGAATATTGCACAATGGGCGAAAGCCTGATGCAGCGACGCCGCGTGAGGGACGAAGGCCTTCGGGTTGTAAACCTCTTTCAGCAGGGAAGAAGCGAAAGTGACGGTACCTGCAGAAGAAGCGCCGGCTAACTACGTGCCAGCAGCCGCGGTAATACGTAGGGCGCAAGCGTTATCCGGAATTATTGGGCGTAAAGAGCTCGTAGGCGGTTTGTCGCGTCTGCTGTGAAAGCCCGGGGCTCAACCCCGGGTCTGCAGTGGGTACGGGCAGACTAGAGTGCAGTAGGGGAGACTGGAATTCCTGGTGTAGCGGTGAAATGCGCAGATATCAGGAGGAACACCGATGGCGAAGGCAGGTCTCTGGGCTGTAACTGACGCTGAGGAGCGAAAGCATGGGGAGCGAACAGGATTAGATACCCTGGTAGTCCATGCCGTAAACGTTGGGCACTAGGTGTGGGGGACATTCCACGTTTTCCGCGCCGTAGCTAACGCATTAAGTGCCCCGCCTGGGGAGTACGGCCGCAAGGCTAAAACTCAAAGGAATTGACGGGGGCCCGCACAAGCGGCGGAGCATGCGGATTAATTCGATGCAACGCGAAGAACCTTACCAAGGCTTGACATGAACCGGAAAGGCCTGGAAACAGGTCCCCCACTTGTGGCCGGTTTACAGGTGGTGCATGGTTGTCGTCAGCTCGTGTCGTGAGATGTTGGGTTAAGTCCCGCAACGAGCGCAACCCTCGTTCTATGTTGCCAGCGGGTTATGCCGGGGACTCATAGGAGACTGCCGGGGTCAACTCGGAGGAAGGTGGGGACGACGTCAAATCATCATGCCCCTTATGTCTTGGGCTTCACGCATGCTACAATGGCCGGTACAAAGGGTTGCGATACTGTGAGGTGGAGCTAATCCCAAAAAGCCGGTCTCAGTTCGGATTGAGGTCTGCAACTCGACCTCATGAAGTTGGAGTCGCTAGTAATCGCAGATCAGCAACGCTGCGGTGAATACGTTCCCGGGCCTTGTACACACCGCCCGTCA</td><td>null</td><td>c449606151afed7968c2941f1fd7de5c</td></tr><tr><td>8987870</td><td>URS00008924DE</td><td>2015-10-20T18:04:07.000+0000</td><td>RNACEN</td><td>E3CAEB752E19EF2A</td><td>1370</td><td>TTAGAGTTTGATCCTGGCTCAGGACGACCTCTGGCGGCGTGCCTAACACATGCAAGTCGAACGAGGAATATTTTTCGAAATATTCTTAGTGGCGGACGGGTGAGTAACGCGTGAACAATCTGCCCTGTACAAAGGAATACCCTCGGGAAACCGGGATTAAAACCGTATGATACTTTGATGCCGCATGGCAATGAAGTCAAATATTTATAGGTATGGGATGAGTTCGCGTCTGATTAGCTGGTTGGTGAGGTAAAGGCCCACCAAGGCGACGATCAGTAGCCGGCCTGAGAGGGTGAACGGCCACACTGGAACTGAGACACGGTCCAGACTCCTACGGGAGGCAGCAGTGGGGAATATTGCACAATGGAGGGAACTCTGATGCAGCGACGCCGCGTGAGTGAAGAAGGTCTTCGGATCGTAAAACTCTGTCCTTGGTGAAGAAAAGGACGGTAGCCAAGGAGGAAGCCCCGGCTAACTACGTGCCAGCAGCCGCGGTAATACGTAGGGGGCGAGCGTTGTCCGGATTTACTGGGCGTAAAGGGTGAGTAGGCGGTAATATATGTCAGGTGTAAAAGATCATGGCTTAACCATGGTTAGCACTTGAAACTGTATGACTTGAGTGCAGGAGAGGTAAGCGGAATTCCTAGTGTAGCGGTGAAATGCGTAGATATTAGGAGGAACACCAGTGGCGAAGGCGGCTTACTGGACTGTAACTGACGCTGAGTCACGAAAGCGTGGGTAGCAAAGAGGATTAGATACCCTGGTAGTCCACGCGTAACCCATAGGGGTAGGTGTTGGGTAGCGATATTCAGTGCCGTAGTAAACACAATAAGCACTCCGCCTGGGGAGTACGTACGCAAGTATAAAACTCAAAGGAATTGACGGGGACCCGCACAAGCAGCGGAGCATGTGGTTTAATTCGAAGCAACGCGAAGAACCTTACCAAGGCTTGACATCCCCTTGACAGATGCAGAGATGTGTCCTCTCCTTCGGGAGCAAGGGAGACAGGTGGTGCATGGTTGTCGTCAGCTCGTGTCGTGAGATGTTGGGTTAAGTCCCGCAACGAGCGCAACCCTTATCCTTAGTTGCCATCAAGTTAAGTTGGGCACTCTAAGGAGACTGCCGGTGATAAACCGGAGGAAGGTGGGGATGACGTCAAATCATCATGCCCCTTATGTCTTGGGCTACACACGTGCTACAATGGTCGGTACAACGGGGAGCGAAGGAGCGATCCCAAGCAAATCCCAATAAACCGATCCCAGTTCGGATTGCAGGCTGCAACTCGCCTGCATGAAGTCGGAGTTGCTAGTAATCGCGAATCAGAACGTCGCGGTGAATGCGTTCCCGGGTCTTGTACACACCGCCCGTCA</td><td>null</td><td>5e6050447aa0077452539fde5398aec8</td></tr><tr><td>8988018</td><td>URS0000892572</td><td>2015-10-20T18:04:07.000+0000</td><td>RNACEN</td><td>9FEF66572DBF356C</td><td>1400</td><td>CAGGATGAACGCTAGCGGGAGGCCTAATACATGCAAGTCGAGCGGTAGAACTAGCTTCGGTTGGTTTGAGAGCGGCGCACGGGTGAGTAACGCGTACGTAACCTGCCCTTCAGTGGGGAATAGCCCCGGGAAACTGGGATTAATGCCCCATGGTACTTTCGATCTGCCTGGATTGAAAGTTAAAGCTTCGGCGCTGAAGGATGGACGTGCGTCTGATTAGCTGGTTGGTGAGGTAACGGCTCACCAAGGCGACGATCAGTAGGGGGCGTGAGAGCGTGACCCCCCACACGGGTACTGAGACACGGACCCGACTCCTACGGGAGGCAGCAGTAAGGAATATTGGGCAATGGAGGCAACTCTGACCCAGCCATCCCGCGTGCAGGAAGACGGCCCTACGGGTTGTAAACTGCTTTTATGAAGGAAGAAAGGTTGGCATTTATGCTGATTTGACGGTACTTCAGGAATAAGCACCGGCTAACTCCGTGCCAGCAGCCGCGGTAATACGGAGGGTGCGAGCGTTATCCGGAATCACTGGGTTTAAAGGGTGCGTAGGCGGCCTGATAAGTCAGAGGTGAAAGTCTGCGGCTTAACCGTAGAATTGCCTTTGATACTGTTGGGCTTGAGTCAGGTTGAGGTTGGCGGAATGTGACATGTAGCGGTGAAATGCATAGATATGTCATAGAACACCGATTGCGAAGGCAGCTGACTGGACCTGAACTGACGCTGAGGCACGAAAGCGTGGGGAGCGAACAGGATTAGATACCCTGGTAGTCCACGCCCTAAACGATGCTCACTCGATATGCGATCCGTAGGATTGCGTGTCCAAGCGAAAGCGTTAAGTGAGCCACCTGGGGAGTACGTCGGCAACGATGAAACTCAAAGGAATTGACGGGGGTCCGCACAAGCGGTGGAGCATGTGGTTTAATTCGATGATACGCGAGGAACCTTACCTGGGCTAGAATGCGAGTGACCGGCCCTGAAAGGGGCTTTTCCTTCGGGACACAAAGCAAGGTGCTGCATGGCTGTCGTCAGCTCGTGCCGTGAGGTGTTGGGTTAAGTCCCGCAACGAGCGCAACCCTTGTCCTTAGTTGCCAGCACTTCGGGTGGGGACTCTAAGGAGACTGCCGGCGCAAGCCGCGAGGAAGGTGGGGATGACGTCAAGTCATCATGGCCTTTATGCCCAGGGCTACACACGTGCTACAATGGCCAGTACAGAGGGTAGCGAAGCCGCGAGGTGAAGCCAATCCCAGAAAGCTGGTCCCAGTTCGGATTGGAGTCTGGAACTCGACTCCATGAAGGTGGAATCGCTAGTAATCGCGCATCAGCCATGGTGCGGTGAATACGTTCCCGGACCTTGTACACACCGCCCGTCAAACCATGGGAGCCGGGGGTGCCTGAAG</td><td>null</td><td>5e7ee4bb62cfcdd77a94fd8d93b88f42</td></tr><tr><td>8988488</td><td>URS0000892748</td><td>2015-10-20T18:04:07.000+0000</td><td>RNACEN</td><td>FA606F4B0ABA4DC4</td><td>1478</td><td>GAGTTTGATCCTGGCTCAGGATGAACGCTGGCGGCGTGCCTAATACATGCAAGTCGAACGCTAACCTTCGGGTTAGAGTGGCGAACGGGTGAGTAACACGTAGGTAACCTGCCCATAAGACGAGGATAACTACTGGAAACGGTAGCTAATACTGGATAGTATATAGAATCGCATGATTTTATATTTAAAGATGCGTTTGCATCACTTATGGATGGACCTGCGGCGCATTAGCTAGTTGGTGAGATAACGGCCCACCAAGGCGACGATGCGTAGCCGGACTGAGAGGTCGAACGGCCACATTGGGACTGAGACACGGCCCAGACTCCTACGGGAGGCAGCAGTAGGGAATTTTCGGCAATGGACGCAAGTCTGACCGAGCAACGCCGCGTGAGTGATGAAGTTCTTCGGAACGTAAAATTCTTTTATTTGGAAAAAACGTATAGTGTAGGAAATGACATTATAGTGATGGTACCAAATGAATAAGCCCCGGCTAACTATGTGCCAGCAGCCGCGGTAATACATAGGGGGCGAGCGTTATCCGGATTTATTGGGCGTAAAGGGTGCGTAGGCGGTAGATTAAGTCTAAGGTTAAAGTGCAGGGCTCAACCCTGTGATGCCTTAGAAACTGGTTTACTTGAGTTTGGTAGAGGTAAGTGGAACTCCATGTGTAGCGGTAAAATGCGTAAATATATGGAAGAACACCAGTGGCGAAGGCGGCTTACTGGGCCACAACTGACGCTGAGGCACGAAAGCGTGGGGAGCAAACAGGATTAGATACCCTGGTAGTCCACGCTGTAAACGATGAATACTAAGTGTTGGAAAAATCCAGTGCTGAAGTTAACGCATTAAGTATTCCGCCTGAGTAGTACGTACGCAAGTATGAAACTCAAAGGAATTGACGGGACCCCGCACAAGCGGTGGAGCATGTTGTTTAATTCGAAGATACGCGAAGAACCTTACCAGGTCTTGACATCCGTTGCAAAGCTATAGAGATATAGTGGAGGTTAACAGCGAGACAGGTGGTGCATGGTTGTCGTCAGCTCGTGTCGTGAGATGTTGGGTTAAGTCCCGCAACGAGCGCAACCCTTGTTGCTAGTTACCATCATTTAGTTGGGGACTCTAGCGAGACTGCCGGTGATAAACCGGAGGAAGGTGGGGATGACGTCAAATCATCATGCCCCTTATGACCTGGGCTACAAACGTGCTACAATGGCCACTACAATGAGAGCCGATACCGCGAGGTGGAGGAAAACTGATAAAAGTGGTCTCAGTTCGGATTGAACTCTGCAACTCGAGTTCATGAAGTTGGAATCGCTAGTAATCGTGAATCAGAATGTCACGGTGAATACGTTCTCGGGGTTTGTACACACCGCCCGTCAAGCCATGGGAGTTTGCAATACCCAAAGCCGGTGGCCTAACCGCAAGGAGGGAGCCGTCTAAGGTAGGGCAAATGACTGGGGTTAAGTCGTAACAAGGTA</td><td>null</td><td>b7bcd6b9fbd22a1e8d343a0120bbbf80</td></tr><tr><td>8988492</td><td>URS000089274C</td><td>2015-10-20T18:04:07.000+0000</td><td>RNACEN</td><td>83F1CFEB52A7A8AB</td><td>1382</td><td>TCATGGCTCAGGACGAACGCTGGCGGCGTGCTTAACACATGCAAGTCGAACGATGAAGCCTAGCTTTGCTAGGTGGATTAGTGGCGAACGGGTGAGTAATACGTTGAGTCGACCTACCTTTGACTTTGGGATAAGCCTGGGAAACTGGGTCTAATACCGGATACGACCAATCTCCGCATGGGGTGTTGGTGGAAAGCGTTTATGGAGTGGTTTTAGATGGGCTCACGGCCTATCAGCTTGTTGGTGAGGTAATGGCTTACCAAGGCGACGACGGGTAGCCGGCCTGAGAGGGTGACCGGCCACACTGGGACTGAGACACGGCCCAGACTCCTACGGGAGGCAGCAGTGGGGAATATTGCACAATGGGCGCAAGCCTGATGCAGCGACGCCGCGTGAGGGATGACGGCCTTCGGGTTTGTAAACCTCTGTTAGCATCGAAGAAGCGAAAGTGACGGTAGGTGCAGAGAAAGCGCCCGGCTAACTACGTGCCCAGCAGCCGCGGTAATACGTAGGGCGCGAGCGTTGTCCGGAATTATTGGGCGTAAAGAGCTTGTAGGCGGTTGGTCGCGTCTGCTGTGAAAGGCTGGGGCTTAACCCTGGTTTTGCAGTGGGTACGGGCTAACTAGAGTGCAGTAGGGGAGACTGGAATTCCTGGTGTAGCGGTGGAATGCGCAGATATCAGGAGGAACACCGATGGCGAAGGCAGGTCTCTGGGCTGTAACTGACGCTGAGAAGCGAAAGCATGGGGAGCGAACAGGATTAGATACCCTGGTAGTCCATGCCGTAAACGTTGGGCACTAGGTGTGGGGGACATTCCACGTTTTCCGCGCCGTAGCTAACGCATTAAGTGCCCCGCCTGGGGAGTACGGCCGCAAGGCTAAAACTCAAAGAAATTGACGGGGGCCCGCACAAGCGGCGGAGCATGCGGATTAATTCGATGCAACGCGAAGAACCTTACCAAGGCTTGACATATACTGGACTGCGTCAGAGATGGCGTTTCCCTTCGGGGCTGGTATACAGGTGGTGCATGGTTGTCGTCAGCTCGTGTCGTGAGATGTTGGGTTAAGTCCCGCAACGAGCGCAACCCTCGTTCTATGTTGCCAGCACGTGATGGTGGGGACTCATAGGAGACTGCCGGGGTCAACTCGGAGGAAGGTGGGGATGACGTCAAATCATCATGCCCCTTATGTCTTGGGCTTCACGCATGCTACAATGGCCGGTACAGAGGGTTGCGATACTGTGAGGTGGAGCTAATCCCTAAAAGCCGGTCTCAGTTCGGATTGGGGTCTGCAACTCGACCCCATGAAGTCGGAGTCGCTAGTAATCGCAGATCAGCAACGCTGCGGTGAATACGTTCCCGGGCCTTGTACACACCGCCCGTC</td><td>null</td><td>b7be584d9de7bfead92ae1fdf1270cff</td></tr><tr><td>11797346</td><td>URS0000B40362</td><td>2017-10-13T16:48:29.336+0000</td><td>rnacen</td><td>69A87BE52361CDE2</td><td>253</td><td>TACGAAGGATGCAAGCGTTATCCGGATTCACTGGGTTTAAAGGGTGTGCAGGTGGCTTAATAAGTCAGTGGTGAAAGCCCCCGGCTCAATCGGGGAACTGCCATAGATACTGTTATTCTTGAGTGTGGTTGAGGCGGATGGAATATGACGTGTAGCGGTGAAATGCTTAGATATGACGTAGAACACCGATCGCGAAGGCAGCCCGCCAAACCATTACTGACGCTGAAACACGAAAGTGCGGGGATCAAACAGG</td><td>null</td><td>1a56c35f320afd3e18695f97bedbcc92</td></tr><tr><td>8988495</td><td>URS000089274F</td><td>2015-10-20T18:04:07.000+0000</td><td>RNACEN</td><td>51D37F4799755FEE</td><td>1343</td><td>GACGAACGCTGGCGGCGTGCTTAACACATGCAAGTCGAACGGAAAGGCCCTGCTTTTGTGGGGTGCTCGAGTGGCGAACGGGTGAGTAACACGTGAGTAACCCGCCCTTGACTTTGGGATAACTTCAGGAAACTGGGGCTAATACCGGATAGGAGCTCCTGCTGCATGGTGGGGGTTGGAAAGTTTCGGCGGTTGGGGATGGACTCGCGGCTTATCAGCTTGTTGGTGGGGTAGTGGCTTACCAAGGCTTTGACGGGTAGCCGGCCTGAGAGGGTGACCGGCCACATTGGGACTGAGATACGGCCCAGACTCCTACGGGAGGCAGCAGTGGGGAATATTGCACAATGGGCGGAAGCCTGATGCAGCAACGCCGCGTGCGGGATGACGGCCTTCGGGTTGTAAACCGCTTTCGCCTGTGACGAAGCGTGAGTGACGGTAATGGGTAAAGAAGCACCGGCTAACTACGTGCCAGCAGCCGCGGTGATACGTAGGGTGCGAGCGTTGTCCGGATTTATTGGGCGTAAAGGGCTCGTAGGTGGTTGATCGCGTCGGAAGTGTAATCTTGGGGCTTAACCCTGAGCGTGCTTTCGATACGGGTTGACTTGAGGAAGGTAGGGGAGAATGGAATTCCTGGTGGAGCGGTGGAATGCGCAGATATCAGGAGGAACACCAGTGGCGAAGGCGGTTCTCTGGGCCTTTCCTGACGCTGAGGAGCGAAAGCGTGGGGAGCGAACAGGCTTAGATACCCTGGTAGTCCACGCTGTAAACGGTGGGTACTAGGTGTGGGGTCCATTCCACGGGTTCCGTGCCGTAGCTAACGCTTTAAGTACCCCGCCTGGGGAGTACGGCCGCAAGGCTAAAACTCAAAGGAATTGACGGGGCCCCGCACAAGCGGCGGGGCATGCGGATTAATTCGATGCAACGCGTAGAACCTTACCTGGGTTTGACATGGATCGGGAGTGCTCAGAGATGGGTGTGCCTCTTTTGGGGTCGGTTCACAGGTGGTGCATGGCTGTCGTCAGCTCGTGTCGTGAGATGTTGGGTTAAGTCCCGCAACGAGCGCAACCCTTGTTCACTGTTGCCAGCACGTTATGGTGGGGACTCAGTGGAGACCGCCGGGGTCAACTCGGAGGAAGGTGGGGATGACGTCAAGTCATCATGCCCCTTATGTCCAGGGCTTCACGCATGCTACAATGGCTGGTACAGAGAGTGGCGGGCCTGTGAGGGTGAGCGAATCTCGGAAAGCCGGTCTCAGTTCGGATTGGGGTCTGCAACTCGACCTCATGAAGTCGGAGTCGCTAGTAATCGCAGATCAGCAACGCTGCGGTGAATACGTTCCCGGG</td><td>null</td><td>5ece2db19192edcfa5ea6dc0c290404d</td></tr><tr><td>8988497</td><td>URS0000892751</td><td>2015-10-20T18:04:07.000+0000</td><td>RNACEN</td><td>67449140B80EE869</td><td>1352</td><td>CTGGCGGCGTGCTTAACACCTGCAAGTCGAACGAAACACCTTATTTGATTTTCTTCGGAACTGAAGATTTGGTGATTGAGTGGCGGACGGGTGAGTAACGCGTGGGTAACCTGCCCTGTACAGGGGGATAACAGTCAGAAATGACTGCTAATACCGCATAAGACCACAGCACCGCATGGTGCAGGGGTAAAAACTCCGGTGGTACAGGATGGACCCGCGTCTGATTAGCTGGTTGGTGGGGTAACGGCTCACCAAGGCGACGATCAGTAGCCGGCTTGAGAGAGTGAACGGCCACATTGGGACTGAGACACGGCCCAAACTCCTACGGGAGGCAGCAGTGGGGAATATTGCACAATGGGGGAAACCCTGATGCAGCGACGCCGCGTGAGTGAAGAAGTATCTCGGTATGTAAAGCTCTATCAGCAGGGAAGAAAATGACGGTACCTGACTAAGAAGCCCCGGCTAACTACGTGCCAGCAGCCGCGGTAATACGTAGGGGGCAAGCGTTATCCGGAATTACTGGGTGTAAAGGGTGCGTAGGTGGTATGGCAAGTCAGAAGTGAAAACCCAGGGCTTAACTCTGGGACTGCTTTTGAAACTGTCAGACTAGAGTGCAGGAGAGGTAAGCGGAATTCCTAGTGTAGCGGTGAAATGCGTAGATATTAGGAGGAACATCAGTGGCGAAGGCGGCTTACTGGACTGAAACTGACACTGAGGCACGAAAGCGTGGGGAGCAAACAGGATTAGATACCCTGGTAGTCCACGCCGTAAACGATGAATACTAGGTGTCGGGGCCGTAGAGACTTCGGTGCCGCAGCCAACGCAGTAAGTATTCCACCTGGGGAGTACGTTCGCAAGAATGAAACTCAAAGGAATTGACGGGGACCCGCACAAGCGGTGGAGCATGTGGTTTAATTCGAAGCAACGCGAAGAACCTTACCTGGTCTTGACATCCTTCTGACCGGTCCTTAACCGGACTTTTCCTTCGGGACAGGAGTGACAGGTGGTGCATGGTTGTCGTCAGCTCGTGTTGTGAGATGTTGGGTTAAGTCCCGCAACGAGCGCAACCCCTATCTTTAGTAGCCAGCATATAAGGTGGGCACTCTAGAGAGACTGCCAGGGATAACCTGGAGGAGGGTGGGGACGACGTCAAATCATCATGCCCCTTATGACCAGGGCTACACACGTGCTACAATGGCGTAAACAGAGGGAAGCAGCCTCGTGAGAGTGAGCAAATCCCAAAAATAACGTCTCAGTTCGGATTGTAGTCTGCAACTCGACTACATGAAGCTGGAATCGCTAGTAATCGCGAATCAGAATGTCGCGGTGAATACGTTCCCGGGTCTTGCACA</td><td>null</td><td>b7bfcc1f663fcdf927cac05de11bc3d6</td></tr><tr><td>8988498</td><td>URS0000892752</td><td>2015-10-20T18:04:07.000+0000</td><td>RNACEN</td><td>F8D635CB8DD7CAE9</td><td>1343</td><td>GACGAACGCTTGCGGCGTGCTTAACACATGCAAGTCGAACGGAAAGGCCCTGCTTTTGTGGGGTGCTCGAGTGGCGAACGGGTGAGTAACACGTGAGTAACCTGCCCTTGACTTTGGGATAACTTCAGGAAACTGGGGCTAATACCGGATAGGAGCTCCTGCTGCATGGTGGGGGTTGGAAAGTTTCGGCGGTTGGGGATGGACTCGCGGCTTATCAGCTTGTTGGTGGGGTAGTGGCTTACCAAGGCTTTGACGGGTAGCCGGCCTGAGAGGGTGACCGGCCACATTGGGACTGAGATACGGCCCAGACTCCTACGGGAGGCAGCAGTGGGGAATATTGCACAATAGGCGGAAGCCTGATGCAGCAACGCCGCGTGCGGGATGACGGCCTTCGGGTTGTAAACCGCTTTCGCCTGTGACGAAGCGTGAGTGACGGTAATGGGTAAAGAAGCACCGGCTAACTACGTGCCAGCAGCCGCGGTAATACGTAGGGTGCGAGCGTTGTCCGGATTTATTGGGCGTAAAGGGCTCGTAGGTGGTTGATCGCGTCGGAAGTGTAATCTTGGGGCTTAACCCTGAGCGTGCTTTCGATACGGGTTGACTTGAGGAAGGTAGGGGAGAATGGAATTCCTGGTGGAGCGGCGGAATGCGCAGATATCAGGAGGAACACCAGTGGCGAAGGCGGTTCTCTGGGCCTTTCCTGACGCTGAGGAGCGAAAGCGTGGGGAGTGAACAGGCTTAGATACCCTGGTAGTCCACGCTGTAAACGGTGGGTACTAGGTGTGGGGTCCATTCCACGGGTTCCGTGCCGTAGCTAACGCTTTAAGTACCCCGCCTGGGGAGTACGGCCGCAAGGCTAAGACTCAAAGGAATTGACGGGGCCCCGCACAAGCGGCGGAGCATGCGGATTAATTCGATGCAACGCGTAGAACCTTACCTGGGTTTGACATGGATCGGGAGTGCTCAGAGATGGGTGTGCCTCTTTTGGGGTCGGTTCACAGGTGGTGCATGGCTGTCGTCAGCTCGTGTCGTGAGATGTTGGGTTAAGTCCCGCAACGAGCGCAACCCTTGTTCACTGTTGCCAGCACATTATGGTGGGGACTCAGTGGAGACCGCCGGGGTCAACTCGGAGGAAGGTGGGGATGACGTCAAGTCATCATGCCCCTTATGTCCAGGGCTTCACGCATGCTACAATGGCTGGTACAGAGAGTGGCGAGCCTGTGAGGGTGAGCGAATCTCGGAAAGCCGGTCTCAGTTCGGATTGGGGTCTGCAACTCGACCTCATGAAGTCGGAGTCGCTAGTAATCGCAAATCAGCAACGCTGCGGTGAATACGTTCCCGGG</td><td>null</td><td>c4d9ab82753b884efd7740a746bfd44f</td></tr><tr><td>8988499</td><td>URS0000892753</td><td>2015-10-20T18:04:07.000+0000</td><td>RNACEN</td><td>802C8DE37D44AE17</td><td>1421</td><td>AGAGTTTGATCCTGGCTCAGGACGAACGCTGGCGGCGTGACTTAACACATGCAAGTCGAACGGTGAAGCGCTTTCCTTTTTGGTTGGTGTGGATGAGTGGCGAACGGGTGAGTAACACGTGAGTAACCTGCCCCCTTCTTCTGGATAACCGCATGAAAGTGTGGCTAATACGGGATATTCTGCGCCTGCTGCATGGTGGGTGTGGGAAAGATTGTGCCTTTGGGTGTTTTCGGTGGGGGATGGGCTCGCGGCCTATCAGCTTGTTGGTGGGGTGATGGCCTACCAAGGCGGTGACGGGTAGCCGGCCTGAGAGGGTGGACGGTCACACTGGGACTGAGACACGGCCCAGACTCCTACGGGAGGCAGCAGTGGGGAATATTGCACAATGGGCGCAACGTGATGCAGCGACGCCGCGTGAGGGATGGAGGCCTTCGGGTTGTGAACCTCTTTCGCCAGTGAAGCAGGCCTGCTCCTTGTGGGTGGGTTGACGGTAGCTGGATAAGAAGCGCCGGCTAACTACGTGCCAGCAGCCGCGGTAATACGTAGGGCGCGAGCGTTGTCCGGAATTATTGGGCGTAAAGAGCTCGTAGGCGGCTGGTCGCGTCTGTCGTGAAATCCTCTGGCTTAACTGGGGGCTTGCGGTGGGTACGGGCCGGCTTGAGTGCGGTAGGGGAGACTGGAACTCCTGGTGTAGCGGTGGAATGCGCAGATATCAGGAAGAACACCGGTGGCGAAGGCGGGTCTCTGGGCCGTCACTGACGCTGAGGAGCGAAAGCGTGGGGAGCGAACAGGATTAGATACCCTGGTAGTCCACGCCGTAAACGTTGGGCACTAGGTGTGGGGGGCCTTTTCTGGGTCTTCCGCGCCGTAGCTAACGCATTAAGTGCCCCGCCTGGGGAGTACGGCCGCAAGGCTAAAACTCAAAGGAATTGACGGGGGCCCGCACAAGCGGCGGAGCATGCGGATTAATTCGATGCAACGCGAAGAACCTTACCAAGGCTTGACATGTGCCGGTCGGCTCCGGAGACGGGGTTTCCTCCTTGTGGGGCCGGTTCACAGGTGGTGCATGGTTGTCGTCAGCTCGTGTCGTGAGATGTTGGGTTAAGTCCCGCAACGAGCGCAACCCTTGTCCCGTGTTGCCAGCACGTTGTGGTGGGGACTCGCGGGAGACTGCCGGGGTCAACTCGGAGGAAGGTGGGGATGACGTCAAATCATCATGCCCCTTATGTCTTGGGCTTCACGCATGCTACAATGGCCGGTACAGAGGGCTGCGATACCGTGAGGTGGAGCGAATCCCTTAAAGCCGGTCTCAGTTCGGATCGGTGTCTGCAACTCGACACCGTGAAGTTGGAGTCGCTAGTAATCGCAGATCAGCAACGCTGCGGTGAATACGTTCTCGGGCCTTGACACACCGCCCGTCA</td><td>null</td><td>5ece8ffab9c6b6049a7e75d23cf1939b</td></tr><tr><td>8988502</td><td>URS0000892756</td><td>2015-10-20T18:04:07.000+0000</td><td>RNACEN</td><td>14D18A222F44A6BE</td><td>1462</td><td>ACGAACGCTGGCGGCGTGCCTAATACATGCAAGTCGTGCGTGATCCGGGGGCAACTCCGGTGAAAGCGGCGAACGGGTGAGTAACACGTAAACAATCTGCCTGTAGATTCGGGATAACCTTGCCAACGCGGGGCTAATACCGGATGCGGTCGGTGACTCGCATGAGTTGTCGATTAAAGATACGCAAGAGTCGTCTACAGATGAGTTTGCGTCCCATTAGCTAGTTGGCGGGGTAACGGCCCACCAAGGCGACGATGGGTAGCCGGCCTGAGAGGGTGAACGGCCACATTGGGACTGAGATACGGCCCAGACTCCTACGGGAGGCAGCAGTAGGGAATTTTGCGCAATGGGCGAAAGCCTGACGCAGCAACGCCGCGTGAGTGATGACGGCCTTCGGGTTGTAAAGCTCTGTTGGACGGGAAGAAAAGACATGCGAAGAACATGTTATGACGGTACCGTTCGAGGAAGCTCCGGCTAACTACGTGCCAGCAGCCGCGGTAATACGTAGGGAGCGAGCGTTGTTCGGAATTACTGGGCGTAAAGGGAGCGTAGGCGGGTTTGTAAGTTAGGGGTTTAATGCGTGGGCTTAACCCATGTGCGGCCTTTAATACTGCAAGTCTTGAGTGTGGGATAGGGCGATGGAATTCCAGGTGTAGCGGTGGAATGCGTAGATATCTGGAAGAACACCAACAGCGAAGGCAGTCGCCTGGCCCGATACTGACGCTGAAGCTCGAAAGTCGGGGGAGCAAACAGGATTAGATACCCTGGTAGTCCCGACCGTAAACGATGAACACTAGTTGCCGGGAGAGTCAATCCTTTCGGTGACGAAGCTAACGCATTAAGTGTTCCGCCTGGGGAGTACGCCCGCAAGGGTGAAACTCAAAGGAATTGACGGGGGCCCGCACAAGCGGTGGAGCATGTGCTTTAATTCGATGCAACGCGAAGAACCTTACCCAGGCTTGACATGGGGGCGAAAGCCTATAGAAATATAGGACCTCCGCAAGGACGCCCTACACAGGTGCTGCATGGTTGTCGTCAGCTCGTGTCGTGAGATGTTGGGTTAAGTCCCGCAACGAGCGCAACCCTCGCCCTTAGTTGCCATCAGGTAAAGCTGGGAACTCTAAGGGGACTGCCTAGTTTAACTAGGAGGAAGGTGGGGATGACGTCAAATCCTCATGGCCCTTACGCCTGGGGCTAGACACGTGCTACAATGGTCGGTACAGCGGGCAGCAAGCTGGCGACAGCAAGCTAATCCCTAAAAACCGATCTCAGTTCGGATTGGAGTCTGCAATTCGACTCCATGAAGCTGGAATCGCTAGTAATCGCGGATCAGCATGCCGCGGTGAATACGTTCCCGGGCCTTGTACACACCGCCCGTCAAGCCATGAAAGATGGCGGTACCCGAAGTCGCTTCCCCGACCGCGAGGAGGGGTGCGCCTAAGGTAAGGCTGTTGATTGGGGC</td><td>null</td><td>c4d9e533ef6cb445da3b4de95cd28e54</td></tr><tr><td>11884212</td><td>URS0000B556B4</td><td>2017-10-13T16:48:45.767+0000</td><td>rnacen</td><td>B6102A48637B6218</td><td>93</td><td>GGAGAGATGGCCGAGTGGTTGATGGCCCCGGTCTTGAAAACCGGTATAGTTCGAAACAAAGAACTATCGAGGGTTCGAATCCCTCTCTCTCCT</td><td>null</td><td>3f3b312f114ac937fb3a12208daedf1f</td></tr><tr><td>12686420</td><td>URS0000C19454</td><td>2017-10-19T09:46:04.144+0000</td><td>rnacen</td><td>0857A1E718F4399A</td><td>124</td><td>CTAGTACTTCCTCCGTCTGAAAATATTTGTCTTAGAAATGAATAAAATGGATGTATCTATAATTAAAATAAGTCTAGATACAATCATTTATAGGACAAGTATTTTCGGATGGAGAGAGTACTAG</td><td>null</td><td>28e0ec929dbfd71f4b80933650e90b39</td></tr><tr><td>8988503</td><td>URS0000892757</td><td>2015-10-20T18:04:07.000+0000</td><td>RNACEN</td><td>B96FDAB291A46D5E</td><td>1431</td><td>CAGGACGAACGCTGGCGGCGTGCCTAATACATGCAAGTAGGACGCACAGTTTATACCGTAGCTTGCTACACCATAGACTGTGAGTTGCGAACGGGTGAGTAACGCGTAGGTAACCTGCCTATTAGAGGGGGATAACTATTGGAAACGATAGCTAATACCGCATAACAGTATGTAACACATGTTAGATGCTTGAAAGATGCAATTGCATCGCTAGTAGATGGACCTGCGTTGTATTAGCTAGTAGGTAGGGTAATGGCCTACCTAGGCGACGATACATAGCCGACCTGAGAGGGTGATCGGCCACACTGGGACTGAGACACGGCCCAGACTCCTACGGGAGGCAGCAGTAGGGAATCTTCGGCAATGGGGGGAACCCTGACCGAGCAACGCCGCGTGAGTGAAGAAGGTTTTCGGATCGTAAAGCTCTGTTGTTAAGGAAGAACGAGTGTGAAAATGGAAAGTTCATACTGTGACGGTACTTAACCAGAAAGGGACGGCTAACTACGTGCCAGCAGCCGCGGTAATACGTAGGTCCCGAGCGTTGTCCGGATTTATTGGGCGTAAAGCGAGCGCAGGCGGTTAGAAAAGTCTGAAGTGAAAGGCAGTGGCTCAACCATTGTAGGCTTTGGAAACTGTTTAACTTGAGTGCAGAAGGGGAGAGTGGAATTCCATGTGTAGCGGTGAAATGCGTAGATATATGGAGGAACACCGGTGGCGAAAGCGGCTCTCTGGTCTGTAACTGACGCTGAGGCTCGAAAGCGTGGGGAGCGAACAGGATTAGATACCCTGGTAGTCCACGCCGTAAACGATGAGTGCTAGGTGTTAGGTCCTTTCCGGGACTTAGTGCCGCAGCTAACGCATTAAGCACTCCGCCTGGGGAGTACGACCGCAAGGTTGAAACTCAAAGGAATTGACGGGGGCCCGCACAAGCGGTGGAGCATGTGGTTTAATTCGAAGCAACGCGAAGAACCTTACCAGGTCTTGACATCCCGATGCTATTTCTAGAGATAGGAAGTTTCTTCGGAACATCGGTGACAGGTGGTGCATGGTTGTCGTCAGCTCGTGTCGTGAGATGTTGGGTTAAGTCCCGCAACGAGCGCAACCCTTATTGTTAGTTGCCATCATTGAGTTGGGCACTCTAGCGAGACTGCCGGTAATAAACCGGAGGAAGGTGGGGATGACGTCAAATCATCATGCCCCTTATGACCTGGGCTACACACGTGCTACAATGGCTGGTACAACGAGTCGCAAGCCGGTGACGGCAAGCTAATCTCTGAAAGCCAGTCTCAGTTCGGATTGTAGGCTGCAACTCGCCTACATGAAGTCGGAATCGCTAGTAATCGCGGATCAGCACGCCGCGGTGAATACGTTCCCGGGCCTTGTACACACCGCCCGTCACACCACGAGAGTTTGTAACACCCGAAGTCGGTG</td><td>null</td><td>5ed407618693a95ab527d4422b16dc5d</td></tr><tr><td>8988145</td><td>URS00008925F1</td><td>2015-10-20T18:04:07.000+0000</td><td>RNACEN</td><td>54AE503B73AEAB52</td><td>1402</td><td>AGAGTTTGATCCTGGCTCAGGATGAACGCTAGCGGCAGGCTTAACACATGCAAGTCGAACGGCAGCGGGGATTCACTTCGGTGAATCTGCCGGCGAGTGGCGCACGGGTGAGTAACACGTATGCAACCTGCCTCTGTCAGGGGTATAACTCTGCGAAAGTAGGGCTAATACCGCGTATATTCCCGGAGGGCATCCTCCGGGGAGGAAGGGTTTCAGCCGGACAGAGATGGGCATGCGGCGCATTAGGCAGTTGGCGGGGTAACGGCCCACCAAACCGACGATGCGTAGGGGTTCTGAGAGGAAGGTCCCCCACACTGGTACTGAGACACGGACCAGACTCCTACGGGAGGCAGCAGTGAGGAATATTGGTCAATGGCCGGAAGGCTGAACCAGCCAAGCCGCGTGAAGGACGAAGGTGCCAAGCATTGTAAACTTCTTTTGTCAAGGGACAAAATCAGGCTCGAGAGCCTGACCGAGGGTACTTGAAGAAAAAGCATCGGCTAACTCCGTGCCAGCAGCCGCGGTAATACGGAGGATGCGAGCGTTATCCGGATTTATTGGGTTTAAAGGGTGCGTAGGCGGGCTGTTAAGTCAGCGGTAAAAGCCCGGGGCTCAACCCCGGCGAGCCGTTGAAACTGGCTGTCTTGAGATGTCGAGAGGTATGCGGAATGCGCAGTGTAGCGGTGAAATGCTTAGATATTGCGCAGAACTCCGATTGCGAAGGCAGCATACCGGCGGCGATCTGACGCTGAGGCACGAAAGCGTGGGTATCGAACAGGATTAGATACCCTGGTAGTCCACGCAGTAAACGATGAATACTGGCTGTGTGGCCCGACAGAGGGCTGCGTGGCGTAGCGAAAGCGTTAAGTATTCCACCTGGGGAGTACGCCGGCAACGGTGAAACTCAAAGGAATTGACGGGGGCCCGCACAAGCGGAGGAACATGTGGTTTAATTCGATGATACGCGAGGAACCTTACCCGGGCTCAAACGGCAGATGACGGAGGAAGAGACTTCTCCTCCCGCAAGGGCATCTGCCGAGGTGCTGCATGGTTGTCGTCAGCTCGTGCCGTGAGGTGTCGGCTTAAGTGCCATAACGAGCGCAACCCCTGCTGACAGTTGCTAACAGGTTAAGCTGAGGACTCTGTCAGGACTGCCGGCGCAAGCCGAGAGGAAGGCGGGGATGACGTCAAATCAGCACGGCCCTTACGTCCGGGGCGACACACGTGTTACAATGGCCGGTATAGCGGGAAGCCAGGCGGCGACGCCGAGCGGAACCCGAAAGCCGGTCTCAGTTCGGATCGGAGTCTGCAACCCGACTCCGTGAAGCTGGATTCGCTAGTAATCGCGCATCAGCCATGGCGCGGTGAATACGTTCCCGGGCCTTGCACACACAGCCCGTCA</td><td>null</td><td>c4884f1c9ba6b7f8a48007c0419eff59</td></tr><tr><td>8988146</td><td>URS00008925F2</td><td>2015-10-20T18:04:07.000+0000</td><td>RNACEN</td><td>745D1F5CB425C610</td><td>1465</td><td>AGAGTTTGATCATGGCTCAGGATGAACGCTAGCGACAGGCCTAACACATGCAAGTCGAGGGGCAGCACAGGTAGCAATACTGGGTGGCGACCGGCGCACGGGTGCGTAACGCGTATGCAACCTACCTATCATCGGGGGATAGCCTTCTGAAAAGGAGATTAACACCGCATAAGACAACAGAGCCGCATGGTTTAGTTGTTAAATATTTATAGATGACTGATGGGCATGCGTCTGATTAGATAGTTGGTGGGGTAACGGCCCACCAAGTCCACGATCAGTAGGGGTTCTGAGAGGAAGGTCCCCCACACCGGAACTGAGACACGGTCCGGACTCCTACGGGAGGCAGCAGTGAGGAATATTGGTCAATGGGCGAGAGCCTGAACCAGCCAAGTCGCGTGAAGGAAGACGGCCCTACGGGTTGTAAACTTCTTTTGTAGGGGGATAAAGTGATCCACGTGTGGATTATTGTAGGTACCCTACGAATAAGGATCGGCTAACTCCGTGCCAGCAGCCGCGGTAATACGGAGGATCCGAGCGTTATCCGGATTTATTGGGTTTAAAGGGTGCGTAGGCGGATTTTTAAGTCAGTGGTGAAAGGTTGACGCTCAACGTTAACATTGCCATTGAAACTGAAGATCTTGAGTACAAATGAGGTAGGCGGAATGTGTTGTGTAGCGGTGAAATGCTTAGATATGACACAGAACACCAATTGCGAAGGCAGCTTACTGGGATGTAACTGGCGCTGAGGCACGAAAGCGTGGGGATCAAACAGGATTAGATACCCTGGTAGTCCACGCAGTAAACGATGATTACTAGCTGTTAGCGATAGAATGTTAGTGGCTAAGCGAAAGCGATAAGTAATCCACCTGGGGAGTACGTTCGCAAGAATGAAACTCAAAGGAATTGACGGGGGCCCGCACAAGCGGAGGAACATGTGGTTTAATTCGATGATACGCGAGGAACCTTACCCGGGCTTGAAATGCAGAGGAATATAGTGGAAACATTATAGCTAGCAATAGCCTCTGTGTAGGTGCTGCATGGTTGTCGTCAGCTCGTGCCGTGAGGTGTCGGCTTAAGTGCCATAACGAGCGCAACCCTTATCATTAGTTACTAACAGGTTAAGCTGAGGACTCTAATGAGACTGCCACCGTAAGGTGTGAGGAAGGTGGGGATGACGTCAAATCAGCACGGCCCTTACGTCCGGGGCGACACACGTGTTACAATGGGGGGTACAGAGGGCAGCTACCTGGTGACAGGATGCCAATCTCGAAAGCCTCTCGTAGTTCGGATCGAAGTCTGCAACTCGACTTCGTGAAGCTGGATTCGCTAGTAATCGCGCATCAGCCATGGCGCGGTGAATACGTTCCCGGGCCTTGTACACACCGCCCGTCAAGCCATGGGAGTTGGGGGTGCCTAAAGATTGTGACCGTAAGGAGCGATTTAGGGCAAAACCAGTGACTGGGGC</td><td>null</td><td>fe1b0723b592f7eb3c912397659a42a8</td></tr><tr><td>8988147</td><td>URS00008925F3</td><td>2015-10-20T18:04:07.000+0000</td><td>RNACEN</td><td>F038AEA866125A1A</td><td>1434</td><td>GGCGGGGGGCCTAACACCTGCGAGATCGAGCGGACACGATCCTAGCTTGCTAGGAGGCGTCGAGCGGCGGACGGGTGAGTAATGCATAGGAATCTGCCCGGTAGTGGGGGATAACCTGAGGAAACTCAGGCTAATACCGCATACGTCCTACGGGAGAAAGCAGGGGCTCTTCGGACCTTGCGCTATCGGATGAGCTTATGTCGGATTAGCTGGTTGGTGAGGTAACGGCTCACCAAGGCGACGATCCGTAGCTGGTCTGAGAGGATGATCAGCCACATCGGGACTGAGACACGGCCCGAACTCCTACGGGAGGCAGCAGTGGGGAATATTGGACAATGGGGGCAACCCTGATCCAGCCATGCCGCGTGTGTGAAGAAGGCCCTCGGGTTGTAAAGCACTTTCAGTGAGGAAGAAGGCTTGTCGGTTAATACCCGGCAAGAAAGACATCACTCACAGAAGAAGCACCGGCTAACTCCGTGCCAGCAGCCGCGGTAATACGGAGGGTGCGAGCGTTAATCGGAATTACTGGGCGTAAAGCGTGCGTAGGCGGCTTGATAAGCCGGTTGTGAAAGCCCCGGGCTCAACCTGGGAACGGCATCCGGAACTGTCAGGCTAGAGTGCAGGAGAGGAAGGTAGAATTCCCGGTGTAGCGGTGAAATGCGTAGAGATCGGGAGGAATACCAGTGGCGAAGGCGGCCTTCTGGACTGACACTGACGCTGAGGTACGAAAGCGTGGGTAGCAAACAGGATTAGATACCCTGGTAGTCCACGCCGTAAACGATGTCGACTAGCCGTTGGGGTCCTCGAGACCTTTGTGGCGCAGTTAACGCACTAAGTCGACCGCCTGGGGAGTACGGCCGCAAGGTTAAAACTCAAATGAATTGACGGGGGCCCGCACAAGCGGTGGAGCATGTGGTTTAATTCGATGCAACGCGAAGAACCTTACCTACCCTTGACATCGTGCGAACTTGGTAGAGATACCTTGGTGCCTTCGGGAACGCACAGACAGGTGCTGCATGGCTGTCGTCAGCTCGTGTTGTGAAATGTTGGGTTAAGTCCCGTAACGAGCGCAACCCTTGTCCCTATTTGCCAGCGATTCGGTCGGGAACTCTAGGGAGACTGCCGGTGACAAACCGGAGGAAGGTGGGGACGACGTCAAGTCATCATGGCCCTTACGGGTAGGGCTACACACGTGCTACAATGGCCGGTACAATGGGTTGCAAAGCGGCGACGTGGAGCTAATCCCATAAAGCCGGTCTCAGTCCGGATCGGAGTCTGCAACTCGACTCCGTGAAGTCGGAATCGCTAGTAATCGTGCATCAGAATGGCACGGTGAATACGTTCCCGGGCCTTGTACACACCGCCCGTCACACCATGGGAGTGGACTGCACCAGAAGTGGTTAGCCTAACTCGGAGGGCGTCAACCGCGGTGGG</td><td>null</td><td>5e8ba5873b105d46434a3c95f95dcb29</td></tr><tr><td>8988149</td><td>URS00008925F5</td><td>2015-10-20T18:04:07.000+0000</td><td>RNACEN</td><td>D5EE106430C6EF44</td><td>1366</td><td>CTAATACACGCAAGTAGAACGCCTGAGGGGGGGCCTGGCCTTCCGGAAGAGTTTCCAACGGGTGAGTAACGCCTAAGTAACCTGCCTGGTAGCGGGGGATAACTATTGGAAACGATAGCTAATACCGCATAATAGTAGATGTTGCATGACATTTACTTAAAAGGTGCAATTGCCTCACTACCAGATGGACCTGCGTTGTATTAGCTAGTTGGTGGGGGTACGGCTCACCAAGGCGACGATACATAGCCGACCTGAGAGGGTGATCGGCCACACTGGGACTGAGACACGGCCCAGACTCCTACGGGAGGCAGCAGTAGGGAATCTTCGGCAATGGACGAAAGTCTGACCGAGCAACGCCGCGTGAGTGAAGAAGGTTTTCGGATCGTAAAGCTCTGNTTGTAGAGAAGAACGAGTGTGAGAGTGGAAAGTTCACACTGTGACGGTATCTTACCAGAAAGGGACGGCTAACTACGTGCCAGCAGCCGCGGTAATACGTAGGTCCCGAGCGTTGTCCGGATTTATTGGGCGTAAAGCGAGCGCAGGCGGTTAGATAAGTCTGAAGTTAAAGGCTGTGGCTTAACCATAGTACGCTTTGGAAACTGTTTAACTTGAGTGCAAGAGGGGAGAGTGGAATTCCATGTGTAGCGGTGAAATGCGTAGATATATGGAGGAACACCGGTGGCGAAAGCGGCTCTCTGGCTTGTAACTGACGCTGAGGCTCGAAAGCGTGGGGAGCAAACAGGATTAGATACCCTGGTAGTCCACGCCGTAAACGATGAGTGCTAGGTGTTAGACCCTTTCCGGGGTTTAGTGCCGTAGCTAACGCATTAAGCACTCCGCCTGGGGAGTACGACCGCAAGGTTGAAACTCAAAGGAATTGACGGGGGCCCGCACAAGCGGTGGAGCATGTGGTTTAATTCGAAGCAACGCGAAGAACCTTACCAGGTCTTGACATCCCTCTGACCGCTCTAGAGATAGAGCTTTCCTTCGGGACAGAGGTGACAGGTGGTGCATGGTTGTCGTCAGCTCGTGTCGTGAGATGTTGGGTTAAGTCCCGCAACGAGCGCAACCCCTATTGTTAGTTGCCATCATTCAGTTGGGCACTCTAGCGAGACTGCCGGTAATAAACCGGAGGAAGGTGGGGATGACGTCAAATCATCATGCCCCTTATGACCTGGGCTACACACGTGCTACAATGGCTGGTACAACGAGTCGCAAGCCGGTGACGGCAAGCTAATCTCTTAAAGCCAGTCTCAGTTCGGATTGTAGGCTGCAACTCGCCTACATGAAGTCGGAATCGCTAGTAATCGCGGATCAGCACGCCGCGGTGAATACGTTCCCGGGCCCTTGTACACACCGCCCGTCA</td><td>null</td><td>c4886175ad61c03642f7a7bda209b588</td></tr><tr><td>12686421</td><td>URS0000C19455</td><td>2017-10-19T09:46:04.145+0000</td><td>rnacen</td><td>A30837699476879F</td><td>72</td><td>TCCCTGGTGGCTCAGAGGTTAAAGCGTCTGCCTGCAATGCTGGAGACCCAGGTTCGATCCCTGGGTTGGGAA</td><td>null</td><td>28e104cb8b622aae1135c835fffc8d3e</td></tr><tr><td>26726223</td><td>URS000197CF4F</td><td>2019-12-05T22:17:38.296+0000</td><td>rnacen</td><td>896AF99BBC61ADDE</td><td>12</td><td>TATGCATGCATT</td><td>null</td><td>0479237603d50ea3baec8aa62615a5d9</td></tr><tr><td>8988151</td><td>URS00008925F7</td><td>2015-10-20T18:04:07.000+0000</td><td>RNACEN</td><td>04DAD97CEC7EA0BB</td><td>1433</td><td>AGAGTTTGATCATGGCTCAGAACGTACGCTGGCGGCACGCCTAACACATGCAAGTCGAACGAAGTAGCAATACTTAGTGGCAGACGGGTGAGTAACATGTAGGTATCTGCCCTTTGGCCTGGAATAACACGAGGAAACTTGTGCTAATACCGGATAAGTCTTTACGGAGAAAGCTTTATGCACCATTGGATGAGCCTGCACTTGATTAGTTTGTTGGTGGGGTAATGGCCTACCAAGACTGTGATCAATAGCTGATTTGAGAGGATGATCAGCCACATTGGGACTGAGACACGGCCCAAACTCCTACGGGAGGCAGCAGTGGGGAATCTTGCACAATGGAGGAAACTCTGATGCAGCGATGCCGCGTGAGTGAAGAAGGCCTTTGGGTTGTAAAGCTCTTTCGTCGGGGAAGAAAATGACTGTACCCGAATAAGAAGGTCCGGCTAACTTCGTGCCAGCAGCCGCGGTAATACGAAGGGACCTAGCGTAGTTCGGAATTACTGGGCTTAAAGAGTTCGTAGGTGGTTGAAAAAGTTAGTGGTGAAATCCCAGAGCTTAACTCTGGAACTGCCATTAAAACTTTTCAGCTAGAGTATGATAGAGGAAAGCAGAATTTCTAGTGTAGAGGTGAAATTCGTAGATATTAGAAAGAATACCAATTGCGAAGGCAGCTTTCTGGATCATTACTGACACTGAGGAACGAAAGCATGGGTAGCGAAGAGGATTAGATACCCTCGTAGTCCATGCCGTAAACGATGTGTGTTAGACGTTGGAAATTTATTTTCAGTGTCGCAGCGAAAGCGATAAACACACCGCCTGGGGAGTACGACCGCAAGGTTAAAACTCAAATGAATTGACGGGGACCCGCACAAGTAGTGGAGCATGTGGTTTAATTCGAAGATACGCGCAGAACCTTACCAACACTTGACATGTTCGTCGCGACTTTAAGAGATTAAAGTTTTCGGTTCGGCCGGACGAAACACAGGTGCTGCATGGCTGTCGTCAGCTCGTGTCGTGAGATGTTGGGTTAAGTCCCGCAACGAGCGCAACCCTCACTTTTAGTTGCCATCATTAAGTTGGGCACTCTGAAAGAACTGCCAGTGATAAGCTGGAGGAAGGTGGGGATGACGTCAAGTCCTCATGGCCCTTACGTGTTGGGCTACACACGTGCTACAATGGTATCTACAACAGGAAGCAAGACTGCGAGGTCAAGCAAATCCTTAAAAGATACCTCAGTTCGGATTGCACTCTGCAACTCGAGTGCATGAAGCTGGAATTACTAGTAATCGTGGATCAGCGTGCCACGGTGAATGCGTTCCCGGGTCTTGTACACACCGCCCGTCACACCATGGGAGTTGGTTCTACCTTAAGGCAAGGTTTTAAACCCTTGACCACGGTATAGTCAGCGACTGGGGTGAAGTCGTAACAAGGTA</td><td>null</td><td>5e8c7a43b342c30e1235663bd8bc3ddc</td></tr><tr><td>8988155</td><td>URS00008925FB</td><td>2015-10-20T18:04:07.000+0000</td><td>RNACEN</td><td>8A589F31DE71B708</td><td>1488</td><td>GAGTTTGATCCTGGCTCAGGATGAACGCTAGCGGCAGGCCTAATACATGCAAGTCGAACGGGATCCATTTTCAGCTTGCTGAGGATGGTGAGAGTGGCGGATGGGTGCGTAACGCGTGAGCAACCTACCGGTATCTACGGTATAGCCCGGCGAAAGTCGGATTAATCCCGTATGTGGTATAGATGTGGCATCATGTTTATATTAAATATTTATAGGATATCGATGGGCTCGCGTGACATTAGCTAGTTGGTATAGGTAACGGCTTACCAAGGCTATGATGTCTAGGGGCTCTGAGAGGAGAATCCCCCACACTGGGACTGAGACACGGCCCAGACTCCTACGGGAGGCAGCAGTAAGGAATATTGGTCAATGGAGGGAACTCTGAACCAGCCATGCCGCGTGCAGGATGACTGCCCTCAGGGTTGTAAACTGCTTTTATACGGGAATAATTATGGGTACTTGTACTTATTTGAATGTACTGTATGAATAAGGATCGGCTAACTCCGTGCCAGCAGCCGCGGTAATACGGAGGATCCGAGCGTTATCCGGATTTATTGGGTTTAAAGGGTGCTTAGGCGGCATTTTAAGTCAGTGGTGAAATTTATAGGCTCAACCTATAGCTTGCCATTGATACTGGAGTGCTTGAATAAGTTCGAGGATGGCGGAATGTGACGAGTAGCGGTGAAATGCATAGATATGTCACAGAACACCGATTGCTTAGGCAGCTGTCCAGGTCTTTTATTGACGCTGAATCACGAAAGCGTGGGGATCAAACAGGATTAGATACCCTGGTAGTTCACGCCGTAAACTATGATAACTCGATGTTGGCGATATACAGTCAGTGTCCAAGCGAAAGCGTTAAGTTATCCACCTGGGGAGTACGTTCGCAAGAATGAAACTCAAAGGAATTGACGGGGGCCCGCACGAGCGGAGGAGCATGTGGTTTAATTCGATGATACGCGAGGAACCTTACCCGGGCTTGAAAGTTAGCGACTGATGCAGAGACGCATCATCCCTTCGGGGCGCGAAACTAGGTGCTGCATGGCTGTCGTCAGCTCGTGCCGTGAGGTGTTGGGTTAAGTCCCGTAACGAGCGCAACCCTTATCTTCAGTTGCCAGCACATCATGGTGGGGACTCTGAAGAGACTGCCCGCGTAAGCGGTGAGGAAGGCGGGGACGACGTCAAGTCATCATGGCCCTTACGTCCGGGGCTACACACGTGCTACAATGGCCGGTACAGGGGGCAGCTATCTGGTAACAGAGTGCGAATCTCATTAAAGCCGGTCACAGTTCGGATTGAGGTCTGCAACTCGACCTCATGAAGTTGGATTCGCTAGTAATCGCATATCAGCAATGTTGCGGTGAATACGTTCCCGGGCCTTGTACACACCGCCCGTCAAGCCATGAAAGTTGGGAGTGCCTAAAGCATGTAACCGCGAGGAGCGTGTTAGGGTAAGACCGATAATTGGGGCTAAGTCGTAACAAGGTA</td><td>null</td><td>5e8c7a9db58de99460cb123fd47bbb18</td></tr><tr><td>8988641</td><td>URS00008927E1</td><td>2015-10-20T18:04:07.000+0000</td><td>RNACEN</td><td>F19CF97A9FC2CBAD</td><td>1365</td><td>AGCTTGCTAGTGGTCGACGAGTGGCGGACGGGTGAGTAACGCGTAGGAATCTACCTAGTAGTGGGGGATAGCCAAGGGAAACTTTGGGTAATACCGCATACGATCTAAGGATGAAAGGGGGCCTCTCTTTGAAGCTCTCGCTATTAGATGAGCCTGCGTAAGATTAGCTTGTTGGTGGGGTAATGGCCCACCAAGGCGACGATCTTTAGCTGGTCTGAGAGGATGATCAGTCACACTGGAACTGAGACACGGTCCAGACTCCTACGGGAGGCAGCAGTCGGGAATATTGGACAATGGGGGAAACCCTGATCCAGCCATGCCGCGTGTGTGAAGAAGGCCCTAGGGTTGTAAAGCACTTTTAGTAGTGAGGAAGGCTCAGTAGTTAATACCTACTGGGATTGACGTTAGCTACAGAAAAAGCACCGGCTAATTTCGTGCCAGCAGCCGCGGTAATACGAAAGGTGCAAGCGTTAATCGGAATTACTGGGCGTAAAGCGCGCGTAGGCGGCTTGGTAAGTTGGATGTGAAAGCCCCGGGCTCAACCTGGGAACTGCATCCAAAACTGCCTAGCTAGAGTATGGTAGAGGATGGCGGAATTTCCTGTGTAGCGGTGAAATGCGTAGATATAGGAAGGAACATCAGTGGCGAAGGCGGCCATCTGGACCAATACTGACGCTGAGGTGCGAAAGCGTGGGGAGCAAACAGGATTAGATACCCTGGTAGTCCACGCCGTAAACGATGAGAACTAGCCGTTGGACATCTTGCATGTTTAGTGGCGCAGCTAACGCGATAAGTTCTCCGCCTGGGGAGTACGGCCGCAAGGTTAAAACTCAAATGAATTGACGGGGGCCCGCACAAGCGGTGGAGCATGTGGTTTAATTCGACGCAACGCGAAGAACCTTACCTACACTTGACATCCTCGGAACTTTCTAGAGATAGATTGGTGCCTTCGGGAACCGAGTGACAGGTGCTGCATGGCTGTCGTCAGCTCGTGTCGTGAGATGTTGGGTTAAGTCCCGTAACGAGCGCAACCCTTATCCTTAATTGCCAGCGGTTAGGCCGGGAACTCTAAGGAGACTGCCGATGACAAATCGGAGGAAGGTGGGGACGACGTCAAGTCATCATGGCCCTTACGTGTAGGGCTACACACGTGCTACAATGGCCGGTACAAACGGTTGCGAACCCGCGAGGGGAAGCTAATCCGAGAAAGCCGGTCGTAGTCCGGATTGGGGTCTGCAACTCGACCCCATGAAGTCGGAATCGCTAGTAATCGTGAATCAGAATGTCACGGTGAATACGTTCCCGGGCCTTGTACACACCGCCCGTCACACCATGGGAGTGGGTTGCACCAGAAGTGGCTAGTCT</td><td>null</td><td>c4fb65ec5c3e125acda4364734673530</td></tr><tr><td>8988643</td><td>URS00008927E3</td><td>2015-10-20T18:04:07.000+0000</td><td>RNACEN</td><td>5365B1D5F7689DB5</td><td>1498</td><td>TTGAAGAGTTTGATCATGGCTCAGGATAAACGCTGGCGGCATGCCTAACACATGCAAGTCGAACGGGGTTTATATAACAGAACTCTCCGGAGGGAAGTTATATAAACCTAGTGGCGGACGGGTGAGTAACGCGTGGGGAACCTGCCCTGTACCGGGGGACAACAGCCAGAAATGGCTGCTAATACCGCATAACCCTGCACTGCCGCATGGCGGTGCAGGGAAAACTCCGGTGGTACAGGATGGCCCCGCGTCTGATTAGCTTGTTGGCGGGGTAACAGCCCACCAAGGCAACGATCAGTAGCCGGCTTGAGAGAGCGGACGGCCACATTGGGACTGAGACACGGCCCAGACTCCTGCGGGAGGCAGCAGTGGGGAATACTGCACAATGGGGGAAACCCTGATGCAGCAATGCCGCGTGGGTGAAGAAGTACTCCGGTATGTAAAGCCCTGTCAGCAGGGAAGAAAATGACGGTACCTGACTAAGAAGCCCCGGCTAACTACGTGCCAGCAGCCGCGGTAATACGTAGGGGGCGAGCGTTATCCGGATTTACTGGGTGTAAAGGGAGCGCAGGCGGCGTGGCAAGTCAGATGTGAAAACCCGGGGCCCAACCCCGGGACTGCATTTGAAACTGCCATGCTGGAGTGCCGGAGAGGCAAGTGGAATTCCTAGTGTAGCGGTGAAATGCGTAGATATTAGGAGGAACACCAGTGGCGGAGGCGGCTTGCTGGACGGTAACTGACGCTGAGGCTCGAAAGCGTGGGGAGCAAATAGGATTAGATACCCTGGTAGTCCACGCCGTAAACGATGAATACCAGGTGTCGGGGGACATAAGTTTCCCGGTGCCGCAGCTAACGCACTAAGTATTCCACCTGGGGAGTACGTTCGCAAGAATGAAACTCAAAGGAATTGACGGGGACCCGCACAAGCGGTGGAGCATGTGGTTTAATTCGAAGCAACGCGAAGAACCTTACCAGCCCTTGACATCCTGCTGGCAGCCCGGTAATGCGGGCCTTCCCTCGGGACAGCAGAGACAGGTGGTGCATGGTTGTCGTCAGCTCGTGTCGTGAGATGTTGGGTTAAGTCCCGCAACGAGCGCAACCCCTGCCTGCAGTAGCCAGCGGCCTGGCCGGGCACTCTGCAGGGACTGCCGGGGATAACCCGGAGGAAGGCGGGGACGACGTCAAATCATCATGCCCCTTATGGGCTGGGCTACACACGTGCTACAATGGCGTCAACAGAGTGAAGCGAACCTGCGAGGGGGAGCAGACCACAAAAAAGACGTCCCAGTTCGGATTACAGCCCGCAACCCGGCTGTATGAAGCTGGAATCGCTAGTAATCGCAAATCAGAATGTTGCGGTGAATACGTTCCCGGGTCTTGTACACACCGCCCGTCACACCATGGGAGCCAGGAATGCCCGAAGCCAGTGGCCTAACCGCAAGGGAGGAGCTGTCGAAGGCAGGCCCGGTAACTGGGGTGAAGTCGTAACAAGGTAACC</td><td>null</td><td>b7de29fa1839f29a5724d099ca151793</td></tr><tr><td>8988647</td><td>URS00008927E7</td><td>2015-10-20T18:04:07.000+0000</td><td>RNACEN</td><td>48FE257E304E92EC</td><td>1402</td><td>GAAGAGAAGCTTGCTTCTCGGATGGTTAGCGGCGGACGGGTGAGTAACACGTAGGCAACCTGCCTGTAAGATCGGGATAACTACCGGAAACGGTAGCTAAGACCGGATAATCGGTTTCTCCGCATGGAGAGACTGTGAAACACGGAGCAATCTGTGGCTTACGGATGGGCCTGCGGCGCATTAGCTAGTTGGTGAGGTAACGGCTCACCAAGGCGACGATGCGTAGCCGACCTGAGAGGGTGAACGGCCACACTGGGACTGAGACACGGCCCAGACTCCTACGGGAGGCAGCAGTAGGGAATCTTCCGCAATGGACGCAAGTCTGACGGAGCAACGCCGCGTGAGTGATGAAGGTTTTCGGATCGTAAAGCTCTGTTGCCAGGGAAGAACGCCAAGGAGAGTAACTGCTCTTTGGGTGACGGTACCTGAGAAGAAAGCCCCGGCTAACTACGTGCCAGCAGCCGCGGTAATACGTAGGGGGCAAGCGTTGTCCGGAATTATTGGGCGTAAAGCGCGCGCAGGCGGTTTTTTAAGTCTGGTGTTTAATCCCGAGGCTCAACCTCGGTTCGCACCGGAAACTGGGAGACTGGAGTGCAGGAGAGGAAAGTGGAATTCCACGTGTAGCGGTGAAATGCGTAGAGATGTGGAGGAACACCAGTGGCGAAGGCGACTTTCTGGCCTGTAACTGACGCTGAGGCGCGAAAGCGTGGGGAGCAAACAGGATTAGATACCCTGGTAGTCCACGCCGTAAACGATGCATGCTAGGTGTTAGGGGTTTCGATACCCTTGGTGCCGAAGTTAACACAGTAAGCATGCCGCCTGGGGAGTACGCTCGCAAGAGTGAAACTCAAAGGAATTGACGGGGACCCGCACAAGCAGTGGAGTATGTGGTTTAATTCGAAGCAACGCGAAGAACCTTACCAGGTCTTGACATCCCTCTGACCGGCTTAGAGATAAGCCTTTCCTTCGGGACAGAGGTGACAGGTGGTGCATGGTTGTCGTCAGCTCGTGTCGTGAGATGTTGGGTTAAGTCCCGCAACGAGCGCAACCCTTGAACTTAGTTGCCAGCAGGTGAAGCTGGGCACTCTAAGTTGACTGCCGGTGACAAACCGGAGGAAGGCGGGGATGACGTCAAATCATCATGCCCCTTATGACCTGGGCTACACACGTACTACAATGGCCGGTACAACGGGAAGCGAAGGAGCGATCCGGAGCGAATCCTAGAAAAGCCGGTCTCAGTTCGGATTGCAGGCTGCAACTCGCCTGCATGAAGTCGGAATTGCTAGTAATCGCGGATCAGCATGCCGCGGTGAATACGTTCCCGGGTCTTGTACACACCGCCCGTCACACCACGAGAGTTTACAACACCCGAAGTCGGTGAGGTAACCGCAAGGGGCCAGCC</td><td>null</td><td>b7def47619186c8bee5cb0bf8954818b</td></tr><tr><td>12686422</td><td>URS0000C19456</td><td>2017-10-19T09:46:04.146+0000</td><td>rnacen</td><td>BB5F9E8D6F501124</td><td>125</td><td>TAAATACTCCCTCCGTCCGGAAATACTTGTCATCAAAATATATGAAAATGGATGTATCTAGAACTAAAATACATCTAGATGCATCTATTTCAATGACAAGTATTTCCGGACGGAGGGAGTATAAT</td><td>null</td><td>28e11bcd4c38260732c4c58601dfa4a4</td></tr><tr><td>8988285</td><td>URS000089267D</td><td>2015-10-20T18:04:07.000+0000</td><td>RNACEN</td><td>80A132D7C8A2E791</td><td>1397</td><td>CATGCAAGTCGAACGGTAACAGGTCTTCGGATGCTGACGAGTGGCGAACGGGTGAGTAACACATCGGAACGTGCCTAGTAGTGGGGGATAACTACTCGAAAGAGTAGCTAATACCGCATGAGATCTAAGGATGAAAGCAGGGGACCTTCGGGCCTTGCGCTACTAGAGCGGCTGATGGCAGATTAGGTAGTTGGTGGGATAAAAGCTTACCAAGCCGACGATCTGTAGCTGGTCTGAGAGGACGACCAGCCACACTGGGACTGAGACACGGCCCAGACTCCTACGGGAGGCAGCAGTGGGGAATTTTGGACAATGGGCGAAAGCCTGATCCAGCAATGCCGCGTGTAGGATGAAGGCCCTCGGGTTGTAAACTACTTTTGTACGGAACGAAAAGACTCTTTCTAATAAAGAGGGTCCATGACGGTACCGTAAGAATAAGCACCGGCTAACTACGTGCCAGCAGCCGCGGTAATACGTAGGGTGCAAGCGTTAATCGGAATTACTGGGCGTAAAGCGTGCGCAGGCGGTTATGTAAGACAGAGGTGAAATCCCCGGGCTCAACCTGGGAACGGCCTTTGTGACTGCATAGCTAGAGTACGGTAGAGGGGGATGGAATTCCGCGTGTAGCAGTGAAATGCGTAGATATGCGGAGGAACACCGATGGCGAAGGCAATCCCCTGGACCTGTACTGACGCTCATGCACGAAAGCGTGGGGAGCAAACAGGATTAGATACCCTGGTAGTCCACGCCCTAAACGATGTCAACTGGTTGTTGGGAATTAACTTTCTCAGTAACGAAGCTAACGCGTGAAGTTGACCGCCTGGGGAGTACGGCCGCAAGGTTGAAACTCAAAGGAATTGACGGGGACCCGCACAAGCGGTGGATGATGTGGTTTAATTCGATGCAACGCGAAAAACCTTACCCACCTTTGACATGTACGGAAGTGACCAGAGATGGACATGTGCTCGAAAGAGAACCGTAACACAGGTGCTGCATGGCTGTCGTCAGCTCGTGTCGTGAGATGTTGGGTTAAGTCCCGCAACGAGCGCAACCCTTGCCATTAGTTGCTACGAAAGGGCACTCTAATGGGACTGCCGGTGACAAACCGGAGGAAGGTGGGGATGACGTCAAGTCCTCATGGCCCTTATAGGTGGGGCTACACACGTCATACAATGGCTGGTACAAAGGGTTGCCAACCCGCGAGGGGGAGCTAATCCCATAAAGCCAGTCGTAGTCCGGATCGCAGTCTGCAACTCGACTGCGTGAAGTCGGAATCGCTAGTAATCGTGGATCAGAATGTCACGGTGAATACGTTCCCGGGTCTTGTACACACCGCCCGTCACACCATGGGAGCGGGTCTCGCCAGAAGTAGGTAGCCTAACCGCAAGGAGGGCGCT</td><td>null</td><td>5ea36e66efaab73ebd6fb20c3a4c326e</td></tr><tr><td>8988287</td><td>URS000089267F</td><td>2015-10-20T18:04:07.000+0000</td><td>RNACEN</td><td>9A24F2262C71F487</td><td>1502</td><td>AGAGTTTGATCCTGGCTCAGATTGAACGCTGGCGGCAGGCTTAACACATGCAAGTCGAGCGGGGAAGGTTGCTTCGGTAACTGACCTAGCGGCGGACGGGTGAGTAATGCTTAGGAATCTGCCATTTAGTGGGGGACAACATTCCGAAAGGAATGCTAATACCGCATACGTCCTACGGGAGAAAGCAGGGGATCTTCGGACCTTGCGCTAAATGATGAGCCTAAGTCGGATTAGCTAGTTGGTGGGGTAAAGGCCTACCAAGGCGACGATCTGTAGCGGGTCTGAGAGGATGATCCGCCACACTGGGACTGAGACACGGCCCAGACTCCTACGGGAGGCAGCAGTGGGGAATATTGGACAATGGGCGCAAGCCTGATCCAGCCATGCCGCGTGTGTGAAGAAGGCCTTTTGGTTGTAAAGCACTTTAAGCGAGGAGGAGGCTCTCTTAGTTAATACCTAAGATGAGTGGACGTTACTCGCAGAATAAGCACCGGCTAACTCTGTGCCAGCAGCCGCGGTAATACAGAGGGTGCGAGCGTTAATCGGATTTACTGGGCGTAAAGCGTGCGTAGGCGGCTTTTTAAGTCGGATGTGAAATCCCCGAGCTTAACTTGGGAATTGCATTCGATACTGGGAAGCTAGAGTATGGGAGAGGATGGTAGAATTCCAGGTGTAGCGGTGAAATGCGTAGAGATCTGGAGGAATACCGATGGCGAAGGCAGCCATCTGGCCTAATACTGACGCTGAGGTACGAAAGCATGGGGAGCAAACAGGATTAGATACCCTGGTAGTCCATGCCGTAAACGATGTCTATTAGCCGTTGGGGCCTTTGAGGCTTTAGTGGCGCAGCTAACGCGATAAGTAGACCGCCTGGGGAGTACGGTCGCAAGACTAAAACTCAAATGAATTGACGGGGGCCCGCACAAGCGGTGGAGCATGTGGTTTAATTCGATGCAACGCGAAGAACCTTACCTGGCCTTGACATACTAGAAACTTTCCAGAGATGGATTGGTGCCTTCGGGAATCTAGATACAGGTGCTGCATGGCTGTCGTCAGCTCGTGTCGTGAGATGTTGGGTTAAGTCCCGCAACGAGCGCAACCCTTTTCCTTACTTGCCAGCATTTCGGATGGGAACTTTAAGGATACTGCCAGTGACAAACTGGAGGAAGGCGGGGACGACGTCAAGTCATCATGGCCCTTACGGCCAGGGCTACACACGTGCTACAATGGTCGGTACAAAGGGTTGCTACCTAGCGATAGGATGCTAATCTCAAAAAGCCGATCGTAGTCCGGATTGGAGTCTGCAACTCGACTCCATGAAGTCGGAATCGCTAGTAATCGCGGATCAGAATGCCGCGGTGAATACGTTCCCGGGCCTTGTACACACCGCCCGTCACACCATGGGAGTTTGTTGCACCAGAAGTAGCTAGCCTAACTGCAAAGAGGGCGGTTACCACCGGTGTGGCCGATGACTGGGGTGAAGTCGTAACAAGGTAACCGTA</td><td>null</td><td>fe3706f823da493104ee8b17cb056420</td></tr><tr><td>8988288</td><td>URS0000892680</td><td>2015-10-20T18:04:07.000+0000</td><td>RNACEN</td><td>5778B8B3B072AD45</td><td>1474</td><td>GAGTTTGATCCTGGTTCAGGATGAACGCTAGCGGCAGGCTTAACACATGCAAGTCTAGGGGTATAGTTCTTCGGAACTAGAGACCGGCGCACGGGTGCGTAACGCGTATGCAATCTACCTTTCACAGAGGGATAGCCCAGAGAAATTTGGATTAATACCTCATAGTATAATTGAATGGCATCATTTAATTATTAAAGTCACAACGGTGAAAGATGAGCATGCGTCCCATTAGCTAGTTGGTAAGGTAACGGCTTACCAAGGCGACGATGGGTAGGGGTCCTGAGAGGGAGATCCCCCACACTGGTACTGAGACACGGACCAGACTCCTACGGGAGGCAGCAGTGAGGAATATTGGTCAATGGGCGCAAGCCTGAACCAGCCATGCCGCGTGCAGGATGACGGTCCTATGGATTGTAAACTGCTTTTGTACAGGAAGAAACACTGGTTCGTGAACCAGCTTGACGGTACTGTAAGAATAAGGATCGGCTAACTCCGTGCCAGCAGCCGCGGTAATACGGAGGATCCAAGCGTTATCCGGAATCATTGGGTTTAAAGGGTCCGTAGGCGGTCAGATAAGTCAGTGGTGAAAGCCCATCGCTCAACGGTGGAACGGCCATTGATACTGTCTGACTTGAATTATTAGGAAGTAGCTAGAATATGTAGTGTAGCGGTGAAATGCTTAGAGATTACATGGAATACCAATTGCGAAGGCAGGTTACTACTAATGGATTGACGCTGATGGACGAAAGCGTGGGTAGCGAACAGGATTAGATACCCTGGTAGTCCACGCCGTAAACGATGGATACTAGCTGTTGGGAGCAATCTCAGTGGCTAAGCGAAAGTGATAAGTATCCCACCTGGGGAGTACGTTCGCAAGAATGAAACTCAAAGGAATTGACGGGGGCCCGCACAATCGGTGGAGCATGTGGTTTAATTCGATGATACGCGAGGAACCTTACCAAGGCTTAAATGTAGATTGACCGGTTTGGAAACAGATCTTTCGCAAGACAATTTACAAGGTGCTGCATGGTTGTCGTCAGCTCGTGCCGTGAGGTGTCAGGTTAAGTCCTATAACGAGCGCAACCCCTGTTGTTAGTTGCCAGCGAGTCATGTCGGGAACTCTAACGAGACTGCCAGTGCAAACTGTGAGGAAGGTGGGGATGACGTCAAATCATCACGGCCCTTACGCCTTGGGCTACACACGTGCTACAATGGCCGGTACAGAGAGCAGCCACTGGGCGACCAGGAGCGAATCTATAAAACCGGTCACAGTTCGGATCGGAGTCTGCAACTCGACTCCGTGAAGCTGGAATCGCTAGTAATCGGATATCAGCCATGATCCGGTGAATACGTTCCCGGGCCTTGTACACACCGCCCGTCAAGCCATGGAAGCTGGGGGTGCCTGAAGTCGGTGACCGCAAGGAGCTGCCTAGGGTAAAACTGGTAACTAGGGCTAAGTCGTAACAAGGTAACC</td><td>null</td><td>b77f07431751f23d01ed4a7fdd4fa6ed</td></tr><tr><td>8988289</td><td>URS0000892681</td><td>2015-10-20T18:04:07.000+0000</td><td>RNACEN</td><td>528A9017418A3FD2</td><td>1436</td><td>CAGGCTTAACACATGCAAGTCGAGGGGCAGCATGGTCTTAGCTTGCTAAGGCCGATGGCGACCGGCGCACGGGTGAGTAACGCGTATCCAACCTGCCTTACACTCTTGGACAGCCTTCTGAAAGGGAGATTAATACAAGATGTTATCATGAGTAAGCATTTTCGCATGATTAAAGGTTTACCGGTGTAAGATGGGGATGCGTTCCATTAGATAGTAGGCGGGGTAACGGCCCACCTAGTCTTCGATGGATAGGGGTTCTGAGAGGAAGGTCCCCCACATTGGAACTGAGACACGGTCCAAACTCCTACGGGAGGCAGCAGTGAGGAATATTGGTCAATGGACGAGAGTCTGAACCAGCCAAGTAGCGTGAAGGATGAAGGTTCTATGGATTGTAAACTTCTTTTATACGGGAATAAACGAATCCACGTGTGGATTTTTGCATGTACCGTATGAATAAGGATCGGCTAACTCCGTGCCAGCAGCCGCGGTAATACGGAGGATCCGAGCGTTATCCGGATTTATTGGGTTTAAAGGGAGCGTAGATGGGTTGTTAAGTCAGTTGTGAAAGTTTGCGGCTCAACCGTAAAATTGCAATTGATACTGGCAGTCTTGAGTACAGTTGAGGTAGGCGGAATTCGTGGTGTAGCGGTGAAATGCTTAGATATCACGAAGAACTCCGATTGCGAAGGCAGCTTACTAACCTGTAACTGACATTGATGCTCGAAAGTGTGGGTATCAAACAGGATTAGATACCCTGGTAGTCCACACGGTAAACGATGAATACTCGCTGTAGGCGGTATACAGTCTGCGGCCAAGCGAAAGCATTAAGTATTCCACCTGGGGAGTACGCCGGCAACGGTGAAACTCAAAGGAATTGACGGGGGCCCGCACAAGCGGAGGAACATGTGGTTTAATTCGATGATACGCGAGGAACCTTACCCGGGCTTAAATTGCAACCGAATATGGCGGAAACGCTATAGCTAGCAATAGCGGTTGTGAAGGTGCTGCATGGTTGTCGTCAGCTCGTGCCGTGAGGTGTCGGCTTAAGTGCCATAACGAGCGCAACCCTTGCCGATAGTTACTAACAGGTCATGCTGAGGACTCTGTCGGGACTGCCATCGTAAGATGTGAGGAAGGTGGGGATGACGTCAAATCAGCACGGCCCTTACGTCCGGGGCTACACACGTGTTACAATGGGGGGTACAGAGGGCTGCTACCACGCAAGTGGATGCCAATCCCAAAAACCTCTCTCAGTTCGGATTGAAGTCTGCAACCCGACTTCATGAAGCTGGATTCGCTAGTAATCGCGCATCAGCCACGGCGCGGTGAATACGTTCCCGGGCCTTGTACACACCGCCCGTCAAGCCATGGGAGCCGGGGGTACCTGAAGTGCGTAACCGCAAGGAGCGCCCTAGGGTAAAACTGGTGACTGGGGC</td><td>null</td><td>5ea398f317e82a3e9854998c7048ba76</td></tr><tr><td>8988290</td><td>URS0000892682</td><td>2015-10-20T18:04:07.000+0000</td><td>RNACEN</td><td>70A1FCCD43CAF8C9</td><td>1393</td><td>AACGAACGCTTGCGGCGTGGATAAGACATGCAAGTCGAACGGGATCACTTTCGCCCGCAAGAGTGGAAGTGATTCAGTGGCGAACGGGTGCGTAACACGTGGGCAATCTGTCGTAAAGTGGGGGATAGCTCGGCGAAAGCCGAATTAATACCGCATGTGATTAGCGGAGACATCTTCGCGACATCAAAGTCGGGGCAACCTGACGCTTTTTGAGGAGCCCGCGGCCTATCAGCTTGTTGGTGAGGTAACGGCTCACCAAAGCGTTGACGGGTAGCTGGTCTGAGAGGACGACCAGCCACACTGGGACTGAGACACGGCCCAGACACCTACGGGTGGCAGCAGTCGAGAATTTTTCTCAATGGGGGAAACCCTGAAGGAGCGACGCCGCGTGGAGGATGAAGGTCTTCGGGTTGTAAACTCCTGTCATTTGGGAACAAGGCGCGTGTATTAACTGTGCACGCGTTGATAGTACCAGAAGAGGAAGAGACGGCTAACTCTGTGCCAGCAGCCGCGGTAATACAGAGGTCTCAAGCGTTGTTCGGATTCATTGGGCGTAAAGGGTGCGTAGGCGGCGCGGTAAGTCGGGTGTGAAATTTCGGAGCTTAACTCCGAAACTGCATTCGATACTGCCGTGCTCGAGGACTGGAGAGGAGACTGGAATTTACGGTGTAGCAGTGAAATGCGTAGATATCGTAAGGAAGACCAGTGGCGAAGGCGGGTCTCTGGACAGTTCCTGACGCTGAGGCACGAAGGCCAGGGGAGCAAACGGGATTAGATACCCCGGTAGTCCTGGCAGTAAACGGTGCACGTTTGGTGTGGGAGGATTCGACCCCTTCTGCGCCGGAGTTAACACGTTAAACGTGCCGCCTGGGGAGTACGGTCGCAAGATTAAAACTCAAAGAAATTGACGGGGGCCCGCACAAGCGGTGGAGTATGTGGCTTAATTCGATGCAACGCGAAGAACCTTACCAGGCCTTGACATGCATCTCTAAACCGGTGAAAGCCGGCGAGCCCCGAAAGGGGCAATTTGCACAGGTGCTGCATGGCTGTCGTCAGCTCGTGTCGTGAGATGTTGGGTTAAGTCCCGCAACGAGCGCAACCCCTGTGAACTGTTGCCACCGGAGCGAGAGCTCCGAGCACTCTGTTCAGACTGCCTCGCTTAAACGAGGAGGAAGGTGGGGACGACGTCAAGTCAGTATGGCCCTTACGGCATGGGCTGCACACGTACTACAATGCCCAGTACAGAACGATCCAAGACCGCGAGGTGGAGGAAATCACTAAAACTGGGCCCAGTTCAGATTGAAGTCTGCAACTCGACTTCATGAAGCCGGAATCGCTAGTAATGGCGTATCAGCTACGACGCCGTGATACGTTCCCGGGCATTGCACACACC</td><td>null</td><td>c4a6eac8df3c6f9f6968654441eeee41</td></tr><tr><td>12686423</td><td>URS0000C19457</td><td>2017-10-19T09:46:04.147+0000</td><td>rnacen</td><td>B8BBB5FD5A8F8165</td><td>105</td><td>AACTTATCAAGAGTGGTTGAGGGACAGGGCCCTATGACACCCGGCAACCGGCGTTTCGACGCATCGGTGCCAATTCCCCCGTTTGGTTCAAACGGAAGATGAGAA</td><td>null</td><td>28e12dbb8d4b1727903faf3fca3311db</td></tr><tr><td>8988291</td><td>URS0000892683</td><td>2015-10-20T18:04:07.000+0000</td><td>RNACEN</td><td>A8B034000E9F739F</td><td>1404</td><td>AGAGTTTGATCCTGGCTCAGGATCATCGCTAGCGGCAGGCTTAACACATGCAAGTCGAGGGGCAGCGGGGGACGCGCTTGCGCGTCCCGCCGGCGACCGGCGCACGGGTGAGTAACACGTATGCAACCTGCCCCCGCCAGGGGTACAACCCTCCGAAAGGGGGGCTGATACCGCGTACATCCCTCGGGGGCATCCCCGGGGGAGGAAAGCCCTTCTGGGCGGGCGGGGATGGGCATGCGGCGCATTAGGAAGACGGCGGTGTGACGGACCACCGTTCCGACGATGCGTAGGGGTTCTGAGAGGAAGGCCCCCCACACTGGTACTGAGACACGGACCAGACTCCTACGGGAGGCAGCAGTGAGGAATATTGGTCAATGGCCGGAAGGCTGAACCAGCCAAGCCGCGTGAGGGAGGAAGGCGCAGAGCGTCGCAGACCTCTTTTGCCGGGGGACAAAAGGCCGGACTCGTCCGGTCCTGAGGGTACCCGGAGAAAAAGCATCGGCTAACTCCGTGCCAGCAGCCGCGGTAATACGGAGGATGCGAGCGTTATCCGGATTCATTGGGTTTAAAGGGTGCGCAGGCGGGCCTTTAAGCCGGCGGTGAAATCGCGGGGCTCAACCCCGCCGAGCCGTCGGAACTGGGGGCCTTGAGTGCGGCGGAGGCATGCGGAATGCGCGGTGTAGCGGTGAAATGCATAGATATCGCGCAGAACCCCGATTGCGAAGGCAGCGTGCCGTGCCGCCACTGACGCTGAGGCACGAAAGCGCGGGGATCGAACAGGATTAGATACCCTGGTAGTCCGCGCCGTAAACGATGGATGCTGGGTGTCCGGGGCGTTCAGGCCCTGGGTGCCGGAGCGAAAGCGGTAAGCATCCCACCTGGGGAGTACGCCGGCAACGGTGAAACTCAAAGGAATCGACGGGGGCCCGCACAAGCGGAGGAACATGTGGTTTAATTCGATGATACGCGAGGAACCTTACCCGGGCTCAAACGGGGGGCGCGGGCGGCAGAGACGCCGCCGTCCTTATGGACGTCCCCCGAGGTGCTGCATGGTTGTCGTCAGCTCGTGCCGTGAGGTGTCGGATTAAGTTCCATAACGAGCGCAACCCCCGCGCGCAGTTGCTAACGGGTCAGGCCGAGGACTCTGCGCGGACTGCCGGCGCAAGCCGCGAGGAAGGCGGGGACGACGTCAAATCAGCACGGCCCTTACGTCCGGGGCGACACACGTGTTACAATGGGGGGTACAGCGGGAAGCCAGGCGGCGACGCCGAGCGGAACCCGAAAGCCCCTCCCAGTTCGGATCGGAGCCTGCAACCCGGCTCCGTGAAGCTGGATTCGCTAGTAATCGCGCATCAGCCATGGCGCGGTGAATACGTTCCCGGGCCTTGCACACACCGCCCGTCA</td><td>null</td><td>fe379d500bfdf6906cd08be7eba16a0f</td></tr><tr><td>8988293</td><td>URS0000892685</td><td>2015-10-20T18:04:07.000+0000</td><td>RNACEN</td><td>202E5326F9F63C51</td><td>1461</td><td>AACGAACGCTGGCGGCGTGGCTAAGACATGCAAGTCGAACGGGCCATTTTGATGAGTAATCTGATGAATGGTTAGTGGCGTAAGGGTTAGTAATGGATAGGTAACGTACCCTTTGCTTCGGGATAGCGTCTCGAAAGGGGCGGTAATACCGGATAATGTCATTTTCCGACAGGATTGTGACCAAAGATTTATCGGCGAAGGAGCGGTCTATCTCCTATCAGCTTGTTGGTGGGGTAATGGCTCACCAAGGCTAAGACGGGTAGCGGGACTGAGAGGTTGGCCCGCAACATCGGGACTGAGACACTGCCCGGACCCTCACGGGGGGCTGCAGTAACGAATATTGCGCAATGGGCGAAAGCCTGACGCAGCGACGCCGCGTGCGGGAGGAAGTCCCTTGGGATGTAAACCGCTGTCAGGGGTAAGAAAGTCCGCCTCCGGGCGGGTTGATCTAACCCAGAGGAAGTCACGGCTAACTTCGTGCCAGCAGCCGCGGTAAGACGAAGGTGGCAAGCGTTGTTCGGTATCACTGGGCTTAAAGCGTGTGTAGGCGGAAAGGTAAGCGCTTTGTGAAATCCCCCGGCTTAACCGGGGAATGGCTTGGCGAACTGCCTTTCTTGAGGTAGGCAGGGGTGCATGGAACTCTTGGTGGAGCGGTGGAATGCGTAGATATCAAGAGGAACGCCAGTGGTGAAAACGGTGCACTGGGCCTGCTCTGACGCTGAGACACGAAAGCGTGGGGAGCGAACGGGATTAGATACCCCGGTAGTCCACGCTGTAAACGATGTCTACTAGGTTGTGGTCGTTCTGACACGGGCACGGCCGAAGCAAAAGTGTTAAGTAGACCGCCTGGGGAGTACGGTCGCAAGGCTAAAACTCAAAGGAATTGACGGGGGCTCACACAAGCGGTGGAGCATGTGGATTAATTCGAAGCAACGCGTAGAACCTTACCTGGGTTTGACATGCTTGGATGCCTTCCTGGAAACAGGATAGGTTGCCCTTCGGGGTGGAACTTGCACAGGTGCTGCATGGCTGTCGTCAGCTCGTGTCGTGAGATGTCGGGTTAAGTCCTTTAACGAGCGAAACCCTTGCCGTTAGTTGCCAGCGGGTCATGCCGGGGACTCTAGCGGGACTGCCGGTGTTAAACCGGAGGAAGGTGGGGACGACGTCAAGTCATCATGGCCTTTATGCCCAGGGCCTCACACGTGCTACAATGGCGAATACAAAGCGACGCAAGACCGCGAGGTGGAGCAAATCGCAAAAAAATCGCCTCAGTTCGGATTGCAGGCTGGCAACTCGCCTGCATGAAGTTGGAATCGCTAGTAATCGCGTATCAGCTACGACGCGGTGAATGTGTTCCTGAGCCTTGTACACACCGCCCGTCAAGTGATGGGAGTCGGGAGTACCCGAAGTCAGGTTACCAACCTTCGGGAGGTGCCTGCCGACGGTAAGTCCGATGACTGG</td><td>null</td><td>5ea43a7a1380d9e05edcdd83d05a12cb</td></tr><tr><td>8988294</td><td>URS0000892686</td><td>2015-10-20T18:04:07.000+0000</td><td>RNACEN</td><td>BCFE5123D28E9C79</td><td>1388</td><td>TAGTGGCGGACGGGTGAGTAACGCGTGGGTAACCTGCCTCACACAGGGGGATAACAGTTAGAAATGACTGCTAATACCGCATAAGCGCACGGTATCGCATGGTACAGTGTGAAAAGATTTATCGGTGTGAGATGGACCCGCGTCTGATTAGCCAGTTGGCAGGGTAACGGCCTACCAAAGCGACGATCAGTAGCCGGCCTGAGAGGGTGAACGGCCACATTGGGACTGAGACACGGCCCAAACTCCTACGGGAGGCAGCAGTGGGGGATATTGCACAATGGGGGAAACCCTGATGCAGCGACGCCGCGTGAGTGAAGAAGTATTTCGGTATGTAAAGCTCTATCAGCAGGGAAGAAAATGACGGTACCTGACTAAGAAGCCCCGGCTAACTACGTGCCAGCAGCCGCGGTAATACGTAGGGGGCAAGCGTTATCCGGATTTACTGGGTGTAAAGGGAGCGTAGACGGCGAGTCAAGTCTGATGTGAAAGGTGGGGGCTCAACCCCCAAACTGCATTGGAAACTGGTTTGCTAGAGTGTCGGAGAGGTAAGTGGAATTCCTAGTGTAGCGGTGAAATGCGTAGATATTAGGAGGAACACCAGTGGCGAAGGCGGCTTACTGGACGATCACTGACGTTGAGGCTCGAAAGCGTGGGGAGCAAACAGGATTAGATACCCTGGTAGTCCACGCGGTAAACGATGAATACTAGGTGTCGGGTGGCAACAGCCATTCGGTGCCGCAGCAAACGCAATAAGTATTCCACCTGGGGAGTACGTTCGCAAGAATGAAACTCAAAGGAATTGACGGGGACCCGCACAAGCGGTGGAGCATGTGGTTTAATTCGAAGCAACGCGAAGAACCTTACCAAATCTTGACATCTAACTGACAGTGCTCATAAAAGGCATTTCCTTCGGGACAGTTAAGACAGGTGGTGCATGGTTGTCGTCAGCTCGTGTCGTGAGATGTTGGGTTAAGTCCCGCAACGAGCGCAACCCTTGTCGTTAGTAGCCAGCACGTAAAGGTGGGCACTCTAATGAGACTGCCGGGGATAACCCGGAGGAAGGTGGGGATGACGTCAAATCATCATGCCCCTTATGATTTGGGCTACACACGTGCTACAATGGCGTAAACAAAGAGAGGCGAAGTCGTGAGGCAGAGCAAATCTCAAAAATAACGTCTCAGTTCGGATTGTAGTCTGCAACTCGACTACATGAAGCTGGAATCGCTAGTAATCGCGAATCAGCATGTCGCGGTGAATACGTTCCCGGGTCTTGTACACACCGCCCGTCACACCATGGGAGTCGGAAATGCCCGAAGTCGGTGACTTAACCGCAAGGAGAGAGCCGCCGAAGGCAGGTCTGATAACTGGGGTGAAGTCGTAACAAGGTA</td><td>null</td><td>c4a7faa63214f9beed8626ff46f986c6</td></tr><tr><td>8988299</td><td>URS000089268B</td><td>2015-10-20T18:04:07.000+0000</td><td>RNACEN</td><td>0CF6E96E3C5F75BC</td><td>1457</td><td>AGAGTTTGATCCTGGCTCAGGATGAACGCTGGCGGCGTGCTTAACACATGCAAGTCGAACGAGAAAGCTCCTTCGGGAGTGAGTACAGTGGCGAACGGGTGCGTAACACGTTGGTGACCTGCCTTGAGGAGGGGGACAACCGTGGGAAACCACGGCTAATACCCCGGATGTCTAAACTGTTAGAGGGTTTAGACTAAAACTTCGGTGCCTCAAGAGGGGCCTGCGGGCTATCAGCTTGTTGGTGGGGTAATGGCCTACCAAGGCTAAGACGGCTAGGGGGCGTGAGAGCGCGACCCCCCACAATGGAACTGAGACACGGTCCATACTCCTACGGGAGGCAGCAGTGAGGAATATTGCGCAATGGGGGAAACCCTGACGCAGCAACGCCGCGTGAACGATGAAGGCCTTCGGGTCGTAAAGTTCTTTTCTAAGGGAAGATAGTGACGGTACCTTAGGAATAAGTCCCGGCTAACTACGTGCCAGCAGCCGCGGTAAAACGTAGGGGGCGAGCGTTATCCGGATTTATTGGGCGTAAAGCGCACGTAGGTGGCGCTGTAAGTTAGACGTGAAAGCTCTCGGCTCAACTGAGAGAGGTCGTTTAAAACTGGAGGTGCTTGAGGTTAGAAGAGGAGAGCAGAATTCCCGGTGTAGTGGTGGAATGCGTAGATATCGGGAGGAATACCAGTGCGGAAGCGGGTCTCTAGTTCTAAACTGAAACTGAGGTGCGAAAGCGTGGGTAGGGAACGGGATTAGATACCCCGGTAGTCCACGCTGTAAACGATGGATACTAGGTGTAGGGGGTCATTTAACCCCTCTGTGCCGAAGCAAACGCGTTAAGTATCCCGCCTGGGGACTACGGCCGCAAGGTTGAAACTCAAAGGAGTTGACGGGGGCCCGCACAAGCAGCGGAGCGTGTGGTTTAATTCGATGATACGCGAAGAACCTTACCTGGGCTGAACTACGTGGTAGTAGTGAAGCGAAAGCGGATCGACCCTTCGGGGAGCCTCGATAGGTGCTGCATGGCTGTCGTCAGCTCGTGTCGTGAGATGTTGGGTTAAGTCCCGCAACGAGCGCAACCCTCGTCGCTAGTTACAAGTGTCTAGCGAGACTGCCGGTATCAAACCGGAGGAAGGTGGGGATGACGTCAAGTCAGCATGGTCTTTATGTCCAGGGCTACACACACGCTACAATGGTCGGTACAATAGGTTGCCACACCGCGAGGTGGAGCTAATCCTCAAAGCCGATCTCAGTTCGGATTGTAGTCTGCAACTCGACTACATGAAGGCGGAGTTGCTAGTAACCGCGCGTCAGCATAGTGCGGTGAATGCGTTCCCGGGCCTTGTACACACCGCCCGTCACATCATGGGAGTCGGTAACACCTGAAGTCGGTGACCTAACCGAAAGGGGGGAGCTGCCTAAGGTGGGATCGGTAACTGGGATGAAGTCGTAACAAGGTA</td><td>null</td><td>fe39914e1e17d8b07091f95b2e07f48b</td></tr><tr><td>8988936</td><td>URS0000892908</td><td>2015-10-20T18:04:07.000+0000</td><td>RNACEN</td><td>624A6B6CF0AE9116</td><td>1393</td><td>TTCGCCCTTAGAGTTTGATCCTGGCTCAGGATGAACGCTGGCGGCGTGCTTAACACATGCAAGTCGAACGGGAATTACTTTATTGAAACTTCGGTCGATTTAATTTAATTCTAGTGGCGGACGGGTGAGTAACGCGTGGGTAACCTGCCTTATACAGGGGGGATAACAGTCAGAAATGGCTGCTAATACCGCATAAGCGCACAGAGCTGCATGGCTCAGTGTGAAAAACTCCGGTGGTATAAGATGGACCCGCGTTGGATTAGCTAGTTGGTGGGGTAACGGCCCACCAAGGCGACGATCCATAGCCGGCCTGAGAGGGTGAACGGCCACATTGGGACTGAGACACGGCCCAGACTCCTACGGGAGGCAGCAGTGGGGAATATTGCACAATGGGGGAAACCCTGATGCAGCGACGCCGCGTGAAGGAAGAAGTATCTCGGTATGTAAACTTCTATCAGCAGGGAAGATAGTGACGGTACCTGACTAAGAAGCCCCGGCTAACTACGTGCCAGCAGCCGCGGTAATACGTAGGGGGCAAGCGTTATCCGGATTTACTGGGTGTAAAGGGAGCGTAGACGGTGTGGCAAGTCTGATGTGAAAGGCATGGGCTCAACCTGTGGACTGCATTGGAAACTGTCATACTTGAGTGCCGGAGGGGTAAGCGGAATTCCTAGTGTAGCGGTGAAATGCGTAGATATTAGGAGGAACACCAGTGGCGAAGGCGGCCTACTGGGCTTTAACTGACGCTGAGGCACGAAAGCATGGGTAGCAAACAGGATTAGATACCCTGGTAGTCCATGCCGTAAACGATGATTACTAGGTGTGGGGGGACTGACCCCTTCCGTGCCGCAGTTAACACAATAAGTAATCCACCTGGGGAGTACGGCCGCAAGGTTGAAACTCAAAGGAATTGACGGGGGCCCGCACAAGCAGTGGAGTATGTGGTTTAATTCGAAGCAACGCGAAGAACCTTACCAGGTCTTGACATCCTGAGAATCCTTAAGAGATTAGGGAGTGCCTTCGGGAACTCAGAGACAGGTGGTGCATGGTTGTCGTCAGCTCGTGTCGTGAGATGTTGGGTTAAGTCCCGCAACGAGCGCAACCCTTGCTATTAGTTGCTACGCAAGAGCACTCTAATAGGACTGCCGTTGACAAAACGGAGGAAGGTGGGGACGACGTCAAATCATCATGCCCCTTATGACCTGGGCTACACACGTACTACAATGGCCATTAACAGAGGGAAGCAAAACCGCGAGGCAGAGCAAACCCCTAAAAATGGTCCCAGTTCGGATTGTAGGCTGCAACCCGCCTACATGAAGTTGGAATTGCTAGTAATCGCGGATCAGCATGCCGCGGTGAATACGTTCCCGGGCCTTGTACTCACCGCCCGTCA</td><td>null</td><td>b834439f2b6b4e545ea13865b2b8ad32</td></tr><tr><td>12686424</td><td>URS0000C19458</td><td>2017-10-19T09:46:04.147+0000</td><td>rnacen</td><td>591A15B34811456C</td><td>161</td><td>CACCGCCCGTCGCTCCTACCAATTGAATGGTCCGGTGAAGTGTTTGGATCGCGGCGACGTGGGCGGTTTGCCGCCAATGACGTCGCGAGAAGTCCACTGAACCTTATCATTTAGAGGAATGAGAAGTCGTAACAAGGTTTCCGTAGGTGAACCTGCGGAAG</td><td>null</td><td>28e14eee573a09993f4eec3981c9765b</td></tr><tr><td>8988937</td><td>URS0000892909</td><td>2015-10-20T18:04:07.000+0000</td><td>RNACEN</td><td>945CBD534C712E3E</td><td>1317</td><td>GAGTGGCGGACGGGTGAGTAACGCGTGGGTAACCTGCCCTGTACCGGGGGATAACAGTCGGAAACGACTGCTAATACCGCATAAGCGCACAGTACCGCATGGTACGGTGTGAAAAACTCCGGTGGTACAGGATGGACCCGCGTCTGATTAGCTAGTTGGTGAGGTAACGGCCCACCAAGGCGACGATCAGTAGCCGACCTGAGAGGGTGACCGGCCACATTGGGACTGAGACACGGCCCAAACTCCTACGGGAGGCAGCAGTGGGGAATATTGCACAATGGGCGAAAGCCTGATGCAGCGACGCCGCGTGAGTGAAGAAGTATTTCGGTATGTAAAGCTCTATCAGCAGGGAAGAAAATGACGGTACCTGACTAAGAAGCCCCGGCTAACTACGTGCCAGCAGCCGCGGTAATACGTAGGGGGCAAGCGTTATCCGGATTTACTGGGTGTAAAGGGAGTGTAGGTGGCAAGACAAGTCAGAAGTGAAAATCCGGGGCTCAACCCCGGAACTGCTTTTGAAACTGTTTAGCTTGAGTGCAGGAGGGGTAAGCGGAATTCCTAGTGTAGCGGTGAAATGCGTAGATATTAGGAGGAACACCGGTGGCGAAGGCGGCTTACTGGACTGTAACTGACACTGAGGCTCGAAAGCGTGGGGAGCAAACAGGATTAGATACCCTGGTAGTCCACGCCGTAAACGATGAATACTAGGTGTTGGGGGTCACAAGACCTTCAGTGCCGTCGCTAACGCAATAAGTATTCCACCTGGGGAGTACGTTCGCAAGAATGAAACTCAAAGGAATTGACGGGGACCCGCACAAGCGGTGGAGCATGTGGTTTAATTCGAAGCAACGCGAAGAACCTTACCAAGTCTTGACATCCTCTTGAATGTGTGGTAATGCATACAGCTCTTTTAGAGCAAGAGAGACAGGTGGTGCATGGTTGTCGTCAGCTCGTGTCGTGAGATGTTGGGTTAAGTCCCGCAACGAGCGCAACCCCTATGATTAGTAGCCAGCAGTAAGATGGGCACTCTAATCAGACTGCCCGGGATAACCGGGAGGAAGGCGGGGGTGACGTCAAATCATCATGCCCCTTATGACTTGGGCTACACACGTGCTACAATGGCGTAAACAAAGAGAAGCGACCTCGTGAGAGTAAGCAAATCCCAAAAATAACGTCTCAGTTCGGATTGTAGTCTGCAACTCGACTACATGAAGCTGGAATCGCTAGTAATCGCAGATCAGAATGCTGCGGTGAATACGTTCCCGGGTCTTGTACACACCGCCTGTCACACCATGGGAGTCGGAAATGCCCGAAGTC</td><td>null</td><td>fec75f6da264afc33bbada5ee76e3e66</td></tr><tr><td>8988938</td><td>URS000089290A</td><td>2015-10-20T18:04:07.000+0000</td><td>RNACEN</td><td>469D51A7676D4F61</td><td>1405</td><td>TTCGCCCTTAGAGTTTCTTTCTGGCTCAGGATGAACGCTGGCGGCGTGCTTAACACATGCAAGTCGAACGGAACACCCTTGAAGGAGTTTTCGGACAACTGAGAGGACTGTTTAGTGGCGGACGGGTGAGTAACGCGTGAGTAACCTGCCTTGGAGTGGGGAATAACACAAAGAAATTTGTGCTAATACCGCATAATGCAGCTGAGTCGCATGGCTCTGGCTGCCAAAGATTTATCGCTCTGAGATGGACTCGCGTCTGATTAGCTAGTTGGCGGGGTAACGGCCCACCAAGGCGACGATCAGTAGCCGGACTGAGAGGTTGGCCGGCCACATTGGGACTGAGACACGGCCCAGACTCCTACGGGAGGCAGCAGTGGGGAATATTGGGCAATGGGCGCAAGCCTGACCCAGCAACGCCGCGTGAAGGAAGAAGGCTTTCGGGTTGTAAACTTCTTTTCTCAGGGACGAAGCAAGTGACGGTACCTGAGGAATAAGCCACGGCTAACTACGTGCCAGCAGCCGCGGTAATACGTAGGTGGCAAGCGTTATCCGGATTTACTGGGTGTAAAGGGCGTGTAGGCGGGAAAGCAAGTCAGATGTGAAAACCATGGGCTCAACCTGTGGCCTGCATTTGAAACTGTTTTTCTTGAGTACTGGGAGAGGCCAGACGGAATTCCCTATGTAGCGGTGAAATGCGTAAGATATTTAAGAAGAACACCAGTGGGGAAGGCGGGTCTGCTGGACAGCAACTGACGCTGAAGGCGGGAAAGCGTGGGGAGCAAACAGGATTAGATACCCTGGTAGTCCACGCTGTAAACGATGGATACTAGGTGTGGGGGGACTGACCCCCTCCGTGCCGCAGTTAACACAATAAGTATCCCACCTGGGGAGTACGATCGCAAGGTTGAAACTCAAAGGAATTGACGGGGGCCCGCACAAGCGGTGGAGTATGTGGTTTAATTCGAAGCAACGCGAAGAACCTTACCAGGGCTTGACATCCCACGGACAGATGTAGAGATACATCCTTCCCTTCGGGGACTGTGGTGACAGGTGGTGCATGGTTGTCGTCAGCTCGTGTCGTGAGATGTTGGGTTAAGTCCCGCAACGAGCGCAACCCTTATTGTTAGTTGCTACGCAAGAGCACTCTAGCGAGACTGCCGTTGACAAAACGGAGGAAGGTGGGGACGATGTCAAATCATCATGCCCCTTATGTCCTGGGCCACACACGTATTACAATGGTGGCCAACAGAGGGAAGCAATGCCGCGAGGCGGAGCAAATCCCTAAAAGCCATCCCAGTTCGGATCGCAGGCTGCAACCCGCTTGCGTGAAGTTGGAATCGCTAGTAATCGCGGATCAGCATGCCGCGGTGAATACGTTCCCGGGCCTTGCACACACCGCCCGTCA</td><td>null</td><td>b835a6acb7d66e88ba0af5afcb46e92f</td></tr><tr><td>8988942</td><td>URS000089290E</td><td>2015-10-20T18:04:07.000+0000</td><td>RNACEN</td><td>D8C41B54C1D59C19</td><td>1345</td><td>GACGAACGCTGGCGGCGCGCCTAACACATGCAAGTCGAACGAGAGAGAGGGAGCTTGCTTCCTTGATCGAGTGGCGAACGGGTGAGTAACGCGTGAGGAACCTGCCTCAGAGAGGGGGACAACAGTTGGAAACGACTGCTAATACCGCATAAGCCCACGACCCGGCATCGGGAAGAGGGAAAAGGAGCAATCCGCTTTGAGATGGCCTCGCGTCCGATTAGCTAGTTGGTGAGGTAACGGCCCACCAAGGCGACGATCGGTAGCCGGACTGAGAGGTTGAACGGCCACATTGGGACTGAGACACGGCCCAGACTCCTACGGGAGGCAGCAGTGGGGAATATTGCACAATGGGGGAAACCCTGATGCAGCGACGCCGCGTGGAGGAAGAAGGTCTTCGGATTGTAAACTCCTGTTGTTGAGGAAGATAATGACGGTACTCAACAAGGAAGTGACGGCTAACTACGTGCCAGCAGCCGCGGTAAAACGTAGGTCACAAGCGTTGTCCGGAATTACTGGGTGTAAAGGGAGCGCAGGCGGGCGATCAAGTTGGAAGTGAAATCCATGGGCTCAACCCATGAACTGCTTTCAAAACTGGTCGTCTTGAGTAGTGCAGAGGTAGGCGGAATTCCCGGTGTAGCGGTGGAATGCGTAGATATCGGGAGGAACACCAGTGGCGAAGGCGGCCTACTGGGCACCAACTGACGCTGAGGCTCGAAAGTGTGGGTAGCAAACAGGATTAGATACCCTGGTAGTCCACACCGTAAACGATGATTACTAGGTGTTGGGAGATTGACCCTCTCAGTGCCGCAGTTAACACAATAAGTAATCCACCTGGGGAGTACGACCGCAAGGTTGAAACTCAAAGGAATTGACGGGGGCCCGCACAAGCAGTGGAGTATGTGGTTTAATTCGACGCAACGCGAAGAACCTTACCAAGTCTTGACATCCCTTGACGATGCTGGAAACAGCATTTCTCTTCGGAGCAAGGAGACAGGTGGTGCATGGTTGTCGTCAGCTCGTGTCGTGAGATGTTGGGTTAAGTCCCGCAACGAGCGCAACCCTTATGGTCAGTTACTACGCAAGAGGACTCTGGCCAGACTGCCGTTGACAAAACGGAGGAAGGTGGGGATGACGTCAAATCATCATGCCCTTTATGACTTGGGCTACACACGTACTACAATGGCGTTAAACAAAGAGAAGCAAGACCGCGAGGTGGAGCAAAACTCAGAAACAACGTCCCAGTTCGGACTGCAGGCTGCAACTCGCCTGCACGAAGTCGGAATTGCTAGTAATCGTGGATCAGCATGCCACGGTGAATACGTTCCCGGGCCTGTACACACCGCCC</td><td>null</td><td>b838479b61d2e5ddb461b29ef0daf5ab</td></tr><tr><td>8988436</td><td>URS0000892714</td><td>2015-10-20T18:04:07.000+0000</td><td>RNACEN</td><td>35DA5E2996B0151E</td><td>1393</td><td>GGCAGGCTTAACACATGCAAGTCGAGGGGCATCGGGAGGAAAGCTTGCTTTCCTTGCCGGCGACCGGCGCACGGGTGAGTAACACGTATGCAACCTGCCCTCTTCAGGGGGACAACCTTCCGAAAGGGAGGCTAATCCCGCGTATATCGGTTTCGGGCATCCGAGATCGAGGAAAGATTCATCGGAAGAGGATGGGCATGCGGCGCATTAGCTAGATGGCGGGGTAACGGCCCACCGTGGCGACGATGCGTAGGGGTTCTGAGAGGAAGGTCCCCCACACTGGTACTGAGACACGGACCAGACTCCTACGGGAGGCAGCAGTGAGGAATATTGGTCAATGGGAGAGATCCTGAACCAGCCAAGCCGCGTGAGGGAAGACGGCCCTATGGGTTGTAAACCTCTTTTGTCGGAGAACAAAACCCGGGACGTGTCCCGGACTGCGTGTATCCGAAGAAAAAGCATCGGCTAACTCCGTGCCAGCAGCCGCGGTAATACGGAGGAGGCGAGCGTTATCCGGATTTATTGGGTTTAAAGGGTGCGTAGGCGGTCCGATAAGTCAGTGGTAAAATTGCGGGGCTCAACCCCGTCGAGCCGTTGAAACTGGCAGACTTGAGTTGGCGAGAAGTACGCGGAATGCGCGGTGTAGCGGTGAAATGCATAGATATCGCGCAGAACTCCGATTGCGAAGGCAGCGTACCGGCGCCAGACTGACGCTGAGGCACGAAAGCGTGGGGATCGAACAGGATTAGATACCCTGGTAGTCCACGCAGTAAACGATGAATGCTGGTTGTCCGGGTCGAATGAGACCTGGGCGGCGAAGCGAAAGCGATAAGCATTCCACCTGGGGAGTACGCCGGCAACGGTGAAACTCAAAGGAATTGACGGGGGCCCGCACAAGCGGAGGAACATGTGGTTTAATTCGATGATACGCGAGGAACCTTACCCGGGCTCAAACGGGAGTGGAATGGACCAGAGACGGTTCAGCCTACGGGCCGCTTCCGAGGTGCTGCATGGTTGTCGTCAGCTCGTGCCGTGAGGTGTCGGCTTAAGTGCCATAACGAGCGCAACCCCCGCCGGCAGTTGCTAACGGGCAATGCCGAGGACTCTGCCGGGACTGCCGCCGCAAGGCGTGAGGAAGGCGGGGATGACGTCAAATCAGCACGGCCCTTACGTCCGGGGCGACACACGTGTTACAATGGGCGGTACAGCGGGAAGCCAGGCGGCGACGCCGAGCGGAACCCGAAAGCCGTTCTCAGTTCGGATCGGAGTCTGCAACCCGACTCCGTGAAGCTGGATTCGCTAGTAATCGCGCATCAGCCATGGCGCGGTGAATACGTTCCCGGGCCTTGTACACACCGCCCGTCAAGCCATGGGAGCCGGGGGTGCTTGAAGT</td><td>null</td><td>5ec3bffa9b452ffb8ca443e650982c65</td></tr><tr><td>8988438</td><td>URS0000892716</td><td>2015-10-20T18:04:07.000+0000</td><td>RNACEN</td><td>BCF74A8813456F64</td><td>1469</td><td>GATCCTGGCTCAGGACGAACGCTGGCGGCGTGCTTAACACATGCAAGTCGAGCGATGAAGTTTCCTTCGGGGAACGGATTAGCGGCGGACGGGTGAGTAACACGTGGGTAACCTGCCTCATAGAGGGGAATAGCCTTCCGAAAGGAAGATTAATACCGCATAAGATTGTAATGCCGCATGGCATAGCAATTAAAGGAGCAATCCGCTATGAGATGGACCCGCGTCGCATTAGCTAGTTGGTGAGGTAACGGCTCACCAAGGCGACGATGCGTAGCCGACCTGAGAGGGTGATCGGCCACATTGGGACTGAGACACGGCCCAGACTCCTACGGGAGGCAGCAGTGGGGAATATTGCACAATGGGGGAAACCCTGATGCAGCAACGCCGCGTGAGTGATGACGGTCTTCGGATTGTAAAGCTCTGTCTTTAGGGACGATAATGACGGTACCTAAGGAGGAAGCCACGGCTAACTACGTGCCAGCAGCCGCGGTAATACGTAGGTGGCAAGCGTTGTCCGGATTTACTGGGCGTAAAGGGAGCGTAGGTGGATATTTAAGTGGGATGTGAAATACCCGGGCTTAACCTGGGTGCTGCATTCCAAACTGGATATCTAGAGTGCAGGAGGGGAAAGGAGAATTCCTAGTGTAGCGGTGAAATGCGTAGAGATTAGGAAGAATACCAGTGGCGAAGGCGCCTTTCTGGACTGTAACTGACACTGAGGCTCGAAAGCGTGGGGAGCAAACAGGATTAGATACCCTGGTAGTCCACGCCGTAAACGATGAATACTAGGTGTAGGGGTTGTCATGACTTCTGTGCCGCCGCTAACGCATTAAGTATTCCGCCTGGGGAGTACGGTCGCAAGATTAAAACTCAAAGGAATTGACGGGGGCCCGCACAAGCAGCGGAGCATGTGGTTTAATTCGAAGCAACGCGAAGAACCTTACCTAGACTTGACATCTCCTGAATTACTCTGTAAAGGAGGAAGCCGCTTCGGCGGCAGGAAGACAGGTGGTGCATGGTTGTCGTCAGCTCGTGTCGTGAGATGTTGGGTTAAGTCCCGCAACGAGCGCAACCCTTATTGTTAGTTGCTACCATTTAGTTGAGCACTCTAGCGAGACTGCCCGGGTTAACCGGGAGGAAGGTGGGGATGACGTCAAATCATCATGCCCCTTATGTCTAGGGCTACACACGTGCTACAATGGTCGGTACAATGAGATGCAACCTCGCGAGAGTGAGCAAAACTATAAAACCGATCTCAGTTCGGATTGTAGGCTGAAACTCGCCTACATGAAGCTGGAGTTGCTAGTAATCGCGAATCAGAATGTCGCGGTGAATACGTTCCCGGGCCTTGTACACACCGCCCGTCACACCATGAGAGTTGGCAATACCCAAAGTTCGTGAGCTAACCGCAAGGAGGCAGCGACCTAAGGTAGGGTCAGCGATTGGGGTGAAGTCGTAACAAGGTACCC</td><td>null</td><td>c4caeb7bf1b894b7cb88c45160cfcb43</td></tr><tr><td>11884213</td><td>URS0000B556B5</td><td>2017-10-13T16:48:45.767+0000</td><td>rnacen</td><td>BD4A30AC14465F09</td><td>291</td><td>GTGGATTAGATACCCTGGTAGTCCACGCCCTAAACGATGGGCACTAGGTGTGGGAGGTATCGACCCCTTCCGTGCCGCAGCTAACGCATTAAGTGCCCCGCCTGGGGAGTACGGCCGCAAGGTTGAAACTCAAAGGAATTGACGGGGGCCCGCACAAGCGGTGGTGCATGTGGTTTAATTCGACGCAACGCGAAGAACCTTACCTGGGCTTGACATCCCTGGAACCTCCTGGAAACAGGGGGGTGCCCGCAAGGGAGCCAGGAGACAGGTGCTGCACGGCTGTCGACAGCT</td><td>null</td><td>3f3ba11000867ced5e5637662a81df95</td></tr><tr><td>8988439</td><td>URS0000892717</td><td>2015-10-20T18:04:07.000+0000</td><td>RNACEN</td><td>D1A1D3B20542C122</td><td>1410</td><td>TGATCCTGGCTCAGAATGAACGTTGGCGGCGTGGATTAGGCATGCAAGTCGTGCGAGAAGCCCTCTTCGGAGGGTGGACAGCGGCGAAAGGGAGAGTAACGCGTGGATACCAACCCCCAGGACCGGGATAGCCGCGGGAAACCGCGGGTAATACCGGATAATGTCTCCGGACCAAAGGTGTGATTCCGCCTGGGGACGGGTCCGCGTCCTACTAGCTTGTTGGTGAGGTAACGGCTCACCAAGGCGACGATGGGTACCGGGTGTGAGAGCATGGCCCGGCTCACTGGGACTGAGACACTGCCCAGACACCTACGGGTGGCTGCAGTCGAGAATCTTCGGCAATGGACGCAAGTCCGACCGAGCGACGCCGCGTGCGGGATGAAGGCCTTCGGGTTGTAAACCGCTGTCAGAGGGGAGGAAATCCTGTGGGGTTCTCTCCACAGGTTGACCTATCCTCAGAGGAAGTACGGGCTAAGTTCGTGCCAGCAGCCGCGGTAAGACGAACCGTACAAACGTTATTCGGAATCACTGGGCTTAAAGGGTGCGTAGGCGGCCCTGCAAGTTGGGTGTGAAAGCCCTCGGCTCAACCGAGGAATTGCGCCCAAAACTGCGGGGCTTGAGGGAGACAGAGGTGAGCGGAACTTAGGGTGGAGCGGTGAAATGCGTTGATATTCTGAGGAACACCTGTAGCGAAAGCGGCTCACTGGGTCTCTTCTGACGCTGAGGCACGAAAGCTAGGGGAGCGAACGGGATTAGATACCCCGGTAGTCCTAGCTGTAAACGTTGAGCACTTGGTCGGAGAGTCCTCCATAGCTTTCCGGTCGCAGCGAAAGTGATAAGTGCTCCGCCTGGGGAGTATGGTCGCAAGGCTGAAACTCAAAGGAATTGACGGGGGCTCACACAAGCGGTGGAGGATGTGGCTTAATTCGAGGCTACGCGTAGAACCTTATCCTGGGCTTGACATGCACGGATTAACCTCGTGAAAGCGAGGCGACGCCTTCGGGTGGAACGTGCACAGGTGCTGCATGGCTGTCGTCAGCTCGTGTCGTGAGATGTCGGGTTAAGTCCCTTAACGAGCGAAACCCTTGTCACTAGTTGCCAGCGGGTAATGCCGGGGACTCTAGTGAGACTGCCGGTGTTAAACCGGAGGAAGGTGGGGATGACGTCAAGTCCTCATGGCCTTTATGTCCAGGGCTGCACACGTCCTACAATGGCGCGTACAAAGGGAAGCGAACTCGCGAGAGCAAGCAAATCCCACAAAGCGCGCCCCAGTTCGGATTGCAGGCTGCAACTCGCCTGCATGAAGCCGGAATCGCTAGTAATCGCAGGTCAGCATACTGCGGTGAATATGTTCCTGAGCCTTGTACACACCGCCCGTCAAGCCACGAAAGTGGGGAGCATCCGAAGTCG</td><td>null</td><td>b7b305dbf66bdabf1b02b87fd5b848b8</td></tr><tr><td>8988442</td><td>URS000089271A</td><td>2015-10-20T18:04:07.000+0000</td><td>RNACEN</td><td>583EE5BDABBD782A</td><td>1374</td><td>GGAGCTTGCTCCATGAGACCGGCGCACGGGTGCGTAACGCGTATGCAACCTACCTTTATCTGGGGGATAGCCCGGAGAAATCCGGATTAATACCGCATAAAATCACAGAATGGCATTATTCAATGATCAAACATTAATGGGATAGAGATGGGCATGCGTGTCATTAGCTAGTTGGCGGGGTAACGGCCCACCAAGGCGACGATGACTAGGGGATCTGAGAGGATGACCCCCCACACTGGTACTGAGACACGGACCAGACTCCTACGGGAGGCAGCAGTAAGGAATATTGGTCAATGGAGGCAACTCTGAACCAGCCATGCCGCGTGCAGGAAGACTGCCCTATGGGTTGTAAACTGCTTTTATCCGGGAATAAACCACGATACGTGTATTGTGCTGAATGTACCGGAAGAATAAGGATCGGCTAACTCCGTGCCAGCAGCCGCGGTAATACGGAGGATCCAAGCGTTATCCGGATTTATTGGGTTTAAAGGGTGCGTAGGCGGCCCGTTAAGTCAGGGGTGAAAGACGGTAGCTCAACTATCGCAGTGCCTTTGATACTGACGGGCTTGAATGAACTAGAGGTAGGCGGAATGAGACAAGTAGCGGTGAAATGCATAGATATGTCTCAGAACACCGATTGCGAAGGCAGCTTACTATGGTTTAATTGACGCTGAGGCACGAAAGCGTGGGGATCAAACAGGATTAGATACCCTGGTAGTCCACGCCCTAAACGATGAACACTCGCTGTTGGCGATACACAGTCAGCGGCTAAGCGAAAGCGTTAAGTGTTCCACCTGGGGAGTACGGTCGCAAGATTGAAACTCAAAGGAATTGACGGGGGCCCGCACAAGCGGAGGAGCATGTGGTTTAATTCGATGATACGCGAGGAACCTTACCCGGGCTTGAAAGTTAGTGAATCATTTAGAGATAAATGAGTGAGCAATCACACGAAACTAGGTGCTGCATGGCTGTCGTCAGCTCGTGCCGTGAGGTGTTGGGTTAAGTCCCGCAACGAGCGCAACCCCTATGTTTAGTTGCCAGCACGTTAAGGTGGGGACTCTAAACAGACTGCCTGTGCAAACAGAGAGGAAGGAGGGGACGACGTCAAGTCATCATGGCCCTTACGTCCGGGGCTACACACGTGCTACAATGGATGGTACAGCGGGCAGCTACATAGCAATATGATGCGAATCTCACAAAGCCATTCACAGTTCGGATTGGGGTCTGCAACTCGACCCCATGAAGTTGGATTCGCTAGTAATCGCGTATCAGCAATGACGCGGTGAATACGTTCCCGGGCCTTGTACACACCGCCCGTCAAGCCATGGAAGTTGGGGGTACCTAAAGTATGTAACCGCAAGGAGCGTCCTAGGG</td><td>null</td><td>c4caf4c8610fe0555d87abaf75a6e16d</td></tr><tr><td>8988445</td><td>URS000089271D</td><td>2015-10-20T18:04:07.000+0000</td><td>RNACEN</td><td>FFE26CB5A0DCA1F0</td><td>1334</td><td>GACTGGCGCACGGGTGAGTAACGCGTAGACAACCTGCCTATAGCAAGGGGATAACCACCGGAAACGGTGGCTAATACCGTATAATGCAGCGGGGCCGCATGGCCACAGTTGTTAAAGTTAAGGCGGCTATAGATGGGTCTGCGTGCCATTAGTTAGTTGGTAGGGTAACGGCCTACCAAGGCGATGATGGCTAGGGGGTCTGAGAGGATGATCCCCCACACTGGAACTGAGACACGGTCCAGACTCCTACGGGAGGCAGCAGTGAGGAATCTTGCGCAATGGGCGAAAGCCTGACGCAGCCACGCCGCGTGCCGGAAGACGGCCCTATGGGTTGTAAACGGCTTTTGGTTGGGAAGAACAGCCCTGTTTCGATGGGGTTTGACGGTACCAATTGAATCAGCACCGGCTAACTCCGTGCCAGCAGCCGCGGTAATACGGAGGGTGCAAGCGTTGTCCGGAATCATTGGGTGTAAAGGGTGCGCAGGCTGGCTTTTAAGTCTGGGGTGAAATCTTGCCGCTTAACGGTAAAATGGCCCTGGATACTGAAAGTCTTGAGTCTGACAGAGGTCGGTGGAATTCGTAGTGTAGCGGTGAAATGCATAGATATTACGAAGAACATCAGTGGCGAAGGCGGCCGGCTGGGTCAGTATTGACGCTCAGGCACGAGAGCGTGGGGAGCGAACAGGATTAGATACCCTGGTAGTCCACGCTGTAAACGATGTATGCTAGTTGTTGGGCCTATGGGTTCAGTGACGCAGTTAACGCAGTAAGCATACCACCTGGGGAGTACGTTCGCAAGAATGAAACTCAAAGGAATTGACGGGGGCCCGCACAAGCGGTGGAGCATGTGGCTTAATTCGATGCAACGCGAAGAACCTTACCCGGGCTAAATCCGACTTGTTACCTCCCGAAACGGAGGGTCCCTTCGGGGCGGGTCGGAAGGTGCTGCATGGCTGTCGTCAGCTCGTGCCGTGAGGTGTTGCCTTAAGTGGCGCAACGAGCGCAACCCCTGTGGTCAGTTACCAGCACGTTGTGGTGGGGACTCTGGCCAGACTGCCTACGCAAGTAGTGAGGAAGGTGGGGACGACGTCAAGTCATCATGGCCCTTATGTCCGGGGCTGCACACGTGCTACAATGGATGGTACAGAGGGAAGCTACCCGGCGACGGGATGCAGATCTCGAAAGCCATTCTCAGTTCGGATTGGAGTCTGCAACTCGACTCCATGAAGGTGGAATCGCTAGTAATCGCGTATCAGCAACGACGCGGTGATACGTTCCCGGGCCTTGTACACACCGCCCGTCAAGCGATGGAAGTCAGGAGTACCTGATGTCGG</td><td>null</td><td>fe5d1affd8c6ff5c030591bb48fad1f8</td></tr><tr><td>8989070</td><td>URS000089298E</td><td>2015-10-20T18:04:07.000+0000</td><td>RNACEN</td><td>01828190B58476F8</td><td>1483</td><td>GTTTGATCCTGGCTCAGATTGAACGCTGGCGGCATGCCTTACACATGCAAGTCGAACGGTAACAGGTTAAGCTGACGAGTGGCGAACGGGTGAGTAATATATCGGAACGTGCCCAGTCGTGGGGGATAACTGCTCGAAAGAGCAGCTAATACCGCATACGACCTGAGGGTGAAAGCGGGGGATCGCAAGACCTCGCGCGATTGGAGCGGCCGATATCAGATTAGGTAGTTGGTGGGGTAAAGGCTCACCAAGCCAACGATCTGTAGCTGGTCTGAGAGGACGACCAGCCACACTGGGACTGAGACACGGCCCAGACTCCTACGAGAGGCAGCAGTGGGGAATTTTGGACAATGGGCGCAAGCCTGATCCAGCCATGCCGCGTGCGGGAAGAAGGCCTTCGGGTTGTAAACCGCTTTTGTCAGGGAAGAAAAGGTTCTGGTTAATACCTGGGACTCATGACGGTACCTGAAGAATAAGCACCGGCTAACTACGTGCCAGCAGCCGCGGTAATACGTAGGGTGCAAGCGTTAATCGGAATTACTGGGCGTAAAGCGTGCGCAGGCGGTTATGCAAGACAGATGTGAAATCCCCGGGCTCAACCTGGGAACTGCATTTGTGACTGCATAGCTAGAGTACGGTAGAGGGGGGATGGAATTCCGCGTGTAGCAGTGAAATGCGTAGATATGCGGAGGAACACCGATGGCGAAGGCAATCCCCTGGACCTGTACTGACGCTCATGCACGAAAGCGTGGGGAGCAAACAGGATTAAATACCCTGGTAGTCCACGCCCTAAACGATGTCAACTGGTTGTTGGGAGGGTTTCTTCTCAGTAACGAAGCTAACGCGTGAAGTTGACCGCCTGGGGAGTACGGCCGCAAGGTTGAAACTCAAAGGAATTGACGGGGACCCGCACAAGCGGTGGATGATGTGGTTTAATTCGATGCAACGCGAAAAACCTTACCTACCCTTGACATGTCTGGAATCCTGAAGAGATTTGGGAGTGCTCGAAAGAGAGCCAGAACACAGGTGCTGCATGGCCGTCGTCAGCTCGTGTCGTGAGATGTTGGGTTAAGTCCCGCAACGAGCGCAACCCTTGTCATTAGTTGCTACGAAAGGGCACTCTAACGAGACTGCCGGTGACAAACCGGAGGAAGGTGGGGATGACGTCAGGTCATCATGGCCCTTATGGGTAGGGCTACACACGTCATACAATGGCCGGGACAGAGGGCTGCCAACCCGCGAGGGGGAGCTAATCCCAGAAACCCGGTCGTAGTCCGGATCGTAGTCTGCAACTCGACTGCGTGAAGTCGGAATCGCTAGTAATCGCGGATCAGCTTGCCGCGGTGAATACGTTCCCGGGTCTTGTACACACCGCCCGTCACACCATGGGAGCGGGTTCTGCCAGAAGTAGTTAGCCTAACCGCAAGGAGGGCGATTACCACGGCAGGGTTCGTGACTGGGGTGAAGTCGTAACAAGGTAACC</td><td>null</td><td>c53c1b71bd44c8f3b24467f7194692bd</td></tr><tr><td>8989072</td><td>URS0000892990</td><td>2015-10-20T18:04:07.000+0000</td><td>RNACEN</td><td>3420FEC809FA20D6</td><td>1498</td><td>TAGAGTTTGATCCTGGCTCAGATTGAACGCTGGCGGCAGGCTTAACACATGCAAGTCGAGCGGTAACAGGTCCTTCGGGATGCTGACGAGCGGCGGACGGGTGAGTAATGCTTAGGAATCTGCCTGGTAGTGGGGGATAGCCCGGGGAAACCCGGATTAATACCGCGTACGCCCTTCGGGGGAAAGCAGGGGATCTTCGGACCTTGCGCTATCAGATGAGCCTAAGCCGGATTAGCTAGTTGGTGGGGTAAAGGCCCACCAAGGCGACGATCCGTAGCTGGTCTGAGAGGATGATCAGCCACATCGGGACTGAGACACGGCCCGAACTCCTACGGGAGGCAGCAGTGGGGAATATTGGACAATGGGGGCAACCCTGATCCAGCCATGCCGCGTGTGTGAAGAAGGCTTTCGGGTTGTAAAGCACTTTCAGTGAGGAGGAAGGCCTTAAGGTTAATACCCTTGAGGATTGACGTTACTCACAGAAGAAGCACCGGCTAACTCCGTGCCAGCAGCCGCGGTAATACGGAGGGTGCAAGCGTTAATCGGAATTACTGGGCGTAAAGCGCGCGTAGGTGGTTTGATAAGCGAGATGTGAAAGCCCCGGGCTTAACCTGGGAACGGCATTTCGAACTGTCAGGCTAGAGTGTGGTAGAGGGGTGTGGAATTTCCTGTGTAGCGGTGAAATGCGTAGATATAGGAAGGAACACCAGTGGCGAAGGCGGCACCCTGGACCAACACTGACACTGAGGTGCGAAAGCGTGGGGAGCAAACAGGATTAGATACCCTGGTAGTCCACGCCGTAAACGATGTCAACTAGCCGTTGGGACTCTTGAAGTCTTAGTGGCGCAGCTAACGCACTAAGTTGACCGCCTGGGGAGTACGGCCGCAAGGTTAAAACTCAAATGGATTGACGGGGGCCCGCACAAGCGGTGGAGCATGTGGTTTAATTCGACGCAACGCGAAGAACCTTACCTGGCCTTGACATGCTGAGAACTTTCCAGAGATGGATTGGTGCCTTCGGGAACTCAGACACAGGTGCTGCACGGCCGTCGTCAGCTCGTGTCGTGAGATGTTGGGTTAAGTCCCGTAACGAGCGCAACCCCTATCCCTAGTTGCTAGCAGTTTGGCTGAGAACTCTAGGGAGACTGCCGGTGACAAACCGGAGGAAGGTGGGGATGACGTCAGGTCATCATGGCCCTTACGGCCAGGGCTACACACGTGCTACAATGGCGCGCACAGAGGGCTGCAAACCCGCGAGGGGGAGCCAATCTCACAAAACGCGTCGTAGTCCGGATCGCAGTCTGCAACTCGACTGCGTGTAGTCGGAATCGCTAGTAATCGTGAATCAGAATGTCACGGTGAATACGTTCCCGGGCCTTGTACACACCGCCCGTCACACCATGGGAGTGGATTGCACCAGAAGTGGTTAGTCTAACCTTCGGGAGGACGATCACCACGGTGTGGTTCATGACTGGGGTGAAGTCGTAACAAGGTAACC</td><td>null</td><td>5f510a658addfaa40e55a51c3d35baf6</td></tr><tr><td>12686425</td><td>URS0000C19459</td><td>2017-10-19T09:46:04.148+0000</td><td>rnacen</td><td>FDA1C1454BBFC30F</td><td>46</td><td>GCACTGTTGAGGAGTCCAACAACGGGACGAAACGGCCGTCCAGTGC</td><td>null</td><td>28e1677b6931d30393113b5bc68f45de</td></tr><tr><td>26726224</td><td>URS000197CF50</td><td>2019-12-05T22:17:38.396+0000</td><td>rnacen</td><td>C8988C2FA515BD7D</td><td>14</td><td>AGCATAAGCAGGAA</td><td>null</td><td>089f82fa22af3fcd029a28a3f1178fd1</td></tr><tr><td>8989074</td><td>URS0000892992</td><td>2015-10-20T18:04:07.000+0000</td><td>RNACEN</td><td>DACF9351D93713E6</td><td>1398</td><td>AGAGTTTGATCCTGGCTCAGGATGAACGCTAGCGATAGGCTTAACACATGCAAGTCGAGGGGCAGCATGAACTTAGCTTGCTAAGTTTGATGGCGACCGGCGCACGGGTGAGTAACGCGTATGCAACTTACCTATCAGAGGAGAATAGCTCATCGAAAGATGAATTAATGCTCCATAAAACAGGGGTCCCGCATGGGAATATTTGTTAAAGATTCATCGCTGATAGATAGGCATGCGTTCCATTAGGCAGTTGGCGGGGTAACGGCCCACCAAACCGACGATGGATAGGGGTTCTGAGAGGAAGGTCCCCCACATTGGTACTGAGACACGGACCAAACTCCTACGGGAGGCAGCAGTGAGGAATATTGGTCAATGGCCGAGAGGCTGAACCAGCCAAGTCGCGTGAAGGATGAAGGATCTATGGTTTGTAAACTTCTTTTATACGGGAATAAAGTGAGTCACGTGTGGCTTTTTGTATGTACCGTATGAATAAGCATCGGCTAACTCCGTGCCAGCAGCCGCGGTAATACGGAGGATGCGAGCGTTATCCGGATTTATTGGGTCTAAAGGGTGCGTAGGTGGTCTTTTAAGTCAGCGGTGAAAGTCTGTGGCTCAACCATAAAATCGCCATTGAAACTGGGAGGCTTGAGTATGTTTGAGGTACGCGGAATGCGTGGTGTAGCCGTGAAATGCATAGATATCACGCAGAACTCCGATTGCGAAGGCAGCTTGCCAAGCCATAACTGACACTGAAGCACGAAAGCGTGGTATCAACAGGATTAGATACCCTGGTAGTCCACGCAGTAAACGATGATTACTAGGAGTTTGCGATATAATGTAAGCTCTACAGCGAAAGCGTTAAGTAATCCACCTGGGGAGTACGCCGGCAACGGTGAAACTCAAAGGAATTGACGGGGGCCCGCACAAGCGGAGGAACATGTGGTTTAATTCGATGATACGCGAGGAACCTTACCCGGGTTTGAACGCAGTCTGACCGCCGATGAAAGTCGGCTTCTAGCAATAGCGGATTGCGAGGTGCTGCATGGTTGTCGTCAGCTCGTGCCGTGAGGTGTCGGCTTAAGTGCCATAACGAGCGCAACCCTTGCCGTTAGTTACTAACAAGTTATGTTGAGGACTCTAGCGGGACTGCCAGCGTAAGCTGTGAGGAAGGCGGGGATGACGTCAAATCAGCACGGCCCTTACATCCGGGGCGACACACGTGTTACAATGGCGTGGACAAAGAGCAGCCACTTGGTGACAAGGAGCTAATCTCCAAACCACGTCTCAGTTCGGATCGGAGTCTGCAACTCGACTCCGTGAAGCTGGATTCGCTAGTAATCGCGCATCAGCCATGGCGCGGTGAATACATTCCCGGGCGCTTGTACACACCGCCCGTCA</td><td>null</td><td>c53d388da107475aa527400066b3f440</td></tr><tr><td>8989075</td><td>URS0000892993</td><td>2015-10-20T18:04:07.000+0000</td><td>RNACEN</td><td>F7DCBF05EF1D283F</td><td>1412</td><td>GGACGAACGCTGGCGGCGCGCCTAACACATGCAAGTCGAACGAGAGAGAAGGAGCTTGCTTCTTCGATCGAGTGGCGAACGGGTGAGTAACGCGTGAGGAACCTGCCTCAAAGAGGGGGACAACAGTTGGAAACGACTGCTAATACCGCATAAGCCCACGGGTCGGCATCGACCTGAGGGAAAAGGAGTGATCCGCTTTGAGATGGCCTCGCGTCCGATTAGCTAGTTGGTGAGGTAATGGCCCACCAAGGCGACGATCGGTAGCCGGACTGAGAGGTTGAACGGCCACATTGGGACTGAGACACGGCCCAGACTCCTACGGGAGGCAGCAGTGGGGAATATTGCACAATGGGGAAACCCTGATGCAGCGACGCCGCGTGGAGGAAGAAGGTCTTCGGATTGTAAACTCCTGTTGTTGAGGAAGATAATGACGGTACTCAACAAGGAAGTGACGGCTAACTACGTGCCAGCAGCCGCGGTAAAACGTAGGTCACAAGCGTTGTCCGGAATTACTGGGTGTAAAGGGAGCGCAGGCGGGAAGACAAGTTGGAAGTGAAATCTATGGGCTCAACCCATAAACTGCTTTCAAAACTGTTTTTCTTGAGTAGTGCAGAGGTAGGCGGAATTCCCGGTGTAGCGGTGGAATGCGTAGATATCGGGAGGAACACCAGTGGCGAAGGCGGCCTACTGGGCACCAACTGACGCTGAGGCTCGAAAGTGTGGGTAGCAAACAGGATTAGATACCCTGGTAGTCCGCACCGTAAACGATGATTACTAGGTGTTGGAGGATTGACCCCTTCAGTGCCGCAGTTAACACAATAAGTAATCCACCTGGGGAGTACGACCGCAAGGTTGAAACTCAAAGGAATTGACGGGGGCCCGCACAAGCAGTGGAGTATGTGGTTTAATTCGACGCAACGCGAAGAACCTTACCAAGTCTTGACATCCCTTGACGAACATAGAAATATGTTTTCTCTTCGGAGCAAGGAGACAGGTGGTGCATGGTTGTCGTCAGCTCGTGTCGTGAGATGTTGGGTTAAGTCCCGCAACGAGCGCAACCCTTATGGTCAGTTACTACGCAAGAGGACTCTGGCCAGACTGCCGTTGACAAAACGGAGGAAGGTGGGGATGACGTCAAATCATCATGCCCTTTATGACTTGGGCTACACACGTACTACAATGGCGTTAAACAAAGAGAAGCAAGACCGCGAGGTGGGGCAAAACTCAGAAACAACGTCCCAGTTCGGACTGCAGGCTGCAACTCGCCTGCACGAAGTCGGAATTGCTAGTAATCGTGGATCAGCATGCCACGGTGAATACGTTCCCGGGCCTTGTACACACCGCCCGTCACACCATGAGAGCCGGGGGGACCCGAAGTCGGAAGTCTAACCGCAAGGAGGACGCCGCCGAAG</td><td>null</td><td>feea1d247af3f2d78e0095a152ba6afe</td></tr><tr><td>8989077</td><td>URS0000892995</td><td>2015-10-20T18:04:07.000+0000</td><td>RNACEN</td><td>343EB4AB786636F4</td><td>1364</td><td>GCCTAACACATGCAAGTCGAACGGCAGCATCAAGAGAGCTTGCTCTCTTGGATGGCGAGTGGCGGACGGGTGAGGAATACATCGGAATCTGCCTATTTGTGGGGGATAACGTAGGGAAACTTACGCTAATACCGCATACGACCTACGGGTGAAAGCGGAGGACCTTCGGGCTTCGCGCAGATAGATGAGCCGATGTCGGATTAGCTAATTGGCGGGGTAATGGCCCACCAAGGCGACGATCCGTAGCTGGTCTGAGAGGATGATCAGCCACACTGGAACTGAGACACGGTCCAGACTCCTACGGGAGGCAGCAGTGGGGAATATTGGACAATGGGCGCAAGCCTGATCCAGCCATGCCGCGTGGGTGAAGAAGGCCTTCGGGTTGTAAAGCCCTTTTGTTGGGAAAGAAAAGCAATCGGTTAATACCCGGTTGTCATGACGGTACCCAAAGAATAAGCACCGGCTAACTTCGTGCCAGCAGCCGCGGTAATACGAAGGGTGCAAGCGTTACTCGGAATTACTGGGCGTAAAGCGTGCGTAGGTGGTGATTTAGGTCAGATGTGAAAGCCCTGGGCTCAACCTGGGAACTGCATTTGATACTGGGTCACTAGAGTGCGGTAGAGGATAGCGGAATTCCTGGTGTAGCAGTGAAATGCGTAGAGATCAGGAGGAACATCCGTGGCGAAGGCGGCTATCTGGGCCAGCACTGACACTGAGGCACGAAAGCGTGGGGAGCAAACAGGATTAGATACCCTGGTAGTCCACGCCCTAAACGATGCGAACTGGATGTTGGGTGCAATTTGGCACTCAGTATCGAAGCTAACGCGTTAAGTTCGCCGCCTGGGGAGTACGGTCGCAAGACTGAAACTCAAAGGAATTGACGGGGGCCCGCACAAGCGGTGGAGTATGTGGTTTAATTCGATGCAACGCGCAGAACCTTACCTGGCCTTGACATGCACGGAACTTTCCAGAGATGGATTGGTGCCTTCGGGAACCGTGACACAGGTGCTGCATGGCTGTCGTCAGCTCGTGTCGTGAGATGTTGGGTTAAGTCCCGCAACGAGCGCAACCCCTGTCCTTAGTTGCCAGCACGTAATGGTGGGAACTCTAAGGAGACCGCCGGTGACAAACCGGAGGAAGGTGGGGATGACGTCAAGTCATCATGGCCCTTACGGCCAGGGCTACACACGTACTACAATGGTAGGGACAGAGGGCTGCAAGCCGGCGACGGTGAGCCAATCCCAGAAACCCTATCTCAGTCCGGATTGGAGTCTGCAACTCGACTCCATGAAGTCGGAATCGCTAGTAATCGCAGATCAGCATTGCTGCGGTGAATACGTTCCCGGGCCTTGTACACACCGCCC</td><td>null</td><td>b857e5a34addf3c208602458b33f9c67</td></tr><tr><td>8989079</td><td>URS0000892997</td><td>2015-10-20T18:04:07.000+0000</td><td>RNACEN</td><td>265B940C5EE6238E</td><td>1407</td><td>GAGTTTGATCATGGCTCAGGACGAACGCTNGGCGGCGTGCCTAATACATGCAAGTAGAACGCTGAAGAGAGGAGCTTGCTCTTCTTGGATGAGTTGCGAACGGGTGAGTAACGCGTAGGTAACCTGCCTGGTAGCGGGGGATAACTATTGGAAACGATAGCTAATACCGCATAAAATTGATTATTGCATGATAATTAATTGAAAGATGCAATTGCATCACTACCAGATGGACCTGCGTTGTATTAGCTAGTTGGTGAGGTAACGGCTCACCAAGGCGACGATACATAGCCGACCTGAGAGGGTGATCGGCCACACTGGGACTGAGACACGGCCCAGACTCCTACGGGAGGCAGCAGTAGGGAATCTTCGGCAATGGGGGGAACCCTGACCGAGCAACGCCGCGTGAGTGAAGAAGGTTTTCGGATCGTAAAGCTCTGTTGTAAGAGAAGAACGGGTGTGAGAGTGGAAAGTTCACACTGTGACGGTATCTTACCAGAAAGGGACGGCTAACTACGTGCCAGCAGCCGCGGTAATACGTAGGTCCCGAGCGTTGTCCGGATTTATTGGGCGTAAAGCGAGCGCAGGCGGTTAGATAAGTCTGAAGTTAAAGGCTGTGGCTTAACCATAGTATGCTTTGGAAACTGTTTAACTTGAGTGCAGAAGGGGAGAGTGGAATTCCATGTGTAGCGGTGAAATGCGTAGATATATGGAGGAACACCGGTGGCGAAAGCGGCTCTCTGGTCTGTAACTGACGCTGAGGCTCGAAAGCGTGGGGAGCAAACAGGATTAGATACCCTGGTAGTCCACGCCGTAAACGATGAGTGCTAGGTGTTAGGCCCTTTCCGGGGCTTAGTGCCGCAGCTAACGCATTAAGCACTCCGCCTGGGGAGTACGACCGCAAGGTTGAAACTCAAAGGAATTGACGGGGGCCCGCACAAGCGGTGGAGCATGTGGTTTAATTCGAAGCAACGCGAAGAACCTTACCAGGTCTTGACATCCCTCTGACCGCTCTAGAGATAGAGTTTTCCTTCGGGACAGAGGTGACAGGTGGTGCATGGTTGTCGTCAGCTCGTGTCGTGAGATGTTGGGTTAAGTCCCGCAACGAGCGCAACCCCTATTGTTAGTTGCCATCATTGAGTTGGGCACTCTAGCGAGACTGCCGGTAATAAACCGGAGGAAGGTGGGGATGACGTCAAATCATCATGCCCCTTATGACCTGGGCTACACACGTGCTACAATGGCTGGTACAACGAGTCGCAAGCCGGTGACGGCAAGCTAATCTCTGAAAGCCAGTCTCAGTTCGGATTGTAGGCTGCAACTCGCCTACATGAAGTCGGAATCGCTAGTAATCGCGGATCAGCACGCCGCGGTGAATACGTTCCCGGGCCTTGTACACACCGCCCGTCA</td><td>null</td><td>feecddf5a96103bb57f05e1d889f1a46</td></tr><tr><td>8989082</td><td>URS000089299A</td><td>2015-10-20T18:04:07.000+0000</td><td>RNACEN</td><td>DC23163C634BC6A0</td><td>1473</td><td>ATTCCGGTTGATCCTGCCGGAGGTCATTGCTATTGGAGTCCGATTTAGCCATGCTAGTTGCACGAGTTTAGACTCGTAGCAGATAGCTCAGTAACACGTGGCCAAACTGCCCTATAGACGGCGATAACCTCGGGAAACTGAGGCTAATAGCCGATACCGTTCACTACCTGGAGTGGTGTGAACGCGAAACGTTCAGGCGCTATAGGATGTGGCTGCGGCCGATTAGGTAGACGGTGGGGTAACGGCCCACCGTGCCCATAATCGGTACGGGTTGTGAGAGCAAGAGCCCGGAGACGGTATCTGAGACAAGATACCGGGCCCTACGGGGCGCAGCAGGCGCGAAACCTTTACACTGCACGCGAGTGCGATAAGGGGACTCCGAGTGCGAGGGCATATAGTCCTCGCTTTTCACCACCGTAAGGTGGTGGTGGAATAAGTGCTGGGCAAGACCGGTGCCAGCCGCCGCGGTAATACCGGCAGCACGAGTGATGACCGCTATTATTGGGCCTAAAGCGTCCGTAGCTGGCCAGGCAAGTCTATCGGGAAATCTGCGCGCTTAACGCGCAGGCGTCCGGTGGAAACTGTGTGGCTTGGGACCGGAAGACCAGAGGGGTACGTCCGGGGTAGGAGTGAAATCCCGTAATCCTGGACGGACCACCGGTGGCGAAAGCGCCTCTGGAAGACGGATCCGACGGTGAGGGACGAAAGCTCGGGTCACGAACCGGATTAGATACCCGGGTAGTCCGAGCTGTAAACGATGTCTGCTAGGTGTGGCACAGGCTACGAGCCTGTGCTGTGCCGTAGGGAAGCCGAGAAGCAGACCGCCTGGGAAGTACGTCCGCAAGGATGAAACTTAAAGGAATTGGCGGGGGAGCACTACAACCGGAGGAGCCTGCGGTTTAATTGGACTCAACGCCGGACATCTCACCAGCATCGACAATGTGCAGTGAAGGTCAGATTGATGATCTTACTGGAGCCATTGAGAGGAGGTGCATGGCCGCCGTCAGCCCGTACCGTGAGGCGTCCTGTTAAGTCAGGCAACGAGCGAGACCCACACTCTTAATTGCCAGCAACACCCTTGTGGTGGTTGGGTACATTAGGAGGACTGCCAGTGCCAAACTGGAGGAAGGAATGGGCAACGGTAGGTCAGTATGCCCCGAATGTGCTGGGCGACACGCGGGCTACAATGGCCGAGACAGTGGGATGCAACCCCGAAAGGGGACGCTAATCTCCGAAACTCGGTCGTAGTTCGGATTGAGGACTGAAACTCGTCCTCATGAAGCTGGATTCGGTGGTAATCGCGCTTCAGAAGAGCGCGGTGAATACGTCCCTGCTCCTTGCACACACCGCCCGTCAAAGCACCCGAGTGGGGTCCGGATGAGGCCCTGATTCCAGGGTCGAATCTGGGCTCCGCAAGGGGGCTTAAGTCGTAACAAGGTAGCCGTAGGGGAATCTGCGGCTGGATCACCTCCT</td><td>null</td><td>c53fe2d1d3dbbc033623b5a1af1c86d9</td></tr><tr><td>12686426</td><td>URS0000C1945A</td><td>2017-10-19T09:46:04.148+0000</td><td>rnacen</td><td>2668B6BEE64730A3</td><td>135</td><td>TAGGTACTCCCTCTGTCCGAAAATACTTGTCATCAAAATGGATAAAAAGATATGTATCTAGAACTAAAATACATCTAGATACATCCCCTTTTATCCATTATGATGACAAGTATTTCCGGACGGAGGGAGTAGGTA</td><td>null</td><td>28e17e39bd60a818c5a79a5bd6e0b673</td></tr><tr><td>39941958</td><td>URS0002617746</td><td>2022-11-02T17:29:57.010+0000</td><td>rnacen</td><td>89CADECADECADEA6</td><td>23</td><td>GTGTGTGTGTGTGTGTGTGTGTG</td><td>null</td><td>0900ed3dd46ec4629f55bb04531273c7</td></tr><tr><td>8989088</td><td>URS00008929A0</td><td>2015-10-20T18:04:07.000+0000</td><td>RNACEN</td><td>D49D4B2A1FC3E20C</td><td>1402</td><td>CTAATACATGCAAGTCGGACGGGATCTAAGATTAAGCTTGCTTAATTTTAGTGAGAGTGGCGCACGGGTGCGTAACGCGTGAGCAACCTACCCATATCAGGGGGATAGCCCGGTGAAAATCGGATTAACACCGCATGACACAGCGACTCGGCATCGAGATGTTGTTAAATATTTATAGGATATGGATGGGCTCGCGTGACATTAGCTAGTTGGTAAGGTAACGGCTTACCAAGGCAACGATGTCTAGGGGCTCTGAGAGGAGAATCCCCCACACTGGTACTGAGACACGGACCAGACTCCTACGGGAGGCAGCAGTAAGGAATATTGGTCAATGGAGGGAACTCTGAACCAGCCATGCCGCGTGCAGGATGACTGCCCTATGGGTTGTAAACTGCTTTTGTCCAGGAATAAACCCCTCTACGTGTAGAGGCTTGAATGTACTGGAAGAATAAGGATCGGCTAACTCCGTGCCAGCAGCCGCGGTAATACGGAGGATCCGAGCGTTATCCGGATTTATTGGGTTTAAAGGGTGCGTAGGCGGCCTATTAAGTCAGGGGTGAAAGACGGCAGCTTAACTGTCGCAGTGCCTTTGATACTGATGGGCTTGAATGTGGTTGAAGATGGCGGAATGAGACAAGTAGCGGTGAAATGCATAGATATGTCTCAGAACTCCGATTGCGAAGGCAGCTGTCTAAGTCATTATTGACGCTGATGCACGAAAGCGTGGGGATCGAACAGGATTAGATACCCTGGTAGTCCACGCCCTAAACGATGATAACTCGATGTTGGCGATATACCGTCAGCGTCTTAGCGAAAGCGTTAAGTTATCCACCTGGGGAGTACGCCCGCAAGGGTGAAACTCAAAGGAATTGACGGGGGCCCGCACAAGCGGAGGAGCATGTGGTTTAATTCGATGATACGCGAGGAACCTTACCCGGGCTTGAAAGTTACTGAATTATCTAGAGATAGATAAGTCCTTCGGGACAGGAAACTAGGTGCTGCATGGCTGTCGTCAGCTCGTGCCGTGAGGTGTTGGGTTAAGTCCCGCAACGAGCGCAACCCCTATGTTTAGTTGCCAGCATGTAATGATGGGGACTCTAAACAGACTGCCAGCGTAAGCTGTGAGGAAGGTGGGGACGACGTCAAGTCATCATGGCCCTTACGTCCGGGGCTACACACGTGCTACAATGGATGGTACAGCGGGCAGCTACACAGTAATGTGATGCTAATCTCGAAAAGCCATTCACAGTTCGGATTGAGGTCTGCAACTCGACCTCATGAAGTTGGATTCGCTAGTAATCGCGTATCAGCAATGACGCGGTGAATACGTTCCCGGGCCTTGTACACACCGCCCGTCAAGCCATGAAAGTTGGGGGTGCCTAAAGCATGTAACCGCAAGGAG</td><td>null</td><td>5f576e288dbd10a3043a1839e7b7d937</td></tr><tr><td>8988585</td><td>URS00008927A9</td><td>2015-10-20T18:04:07.000+0000</td><td>RNACEN</td><td>4037ADB8ED260A0D</td><td>1402</td><td>GGCAGGCCTAACACATGCAAGTCGAGGGGTAACGATGGAGCTTGCTCCATGCGACGACCGGCGCACGGGTGAGTAACGCGTTTGCAACCTACCTCTAACTGGAAGATAGCCCGAAGAAATTCGGATTAATATTCCATAACACTATGATTTGGCATCTTTTTATAGTTAAAGTTTCGACGGTTAGAGATGGGCATGCGTGACATTAGCTAGTTGGTGAGGTAACGGCTCACCAAGGCCACGATGTCTAGGGGGTCTGAGAGGATGGTCCCCCACACTGGTACTGAGACACGGACCAGACTCCTACGGGAGGCAGCAGTGAGGAATATTGGTCAATGGGCGAAAGCCTGAACCAGCCATGCCGCGTGAAGGATGACGGCCCTACGGGTTGTAAACTTCTTTTGTTTGAGAAGAAACCTCCCTACGTGTAGGGGGCTGACGGTATCGAACGAATAAGCATCGGCTAACTCCGTGCCAGCAGCCGCGGTAATACGGAGGATGCAAGCGTTATCCGGATTCATTGGGTTTAAAGGGTACGCAGGCGGAAAACTAAGTCAGTGGTGAAATCCTGCAGCTTAACTGTAGAACTGTCATTGATACTGGTTTTCTTGGGTTCAGTTGAGGTAGGCGGAATGTGTAATGTAGCGGTGAAATGCTTAGATATTACACAGAACACCGATTGCGAAGGCAGCTTACTAAACTGCGATTGACGCTGAGGTACGAAAGCGTGGGTAGCAAACAGGATTAGATACCCTGGTAGTCCACGCCGTAAACTATGATCACTCGTTGTTGGCAACACATCGTCAGCGACTGAGCGAAAGCATTAAGTGATCCACCTGGGGAGTACGGCCGCAAGGTTGAAACTCAAAGGAATTGACGGGGGCCCGCACAAGCGGAGGAACATGTGGTTTAATTCGATGATACGCGAGGAACACTTACCTGGGCTTAAATGTAGAGCGACGGACCGGGAAACTGGTCTTTCTTCGGACGATCTACAAGGTGCTGCATGGCTGTCGTCAGCTCGTGCCGTGAGGTGTCGGGTTAAGTCCCATAACGAGCGCAACCCTTATCATTAGTTGCCAGCGGGTAATGCCGGGGACTCTAATGAAACTGCCGGTGTAAACCGAGAGGAAGGTGGGGATGACGTCAAGTCAGCACGGCCATTATGTCCAGGGCTACACACGTGTTACAATGGTCGGTACAAAGGGCAGCTACCAGGCGACTGGATGCTAATCTCGAAAGCCGATCTCAGTTCGGATCGGAGTCTGCAACTCGACTTCGTGAAGCTGGATTCGCTAGTAATCGCGCATCAGCCATGGCGCGGTGAATACGTTCCCGGGCATTGTACACACCGCCCGTCAAGCCATGGAAGCCGGGGGTACATGAAGTCCGTAACCGCAAGGAG</td><td>null</td><td>b7d291834ce6c99594409c41b6e4c6b3</td></tr><tr><td>8988736</td><td>URS0000892840</td><td>2015-10-20T18:04:07.000+0000</td><td>RNACEN</td><td>3DF7119D7716A5BC</td><td>1537</td><td>GAGTCACGAAGAGTTTGATCCTGGCTCAGGACGAACGCTGGCGGCGTGCCTAATACATGCAAGTCGAACGAAGCTTTCTTTCACCGAATGCTTGCATTCATCGAAAGAAGCTTAGTGGCGAACGGGTGAGTAACACGTAGGCAACCTGCCCAAAAGAGGGGGATAACACTTGGAAACAGGTGCTAATACCGCATAACCATGAACACCGCATGATGTTCATGTAAAAGACGGCTTTTGCTGTCACTTTTGGATGGGCCTGCGGCGTATTAACTTGTTGGTGGGGTAACGGCCTACCAAGGTGATGATACGTAGCCGAACTGAGAGGCTGATCGGCCACATTGGGACTGAGACACGGCCCAAACTCCTACGGGAGGCAGCAGTAGGGAATCTTCCACAATGGACGAAAGTCTGATGGAGCAACGCCGCGTGAATGAAGAAGGCCTTCGGGTCGTAAAATTCTGTTGTCAGAGAAGAACGTGCGTGAGAGTAACTGTTCACGTATTGACGGTATCTGACCAGAAAGCCACGGCTAACTACGTGCCAGCAGCCGCGGTAATACGTAGGTGGCGAGCGTTGTCCGGATTTATTGGGCGTAAAGGGAACGCAGGCGGTCTTTTAAGTCTGATGTGAAAGCCTTCGGCTTAACCGAAGTAGTGCATTGGAAACTGGAAGACTTGAGTGCAGAAGAGGAGAGTGGAACTCCATGTGTAGCGGTGAAATGCGTAGATATATGGAAGAACACCAGTGGCGAAAGCGGCTCTCTGGTCTGTAACTGACGCTGAGGTTCGAAAGCGTGGGTAGCAAACAGGATTAGATACCCTGGTAGTGCACGCCGTAAACGATGAGTGCTAAGTGTTGGAGGGTTTCCGCCCTTCAGTGCTGCAGCTAACGCATTAAGCACTCCGCCTGGGGAGTACGGTCGCAAGACTGAAACTCAAAGGAATTGACGGGGGCCCGCACAAGCGGTGGAGCATGTGGTTTAATTCGAAGCAACGCGAAGAACCTTACCAGGTCTTGACATCTTCTGACAATTCCAGAGATGGAACGTTCCCTTCGGGGACAGAATGACAGGTGGTGCATGGTTGTCGTCAGCTCGTGTCGTGAGATGTTGGGTTAAGTCCCGCAACGAGCGCAACCCTTATTGTCAGTTGCCATCATTAAGTTGGGCACTCTGGCGAGACTGCCGGTGACAAACCGGAGGAAGGTGGGGATGACGTCAAATCATCATGCCCCTTATGACCTGGGCTACACACGTGCTACAATGGACGGTACAACGAGTCGCTAACTCGCGAGGGCAAGCTAATCTCTTAAAGCCGTTCTCAGTTCGGATTGCAGGCTGCAACTCGCCTGCATGAAGTCGGAATCGCTAGTAATCGCGAATCAGCATGTCGCGGTGAATACGTTCCCGGGCCTTGTACACACCGCCCGTCACACCATGAGAGTTTGTAACACCCAAAGTCGGTGGGGTAACCTTTTGGAGCCAGCCGCCTAAGGTGGGACAGATGATTGGGGTGAAGTCGTAACAAGGTAGCCGTAG</td><td>null</td><td>fe962d74401230bc1c4e3cfc80525055</td></tr><tr><td>8988737</td><td>URS0000892841</td><td>2015-10-20T18:04:07.000+0000</td><td>RNACEN</td><td>9DC65C9101590D13</td><td>1419</td><td>GGCGTGGCTAAGACATGCAAGTCGCACGAGAAAGTTCCTTCGGGAACGAGTAGAGTGGCGAAAGTGGTGAGGAATACATGGATAACGTACCCCAGGCACAGGGATAGCCGTGGGAAACCGCGGGTAATACCTGACACCGTCATGATGCTGCAGGGCATCTTGATGAAAGGTGGGGACCTTCGGGCCTATCGGCCTGGGAGCGGTCCATGTCCTATCAGCTTGTTGGTGAGGTAACGGCTCACCAAGGCAACGACGGGTACCGGGACTGAGAGGTTGACCCGGCACATTGGGACTGAGACACTGCCCAGACTCCTACGGGAGGCTGCAGTAACGAATATTGCACAATGGGCGCAAGCCTGATGCAGCGACGCCGCGTGTGGGAGTAAGCCCTTCGGGGTGTAAACCACTGTCAGGGACTACCAAGCAATGGAGGTGAATAATCTCCTGCGTTGAGGCGTCCCAGAGGAAGTCACGGCTAACTTCGTGCCAGCAGCCGCGGTAATACGAAGGTGGCAAGCGTTGTTCGGAATCACTGGGCTTAAAGAGCACGTAGGCGGACTGTCAAGCGTCTTGTGAAATCCCTCGGCTTAACCGAGGAATTGCTGGGCGAACTGACAGTCTTGAGGCAAGTAGGGGCGCACGGAACTCTTGGTGGAGCGGTGGAATGCGTAGATATCAAGAGGAACGCCAGAGGCGAAGGCGGTGCGCTGGGCTTGACCTGACGCTGAGGTGCGAAAGCCAGGGGAGCGAACGGGATTAGATACCCCGGTAGTCCTGGCCATAAACGATGTCTACTAGATCTGAGGTGTTCTGACACACTTCTGGTCGAAACAAAAGCGTTAAGTAGACCGCCTGGGGAGTACGGTCGCAAGGCTAAAACTCAAAGGAATTGACGGGGGCTCACACAAGCGGTGGAGCATGTTGCTTAATTCGATGCAACGCGAAGAACCTTATCCTGGGCTTGACATGCTTGGATGCCCATCTAGAAATAGAGTAGGCTGCCCTTCGGGGTGAAACTTGCACAGGTGCTGCATGGCTGTCGTCAGCTCGTGTCGTGAGATGTTGGGTTAAGTCCCGTAACGAGCGAAACCCTTGTCGTTAGTTGCCAGCGAGTAAAGTCGGGGACTCTAACGAGACTGCCGGTGTTAAACCGGAGGAAGGTGGGGATGACGTCAAGTCCTCATGGCCTTTATGCCCAGGGCTGCAAACGTGCTACAATGGCGTGTACAAACCGATGCAAGACCGCGAGGTGGAGCAAATCGGAAAAAGCACGCCCCAGTTCGGATTGGAGTCTGCAACTCGACTCCATGAAGTTGGAATCGCTAGTAATCGCAGATCAGCAATGCTGCGGTGAATGTGTTCCTGAGCCTTGTACACACCGCCCGTCAAGTCATGGAAGCCGGGAGCACCCGAAGTCGG</td><td>null</td><td>c50b74e30172f56068e7678467f62b3b</td></tr><tr><td>8989225</td><td>URS0000892A29</td><td>2015-10-20T18:04:07.000+0000</td><td>RNACEN</td><td>811F8DB62C921E2B</td><td>1521</td><td>CAATTTTAAAGAGTTTGATCCTGGCTCAGGATTAACGCTGGCGGCATGCCTAATACATGCAAATCGAACGAAGCCTTTTAGGCTTAGTGGTGAACGGGTGAGTAACACGTATCCAATCTACCCTTAAGTTGGGGATAACTAGTCGAAAGATTAGCTAATACCGAATAATAACATCAATATCGCATGAGAAGATGTAGAAAGTCGCTCTTTGTGGCGACGCTTTTGGATGAGGGTGCGACGTATCAGATAGTTGGTGAGGTAATGGCTCACCAAGTCAATGACGCGTAGCTGTACTGAGAGGTAGAACAGCCACAATGGGACTGAGACACGGCCCATACTCCTACGGGAGGCAGCAGTAGGGAATTTTTCACAATGGGCGCAAGCCTTATGAAGCAATGCCGCGTGAACGATGAAGGTCTTATAGATTGTAAAGTTCTTTTATATGGGAAGAAACGCTAAGATAGGAAATGATTTTAGTTTGACTGTACCATTTGAATAAGTATCGGCTAACTATGTGCCAGCAGCCGCGGTAATACATAGGATGCAAGCGTTATCCGGATTTACTGGGCGTAAAACGAGCGCAGGCGGGTTTGTAAGTTTGGTATTAAATCTAGATGCTTAACGTCTAGCTGTATCAAAAACTGTAAACCTAGAGTGTAGTAGGGAGTTGGGGAACTCCATGTGGAGCGGTAAAATGCGTAGATATATGGAAGAACACCGGTGGCGAAGGCGCCAACTTGGACTATCACTGACGCTTAGGCTCGAAAGTGTGGGGAGCAAATAGGATTAGATACCCTAGTAGTCCACACCGTAAACGATCATCATTAAATGTCGGCCCGAATGGGTCGGTGTTGTAGCTAACGCATTAAATGATGTGCCTGGGTAGTACATTCGCAAGAATGAAACTCAAACGGAATTGACGGGGACCCGCACAAGTGGTGGAGCATGTTGCTTAATTTGACAATACACGTAGAACCTTACCTAGGTTTGACATCTATTGCGATGCTATAGAAATATAGTTGAGGTTAACAATATGACAGGTGGTGCATGGTTGTCGTCAGCTCGTGTCGTGAGATGTTGGGTTAAGTCCCGCAACGAGCGCAACCCCTTTCGTTAGTTACTTTTCTAGCGATACTGCTACCGCAAGGTAGAGGAAGGTGGGGATGACGTCAAATCATCATGCCCCTTATATCTAGGGCTGCAAACGTGCTACAATGGCTAATACAAACTGCTGCAAAATCGTAAGATGAAGCGAAACAGAAAAAGTTAGTCTCAGTTCGGATAGAGGGCTGCAATTCGTCCTCTTGAAGTTGGAATCACTAGTAATCGCGAATCAGACATGTCGCGGTGAATACGTTCTCGGGTCTTGTACACACCGCCCGTCAAACTATGGGAGCTGGTAATATCTAAAACCGCAAAGCTAACCTTTTGGAGGCATGCGTCTAGGGTAGGATCGGTGACTGGAGTTAAGTCGTAACAAGGTATCCCTACGAGAACGTGGGGATGGATCACCTCCTTTCT</td><td>null</td><td>b87c612c2064389a5682867bffaec619</td></tr><tr><td>35576136</td><td>URS00021ED948</td><td>2021-04-30T13:01:23.699+0000</td><td>rnacen</td><td>DDEC580C7259DEDB</td><td>38</td><td>CAAATTGTGCCCATCGTTGGCACGCGTGCTGGATTGCT</td><td>null</td><td>7362c73ce259a77217b5ca1cc6f48e01</td></tr><tr><td>8989228</td><td>URS0000892A2C</td><td>2015-10-20T18:04:07.000+0000</td><td>RNACEN</td><td>51572894703B6872</td><td>1545</td><td>AGAGTTTGATTATGGCTCAGAACGAACGCTGGCGGCGTGGATAAGACATGCAAGTCGAACGCTCGTTTCGGGGTAGCAATATTCCGAGGCGGGAGTGGCGCAAGGGTGCGTAACACGTGGGTTATTTGCCGCGAACGTGGGGAATAACTCGTTGAAAGACGAGCTAATACCCAATGTGCTCCTCACCGAGCAAAGCCGGGGACCGCAAGGCCTGGCACTTCGCGATAAGCCCGCGGCCTATCAGCTAGTTGGCGGGGTAACGGCCCACCAAGGCTAAGACGGGTAGCTGGTCTGAGAGGACGACCAGCCACACTGGAACTGAGACACGGTCCAGACACCTACGGGTGGCAGCAGTCGAGAATTTTTCACAATGGGCGAAACCCTGATGGAGCGACGCCGCGTGGGGGATGAAGGGCTTCGGCTCGTAAACCCCTGTTCATTTGCGAACAAAGGCGCCGACCTAACACGTCGTCGTCTGATAGTAGCAGAAGAGGAAGGGACGGCTAACTCTGTGCCAGCAGCCGCGTAATACAGAGGTCCCAAGCGTTGTTCGGATTCACTGGGCGTAAAGGGTGCGTAGGTGGTGGACTAAGTTCGGTGTGAATTCTCCGGGCTCAACCCGGGTGGCGCGTCGAATACTGGTCCGCTAGAGGATGGGAGGGGAGACTGGAATTCTTCGGTGTAGCAGTGAAATGCGTAGATATCGAGAGGAACACCCGTGGCGAAGGCGAGTCTCTGGACCATTCCTGACACTGAGGCACGAAAGCCGGGGGAGCAAACAGGATTAGATACCCTGGTAGTCCCGGCCCTAAACGGTGCGCATTTGCTGTGAGCGGAATCGACCCCGCTCGTGGCGAGCTAACGCGTTAAATGCGCCGCCTGGGGAGTACGGCCGCAAGGTTAAAACTCAAAGAAATTGACGGGGGCCTGCACAAGCGGTGGAGTATGTGGCTTAATTCGATGCAACGCGAAGAACCTTACCTGGCCTTGACATGTAGGTAGTAGAAGCCTGAAAGGTAACGACTCCGCAAGGAAGCCTGCACAGGTGCTGCATGGCTGTCGTCAGCTCGTGTCGTGAGATGTTGGGTTAAGTCCCGCAACGAGCGCAACCCCTGTGTCCTGTTGCCACCGGAACGAGACTTCCGAGCACTCTGGACAGACTGCCCGCCAAACGGGAGGAAGGTGGGGATGACGTCAAGTCAGTATGGCCCTTACGGCCAGGGCTGCACACGTACTACAATGCCCGGTACAAAGGGAAGCAAGGCGGCAACGCGGAGCAAATCCCAAAAACCGGGCCCAGTTCAGATTGTCGGCTGCAACTCGCCGGCATGAAGCTGGAATCGCTAGTAATGGCGCATCAGCTACGGCGCCGTGAATACGTTCCCAGGCCTTGTACACACCGCCCGTCACATCATGAAAGCCGGCTGTACCCGAAGTCGTTGCGTCAACCGCAAGGAGATAGACGCCGAAGGTATAGCCGGTGATTGGGATGAAGTCGTAACAAGGTAGCCGTATCGGAAGGTGCGGCTGGATCACCTCCTTTCT</td><td>null</td><td>5f76ee7f0662a9dcf809ac1ac8e22df6</td></tr><tr><td>8989230</td><td>URS0000892A2E</td><td>2015-10-20T18:04:07.000+0000</td><td>RNACEN</td><td>91CD76927B63F73B</td><td>1379</td><td>CTGGCGGCAGGCCTAATACATGCAAGTCGAGCGGAAACGATGGAGCTTGCTCCAGGCGTCGAGCGGCGGACGGGTGAGTAACGCGTAGGAATCTGCCCAGTAGAGGGGGATAGCCCGGGGAAACTCGGATTAATACCGCATACGCCCTACGGGGGAAAGCAGGGGATCTTCGGACCTTGCGCTATTGGATGAGCCTGCGTTGGATTAGCTTGTTGGTGGGGTAAAGGCCTACCAAGGCGACGATCCATAGCTGGTCTGAGAGGATGATCAGCCACACTGGGACTGAGACACGGCCCAGACTCCTACGGGAGGCAGCAGTAGGGAATATTGGACAATGGGGGCAACCCTGATCCAGCCATGCCGCGTGTGTGAAGAAGGCCTTAGGGTTGTAAAGCACTTTCAGTAGGGAGGAAGGCTGTAAGGTTAATACCCTTGCAGATTGACGTTACCTACAGAAGCAGCACCGGCTAACTCCGTGCCAGCAGCCGCGGTAATACGGAGGGTGCAAGCGTTAATCGGAATTACTGGGCGTAAAGCGCGCGTAGGCGGTTTGTTAAGTGAGATGTGAAAGCCCAGGGCTCAACCTTGGAACTGCATCTCATACTGGCAGGCTAGAGTACGGTAGAGGGGGGTAGAATTCCATGTGTAGCGGTGAAATGCGTAGAGATGTGGAGGAATACCAGTGGCGAAGGCGGCCCCCTGGATCGATACTGACGCTAAGGTGCGAAAGCGTGGGGAGCAAACAGGATTAGATACCCTGGTAGTCCACGCTGTAAACGATGTCAACTAGCCGTTGGAAGGGTAATCCTTTTAGTGGCGTAGCTAACGCGCTAAGTTGACCGCCTGGGGAGTACGGTCGCAAGATTAAAACTCAAATGAATTGACGGGGGCCCGCACAAGCGGTGGAGCATGTGGTTTAATTCGACGCAACGCGAAGAACCTTACCTACTCTTGACATCCTCGGAACTTTCCAGAGATGGATTGGTGCCTTCGGGAACCGAGTGACAGGTGCTGCATGGCTGTCGTCAGCTCGTGTCGTGAGATGTTGGGTTAAGCCCCGTAACGAGCGCAACCCTTGTCCCTATTTGCCATCATTTAGTTGGGCACTCTAGGGAGACTGCCGGTGACAAACCGGAGGAAGGTGGGGACGACGTCAAGTCATCATGGCCCTTACGAGTAGGGCTACACACGTGCTACAATGGGACGTACAAAGGGTTGCGAACCCGCGAGGGGGAGCTAATCTCATAAAACGTCTCGTAGTCCGGATTGCAGTCTGCAACTCGACTGCATGAAGTCGGAATCGCTAGTAATCGCGAATCAGAACGTCGCGGTGAATACGTTCCCGGGCCTTGTACACACCGCCCGTCACACCATGGGAG</td><td>null</td><td>c55564eb9849be7796ec88fe79efea92</td></tr><tr><td>8989231</td><td>URS0000892A2F</td><td>2015-10-20T18:04:07.000+0000</td><td>RNACEN</td><td>EDEFB7EF26B53C3E</td><td>1385</td><td>TTAGAGTTTGATCCTGGCTCAGGATGAACGCTGGCGGCGTGCCTAATACATGCAAGTCGAACGCTTCACTTCAGTGAAGAGTGGCGAACGGGTGAGTAATACATAAGTAACCTGGCATCTACAGGGGGATAACTGATGGAAACGTCAGCTAAGACCGCATAGGTGTAGAGATCGCATGAACTCTATATGAAAAGTGCTACGGGACTGGTAGATGATGGACTTATGGCGCATTAGCTGGTTGGTAGGGTAACGGCCTACCAAGGCGACGATGCGTAGCCGACCTGAGAGGGTGACCGGCCACACTGGGACTGAGACACGGCCCAGACTCCTACGGGAGGCAGCAGTAGGGAATTTTCGGCAATGGGGGAAACCCTGACCGAGCAACGCCGCGTGAAGGAAGAAGTAATTCGTTATGTAAACTTCTGTCATAGAGGAAGAACGGTGGATATAGGGAATGATATCCAAGTGACGGTACTCTATAAGAAAGCCACGGCTAACTACGTGCCAGCAGCCGCGGTAATACGTAGGTGGCGAGCGTTATCCGGAATTATTGGGCGTAAAGAGGGAGCAGGCGGCACTAAGGGTCTGTGGTGAAAGATCGAAGCTTAACTTCGGTAAGCCATGGAAACCGTAGAGCTAGAGTGTGTGAGAGGATCGTGGAATTCCATGTGTAGCGGTGAAATGCGTAGATATATGGAGGAACACCAGTGGCGAAGGCGACGATCTGGCGCATAACTGACGCTCAGTCCCGAAAGCGTGGGGAGCAAATAGGATTAGATACCCTAGTAGTCCACGCCGTAAACGATGAGTACTAAGTGTTGGGAGTCAAATCTCAGTGCTGCAGTTAACGCAATAAGTACTCCGCCTGAGTAGTACGTTCGCAAGAATGAAACTCAAAGGAATTGACGGGGGCCCGCACAAGCGGTGGAGCATGTGGTTTAATTCGAAGCAACGCGAAGAACCTTACCAGGTCTTGACATCGATCTAAAGGCTCCAGAGATGGAGAGATAGCTATAGAGAAGACAGGTGGTGCATGGTTGTCGTCAGCTCGTGTCGTGAGATGTTGGGTTAAGTCCCGCAACGAGCGCAACCCCTGTTGCCAGTTGCCAGCATTAAGTTGGGGACTCTGGCGAGACTGCCGGTGACAAGCCGGAGGAAGGCGGGGATGACGTCAAATCATCATGCCCCTTATGACCTGGGCTACACACGTGCTACAATGGACAGAGCAGAGGGAAGCGAAGCCGCGAGGTGGAGCGAAACCCATAAAACTGTTCTCAGTTCGGACTGCAGTCTGCAACTCGACTGCACGAAGATGGAATCGCTAGTAATCGCGAATCAGCATGTCGCGGTGAATACGTTCTCGGGCCTTGCACTCACCGCCCGTC</td><td>null</td><td>ff125a95ed0cbc8d11b78d8762287029</td></tr><tr><td>8989232</td><td>URS0000892A30</td><td>2015-10-20T18:04:07.000+0000</td><td>RNACEN</td><td>3C75C6955C132403</td><td>1309</td><td>TAGTGGCGAACGGGTGAGTAACACGTGGGTGACCTGCCCCCAAGTCCGGCATAACAGTGGGAAACTGCTGCTAATACCGGATGTGCTCCTGCCTCCTGTGGCATGAGTAAAGTTCTTCGCTTGGGGATGGGCCCGCGGCGCATCAGCTTGTTGGTGGGGTAATGGCCTACCAAGGCGACGACGCGTAGCCGGCCTGAGAGGGTGACCGGCCACAGGGGCACTGAGACACGGGCCCCACTCCTACGGGAGGCAGCAGTTAGGAATCTTCCACAATGGGCGAAAGCCTGATGGAGCGACACCGCGTGAGGGATGACGGCTCTCGGGTTGTAAACCTCTAAAAGGGGGACGAATGATGACGGTACCCCTTGAAAAGCACCGGCTAACTCCGTGCCAGCAGCCGCGGTAATACGGAGGGTGCAAGCGTTATCCGGAATCACTGGGCGTAAAGGGCGCGTAGGCGGTCTTGTAAGTCCGATGTTAAAGAGCGGGGCTCAACCCCGTCACGGCGTTGGATACTGCAGGGCTTGACGGCTGGAGAGGTGAGTGGAATTACCAGTGTAGCGGTGGAATGCGTAGATACTGGTAGGAACACCCATTGCGAAGGCAGCTCACTGGACAGCACGTGACGCTGAGGCGCGAAAGTGTGGGGAGCAAACCGGATTAGATACCCGGGTAGTCCACACCCTAAACGATGCATACTTGGTGTCGGCCCGTTGGGGTCGGCGCCGGAGTTAACGCGTTAAGTATGCCGCCTGGGAAGTACGGCCGCAAGGTTGAAACTCAAAGGAATTGACGGGGACCCGCACAAGCGGTGGAGCATGTGGTTTAATTCGAAGCAACGCGAAGAACCTTACCAGGTCTTGACATCCTTGGAATCCCTGAGAGATCAGGGAGTGCCCTTCGGGGAACCGAGTGACAGGTGCTGCATGGCTGTCGTCAGCTCGTGTCGTGAGATGTTCGGTTAAGTCCGGCAACGAGCGCAACCCACGTCAGTAGTTGCCATCAGTTCGGCTGGGAACTCTACTGAGACTGCCTGTGAAAGCAGGAGGAAGGCGTGGATGACGTCTAGTCAGCATGGTCCTTACGACCTGGGCTACACACGTGCTACAATGGCCAGGATAATGCGCTGCTACCCGGCGACGGGACGCGAATCGCGAAACCTGGTCCCAGTTCAGATCGCAGTCTGCAACTCGACAGCGTGAAGTTGGAATCGCTAGTAATCGCAGATCAGCCATGCTGCGGTGAATACGTTCCCGGGTCTTGTACACACCGCCCGTCAAACCATGGAAGCAAGTTGCACCCGAAGACG</td><td>null</td><td>5f77c4b208d872a45b3406038be418f8</td></tr><tr><td>8989233</td><td>URS0000892A31</td><td>2015-10-20T18:04:07.000+0000</td><td>RNACEN</td><td>AA13364DFEC93096</td><td>1443</td><td>GCGGCGTGCTTAACACATGCAAGTCGAGCGAAGCACTTTACTTTGATTTCTTCGGATTGAAAAGTGATTTGACTGAGCGGCGGACGGGTGAGTAACGCGTGGGTAACCTGCCTCATACAGGGGGATAACAGTTAGAAATGGCTGCTAATACCGCATAAGACCACGGTACCGCATGGTACAGAGGTAAAAACTCCGGTGGTATGAGATGGACCCGCGTCTGATTAGGTAGTTGGTGGGGTAACGGCCCACCAAGCCGACGATCAGTAGCCGACCTGAGAGGGTGACCGGCCACATTGGGACTGAGACACGGCCCAAACTCCTACGGGAGGCAGCAGTGGGGAATATTGCACAATGGGGGAAACCCTGATGCAGCGACGCCGCGTGAAGGATGAAGTATTTCGGTATGTAAACTTCTATCAGCAGGGAAGAAAATGACGGTACCTGACTAAGAAGCCCCGGCTAACTACGTGCCAGCAGCCGCGGTAATACGTAGGGGGCAAGCGTTATCCGGATTTACTGGGTGTAAAGGGAGCGTAGACGGCTGTGTAAGTCTGATGTGAAAACCCGGGGCTCAACCCCGGGACTGCATTGGAAACTATGCGGCTAGAGTGTCGGAGAGGTAAGTGGAATTCCTAGTGTAGCGGTGAAATGCGTAGATATTAGGGGGAACACCAGTGGCGAAGGCGGCTTACTGGACGATGACTGACGTTGAGGCTCGAAAGCGTGGGGAGCAAACAGGATTAGATACCCTGGTAGTCCACGCCGTAAACGATGACTACTAGGTGTCGGGTGGCAAAGCCATTCGGTGCCGCAGCCAACGCAATAAGTAGTCCACCTGGGGAGTACGTTCGCAAGAATGAAACTCAAAGGAATTGACGGGGACCCGCACAAGCGGTGGAGCATGTGGTTTAATTCGAAGCAACGCGAAGAACCTTACCTGCCCTTGACATCCCGCTGACCGGCCAGTAATGTGGCCTTCCCTTCGGGGCAGTGGAGACAGGTGGTGCATGGTTGTCGTCAGCTCGTGTCGTGAGATGTTGGGTTAAGTCCCGCAACGAGCGCAACCCTTATCTTTAGTAGCCAGCATTTCGGATGGGCACTCTAGAGAGACTGCCAGGGATAACCTGGAGGAAGGTGGGGATGACGTCAAATCATCATGCCCCTTATGGGCAGGGCTACACACGTGCTACAATGGCGTAAACAAAGGGAAGCAATACTGCGAAGTGGAGCAAATCCCAAAAATAACGTCTCAGTTCGGATTGTAGTCTGCAACTCGACTACATGAAGCTGGAATCGCTAGTAATCGCAAATCAGAATGTTGCGGTGAATACGTTCCCGGGTCTTGTACACACCGCCCGTCACACCATGGGAGTTGGTAACGCCCGAAGTCAGTGACCCAACCGTAAGGAGGGAGCTGCCGAAGGCGGGATCGATAACTGGGGT</td><td>null</td><td>b88163e0a71bc77f6e824a6e352c405d</td></tr><tr><td>12686427</td><td>URS0000C1945B</td><td>2017-10-19T09:46:04.148+0000</td><td>rnacen</td><td>E6217CA75DB09CBD</td><td>74</td><td>GAGGGTATAGCTTAAGTGGTAGAGCATATGCTTAGCATACATCAAGGTCCTGAGTTCAATCCCCAGTACCTCCT</td><td>null</td><td>28e17f801c27e3e9680af4e6ff8a7276</td></tr><tr><td>12686428</td><td>URS0000C1945C</td><td>2017-10-19T09:46:04.149+0000</td><td>rnacen</td><td>2EB95D28759D6CB0</td><td>45</td><td>ATCCAGCTGATGAGTTCCAAATAGAACGAAACGCCCGTTCTTTAT</td><td>null</td><td>28e1825f44cb3a61aca85d3173a3f7d1</td></tr><tr><td>8989234</td><td>URS0000892A32</td><td>2015-10-20T18:04:07.000+0000</td><td>RNACEN</td><td>BA64E6395E9C4681</td><td>1343</td><td>GACGAACGCTGGCGGCGTGCTTAACACATGCAAGTCGAACGGAAAGGCCCTGCTTTTGTGGGGTGCTCGAGTGGCGAACGGGTGAGTAACACGTGAGTAACCTGCCCTTGACTTTGGGATAACTTCAGGAAACTGGGGCTAATACCGGATAGGAGCTCCTGCTGCATGGTGGGGGTTGGAAAGTTTCGGCGGTTGGGGATGGACTCGCGGCTTATCAGCTTGTTGGTGGGGTAGTGGCTTACCAAGGCTTTGACGGGTAGCCGGCCTGAGAGGGTGACCGGCCACATTGGGACTGAGATACGGCCCAGACTCCTACGGGAGGCAGCAGTGGGGAATATTGCACAATGGGCGGAAGCCTGATGCAGCAACGCCGCGTGCGGGATGACGGCCTTCGGGTTGTAAACCGCTTTCGCCTGTGACGAAGCGTGAGTGACGGTAATGGGTGAAGAAGCACCGGCTAACTACGTGCCAGCAGCCGCGGTGATACGTAGGGTGCGAGCGTTGTCCGGATTTATTGGGCGTAAAGGGCTCGTAGGTGGTTGATCGCGTCGGAAGTGTAATCTTGGGGCTTAACCCTGAGCGTGCTTTCGATACGGGTTGACTTGAGGAAGGTAGGGGAGGATGGAATTCCTGGTGGAGCGGTGGAATGCGCAGATATCAGGAGGAACACCAGTGGCGAAGGCGGTTCTCTGGGCCTTTCCTGACGCTGAGGAGCGAAAGCGTGGGGAGCGAACAGGCTTAGATACCCTGGTAGTCCACGCTGTAAACGGTGGGTACTAGGTGTGGGGTCCATTCCACGGGTTCCGTGCCGTAGCTAACGCTTTAAGTACCCCGCCTGGGGAGTACGGCCGCAAGGCTAAAACTCAAAGGAATTGACGGGGCCCCGCACAAGCGGCGGAGCATGCGGATTAATTCGATGCAACGCGTAGAACCTTACCTGGGTTTGACATGGATCGGGAGTGCTCAGAGATGGGTGTGCCTCTTTTGGGGTCGGTTCACAGGTGGTGCATGGCTGTCGTCAGCTCGTGTCGTGAGATGTTGGGTTAAGTCCCGCAACGAGCGCAACCCTTGTTCACTGTTGCCAGCACGTTATGGTGGGGACTCAGTGGAGACCGCCGGGGTCAACTCGGAGGAAGGTGGGGATGACGTCAAGTCATCATGCCCCTTATGTCCAGGGCTTCACGCATGCTACAATGGCTGGTACAGAGAGTGGCGAGCCTGTGAGGGTGAGCGAATCTCGGAAAGCCGGTCTCAGTTCGGATTGGGGTCTGCAACTCGACCTCATGAAGTCGGAGTCGCTAGTAATCGCAGATCAGCAACGCTGCGGTGAATACGTTCCCGGG</td><td>null</td><td>c556949a6b7bf5b4894e37a9bf68c763</td></tr><tr><td>8990002</td><td>URS0000892D32</td><td>2015-10-20T18:04:07.000+0000</td><td>RNACEN</td><td>309764D57BF4C4FB</td><td>1499</td><td>TTAGAGTTTGATCCTGGCTCAGATTGAACGCTGGCGGCGTGCCTAACACATGCAAGTCGAGCGGCAGCGCGGGGGCAACCCTGGCGGCGAGCGGCGGACGGGTGAGTAACGCTTGGGAATCTGCCTGTTAGTGGGGGACAACCCGGGGAAACTCGGGCTAATACCGCATACGCACTACGGTGGAAAGCCGGGGACCGCAAGGCCTGGCGCTAACAGATGAGCCCAAGTCGGATTAGCTAGTTGGTAGGGTAACGGCCTACCAAGGCGACGATCCGTAACTGGTCTGAGAGGACGACCAGTCACACCGGAACTGAGACACGGTCCGGACTCCTACGGGAGGCAGCAGTGGGGAATATTGGACAATGGGCGAAAGCCTGATCCAGCGACGCCGCGTGGGTGAAGAAGGCCTGCGGGTTGTAAAGCCCTTTCGGTGGGGAAGAAAAGCCTCGAGCTAATACCTCGGGGTCTTGACGTAACCCATAGAAGAAGCACCGGCTAACTCTGTGCCAGCAGCCGCGGTAATACAGAGGGTGCGAGCGTTAATCGGAATTACTGGGCGTAAAGCGCGCGTAGGCGGCTTTGCAAGTCGAGTGTGAAATCCCCAGGCTTAACCTGGGAACTGCACCCGAGACTGCATAGCTAGAGTATGGGAGAGGGAAGTGGAATTTCAGGTGTAGCGGTGAAATGCGTAGATATCTGAAGGAACATCAGTGGCGAAAGCGACTTCCTGGACCAATACTGACGCTCATGTGCGAAAGCGTGGGGAGCAAACAGGATTAGATACCCTGGTAGTCCACGCCATAAACGATGACAACTGGATGTCGGGAGGGTCTGCCTCTCGGTGTCGTAGCTAACGCGTTAAGTTGTCCGCCTGGGGAGTACGGCCGCAAGGTTGAAACTCAAAGGAATTGACGGGGACCCGCACAAGCGGTGGAGCATGTGGTTTAATTCGATGCAACGCGAAGAACCTTACCTGGTCTTGACATCCCAGGAACCTCGCAGAGATGTGGGGGTGCCTTCGGGAACCTGGAGACAGGTGCTGCATGGCTGTCGTCAGCTCGTGTCGTGAGATGTTGGGTTAAGTCCCGCAACGAGCGCAACCCTTGCCCTTAGTTGCCAGCATTCAGTTGGGAACTCTAAGGGGACCGCCGGTGACAAACCGGAGGAAGGTGGGGATGACGTCAAGTCATCATGGCCCTTATGACCAGGGCTACACACGTGCTACAATGGCCAGTACAAAGGGTTGCCAACCCGCGAGGGGGAGCCAATCCCATAAAGCTGGTCGTAGTCCGGATCGCAGTCTGCAACTCGGCTGCGTGAAGTCGGAATCGCTAGTAATCGTGAATCAGCGATGTCACGGTGAATACGTTCCCGGGTCTTGTACACACCGCCCGTCACACCATGGGAGTTGATTGCACCAGAAGTAGGTAGCCTAACCGCAAGGAGGGCGCTTACCACGGTGTGGTCAATGACTGGGGTGAAGTCGTAACAAGGTAACC</td><td>null</td><td>b93460abf0746f15bb6d7d3b7c807745</td></tr><tr><td>8990004</td><td>URS0000892D34</td><td>2015-10-20T18:04:07.000+0000</td><td>RNACEN</td><td>BE5F5447FF059773</td><td>1412</td><td>AGTCGAACGCGAAAGTCTCTTCGGAGACGAGTAGAGTGGCGAAAGGGTGAGTAATACATGGACGACGTACCCTCGACCCTGGGATAGCCCATCGAAAGGTGGGGTAATCCCGGATAATGTCCCTGGTTCAATTCCGGGAGACCAAAGGCAGGGATCCTTCGGGACCTGTCAGTTGAGGAGCGGTTCATGTCTTATCAGCTTGTTGGTGAGGTAACGGCTCACCAATGCGATGACGAGTACGGGGCCTGAGAGGGTGTTCCCGCACACTGGGACTGAGACACTGCCCAGACTCCTACGGGGGGCTGCAGTCGAGAATCTTCCCCAATGGGCGAAAAGCCTGAAGGGAGCGACGCCGTGTGGAGGATGAAGGCCTTCGGGTTGTAAACTCCTTTCAGTTAGCAGGAATAAGTGTAAGTCAATAGCTTGCACGATGACCCGCTTTCAGAAGAAGCACCGGCTAAACACGTGCCAGCAGCCGCGGTAATACGTGTGGTGCTAGCGTTGTTCGGAATCACTGGGCATAAAGGGCACGCAAAGCGGAAATGTCGTGTACCGGGGTGAAATCCACCGGCTTAACCCGGTGAACTGCCTCGGAAACTGGCATTCTAGAGTGCAAAAGGGGAGAGTGGAACTCTAGGTGGAACGGTGGAATGTGTAGATATCTAGAGGAACGCCGGTGGCGAAAGCGACTCTCTGGTTTCCAACTGACGCTCAGGTGCGAAAGCGTGGGGAGCAAACAGGATTAGATACCCTGGTAGTCCACGCCGTAAACGATGGGTACTAGGTAGAAGGGGTTCCTAAGCCTTTTCTGCTGGAGCTAATGTATTAAGTACCCCGCCTGGGGAGTACGGCCGCAAGGCTAAAACTCAAAGGAATTGACGGGGGCTCACACAAGCGGTGGAGCATGTGGCTTAATTCGAAGCAACGCGAAGAACCTTACCTGGGTTTGACATGCTTGAAGTAGGCGCCCGAAAGGGTTGCCCACCCGTTAAGTCGGGAGCTTGCACAGGTGTTGCATGGCTGTCGTCAGCTCGTGTCGTGAGATGTTGGGTTAAGTCCCGTAACGAGCGAAACCCTTGTCCTTAGTTACCAGCGGTTCGGCCGGGAACTCTAAGGAGACTGCCGGTGTTAAACCGGAGGAAGGTGGGGATGACGTCAAGTCATCATGGCCCTTACGCCCAGGGCTGCACACGTGCTACAATGGTCGATACAAACCGAAGCAAAGTCGTGAGGCTAAGCAAATCGGAAAAAGTCGGCCCCAGTTCGGATTGAAGGCTGCAATTCGCCTTCATGAAGCCGGAATCGCTAGTAATCGCAGATCAGCCATGCTGCGGTGAATGTGTTCCTGAGCATTGTACACACCGCCCGTCAAGCCACGAAAGTTGGCAGCATCCGAAGTCGGTATCCCAACC</td><td>null</td><td>6020224caf221c10682275e2d35029aa</td></tr><tr><td>8990006</td><td>URS0000892D36</td><td>2015-10-20T18:04:07.000+0000</td><td>RNACEN</td><td>607A5A14EF30DD8A</td><td>1364</td><td>GGAGCGAGTACAGCGGCGGACGGGTGAGTAACGCGTGGACGATCTACCCAAGGATTCGGGATAACGCGTTGCGAAAGCGGGGCTAATACCGAATGGTCTGGGCATTTTGAAATGTGCCTGGTAAAGGTGGCCTCTGATTCAAGCTATCGTCTTTGGATGGGTCCGCGTCCCATTAGCTTGTTGGTAGGGTCAAGGCCTACCAAGGCGACGATGGGTAGCTGGTCTGGGAGGATGATCAGCCACACTGGGACTGGAACACGGCCCAGACTCCTACGGGAGGCAGCAGTGGGGAATATTGGGCAATGGGCGCAAGCCTGACCCAGCAACGCCGCGTGAGGGAAGAAGGTCTTCGGATCGTAAACCTCAGTCAGGAGGGAAGAAATGGGTTGTCCTGAACAGGGATGGCCTTTGACGGTACCTCCAGAGGAAGCACCGGCCAACTCCGTGCCAGCAGCCGCGGTAATACGGAGGGTGCAAGCGTTATTCGGAATCACTGGGCGTAAAGCGCACGTAGGCGGCTTTGCAAGTCAGGTGTGAAAGCCCTCGGCTCAACCGAGGAATTGCACTTGAAACTGTAGAGCTCGAGTTCGGGAGAGGGTGGCGGAATTCCAGGTGTAGGAGTGAAATCCGTAGATATCTGGAGGAACACCAGAGGCGAAGGCGGCCACCTGGACCGAAACTGACGCTGAGGTGCGAAAGCGTGGGGAGCAAACAGGATTAGATACCCTGGTAGTCCACGCCGTAAACGATGGATGCTAGATGCTGGGTGTGTAAGACATTCGGTGTCGGAGTTAACGCGTTAAGCATCCCGCCTGGGGAGTACGGTCGCAAGGCTGAAACTCAAAGAAATTGACGGGGGCCCGCACAAGCGGTGGAGTATGTGGTTTAATTCGATGCAACGCGAAGAACCTTACCTGGGCTTGACATCCCGGGAACCTCCTGGAAACAGGGGCGTGCCCTTCGGGGAACCCGGTGACAGGTGCTGCATGGCTGTCGTCAGCTCGTGCCGTGAGGTGTTGGGTTAAGTCCCGCAACGAGCGCAACCCTTGTCCTTAGTTGCCATCAGGTAAAGCTGGGCCCTCTAGGGAGACTGCCGAGGTGAACTCGGAGGAAGGTGGGGACGACGTCAAGTCATCATGGCCCTTACGCCCAGGGCTACACACGTACTACAATGGTGGGTACAAAGGGAAGCCAAGCCGCGAGGTGGAGCCAATCCCGAAAAGCCTACCCCAGTTCAGATCGCAGTCTGCAACTCGACTGCGTGAAGGCGGAATCGCTAGTAATCGCGGATCAGCATGCCGCGGTGAATACGTTCCCGGGCCTTGTACACACCGCCCGTCACACCACGAAAGCTGGCTCTACCC</td><td>null</td><td>c615c64c6fd0a973b221878a6d6cb6f5</td></tr><tr><td>8990383</td><td>URS0000892EAF</td><td>2015-10-20T18:04:07.000+0000</td><td>RNACEN</td><td>1C6069142DFE7B03</td><td>1372</td><td>TGGCGGCGTGCTTAACACATGCAAGTCGAACGGGAACCTCTGGATTCGTCTGGAGGGGAGAGTGGCGAACGGGTGAGTAACACGTAGGTGACCTGCCTCGAAGACGGGGATAACTGCTGGAAACGGTAGCTAATACCCGATGGTCTCGATAATTCGGTTTGTCGAGTAAAGGCTCCGGCGCTTTGAGAGGGACCTGCGGCCCATCAGCTAGTTGGTAGGGTAACGGCCTACCAAGGCGAAGACGGGTAGGGGGCGTGAGAGCGTGACCCCCCACACTGGCACTGGGACACGGGCCAGACTCCTACGGGAGGCAGCAGTGAGGAATATTGCGCAATGAGCGAAAGCTAGACGCAGCAACGCCGCGTGGGTGATGAAGGCCTTCGGGTCGTAAAACCCTTTTCTGGGGGAAGAGTAAGGACGGTACCCCAGGAATAAGCCTCGGCTAACTATGTGCCAGCAGCCGCGGTAATACATAGGAGGCAAGCGTTATCCGGATTTACTGGGCGTAAAGAGCGTTGAGGCGGCTTCGTAAGTTGGACGTGAAAGCTCCCGGCTTAACTGGGAGAGGCCGTTCAATACTGCGGGGCTTGAGGACAGCAGAGGGGGGTGGAATTTCCGGTGTAGTGGTGAAATGCGTAGATATCGGAAGGAACACCAGTGGCGAAGGCGGCCCCCTGGGCTGCTCCTGACGCTGAAGGCGAAAGCTAGGGTAGCGAACGGGATTAGAAACCCCGGTAGTCCTAGCCGTAAACGATGGATACTAGGTGTAGGAGGTTAAAACTCCTTCTGTGCCGGAGCTAACGCGTTAAGTATCCCGCCTGGGGAGTACGGTCGCAAGGCTAAAACTCAAAGGAATTGACGGGGGCCCGCACAAGCAGCGGAGCGTGTGGTTTAATTCGATGCAACGCGAAGAACCTTACCAGGGCTTGACATGTAGGTAGTAGTGAAGCGAAAGCGGAACGAGCCTTCGGGAAGCCTACACAGGTGCTGCATGGCTGTCGTCAGCTCGTGCCGTGAGGTGTTAGGTTAAGTCCTGTAACGAGCGCAACCCCTGCCGTTAGTTACAAGTGTCTAACGGGACTGCCCGGCAAAACTGGGAGGAAGGTGGGGATGACGTCAAGTCAGCATGGCCTTTATGTCCTGGGCTACACACACGCTACAATGGCCGGTACAATGGGTTGCCAAGCCGCGAGGCGGAGCCAATCCTCTAAAGCCGGTCTCAGTTCGAATTGTAGGCTGCAACCCGCCTGCATGAAGTTGGAGTTGCTAGTAACCGCAGGTCAGCCACACTGCGGTGATACGTTCCCGGGCCTTGTACACACCGCCCGTCACGTCATGGAAGCTGGTAACACCTGAAGCCGGTGAGCTAACC</td><td>null</td><td>ecbd128339d3c4ebcc8a3f08905fb923</td></tr><tr><td>12012133</td><td>URS0000B74A65</td><td>2017-10-13T16:49:04.820+0000</td><td>rnacen</td><td>BB9300567B683E0C</td><td>305</td><td>TTTTCCTACGGGAGGCAGCAGTGGGGGATATTGCACAATGGGGGAAACCCTGATGCAGCGACACCGCGTGGGTGAGGAAGCGCTTCGGCGTGTAAAGCCCTATCAGTGGGGAAGAAAAAGGACGGTACCCAAAGAAGAAGCACCGGCTAAATACGTGCCAGCAGCCGCGGTAATACGTATGGTGCAAGCGTTATCCGGATTCACTGGGTGTAAAGGGAGCGTAGACGGCCGTGCAAGCCAGGAGTGAAAGCCCGGGGCCCAACCCCGGGACTGCTCTTGGAACTGTGCGGCTGGAGTGCGGGAGG</td><td>null</td><td>7585a8c8d077c3ecbd9e543592d4d3e7</td></tr><tr><td>8990385</td><td>URS0000892EB1</td><td>2015-10-20T18:04:07.000+0000</td><td>RNACEN</td><td>BB685D618CFDE9A1</td><td>1350</td><td>GATTAGTGGCGAACGGGTGAGTAACACGTGGGCAATCTGCCCTTCACTCTGGGACAAGCCCTGGAAACGGGGTCTAATACCGGATAACACTGCGGATCTCATGGTCTGCGGTTAAAAGCTCCGGCGGTGAAGGATGAGCCCGCGGCCTATCAGCTTGTTGGTGAGGTAATGGCTCACCAAGGCGACGACGGGTAGCCGGCCTGAGAGGGCGACCGGCCACACTGGGACTGAGACACGGCCCAGACTCCTACGGGAGGCAGCAGTGGGGAATATTGCACAATGGGCGAAAGCCTGATGCAGCGACGCCGCGTGAGGGATGACGGCCTTCGGGTTGTAAACCTCTTTCAGCAGGGAAGAAGCGAAAGTGACGGTACCTGCAGAAGAAGCGCCGGCTAACTACGTGCCAGCAGCCGCGGTAATACGTAGGGCGCAAGCGTTGTCCGGAATTATTGGGCGTAAAGAGCTCGTAGCGGCTTGTCACGTCGATTGTGAAAGCTCGGGGCTTAACCCCGAGTCTGCAGTCGATACGGCTAGCTAGAGTGTGGTAGGGGAGATCGGAATTCCTGGTGTAGCGGTGAAATGCGCAGATATCAGGAGGAACACCGGTGGCGAAGGCGGATCTCTGGGCCATTACTGACGCTGAGGAGCGAAAGCGTGGGGAGCGAACAGGATTAGATACCCTGGTAGTCCACGCCGTAAACGGTGGGCACTAGGTGTTGGCGACATTCCACGTCGTCGGTGCCGCAGCTAACGCATTAAGTGCCCCGCCTGGGGAGTACGGCCGCAAGGCTAAAACTCAAAGGAATTGACGGGGGCCCGCACAAGCAGCGGAGCATGTGGCTTAATTCGACGCAACGCGAAGAACCTTACCAAGGCTTGACATACGCCGGAAAGCATCAGAGATGGTGCCCCCCTTGTGGTCGGTGTACAGGTGGTGCATGGCTGTCGTCAGCTCGTGTCGTGAGATGTTGGGTTAAGTCCCGCAACGAGCGCAACCCTTGTTCTGTGTTGCCAGCATGCCCTTCGGGGTGATGGGGACTCACAGGAGACTGCCGGGGTCAACTCGGAGGAAGGTGGGGACGACGTCAAGTCATCATGCCCCTTATGTCTTGGGCTGCACACGTGCTACAATGGCAGGTACAATGAGCTGCGAAACCGTGAGGTGGAGCGAATCTCAAAAAGCCTGTCTCAGTTCGGATTGGGGTCTGCAACTCGACCCCATGAAGTCGGAGTTGCTAGTAATCGCAGATCAGCATTGCTGCGGTGAATACGTTCCCGGGCCTTGTACACACCGCCCGTCACGTCACGAAAGTCGGTAACACCCGAAGCCGGTGGCCCAACCCCCTGCGG</td><td>null</td><td>b97f0079b120eed5c582caec210c82aa</td></tr><tr><td>8990387</td><td>URS0000892EB3</td><td>2015-10-20T18:04:07.000+0000</td><td>RNACEN</td><td>CB85AEAB48932A53</td><td>1474</td><td>GAGTTTGATCCTGGCTCAGGATGAACGCTAGCGGCAGGCTTAACACATGCAAGTCGAGGGGTATAGTTCTTCGGAACTAGAGACCGGCGCACGGGTGCGTAACGCGTATGCAATCTACCTTTCACAGAGGGATAGCCCAGAGAAATTTGGATTAATACCTCATAGTATAATTGAATGGCATCATTTAATTATTAAAGTCACAACGGTGAAAGATGAGCATGCGTCCCATTAGCTTGTTGGTAAGGTAACGGCTTACCAAGGCGACGATGGGTAGGGGTCCTGAGAGGGAGATCCCCCACACTGGTACTGAGACACGGACCAGACTCCTACGGGAGGCAGCAGTGAGGAATATTGGTCAATGGGCGCAAGCCTGAACCAGCCATGCCGCGTGCAGGATGACGGTCCTATGGATTGTAAACTGCTTTTGTACAGGAAGAAACACTGGTTCGTGAACCAGCTTGACGGTACTGTAAGAATAAGGATCGGCTAACTCCGTGCCAGCAGCCGCGGTAATACGGAGGATCCAAGCGTTATCCGGAATCATTGGGTTTAAAGGGTCCGTAGGCGGTCAGATAAGTCAGTGGTGAAAGCCCATCGCTCAACGGTGGAACGGCCATTGATACTGTCTGACTTGAATTATTAGGAAGTAACTAGAATATGTAGTGTAGCGGTGAAATGCTTAGAGATTACATGGAATACCAATTGCGAAGGCAGGTTACTACTAATGGATTGACGCTGATGGACGAAAGCGTGGGTAGCGAACAGGATTAGATACCCTGGTAGTCCACGCCGTAAACGATGGATACTAGCTGTTGGGAGCAATCTCAGTGGCTAAGCGAAAGTGATAAGTATCCCACCTGGGGAGTACGTTCGCAAGAATGAAACTCAAAGGAATTGACGGGGGCCCGCACAAGCGGTGGAGCATGTGGTTTAATTCGATGATACGCGAGGAACCTTACCAAGGCTTAAATGTAGATTGACCGGTTTGGAAACAGATCTTTCGCAAGACAATTTACAAGGTGCTGCATGGTTGTCGTCAGCTCGTGCCGTGAGGTGTCAGGTTAAGTCCTATAACGAGCGCAACCCCTGTTGTTAGTTGCCAGCGAGTCATGTCGGGAACTCTAACGAGACTGCCAGTGCAAACTGTGAGGAAGGTGGGGATGACGTCAAATCATCACGGCCCTTACGCCTTGGGCTACACACGTGCTACAATGGCCGGTACAGAGAGCAGCCACTGGGCGACCAGGAGCGAATCTATAAAACCGGTCACAGTTCGGATCGGAGTCTGCAACTCGACTCCGTGAAGCTGGAATCGCTAGTAATCGGATATCAGCCATGGTCCGGTGAATACGTTCCCGGGCCTTGTACACACCGCCCGTCAAGCCATGGAAGCTGGGGGTGCCTGAAGTCGGTGACCGCAAGGAGCTGCCTAGGGTAAAACTGGTAACTAGGGCTAAGTCGTAACAAGGTAACC</td><td>null</td><td>ecbe293c735102fbcade79dd3d95c388</td></tr><tr><td>8990388</td><td>URS0000892EB4</td><td>2015-10-20T18:04:07.000+0000</td><td>RNACEN</td><td>CB27103838A67CC1</td><td>1462</td><td>GATGAACGCTAGCGGCAGGCTTAACACATGCAAGTCGAACGGTAACAGAAAAAGCTTGCTTTTTGCTGACGAGTGGCGAACGGGTGCGTAACGCGTATGCAACCTACCTTCTTCAGAGGAATAGCCCAGAGAAATTTGGATTAATACCTCATAATAATATTTTTTCGCATGATAATTTATTTAAAGCTTCGGCGGAGGAAGATGGGCATGCGTAACATTAGTTAGTTGGTGAGGTAACGGCTCACCAAGACTACGATGTTTAGGGGGTCTGAGAGGATGATCCCCCACACTGGTACTGAGACACGGACCAGACTCCTACGGGAGGCAGCAGTGAGGAATATTGGTCAATGGACGAAAGTCTGAACCAGCCATGCCGCGTGAAGGATGACTGCCCTATGGGTTGTAAACTTCTTTTATATAGGAAGAAACCCCTCTACGTGTAGAGGGTTGACGGTACTATACGAATAAGCACCGGCTAACTCCGTGCCAGCAGCCGCGGTAATACGGAGGGTGCAAGCGTTATCCGGAATTATTGGGTTTAAAGGGTGCGTAGGCGGAAATTTAAGTCAGTGGTGAAAGCCTGCAGCTTAACTGTAGAATTGCCATTGAAACTGAATTTCTTGAATCTAATTGAAGTAGGCGGAATATGACATGTAGCGGTGAAATGCTTAGATATGTCATAGAACACCAATGGCGAAGGCAGCTTACTAAGTTAGTATTGACGCTAATGCACGAAAGCGTGGGGAGCGAACAGGATTAGATACCCTGGTAGTCCACGCCGTAAACTATGATTACTCGCTATTGGCGATACACTGTCAGTGGCTAAGCGAAAGTGATAAGTAATCCACCTGGGGAGTACGATCGCAAGGTTGAAACTCAAAGGAATTGACGGGGGCCCGCACAAGCGGTGGAGCATGTGGTTTAATTCGATGATACGCGAGGAACCTTACCAGGACTTAAATGCATTACGATCGGTTGGGAAACCAACTTTTCTTCGGACGGAATGCAAGGTGCTGCATGGTTGTCGTCAGCTCGTGCCGTGAGGTGTCAGGTTAAGTCCTATAACGAGCGCAACCCCTATTCTTAGTTGCCAGCGGTTCGGCCGGGGACTCTAAGAAAACTGCCAGTGCAAGCTGCGAGGAAGGTGGGGATGACGTCAAATCATCACGGCCCTTACGTCCTGGGCCACACACGTGCTACAATGGTAGGTACAAAGGGCAGCCACTTGGTGACAAGGAGCTAATCTCTAAAACCTATCTCAGTTCGGATTGGAGTCTGAAACTCGACTCTATGAAGCTGGAATCGCTAGTAATCGCGCATCAGCCATGGCGCGGTGAATACGTTCCCGGGCCTTGTACACACCGCCCGTCAAGCCATGGAAGCTGGGAGTACCTGAAGTCGGTAACCATATAGGAGCTGCCTAGGGTAAAACTAGTAACTGGGGCTAAGTCGTAACAAGGTA</td><td>null</td><td>c6630d24b63a2891f6cd492ab940ad01</td></tr><tr><td>8990389</td><td>URS0000892EB5</td><td>2015-10-20T18:04:07.000+0000</td><td>RNACEN</td><td>CA277A83FBE413A5</td><td>1343</td><td>GACGAACGCTGGCGGCGTGCTTAACACATGCAAGTCGAACGGAAAGGCCCTGCTTTTGTGGGGTGCTCGAGTGGCGAACGGGTGAGTAACACGTGAGTAACCTGCCCTTGACTTTGGGATAACTTCAGGAAACTGGGGCTAATACCGGATAGGAGCTCCTGCTGCATGGTGGGGGTTGGAAAGTTTCGGCGGTTGGGGATGGACTCGCGGCTTATCAGCTTGTTGGTGGGGTAGTGGCTTACCAAGGCTTTGACGGGTAGCCGGCCTGAGAGGGTGACCGGCCACATTGGGACTGAGATACGGCCCAGACTCCTACGGGAGGCAGCAGTGGGGAATATTGCACAATGGGCGGAAGCCTGATGCAGCAACGCCGCGTGCGGGATGACGGCCTTCGGGTTGTAAACCGCTTTCGCCTGTGACGAAGCGTGAGTGACGGTAATGGGTAAAGAAGCACCGGCTAACTACGTGCCAGCAGCCGCGGTGATACGTAGGGTGCGAGCGTTGTCCAGATTTATTGGGCGTAAAGGGCTCGTAGGTGGTTGATCGCGTCGGAAGTGTAATCTTGGGGCTTAACCCTGAGCGTGCTTTCGATACGGGTTGACTTGAGGAAGGTAGGGGAGAATGGAATTCCTGGTGGAGCGGTGGAATGCGCAGATATCAGGAGGAACACCAGTGGCGAAGGCGGTTCTCTGGGCCTTTCCTGACGCTGAGGAGCGAAAGCGTGGGGAGCGAACAGGCTTAGATACCCTGGTAGTCCACGCTGTAAACGGTAGGTACTAGGTGTGGGGTCCATTCCACGGGTTCCGTGCCGTAGCTAACGCTTTAAGTACCCCGCCTGGGGAGTACGGCCGCAAGGCTAAAACTCAAAGGAATTGACGGGGCCCCGCACAAGCGGCGGAGCATGCGGATTAATTCGATGCAACGCGTAGAACCTTACCTGGGTTTGACATGGATCGGGAGCGCTCAGAGATGGGTGTGCCTCTTTTGGGGTCGGTTCACAGGTGGTGCATGGCTGTCGTCAGCTCGTGTCGTGAGATGTTGGGTTAAGTCCCGCAACGAGCGCAACCCTTGTTCACTGTTGCCAGCACGTTATGGTGGGGACTCAGTGGAGACCGCCGGGGTCAACTCGGAGGAAGGTGGGGATGACGTCAAGTCATCATGCCCCTTATGTCCAGGGCTTCACGCATGCTACAATGGCTGGTACAGAGAGTGGCGAGCCTGTGAGGGTGAGCGAATCTCGGAAAGCCGGTCTCAGTTCGGATTGGGGTCTGCAACTCGACCTCATGAAGTCGGAGTCGCTAGTAATCGCAGATCAGCAACGCTGCGGTGAATACGTTCCCGGG</td><td>null</td><td>b97f187dba506b81ed537a3d40e50868</td></tr><tr><td>8990390</td><td>URS0000892EB6</td><td>2015-10-20T18:04:07.000+0000</td><td>RNACEN</td><td>2551DC1A3578CC97</td><td>1349</td><td>AGTGGCGCACGGGTGAGTAATATGTAAGTAATCTGCCCTTGGCTTTGGAATAACGCAGAGAAATTTGCGCTAATACCGAATAATGCAGCGGCATCGCATGATGATGTTGTTAAGGGTGCAGCAATGTAACGGCTAGGGATGAGCTTGCATCTGATTAGCTTGTTGGTAGGGTAACGGCCTACCAAGGCTACGATCAGTAGCTGGTCTGAGAGGATGATCAGCCACACTGGAACTGAGACACGGTCCAGACTCCTACGGGAGGCAGCAGTGAGGAATATTGGGCAATGCCCGCAAGGGTGACCCAGCAACGCCGCGTGGAGGATGAATGCCGTAAGGTTGTAAACTCCTGTGAGATGGGATGAAAGTGCAGAATTCGTAAGGGTTCTGCTTTGACCGTACCATCAGAGGAAACCCCGGCTAACTACGTGCCAGCAGCCGCGGTAATACGTAGGGGGTGAGCGTTGTCCGGATTTACTGGGTGTAAAGGGCGCGTAGGCGGGCCCGTAAGTCAGAGGTGAAAGCCTGCAGCTTAACTGCAGAACTGCCTTTGATACTGCGGGTCTTGAATTCAGAAGAGAGAGATGGAATTCCAGGTGTAGTGGTGAAATACGTAGATATCTGGAAGAACACCAGTGGCGAAGGCGATCTCTTGGTCTGATATTGACGCTGAGGCGCGAAAGCGTGAGTAACAAACAGGATTAGATACCCTGGTAGTCCACGCTGTAAACGATGAATACTAGATGTTGGGCAGAAATGTTCAGTGTCGCAGCTAACACATTAAGTATTCCACCTGGGGAGTACGATCGCAAGGTTGAAACTCAAAGGAATTGACGGGGGCCCGCACAAGCAGTGGAGCATGTGGTTTAATTCGATGCAACGCGAAGAACCTTACCTGGGCTTGAAAGGCAAGTGACCGGGTGTGAAAGCACCCTTCCCTTCGGGGCACTTGTACAGGTGCTGCATGGCTGTCGTCAGCTCGTGCCGTGAGGTGTTGGGTTAAGTCCCGCAACGAGCGCAACCCTTACTATTAGTTGCCATCAGGTCAAGCTGGGCACTCTAATAGGACTGCCTACGCAAGTAGTGAGGAAGGTGGGGATGACGTCAAGTCCGCATGGCCCTTACGCCCAGGGCCACACACGTGCTACAATGGATACAACAGAGGGTAGCCAAACCGCAAGGTGGAGCCAATCCCATAAAAGTATCCTCAGTTCGGATTGGAGTCTGCGACTCGACTCCATGAAGTTGGAATTGCTAGTAATCGCGCATCAGCACGGCGCGGTGAATACGTTCCCGGGCCTTGTACACACCGCCCGTCAAGCCATGGAAGCCAGGGGTACCCGAAGTCAGTG</td><td>null</td><td>606f85307a7de55dadb72d3b1a6a28d1</td></tr><tr><td>12012147</td><td>URS0000B74A73</td><td>2017-10-13T16:49:04.823+0000</td><td>rnacen</td><td>A16F916C9AB357E3</td><td>281</td><td>CGACCTACGGGGCGCAGCAGTGGGGAATATTGCACAATGGGGGAAACCCTGATGCAGCGACGCCGCGTGAGTGAGGAAGTATTTCGGTATGTAAAGCTCTATCAGCAGGGAAGAAAATGACGGTACCTGACTAAGAAGCCCCGGCTAACTACGTGCCAGCAGCCGCGGTAATACGTAGGGGGCAAGCGCTATCCGGCTTTACTGGGTGTAAAGGGAGCGTAGACGGAATAGCAAGTCTGGTGTGAAAACCCGGGGCTCAAATCCGGGAGTGCATTGGAAAC</td><td>null</td><td>7586fe717bd56447302a5679ce7caf44</td></tr><tr><td>8991635</td><td>URS0000893393</td><td>2015-10-20T18:04:07.000+0000</td><td>RNACEN</td><td>EF89A35D9D8DFF96</td><td>1473</td><td>TAGGGTTTGATCCTGGCTCAGGATGAACGCTGGCGGCGTGCCTAATACATGCAAGTCGAACGCGAGAATTGCTAGCTTGCTAATAATTCTCTAGTGGCGCACGGGTGAGTAACACGTGAGTAACCTGCCCCCGAGAGCGGGATAGCCCTGGGAAACTGGGATTAATACCGCATAGTATCGAAAGATTAAAGCAGCAATGCGCTTGGGGATGGGCTCGCGGCCTATTAGTTAGTTGGTGAGGTAACGGCTCACCAAGGCGATGACGGGTAGCCGGTCTGAGAGGATGTCCGGCCACACTGGAACTGAGACACGGTCCAGACACCTACGGGTGGCAGCAGTCGAGTATCATTCACAATGGGGGAAACCCTGATGGTGCGACGCCGCGTGGGGGAATGAAGGTCTTCGGATTGTAAACCCCTGTCATGTGGGAGCAAATTAAAAAGATAGTACCACAAGAGGAAGAGACGGCTAACTCTGTGCCAGCAGCCGCGGTAATACAGAGGTCTCAAGCGTTGTTCGGAATCACTGGGCGTAAAGCGTGCGTAGGCTGTTTCGTAAGCCGTGTGTGAAAGGCGCGGGCTCAACCCGCGGACGGCACATGATACTGCGAGACTAGAGTAATGGAGGGGGAACCGGAATTCTCGGTGTAGCAGTGAAATGCGTAGATATCGAGAGGAACACTCGTGGCGAAGGCGGGTTCCTGGACATTAACTGACGCTGAGGCACGAAGGCCAGGGGAGCGAGAGGGATTAGATACCCCTGTAGTCCTGGCAGTAAACGGTGCACGCTTGGTGTGCGGGGAATCGACCCCCTGCGTGCCGGAGCTAACGCGTTAAGCGTGCCGCCTGGGGAGTACGGTCGCAAGATTAAAACTCAAAGAAATTGACGGGGACCCGCACAAGCGGTGGAGTATGTGGCTTAATTCGATGCAACGCGAAGAACCTTACCTGGGCTTGACATGTAATGAACAACATGTGAAAGCATGCGACTCTTCGGAGGCGTTACACAGGTGCTGCATGGCCGTCGTCAGCTCGTGTCGTGAGATGTTTGGTTAAGTCCAGCAACGAGCGCAACCCCTGTTGCCAGTTACCAGCACGTGAAGGTGGGGACTCTGGCGAGACTGCCCAGATCAACTGGGAGGAAGGTGGGGACGACGTCAGGTCAGTATGGCCCTTATGCCCAGGGCTGCACACGTACTACAATGCCCAGTACAGAGGGGGCCGAAGCCGCGAGGCGGAGGAAATCCTAAAAACTGGGCCCAGTTCGGACTGTAGGCTGCAACCCGCCCACACGAAGCCGGAACCGCTAGTAATGGCGCATCAGCTACGGCGCCGCGAATACGTTCCCGGGTCTTGTACACACCGCCCGTCACATCATGGAAGCCGGTCGCACCCGAAGTATCTGAAGCCAACCGCAAGGAGGCAGGGTCCTAAGGTGAGACTGGTAACTGGGATGAAGTCGTAACTAGGTAAC</td><td>null</td><td>ba80100f6b1317329c9b06ec952c3886</td></tr><tr><td>8991638</td><td>URS0000893396</td><td>2015-10-20T18:04:07.000+0000</td><td>RNACEN</td><td>AFB905931973766C</td><td>1415</td><td>AACGCTGAAAGCCCAGCTTGCTGGGTGGATGAGTGGCGAACGGGTGAGTAACACGTGGGTAATCTGCCCTGTACTCTGGGATAAGCCTGGGAAACTGGGTCTAATACCGGATAGGACACACTGCCGCATGGTGGTGTGTGGAAAGCTCCGGCGGTACAGGTTGAGCCCGCGGCCTATCAGCTTGTTGGTGGGGTGATGGCCTACCAAGGCGACGACGGGTAGCCGGCCTGAGAGGGTGACCGGCCACACTGGGACTGAGACACGGCCCAGACTCCTACGGGAGGCAGCAGTGGGGAATATTGCACAATGGGCGCAAGCCTGATGCAGCGACGCCGCGTGGGGGATGACGGCCTTCGGGTTGTAAACCCCTTTCGCCAGGGACGAAGCGTAAGTGACGGTACCTGGAGAAGAAGCACCGGCCAACTACGTGCCAGCAGCCGCGGTAATACGTAGGGTGCAAGCGTTGTCCGGAATTATTGGGCGTAAAGAGCTCGTAGGCGGTGTGTCACGTCTGCCGTGAAAACCTGCGGCTTAACCGTGGGCGTGCGGTGGATACGGGCATCACTTGAGTTCGGTAGGGGAGACTGGAATTCCTGGTGTAGCGGTGGAATGCGCAGATATCAGGAGGAACACTGGTGGCGGCCCCGGTCCTCTGGGTAAAACGGCCCTGCGATACTGACGCTGATGAGCGAAAGCGTGGGGAGCGAACAGGATTAGCATACCCTGGTAGTCCACGCCGTAAACGTTGGGCGCTAGGTGTGGGGCGCTGTTCACGTGTCCCGTGCCGTAGCTAACGCATTAAGCGCCCCGCCTGGGGAGTACGGCCGCAAGGCTAAAACTCAAAGGAATTGACGGGGGCCCGCACAAGCGGCGGAGCATGTGGATTAATTCGATGCAACGCGAAGAACCTTACCTGGGCTTGACATGCACCGGATCGCCTCAGAGATGGGGTTTCCCTTGTGGTCGGTGCACAGGTGGTGCATGGCTGTCGTCCAGCCCTTTCCTCAGGATGTTGGTTTAATCCCGCAAACCAAGCGCAACCCTTGTCCCATGTTTGCCAGCGGGGTAATGCCGGGGACTCCTTGGGAGAACTGCCCGGGGGTCAACTCCGGAAAGAAAGGTGGGGATGACGTCAAGTCATCAAGCCCCTTATGTCCAGGGCTTCACACATGCTACAATGGCTGGTACAGAGGGTTGCGATACCGTGAGGTGGAGCGAATCCCTTAAAGCCAGTCTCAGTTCGGATCGCAGTCTGCAACTCGACTGCGTGAAGTCGGAGTCGCTAGTAATCGCAGATCAGCATTGCTGCGGTGAATACGTTCCCGGGCCTTGTACACACCGCCTGTCACGTCATGAAAGTCGGTAACACCCGAAGCCCATGGCCCAACCCGCTTGCGGGGGCCCGTGGTCGAAGG</td><td>null</td><td>edcbadd055decf871b55b3a5f7b512b9</td></tr><tr><td>8991195</td><td>URS00008931DB</td><td>2015-10-20T18:04:07.000+0000</td><td>RNACEN</td><td>2304520E354780B4</td><td>1481</td><td>TTTGATCCTGGCTCAGGATGAACGCTGGCGGCGTGCCTAATACATGCAAGTCGAGCGAACAGATGAGAAGCTTGCTTCTCTGATGTTAGCGGCGGACGGGTGAGTAACACGTGGGTAACCTACCTATAAGACTGGGATAACTCCGGGAAACCGGGGCTAATACCAGATAATACATTGAACCGCATGGTTCAATGTTGAAAGACGGTTTCGGCTGTCACTTATAGATGGACCCGCGCCGTATTAGCTAGTTGGTAAGGTAACGGCTTACCAAGGCAACGATACGTAGCCGACCTGAGAGGGTGATCGGCCACACTGGAACTGAGACACGGTCCAGACTCCTACGGGAGGCAGCAGTAGGGAATCTTCCGCAATGGGCGAAAGCCTGACGGAGCAACGCCGCGTGAGTGATGAAGGTCTTAGGATCGTAAAACTCTGTTGTTAGGGAAGAACAAATTTGTTAGTAACTGAACAAGTCTTGACGGTACCTAACCAGAAAGCCACGGCTAACTACGTGCCAGCAGCCGCGGTAATACGTAGGTGGCAAGCGTTATCCGGAATTATTGGGCGTAAAGCGCGCGTAGGCGGTTTCTTAAGTCTGATGTGAAAGCCCACGGCTCAACCGTGGAGGGTCATTGGAAACTGGGGAACTTGAGTGCAGAAGAGGAGAGTGGAATTCCATGTGTAGCGGTGAAATGCGCAGAGATATGGAGGAACACCAGTGGCGAAGGCGGCTCTCTGGTCTGTAACTGACGCTGATGTGCGAAAGCGTGGGGATCAAACAGGATTAGATACCCTGGTAGTCCACGCCGTAAACGAATGAGTGCTAAGGTTAGGGGGTTTCCGCCCCTTAGTGCTGCAGCTAACGCATTAAGCACTCCGCCTTGGGGAGTACGACCGCAAGGTTGAAACTCAAAGGAATTGACGGGGACCCGCACAAGCGGTGGAGCATGTGGTTTAATTCGAAGCAACGCGAAGAACCTTACCAAATCTTGACATCCTTTGACCGCTCTAGAGATAGAGTCTTCCCCTTCGGGGGACAAAGTGACAGGTGGTGCATGGTTGTCGTCAGCTCGTGTCGTGAGATGTTGGGTTAAGTCCCGCAACGAGCGCAACCCTTAAGCTTAGTTGCCATCATTAAGTTGGGCACTCTAGGTTGACTGCCGGTGACAAACCGGAGGAAGGTGGGGATGACGTCAAATCATCATGCCCCTTATGATTTGGGCTACACACGTGCTACAATGGATAATACAAAGGGCAGCGAACCCGCGAGGTCAAGCAAATCCCATAAAATTATTCTCAGTTCGGATTGTAGTCTGCAACTCGACTACATGAAGCTGGAATCGCTAGTAATCGTAGATCAGCATGCTACGGTGAATAAGTTCCCGGGTCTTGTACACACCGCCCGTCACACCACGAGAGTTTGTAACACCCGAAGCCGGTGGAGTAACCTAATATTAGGAGCTAGCCGTCGAAGGTGGGAC</td><td>null</td><td>c70ec74a719e6f9359c429a4a27035bb</td></tr><tr><td>8991196</td><td>URS00008931DC</td><td>2015-10-20T18:04:07.000+0000</td><td>RNACEN</td><td>092BE86A2720D1E5</td><td>1375</td><td>TGAACGCTGGCGGCAGGCCTAACACATGCAAGTCGAACGGTAACAGGAAGCAGCTTGCTGCTTCGCTGACGAGTGGCGGACGGGTGAGTAATGTCTGGGAAACTGCCTGATGGAGGGGGATAACTACTGGAAACGGTAGCTAATACCGCATAATGTCGCAAGACCAAAGAGGGGGACCTTCGGGCCTCTTGCCATCGGATGTGCCCAGATGGGATTAGCTAGTAGGTGGGGTAACGGCTCACCTAGGCGACGATCCCTAGCTGGTCTGAGAGGATGACCAGCCACACTGGAACTGAGACACGGTCCAGACTCCTACGGGAGGCAGCAGTGGGGAATATTGCACAATGGGCGCAAGCCTGATGCAGCCATGCCGCGTGTATGAAGAAGGCCTTCGGGTTGTAAAGTACTTTCAGCGGGGAGGAAGGTGTTGAGGTTAATAACCTCAGCAATTGACGTTACCCGCAGAAGAAGCACCGGCTAACTCCGTGCCAGCAGCCGCGGTAATACGGAGGGTGCAAGCGTTAATCGGAATTACTGGGCGTAAAGCGCACGCAGGCGGTCTGTCAAGTCGGATGTGAAATCCCCGGGCTCAACCTGGGAACTGCATTCGAAACTGGCAGGCTAGAGTCTTGTAGAGGGGGGTAGAATTCCAGGTGTAGCGGTGAAATGCGTAGAGATCTGGAGGAATACCGGTGGCGAAGGCGGCCCCCTGGACAAAGACTGACGCTCAGGTGCGAAAGCGTGGGGAGCAAACAGGATTAGATACCCTGGTAGTCCCACGCCGTAAACGATGTCGACTTGGAGGTTGTGCCCTTGAGGCGTGGCTTCCGGAGCTAACGCGTTAAGTCGACCGCCTGGGGAGTACGGCCGCAAGGTTAAAACTCAAATGAATTGACGGGGGCCCGCACAAGCGGTGGAGCATGTGGTTTAATTCGATGCAACGCGAAGAACCTTACCTACTCTTGACATCCAGAGAACTTTCCAGAGATGGATTGGTGCCTTCGGGAACTCTGAGACAGGTGCTGCATGGCTGTCGTCAGCTCGTGTTGTGAAATGTTGGGTTAAGTCCCGCAACGAGCGCAACCCTTATCCTTTGTTGCCAGCGGTTAGGCCGGGAACTCAAAGGAGACTGCCAGTGATAAACTGGAGGAAGGTGGGGATGACGTCAAGTCATCATGGCCCTTACGAGTAGGGCTACACACGTGCTACAATGGCGCATACAAAGAGAAGCGACCTCGCGAGAGCAAGCGGACCTCATAAAGTGCGTCGTAGTCCGGATTGGAGTCTGCAACTCGACTCCATGAAGTCGGAATCGCTAGTAATCGTGGATCAGAATGCCACGGTGAATACGTTCCCGGGCCTTGTACTCACCGCC</td><td>null</td><td>ed647700fe1d0a9a8d774d7beb3c4726</td></tr><tr><td>8991197</td><td>URS00008931DD</td><td>2015-10-20T18:04:07.000+0000</td><td>RNACEN</td><td>E97C5CB927F371CC</td><td>1429</td><td>ATACATGCAAGTCGAGCGAACTGATTAGAAGCTTGCTTCTATGACGTTAGCGGCGGACGGGTGAGTAACACGTGGGCAACCTGCCTGTAAGACTGGGATAACTCCGGGAAACCGGAGCTAATACCGGATAACATTTTCTCTTGCATAAGAGAAAATTGAAAGATGGTTTCGGCTATCACTTACAGATGGGCCCGCGGTGCATTAGCTAGTTGGTGAGGTAACGGCTCACCAAGGCAACGATGCATAGCCGACCTGAGAGGGTGATCGGCCACACTGGGACTGAGACACGGCCCAGACTCCTACGGGAGGCAGCAGTAGGGAATCTTCCGCAATGGACGAAAGTCTGACGGAGCAACGCCGCGTGAGTGATGAAGGCTTTCGGGTCGTAAAACTCTGTTGTTAGGGAAGAACAAGTACAAGAGTAACTGCTTGTACCTTGACGGTACCTAACCAGAAAGCCACGGCTAACTACGTGCCAGCAGCCGCGGTAATACGTAGGTGGCAAGCGTTATCCGGAATTATTGGGCGTAAAGCGCGCGCAGGCGGTTTCTTAAGTCTGATGTGAAAGCCCACGGCTCAACCGTGGAGGGTCATTGGAAACTGGGGAACTTGAGTGCAGAAGAGAAAAGCGGAATTCCACGTGTAGCGGTGAAATGCGTAGAGATGTGGAGGAACACCAGTGGCGAAGGCGGCTTTTTGGTCTGTAACTGACGCTGAGGCGCGAAAGCGTGGGGAGCAAACAGGATTAGATACCCTGGTAGTCCACGCCGTAAACGATGAGTGCTAAGTGTTAGAGGGTTTCCGCCCTTTAGTGCTGCAGCTAACGCATTAAGCACTCCGCCTGGGGAGTACGGTCGCAAGACTGAAACTCAAAGGAATTGACGGGGGCCCGCACAAGCGGTGGAGCATGTGGTTTAATTCGAAGCAACGCGAAGAACCTTACCAGGTCTTGACATCCTCTGACAACTCTAGAGATAGAGCGTTCCCCTTCGGGGGACAGAGTGACAGGTGGTGCATGGTTGTCGTCAGCTCGTGTCGTGAGATGTTGGGTTAAGTCCCGCAACGAGCGCAACCCTTGATCTTAGTTGCCAGCATTTAGTTGGGCACTCTAAGGTGACTGCCGGTGACAAACCGGAGGAAGGTGGGGATGACGTCAAATCATCATGCCCCTTATGACCTGGGCTACACACGTGCTACAATGGATGGTACAAAGGGCTGCAAGACCGCGAGGTCAAGCCAATCCCATAAAACCATTCTCAGTTCGGATTGTAGGCTGCAACTCGCCTACATGAAGCTGGAATCGCTAGTAATCGCGGATCAGCATGCCGCGGTGAATACGTTCCCGGGCCTTGTACACACCGCCCGTCACACCACGAGAGTTTGTAACACCCGAAGTCGGTGGGGTAACCTTTATGGAGCCAGCCGCCTA</td><td>null</td><td>611ba79afb30f26373c471791cb3b96a</td></tr><tr><td>12686429</td><td>URS0000C1945D</td><td>2017-10-19T09:46:04.149+0000</td><td>rnacen</td><td>D4C04F73AB81E842</td><td>72</td><td>GAGGGTATAGCTCAGTGGTAGAGCATTTGACTGCAGATCAAGAGGTCCCTGGTTCTAATCCAGGTGCCCCCA</td><td>null</td><td>28e1938fe1ee589e284ef1812092e638</td></tr><tr><td>8991198</td><td>URS00008931DE</td><td>2015-10-20T18:04:07.000+0000</td><td>RNACEN</td><td>CF931F4FF2D03186</td><td>1455</td><td>GAACGCTGGCGGAACGCTTTACACATGCAAGTCGAACGGTAACGCGGAGAGAAGCTTGCTTCTCACCGGCGACGAGTGGCGAACGGGTGAGTAATACATCGGAACGTGTCCGCTCGTGGGGGACAACCAGCCGAAAGGTTGGCTAATACCGCATGAGTTCTACGGAAGAAAGAGGGGGACCCGCAAGGGCCTCTCGCGAGCGGAGCGGCCGATGACTGATTAGCCGGTTGGTGAGGTAACGGCTCACCAAAGCAACGATCAGTAGCTGGTCTGAGAGGACGACCAGCCACACTGGGACTGAGACACGGCCCAGACTCCTACGGGAGGCAGCAGTGGGGAATTTTGGACAATGGGCGCAAGCCTGATCCAGCTATTCCGCGTGTGGGATGAAGGCCCTCGGGTTGTAAACCACTTTTGTAGAGAACGAAAAGACACCTTCGAATAAAGGGTGTTGCTGACGGTACTCTAAGAATAAGCACCGGCTAACTACGTGCCAGCAGCCGCGGTAATACGTAGGGTGCGAGCGTTAATCGGAATTACTGGGCGTAAAGGGTGCGCAGGCGGTTGAGTAAGACAGATGTGAAATCCCCGAGCTTGACTCGGGAATGGCATATGTGACTGCTCGACTAGAGTGTGTCAGAGGGAGGTGGAATTCCACGTGTAGCAGTGAAATGCGTAGATATGTGGAAGAACACCGATGGCGAAGGCAGCCTCCTGGGACATAACTGACGCTCAGGCACGAAAGCGTGGGGAGCAAACAGGATTAGATACCCTGGTAGTCCACGCCCTAAACGATGTTAACTAGTTGTTGGGAAGTAAAATTCTCAGTAACGCAGCCAACGCGAGAAGTTAACCGCCTGGGAAGTACGGTCGCAAGACTAAAACTCAAAGGAATTGACGGGGACCCGCACAAGCGGTGGATGATGTGGATTAATTCGATGCAACGCGAAAAACCTTACCTACCCTTGACATGTCAGGAAGCTCTTGTAATGAGAGTGTGCCCGCAAGGGAGCCTGAACACAGGTGCTGCATGGCTGTCGTCAGCTCGTGTCGTGAGATGTTGGGTTAAGTCCCGCAACGAGCGCAACCCTTGTCACTAGTTGCTACGAAAGGGCACTCTAGTGAGACTGCCGGTGACAAACCGGAGGAAGGTGGGGATGACGTCAAGTCCTCATGGCCCTTATGGGTAGGGCTTCACACGTCATACAATGGTCGGAACAGAGGGCAGCGAAGTCGTGAGACGGAGCCAATCCCAGAAAACCGATCGTAGTCCGGATTGCAGTCTGCAACTCGACTGCATGAAGTCGGAATCGCTAGTAATCGCGGATCAGCATGCCGCGGTGAATACGTTCCCGGGTCTTGTACACACCGCCCGTCAAACAATGGGAGTGGTGTTTACCAGAAGTCGTTAGCCTAACCGCAAGGAGGGCGGCGACCACGGTGAGCACCGTGACT</td><td>null</td><td>ba2b77b5eadc4ee8cd3a3017c25258d9</td></tr><tr><td>8991199</td><td>URS00008931DF</td><td>2015-10-20T18:04:07.000+0000</td><td>RNACEN</td><td>F2555BD69FDD0739</td><td>1401</td><td>TTTGATTATGGCTCAGGATGAACGCCTGGCTACAGGCTTAACACATGCAAGTCGAGGGGAAACGGCATTTGAGCGCTTTGCACTGAATGGACGTCGACCGGCGCACGGGTGAGTAACGCGTATCCAACCTTCCCGTTACTGCGGGATAACCTGCCGAAAGGCAGACTAATACCGCATGTTCTTCGATGACGGCATCAGATTCGAAGCAAAGATCCGTCGGTAACGGAGGGGGATGCGTCTGATTAGCTAGTTGGCGGGGCGACGGCCCACCAAGGCGACGATCAGTAGGGGTTCTGAGAGGAAGGTCCCCCACATTGGAACTGAGACACGGTCCAAACTCCTACGGGAGGCAGCAGTGAGGAATATTGGTCAATGGGCGGAAGCCTGAACCAGCCAAGTAGCGTGCAGGATGACGGCCCTACGGGTTGTAAACTGCTTTTATGCGGGGATAAAGTGAGGGACGCGTCCCTTTTTGCAGGTACCGCATGAATAAGGACCGGCTAATTCCGTGCCAGCAGCCGCGGTAATACGGAAGGTCCGGGCGTTATCCGGATTTATTGGGTTTAAAGGGAGCGTAGGCCGGGGATTAAGTGTGTTGTGAAATGTAGGCGCCCAACGTCTGACTTGCAGCGCATACTGGTTCCCTTGAGTACGCGCAACGCCGGCGGAATTCGTCGTGTAGCGGTGAAATGCTTAGATATGACGAAGAACCCCGATTGCGAAGGCAGCCGGCGGGAGCGCAACTGACGCTGAAGCTCGAAGGTGCGGGTATCGAACAGGATTAGATACCCTGGTAGTCCGCACGGTAAACGATGGATGCCCGCTGTCGGCGCCTTGCGCCGGCGGCCAAGCGAAAGCGTTAAGCATCCCACCTGGGGAGTACGCCGGCAACGGTGAAACTCAAAGGAATTGACGGGGGCCCGCACAAGCGGAGGAACATGTGGTTTAATTCGATGATACGCGAGGAACCTTACCCGGGCTTGAATCGCAGGAGAACGAAACAGAGATGTTGAGGTCCTTCGGGACTCCTGCGAAGGTGCTGCATGGTTGTCGTCAGCTCGTGCCGTGAGGTGTCGGCTTAAGTGCCATAACGAGCGCAACCCCTCTCCCCAGTTGCCATCGGGTGATGCCGGGCACTCCGGGGACACTGCCGCCGCAAGGTGCGAGGAAGGTGGGGACGACGTCAAATCAGCACGGCCCTTACGTCCGGGGCTACACACGTGTTACAATGGCCGGTACAGAGCGCCGGTGCGGCGCGAGCCGCATCTAATCTTGAAAACCGGTCTCAGTTCGGACTGGGGTCTGCAACCCGACCCCACGAAGCTGGATTCGCTAGTAATCGCGCATTCAGCCACGGCGCGGTGAATACGTTTCCCGGGCCTTGTACACACCCGCCCGTCA</td><td>null</td><td>c70f2c4fb8bc9bf914ca5655f334bfe4</td></tr><tr><td>8991203</td><td>URS00008931E3</td><td>2015-10-20T18:04:07.000+0000</td><td>RNACEN</td><td>1E854EC43938ED26</td><td>1436</td><td>AATCCGGTTGATCCTGCCGGACCTGACTGCTATCGGATTGATACTAAGCCATGCGAGTCATTGTAGCAATACAAGGCATACGGCTCAGTAACGCGTAGTCAACCTAACCTATGGACGGGAATAACCTCGGGAAACTGAGAATAATGCCCGATAGAACACTATACCTGGAATGGTTTGTGTTCCAAATGATTTATCGCCATAGGATGGGACTGCGGCCTATCAGTTTGTTGGTGAGGTAATGGCCCACCAAGACTATTACAGGTACGGGCTCTGAGAGGAGTAGCCCGGAGATGGGTACTGAGACACGGACCCAGGCCCTATGGGGCGCAGCAGGCGAGAAAACTTTGCAATGTGCGAAAGCACGACAAGGTTAATCCGAGTGATTTGTGCTAAACGAATCTTTTGTTAGTCCTAGAAACACTAACGAATAAGGGGTGGGCAAGTTCTGGTGTCAGCCGCCGCGGTAAAACCAGCACCTCAAGTGGTCAGGATGATTATTGGGCCTAAAGCATCCGTAGCCGGCTCTGTAAGTTTTCGGTTAAATCTGTACGCTTAACGTACAGGCTGCCGGGAATACTGCAAAGCTAGGGAGTGGGAGAGGTAGACGGTACTCGGTAGGAAGTGGTAAAATGCTTTGATCTATCGATGACCACCTGTGGCGAAGGCGGTCTACCAGAACACGTCCGACGGTGAGGGATGAAAGCTGGGGGAGCAAACCGGATTAGATACCCGGGTAGTCCCAGCTGTAAACTATGCAAACTCAGTGATGCATTGGCTTGTGGCCAATGCAGTGCTGCAGGGAAGCCGTTAAGTTTGCCGCCTGGGAAGTACGTACGCAAGTATGAAACTTAAAGGAATTGGCGGGGGAGCACCACAAGGGGTGAAGCTGCGGTTCAATTGGAGTCAACGCCAGAAATCTTACCCGGAGAGACAGCAGAATGAAGGTCAAGCTGAAGACTTTACCAGACAAGCTGAGAGGTGGTGCATGGCCGTCGCCAGCTCGTGCCGTGAGATGTCCTGTTAAGTCAGGTAACGAGCGAGATCCCTGCCTCTAGTTGCCACCATTACTCTCAGGAGTAGTGGGGCGAATTAGCGGGACCGCCGCAGTTAATGCGGAGGAAGGAAGGGGCCACGGCAGGTCAGTATGCCCCGAAACTCTGGGGCCACACGCGGGCTGCAATGGTAGCGACAATTGGTTTCGAATCCGAAAGGATGAGGTAATCCACAAACGCTACCACAGTTATGACTGAGGGCTGCAACTCGCCCTCACGAATATGGAATCCCTAGTAACTGCGTGTCATTATCGCGCGGTGAATACGTCCCTGCTCCTTGCACACACCGCCCGTCGTTTCATTGAAGTGAGCTTTTAGCGAGGTGACGTCTAATTGGCGTTATCGAACTTGAGGTTCGTGACAAGGGAAAAGTCGTAACAAGGT</td><td>null</td><td>c70f4a247687baa73bc0329ce55af1b3</td></tr><tr><td>8991206</td><td>URS00008931E6</td><td>2015-10-20T18:04:07.000+0000</td><td>RNACEN</td><td>240043A7EBC33F15</td><td>1345</td><td>AAAGGGCTTCGGCCTGAGTAAAGTGGCGTACGGGTGAGTAACACGTGAATGATCTACCTCCGAGTGGGGAATAACCTAGAGAAATCTGGGCTAATACCGCATAACACTTACGAGTCAAAGCAGCAATGCGCTTGGAGAGGAGTTCGCGGCCGATTAGTTAGTTGGCAGGGTAATGGCCTACCAAGACGATGATCGGTATCCGGCCTGAGAGGGCGCACGGACACACTGGAACTGAAACACGGTCCAGACTCCTACGGGAGGCAGCAGTGGGGAATTTTGCGCAATGGGGGAAACCCTGACGCAGCAACGCCGCGTGGAGGATGAAATCCCTTGGGATGTAAACTCCTTTCGATAGGGAAGATAATGACGGTACCTATAGAAGAAGCCCCGGCTAACTTCGTGCCAGCAGCCGCGGTAATACGAGGGGGGCAAGCGTTGTTCGGAATTATTGGGCGTAAAGGGTGCGTAGGCGGTCTGACAAGTCTGATGTGAAATCTATGGGCTCAACCCATAGTCTGCATCGGAAACTGTCGGGCTTGAGTATGGGAGAGGTGAGTGGAATTTCCGGTGTAGCGGTGAAATGCGTAGATATCGGAAGGAACACCTGTGGCGAAAGCGGCTCACTGGACCATTACTGACGCTGAGGCACGAAAGCTAGGGGAGCAAACAGGATTAGATACCCTGGTAGTCCTAGCCCTAAACGATGATTGCTTGATGTGACAGGTACCCAATCCTGTCGTGTCGAAGCTAACGCGATAAGCAATCCGCCTGGGGAGTACGGTCGCAAGGCTGAAACTCAAAGGAATTGACGGGGGCCCGCACAAGCGGTGGAGCATGTGGTTTAATTCGACGCAACGCGAAGAACCTTACCTGGGCTCGAAATGCACAGGAATCCGGTAGAAACATCGGCGTCCAGCAATGGACCTGTGTATAGGTGCTGCATGGCTGTCGTCAGCTCGTGTCGTGAGATGTTGGGTTAAGTCCCGCAACGAGCGCAACCCTTATCTCCAGTTGCTACCATTTAGTTGAGCACTCTGGCGAAACCGCCTCGGATAACGGGGAGGAAGGTGGGGATGACGTCAAGTCTCTCATGGCCTTTATGTCCAGGGCTACACACGTGCTACAATGGCCGGTACAAACCGCTGCAAACCCGCGAGGGGGAGCTAATCGGAAAAAGCCGGCCTCAGTTCGGATTGGAGTCTGCAACTCGACTCCATGAAGCTGGAATCGCTAGTAATCGCAGATCAGCACGCTGCGGTGAATACGTTCCCGGGCCTTGTACACACCGCCCGCCACATCACGAAAGTGGGTTGCACTAGAAGTCGGTGCGCTAACCGCAAGGGAG</td><td>null</td><td>ba2bea7a7300ee3e5a786c09a4ef8d29</td></tr><tr><td>8992493</td><td>URS00008936ED</td><td>2015-10-20T18:04:07.000+0000</td><td>RNACEN</td><td>35BA7CD1CF861770</td><td>1469</td><td>GGACGAACGCTGGCGGCGTGCTTAACACATGCAAGTCGAACGGAGAACTTATTTCGGTAAGTTCTTAGTGGCGAACGGGTGAGTAACGCGTGGGCAACCTGCCCTCCAGTTGGGGACAACATTCCGAAAGGGATGCTAATACCGAATGTGCTCCCTCCTCCGCATGGAGGAGGGAGGAAAGATGGCCTCTGCTTGCAAGCTATCGCTGGAAGATGGGCCCGCGTCTGATTAGCTAGTTGGTGGGGTAACGGCTCACCAAGGCGATGATCAGTAGCCGGTCTGAGAGGATGAGCGGCCACATTGGGACTGAGACACGGCCCAAACTCCTACGGGAGGCAGCAGTGGGGAATCTTCCGCAATGGACGAAAGTCTGACGGAGCAACGCCGCGTGAGTGGTGAAGGTCTTCGGATTGTAAAACTCTGTTGTTAGGGACGAAAGCACCGTGTTCGAACAGGTCATGGTGTTGACGGTACCTAACGAGGAAGCCACGGCTAAATACGTGCCAGCAGCCGCGGTAATACGTAGGTGGCAAGCGTTGTCCGGAATTATTGGGCGTAAAGAGCATGTAGGCGGGCTTTTAAGTCTGACGTGAAAATGCGGGGCTTAACCCCGTATGGCGTTGGATACTGGAAGTCTTGAGTGCAGGAGAGGAAAGGGGAATTCCCAGTGTAGCGGTGAAATGCGTAGATATTGGGAGGAACACCAGTGGCGAAGGCGCCTTTCTGGACTGTGTCTGACGCTGAGATGCGAAAGCCAGGGTAGCAAACGGGATTAGATACCCCGGTAGTCCTGGCCGTAAACGATGGATACTAGGTGTAGGAGGTATCGACCCCTTCTGTGCCGGAGTTAACGCAATAAGTATCCCGCCTGGGGACTACGATCGCAAGATTGAAACTCAAAGGAATTGACGGGGGCCCGCACAAGCGGTGGAGTATGTGGTTTAATTCGACGCAACGCGAAGAACCTTACCAAGGCTTGACATTGAGTGAAAGACCTAGAGATAGGTCCCTCCCTTCGGGGACACGAAAACAGGTGGTGCATGGCTGTCGTCAGCTCGTGTCGTGAGATGTTGGGTTAAGTCCCGCAACGAGCGCAACCCCTATCCTATGTTACCAGCGCGTAATGGCGGGGACTCATAGGAGACTGCCAGGGATAACTTGGAGGAAGGCGGGGATGACGTCAAGTCATCATGCCCCTTATGTCTTGGGCTACACACGTACTACAATGGTCGGCAACAAAGGGCAGCGAAACCGCGAGGTGGAGCAAATCCCAGAAACCCGACCCCAGTTCGGATCGTAGGCTGCAACCCGCCTACGTGAAGTTGGAATCGCTAGTAATCGCAGGTCAGCATACTGCGGTGAATACGTTCCCGGGCCTTGTACACACCGCCCGTCACACCACGAAAGTTGGTAACACCCGAAGCCGGTGAGATAACCTTTTAGGAGTCAGCTGTCTAAGGTGGGGCCGA</td><td>null</td><td>bb3ac3ff4992a8a30af72da3594956f7</td></tr></tbody></table></div>"
      ]
     },
     "metadata": {
      "application/vnd.databricks.v1+output": {
       "addedWidgets": {},
       "aggData": [],
       "aggError": "",
       "aggOverflow": false,
       "aggSchema": [],
       "aggSeriesLimitReached": false,
       "aggType": "",
       "arguments": {},
       "columnCustomDisplayInfos": {},
       "data": [
        [
         8988357,
         "URS00008926C5",
         "2015-10-20T18:04:07.000+0000",
         "RNACEN",
         "F9626977AB4E17FB",
         1336,
         "TCAGCGGCGAACGGGTGAGTAACACGTGGGTGACTTGCCCCGAAGATGGGGATAACCTCTGGAAACGGGGGCTAATACCCAATGTGCTCGGTGATTCGGTTCATCGAGTAAAGCTCCGGCGCTTCGGGAGAGGCCTGCGGCCCATCAGCTAGTTGGTAGGGTAACGGCCTACCAAGGCAGAGGCGGGTAGGGGGCGTGAGAGCGCGGACCCCCACACTGGCACTGAGATACGGGCCAGACTCCTACGGGAGGCAGCAGTAAGGGATATTGCGCAATGGACGAAAGTCAGACGCAGCGACGCCGCGTGGGCGATGAAGGCCTTCGGGTTGTAAAGCCCTTTTATGGGGGAAGAGAAAAAGGACGGTACCCCAGGAATAAGTCCCGGCTAACTACGTGCCAGCAGCCGCGGTAAAACGTAGGGGACAAGCGTTATCCGGATTCACTGGGCGTAAAGAGCGTTGAGGCGGTTCCGTAAGTTGGGCGTGAAAGCTCCGGGCTTAACTCGGAGATGTCGTTCAATACTGCGGGGCTTGAGGACAGCAGAGGAAGGTGGAATTCCCGGTGTAGTGGTGAAATGCGTAGATATCGGGAGGAACACCCGTGGCGAAGGCGGCCTTCTGGGCTGTTCCTGACGCTGAAGGCGAAAGCTAGGGGAGCGAACGGGATTAGATACCCCGGTAGTCCTAGCTGTAAACGATGGATGCTGGGTGTGGGGGGTGTAAATTCCCTCTGTGCCGAAGCAAACGCGTTAAGCATCCCGCCTGGGGACTACGGCCGCAAGGCTAAAACTCAAACGAATTGACGGGGGCCCGCACAAGCAGCGGAGCGTGTGGTTTAATTCGATGCTACACGAAGAACCTTACCTGGGTTTGACATGCACGTGGTAGGGAACCGAAAGGGGACCGACCTTCGGGAGCGTGCACAGGTGCTGCATGGCTGTCGTCAGCTCGTGCCGTGAGGTGTCGGGTTAAGTCCCGTAACGAGCGCAACCCTTGCCCTTAGTTACAAGTGTCTAAGGGGACTGCCCGGGACAACTGGGAGGAAGGTGGGGATGACGTCAAGTCAGCATGGCCTTTATATCCAGGGCTACACACACGCTACAATGGCCGGTACAATAGGTTGCGAAGTCGTGAGGCGGAGCCAATCCTCAAAGCCGGTCTCAGTTCGAATTGCAGTCTGCAACTCGACTGCATGAAGCTGGAGTTGCTAGTAATCGCAGGTCAGCTATACTGCGGTGATACGTTCCCGGGCCTTGTACACACCGCCCGTCACGTCATGGAAGCTGGCAACGCCTGAAGCCGGTGAGCTAACCCGAAAGGGAGGCAGCCGTCGAGGG",
         null,
         "fe4792a9218a34fdee33c9c52c548cf7"
        ],
        [
         8988360,
         "URS00008926C8",
         "2015-10-20T18:04:07.000+0000",
         "RNACEN",
         "DEA611A8ABDE9078",
         1307,
         "ACTGCTATCGGATTGATACTAAGCCATGCGAGTCATTGTAGCAATACAAGGCATACGGCTCAGTAACGCGTAGTCAACCTAACCTATGGACGGGAATAACCTCGGGAAACTGAGAATAATGCCCGATAGAACATTATGCCTGGAATGGTTTATGTTCCAAATGATTTATCGCCGTAGGATGGGACTGCGGCCTATCAGTTTGTTGGTGAGGTAATGGCCCACCAAGACTATTACAGGTACGGGCTCTGAGAGGAGTAGCCCGGAGATGGGTACTGAGACACGGACCCAGGCCCTATGGGGCGCAGCAGGCGAGAAAACTTTGCAATGTGCGAAAGCACGACAAGGTTAATCCGAGTGATTTGTGCTAAACGAATCTTTTGTTAGTCCTAGAAACACTAACGAATAAGGGGTGGGCAAGTTCTGGTGTCAGCCGCCGCGGTAAAACCAGCACCTCAAGTGGTCAGGATGATTATTGGGCCTAAAGCATCCGTAGCCGGCCCTGTAAGTTTTCGGTTAAATCTGTACGCTTAACGTACAGGCTGCCGGGAATACTGCAGAGCTAGGGAGTGGGAGAAGTAGACGGTACTCGGTAGGAAGTGGTAAAATGCTTTGATCTATCGATGACCACCTGTGGCGAAGGCGGTCTACTAGAACACGTCCGACGGTGAGGGATGAAAGCTGGGGGAGCAAACCGGATTAGATACCCGGGTAGTCCCAGCTGTAAACTATGCAAACTCAGTGATGCATTGGCTTGTGGCCAATGCAGTGCTGCAGGGAAGCCGTTAAGTTTGCCGCCTGGGAAGTACGTACGCAAGTATGAAACTTAAAGGAATTGGCGGGGGAGCACCACAAGGGGTGAAGCCTGCGGTTCAATTGGAGTCAACGCCAGAAATCTTACCCGGAGAGACAGCAGAATGAAGGTCAAGCTGAAGACTTTACCAGACAAGCTGAGAGGTGGTGCATGGCCGTCGCCAGCTCGTGCCGTGAGATGTCCTGCTAAGTCAGGTAACGAGCGAGATCCCTGCCTCTAGTTGCCACCATTACTCTCAGGAGTAGTGGGGCGAATTAGCGGGACCGCCGCAGTTAATGCGGAGGAAGGAAGGGGCCACGGCAGGTCAGTATGCCCCGAAACTCTGGGGCCACACGCGGGCTGCAATGGTAACGACAATTGGTTTCGAATCCGAAAGGATGAGGTAATCCTCAAACGTTACCACAGTTATGACTGAGGGCTGCAACTCGCCCTCACGAATATGGAATCCCTAGTAACTGCGTGTCATTATCGCGCGGTGAATACGTCCCTGCTCCTT",
         null,
         "5eb946fc85a2e16f40b2de67dbff627b"
        ],
        [
         8988361,
         "URS00008926C9",
         "2015-10-20T18:04:07.000+0000",
         "RNACEN",
         "AE161A21AF6713C0",
         1367,
         "AGCCCAGCTTGCTGGGTGGATTAGTGGCGAACGGGTGAGTAACACGTGAGTAACCTGCCCTTGACTCTGGGATAAGCCTGGGAAACTGGGTCTAATACCGGATAGGAACGTCCACCGCATGGTGGGTGTTGGAAAGATTTATCGGTCATGGATGGACTCGCGGCCTATCAGCTTGTTGGTGAGGTAATGGCTCACCAAGGCGACGACGGGTAGCCGGCCTGAGAGGGTGACCGGCCACACTGGGACTGAGACACGGCCCAGACTCCTACGGGAGGCAGCAGTGGGGAATATTGCACAATGGGCGAAAGCCTGATGCAGCGACGCCGCGTGAGGGATGACGGCCTTCGGGTTGTAAACCTCTTTCAGTAGGGAAGAAGCGAAAGTGACGGTACCTGCAGAAGAAGCACCGGCTAACTACGTGCCAGCAGCCGCGGTAATACGTAGGGTGCGAGCGTTATCCGGAATTATTGGGCGTAAAGAGCTCGTAGGCGGTTTGTCGCGTCTGTCGTGAAAGTCCGGGGCTTAACCCCGGATCTGCGGTGGGTACGGGCAGACTAGAGTGCAGTAGGGGAGACTGGAATTCCTGGTGTAGCGGTGGAATGCGCAGATATCAGGAGGAACACCGATGGCGAAGGCAGGTCTCTGGGCTGTAACTGACGCTGAGGAGCGAAAGCATGGGGAGCGAACAGGATTAGATACCCTGGTAGTCCATGCCGTAAACGTTGGGCACTAGGTGTGGGGACCATTCCACGGTTTCCGCGCCGCAGCTAACGCATTAAGTGCCCCGCCTGGGGAGTACGGCCGCAAGGCTAAAACTCAAAGGAATTGACGGGGGCCCGCACAAGCGGCGGAGCATGCGGATTAATTCGATGCAACGCGAAGAACCTTACCAAGGCTTGACATGTTCTCGATCGCCGTAGAGATACGGTTTCCCCTTTGGGGCGGGATCACAGGTGGTGCATGGTTGTCGTCAGCTCGTGTCGTGAGATGTTGGGTTAAGTCCCGCAACGAGCGCAACCCTCGTTCCATGTTGCCAGCACGTAATGGTGGGGACTCATGGGAGACTGCCGGGGTCAACTCGGAGGAAGGTGGGGACGACGTCAAATCATCATGCCCCTTATGTCTTGGGCTTCACGCATGCTACAATGGCCGGTACAATGGGTTGCGATACTGTGAGGTGGAGCTAATCCCAAAAAGCCGGTCTCAGTTCGGATTGGGGTCTGCAACTCGACCCCATGAAGTCGGAGTCGCTAGTAATCGCAGATCAGCAACGCTGCGGTGAATACGTTCCCGGGCCTTGTACACACCGCCCGTCAANTCACGAAAGTCGGTAACACCCGAAGCCGGTGGCCTAACCCTTGTGGGGG",
         null,
         "fe4849b1977b5be3c2a06183c24788c2"
        ],
        [
         8988362,
         "URS00008926CA",
         "2015-10-20T18:04:07.000+0000",
         "RNACEN",
         "03DF15DE82E78D7F",
         1398,
         "GAGTTTGATCATGGCTCAGGATGAACGCTGGCTACAGGCTTAACACATGCAAGTCGAGGGGAAACGGCATTTGGTGCTTGCACCGAATGGACGTCGACCGGCGCACGGGTGAGTAACGCGTATCCAACCTTCCCGTTACTGCGGGATAACCTGCCGAAAGGCAGACTAATACCGCATGTTCTTCGATGACGGCATCAGATTCGAAGCAAAGATCCGTCGGTAACGGAGGGGGATGCGTCTGATTAGCTAGTTGGCGGGGCGACGGCCCACCAAGGCGACGATCAGTAGGGGTTCTGAGAGGAAGGTCCCCCACATTGGAACTGAGACACGGTCCAAACTCCTACGGGAGGCAGCAGTGAGGAATATTGGTCAATGGGCGGAAGCCTGAACCAGCCAAGTAGCGTGCAGGATGACGGCCCTACGGGTTGTAAACTGCTTTTATGCGGGGATAAAGTGAGGGACGCGTCCCTTTTTGCAGGTACCGCATGAATAAGGACCGGCTAATTCCGTGCCAGCAGCCGCGGTAATACGGAAGGTCCGGGCGTTATCCGGATTTATTGGGTTTAAAGGGAGCGTAGGCCGGGGATTAAGTGTGTTGTGAAATGTAGGCGCCCAACGTCTGACTTGCAGCGCATACTGGTTCCCTTGAGTACGCGCAACGCCGGCGGAATTCGTCGTGTAGCGGTGAAATGCTTAGATATGACGAAGAACCCCGATTGCGAAGGCAGCCGGCGGGAGCGCAACTGACGCTGAAGCTCGAAGGTGCGGGTATCGAACAGGATTAGATACCCTGGTAGTCCGCACGGTAAACGATGGATGCCCGCTGTCGGCGCCTTGCGCCGGCGGCCAAGCGAAAGCGTTAAGCATCCCACCTGGGGAGTACGCCGGCAACGGTGAAACTCAAAGGAATTGACGGGGGCCCGCACAAGCGGAGGAACATGTGGTTTAATTCGATGATACGCGAGGAACCTTACCCGGGCTTGAATCGCAGGAGAACGAAACAGAGATGTTGAGGTCCTTCGGGACTCCTGCGAAGGTGCTGCATGGTCGTCGTCAGCTCGTGCCGTGAGGTGTCGGCTTAAGTGCCATAACGAGCGCAACCCCTCTCCCCAGTTGCCATCGGGTGATGCCGGGCACTCCGGGGACACTGCCGCCGCAAGGTGCGAGGAAGGCGGGGATGACGTCAAATCAGCACGGCCCTTACGTCCGGGGCTACACACGTGTTACAATGGCCGGCACAGAGTGTCGGTGCGGCGCGAGCCGCATCTAATCTTGAAAACCGGTCTCAGTTCGGACTGGGGTCTGCAACCCGACCCCACGAAGCTGGATTCGCTAGTAATCGCGCATCAGCCACGGCGCGGTGAATACGTTCCCGGGCCTTGCACACACCGCCCGTCA",
         null,
         "c4bb7b410de36a58cfe8a7f49c170fd5"
        ],
        [
         8988364,
         "URS00008926CC",
         "2015-10-20T18:04:07.000+0000",
         "RNACEN",
         "AE0439B061E1640E",
         1409,
         "GTCGAACGGTAACAGGAAGCAGCTTGCTGCTTTGCTGACGAGTGGCGGACGGGTGAGTAATGTCTGGGAAACTGCCTGATGGAGGGGGATAACTACTGGAAACGGTGGCTAATACCGCATAACGTCGCAAGACCAAAGAGGGGGACCTTCGGGCCTCTTGCCATCAGATGTGCCCAGATGGGATTAGCTTGTTGGTGAGGTAACGGCTCACCAAGGCGACGATCCCTAGCTGGTCTGAGAGGATGACCAGCCACACTGGAACTGAGACACGGTCCAGACTCCTACGGGAGGCAGCAGTGGGGAATATTGCACAATGGGCGCAAGCCTGATGCAGCCATGCCGCGTGTATGAAGAAGGCCTTCGGGTTGTAAAGTACTTTCAGCGGGGAGGAAGGTGTTGTGGTTAATAACCGCAGCAATTGACGTTACCCGCAGAAGAAGCACCGGCTAACTCCGTGCCAGCAGCCGCGGTAATACGGAGGGTGCAAGCGTTAATCGGAATTACTGGGCGTAAAGCGCACGCAGGCGGTCTGTCAAGTCGGATGTGAAATCCCCGGGCTCAACCTGGGAACTGCATTCGAAACTGGCAGGCTTGAGTCTTGTAGAGGGGGGTAGAATTCCAGGTGTAGCGGTGAAATGCGTAGAGATCTGGAGGAATACCGGTGGCGAAGGCGGCCCCCTGGACAAAGACTGACGCTCAGGTGCGAAAGCGTGGGGAGCAAACAGGATTAGATACCCTGGTAGTCCACGCCGTAAACGATGTCTACTTGGAGGTTGTGCCCTTGAGGCGTGGCTTCCGGAGCTAACGCGTTAAGTAGACCGCCTGGGGAGTACGGCCGCAAGGTTAAAACTCAAATGAATTGACGGGGGCCCGCACAAGCGGTGGAGCATGTGGTTTAATTCGATGCAACGCGAAGAACCTTACCTGGTCTTGACATCCACAGAACTTTCCAGAGATGGACTGGTGCCTTCGGGAACTGTGAGACAGGTGCTGCATGGCTGTCGTCAGCTCGTGTTGTGAAATGTTGGGTTAAGTCCCGCAACGAGCGCAACCCTTATCCTTTGTTGCCAGCGATTAGGTCGGGAACTCAAAGGAGACTGCCAGTGATAAACTGGAGGAAGGTGGGGATGACGTCAAGTCATCATGGCCCTTACGACCAGGGCTACACACGTGCTACAATGGCGCATACAAAGAGAAGCGACCTCGCGAGAGCAAGCGGACCTCATAAAGTGCGTCGTAGTCCGGATTGGAGTCTGCAACTCGACTCCATGAAGTCGGAATCGCTAGTAATCGTGGATCAGAATGCCACGGTGAATACGTTCCCGGGCCTTGTACACACCGCCCGTCACACCATGGGAGTGGGTTGCAAAAGAAGTAGGTAGCTTAACCTTCGGGAGGGCGCTTACCAC",
         null,
         "5ebae3845f9c331ae71786ed8c0fa100"
        ],
        [
         11797345,
         "URS0000B40361",
         "2017-10-13T16:48:29.334+0000",
         "rnacen",
         "7DEEC8E7492E0C07",
         426,
         "GTGAGGAATATTGGTCAATGGGCGAGAGCCTGAACCAGCCAAGTAGCGTGCAGGATGACGGCCCTATGGGTTGTAAACTGCTTTTATGCGGGGATAAAGTGCGCGACGTGTCGTGCATTGCAGGTACCGCATGAATAAGGACCGGCTAATTCCGTGCCAGCAGCCGCGGTAATACGGAAGGTCCGGGCGTTATCCGGATTTATTGGGTTTAAAGGGAGCGTAGGCCGCCAGGTAAGCGTGTTGTGAAATGTACCGGCTCAACCGGTGAATTGCAGCGCGAACTGTCTGGCTTGAGTGCACGGTAAGCAGGCGGAATTCATGGTGTAGCGGTGAAATGCTTAGATATCATGAAGAACTCCGATTGCGAAGGCAGCTTGCTGCAGTGCGACTGACGCTGATGCTCGAAGGTGCGGGTATCAAACAGGA",
         null,
         "1a56bf4ac54397a3fe81b23e3f14edc1"
        ],
        [
         8987869,
         "URS00008924DD",
         "2015-10-20T18:04:07.000+0000",
         "RNACEN",
         "501C63AF85F4994B",
         1378,
         "TGATCCTGGCGCAGGATGAACGGTGGCGGCGTGCTTAACACATGCAAGTCGAACGATGACTTTTGTGCTTGCACAAAATGATTAGTGGCGAACGGGTGAGTAACACGTGAGTAACCTGCCCTTAACTTCGGGATAAGCCTGGGAAACCGGGTCTAATACCGGATACGACGGATCACCGCATGGCGGTCCGTGGTAAGCTTGATGCGGTTTTGGATGGACTCGCGGCCTATCAGCTAGTTGGTTGGGGTAATGGCCCACCAAGGCGACGACGGGTAGCCGGCCTGAGAGGGTGACCGGCCACACTGGGACTGAGACACGGCCCAGACTCCTACGGGAGGCAGCAGTGGGGAATATTGCACAATGGGCGAAAGCCTGATGCAGCGACGCCGCGTGAGGGACGAAGGCCTTCGGGTTGTAAACCTCTTTCAGCAGGGAAGAAGCGAAAGTGACGGTACCTGCAGAAGAAGCGCCGGCTAACTACGTGCCAGCAGCCGCGGTAATACGTAGGGCGCAAGCGTTATCCGGAATTATTGGGCGTAAAGAGCTCGTAGGCGGTTTGTCGCGTCTGCTGTGAAAGCCCGGGGCTCAACCCCGGGTCTGCAGTGGGTACGGGCAGACTAGAGTGCAGTAGGGGAGACTGGAATTCCTGGTGTAGCGGTGAAATGCGCAGATATCAGGAGGAACACCGATGGCGAAGGCAGGTCTCTGGGCTGTAACTGACGCTGAGGAGCGAAAGCATGGGGAGCGAACAGGATTAGATACCCTGGTAGTCCATGCCGTAAACGTTGGGCACTAGGTGTGGGGGACATTCCACGTTTTCCGCGCCGTAGCTAACGCATTAAGTGCCCCGCCTGGGGAGTACGGCCGCAAGGCTAAAACTCAAAGGAATTGACGGGGGCCCGCACAAGCGGCGGAGCATGCGGATTAATTCGATGCAACGCGAAGAACCTTACCAAGGCTTGACATGAACCGGAAAGGCCTGGAAACAGGTCCCCCACTTGTGGCCGGTTTACAGGTGGTGCATGGTTGTCGTCAGCTCGTGTCGTGAGATGTTGGGTTAAGTCCCGCAACGAGCGCAACCCTCGTTCTATGTTGCCAGCGGGTTATGCCGGGGACTCATAGGAGACTGCCGGGGTCAACTCGGAGGAAGGTGGGGACGACGTCAAATCATCATGCCCCTTATGTCTTGGGCTTCACGCATGCTACAATGGCCGGTACAAAGGGTTGCGATACTGTGAGGTGGAGCTAATCCCAAAAAGCCGGTCTCAGTTCGGATTGAGGTCTGCAACTCGACCTCATGAAGTTGGAGTCGCTAGTAATCGCAGATCAGCAACGCTGCGGTGAATACGTTCCCGGGCCTTGTACACACCGCCCGTCA",
         null,
         "c449606151afed7968c2941f1fd7de5c"
        ],
        [
         8987870,
         "URS00008924DE",
         "2015-10-20T18:04:07.000+0000",
         "RNACEN",
         "E3CAEB752E19EF2A",
         1370,
         "TTAGAGTTTGATCCTGGCTCAGGACGACCTCTGGCGGCGTGCCTAACACATGCAAGTCGAACGAGGAATATTTTTCGAAATATTCTTAGTGGCGGACGGGTGAGTAACGCGTGAACAATCTGCCCTGTACAAAGGAATACCCTCGGGAAACCGGGATTAAAACCGTATGATACTTTGATGCCGCATGGCAATGAAGTCAAATATTTATAGGTATGGGATGAGTTCGCGTCTGATTAGCTGGTTGGTGAGGTAAAGGCCCACCAAGGCGACGATCAGTAGCCGGCCTGAGAGGGTGAACGGCCACACTGGAACTGAGACACGGTCCAGACTCCTACGGGAGGCAGCAGTGGGGAATATTGCACAATGGAGGGAACTCTGATGCAGCGACGCCGCGTGAGTGAAGAAGGTCTTCGGATCGTAAAACTCTGTCCTTGGTGAAGAAAAGGACGGTAGCCAAGGAGGAAGCCCCGGCTAACTACGTGCCAGCAGCCGCGGTAATACGTAGGGGGCGAGCGTTGTCCGGATTTACTGGGCGTAAAGGGTGAGTAGGCGGTAATATATGTCAGGTGTAAAAGATCATGGCTTAACCATGGTTAGCACTTGAAACTGTATGACTTGAGTGCAGGAGAGGTAAGCGGAATTCCTAGTGTAGCGGTGAAATGCGTAGATATTAGGAGGAACACCAGTGGCGAAGGCGGCTTACTGGACTGTAACTGACGCTGAGTCACGAAAGCGTGGGTAGCAAAGAGGATTAGATACCCTGGTAGTCCACGCGTAACCCATAGGGGTAGGTGTTGGGTAGCGATATTCAGTGCCGTAGTAAACACAATAAGCACTCCGCCTGGGGAGTACGTACGCAAGTATAAAACTCAAAGGAATTGACGGGGACCCGCACAAGCAGCGGAGCATGTGGTTTAATTCGAAGCAACGCGAAGAACCTTACCAAGGCTTGACATCCCCTTGACAGATGCAGAGATGTGTCCTCTCCTTCGGGAGCAAGGGAGACAGGTGGTGCATGGTTGTCGTCAGCTCGTGTCGTGAGATGTTGGGTTAAGTCCCGCAACGAGCGCAACCCTTATCCTTAGTTGCCATCAAGTTAAGTTGGGCACTCTAAGGAGACTGCCGGTGATAAACCGGAGGAAGGTGGGGATGACGTCAAATCATCATGCCCCTTATGTCTTGGGCTACACACGTGCTACAATGGTCGGTACAACGGGGAGCGAAGGAGCGATCCCAAGCAAATCCCAATAAACCGATCCCAGTTCGGATTGCAGGCTGCAACTCGCCTGCATGAAGTCGGAGTTGCTAGTAATCGCGAATCAGAACGTCGCGGTGAATGCGTTCCCGGGTCTTGTACACACCGCCCGTCA",
         null,
         "5e6050447aa0077452539fde5398aec8"
        ],
        [
         8988018,
         "URS0000892572",
         "2015-10-20T18:04:07.000+0000",
         "RNACEN",
         "9FEF66572DBF356C",
         1400,
         "CAGGATGAACGCTAGCGGGAGGCCTAATACATGCAAGTCGAGCGGTAGAACTAGCTTCGGTTGGTTTGAGAGCGGCGCACGGGTGAGTAACGCGTACGTAACCTGCCCTTCAGTGGGGAATAGCCCCGGGAAACTGGGATTAATGCCCCATGGTACTTTCGATCTGCCTGGATTGAAAGTTAAAGCTTCGGCGCTGAAGGATGGACGTGCGTCTGATTAGCTGGTTGGTGAGGTAACGGCTCACCAAGGCGACGATCAGTAGGGGGCGTGAGAGCGTGACCCCCCACACGGGTACTGAGACACGGACCCGACTCCTACGGGAGGCAGCAGTAAGGAATATTGGGCAATGGAGGCAACTCTGACCCAGCCATCCCGCGTGCAGGAAGACGGCCCTACGGGTTGTAAACTGCTTTTATGAAGGAAGAAAGGTTGGCATTTATGCTGATTTGACGGTACTTCAGGAATAAGCACCGGCTAACTCCGTGCCAGCAGCCGCGGTAATACGGAGGGTGCGAGCGTTATCCGGAATCACTGGGTTTAAAGGGTGCGTAGGCGGCCTGATAAGTCAGAGGTGAAAGTCTGCGGCTTAACCGTAGAATTGCCTTTGATACTGTTGGGCTTGAGTCAGGTTGAGGTTGGCGGAATGTGACATGTAGCGGTGAAATGCATAGATATGTCATAGAACACCGATTGCGAAGGCAGCTGACTGGACCTGAACTGACGCTGAGGCACGAAAGCGTGGGGAGCGAACAGGATTAGATACCCTGGTAGTCCACGCCCTAAACGATGCTCACTCGATATGCGATCCGTAGGATTGCGTGTCCAAGCGAAAGCGTTAAGTGAGCCACCTGGGGAGTACGTCGGCAACGATGAAACTCAAAGGAATTGACGGGGGTCCGCACAAGCGGTGGAGCATGTGGTTTAATTCGATGATACGCGAGGAACCTTACCTGGGCTAGAATGCGAGTGACCGGCCCTGAAAGGGGCTTTTCCTTCGGGACACAAAGCAAGGTGCTGCATGGCTGTCGTCAGCTCGTGCCGTGAGGTGTTGGGTTAAGTCCCGCAACGAGCGCAACCCTTGTCCTTAGTTGCCAGCACTTCGGGTGGGGACTCTAAGGAGACTGCCGGCGCAAGCCGCGAGGAAGGTGGGGATGACGTCAAGTCATCATGGCCTTTATGCCCAGGGCTACACACGTGCTACAATGGCCAGTACAGAGGGTAGCGAAGCCGCGAGGTGAAGCCAATCCCAGAAAGCTGGTCCCAGTTCGGATTGGAGTCTGGAACTCGACTCCATGAAGGTGGAATCGCTAGTAATCGCGCATCAGCCATGGTGCGGTGAATACGTTCCCGGACCTTGTACACACCGCCCGTCAAACCATGGGAGCCGGGGGTGCCTGAAG",
         null,
         "5e7ee4bb62cfcdd77a94fd8d93b88f42"
        ],
        [
         8988488,
         "URS0000892748",
         "2015-10-20T18:04:07.000+0000",
         "RNACEN",
         "FA606F4B0ABA4DC4",
         1478,
         "GAGTTTGATCCTGGCTCAGGATGAACGCTGGCGGCGTGCCTAATACATGCAAGTCGAACGCTAACCTTCGGGTTAGAGTGGCGAACGGGTGAGTAACACGTAGGTAACCTGCCCATAAGACGAGGATAACTACTGGAAACGGTAGCTAATACTGGATAGTATATAGAATCGCATGATTTTATATTTAAAGATGCGTTTGCATCACTTATGGATGGACCTGCGGCGCATTAGCTAGTTGGTGAGATAACGGCCCACCAAGGCGACGATGCGTAGCCGGACTGAGAGGTCGAACGGCCACATTGGGACTGAGACACGGCCCAGACTCCTACGGGAGGCAGCAGTAGGGAATTTTCGGCAATGGACGCAAGTCTGACCGAGCAACGCCGCGTGAGTGATGAAGTTCTTCGGAACGTAAAATTCTTTTATTTGGAAAAAACGTATAGTGTAGGAAATGACATTATAGTGATGGTACCAAATGAATAAGCCCCGGCTAACTATGTGCCAGCAGCCGCGGTAATACATAGGGGGCGAGCGTTATCCGGATTTATTGGGCGTAAAGGGTGCGTAGGCGGTAGATTAAGTCTAAGGTTAAAGTGCAGGGCTCAACCCTGTGATGCCTTAGAAACTGGTTTACTTGAGTTTGGTAGAGGTAAGTGGAACTCCATGTGTAGCGGTAAAATGCGTAAATATATGGAAGAACACCAGTGGCGAAGGCGGCTTACTGGGCCACAACTGACGCTGAGGCACGAAAGCGTGGGGAGCAAACAGGATTAGATACCCTGGTAGTCCACGCTGTAAACGATGAATACTAAGTGTTGGAAAAATCCAGTGCTGAAGTTAACGCATTAAGTATTCCGCCTGAGTAGTACGTACGCAAGTATGAAACTCAAAGGAATTGACGGGACCCCGCACAAGCGGTGGAGCATGTTGTTTAATTCGAAGATACGCGAAGAACCTTACCAGGTCTTGACATCCGTTGCAAAGCTATAGAGATATAGTGGAGGTTAACAGCGAGACAGGTGGTGCATGGTTGTCGTCAGCTCGTGTCGTGAGATGTTGGGTTAAGTCCCGCAACGAGCGCAACCCTTGTTGCTAGTTACCATCATTTAGTTGGGGACTCTAGCGAGACTGCCGGTGATAAACCGGAGGAAGGTGGGGATGACGTCAAATCATCATGCCCCTTATGACCTGGGCTACAAACGTGCTACAATGGCCACTACAATGAGAGCCGATACCGCGAGGTGGAGGAAAACTGATAAAAGTGGTCTCAGTTCGGATTGAACTCTGCAACTCGAGTTCATGAAGTTGGAATCGCTAGTAATCGTGAATCAGAATGTCACGGTGAATACGTTCTCGGGGTTTGTACACACCGCCCGTCAAGCCATGGGAGTTTGCAATACCCAAAGCCGGTGGCCTAACCGCAAGGAGGGAGCCGTCTAAGGTAGGGCAAATGACTGGGGTTAAGTCGTAACAAGGTA",
         null,
         "b7bcd6b9fbd22a1e8d343a0120bbbf80"
        ],
        [
         8988492,
         "URS000089274C",
         "2015-10-20T18:04:07.000+0000",
         "RNACEN",
         "83F1CFEB52A7A8AB",
         1382,
         "TCATGGCTCAGGACGAACGCTGGCGGCGTGCTTAACACATGCAAGTCGAACGATGAAGCCTAGCTTTGCTAGGTGGATTAGTGGCGAACGGGTGAGTAATACGTTGAGTCGACCTACCTTTGACTTTGGGATAAGCCTGGGAAACTGGGTCTAATACCGGATACGACCAATCTCCGCATGGGGTGTTGGTGGAAAGCGTTTATGGAGTGGTTTTAGATGGGCTCACGGCCTATCAGCTTGTTGGTGAGGTAATGGCTTACCAAGGCGACGACGGGTAGCCGGCCTGAGAGGGTGACCGGCCACACTGGGACTGAGACACGGCCCAGACTCCTACGGGAGGCAGCAGTGGGGAATATTGCACAATGGGCGCAAGCCTGATGCAGCGACGCCGCGTGAGGGATGACGGCCTTCGGGTTTGTAAACCTCTGTTAGCATCGAAGAAGCGAAAGTGACGGTAGGTGCAGAGAAAGCGCCCGGCTAACTACGTGCCCAGCAGCCGCGGTAATACGTAGGGCGCGAGCGTTGTCCGGAATTATTGGGCGTAAAGAGCTTGTAGGCGGTTGGTCGCGTCTGCTGTGAAAGGCTGGGGCTTAACCCTGGTTTTGCAGTGGGTACGGGCTAACTAGAGTGCAGTAGGGGAGACTGGAATTCCTGGTGTAGCGGTGGAATGCGCAGATATCAGGAGGAACACCGATGGCGAAGGCAGGTCTCTGGGCTGTAACTGACGCTGAGAAGCGAAAGCATGGGGAGCGAACAGGATTAGATACCCTGGTAGTCCATGCCGTAAACGTTGGGCACTAGGTGTGGGGGACATTCCACGTTTTCCGCGCCGTAGCTAACGCATTAAGTGCCCCGCCTGGGGAGTACGGCCGCAAGGCTAAAACTCAAAGAAATTGACGGGGGCCCGCACAAGCGGCGGAGCATGCGGATTAATTCGATGCAACGCGAAGAACCTTACCAAGGCTTGACATATACTGGACTGCGTCAGAGATGGCGTTTCCCTTCGGGGCTGGTATACAGGTGGTGCATGGTTGTCGTCAGCTCGTGTCGTGAGATGTTGGGTTAAGTCCCGCAACGAGCGCAACCCTCGTTCTATGTTGCCAGCACGTGATGGTGGGGACTCATAGGAGACTGCCGGGGTCAACTCGGAGGAAGGTGGGGATGACGTCAAATCATCATGCCCCTTATGTCTTGGGCTTCACGCATGCTACAATGGCCGGTACAGAGGGTTGCGATACTGTGAGGTGGAGCTAATCCCTAAAAGCCGGTCTCAGTTCGGATTGGGGTCTGCAACTCGACCCCATGAAGTCGGAGTCGCTAGTAATCGCAGATCAGCAACGCTGCGGTGAATACGTTCCCGGGCCTTGTACACACCGCCCGTC",
         null,
         "b7be584d9de7bfead92ae1fdf1270cff"
        ],
        [
         11797346,
         "URS0000B40362",
         "2017-10-13T16:48:29.336+0000",
         "rnacen",
         "69A87BE52361CDE2",
         253,
         "TACGAAGGATGCAAGCGTTATCCGGATTCACTGGGTTTAAAGGGTGTGCAGGTGGCTTAATAAGTCAGTGGTGAAAGCCCCCGGCTCAATCGGGGAACTGCCATAGATACTGTTATTCTTGAGTGTGGTTGAGGCGGATGGAATATGACGTGTAGCGGTGAAATGCTTAGATATGACGTAGAACACCGATCGCGAAGGCAGCCCGCCAAACCATTACTGACGCTGAAACACGAAAGTGCGGGGATCAAACAGG",
         null,
         "1a56c35f320afd3e18695f97bedbcc92"
        ],
        [
         8988495,
         "URS000089274F",
         "2015-10-20T18:04:07.000+0000",
         "RNACEN",
         "51D37F4799755FEE",
         1343,
         "GACGAACGCTGGCGGCGTGCTTAACACATGCAAGTCGAACGGAAAGGCCCTGCTTTTGTGGGGTGCTCGAGTGGCGAACGGGTGAGTAACACGTGAGTAACCCGCCCTTGACTTTGGGATAACTTCAGGAAACTGGGGCTAATACCGGATAGGAGCTCCTGCTGCATGGTGGGGGTTGGAAAGTTTCGGCGGTTGGGGATGGACTCGCGGCTTATCAGCTTGTTGGTGGGGTAGTGGCTTACCAAGGCTTTGACGGGTAGCCGGCCTGAGAGGGTGACCGGCCACATTGGGACTGAGATACGGCCCAGACTCCTACGGGAGGCAGCAGTGGGGAATATTGCACAATGGGCGGAAGCCTGATGCAGCAACGCCGCGTGCGGGATGACGGCCTTCGGGTTGTAAACCGCTTTCGCCTGTGACGAAGCGTGAGTGACGGTAATGGGTAAAGAAGCACCGGCTAACTACGTGCCAGCAGCCGCGGTGATACGTAGGGTGCGAGCGTTGTCCGGATTTATTGGGCGTAAAGGGCTCGTAGGTGGTTGATCGCGTCGGAAGTGTAATCTTGGGGCTTAACCCTGAGCGTGCTTTCGATACGGGTTGACTTGAGGAAGGTAGGGGAGAATGGAATTCCTGGTGGAGCGGTGGAATGCGCAGATATCAGGAGGAACACCAGTGGCGAAGGCGGTTCTCTGGGCCTTTCCTGACGCTGAGGAGCGAAAGCGTGGGGAGCGAACAGGCTTAGATACCCTGGTAGTCCACGCTGTAAACGGTGGGTACTAGGTGTGGGGTCCATTCCACGGGTTCCGTGCCGTAGCTAACGCTTTAAGTACCCCGCCTGGGGAGTACGGCCGCAAGGCTAAAACTCAAAGGAATTGACGGGGCCCCGCACAAGCGGCGGGGCATGCGGATTAATTCGATGCAACGCGTAGAACCTTACCTGGGTTTGACATGGATCGGGAGTGCTCAGAGATGGGTGTGCCTCTTTTGGGGTCGGTTCACAGGTGGTGCATGGCTGTCGTCAGCTCGTGTCGTGAGATGTTGGGTTAAGTCCCGCAACGAGCGCAACCCTTGTTCACTGTTGCCAGCACGTTATGGTGGGGACTCAGTGGAGACCGCCGGGGTCAACTCGGAGGAAGGTGGGGATGACGTCAAGTCATCATGCCCCTTATGTCCAGGGCTTCACGCATGCTACAATGGCTGGTACAGAGAGTGGCGGGCCTGTGAGGGTGAGCGAATCTCGGAAAGCCGGTCTCAGTTCGGATTGGGGTCTGCAACTCGACCTCATGAAGTCGGAGTCGCTAGTAATCGCAGATCAGCAACGCTGCGGTGAATACGTTCCCGGG",
         null,
         "5ece2db19192edcfa5ea6dc0c290404d"
        ],
        [
         8988497,
         "URS0000892751",
         "2015-10-20T18:04:07.000+0000",
         "RNACEN",
         "67449140B80EE869",
         1352,
         "CTGGCGGCGTGCTTAACACCTGCAAGTCGAACGAAACACCTTATTTGATTTTCTTCGGAACTGAAGATTTGGTGATTGAGTGGCGGACGGGTGAGTAACGCGTGGGTAACCTGCCCTGTACAGGGGGATAACAGTCAGAAATGACTGCTAATACCGCATAAGACCACAGCACCGCATGGTGCAGGGGTAAAAACTCCGGTGGTACAGGATGGACCCGCGTCTGATTAGCTGGTTGGTGGGGTAACGGCTCACCAAGGCGACGATCAGTAGCCGGCTTGAGAGAGTGAACGGCCACATTGGGACTGAGACACGGCCCAAACTCCTACGGGAGGCAGCAGTGGGGAATATTGCACAATGGGGGAAACCCTGATGCAGCGACGCCGCGTGAGTGAAGAAGTATCTCGGTATGTAAAGCTCTATCAGCAGGGAAGAAAATGACGGTACCTGACTAAGAAGCCCCGGCTAACTACGTGCCAGCAGCCGCGGTAATACGTAGGGGGCAAGCGTTATCCGGAATTACTGGGTGTAAAGGGTGCGTAGGTGGTATGGCAAGTCAGAAGTGAAAACCCAGGGCTTAACTCTGGGACTGCTTTTGAAACTGTCAGACTAGAGTGCAGGAGAGGTAAGCGGAATTCCTAGTGTAGCGGTGAAATGCGTAGATATTAGGAGGAACATCAGTGGCGAAGGCGGCTTACTGGACTGAAACTGACACTGAGGCACGAAAGCGTGGGGAGCAAACAGGATTAGATACCCTGGTAGTCCACGCCGTAAACGATGAATACTAGGTGTCGGGGCCGTAGAGACTTCGGTGCCGCAGCCAACGCAGTAAGTATTCCACCTGGGGAGTACGTTCGCAAGAATGAAACTCAAAGGAATTGACGGGGACCCGCACAAGCGGTGGAGCATGTGGTTTAATTCGAAGCAACGCGAAGAACCTTACCTGGTCTTGACATCCTTCTGACCGGTCCTTAACCGGACTTTTCCTTCGGGACAGGAGTGACAGGTGGTGCATGGTTGTCGTCAGCTCGTGTTGTGAGATGTTGGGTTAAGTCCCGCAACGAGCGCAACCCCTATCTTTAGTAGCCAGCATATAAGGTGGGCACTCTAGAGAGACTGCCAGGGATAACCTGGAGGAGGGTGGGGACGACGTCAAATCATCATGCCCCTTATGACCAGGGCTACACACGTGCTACAATGGCGTAAACAGAGGGAAGCAGCCTCGTGAGAGTGAGCAAATCCCAAAAATAACGTCTCAGTTCGGATTGTAGTCTGCAACTCGACTACATGAAGCTGGAATCGCTAGTAATCGCGAATCAGAATGTCGCGGTGAATACGTTCCCGGGTCTTGCACA",
         null,
         "b7bfcc1f663fcdf927cac05de11bc3d6"
        ],
        [
         8988498,
         "URS0000892752",
         "2015-10-20T18:04:07.000+0000",
         "RNACEN",
         "F8D635CB8DD7CAE9",
         1343,
         "GACGAACGCTTGCGGCGTGCTTAACACATGCAAGTCGAACGGAAAGGCCCTGCTTTTGTGGGGTGCTCGAGTGGCGAACGGGTGAGTAACACGTGAGTAACCTGCCCTTGACTTTGGGATAACTTCAGGAAACTGGGGCTAATACCGGATAGGAGCTCCTGCTGCATGGTGGGGGTTGGAAAGTTTCGGCGGTTGGGGATGGACTCGCGGCTTATCAGCTTGTTGGTGGGGTAGTGGCTTACCAAGGCTTTGACGGGTAGCCGGCCTGAGAGGGTGACCGGCCACATTGGGACTGAGATACGGCCCAGACTCCTACGGGAGGCAGCAGTGGGGAATATTGCACAATAGGCGGAAGCCTGATGCAGCAACGCCGCGTGCGGGATGACGGCCTTCGGGTTGTAAACCGCTTTCGCCTGTGACGAAGCGTGAGTGACGGTAATGGGTAAAGAAGCACCGGCTAACTACGTGCCAGCAGCCGCGGTAATACGTAGGGTGCGAGCGTTGTCCGGATTTATTGGGCGTAAAGGGCTCGTAGGTGGTTGATCGCGTCGGAAGTGTAATCTTGGGGCTTAACCCTGAGCGTGCTTTCGATACGGGTTGACTTGAGGAAGGTAGGGGAGAATGGAATTCCTGGTGGAGCGGCGGAATGCGCAGATATCAGGAGGAACACCAGTGGCGAAGGCGGTTCTCTGGGCCTTTCCTGACGCTGAGGAGCGAAAGCGTGGGGAGTGAACAGGCTTAGATACCCTGGTAGTCCACGCTGTAAACGGTGGGTACTAGGTGTGGGGTCCATTCCACGGGTTCCGTGCCGTAGCTAACGCTTTAAGTACCCCGCCTGGGGAGTACGGCCGCAAGGCTAAGACTCAAAGGAATTGACGGGGCCCCGCACAAGCGGCGGAGCATGCGGATTAATTCGATGCAACGCGTAGAACCTTACCTGGGTTTGACATGGATCGGGAGTGCTCAGAGATGGGTGTGCCTCTTTTGGGGTCGGTTCACAGGTGGTGCATGGCTGTCGTCAGCTCGTGTCGTGAGATGTTGGGTTAAGTCCCGCAACGAGCGCAACCCTTGTTCACTGTTGCCAGCACATTATGGTGGGGACTCAGTGGAGACCGCCGGGGTCAACTCGGAGGAAGGTGGGGATGACGTCAAGTCATCATGCCCCTTATGTCCAGGGCTTCACGCATGCTACAATGGCTGGTACAGAGAGTGGCGAGCCTGTGAGGGTGAGCGAATCTCGGAAAGCCGGTCTCAGTTCGGATTGGGGTCTGCAACTCGACCTCATGAAGTCGGAGTCGCTAGTAATCGCAAATCAGCAACGCTGCGGTGAATACGTTCCCGGG",
         null,
         "c4d9ab82753b884efd7740a746bfd44f"
        ],
        [
         8988499,
         "URS0000892753",
         "2015-10-20T18:04:07.000+0000",
         "RNACEN",
         "802C8DE37D44AE17",
         1421,
         "AGAGTTTGATCCTGGCTCAGGACGAACGCTGGCGGCGTGACTTAACACATGCAAGTCGAACGGTGAAGCGCTTTCCTTTTTGGTTGGTGTGGATGAGTGGCGAACGGGTGAGTAACACGTGAGTAACCTGCCCCCTTCTTCTGGATAACCGCATGAAAGTGTGGCTAATACGGGATATTCTGCGCCTGCTGCATGGTGGGTGTGGGAAAGATTGTGCCTTTGGGTGTTTTCGGTGGGGGATGGGCTCGCGGCCTATCAGCTTGTTGGTGGGGTGATGGCCTACCAAGGCGGTGACGGGTAGCCGGCCTGAGAGGGTGGACGGTCACACTGGGACTGAGACACGGCCCAGACTCCTACGGGAGGCAGCAGTGGGGAATATTGCACAATGGGCGCAACGTGATGCAGCGACGCCGCGTGAGGGATGGAGGCCTTCGGGTTGTGAACCTCTTTCGCCAGTGAAGCAGGCCTGCTCCTTGTGGGTGGGTTGACGGTAGCTGGATAAGAAGCGCCGGCTAACTACGTGCCAGCAGCCGCGGTAATACGTAGGGCGCGAGCGTTGTCCGGAATTATTGGGCGTAAAGAGCTCGTAGGCGGCTGGTCGCGTCTGTCGTGAAATCCTCTGGCTTAACTGGGGGCTTGCGGTGGGTACGGGCCGGCTTGAGTGCGGTAGGGGAGACTGGAACTCCTGGTGTAGCGGTGGAATGCGCAGATATCAGGAAGAACACCGGTGGCGAAGGCGGGTCTCTGGGCCGTCACTGACGCTGAGGAGCGAAAGCGTGGGGAGCGAACAGGATTAGATACCCTGGTAGTCCACGCCGTAAACGTTGGGCACTAGGTGTGGGGGGCCTTTTCTGGGTCTTCCGCGCCGTAGCTAACGCATTAAGTGCCCCGCCTGGGGAGTACGGCCGCAAGGCTAAAACTCAAAGGAATTGACGGGGGCCCGCACAAGCGGCGGAGCATGCGGATTAATTCGATGCAACGCGAAGAACCTTACCAAGGCTTGACATGTGCCGGTCGGCTCCGGAGACGGGGTTTCCTCCTTGTGGGGCCGGTTCACAGGTGGTGCATGGTTGTCGTCAGCTCGTGTCGTGAGATGTTGGGTTAAGTCCCGCAACGAGCGCAACCCTTGTCCCGTGTTGCCAGCACGTTGTGGTGGGGACTCGCGGGAGACTGCCGGGGTCAACTCGGAGGAAGGTGGGGATGACGTCAAATCATCATGCCCCTTATGTCTTGGGCTTCACGCATGCTACAATGGCCGGTACAGAGGGCTGCGATACCGTGAGGTGGAGCGAATCCCTTAAAGCCGGTCTCAGTTCGGATCGGTGTCTGCAACTCGACACCGTGAAGTTGGAGTCGCTAGTAATCGCAGATCAGCAACGCTGCGGTGAATACGTTCTCGGGCCTTGACACACCGCCCGTCA",
         null,
         "5ece8ffab9c6b6049a7e75d23cf1939b"
        ],
        [
         8988502,
         "URS0000892756",
         "2015-10-20T18:04:07.000+0000",
         "RNACEN",
         "14D18A222F44A6BE",
         1462,
         "ACGAACGCTGGCGGCGTGCCTAATACATGCAAGTCGTGCGTGATCCGGGGGCAACTCCGGTGAAAGCGGCGAACGGGTGAGTAACACGTAAACAATCTGCCTGTAGATTCGGGATAACCTTGCCAACGCGGGGCTAATACCGGATGCGGTCGGTGACTCGCATGAGTTGTCGATTAAAGATACGCAAGAGTCGTCTACAGATGAGTTTGCGTCCCATTAGCTAGTTGGCGGGGTAACGGCCCACCAAGGCGACGATGGGTAGCCGGCCTGAGAGGGTGAACGGCCACATTGGGACTGAGATACGGCCCAGACTCCTACGGGAGGCAGCAGTAGGGAATTTTGCGCAATGGGCGAAAGCCTGACGCAGCAACGCCGCGTGAGTGATGACGGCCTTCGGGTTGTAAAGCTCTGTTGGACGGGAAGAAAAGACATGCGAAGAACATGTTATGACGGTACCGTTCGAGGAAGCTCCGGCTAACTACGTGCCAGCAGCCGCGGTAATACGTAGGGAGCGAGCGTTGTTCGGAATTACTGGGCGTAAAGGGAGCGTAGGCGGGTTTGTAAGTTAGGGGTTTAATGCGTGGGCTTAACCCATGTGCGGCCTTTAATACTGCAAGTCTTGAGTGTGGGATAGGGCGATGGAATTCCAGGTGTAGCGGTGGAATGCGTAGATATCTGGAAGAACACCAACAGCGAAGGCAGTCGCCTGGCCCGATACTGACGCTGAAGCTCGAAAGTCGGGGGAGCAAACAGGATTAGATACCCTGGTAGTCCCGACCGTAAACGATGAACACTAGTTGCCGGGAGAGTCAATCCTTTCGGTGACGAAGCTAACGCATTAAGTGTTCCGCCTGGGGAGTACGCCCGCAAGGGTGAAACTCAAAGGAATTGACGGGGGCCCGCACAAGCGGTGGAGCATGTGCTTTAATTCGATGCAACGCGAAGAACCTTACCCAGGCTTGACATGGGGGCGAAAGCCTATAGAAATATAGGACCTCCGCAAGGACGCCCTACACAGGTGCTGCATGGTTGTCGTCAGCTCGTGTCGTGAGATGTTGGGTTAAGTCCCGCAACGAGCGCAACCCTCGCCCTTAGTTGCCATCAGGTAAAGCTGGGAACTCTAAGGGGACTGCCTAGTTTAACTAGGAGGAAGGTGGGGATGACGTCAAATCCTCATGGCCCTTACGCCTGGGGCTAGACACGTGCTACAATGGTCGGTACAGCGGGCAGCAAGCTGGCGACAGCAAGCTAATCCCTAAAAACCGATCTCAGTTCGGATTGGAGTCTGCAATTCGACTCCATGAAGCTGGAATCGCTAGTAATCGCGGATCAGCATGCCGCGGTGAATACGTTCCCGGGCCTTGTACACACCGCCCGTCAAGCCATGAAAGATGGCGGTACCCGAAGTCGCTTCCCCGACCGCGAGGAGGGGTGCGCCTAAGGTAAGGCTGTTGATTGGGGC",
         null,
         "c4d9e533ef6cb445da3b4de95cd28e54"
        ],
        [
         11884212,
         "URS0000B556B4",
         "2017-10-13T16:48:45.767+0000",
         "rnacen",
         "B6102A48637B6218",
         93,
         "GGAGAGATGGCCGAGTGGTTGATGGCCCCGGTCTTGAAAACCGGTATAGTTCGAAACAAAGAACTATCGAGGGTTCGAATCCCTCTCTCTCCT",
         null,
         "3f3b312f114ac937fb3a12208daedf1f"
        ],
        [
         12686420,
         "URS0000C19454",
         "2017-10-19T09:46:04.144+0000",
         "rnacen",
         "0857A1E718F4399A",
         124,
         "CTAGTACTTCCTCCGTCTGAAAATATTTGTCTTAGAAATGAATAAAATGGATGTATCTATAATTAAAATAAGTCTAGATACAATCATTTATAGGACAAGTATTTTCGGATGGAGAGAGTACTAG",
         null,
         "28e0ec929dbfd71f4b80933650e90b39"
        ],
        [
         8988503,
         "URS0000892757",
         "2015-10-20T18:04:07.000+0000",
         "RNACEN",
         "B96FDAB291A46D5E",
         1431,
         "CAGGACGAACGCTGGCGGCGTGCCTAATACATGCAAGTAGGACGCACAGTTTATACCGTAGCTTGCTACACCATAGACTGTGAGTTGCGAACGGGTGAGTAACGCGTAGGTAACCTGCCTATTAGAGGGGGATAACTATTGGAAACGATAGCTAATACCGCATAACAGTATGTAACACATGTTAGATGCTTGAAAGATGCAATTGCATCGCTAGTAGATGGACCTGCGTTGTATTAGCTAGTAGGTAGGGTAATGGCCTACCTAGGCGACGATACATAGCCGACCTGAGAGGGTGATCGGCCACACTGGGACTGAGACACGGCCCAGACTCCTACGGGAGGCAGCAGTAGGGAATCTTCGGCAATGGGGGGAACCCTGACCGAGCAACGCCGCGTGAGTGAAGAAGGTTTTCGGATCGTAAAGCTCTGTTGTTAAGGAAGAACGAGTGTGAAAATGGAAAGTTCATACTGTGACGGTACTTAACCAGAAAGGGACGGCTAACTACGTGCCAGCAGCCGCGGTAATACGTAGGTCCCGAGCGTTGTCCGGATTTATTGGGCGTAAAGCGAGCGCAGGCGGTTAGAAAAGTCTGAAGTGAAAGGCAGTGGCTCAACCATTGTAGGCTTTGGAAACTGTTTAACTTGAGTGCAGAAGGGGAGAGTGGAATTCCATGTGTAGCGGTGAAATGCGTAGATATATGGAGGAACACCGGTGGCGAAAGCGGCTCTCTGGTCTGTAACTGACGCTGAGGCTCGAAAGCGTGGGGAGCGAACAGGATTAGATACCCTGGTAGTCCACGCCGTAAACGATGAGTGCTAGGTGTTAGGTCCTTTCCGGGACTTAGTGCCGCAGCTAACGCATTAAGCACTCCGCCTGGGGAGTACGACCGCAAGGTTGAAACTCAAAGGAATTGACGGGGGCCCGCACAAGCGGTGGAGCATGTGGTTTAATTCGAAGCAACGCGAAGAACCTTACCAGGTCTTGACATCCCGATGCTATTTCTAGAGATAGGAAGTTTCTTCGGAACATCGGTGACAGGTGGTGCATGGTTGTCGTCAGCTCGTGTCGTGAGATGTTGGGTTAAGTCCCGCAACGAGCGCAACCCTTATTGTTAGTTGCCATCATTGAGTTGGGCACTCTAGCGAGACTGCCGGTAATAAACCGGAGGAAGGTGGGGATGACGTCAAATCATCATGCCCCTTATGACCTGGGCTACACACGTGCTACAATGGCTGGTACAACGAGTCGCAAGCCGGTGACGGCAAGCTAATCTCTGAAAGCCAGTCTCAGTTCGGATTGTAGGCTGCAACTCGCCTACATGAAGTCGGAATCGCTAGTAATCGCGGATCAGCACGCCGCGGTGAATACGTTCCCGGGCCTTGTACACACCGCCCGTCACACCACGAGAGTTTGTAACACCCGAAGTCGGTG",
         null,
         "5ed407618693a95ab527d4422b16dc5d"
        ],
        [
         8988145,
         "URS00008925F1",
         "2015-10-20T18:04:07.000+0000",
         "RNACEN",
         "54AE503B73AEAB52",
         1402,
         "AGAGTTTGATCCTGGCTCAGGATGAACGCTAGCGGCAGGCTTAACACATGCAAGTCGAACGGCAGCGGGGATTCACTTCGGTGAATCTGCCGGCGAGTGGCGCACGGGTGAGTAACACGTATGCAACCTGCCTCTGTCAGGGGTATAACTCTGCGAAAGTAGGGCTAATACCGCGTATATTCCCGGAGGGCATCCTCCGGGGAGGAAGGGTTTCAGCCGGACAGAGATGGGCATGCGGCGCATTAGGCAGTTGGCGGGGTAACGGCCCACCAAACCGACGATGCGTAGGGGTTCTGAGAGGAAGGTCCCCCACACTGGTACTGAGACACGGACCAGACTCCTACGGGAGGCAGCAGTGAGGAATATTGGTCAATGGCCGGAAGGCTGAACCAGCCAAGCCGCGTGAAGGACGAAGGTGCCAAGCATTGTAAACTTCTTTTGTCAAGGGACAAAATCAGGCTCGAGAGCCTGACCGAGGGTACTTGAAGAAAAAGCATCGGCTAACTCCGTGCCAGCAGCCGCGGTAATACGGAGGATGCGAGCGTTATCCGGATTTATTGGGTTTAAAGGGTGCGTAGGCGGGCTGTTAAGTCAGCGGTAAAAGCCCGGGGCTCAACCCCGGCGAGCCGTTGAAACTGGCTGTCTTGAGATGTCGAGAGGTATGCGGAATGCGCAGTGTAGCGGTGAAATGCTTAGATATTGCGCAGAACTCCGATTGCGAAGGCAGCATACCGGCGGCGATCTGACGCTGAGGCACGAAAGCGTGGGTATCGAACAGGATTAGATACCCTGGTAGTCCACGCAGTAAACGATGAATACTGGCTGTGTGGCCCGACAGAGGGCTGCGTGGCGTAGCGAAAGCGTTAAGTATTCCACCTGGGGAGTACGCCGGCAACGGTGAAACTCAAAGGAATTGACGGGGGCCCGCACAAGCGGAGGAACATGTGGTTTAATTCGATGATACGCGAGGAACCTTACCCGGGCTCAAACGGCAGATGACGGAGGAAGAGACTTCTCCTCCCGCAAGGGCATCTGCCGAGGTGCTGCATGGTTGTCGTCAGCTCGTGCCGTGAGGTGTCGGCTTAAGTGCCATAACGAGCGCAACCCCTGCTGACAGTTGCTAACAGGTTAAGCTGAGGACTCTGTCAGGACTGCCGGCGCAAGCCGAGAGGAAGGCGGGGATGACGTCAAATCAGCACGGCCCTTACGTCCGGGGCGACACACGTGTTACAATGGCCGGTATAGCGGGAAGCCAGGCGGCGACGCCGAGCGGAACCCGAAAGCCGGTCTCAGTTCGGATCGGAGTCTGCAACCCGACTCCGTGAAGCTGGATTCGCTAGTAATCGCGCATCAGCCATGGCGCGGTGAATACGTTCCCGGGCCTTGCACACACAGCCCGTCA",
         null,
         "c4884f1c9ba6b7f8a48007c0419eff59"
        ],
        [
         8988146,
         "URS00008925F2",
         "2015-10-20T18:04:07.000+0000",
         "RNACEN",
         "745D1F5CB425C610",
         1465,
         "AGAGTTTGATCATGGCTCAGGATGAACGCTAGCGACAGGCCTAACACATGCAAGTCGAGGGGCAGCACAGGTAGCAATACTGGGTGGCGACCGGCGCACGGGTGCGTAACGCGTATGCAACCTACCTATCATCGGGGGATAGCCTTCTGAAAAGGAGATTAACACCGCATAAGACAACAGAGCCGCATGGTTTAGTTGTTAAATATTTATAGATGACTGATGGGCATGCGTCTGATTAGATAGTTGGTGGGGTAACGGCCCACCAAGTCCACGATCAGTAGGGGTTCTGAGAGGAAGGTCCCCCACACCGGAACTGAGACACGGTCCGGACTCCTACGGGAGGCAGCAGTGAGGAATATTGGTCAATGGGCGAGAGCCTGAACCAGCCAAGTCGCGTGAAGGAAGACGGCCCTACGGGTTGTAAACTTCTTTTGTAGGGGGATAAAGTGATCCACGTGTGGATTATTGTAGGTACCCTACGAATAAGGATCGGCTAACTCCGTGCCAGCAGCCGCGGTAATACGGAGGATCCGAGCGTTATCCGGATTTATTGGGTTTAAAGGGTGCGTAGGCGGATTTTTAAGTCAGTGGTGAAAGGTTGACGCTCAACGTTAACATTGCCATTGAAACTGAAGATCTTGAGTACAAATGAGGTAGGCGGAATGTGTTGTGTAGCGGTGAAATGCTTAGATATGACACAGAACACCAATTGCGAAGGCAGCTTACTGGGATGTAACTGGCGCTGAGGCACGAAAGCGTGGGGATCAAACAGGATTAGATACCCTGGTAGTCCACGCAGTAAACGATGATTACTAGCTGTTAGCGATAGAATGTTAGTGGCTAAGCGAAAGCGATAAGTAATCCACCTGGGGAGTACGTTCGCAAGAATGAAACTCAAAGGAATTGACGGGGGCCCGCACAAGCGGAGGAACATGTGGTTTAATTCGATGATACGCGAGGAACCTTACCCGGGCTTGAAATGCAGAGGAATATAGTGGAAACATTATAGCTAGCAATAGCCTCTGTGTAGGTGCTGCATGGTTGTCGTCAGCTCGTGCCGTGAGGTGTCGGCTTAAGTGCCATAACGAGCGCAACCCTTATCATTAGTTACTAACAGGTTAAGCTGAGGACTCTAATGAGACTGCCACCGTAAGGTGTGAGGAAGGTGGGGATGACGTCAAATCAGCACGGCCCTTACGTCCGGGGCGACACACGTGTTACAATGGGGGGTACAGAGGGCAGCTACCTGGTGACAGGATGCCAATCTCGAAAGCCTCTCGTAGTTCGGATCGAAGTCTGCAACTCGACTTCGTGAAGCTGGATTCGCTAGTAATCGCGCATCAGCCATGGCGCGGTGAATACGTTCCCGGGCCTTGTACACACCGCCCGTCAAGCCATGGGAGTTGGGGGTGCCTAAAGATTGTGACCGTAAGGAGCGATTTAGGGCAAAACCAGTGACTGGGGC",
         null,
         "fe1b0723b592f7eb3c912397659a42a8"
        ],
        [
         8988147,
         "URS00008925F3",
         "2015-10-20T18:04:07.000+0000",
         "RNACEN",
         "F038AEA866125A1A",
         1434,
         "GGCGGGGGGCCTAACACCTGCGAGATCGAGCGGACACGATCCTAGCTTGCTAGGAGGCGTCGAGCGGCGGACGGGTGAGTAATGCATAGGAATCTGCCCGGTAGTGGGGGATAACCTGAGGAAACTCAGGCTAATACCGCATACGTCCTACGGGAGAAAGCAGGGGCTCTTCGGACCTTGCGCTATCGGATGAGCTTATGTCGGATTAGCTGGTTGGTGAGGTAACGGCTCACCAAGGCGACGATCCGTAGCTGGTCTGAGAGGATGATCAGCCACATCGGGACTGAGACACGGCCCGAACTCCTACGGGAGGCAGCAGTGGGGAATATTGGACAATGGGGGCAACCCTGATCCAGCCATGCCGCGTGTGTGAAGAAGGCCCTCGGGTTGTAAAGCACTTTCAGTGAGGAAGAAGGCTTGTCGGTTAATACCCGGCAAGAAAGACATCACTCACAGAAGAAGCACCGGCTAACTCCGTGCCAGCAGCCGCGGTAATACGGAGGGTGCGAGCGTTAATCGGAATTACTGGGCGTAAAGCGTGCGTAGGCGGCTTGATAAGCCGGTTGTGAAAGCCCCGGGCTCAACCTGGGAACGGCATCCGGAACTGTCAGGCTAGAGTGCAGGAGAGGAAGGTAGAATTCCCGGTGTAGCGGTGAAATGCGTAGAGATCGGGAGGAATACCAGTGGCGAAGGCGGCCTTCTGGACTGACACTGACGCTGAGGTACGAAAGCGTGGGTAGCAAACAGGATTAGATACCCTGGTAGTCCACGCCGTAAACGATGTCGACTAGCCGTTGGGGTCCTCGAGACCTTTGTGGCGCAGTTAACGCACTAAGTCGACCGCCTGGGGAGTACGGCCGCAAGGTTAAAACTCAAATGAATTGACGGGGGCCCGCACAAGCGGTGGAGCATGTGGTTTAATTCGATGCAACGCGAAGAACCTTACCTACCCTTGACATCGTGCGAACTTGGTAGAGATACCTTGGTGCCTTCGGGAACGCACAGACAGGTGCTGCATGGCTGTCGTCAGCTCGTGTTGTGAAATGTTGGGTTAAGTCCCGTAACGAGCGCAACCCTTGTCCCTATTTGCCAGCGATTCGGTCGGGAACTCTAGGGAGACTGCCGGTGACAAACCGGAGGAAGGTGGGGACGACGTCAAGTCATCATGGCCCTTACGGGTAGGGCTACACACGTGCTACAATGGCCGGTACAATGGGTTGCAAAGCGGCGACGTGGAGCTAATCCCATAAAGCCGGTCTCAGTCCGGATCGGAGTCTGCAACTCGACTCCGTGAAGTCGGAATCGCTAGTAATCGTGCATCAGAATGGCACGGTGAATACGTTCCCGGGCCTTGTACACACCGCCCGTCACACCATGGGAGTGGACTGCACCAGAAGTGGTTAGCCTAACTCGGAGGGCGTCAACCGCGGTGGG",
         null,
         "5e8ba5873b105d46434a3c95f95dcb29"
        ],
        [
         8988149,
         "URS00008925F5",
         "2015-10-20T18:04:07.000+0000",
         "RNACEN",
         "D5EE106430C6EF44",
         1366,
         "CTAATACACGCAAGTAGAACGCCTGAGGGGGGGCCTGGCCTTCCGGAAGAGTTTCCAACGGGTGAGTAACGCCTAAGTAACCTGCCTGGTAGCGGGGGATAACTATTGGAAACGATAGCTAATACCGCATAATAGTAGATGTTGCATGACATTTACTTAAAAGGTGCAATTGCCTCACTACCAGATGGACCTGCGTTGTATTAGCTAGTTGGTGGGGGTACGGCTCACCAAGGCGACGATACATAGCCGACCTGAGAGGGTGATCGGCCACACTGGGACTGAGACACGGCCCAGACTCCTACGGGAGGCAGCAGTAGGGAATCTTCGGCAATGGACGAAAGTCTGACCGAGCAACGCCGCGTGAGTGAAGAAGGTTTTCGGATCGTAAAGCTCTGNTTGTAGAGAAGAACGAGTGTGAGAGTGGAAAGTTCACACTGTGACGGTATCTTACCAGAAAGGGACGGCTAACTACGTGCCAGCAGCCGCGGTAATACGTAGGTCCCGAGCGTTGTCCGGATTTATTGGGCGTAAAGCGAGCGCAGGCGGTTAGATAAGTCTGAAGTTAAAGGCTGTGGCTTAACCATAGTACGCTTTGGAAACTGTTTAACTTGAGTGCAAGAGGGGAGAGTGGAATTCCATGTGTAGCGGTGAAATGCGTAGATATATGGAGGAACACCGGTGGCGAAAGCGGCTCTCTGGCTTGTAACTGACGCTGAGGCTCGAAAGCGTGGGGAGCAAACAGGATTAGATACCCTGGTAGTCCACGCCGTAAACGATGAGTGCTAGGTGTTAGACCCTTTCCGGGGTTTAGTGCCGTAGCTAACGCATTAAGCACTCCGCCTGGGGAGTACGACCGCAAGGTTGAAACTCAAAGGAATTGACGGGGGCCCGCACAAGCGGTGGAGCATGTGGTTTAATTCGAAGCAACGCGAAGAACCTTACCAGGTCTTGACATCCCTCTGACCGCTCTAGAGATAGAGCTTTCCTTCGGGACAGAGGTGACAGGTGGTGCATGGTTGTCGTCAGCTCGTGTCGTGAGATGTTGGGTTAAGTCCCGCAACGAGCGCAACCCCTATTGTTAGTTGCCATCATTCAGTTGGGCACTCTAGCGAGACTGCCGGTAATAAACCGGAGGAAGGTGGGGATGACGTCAAATCATCATGCCCCTTATGACCTGGGCTACACACGTGCTACAATGGCTGGTACAACGAGTCGCAAGCCGGTGACGGCAAGCTAATCTCTTAAAGCCAGTCTCAGTTCGGATTGTAGGCTGCAACTCGCCTACATGAAGTCGGAATCGCTAGTAATCGCGGATCAGCACGCCGCGGTGAATACGTTCCCGGGCCCTTGTACACACCGCCCGTCA",
         null,
         "c4886175ad61c03642f7a7bda209b588"
        ],
        [
         12686421,
         "URS0000C19455",
         "2017-10-19T09:46:04.145+0000",
         "rnacen",
         "A30837699476879F",
         72,
         "TCCCTGGTGGCTCAGAGGTTAAAGCGTCTGCCTGCAATGCTGGAGACCCAGGTTCGATCCCTGGGTTGGGAA",
         null,
         "28e104cb8b622aae1135c835fffc8d3e"
        ],
        [
         26726223,
         "URS000197CF4F",
         "2019-12-05T22:17:38.296+0000",
         "rnacen",
         "896AF99BBC61ADDE",
         12,
         "TATGCATGCATT",
         null,
         "0479237603d50ea3baec8aa62615a5d9"
        ],
        [
         8988151,
         "URS00008925F7",
         "2015-10-20T18:04:07.000+0000",
         "RNACEN",
         "04DAD97CEC7EA0BB",
         1433,
         "AGAGTTTGATCATGGCTCAGAACGTACGCTGGCGGCACGCCTAACACATGCAAGTCGAACGAAGTAGCAATACTTAGTGGCAGACGGGTGAGTAACATGTAGGTATCTGCCCTTTGGCCTGGAATAACACGAGGAAACTTGTGCTAATACCGGATAAGTCTTTACGGAGAAAGCTTTATGCACCATTGGATGAGCCTGCACTTGATTAGTTTGTTGGTGGGGTAATGGCCTACCAAGACTGTGATCAATAGCTGATTTGAGAGGATGATCAGCCACATTGGGACTGAGACACGGCCCAAACTCCTACGGGAGGCAGCAGTGGGGAATCTTGCACAATGGAGGAAACTCTGATGCAGCGATGCCGCGTGAGTGAAGAAGGCCTTTGGGTTGTAAAGCTCTTTCGTCGGGGAAGAAAATGACTGTACCCGAATAAGAAGGTCCGGCTAACTTCGTGCCAGCAGCCGCGGTAATACGAAGGGACCTAGCGTAGTTCGGAATTACTGGGCTTAAAGAGTTCGTAGGTGGTTGAAAAAGTTAGTGGTGAAATCCCAGAGCTTAACTCTGGAACTGCCATTAAAACTTTTCAGCTAGAGTATGATAGAGGAAAGCAGAATTTCTAGTGTAGAGGTGAAATTCGTAGATATTAGAAAGAATACCAATTGCGAAGGCAGCTTTCTGGATCATTACTGACACTGAGGAACGAAAGCATGGGTAGCGAAGAGGATTAGATACCCTCGTAGTCCATGCCGTAAACGATGTGTGTTAGACGTTGGAAATTTATTTTCAGTGTCGCAGCGAAAGCGATAAACACACCGCCTGGGGAGTACGACCGCAAGGTTAAAACTCAAATGAATTGACGGGGACCCGCACAAGTAGTGGAGCATGTGGTTTAATTCGAAGATACGCGCAGAACCTTACCAACACTTGACATGTTCGTCGCGACTTTAAGAGATTAAAGTTTTCGGTTCGGCCGGACGAAACACAGGTGCTGCATGGCTGTCGTCAGCTCGTGTCGTGAGATGTTGGGTTAAGTCCCGCAACGAGCGCAACCCTCACTTTTAGTTGCCATCATTAAGTTGGGCACTCTGAAAGAACTGCCAGTGATAAGCTGGAGGAAGGTGGGGATGACGTCAAGTCCTCATGGCCCTTACGTGTTGGGCTACACACGTGCTACAATGGTATCTACAACAGGAAGCAAGACTGCGAGGTCAAGCAAATCCTTAAAAGATACCTCAGTTCGGATTGCACTCTGCAACTCGAGTGCATGAAGCTGGAATTACTAGTAATCGTGGATCAGCGTGCCACGGTGAATGCGTTCCCGGGTCTTGTACACACCGCCCGTCACACCATGGGAGTTGGTTCTACCTTAAGGCAAGGTTTTAAACCCTTGACCACGGTATAGTCAGCGACTGGGGTGAAGTCGTAACAAGGTA",
         null,
         "5e8c7a43b342c30e1235663bd8bc3ddc"
        ],
        [
         8988155,
         "URS00008925FB",
         "2015-10-20T18:04:07.000+0000",
         "RNACEN",
         "8A589F31DE71B708",
         1488,
         "GAGTTTGATCCTGGCTCAGGATGAACGCTAGCGGCAGGCCTAATACATGCAAGTCGAACGGGATCCATTTTCAGCTTGCTGAGGATGGTGAGAGTGGCGGATGGGTGCGTAACGCGTGAGCAACCTACCGGTATCTACGGTATAGCCCGGCGAAAGTCGGATTAATCCCGTATGTGGTATAGATGTGGCATCATGTTTATATTAAATATTTATAGGATATCGATGGGCTCGCGTGACATTAGCTAGTTGGTATAGGTAACGGCTTACCAAGGCTATGATGTCTAGGGGCTCTGAGAGGAGAATCCCCCACACTGGGACTGAGACACGGCCCAGACTCCTACGGGAGGCAGCAGTAAGGAATATTGGTCAATGGAGGGAACTCTGAACCAGCCATGCCGCGTGCAGGATGACTGCCCTCAGGGTTGTAAACTGCTTTTATACGGGAATAATTATGGGTACTTGTACTTATTTGAATGTACTGTATGAATAAGGATCGGCTAACTCCGTGCCAGCAGCCGCGGTAATACGGAGGATCCGAGCGTTATCCGGATTTATTGGGTTTAAAGGGTGCTTAGGCGGCATTTTAAGTCAGTGGTGAAATTTATAGGCTCAACCTATAGCTTGCCATTGATACTGGAGTGCTTGAATAAGTTCGAGGATGGCGGAATGTGACGAGTAGCGGTGAAATGCATAGATATGTCACAGAACACCGATTGCTTAGGCAGCTGTCCAGGTCTTTTATTGACGCTGAATCACGAAAGCGTGGGGATCAAACAGGATTAGATACCCTGGTAGTTCACGCCGTAAACTATGATAACTCGATGTTGGCGATATACAGTCAGTGTCCAAGCGAAAGCGTTAAGTTATCCACCTGGGGAGTACGTTCGCAAGAATGAAACTCAAAGGAATTGACGGGGGCCCGCACGAGCGGAGGAGCATGTGGTTTAATTCGATGATACGCGAGGAACCTTACCCGGGCTTGAAAGTTAGCGACTGATGCAGAGACGCATCATCCCTTCGGGGCGCGAAACTAGGTGCTGCATGGCTGTCGTCAGCTCGTGCCGTGAGGTGTTGGGTTAAGTCCCGTAACGAGCGCAACCCTTATCTTCAGTTGCCAGCACATCATGGTGGGGACTCTGAAGAGACTGCCCGCGTAAGCGGTGAGGAAGGCGGGGACGACGTCAAGTCATCATGGCCCTTACGTCCGGGGCTACACACGTGCTACAATGGCCGGTACAGGGGGCAGCTATCTGGTAACAGAGTGCGAATCTCATTAAAGCCGGTCACAGTTCGGATTGAGGTCTGCAACTCGACCTCATGAAGTTGGATTCGCTAGTAATCGCATATCAGCAATGTTGCGGTGAATACGTTCCCGGGCCTTGTACACACCGCCCGTCAAGCCATGAAAGTTGGGAGTGCCTAAAGCATGTAACCGCGAGGAGCGTGTTAGGGTAAGACCGATAATTGGGGCTAAGTCGTAACAAGGTA",
         null,
         "5e8c7a9db58de99460cb123fd47bbb18"
        ],
        [
         8988641,
         "URS00008927E1",
         "2015-10-20T18:04:07.000+0000",
         "RNACEN",
         "F19CF97A9FC2CBAD",
         1365,
         "AGCTTGCTAGTGGTCGACGAGTGGCGGACGGGTGAGTAACGCGTAGGAATCTACCTAGTAGTGGGGGATAGCCAAGGGAAACTTTGGGTAATACCGCATACGATCTAAGGATGAAAGGGGGCCTCTCTTTGAAGCTCTCGCTATTAGATGAGCCTGCGTAAGATTAGCTTGTTGGTGGGGTAATGGCCCACCAAGGCGACGATCTTTAGCTGGTCTGAGAGGATGATCAGTCACACTGGAACTGAGACACGGTCCAGACTCCTACGGGAGGCAGCAGTCGGGAATATTGGACAATGGGGGAAACCCTGATCCAGCCATGCCGCGTGTGTGAAGAAGGCCCTAGGGTTGTAAAGCACTTTTAGTAGTGAGGAAGGCTCAGTAGTTAATACCTACTGGGATTGACGTTAGCTACAGAAAAAGCACCGGCTAATTTCGTGCCAGCAGCCGCGGTAATACGAAAGGTGCAAGCGTTAATCGGAATTACTGGGCGTAAAGCGCGCGTAGGCGGCTTGGTAAGTTGGATGTGAAAGCCCCGGGCTCAACCTGGGAACTGCATCCAAAACTGCCTAGCTAGAGTATGGTAGAGGATGGCGGAATTTCCTGTGTAGCGGTGAAATGCGTAGATATAGGAAGGAACATCAGTGGCGAAGGCGGCCATCTGGACCAATACTGACGCTGAGGTGCGAAAGCGTGGGGAGCAAACAGGATTAGATACCCTGGTAGTCCACGCCGTAAACGATGAGAACTAGCCGTTGGACATCTTGCATGTTTAGTGGCGCAGCTAACGCGATAAGTTCTCCGCCTGGGGAGTACGGCCGCAAGGTTAAAACTCAAATGAATTGACGGGGGCCCGCACAAGCGGTGGAGCATGTGGTTTAATTCGACGCAACGCGAAGAACCTTACCTACACTTGACATCCTCGGAACTTTCTAGAGATAGATTGGTGCCTTCGGGAACCGAGTGACAGGTGCTGCATGGCTGTCGTCAGCTCGTGTCGTGAGATGTTGGGTTAAGTCCCGTAACGAGCGCAACCCTTATCCTTAATTGCCAGCGGTTAGGCCGGGAACTCTAAGGAGACTGCCGATGACAAATCGGAGGAAGGTGGGGACGACGTCAAGTCATCATGGCCCTTACGTGTAGGGCTACACACGTGCTACAATGGCCGGTACAAACGGTTGCGAACCCGCGAGGGGAAGCTAATCCGAGAAAGCCGGTCGTAGTCCGGATTGGGGTCTGCAACTCGACCCCATGAAGTCGGAATCGCTAGTAATCGTGAATCAGAATGTCACGGTGAATACGTTCCCGGGCCTTGTACACACCGCCCGTCACACCATGGGAGTGGGTTGCACCAGAAGTGGCTAGTCT",
         null,
         "c4fb65ec5c3e125acda4364734673530"
        ],
        [
         8988643,
         "URS00008927E3",
         "2015-10-20T18:04:07.000+0000",
         "RNACEN",
         "5365B1D5F7689DB5",
         1498,
         "TTGAAGAGTTTGATCATGGCTCAGGATAAACGCTGGCGGCATGCCTAACACATGCAAGTCGAACGGGGTTTATATAACAGAACTCTCCGGAGGGAAGTTATATAAACCTAGTGGCGGACGGGTGAGTAACGCGTGGGGAACCTGCCCTGTACCGGGGGACAACAGCCAGAAATGGCTGCTAATACCGCATAACCCTGCACTGCCGCATGGCGGTGCAGGGAAAACTCCGGTGGTACAGGATGGCCCCGCGTCTGATTAGCTTGTTGGCGGGGTAACAGCCCACCAAGGCAACGATCAGTAGCCGGCTTGAGAGAGCGGACGGCCACATTGGGACTGAGACACGGCCCAGACTCCTGCGGGAGGCAGCAGTGGGGAATACTGCACAATGGGGGAAACCCTGATGCAGCAATGCCGCGTGGGTGAAGAAGTACTCCGGTATGTAAAGCCCTGTCAGCAGGGAAGAAAATGACGGTACCTGACTAAGAAGCCCCGGCTAACTACGTGCCAGCAGCCGCGGTAATACGTAGGGGGCGAGCGTTATCCGGATTTACTGGGTGTAAAGGGAGCGCAGGCGGCGTGGCAAGTCAGATGTGAAAACCCGGGGCCCAACCCCGGGACTGCATTTGAAACTGCCATGCTGGAGTGCCGGAGAGGCAAGTGGAATTCCTAGTGTAGCGGTGAAATGCGTAGATATTAGGAGGAACACCAGTGGCGGAGGCGGCTTGCTGGACGGTAACTGACGCTGAGGCTCGAAAGCGTGGGGAGCAAATAGGATTAGATACCCTGGTAGTCCACGCCGTAAACGATGAATACCAGGTGTCGGGGGACATAAGTTTCCCGGTGCCGCAGCTAACGCACTAAGTATTCCACCTGGGGAGTACGTTCGCAAGAATGAAACTCAAAGGAATTGACGGGGACCCGCACAAGCGGTGGAGCATGTGGTTTAATTCGAAGCAACGCGAAGAACCTTACCAGCCCTTGACATCCTGCTGGCAGCCCGGTAATGCGGGCCTTCCCTCGGGACAGCAGAGACAGGTGGTGCATGGTTGTCGTCAGCTCGTGTCGTGAGATGTTGGGTTAAGTCCCGCAACGAGCGCAACCCCTGCCTGCAGTAGCCAGCGGCCTGGCCGGGCACTCTGCAGGGACTGCCGGGGATAACCCGGAGGAAGGCGGGGACGACGTCAAATCATCATGCCCCTTATGGGCTGGGCTACACACGTGCTACAATGGCGTCAACAGAGTGAAGCGAACCTGCGAGGGGGAGCAGACCACAAAAAAGACGTCCCAGTTCGGATTACAGCCCGCAACCCGGCTGTATGAAGCTGGAATCGCTAGTAATCGCAAATCAGAATGTTGCGGTGAATACGTTCCCGGGTCTTGTACACACCGCCCGTCACACCATGGGAGCCAGGAATGCCCGAAGCCAGTGGCCTAACCGCAAGGGAGGAGCTGTCGAAGGCAGGCCCGGTAACTGGGGTGAAGTCGTAACAAGGTAACC",
         null,
         "b7de29fa1839f29a5724d099ca151793"
        ],
        [
         8988647,
         "URS00008927E7",
         "2015-10-20T18:04:07.000+0000",
         "RNACEN",
         "48FE257E304E92EC",
         1402,
         "GAAGAGAAGCTTGCTTCTCGGATGGTTAGCGGCGGACGGGTGAGTAACACGTAGGCAACCTGCCTGTAAGATCGGGATAACTACCGGAAACGGTAGCTAAGACCGGATAATCGGTTTCTCCGCATGGAGAGACTGTGAAACACGGAGCAATCTGTGGCTTACGGATGGGCCTGCGGCGCATTAGCTAGTTGGTGAGGTAACGGCTCACCAAGGCGACGATGCGTAGCCGACCTGAGAGGGTGAACGGCCACACTGGGACTGAGACACGGCCCAGACTCCTACGGGAGGCAGCAGTAGGGAATCTTCCGCAATGGACGCAAGTCTGACGGAGCAACGCCGCGTGAGTGATGAAGGTTTTCGGATCGTAAAGCTCTGTTGCCAGGGAAGAACGCCAAGGAGAGTAACTGCTCTTTGGGTGACGGTACCTGAGAAGAAAGCCCCGGCTAACTACGTGCCAGCAGCCGCGGTAATACGTAGGGGGCAAGCGTTGTCCGGAATTATTGGGCGTAAAGCGCGCGCAGGCGGTTTTTTAAGTCTGGTGTTTAATCCCGAGGCTCAACCTCGGTTCGCACCGGAAACTGGGAGACTGGAGTGCAGGAGAGGAAAGTGGAATTCCACGTGTAGCGGTGAAATGCGTAGAGATGTGGAGGAACACCAGTGGCGAAGGCGACTTTCTGGCCTGTAACTGACGCTGAGGCGCGAAAGCGTGGGGAGCAAACAGGATTAGATACCCTGGTAGTCCACGCCGTAAACGATGCATGCTAGGTGTTAGGGGTTTCGATACCCTTGGTGCCGAAGTTAACACAGTAAGCATGCCGCCTGGGGAGTACGCTCGCAAGAGTGAAACTCAAAGGAATTGACGGGGACCCGCACAAGCAGTGGAGTATGTGGTTTAATTCGAAGCAACGCGAAGAACCTTACCAGGTCTTGACATCCCTCTGACCGGCTTAGAGATAAGCCTTTCCTTCGGGACAGAGGTGACAGGTGGTGCATGGTTGTCGTCAGCTCGTGTCGTGAGATGTTGGGTTAAGTCCCGCAACGAGCGCAACCCTTGAACTTAGTTGCCAGCAGGTGAAGCTGGGCACTCTAAGTTGACTGCCGGTGACAAACCGGAGGAAGGCGGGGATGACGTCAAATCATCATGCCCCTTATGACCTGGGCTACACACGTACTACAATGGCCGGTACAACGGGAAGCGAAGGAGCGATCCGGAGCGAATCCTAGAAAAGCCGGTCTCAGTTCGGATTGCAGGCTGCAACTCGCCTGCATGAAGTCGGAATTGCTAGTAATCGCGGATCAGCATGCCGCGGTGAATACGTTCCCGGGTCTTGTACACACCGCCCGTCACACCACGAGAGTTTACAACACCCGAAGTCGGTGAGGTAACCGCAAGGGGCCAGCC",
         null,
         "b7def47619186c8bee5cb0bf8954818b"
        ],
        [
         12686422,
         "URS0000C19456",
         "2017-10-19T09:46:04.146+0000",
         "rnacen",
         "BB5F9E8D6F501124",
         125,
         "TAAATACTCCCTCCGTCCGGAAATACTTGTCATCAAAATATATGAAAATGGATGTATCTAGAACTAAAATACATCTAGATGCATCTATTTCAATGACAAGTATTTCCGGACGGAGGGAGTATAAT",
         null,
         "28e11bcd4c38260732c4c58601dfa4a4"
        ],
        [
         8988285,
         "URS000089267D",
         "2015-10-20T18:04:07.000+0000",
         "RNACEN",
         "80A132D7C8A2E791",
         1397,
         "CATGCAAGTCGAACGGTAACAGGTCTTCGGATGCTGACGAGTGGCGAACGGGTGAGTAACACATCGGAACGTGCCTAGTAGTGGGGGATAACTACTCGAAAGAGTAGCTAATACCGCATGAGATCTAAGGATGAAAGCAGGGGACCTTCGGGCCTTGCGCTACTAGAGCGGCTGATGGCAGATTAGGTAGTTGGTGGGATAAAAGCTTACCAAGCCGACGATCTGTAGCTGGTCTGAGAGGACGACCAGCCACACTGGGACTGAGACACGGCCCAGACTCCTACGGGAGGCAGCAGTGGGGAATTTTGGACAATGGGCGAAAGCCTGATCCAGCAATGCCGCGTGTAGGATGAAGGCCCTCGGGTTGTAAACTACTTTTGTACGGAACGAAAAGACTCTTTCTAATAAAGAGGGTCCATGACGGTACCGTAAGAATAAGCACCGGCTAACTACGTGCCAGCAGCCGCGGTAATACGTAGGGTGCAAGCGTTAATCGGAATTACTGGGCGTAAAGCGTGCGCAGGCGGTTATGTAAGACAGAGGTGAAATCCCCGGGCTCAACCTGGGAACGGCCTTTGTGACTGCATAGCTAGAGTACGGTAGAGGGGGATGGAATTCCGCGTGTAGCAGTGAAATGCGTAGATATGCGGAGGAACACCGATGGCGAAGGCAATCCCCTGGACCTGTACTGACGCTCATGCACGAAAGCGTGGGGAGCAAACAGGATTAGATACCCTGGTAGTCCACGCCCTAAACGATGTCAACTGGTTGTTGGGAATTAACTTTCTCAGTAACGAAGCTAACGCGTGAAGTTGACCGCCTGGGGAGTACGGCCGCAAGGTTGAAACTCAAAGGAATTGACGGGGACCCGCACAAGCGGTGGATGATGTGGTTTAATTCGATGCAACGCGAAAAACCTTACCCACCTTTGACATGTACGGAAGTGACCAGAGATGGACATGTGCTCGAAAGAGAACCGTAACACAGGTGCTGCATGGCTGTCGTCAGCTCGTGTCGTGAGATGTTGGGTTAAGTCCCGCAACGAGCGCAACCCTTGCCATTAGTTGCTACGAAAGGGCACTCTAATGGGACTGCCGGTGACAAACCGGAGGAAGGTGGGGATGACGTCAAGTCCTCATGGCCCTTATAGGTGGGGCTACACACGTCATACAATGGCTGGTACAAAGGGTTGCCAACCCGCGAGGGGGAGCTAATCCCATAAAGCCAGTCGTAGTCCGGATCGCAGTCTGCAACTCGACTGCGTGAAGTCGGAATCGCTAGTAATCGTGGATCAGAATGTCACGGTGAATACGTTCCCGGGTCTTGTACACACCGCCCGTCACACCATGGGAGCGGGTCTCGCCAGAAGTAGGTAGCCTAACCGCAAGGAGGGCGCT",
         null,
         "5ea36e66efaab73ebd6fb20c3a4c326e"
        ],
        [
         8988287,
         "URS000089267F",
         "2015-10-20T18:04:07.000+0000",
         "RNACEN",
         "9A24F2262C71F487",
         1502,
         "AGAGTTTGATCCTGGCTCAGATTGAACGCTGGCGGCAGGCTTAACACATGCAAGTCGAGCGGGGAAGGTTGCTTCGGTAACTGACCTAGCGGCGGACGGGTGAGTAATGCTTAGGAATCTGCCATTTAGTGGGGGACAACATTCCGAAAGGAATGCTAATACCGCATACGTCCTACGGGAGAAAGCAGGGGATCTTCGGACCTTGCGCTAAATGATGAGCCTAAGTCGGATTAGCTAGTTGGTGGGGTAAAGGCCTACCAAGGCGACGATCTGTAGCGGGTCTGAGAGGATGATCCGCCACACTGGGACTGAGACACGGCCCAGACTCCTACGGGAGGCAGCAGTGGGGAATATTGGACAATGGGCGCAAGCCTGATCCAGCCATGCCGCGTGTGTGAAGAAGGCCTTTTGGTTGTAAAGCACTTTAAGCGAGGAGGAGGCTCTCTTAGTTAATACCTAAGATGAGTGGACGTTACTCGCAGAATAAGCACCGGCTAACTCTGTGCCAGCAGCCGCGGTAATACAGAGGGTGCGAGCGTTAATCGGATTTACTGGGCGTAAAGCGTGCGTAGGCGGCTTTTTAAGTCGGATGTGAAATCCCCGAGCTTAACTTGGGAATTGCATTCGATACTGGGAAGCTAGAGTATGGGAGAGGATGGTAGAATTCCAGGTGTAGCGGTGAAATGCGTAGAGATCTGGAGGAATACCGATGGCGAAGGCAGCCATCTGGCCTAATACTGACGCTGAGGTACGAAAGCATGGGGAGCAAACAGGATTAGATACCCTGGTAGTCCATGCCGTAAACGATGTCTATTAGCCGTTGGGGCCTTTGAGGCTTTAGTGGCGCAGCTAACGCGATAAGTAGACCGCCTGGGGAGTACGGTCGCAAGACTAAAACTCAAATGAATTGACGGGGGCCCGCACAAGCGGTGGAGCATGTGGTTTAATTCGATGCAACGCGAAGAACCTTACCTGGCCTTGACATACTAGAAACTTTCCAGAGATGGATTGGTGCCTTCGGGAATCTAGATACAGGTGCTGCATGGCTGTCGTCAGCTCGTGTCGTGAGATGTTGGGTTAAGTCCCGCAACGAGCGCAACCCTTTTCCTTACTTGCCAGCATTTCGGATGGGAACTTTAAGGATACTGCCAGTGACAAACTGGAGGAAGGCGGGGACGACGTCAAGTCATCATGGCCCTTACGGCCAGGGCTACACACGTGCTACAATGGTCGGTACAAAGGGTTGCTACCTAGCGATAGGATGCTAATCTCAAAAAGCCGATCGTAGTCCGGATTGGAGTCTGCAACTCGACTCCATGAAGTCGGAATCGCTAGTAATCGCGGATCAGAATGCCGCGGTGAATACGTTCCCGGGCCTTGTACACACCGCCCGTCACACCATGGGAGTTTGTTGCACCAGAAGTAGCTAGCCTAACTGCAAAGAGGGCGGTTACCACCGGTGTGGCCGATGACTGGGGTGAAGTCGTAACAAGGTAACCGTA",
         null,
         "fe3706f823da493104ee8b17cb056420"
        ],
        [
         8988288,
         "URS0000892680",
         "2015-10-20T18:04:07.000+0000",
         "RNACEN",
         "5778B8B3B072AD45",
         1474,
         "GAGTTTGATCCTGGTTCAGGATGAACGCTAGCGGCAGGCTTAACACATGCAAGTCTAGGGGTATAGTTCTTCGGAACTAGAGACCGGCGCACGGGTGCGTAACGCGTATGCAATCTACCTTTCACAGAGGGATAGCCCAGAGAAATTTGGATTAATACCTCATAGTATAATTGAATGGCATCATTTAATTATTAAAGTCACAACGGTGAAAGATGAGCATGCGTCCCATTAGCTAGTTGGTAAGGTAACGGCTTACCAAGGCGACGATGGGTAGGGGTCCTGAGAGGGAGATCCCCCACACTGGTACTGAGACACGGACCAGACTCCTACGGGAGGCAGCAGTGAGGAATATTGGTCAATGGGCGCAAGCCTGAACCAGCCATGCCGCGTGCAGGATGACGGTCCTATGGATTGTAAACTGCTTTTGTACAGGAAGAAACACTGGTTCGTGAACCAGCTTGACGGTACTGTAAGAATAAGGATCGGCTAACTCCGTGCCAGCAGCCGCGGTAATACGGAGGATCCAAGCGTTATCCGGAATCATTGGGTTTAAAGGGTCCGTAGGCGGTCAGATAAGTCAGTGGTGAAAGCCCATCGCTCAACGGTGGAACGGCCATTGATACTGTCTGACTTGAATTATTAGGAAGTAGCTAGAATATGTAGTGTAGCGGTGAAATGCTTAGAGATTACATGGAATACCAATTGCGAAGGCAGGTTACTACTAATGGATTGACGCTGATGGACGAAAGCGTGGGTAGCGAACAGGATTAGATACCCTGGTAGTCCACGCCGTAAACGATGGATACTAGCTGTTGGGAGCAATCTCAGTGGCTAAGCGAAAGTGATAAGTATCCCACCTGGGGAGTACGTTCGCAAGAATGAAACTCAAAGGAATTGACGGGGGCCCGCACAATCGGTGGAGCATGTGGTTTAATTCGATGATACGCGAGGAACCTTACCAAGGCTTAAATGTAGATTGACCGGTTTGGAAACAGATCTTTCGCAAGACAATTTACAAGGTGCTGCATGGTTGTCGTCAGCTCGTGCCGTGAGGTGTCAGGTTAAGTCCTATAACGAGCGCAACCCCTGTTGTTAGTTGCCAGCGAGTCATGTCGGGAACTCTAACGAGACTGCCAGTGCAAACTGTGAGGAAGGTGGGGATGACGTCAAATCATCACGGCCCTTACGCCTTGGGCTACACACGTGCTACAATGGCCGGTACAGAGAGCAGCCACTGGGCGACCAGGAGCGAATCTATAAAACCGGTCACAGTTCGGATCGGAGTCTGCAACTCGACTCCGTGAAGCTGGAATCGCTAGTAATCGGATATCAGCCATGATCCGGTGAATACGTTCCCGGGCCTTGTACACACCGCCCGTCAAGCCATGGAAGCTGGGGGTGCCTGAAGTCGGTGACCGCAAGGAGCTGCCTAGGGTAAAACTGGTAACTAGGGCTAAGTCGTAACAAGGTAACC",
         null,
         "b77f07431751f23d01ed4a7fdd4fa6ed"
        ],
        [
         8988289,
         "URS0000892681",
         "2015-10-20T18:04:07.000+0000",
         "RNACEN",
         "528A9017418A3FD2",
         1436,
         "CAGGCTTAACACATGCAAGTCGAGGGGCAGCATGGTCTTAGCTTGCTAAGGCCGATGGCGACCGGCGCACGGGTGAGTAACGCGTATCCAACCTGCCTTACACTCTTGGACAGCCTTCTGAAAGGGAGATTAATACAAGATGTTATCATGAGTAAGCATTTTCGCATGATTAAAGGTTTACCGGTGTAAGATGGGGATGCGTTCCATTAGATAGTAGGCGGGGTAACGGCCCACCTAGTCTTCGATGGATAGGGGTTCTGAGAGGAAGGTCCCCCACATTGGAACTGAGACACGGTCCAAACTCCTACGGGAGGCAGCAGTGAGGAATATTGGTCAATGGACGAGAGTCTGAACCAGCCAAGTAGCGTGAAGGATGAAGGTTCTATGGATTGTAAACTTCTTTTATACGGGAATAAACGAATCCACGTGTGGATTTTTGCATGTACCGTATGAATAAGGATCGGCTAACTCCGTGCCAGCAGCCGCGGTAATACGGAGGATCCGAGCGTTATCCGGATTTATTGGGTTTAAAGGGAGCGTAGATGGGTTGTTAAGTCAGTTGTGAAAGTTTGCGGCTCAACCGTAAAATTGCAATTGATACTGGCAGTCTTGAGTACAGTTGAGGTAGGCGGAATTCGTGGTGTAGCGGTGAAATGCTTAGATATCACGAAGAACTCCGATTGCGAAGGCAGCTTACTAACCTGTAACTGACATTGATGCTCGAAAGTGTGGGTATCAAACAGGATTAGATACCCTGGTAGTCCACACGGTAAACGATGAATACTCGCTGTAGGCGGTATACAGTCTGCGGCCAAGCGAAAGCATTAAGTATTCCACCTGGGGAGTACGCCGGCAACGGTGAAACTCAAAGGAATTGACGGGGGCCCGCACAAGCGGAGGAACATGTGGTTTAATTCGATGATACGCGAGGAACCTTACCCGGGCTTAAATTGCAACCGAATATGGCGGAAACGCTATAGCTAGCAATAGCGGTTGTGAAGGTGCTGCATGGTTGTCGTCAGCTCGTGCCGTGAGGTGTCGGCTTAAGTGCCATAACGAGCGCAACCCTTGCCGATAGTTACTAACAGGTCATGCTGAGGACTCTGTCGGGACTGCCATCGTAAGATGTGAGGAAGGTGGGGATGACGTCAAATCAGCACGGCCCTTACGTCCGGGGCTACACACGTGTTACAATGGGGGGTACAGAGGGCTGCTACCACGCAAGTGGATGCCAATCCCAAAAACCTCTCTCAGTTCGGATTGAAGTCTGCAACCCGACTTCATGAAGCTGGATTCGCTAGTAATCGCGCATCAGCCACGGCGCGGTGAATACGTTCCCGGGCCTTGTACACACCGCCCGTCAAGCCATGGGAGCCGGGGGTACCTGAAGTGCGTAACCGCAAGGAGCGCCCTAGGGTAAAACTGGTGACTGGGGC",
         null,
         "5ea398f317e82a3e9854998c7048ba76"
        ],
        [
         8988290,
         "URS0000892682",
         "2015-10-20T18:04:07.000+0000",
         "RNACEN",
         "70A1FCCD43CAF8C9",
         1393,
         "AACGAACGCTTGCGGCGTGGATAAGACATGCAAGTCGAACGGGATCACTTTCGCCCGCAAGAGTGGAAGTGATTCAGTGGCGAACGGGTGCGTAACACGTGGGCAATCTGTCGTAAAGTGGGGGATAGCTCGGCGAAAGCCGAATTAATACCGCATGTGATTAGCGGAGACATCTTCGCGACATCAAAGTCGGGGCAACCTGACGCTTTTTGAGGAGCCCGCGGCCTATCAGCTTGTTGGTGAGGTAACGGCTCACCAAAGCGTTGACGGGTAGCTGGTCTGAGAGGACGACCAGCCACACTGGGACTGAGACACGGCCCAGACACCTACGGGTGGCAGCAGTCGAGAATTTTTCTCAATGGGGGAAACCCTGAAGGAGCGACGCCGCGTGGAGGATGAAGGTCTTCGGGTTGTAAACTCCTGTCATTTGGGAACAAGGCGCGTGTATTAACTGTGCACGCGTTGATAGTACCAGAAGAGGAAGAGACGGCTAACTCTGTGCCAGCAGCCGCGGTAATACAGAGGTCTCAAGCGTTGTTCGGATTCATTGGGCGTAAAGGGTGCGTAGGCGGCGCGGTAAGTCGGGTGTGAAATTTCGGAGCTTAACTCCGAAACTGCATTCGATACTGCCGTGCTCGAGGACTGGAGAGGAGACTGGAATTTACGGTGTAGCAGTGAAATGCGTAGATATCGTAAGGAAGACCAGTGGCGAAGGCGGGTCTCTGGACAGTTCCTGACGCTGAGGCACGAAGGCCAGGGGAGCAAACGGGATTAGATACCCCGGTAGTCCTGGCAGTAAACGGTGCACGTTTGGTGTGGGAGGATTCGACCCCTTCTGCGCCGGAGTTAACACGTTAAACGTGCCGCCTGGGGAGTACGGTCGCAAGATTAAAACTCAAAGAAATTGACGGGGGCCCGCACAAGCGGTGGAGTATGTGGCTTAATTCGATGCAACGCGAAGAACCTTACCAGGCCTTGACATGCATCTCTAAACCGGTGAAAGCCGGCGAGCCCCGAAAGGGGCAATTTGCACAGGTGCTGCATGGCTGTCGTCAGCTCGTGTCGTGAGATGTTGGGTTAAGTCCCGCAACGAGCGCAACCCCTGTGAACTGTTGCCACCGGAGCGAGAGCTCCGAGCACTCTGTTCAGACTGCCTCGCTTAAACGAGGAGGAAGGTGGGGACGACGTCAAGTCAGTATGGCCCTTACGGCATGGGCTGCACACGTACTACAATGCCCAGTACAGAACGATCCAAGACCGCGAGGTGGAGGAAATCACTAAAACTGGGCCCAGTTCAGATTGAAGTCTGCAACTCGACTTCATGAAGCCGGAATCGCTAGTAATGGCGTATCAGCTACGACGCCGTGATACGTTCCCGGGCATTGCACACACC",
         null,
         "c4a6eac8df3c6f9f6968654441eeee41"
        ],
        [
         12686423,
         "URS0000C19457",
         "2017-10-19T09:46:04.147+0000",
         "rnacen",
         "B8BBB5FD5A8F8165",
         105,
         "AACTTATCAAGAGTGGTTGAGGGACAGGGCCCTATGACACCCGGCAACCGGCGTTTCGACGCATCGGTGCCAATTCCCCCGTTTGGTTCAAACGGAAGATGAGAA",
         null,
         "28e12dbb8d4b1727903faf3fca3311db"
        ],
        [
         8988291,
         "URS0000892683",
         "2015-10-20T18:04:07.000+0000",
         "RNACEN",
         "A8B034000E9F739F",
         1404,
         "AGAGTTTGATCCTGGCTCAGGATCATCGCTAGCGGCAGGCTTAACACATGCAAGTCGAGGGGCAGCGGGGGACGCGCTTGCGCGTCCCGCCGGCGACCGGCGCACGGGTGAGTAACACGTATGCAACCTGCCCCCGCCAGGGGTACAACCCTCCGAAAGGGGGGCTGATACCGCGTACATCCCTCGGGGGCATCCCCGGGGGAGGAAAGCCCTTCTGGGCGGGCGGGGATGGGCATGCGGCGCATTAGGAAGACGGCGGTGTGACGGACCACCGTTCCGACGATGCGTAGGGGTTCTGAGAGGAAGGCCCCCCACACTGGTACTGAGACACGGACCAGACTCCTACGGGAGGCAGCAGTGAGGAATATTGGTCAATGGCCGGAAGGCTGAACCAGCCAAGCCGCGTGAGGGAGGAAGGCGCAGAGCGTCGCAGACCTCTTTTGCCGGGGGACAAAAGGCCGGACTCGTCCGGTCCTGAGGGTACCCGGAGAAAAAGCATCGGCTAACTCCGTGCCAGCAGCCGCGGTAATACGGAGGATGCGAGCGTTATCCGGATTCATTGGGTTTAAAGGGTGCGCAGGCGGGCCTTTAAGCCGGCGGTGAAATCGCGGGGCTCAACCCCGCCGAGCCGTCGGAACTGGGGGCCTTGAGTGCGGCGGAGGCATGCGGAATGCGCGGTGTAGCGGTGAAATGCATAGATATCGCGCAGAACCCCGATTGCGAAGGCAGCGTGCCGTGCCGCCACTGACGCTGAGGCACGAAAGCGCGGGGATCGAACAGGATTAGATACCCTGGTAGTCCGCGCCGTAAACGATGGATGCTGGGTGTCCGGGGCGTTCAGGCCCTGGGTGCCGGAGCGAAAGCGGTAAGCATCCCACCTGGGGAGTACGCCGGCAACGGTGAAACTCAAAGGAATCGACGGGGGCCCGCACAAGCGGAGGAACATGTGGTTTAATTCGATGATACGCGAGGAACCTTACCCGGGCTCAAACGGGGGGCGCGGGCGGCAGAGACGCCGCCGTCCTTATGGACGTCCCCCGAGGTGCTGCATGGTTGTCGTCAGCTCGTGCCGTGAGGTGTCGGATTAAGTTCCATAACGAGCGCAACCCCCGCGCGCAGTTGCTAACGGGTCAGGCCGAGGACTCTGCGCGGACTGCCGGCGCAAGCCGCGAGGAAGGCGGGGACGACGTCAAATCAGCACGGCCCTTACGTCCGGGGCGACACACGTGTTACAATGGGGGGTACAGCGGGAAGCCAGGCGGCGACGCCGAGCGGAACCCGAAAGCCCCTCCCAGTTCGGATCGGAGCCTGCAACCCGGCTCCGTGAAGCTGGATTCGCTAGTAATCGCGCATCAGCCATGGCGCGGTGAATACGTTCCCGGGCCTTGCACACACCGCCCGTCA",
         null,
         "fe379d500bfdf6906cd08be7eba16a0f"
        ],
        [
         8988293,
         "URS0000892685",
         "2015-10-20T18:04:07.000+0000",
         "RNACEN",
         "202E5326F9F63C51",
         1461,
         "AACGAACGCTGGCGGCGTGGCTAAGACATGCAAGTCGAACGGGCCATTTTGATGAGTAATCTGATGAATGGTTAGTGGCGTAAGGGTTAGTAATGGATAGGTAACGTACCCTTTGCTTCGGGATAGCGTCTCGAAAGGGGCGGTAATACCGGATAATGTCATTTTCCGACAGGATTGTGACCAAAGATTTATCGGCGAAGGAGCGGTCTATCTCCTATCAGCTTGTTGGTGGGGTAATGGCTCACCAAGGCTAAGACGGGTAGCGGGACTGAGAGGTTGGCCCGCAACATCGGGACTGAGACACTGCCCGGACCCTCACGGGGGGCTGCAGTAACGAATATTGCGCAATGGGCGAAAGCCTGACGCAGCGACGCCGCGTGCGGGAGGAAGTCCCTTGGGATGTAAACCGCTGTCAGGGGTAAGAAAGTCCGCCTCCGGGCGGGTTGATCTAACCCAGAGGAAGTCACGGCTAACTTCGTGCCAGCAGCCGCGGTAAGACGAAGGTGGCAAGCGTTGTTCGGTATCACTGGGCTTAAAGCGTGTGTAGGCGGAAAGGTAAGCGCTTTGTGAAATCCCCCGGCTTAACCGGGGAATGGCTTGGCGAACTGCCTTTCTTGAGGTAGGCAGGGGTGCATGGAACTCTTGGTGGAGCGGTGGAATGCGTAGATATCAAGAGGAACGCCAGTGGTGAAAACGGTGCACTGGGCCTGCTCTGACGCTGAGACACGAAAGCGTGGGGAGCGAACGGGATTAGATACCCCGGTAGTCCACGCTGTAAACGATGTCTACTAGGTTGTGGTCGTTCTGACACGGGCACGGCCGAAGCAAAAGTGTTAAGTAGACCGCCTGGGGAGTACGGTCGCAAGGCTAAAACTCAAAGGAATTGACGGGGGCTCACACAAGCGGTGGAGCATGTGGATTAATTCGAAGCAACGCGTAGAACCTTACCTGGGTTTGACATGCTTGGATGCCTTCCTGGAAACAGGATAGGTTGCCCTTCGGGGTGGAACTTGCACAGGTGCTGCATGGCTGTCGTCAGCTCGTGTCGTGAGATGTCGGGTTAAGTCCTTTAACGAGCGAAACCCTTGCCGTTAGTTGCCAGCGGGTCATGCCGGGGACTCTAGCGGGACTGCCGGTGTTAAACCGGAGGAAGGTGGGGACGACGTCAAGTCATCATGGCCTTTATGCCCAGGGCCTCACACGTGCTACAATGGCGAATACAAAGCGACGCAAGACCGCGAGGTGGAGCAAATCGCAAAAAAATCGCCTCAGTTCGGATTGCAGGCTGGCAACTCGCCTGCATGAAGTTGGAATCGCTAGTAATCGCGTATCAGCTACGACGCGGTGAATGTGTTCCTGAGCCTTGTACACACCGCCCGTCAAGTGATGGGAGTCGGGAGTACCCGAAGTCAGGTTACCAACCTTCGGGAGGTGCCTGCCGACGGTAAGTCCGATGACTGG",
         null,
         "5ea43a7a1380d9e05edcdd83d05a12cb"
        ],
        [
         8988294,
         "URS0000892686",
         "2015-10-20T18:04:07.000+0000",
         "RNACEN",
         "BCFE5123D28E9C79",
         1388,
         "TAGTGGCGGACGGGTGAGTAACGCGTGGGTAACCTGCCTCACACAGGGGGATAACAGTTAGAAATGACTGCTAATACCGCATAAGCGCACGGTATCGCATGGTACAGTGTGAAAAGATTTATCGGTGTGAGATGGACCCGCGTCTGATTAGCCAGTTGGCAGGGTAACGGCCTACCAAAGCGACGATCAGTAGCCGGCCTGAGAGGGTGAACGGCCACATTGGGACTGAGACACGGCCCAAACTCCTACGGGAGGCAGCAGTGGGGGATATTGCACAATGGGGGAAACCCTGATGCAGCGACGCCGCGTGAGTGAAGAAGTATTTCGGTATGTAAAGCTCTATCAGCAGGGAAGAAAATGACGGTACCTGACTAAGAAGCCCCGGCTAACTACGTGCCAGCAGCCGCGGTAATACGTAGGGGGCAAGCGTTATCCGGATTTACTGGGTGTAAAGGGAGCGTAGACGGCGAGTCAAGTCTGATGTGAAAGGTGGGGGCTCAACCCCCAAACTGCATTGGAAACTGGTTTGCTAGAGTGTCGGAGAGGTAAGTGGAATTCCTAGTGTAGCGGTGAAATGCGTAGATATTAGGAGGAACACCAGTGGCGAAGGCGGCTTACTGGACGATCACTGACGTTGAGGCTCGAAAGCGTGGGGAGCAAACAGGATTAGATACCCTGGTAGTCCACGCGGTAAACGATGAATACTAGGTGTCGGGTGGCAACAGCCATTCGGTGCCGCAGCAAACGCAATAAGTATTCCACCTGGGGAGTACGTTCGCAAGAATGAAACTCAAAGGAATTGACGGGGACCCGCACAAGCGGTGGAGCATGTGGTTTAATTCGAAGCAACGCGAAGAACCTTACCAAATCTTGACATCTAACTGACAGTGCTCATAAAAGGCATTTCCTTCGGGACAGTTAAGACAGGTGGTGCATGGTTGTCGTCAGCTCGTGTCGTGAGATGTTGGGTTAAGTCCCGCAACGAGCGCAACCCTTGTCGTTAGTAGCCAGCACGTAAAGGTGGGCACTCTAATGAGACTGCCGGGGATAACCCGGAGGAAGGTGGGGATGACGTCAAATCATCATGCCCCTTATGATTTGGGCTACACACGTGCTACAATGGCGTAAACAAAGAGAGGCGAAGTCGTGAGGCAGAGCAAATCTCAAAAATAACGTCTCAGTTCGGATTGTAGTCTGCAACTCGACTACATGAAGCTGGAATCGCTAGTAATCGCGAATCAGCATGTCGCGGTGAATACGTTCCCGGGTCTTGTACACACCGCCCGTCACACCATGGGAGTCGGAAATGCCCGAAGTCGGTGACTTAACCGCAAGGAGAGAGCCGCCGAAGGCAGGTCTGATAACTGGGGTGAAGTCGTAACAAGGTA",
         null,
         "c4a7faa63214f9beed8626ff46f986c6"
        ],
        [
         8988299,
         "URS000089268B",
         "2015-10-20T18:04:07.000+0000",
         "RNACEN",
         "0CF6E96E3C5F75BC",
         1457,
         "AGAGTTTGATCCTGGCTCAGGATGAACGCTGGCGGCGTGCTTAACACATGCAAGTCGAACGAGAAAGCTCCTTCGGGAGTGAGTACAGTGGCGAACGGGTGCGTAACACGTTGGTGACCTGCCTTGAGGAGGGGGACAACCGTGGGAAACCACGGCTAATACCCCGGATGTCTAAACTGTTAGAGGGTTTAGACTAAAACTTCGGTGCCTCAAGAGGGGCCTGCGGGCTATCAGCTTGTTGGTGGGGTAATGGCCTACCAAGGCTAAGACGGCTAGGGGGCGTGAGAGCGCGACCCCCCACAATGGAACTGAGACACGGTCCATACTCCTACGGGAGGCAGCAGTGAGGAATATTGCGCAATGGGGGAAACCCTGACGCAGCAACGCCGCGTGAACGATGAAGGCCTTCGGGTCGTAAAGTTCTTTTCTAAGGGAAGATAGTGACGGTACCTTAGGAATAAGTCCCGGCTAACTACGTGCCAGCAGCCGCGGTAAAACGTAGGGGGCGAGCGTTATCCGGATTTATTGGGCGTAAAGCGCACGTAGGTGGCGCTGTAAGTTAGACGTGAAAGCTCTCGGCTCAACTGAGAGAGGTCGTTTAAAACTGGAGGTGCTTGAGGTTAGAAGAGGAGAGCAGAATTCCCGGTGTAGTGGTGGAATGCGTAGATATCGGGAGGAATACCAGTGCGGAAGCGGGTCTCTAGTTCTAAACTGAAACTGAGGTGCGAAAGCGTGGGTAGGGAACGGGATTAGATACCCCGGTAGTCCACGCTGTAAACGATGGATACTAGGTGTAGGGGGTCATTTAACCCCTCTGTGCCGAAGCAAACGCGTTAAGTATCCCGCCTGGGGACTACGGCCGCAAGGTTGAAACTCAAAGGAGTTGACGGGGGCCCGCACAAGCAGCGGAGCGTGTGGTTTAATTCGATGATACGCGAAGAACCTTACCTGGGCTGAACTACGTGGTAGTAGTGAAGCGAAAGCGGATCGACCCTTCGGGGAGCCTCGATAGGTGCTGCATGGCTGTCGTCAGCTCGTGTCGTGAGATGTTGGGTTAAGTCCCGCAACGAGCGCAACCCTCGTCGCTAGTTACAAGTGTCTAGCGAGACTGCCGGTATCAAACCGGAGGAAGGTGGGGATGACGTCAAGTCAGCATGGTCTTTATGTCCAGGGCTACACACACGCTACAATGGTCGGTACAATAGGTTGCCACACCGCGAGGTGGAGCTAATCCTCAAAGCCGATCTCAGTTCGGATTGTAGTCTGCAACTCGACTACATGAAGGCGGAGTTGCTAGTAACCGCGCGTCAGCATAGTGCGGTGAATGCGTTCCCGGGCCTTGTACACACCGCCCGTCACATCATGGGAGTCGGTAACACCTGAAGTCGGTGACCTAACCGAAAGGGGGGAGCTGCCTAAGGTGGGATCGGTAACTGGGATGAAGTCGTAACAAGGTA",
         null,
         "fe39914e1e17d8b07091f95b2e07f48b"
        ],
        [
         8988936,
         "URS0000892908",
         "2015-10-20T18:04:07.000+0000",
         "RNACEN",
         "624A6B6CF0AE9116",
         1393,
         "TTCGCCCTTAGAGTTTGATCCTGGCTCAGGATGAACGCTGGCGGCGTGCTTAACACATGCAAGTCGAACGGGAATTACTTTATTGAAACTTCGGTCGATTTAATTTAATTCTAGTGGCGGACGGGTGAGTAACGCGTGGGTAACCTGCCTTATACAGGGGGGATAACAGTCAGAAATGGCTGCTAATACCGCATAAGCGCACAGAGCTGCATGGCTCAGTGTGAAAAACTCCGGTGGTATAAGATGGACCCGCGTTGGATTAGCTAGTTGGTGGGGTAACGGCCCACCAAGGCGACGATCCATAGCCGGCCTGAGAGGGTGAACGGCCACATTGGGACTGAGACACGGCCCAGACTCCTACGGGAGGCAGCAGTGGGGAATATTGCACAATGGGGGAAACCCTGATGCAGCGACGCCGCGTGAAGGAAGAAGTATCTCGGTATGTAAACTTCTATCAGCAGGGAAGATAGTGACGGTACCTGACTAAGAAGCCCCGGCTAACTACGTGCCAGCAGCCGCGGTAATACGTAGGGGGCAAGCGTTATCCGGATTTACTGGGTGTAAAGGGAGCGTAGACGGTGTGGCAAGTCTGATGTGAAAGGCATGGGCTCAACCTGTGGACTGCATTGGAAACTGTCATACTTGAGTGCCGGAGGGGTAAGCGGAATTCCTAGTGTAGCGGTGAAATGCGTAGATATTAGGAGGAACACCAGTGGCGAAGGCGGCCTACTGGGCTTTAACTGACGCTGAGGCACGAAAGCATGGGTAGCAAACAGGATTAGATACCCTGGTAGTCCATGCCGTAAACGATGATTACTAGGTGTGGGGGGACTGACCCCTTCCGTGCCGCAGTTAACACAATAAGTAATCCACCTGGGGAGTACGGCCGCAAGGTTGAAACTCAAAGGAATTGACGGGGGCCCGCACAAGCAGTGGAGTATGTGGTTTAATTCGAAGCAACGCGAAGAACCTTACCAGGTCTTGACATCCTGAGAATCCTTAAGAGATTAGGGAGTGCCTTCGGGAACTCAGAGACAGGTGGTGCATGGTTGTCGTCAGCTCGTGTCGTGAGATGTTGGGTTAAGTCCCGCAACGAGCGCAACCCTTGCTATTAGTTGCTACGCAAGAGCACTCTAATAGGACTGCCGTTGACAAAACGGAGGAAGGTGGGGACGACGTCAAATCATCATGCCCCTTATGACCTGGGCTACACACGTACTACAATGGCCATTAACAGAGGGAAGCAAAACCGCGAGGCAGAGCAAACCCCTAAAAATGGTCCCAGTTCGGATTGTAGGCTGCAACCCGCCTACATGAAGTTGGAATTGCTAGTAATCGCGGATCAGCATGCCGCGGTGAATACGTTCCCGGGCCTTGTACTCACCGCCCGTCA",
         null,
         "b834439f2b6b4e545ea13865b2b8ad32"
        ],
        [
         12686424,
         "URS0000C19458",
         "2017-10-19T09:46:04.147+0000",
         "rnacen",
         "591A15B34811456C",
         161,
         "CACCGCCCGTCGCTCCTACCAATTGAATGGTCCGGTGAAGTGTTTGGATCGCGGCGACGTGGGCGGTTTGCCGCCAATGACGTCGCGAGAAGTCCACTGAACCTTATCATTTAGAGGAATGAGAAGTCGTAACAAGGTTTCCGTAGGTGAACCTGCGGAAG",
         null,
         "28e14eee573a09993f4eec3981c9765b"
        ],
        [
         8988937,
         "URS0000892909",
         "2015-10-20T18:04:07.000+0000",
         "RNACEN",
         "945CBD534C712E3E",
         1317,
         "GAGTGGCGGACGGGTGAGTAACGCGTGGGTAACCTGCCCTGTACCGGGGGATAACAGTCGGAAACGACTGCTAATACCGCATAAGCGCACAGTACCGCATGGTACGGTGTGAAAAACTCCGGTGGTACAGGATGGACCCGCGTCTGATTAGCTAGTTGGTGAGGTAACGGCCCACCAAGGCGACGATCAGTAGCCGACCTGAGAGGGTGACCGGCCACATTGGGACTGAGACACGGCCCAAACTCCTACGGGAGGCAGCAGTGGGGAATATTGCACAATGGGCGAAAGCCTGATGCAGCGACGCCGCGTGAGTGAAGAAGTATTTCGGTATGTAAAGCTCTATCAGCAGGGAAGAAAATGACGGTACCTGACTAAGAAGCCCCGGCTAACTACGTGCCAGCAGCCGCGGTAATACGTAGGGGGCAAGCGTTATCCGGATTTACTGGGTGTAAAGGGAGTGTAGGTGGCAAGACAAGTCAGAAGTGAAAATCCGGGGCTCAACCCCGGAACTGCTTTTGAAACTGTTTAGCTTGAGTGCAGGAGGGGTAAGCGGAATTCCTAGTGTAGCGGTGAAATGCGTAGATATTAGGAGGAACACCGGTGGCGAAGGCGGCTTACTGGACTGTAACTGACACTGAGGCTCGAAAGCGTGGGGAGCAAACAGGATTAGATACCCTGGTAGTCCACGCCGTAAACGATGAATACTAGGTGTTGGGGGTCACAAGACCTTCAGTGCCGTCGCTAACGCAATAAGTATTCCACCTGGGGAGTACGTTCGCAAGAATGAAACTCAAAGGAATTGACGGGGACCCGCACAAGCGGTGGAGCATGTGGTTTAATTCGAAGCAACGCGAAGAACCTTACCAAGTCTTGACATCCTCTTGAATGTGTGGTAATGCATACAGCTCTTTTAGAGCAAGAGAGACAGGTGGTGCATGGTTGTCGTCAGCTCGTGTCGTGAGATGTTGGGTTAAGTCCCGCAACGAGCGCAACCCCTATGATTAGTAGCCAGCAGTAAGATGGGCACTCTAATCAGACTGCCCGGGATAACCGGGAGGAAGGCGGGGGTGACGTCAAATCATCATGCCCCTTATGACTTGGGCTACACACGTGCTACAATGGCGTAAACAAAGAGAAGCGACCTCGTGAGAGTAAGCAAATCCCAAAAATAACGTCTCAGTTCGGATTGTAGTCTGCAACTCGACTACATGAAGCTGGAATCGCTAGTAATCGCAGATCAGAATGCTGCGGTGAATACGTTCCCGGGTCTTGTACACACCGCCTGTCACACCATGGGAGTCGGAAATGCCCGAAGTC",
         null,
         "fec75f6da264afc33bbada5ee76e3e66"
        ],
        [
         8988938,
         "URS000089290A",
         "2015-10-20T18:04:07.000+0000",
         "RNACEN",
         "469D51A7676D4F61",
         1405,
         "TTCGCCCTTAGAGTTTCTTTCTGGCTCAGGATGAACGCTGGCGGCGTGCTTAACACATGCAAGTCGAACGGAACACCCTTGAAGGAGTTTTCGGACAACTGAGAGGACTGTTTAGTGGCGGACGGGTGAGTAACGCGTGAGTAACCTGCCTTGGAGTGGGGAATAACACAAAGAAATTTGTGCTAATACCGCATAATGCAGCTGAGTCGCATGGCTCTGGCTGCCAAAGATTTATCGCTCTGAGATGGACTCGCGTCTGATTAGCTAGTTGGCGGGGTAACGGCCCACCAAGGCGACGATCAGTAGCCGGACTGAGAGGTTGGCCGGCCACATTGGGACTGAGACACGGCCCAGACTCCTACGGGAGGCAGCAGTGGGGAATATTGGGCAATGGGCGCAAGCCTGACCCAGCAACGCCGCGTGAAGGAAGAAGGCTTTCGGGTTGTAAACTTCTTTTCTCAGGGACGAAGCAAGTGACGGTACCTGAGGAATAAGCCACGGCTAACTACGTGCCAGCAGCCGCGGTAATACGTAGGTGGCAAGCGTTATCCGGATTTACTGGGTGTAAAGGGCGTGTAGGCGGGAAAGCAAGTCAGATGTGAAAACCATGGGCTCAACCTGTGGCCTGCATTTGAAACTGTTTTTCTTGAGTACTGGGAGAGGCCAGACGGAATTCCCTATGTAGCGGTGAAATGCGTAAGATATTTAAGAAGAACACCAGTGGGGAAGGCGGGTCTGCTGGACAGCAACTGACGCTGAAGGCGGGAAAGCGTGGGGAGCAAACAGGATTAGATACCCTGGTAGTCCACGCTGTAAACGATGGATACTAGGTGTGGGGGGACTGACCCCCTCCGTGCCGCAGTTAACACAATAAGTATCCCACCTGGGGAGTACGATCGCAAGGTTGAAACTCAAAGGAATTGACGGGGGCCCGCACAAGCGGTGGAGTATGTGGTTTAATTCGAAGCAACGCGAAGAACCTTACCAGGGCTTGACATCCCACGGACAGATGTAGAGATACATCCTTCCCTTCGGGGACTGTGGTGACAGGTGGTGCATGGTTGTCGTCAGCTCGTGTCGTGAGATGTTGGGTTAAGTCCCGCAACGAGCGCAACCCTTATTGTTAGTTGCTACGCAAGAGCACTCTAGCGAGACTGCCGTTGACAAAACGGAGGAAGGTGGGGACGATGTCAAATCATCATGCCCCTTATGTCCTGGGCCACACACGTATTACAATGGTGGCCAACAGAGGGAAGCAATGCCGCGAGGCGGAGCAAATCCCTAAAAGCCATCCCAGTTCGGATCGCAGGCTGCAACCCGCTTGCGTGAAGTTGGAATCGCTAGTAATCGCGGATCAGCATGCCGCGGTGAATACGTTCCCGGGCCTTGCACACACCGCCCGTCA",
         null,
         "b835a6acb7d66e88ba0af5afcb46e92f"
        ],
        [
         8988942,
         "URS000089290E",
         "2015-10-20T18:04:07.000+0000",
         "RNACEN",
         "D8C41B54C1D59C19",
         1345,
         "GACGAACGCTGGCGGCGCGCCTAACACATGCAAGTCGAACGAGAGAGAGGGAGCTTGCTTCCTTGATCGAGTGGCGAACGGGTGAGTAACGCGTGAGGAACCTGCCTCAGAGAGGGGGACAACAGTTGGAAACGACTGCTAATACCGCATAAGCCCACGACCCGGCATCGGGAAGAGGGAAAAGGAGCAATCCGCTTTGAGATGGCCTCGCGTCCGATTAGCTAGTTGGTGAGGTAACGGCCCACCAAGGCGACGATCGGTAGCCGGACTGAGAGGTTGAACGGCCACATTGGGACTGAGACACGGCCCAGACTCCTACGGGAGGCAGCAGTGGGGAATATTGCACAATGGGGGAAACCCTGATGCAGCGACGCCGCGTGGAGGAAGAAGGTCTTCGGATTGTAAACTCCTGTTGTTGAGGAAGATAATGACGGTACTCAACAAGGAAGTGACGGCTAACTACGTGCCAGCAGCCGCGGTAAAACGTAGGTCACAAGCGTTGTCCGGAATTACTGGGTGTAAAGGGAGCGCAGGCGGGCGATCAAGTTGGAAGTGAAATCCATGGGCTCAACCCATGAACTGCTTTCAAAACTGGTCGTCTTGAGTAGTGCAGAGGTAGGCGGAATTCCCGGTGTAGCGGTGGAATGCGTAGATATCGGGAGGAACACCAGTGGCGAAGGCGGCCTACTGGGCACCAACTGACGCTGAGGCTCGAAAGTGTGGGTAGCAAACAGGATTAGATACCCTGGTAGTCCACACCGTAAACGATGATTACTAGGTGTTGGGAGATTGACCCTCTCAGTGCCGCAGTTAACACAATAAGTAATCCACCTGGGGAGTACGACCGCAAGGTTGAAACTCAAAGGAATTGACGGGGGCCCGCACAAGCAGTGGAGTATGTGGTTTAATTCGACGCAACGCGAAGAACCTTACCAAGTCTTGACATCCCTTGACGATGCTGGAAACAGCATTTCTCTTCGGAGCAAGGAGACAGGTGGTGCATGGTTGTCGTCAGCTCGTGTCGTGAGATGTTGGGTTAAGTCCCGCAACGAGCGCAACCCTTATGGTCAGTTACTACGCAAGAGGACTCTGGCCAGACTGCCGTTGACAAAACGGAGGAAGGTGGGGATGACGTCAAATCATCATGCCCTTTATGACTTGGGCTACACACGTACTACAATGGCGTTAAACAAAGAGAAGCAAGACCGCGAGGTGGAGCAAAACTCAGAAACAACGTCCCAGTTCGGACTGCAGGCTGCAACTCGCCTGCACGAAGTCGGAATTGCTAGTAATCGTGGATCAGCATGCCACGGTGAATACGTTCCCGGGCCTGTACACACCGCCC",
         null,
         "b838479b61d2e5ddb461b29ef0daf5ab"
        ],
        [
         8988436,
         "URS0000892714",
         "2015-10-20T18:04:07.000+0000",
         "RNACEN",
         "35DA5E2996B0151E",
         1393,
         "GGCAGGCTTAACACATGCAAGTCGAGGGGCATCGGGAGGAAAGCTTGCTTTCCTTGCCGGCGACCGGCGCACGGGTGAGTAACACGTATGCAACCTGCCCTCTTCAGGGGGACAACCTTCCGAAAGGGAGGCTAATCCCGCGTATATCGGTTTCGGGCATCCGAGATCGAGGAAAGATTCATCGGAAGAGGATGGGCATGCGGCGCATTAGCTAGATGGCGGGGTAACGGCCCACCGTGGCGACGATGCGTAGGGGTTCTGAGAGGAAGGTCCCCCACACTGGTACTGAGACACGGACCAGACTCCTACGGGAGGCAGCAGTGAGGAATATTGGTCAATGGGAGAGATCCTGAACCAGCCAAGCCGCGTGAGGGAAGACGGCCCTATGGGTTGTAAACCTCTTTTGTCGGAGAACAAAACCCGGGACGTGTCCCGGACTGCGTGTATCCGAAGAAAAAGCATCGGCTAACTCCGTGCCAGCAGCCGCGGTAATACGGAGGAGGCGAGCGTTATCCGGATTTATTGGGTTTAAAGGGTGCGTAGGCGGTCCGATAAGTCAGTGGTAAAATTGCGGGGCTCAACCCCGTCGAGCCGTTGAAACTGGCAGACTTGAGTTGGCGAGAAGTACGCGGAATGCGCGGTGTAGCGGTGAAATGCATAGATATCGCGCAGAACTCCGATTGCGAAGGCAGCGTACCGGCGCCAGACTGACGCTGAGGCACGAAAGCGTGGGGATCGAACAGGATTAGATACCCTGGTAGTCCACGCAGTAAACGATGAATGCTGGTTGTCCGGGTCGAATGAGACCTGGGCGGCGAAGCGAAAGCGATAAGCATTCCACCTGGGGAGTACGCCGGCAACGGTGAAACTCAAAGGAATTGACGGGGGCCCGCACAAGCGGAGGAACATGTGGTTTAATTCGATGATACGCGAGGAACCTTACCCGGGCTCAAACGGGAGTGGAATGGACCAGAGACGGTTCAGCCTACGGGCCGCTTCCGAGGTGCTGCATGGTTGTCGTCAGCTCGTGCCGTGAGGTGTCGGCTTAAGTGCCATAACGAGCGCAACCCCCGCCGGCAGTTGCTAACGGGCAATGCCGAGGACTCTGCCGGGACTGCCGCCGCAAGGCGTGAGGAAGGCGGGGATGACGTCAAATCAGCACGGCCCTTACGTCCGGGGCGACACACGTGTTACAATGGGCGGTACAGCGGGAAGCCAGGCGGCGACGCCGAGCGGAACCCGAAAGCCGTTCTCAGTTCGGATCGGAGTCTGCAACCCGACTCCGTGAAGCTGGATTCGCTAGTAATCGCGCATCAGCCATGGCGCGGTGAATACGTTCCCGGGCCTTGTACACACCGCCCGTCAAGCCATGGGAGCCGGGGGTGCTTGAAGT",
         null,
         "5ec3bffa9b452ffb8ca443e650982c65"
        ],
        [
         8988438,
         "URS0000892716",
         "2015-10-20T18:04:07.000+0000",
         "RNACEN",
         "BCF74A8813456F64",
         1469,
         "GATCCTGGCTCAGGACGAACGCTGGCGGCGTGCTTAACACATGCAAGTCGAGCGATGAAGTTTCCTTCGGGGAACGGATTAGCGGCGGACGGGTGAGTAACACGTGGGTAACCTGCCTCATAGAGGGGAATAGCCTTCCGAAAGGAAGATTAATACCGCATAAGATTGTAATGCCGCATGGCATAGCAATTAAAGGAGCAATCCGCTATGAGATGGACCCGCGTCGCATTAGCTAGTTGGTGAGGTAACGGCTCACCAAGGCGACGATGCGTAGCCGACCTGAGAGGGTGATCGGCCACATTGGGACTGAGACACGGCCCAGACTCCTACGGGAGGCAGCAGTGGGGAATATTGCACAATGGGGGAAACCCTGATGCAGCAACGCCGCGTGAGTGATGACGGTCTTCGGATTGTAAAGCTCTGTCTTTAGGGACGATAATGACGGTACCTAAGGAGGAAGCCACGGCTAACTACGTGCCAGCAGCCGCGGTAATACGTAGGTGGCAAGCGTTGTCCGGATTTACTGGGCGTAAAGGGAGCGTAGGTGGATATTTAAGTGGGATGTGAAATACCCGGGCTTAACCTGGGTGCTGCATTCCAAACTGGATATCTAGAGTGCAGGAGGGGAAAGGAGAATTCCTAGTGTAGCGGTGAAATGCGTAGAGATTAGGAAGAATACCAGTGGCGAAGGCGCCTTTCTGGACTGTAACTGACACTGAGGCTCGAAAGCGTGGGGAGCAAACAGGATTAGATACCCTGGTAGTCCACGCCGTAAACGATGAATACTAGGTGTAGGGGTTGTCATGACTTCTGTGCCGCCGCTAACGCATTAAGTATTCCGCCTGGGGAGTACGGTCGCAAGATTAAAACTCAAAGGAATTGACGGGGGCCCGCACAAGCAGCGGAGCATGTGGTTTAATTCGAAGCAACGCGAAGAACCTTACCTAGACTTGACATCTCCTGAATTACTCTGTAAAGGAGGAAGCCGCTTCGGCGGCAGGAAGACAGGTGGTGCATGGTTGTCGTCAGCTCGTGTCGTGAGATGTTGGGTTAAGTCCCGCAACGAGCGCAACCCTTATTGTTAGTTGCTACCATTTAGTTGAGCACTCTAGCGAGACTGCCCGGGTTAACCGGGAGGAAGGTGGGGATGACGTCAAATCATCATGCCCCTTATGTCTAGGGCTACACACGTGCTACAATGGTCGGTACAATGAGATGCAACCTCGCGAGAGTGAGCAAAACTATAAAACCGATCTCAGTTCGGATTGTAGGCTGAAACTCGCCTACATGAAGCTGGAGTTGCTAGTAATCGCGAATCAGAATGTCGCGGTGAATACGTTCCCGGGCCTTGTACACACCGCCCGTCACACCATGAGAGTTGGCAATACCCAAAGTTCGTGAGCTAACCGCAAGGAGGCAGCGACCTAAGGTAGGGTCAGCGATTGGGGTGAAGTCGTAACAAGGTACCC",
         null,
         "c4caeb7bf1b894b7cb88c45160cfcb43"
        ],
        [
         11884213,
         "URS0000B556B5",
         "2017-10-13T16:48:45.767+0000",
         "rnacen",
         "BD4A30AC14465F09",
         291,
         "GTGGATTAGATACCCTGGTAGTCCACGCCCTAAACGATGGGCACTAGGTGTGGGAGGTATCGACCCCTTCCGTGCCGCAGCTAACGCATTAAGTGCCCCGCCTGGGGAGTACGGCCGCAAGGTTGAAACTCAAAGGAATTGACGGGGGCCCGCACAAGCGGTGGTGCATGTGGTTTAATTCGACGCAACGCGAAGAACCTTACCTGGGCTTGACATCCCTGGAACCTCCTGGAAACAGGGGGGTGCCCGCAAGGGAGCCAGGAGACAGGTGCTGCACGGCTGTCGACAGCT",
         null,
         "3f3ba11000867ced5e5637662a81df95"
        ],
        [
         8988439,
         "URS0000892717",
         "2015-10-20T18:04:07.000+0000",
         "RNACEN",
         "D1A1D3B20542C122",
         1410,
         "TGATCCTGGCTCAGAATGAACGTTGGCGGCGTGGATTAGGCATGCAAGTCGTGCGAGAAGCCCTCTTCGGAGGGTGGACAGCGGCGAAAGGGAGAGTAACGCGTGGATACCAACCCCCAGGACCGGGATAGCCGCGGGAAACCGCGGGTAATACCGGATAATGTCTCCGGACCAAAGGTGTGATTCCGCCTGGGGACGGGTCCGCGTCCTACTAGCTTGTTGGTGAGGTAACGGCTCACCAAGGCGACGATGGGTACCGGGTGTGAGAGCATGGCCCGGCTCACTGGGACTGAGACACTGCCCAGACACCTACGGGTGGCTGCAGTCGAGAATCTTCGGCAATGGACGCAAGTCCGACCGAGCGACGCCGCGTGCGGGATGAAGGCCTTCGGGTTGTAAACCGCTGTCAGAGGGGAGGAAATCCTGTGGGGTTCTCTCCACAGGTTGACCTATCCTCAGAGGAAGTACGGGCTAAGTTCGTGCCAGCAGCCGCGGTAAGACGAACCGTACAAACGTTATTCGGAATCACTGGGCTTAAAGGGTGCGTAGGCGGCCCTGCAAGTTGGGTGTGAAAGCCCTCGGCTCAACCGAGGAATTGCGCCCAAAACTGCGGGGCTTGAGGGAGACAGAGGTGAGCGGAACTTAGGGTGGAGCGGTGAAATGCGTTGATATTCTGAGGAACACCTGTAGCGAAAGCGGCTCACTGGGTCTCTTCTGACGCTGAGGCACGAAAGCTAGGGGAGCGAACGGGATTAGATACCCCGGTAGTCCTAGCTGTAAACGTTGAGCACTTGGTCGGAGAGTCCTCCATAGCTTTCCGGTCGCAGCGAAAGTGATAAGTGCTCCGCCTGGGGAGTATGGTCGCAAGGCTGAAACTCAAAGGAATTGACGGGGGCTCACACAAGCGGTGGAGGATGTGGCTTAATTCGAGGCTACGCGTAGAACCTTATCCTGGGCTTGACATGCACGGATTAACCTCGTGAAAGCGAGGCGACGCCTTCGGGTGGAACGTGCACAGGTGCTGCATGGCTGTCGTCAGCTCGTGTCGTGAGATGTCGGGTTAAGTCCCTTAACGAGCGAAACCCTTGTCACTAGTTGCCAGCGGGTAATGCCGGGGACTCTAGTGAGACTGCCGGTGTTAAACCGGAGGAAGGTGGGGATGACGTCAAGTCCTCATGGCCTTTATGTCCAGGGCTGCACACGTCCTACAATGGCGCGTACAAAGGGAAGCGAACTCGCGAGAGCAAGCAAATCCCACAAAGCGCGCCCCAGTTCGGATTGCAGGCTGCAACTCGCCTGCATGAAGCCGGAATCGCTAGTAATCGCAGGTCAGCATACTGCGGTGAATATGTTCCTGAGCCTTGTACACACCGCCCGTCAAGCCACGAAAGTGGGGAGCATCCGAAGTCG",
         null,
         "b7b305dbf66bdabf1b02b87fd5b848b8"
        ],
        [
         8988442,
         "URS000089271A",
         "2015-10-20T18:04:07.000+0000",
         "RNACEN",
         "583EE5BDABBD782A",
         1374,
         "GGAGCTTGCTCCATGAGACCGGCGCACGGGTGCGTAACGCGTATGCAACCTACCTTTATCTGGGGGATAGCCCGGAGAAATCCGGATTAATACCGCATAAAATCACAGAATGGCATTATTCAATGATCAAACATTAATGGGATAGAGATGGGCATGCGTGTCATTAGCTAGTTGGCGGGGTAACGGCCCACCAAGGCGACGATGACTAGGGGATCTGAGAGGATGACCCCCCACACTGGTACTGAGACACGGACCAGACTCCTACGGGAGGCAGCAGTAAGGAATATTGGTCAATGGAGGCAACTCTGAACCAGCCATGCCGCGTGCAGGAAGACTGCCCTATGGGTTGTAAACTGCTTTTATCCGGGAATAAACCACGATACGTGTATTGTGCTGAATGTACCGGAAGAATAAGGATCGGCTAACTCCGTGCCAGCAGCCGCGGTAATACGGAGGATCCAAGCGTTATCCGGATTTATTGGGTTTAAAGGGTGCGTAGGCGGCCCGTTAAGTCAGGGGTGAAAGACGGTAGCTCAACTATCGCAGTGCCTTTGATACTGACGGGCTTGAATGAACTAGAGGTAGGCGGAATGAGACAAGTAGCGGTGAAATGCATAGATATGTCTCAGAACACCGATTGCGAAGGCAGCTTACTATGGTTTAATTGACGCTGAGGCACGAAAGCGTGGGGATCAAACAGGATTAGATACCCTGGTAGTCCACGCCCTAAACGATGAACACTCGCTGTTGGCGATACACAGTCAGCGGCTAAGCGAAAGCGTTAAGTGTTCCACCTGGGGAGTACGGTCGCAAGATTGAAACTCAAAGGAATTGACGGGGGCCCGCACAAGCGGAGGAGCATGTGGTTTAATTCGATGATACGCGAGGAACCTTACCCGGGCTTGAAAGTTAGTGAATCATTTAGAGATAAATGAGTGAGCAATCACACGAAACTAGGTGCTGCATGGCTGTCGTCAGCTCGTGCCGTGAGGTGTTGGGTTAAGTCCCGCAACGAGCGCAACCCCTATGTTTAGTTGCCAGCACGTTAAGGTGGGGACTCTAAACAGACTGCCTGTGCAAACAGAGAGGAAGGAGGGGACGACGTCAAGTCATCATGGCCCTTACGTCCGGGGCTACACACGTGCTACAATGGATGGTACAGCGGGCAGCTACATAGCAATATGATGCGAATCTCACAAAGCCATTCACAGTTCGGATTGGGGTCTGCAACTCGACCCCATGAAGTTGGATTCGCTAGTAATCGCGTATCAGCAATGACGCGGTGAATACGTTCCCGGGCCTTGTACACACCGCCCGTCAAGCCATGGAAGTTGGGGGTACCTAAAGTATGTAACCGCAAGGAGCGTCCTAGGG",
         null,
         "c4caf4c8610fe0555d87abaf75a6e16d"
        ],
        [
         8988445,
         "URS000089271D",
         "2015-10-20T18:04:07.000+0000",
         "RNACEN",
         "FFE26CB5A0DCA1F0",
         1334,
         "GACTGGCGCACGGGTGAGTAACGCGTAGACAACCTGCCTATAGCAAGGGGATAACCACCGGAAACGGTGGCTAATACCGTATAATGCAGCGGGGCCGCATGGCCACAGTTGTTAAAGTTAAGGCGGCTATAGATGGGTCTGCGTGCCATTAGTTAGTTGGTAGGGTAACGGCCTACCAAGGCGATGATGGCTAGGGGGTCTGAGAGGATGATCCCCCACACTGGAACTGAGACACGGTCCAGACTCCTACGGGAGGCAGCAGTGAGGAATCTTGCGCAATGGGCGAAAGCCTGACGCAGCCACGCCGCGTGCCGGAAGACGGCCCTATGGGTTGTAAACGGCTTTTGGTTGGGAAGAACAGCCCTGTTTCGATGGGGTTTGACGGTACCAATTGAATCAGCACCGGCTAACTCCGTGCCAGCAGCCGCGGTAATACGGAGGGTGCAAGCGTTGTCCGGAATCATTGGGTGTAAAGGGTGCGCAGGCTGGCTTTTAAGTCTGGGGTGAAATCTTGCCGCTTAACGGTAAAATGGCCCTGGATACTGAAAGTCTTGAGTCTGACAGAGGTCGGTGGAATTCGTAGTGTAGCGGTGAAATGCATAGATATTACGAAGAACATCAGTGGCGAAGGCGGCCGGCTGGGTCAGTATTGACGCTCAGGCACGAGAGCGTGGGGAGCGAACAGGATTAGATACCCTGGTAGTCCACGCTGTAAACGATGTATGCTAGTTGTTGGGCCTATGGGTTCAGTGACGCAGTTAACGCAGTAAGCATACCACCTGGGGAGTACGTTCGCAAGAATGAAACTCAAAGGAATTGACGGGGGCCCGCACAAGCGGTGGAGCATGTGGCTTAATTCGATGCAACGCGAAGAACCTTACCCGGGCTAAATCCGACTTGTTACCTCCCGAAACGGAGGGTCCCTTCGGGGCGGGTCGGAAGGTGCTGCATGGCTGTCGTCAGCTCGTGCCGTGAGGTGTTGCCTTAAGTGGCGCAACGAGCGCAACCCCTGTGGTCAGTTACCAGCACGTTGTGGTGGGGACTCTGGCCAGACTGCCTACGCAAGTAGTGAGGAAGGTGGGGACGACGTCAAGTCATCATGGCCCTTATGTCCGGGGCTGCACACGTGCTACAATGGATGGTACAGAGGGAAGCTACCCGGCGACGGGATGCAGATCTCGAAAGCCATTCTCAGTTCGGATTGGAGTCTGCAACTCGACTCCATGAAGGTGGAATCGCTAGTAATCGCGTATCAGCAACGACGCGGTGATACGTTCCCGGGCCTTGTACACACCGCCCGTCAAGCGATGGAAGTCAGGAGTACCTGATGTCGG",
         null,
         "fe5d1affd8c6ff5c030591bb48fad1f8"
        ],
        [
         8989070,
         "URS000089298E",
         "2015-10-20T18:04:07.000+0000",
         "RNACEN",
         "01828190B58476F8",
         1483,
         "GTTTGATCCTGGCTCAGATTGAACGCTGGCGGCATGCCTTACACATGCAAGTCGAACGGTAACAGGTTAAGCTGACGAGTGGCGAACGGGTGAGTAATATATCGGAACGTGCCCAGTCGTGGGGGATAACTGCTCGAAAGAGCAGCTAATACCGCATACGACCTGAGGGTGAAAGCGGGGGATCGCAAGACCTCGCGCGATTGGAGCGGCCGATATCAGATTAGGTAGTTGGTGGGGTAAAGGCTCACCAAGCCAACGATCTGTAGCTGGTCTGAGAGGACGACCAGCCACACTGGGACTGAGACACGGCCCAGACTCCTACGAGAGGCAGCAGTGGGGAATTTTGGACAATGGGCGCAAGCCTGATCCAGCCATGCCGCGTGCGGGAAGAAGGCCTTCGGGTTGTAAACCGCTTTTGTCAGGGAAGAAAAGGTTCTGGTTAATACCTGGGACTCATGACGGTACCTGAAGAATAAGCACCGGCTAACTACGTGCCAGCAGCCGCGGTAATACGTAGGGTGCAAGCGTTAATCGGAATTACTGGGCGTAAAGCGTGCGCAGGCGGTTATGCAAGACAGATGTGAAATCCCCGGGCTCAACCTGGGAACTGCATTTGTGACTGCATAGCTAGAGTACGGTAGAGGGGGGATGGAATTCCGCGTGTAGCAGTGAAATGCGTAGATATGCGGAGGAACACCGATGGCGAAGGCAATCCCCTGGACCTGTACTGACGCTCATGCACGAAAGCGTGGGGAGCAAACAGGATTAAATACCCTGGTAGTCCACGCCCTAAACGATGTCAACTGGTTGTTGGGAGGGTTTCTTCTCAGTAACGAAGCTAACGCGTGAAGTTGACCGCCTGGGGAGTACGGCCGCAAGGTTGAAACTCAAAGGAATTGACGGGGACCCGCACAAGCGGTGGATGATGTGGTTTAATTCGATGCAACGCGAAAAACCTTACCTACCCTTGACATGTCTGGAATCCTGAAGAGATTTGGGAGTGCTCGAAAGAGAGCCAGAACACAGGTGCTGCATGGCCGTCGTCAGCTCGTGTCGTGAGATGTTGGGTTAAGTCCCGCAACGAGCGCAACCCTTGTCATTAGTTGCTACGAAAGGGCACTCTAACGAGACTGCCGGTGACAAACCGGAGGAAGGTGGGGATGACGTCAGGTCATCATGGCCCTTATGGGTAGGGCTACACACGTCATACAATGGCCGGGACAGAGGGCTGCCAACCCGCGAGGGGGAGCTAATCCCAGAAACCCGGTCGTAGTCCGGATCGTAGTCTGCAACTCGACTGCGTGAAGTCGGAATCGCTAGTAATCGCGGATCAGCTTGCCGCGGTGAATACGTTCCCGGGTCTTGTACACACCGCCCGTCACACCATGGGAGCGGGTTCTGCCAGAAGTAGTTAGCCTAACCGCAAGGAGGGCGATTACCACGGCAGGGTTCGTGACTGGGGTGAAGTCGTAACAAGGTAACC",
         null,
         "c53c1b71bd44c8f3b24467f7194692bd"
        ],
        [
         8989072,
         "URS0000892990",
         "2015-10-20T18:04:07.000+0000",
         "RNACEN",
         "3420FEC809FA20D6",
         1498,
         "TAGAGTTTGATCCTGGCTCAGATTGAACGCTGGCGGCAGGCTTAACACATGCAAGTCGAGCGGTAACAGGTCCTTCGGGATGCTGACGAGCGGCGGACGGGTGAGTAATGCTTAGGAATCTGCCTGGTAGTGGGGGATAGCCCGGGGAAACCCGGATTAATACCGCGTACGCCCTTCGGGGGAAAGCAGGGGATCTTCGGACCTTGCGCTATCAGATGAGCCTAAGCCGGATTAGCTAGTTGGTGGGGTAAAGGCCCACCAAGGCGACGATCCGTAGCTGGTCTGAGAGGATGATCAGCCACATCGGGACTGAGACACGGCCCGAACTCCTACGGGAGGCAGCAGTGGGGAATATTGGACAATGGGGGCAACCCTGATCCAGCCATGCCGCGTGTGTGAAGAAGGCTTTCGGGTTGTAAAGCACTTTCAGTGAGGAGGAAGGCCTTAAGGTTAATACCCTTGAGGATTGACGTTACTCACAGAAGAAGCACCGGCTAACTCCGTGCCAGCAGCCGCGGTAATACGGAGGGTGCAAGCGTTAATCGGAATTACTGGGCGTAAAGCGCGCGTAGGTGGTTTGATAAGCGAGATGTGAAAGCCCCGGGCTTAACCTGGGAACGGCATTTCGAACTGTCAGGCTAGAGTGTGGTAGAGGGGTGTGGAATTTCCTGTGTAGCGGTGAAATGCGTAGATATAGGAAGGAACACCAGTGGCGAAGGCGGCACCCTGGACCAACACTGACACTGAGGTGCGAAAGCGTGGGGAGCAAACAGGATTAGATACCCTGGTAGTCCACGCCGTAAACGATGTCAACTAGCCGTTGGGACTCTTGAAGTCTTAGTGGCGCAGCTAACGCACTAAGTTGACCGCCTGGGGAGTACGGCCGCAAGGTTAAAACTCAAATGGATTGACGGGGGCCCGCACAAGCGGTGGAGCATGTGGTTTAATTCGACGCAACGCGAAGAACCTTACCTGGCCTTGACATGCTGAGAACTTTCCAGAGATGGATTGGTGCCTTCGGGAACTCAGACACAGGTGCTGCACGGCCGTCGTCAGCTCGTGTCGTGAGATGTTGGGTTAAGTCCCGTAACGAGCGCAACCCCTATCCCTAGTTGCTAGCAGTTTGGCTGAGAACTCTAGGGAGACTGCCGGTGACAAACCGGAGGAAGGTGGGGATGACGTCAGGTCATCATGGCCCTTACGGCCAGGGCTACACACGTGCTACAATGGCGCGCACAGAGGGCTGCAAACCCGCGAGGGGGAGCCAATCTCACAAAACGCGTCGTAGTCCGGATCGCAGTCTGCAACTCGACTGCGTGTAGTCGGAATCGCTAGTAATCGTGAATCAGAATGTCACGGTGAATACGTTCCCGGGCCTTGTACACACCGCCCGTCACACCATGGGAGTGGATTGCACCAGAAGTGGTTAGTCTAACCTTCGGGAGGACGATCACCACGGTGTGGTTCATGACTGGGGTGAAGTCGTAACAAGGTAACC",
         null,
         "5f510a658addfaa40e55a51c3d35baf6"
        ],
        [
         12686425,
         "URS0000C19459",
         "2017-10-19T09:46:04.148+0000",
         "rnacen",
         "FDA1C1454BBFC30F",
         46,
         "GCACTGTTGAGGAGTCCAACAACGGGACGAAACGGCCGTCCAGTGC",
         null,
         "28e1677b6931d30393113b5bc68f45de"
        ],
        [
         26726224,
         "URS000197CF50",
         "2019-12-05T22:17:38.396+0000",
         "rnacen",
         "C8988C2FA515BD7D",
         14,
         "AGCATAAGCAGGAA",
         null,
         "089f82fa22af3fcd029a28a3f1178fd1"
        ],
        [
         8989074,
         "URS0000892992",
         "2015-10-20T18:04:07.000+0000",
         "RNACEN",
         "DACF9351D93713E6",
         1398,
         "AGAGTTTGATCCTGGCTCAGGATGAACGCTAGCGATAGGCTTAACACATGCAAGTCGAGGGGCAGCATGAACTTAGCTTGCTAAGTTTGATGGCGACCGGCGCACGGGTGAGTAACGCGTATGCAACTTACCTATCAGAGGAGAATAGCTCATCGAAAGATGAATTAATGCTCCATAAAACAGGGGTCCCGCATGGGAATATTTGTTAAAGATTCATCGCTGATAGATAGGCATGCGTTCCATTAGGCAGTTGGCGGGGTAACGGCCCACCAAACCGACGATGGATAGGGGTTCTGAGAGGAAGGTCCCCCACATTGGTACTGAGACACGGACCAAACTCCTACGGGAGGCAGCAGTGAGGAATATTGGTCAATGGCCGAGAGGCTGAACCAGCCAAGTCGCGTGAAGGATGAAGGATCTATGGTTTGTAAACTTCTTTTATACGGGAATAAAGTGAGTCACGTGTGGCTTTTTGTATGTACCGTATGAATAAGCATCGGCTAACTCCGTGCCAGCAGCCGCGGTAATACGGAGGATGCGAGCGTTATCCGGATTTATTGGGTCTAAAGGGTGCGTAGGTGGTCTTTTAAGTCAGCGGTGAAAGTCTGTGGCTCAACCATAAAATCGCCATTGAAACTGGGAGGCTTGAGTATGTTTGAGGTACGCGGAATGCGTGGTGTAGCCGTGAAATGCATAGATATCACGCAGAACTCCGATTGCGAAGGCAGCTTGCCAAGCCATAACTGACACTGAAGCACGAAAGCGTGGTATCAACAGGATTAGATACCCTGGTAGTCCACGCAGTAAACGATGATTACTAGGAGTTTGCGATATAATGTAAGCTCTACAGCGAAAGCGTTAAGTAATCCACCTGGGGAGTACGCCGGCAACGGTGAAACTCAAAGGAATTGACGGGGGCCCGCACAAGCGGAGGAACATGTGGTTTAATTCGATGATACGCGAGGAACCTTACCCGGGTTTGAACGCAGTCTGACCGCCGATGAAAGTCGGCTTCTAGCAATAGCGGATTGCGAGGTGCTGCATGGTTGTCGTCAGCTCGTGCCGTGAGGTGTCGGCTTAAGTGCCATAACGAGCGCAACCCTTGCCGTTAGTTACTAACAAGTTATGTTGAGGACTCTAGCGGGACTGCCAGCGTAAGCTGTGAGGAAGGCGGGGATGACGTCAAATCAGCACGGCCCTTACATCCGGGGCGACACACGTGTTACAATGGCGTGGACAAAGAGCAGCCACTTGGTGACAAGGAGCTAATCTCCAAACCACGTCTCAGTTCGGATCGGAGTCTGCAACTCGACTCCGTGAAGCTGGATTCGCTAGTAATCGCGCATCAGCCATGGCGCGGTGAATACATTCCCGGGCGCTTGTACACACCGCCCGTCA",
         null,
         "c53d388da107475aa527400066b3f440"
        ],
        [
         8989075,
         "URS0000892993",
         "2015-10-20T18:04:07.000+0000",
         "RNACEN",
         "F7DCBF05EF1D283F",
         1412,
         "GGACGAACGCTGGCGGCGCGCCTAACACATGCAAGTCGAACGAGAGAGAAGGAGCTTGCTTCTTCGATCGAGTGGCGAACGGGTGAGTAACGCGTGAGGAACCTGCCTCAAAGAGGGGGACAACAGTTGGAAACGACTGCTAATACCGCATAAGCCCACGGGTCGGCATCGACCTGAGGGAAAAGGAGTGATCCGCTTTGAGATGGCCTCGCGTCCGATTAGCTAGTTGGTGAGGTAATGGCCCACCAAGGCGACGATCGGTAGCCGGACTGAGAGGTTGAACGGCCACATTGGGACTGAGACACGGCCCAGACTCCTACGGGAGGCAGCAGTGGGGAATATTGCACAATGGGGAAACCCTGATGCAGCGACGCCGCGTGGAGGAAGAAGGTCTTCGGATTGTAAACTCCTGTTGTTGAGGAAGATAATGACGGTACTCAACAAGGAAGTGACGGCTAACTACGTGCCAGCAGCCGCGGTAAAACGTAGGTCACAAGCGTTGTCCGGAATTACTGGGTGTAAAGGGAGCGCAGGCGGGAAGACAAGTTGGAAGTGAAATCTATGGGCTCAACCCATAAACTGCTTTCAAAACTGTTTTTCTTGAGTAGTGCAGAGGTAGGCGGAATTCCCGGTGTAGCGGTGGAATGCGTAGATATCGGGAGGAACACCAGTGGCGAAGGCGGCCTACTGGGCACCAACTGACGCTGAGGCTCGAAAGTGTGGGTAGCAAACAGGATTAGATACCCTGGTAGTCCGCACCGTAAACGATGATTACTAGGTGTTGGAGGATTGACCCCTTCAGTGCCGCAGTTAACACAATAAGTAATCCACCTGGGGAGTACGACCGCAAGGTTGAAACTCAAAGGAATTGACGGGGGCCCGCACAAGCAGTGGAGTATGTGGTTTAATTCGACGCAACGCGAAGAACCTTACCAAGTCTTGACATCCCTTGACGAACATAGAAATATGTTTTCTCTTCGGAGCAAGGAGACAGGTGGTGCATGGTTGTCGTCAGCTCGTGTCGTGAGATGTTGGGTTAAGTCCCGCAACGAGCGCAACCCTTATGGTCAGTTACTACGCAAGAGGACTCTGGCCAGACTGCCGTTGACAAAACGGAGGAAGGTGGGGATGACGTCAAATCATCATGCCCTTTATGACTTGGGCTACACACGTACTACAATGGCGTTAAACAAAGAGAAGCAAGACCGCGAGGTGGGGCAAAACTCAGAAACAACGTCCCAGTTCGGACTGCAGGCTGCAACTCGCCTGCACGAAGTCGGAATTGCTAGTAATCGTGGATCAGCATGCCACGGTGAATACGTTCCCGGGCCTTGTACACACCGCCCGTCACACCATGAGAGCCGGGGGGACCCGAAGTCGGAAGTCTAACCGCAAGGAGGACGCCGCCGAAG",
         null,
         "feea1d247af3f2d78e0095a152ba6afe"
        ],
        [
         8989077,
         "URS0000892995",
         "2015-10-20T18:04:07.000+0000",
         "RNACEN",
         "343EB4AB786636F4",
         1364,
         "GCCTAACACATGCAAGTCGAACGGCAGCATCAAGAGAGCTTGCTCTCTTGGATGGCGAGTGGCGGACGGGTGAGGAATACATCGGAATCTGCCTATTTGTGGGGGATAACGTAGGGAAACTTACGCTAATACCGCATACGACCTACGGGTGAAAGCGGAGGACCTTCGGGCTTCGCGCAGATAGATGAGCCGATGTCGGATTAGCTAATTGGCGGGGTAATGGCCCACCAAGGCGACGATCCGTAGCTGGTCTGAGAGGATGATCAGCCACACTGGAACTGAGACACGGTCCAGACTCCTACGGGAGGCAGCAGTGGGGAATATTGGACAATGGGCGCAAGCCTGATCCAGCCATGCCGCGTGGGTGAAGAAGGCCTTCGGGTTGTAAAGCCCTTTTGTTGGGAAAGAAAAGCAATCGGTTAATACCCGGTTGTCATGACGGTACCCAAAGAATAAGCACCGGCTAACTTCGTGCCAGCAGCCGCGGTAATACGAAGGGTGCAAGCGTTACTCGGAATTACTGGGCGTAAAGCGTGCGTAGGTGGTGATTTAGGTCAGATGTGAAAGCCCTGGGCTCAACCTGGGAACTGCATTTGATACTGGGTCACTAGAGTGCGGTAGAGGATAGCGGAATTCCTGGTGTAGCAGTGAAATGCGTAGAGATCAGGAGGAACATCCGTGGCGAAGGCGGCTATCTGGGCCAGCACTGACACTGAGGCACGAAAGCGTGGGGAGCAAACAGGATTAGATACCCTGGTAGTCCACGCCCTAAACGATGCGAACTGGATGTTGGGTGCAATTTGGCACTCAGTATCGAAGCTAACGCGTTAAGTTCGCCGCCTGGGGAGTACGGTCGCAAGACTGAAACTCAAAGGAATTGACGGGGGCCCGCACAAGCGGTGGAGTATGTGGTTTAATTCGATGCAACGCGCAGAACCTTACCTGGCCTTGACATGCACGGAACTTTCCAGAGATGGATTGGTGCCTTCGGGAACCGTGACACAGGTGCTGCATGGCTGTCGTCAGCTCGTGTCGTGAGATGTTGGGTTAAGTCCCGCAACGAGCGCAACCCCTGTCCTTAGTTGCCAGCACGTAATGGTGGGAACTCTAAGGAGACCGCCGGTGACAAACCGGAGGAAGGTGGGGATGACGTCAAGTCATCATGGCCCTTACGGCCAGGGCTACACACGTACTACAATGGTAGGGACAGAGGGCTGCAAGCCGGCGACGGTGAGCCAATCCCAGAAACCCTATCTCAGTCCGGATTGGAGTCTGCAACTCGACTCCATGAAGTCGGAATCGCTAGTAATCGCAGATCAGCATTGCTGCGGTGAATACGTTCCCGGGCCTTGTACACACCGCCC",
         null,
         "b857e5a34addf3c208602458b33f9c67"
        ],
        [
         8989079,
         "URS0000892997",
         "2015-10-20T18:04:07.000+0000",
         "RNACEN",
         "265B940C5EE6238E",
         1407,
         "GAGTTTGATCATGGCTCAGGACGAACGCTNGGCGGCGTGCCTAATACATGCAAGTAGAACGCTGAAGAGAGGAGCTTGCTCTTCTTGGATGAGTTGCGAACGGGTGAGTAACGCGTAGGTAACCTGCCTGGTAGCGGGGGATAACTATTGGAAACGATAGCTAATACCGCATAAAATTGATTATTGCATGATAATTAATTGAAAGATGCAATTGCATCACTACCAGATGGACCTGCGTTGTATTAGCTAGTTGGTGAGGTAACGGCTCACCAAGGCGACGATACATAGCCGACCTGAGAGGGTGATCGGCCACACTGGGACTGAGACACGGCCCAGACTCCTACGGGAGGCAGCAGTAGGGAATCTTCGGCAATGGGGGGAACCCTGACCGAGCAACGCCGCGTGAGTGAAGAAGGTTTTCGGATCGTAAAGCTCTGTTGTAAGAGAAGAACGGGTGTGAGAGTGGAAAGTTCACACTGTGACGGTATCTTACCAGAAAGGGACGGCTAACTACGTGCCAGCAGCCGCGGTAATACGTAGGTCCCGAGCGTTGTCCGGATTTATTGGGCGTAAAGCGAGCGCAGGCGGTTAGATAAGTCTGAAGTTAAAGGCTGTGGCTTAACCATAGTATGCTTTGGAAACTGTTTAACTTGAGTGCAGAAGGGGAGAGTGGAATTCCATGTGTAGCGGTGAAATGCGTAGATATATGGAGGAACACCGGTGGCGAAAGCGGCTCTCTGGTCTGTAACTGACGCTGAGGCTCGAAAGCGTGGGGAGCAAACAGGATTAGATACCCTGGTAGTCCACGCCGTAAACGATGAGTGCTAGGTGTTAGGCCCTTTCCGGGGCTTAGTGCCGCAGCTAACGCATTAAGCACTCCGCCTGGGGAGTACGACCGCAAGGTTGAAACTCAAAGGAATTGACGGGGGCCCGCACAAGCGGTGGAGCATGTGGTTTAATTCGAAGCAACGCGAAGAACCTTACCAGGTCTTGACATCCCTCTGACCGCTCTAGAGATAGAGTTTTCCTTCGGGACAGAGGTGACAGGTGGTGCATGGTTGTCGTCAGCTCGTGTCGTGAGATGTTGGGTTAAGTCCCGCAACGAGCGCAACCCCTATTGTTAGTTGCCATCATTGAGTTGGGCACTCTAGCGAGACTGCCGGTAATAAACCGGAGGAAGGTGGGGATGACGTCAAATCATCATGCCCCTTATGACCTGGGCTACACACGTGCTACAATGGCTGGTACAACGAGTCGCAAGCCGGTGACGGCAAGCTAATCTCTGAAAGCCAGTCTCAGTTCGGATTGTAGGCTGCAACTCGCCTACATGAAGTCGGAATCGCTAGTAATCGCGGATCAGCACGCCGCGGTGAATACGTTCCCGGGCCTTGTACACACCGCCCGTCA",
         null,
         "feecddf5a96103bb57f05e1d889f1a46"
        ],
        [
         8989082,
         "URS000089299A",
         "2015-10-20T18:04:07.000+0000",
         "RNACEN",
         "DC23163C634BC6A0",
         1473,
         "ATTCCGGTTGATCCTGCCGGAGGTCATTGCTATTGGAGTCCGATTTAGCCATGCTAGTTGCACGAGTTTAGACTCGTAGCAGATAGCTCAGTAACACGTGGCCAAACTGCCCTATAGACGGCGATAACCTCGGGAAACTGAGGCTAATAGCCGATACCGTTCACTACCTGGAGTGGTGTGAACGCGAAACGTTCAGGCGCTATAGGATGTGGCTGCGGCCGATTAGGTAGACGGTGGGGTAACGGCCCACCGTGCCCATAATCGGTACGGGTTGTGAGAGCAAGAGCCCGGAGACGGTATCTGAGACAAGATACCGGGCCCTACGGGGCGCAGCAGGCGCGAAACCTTTACACTGCACGCGAGTGCGATAAGGGGACTCCGAGTGCGAGGGCATATAGTCCTCGCTTTTCACCACCGTAAGGTGGTGGTGGAATAAGTGCTGGGCAAGACCGGTGCCAGCCGCCGCGGTAATACCGGCAGCACGAGTGATGACCGCTATTATTGGGCCTAAAGCGTCCGTAGCTGGCCAGGCAAGTCTATCGGGAAATCTGCGCGCTTAACGCGCAGGCGTCCGGTGGAAACTGTGTGGCTTGGGACCGGAAGACCAGAGGGGTACGTCCGGGGTAGGAGTGAAATCCCGTAATCCTGGACGGACCACCGGTGGCGAAAGCGCCTCTGGAAGACGGATCCGACGGTGAGGGACGAAAGCTCGGGTCACGAACCGGATTAGATACCCGGGTAGTCCGAGCTGTAAACGATGTCTGCTAGGTGTGGCACAGGCTACGAGCCTGTGCTGTGCCGTAGGGAAGCCGAGAAGCAGACCGCCTGGGAAGTACGTCCGCAAGGATGAAACTTAAAGGAATTGGCGGGGGAGCACTACAACCGGAGGAGCCTGCGGTTTAATTGGACTCAACGCCGGACATCTCACCAGCATCGACAATGTGCAGTGAAGGTCAGATTGATGATCTTACTGGAGCCATTGAGAGGAGGTGCATGGCCGCCGTCAGCCCGTACCGTGAGGCGTCCTGTTAAGTCAGGCAACGAGCGAGACCCACACTCTTAATTGCCAGCAACACCCTTGTGGTGGTTGGGTACATTAGGAGGACTGCCAGTGCCAAACTGGAGGAAGGAATGGGCAACGGTAGGTCAGTATGCCCCGAATGTGCTGGGCGACACGCGGGCTACAATGGCCGAGACAGTGGGATGCAACCCCGAAAGGGGACGCTAATCTCCGAAACTCGGTCGTAGTTCGGATTGAGGACTGAAACTCGTCCTCATGAAGCTGGATTCGGTGGTAATCGCGCTTCAGAAGAGCGCGGTGAATACGTCCCTGCTCCTTGCACACACCGCCCGTCAAAGCACCCGAGTGGGGTCCGGATGAGGCCCTGATTCCAGGGTCGAATCTGGGCTCCGCAAGGGGGCTTAAGTCGTAACAAGGTAGCCGTAGGGGAATCTGCGGCTGGATCACCTCCT",
         null,
         "c53fe2d1d3dbbc033623b5a1af1c86d9"
        ],
        [
         12686426,
         "URS0000C1945A",
         "2017-10-19T09:46:04.148+0000",
         "rnacen",
         "2668B6BEE64730A3",
         135,
         "TAGGTACTCCCTCTGTCCGAAAATACTTGTCATCAAAATGGATAAAAAGATATGTATCTAGAACTAAAATACATCTAGATACATCCCCTTTTATCCATTATGATGACAAGTATTTCCGGACGGAGGGAGTAGGTA",
         null,
         "28e17e39bd60a818c5a79a5bd6e0b673"
        ],
        [
         39941958,
         "URS0002617746",
         "2022-11-02T17:29:57.010+0000",
         "rnacen",
         "89CADECADECADEA6",
         23,
         "GTGTGTGTGTGTGTGTGTGTGTG",
         null,
         "0900ed3dd46ec4629f55bb04531273c7"
        ],
        [
         8989088,
         "URS00008929A0",
         "2015-10-20T18:04:07.000+0000",
         "RNACEN",
         "D49D4B2A1FC3E20C",
         1402,
         "CTAATACATGCAAGTCGGACGGGATCTAAGATTAAGCTTGCTTAATTTTAGTGAGAGTGGCGCACGGGTGCGTAACGCGTGAGCAACCTACCCATATCAGGGGGATAGCCCGGTGAAAATCGGATTAACACCGCATGACACAGCGACTCGGCATCGAGATGTTGTTAAATATTTATAGGATATGGATGGGCTCGCGTGACATTAGCTAGTTGGTAAGGTAACGGCTTACCAAGGCAACGATGTCTAGGGGCTCTGAGAGGAGAATCCCCCACACTGGTACTGAGACACGGACCAGACTCCTACGGGAGGCAGCAGTAAGGAATATTGGTCAATGGAGGGAACTCTGAACCAGCCATGCCGCGTGCAGGATGACTGCCCTATGGGTTGTAAACTGCTTTTGTCCAGGAATAAACCCCTCTACGTGTAGAGGCTTGAATGTACTGGAAGAATAAGGATCGGCTAACTCCGTGCCAGCAGCCGCGGTAATACGGAGGATCCGAGCGTTATCCGGATTTATTGGGTTTAAAGGGTGCGTAGGCGGCCTATTAAGTCAGGGGTGAAAGACGGCAGCTTAACTGTCGCAGTGCCTTTGATACTGATGGGCTTGAATGTGGTTGAAGATGGCGGAATGAGACAAGTAGCGGTGAAATGCATAGATATGTCTCAGAACTCCGATTGCGAAGGCAGCTGTCTAAGTCATTATTGACGCTGATGCACGAAAGCGTGGGGATCGAACAGGATTAGATACCCTGGTAGTCCACGCCCTAAACGATGATAACTCGATGTTGGCGATATACCGTCAGCGTCTTAGCGAAAGCGTTAAGTTATCCACCTGGGGAGTACGCCCGCAAGGGTGAAACTCAAAGGAATTGACGGGGGCCCGCACAAGCGGAGGAGCATGTGGTTTAATTCGATGATACGCGAGGAACCTTACCCGGGCTTGAAAGTTACTGAATTATCTAGAGATAGATAAGTCCTTCGGGACAGGAAACTAGGTGCTGCATGGCTGTCGTCAGCTCGTGCCGTGAGGTGTTGGGTTAAGTCCCGCAACGAGCGCAACCCCTATGTTTAGTTGCCAGCATGTAATGATGGGGACTCTAAACAGACTGCCAGCGTAAGCTGTGAGGAAGGTGGGGACGACGTCAAGTCATCATGGCCCTTACGTCCGGGGCTACACACGTGCTACAATGGATGGTACAGCGGGCAGCTACACAGTAATGTGATGCTAATCTCGAAAAGCCATTCACAGTTCGGATTGAGGTCTGCAACTCGACCTCATGAAGTTGGATTCGCTAGTAATCGCGTATCAGCAATGACGCGGTGAATACGTTCCCGGGCCTTGTACACACCGCCCGTCAAGCCATGAAAGTTGGGGGTGCCTAAAGCATGTAACCGCAAGGAG",
         null,
         "5f576e288dbd10a3043a1839e7b7d937"
        ],
        [
         8988585,
         "URS00008927A9",
         "2015-10-20T18:04:07.000+0000",
         "RNACEN",
         "4037ADB8ED260A0D",
         1402,
         "GGCAGGCCTAACACATGCAAGTCGAGGGGTAACGATGGAGCTTGCTCCATGCGACGACCGGCGCACGGGTGAGTAACGCGTTTGCAACCTACCTCTAACTGGAAGATAGCCCGAAGAAATTCGGATTAATATTCCATAACACTATGATTTGGCATCTTTTTATAGTTAAAGTTTCGACGGTTAGAGATGGGCATGCGTGACATTAGCTAGTTGGTGAGGTAACGGCTCACCAAGGCCACGATGTCTAGGGGGTCTGAGAGGATGGTCCCCCACACTGGTACTGAGACACGGACCAGACTCCTACGGGAGGCAGCAGTGAGGAATATTGGTCAATGGGCGAAAGCCTGAACCAGCCATGCCGCGTGAAGGATGACGGCCCTACGGGTTGTAAACTTCTTTTGTTTGAGAAGAAACCTCCCTACGTGTAGGGGGCTGACGGTATCGAACGAATAAGCATCGGCTAACTCCGTGCCAGCAGCCGCGGTAATACGGAGGATGCAAGCGTTATCCGGATTCATTGGGTTTAAAGGGTACGCAGGCGGAAAACTAAGTCAGTGGTGAAATCCTGCAGCTTAACTGTAGAACTGTCATTGATACTGGTTTTCTTGGGTTCAGTTGAGGTAGGCGGAATGTGTAATGTAGCGGTGAAATGCTTAGATATTACACAGAACACCGATTGCGAAGGCAGCTTACTAAACTGCGATTGACGCTGAGGTACGAAAGCGTGGGTAGCAAACAGGATTAGATACCCTGGTAGTCCACGCCGTAAACTATGATCACTCGTTGTTGGCAACACATCGTCAGCGACTGAGCGAAAGCATTAAGTGATCCACCTGGGGAGTACGGCCGCAAGGTTGAAACTCAAAGGAATTGACGGGGGCCCGCACAAGCGGAGGAACATGTGGTTTAATTCGATGATACGCGAGGAACACTTACCTGGGCTTAAATGTAGAGCGACGGACCGGGAAACTGGTCTTTCTTCGGACGATCTACAAGGTGCTGCATGGCTGTCGTCAGCTCGTGCCGTGAGGTGTCGGGTTAAGTCCCATAACGAGCGCAACCCTTATCATTAGTTGCCAGCGGGTAATGCCGGGGACTCTAATGAAACTGCCGGTGTAAACCGAGAGGAAGGTGGGGATGACGTCAAGTCAGCACGGCCATTATGTCCAGGGCTACACACGTGTTACAATGGTCGGTACAAAGGGCAGCTACCAGGCGACTGGATGCTAATCTCGAAAGCCGATCTCAGTTCGGATCGGAGTCTGCAACTCGACTTCGTGAAGCTGGATTCGCTAGTAATCGCGCATCAGCCATGGCGCGGTGAATACGTTCCCGGGCATTGTACACACCGCCCGTCAAGCCATGGAAGCCGGGGGTACATGAAGTCCGTAACCGCAAGGAG",
         null,
         "b7d291834ce6c99594409c41b6e4c6b3"
        ],
        [
         8988736,
         "URS0000892840",
         "2015-10-20T18:04:07.000+0000",
         "RNACEN",
         "3DF7119D7716A5BC",
         1537,
         "GAGTCACGAAGAGTTTGATCCTGGCTCAGGACGAACGCTGGCGGCGTGCCTAATACATGCAAGTCGAACGAAGCTTTCTTTCACCGAATGCTTGCATTCATCGAAAGAAGCTTAGTGGCGAACGGGTGAGTAACACGTAGGCAACCTGCCCAAAAGAGGGGGATAACACTTGGAAACAGGTGCTAATACCGCATAACCATGAACACCGCATGATGTTCATGTAAAAGACGGCTTTTGCTGTCACTTTTGGATGGGCCTGCGGCGTATTAACTTGTTGGTGGGGTAACGGCCTACCAAGGTGATGATACGTAGCCGAACTGAGAGGCTGATCGGCCACATTGGGACTGAGACACGGCCCAAACTCCTACGGGAGGCAGCAGTAGGGAATCTTCCACAATGGACGAAAGTCTGATGGAGCAACGCCGCGTGAATGAAGAAGGCCTTCGGGTCGTAAAATTCTGTTGTCAGAGAAGAACGTGCGTGAGAGTAACTGTTCACGTATTGACGGTATCTGACCAGAAAGCCACGGCTAACTACGTGCCAGCAGCCGCGGTAATACGTAGGTGGCGAGCGTTGTCCGGATTTATTGGGCGTAAAGGGAACGCAGGCGGTCTTTTAAGTCTGATGTGAAAGCCTTCGGCTTAACCGAAGTAGTGCATTGGAAACTGGAAGACTTGAGTGCAGAAGAGGAGAGTGGAACTCCATGTGTAGCGGTGAAATGCGTAGATATATGGAAGAACACCAGTGGCGAAAGCGGCTCTCTGGTCTGTAACTGACGCTGAGGTTCGAAAGCGTGGGTAGCAAACAGGATTAGATACCCTGGTAGTGCACGCCGTAAACGATGAGTGCTAAGTGTTGGAGGGTTTCCGCCCTTCAGTGCTGCAGCTAACGCATTAAGCACTCCGCCTGGGGAGTACGGTCGCAAGACTGAAACTCAAAGGAATTGACGGGGGCCCGCACAAGCGGTGGAGCATGTGGTTTAATTCGAAGCAACGCGAAGAACCTTACCAGGTCTTGACATCTTCTGACAATTCCAGAGATGGAACGTTCCCTTCGGGGACAGAATGACAGGTGGTGCATGGTTGTCGTCAGCTCGTGTCGTGAGATGTTGGGTTAAGTCCCGCAACGAGCGCAACCCTTATTGTCAGTTGCCATCATTAAGTTGGGCACTCTGGCGAGACTGCCGGTGACAAACCGGAGGAAGGTGGGGATGACGTCAAATCATCATGCCCCTTATGACCTGGGCTACACACGTGCTACAATGGACGGTACAACGAGTCGCTAACTCGCGAGGGCAAGCTAATCTCTTAAAGCCGTTCTCAGTTCGGATTGCAGGCTGCAACTCGCCTGCATGAAGTCGGAATCGCTAGTAATCGCGAATCAGCATGTCGCGGTGAATACGTTCCCGGGCCTTGTACACACCGCCCGTCACACCATGAGAGTTTGTAACACCCAAAGTCGGTGGGGTAACCTTTTGGAGCCAGCCGCCTAAGGTGGGACAGATGATTGGGGTGAAGTCGTAACAAGGTAGCCGTAG",
         null,
         "fe962d74401230bc1c4e3cfc80525055"
        ],
        [
         8988737,
         "URS0000892841",
         "2015-10-20T18:04:07.000+0000",
         "RNACEN",
         "9DC65C9101590D13",
         1419,
         "GGCGTGGCTAAGACATGCAAGTCGCACGAGAAAGTTCCTTCGGGAACGAGTAGAGTGGCGAAAGTGGTGAGGAATACATGGATAACGTACCCCAGGCACAGGGATAGCCGTGGGAAACCGCGGGTAATACCTGACACCGTCATGATGCTGCAGGGCATCTTGATGAAAGGTGGGGACCTTCGGGCCTATCGGCCTGGGAGCGGTCCATGTCCTATCAGCTTGTTGGTGAGGTAACGGCTCACCAAGGCAACGACGGGTACCGGGACTGAGAGGTTGACCCGGCACATTGGGACTGAGACACTGCCCAGACTCCTACGGGAGGCTGCAGTAACGAATATTGCACAATGGGCGCAAGCCTGATGCAGCGACGCCGCGTGTGGGAGTAAGCCCTTCGGGGTGTAAACCACTGTCAGGGACTACCAAGCAATGGAGGTGAATAATCTCCTGCGTTGAGGCGTCCCAGAGGAAGTCACGGCTAACTTCGTGCCAGCAGCCGCGGTAATACGAAGGTGGCAAGCGTTGTTCGGAATCACTGGGCTTAAAGAGCACGTAGGCGGACTGTCAAGCGTCTTGTGAAATCCCTCGGCTTAACCGAGGAATTGCTGGGCGAACTGACAGTCTTGAGGCAAGTAGGGGCGCACGGAACTCTTGGTGGAGCGGTGGAATGCGTAGATATCAAGAGGAACGCCAGAGGCGAAGGCGGTGCGCTGGGCTTGACCTGACGCTGAGGTGCGAAAGCCAGGGGAGCGAACGGGATTAGATACCCCGGTAGTCCTGGCCATAAACGATGTCTACTAGATCTGAGGTGTTCTGACACACTTCTGGTCGAAACAAAAGCGTTAAGTAGACCGCCTGGGGAGTACGGTCGCAAGGCTAAAACTCAAAGGAATTGACGGGGGCTCACACAAGCGGTGGAGCATGTTGCTTAATTCGATGCAACGCGAAGAACCTTATCCTGGGCTTGACATGCTTGGATGCCCATCTAGAAATAGAGTAGGCTGCCCTTCGGGGTGAAACTTGCACAGGTGCTGCATGGCTGTCGTCAGCTCGTGTCGTGAGATGTTGGGTTAAGTCCCGTAACGAGCGAAACCCTTGTCGTTAGTTGCCAGCGAGTAAAGTCGGGGACTCTAACGAGACTGCCGGTGTTAAACCGGAGGAAGGTGGGGATGACGTCAAGTCCTCATGGCCTTTATGCCCAGGGCTGCAAACGTGCTACAATGGCGTGTACAAACCGATGCAAGACCGCGAGGTGGAGCAAATCGGAAAAAGCACGCCCCAGTTCGGATTGGAGTCTGCAACTCGACTCCATGAAGTTGGAATCGCTAGTAATCGCAGATCAGCAATGCTGCGGTGAATGTGTTCCTGAGCCTTGTACACACCGCCCGTCAAGTCATGGAAGCCGGGAGCACCCGAAGTCGG",
         null,
         "c50b74e30172f56068e7678467f62b3b"
        ],
        [
         8989225,
         "URS0000892A29",
         "2015-10-20T18:04:07.000+0000",
         "RNACEN",
         "811F8DB62C921E2B",
         1521,
         "CAATTTTAAAGAGTTTGATCCTGGCTCAGGATTAACGCTGGCGGCATGCCTAATACATGCAAATCGAACGAAGCCTTTTAGGCTTAGTGGTGAACGGGTGAGTAACACGTATCCAATCTACCCTTAAGTTGGGGATAACTAGTCGAAAGATTAGCTAATACCGAATAATAACATCAATATCGCATGAGAAGATGTAGAAAGTCGCTCTTTGTGGCGACGCTTTTGGATGAGGGTGCGACGTATCAGATAGTTGGTGAGGTAATGGCTCACCAAGTCAATGACGCGTAGCTGTACTGAGAGGTAGAACAGCCACAATGGGACTGAGACACGGCCCATACTCCTACGGGAGGCAGCAGTAGGGAATTTTTCACAATGGGCGCAAGCCTTATGAAGCAATGCCGCGTGAACGATGAAGGTCTTATAGATTGTAAAGTTCTTTTATATGGGAAGAAACGCTAAGATAGGAAATGATTTTAGTTTGACTGTACCATTTGAATAAGTATCGGCTAACTATGTGCCAGCAGCCGCGGTAATACATAGGATGCAAGCGTTATCCGGATTTACTGGGCGTAAAACGAGCGCAGGCGGGTTTGTAAGTTTGGTATTAAATCTAGATGCTTAACGTCTAGCTGTATCAAAAACTGTAAACCTAGAGTGTAGTAGGGAGTTGGGGAACTCCATGTGGAGCGGTAAAATGCGTAGATATATGGAAGAACACCGGTGGCGAAGGCGCCAACTTGGACTATCACTGACGCTTAGGCTCGAAAGTGTGGGGAGCAAATAGGATTAGATACCCTAGTAGTCCACACCGTAAACGATCATCATTAAATGTCGGCCCGAATGGGTCGGTGTTGTAGCTAACGCATTAAATGATGTGCCTGGGTAGTACATTCGCAAGAATGAAACTCAAACGGAATTGACGGGGACCCGCACAAGTGGTGGAGCATGTTGCTTAATTTGACAATACACGTAGAACCTTACCTAGGTTTGACATCTATTGCGATGCTATAGAAATATAGTTGAGGTTAACAATATGACAGGTGGTGCATGGTTGTCGTCAGCTCGTGTCGTGAGATGTTGGGTTAAGTCCCGCAACGAGCGCAACCCCTTTCGTTAGTTACTTTTCTAGCGATACTGCTACCGCAAGGTAGAGGAAGGTGGGGATGACGTCAAATCATCATGCCCCTTATATCTAGGGCTGCAAACGTGCTACAATGGCTAATACAAACTGCTGCAAAATCGTAAGATGAAGCGAAACAGAAAAAGTTAGTCTCAGTTCGGATAGAGGGCTGCAATTCGTCCTCTTGAAGTTGGAATCACTAGTAATCGCGAATCAGACATGTCGCGGTGAATACGTTCTCGGGTCTTGTACACACCGCCCGTCAAACTATGGGAGCTGGTAATATCTAAAACCGCAAAGCTAACCTTTTGGAGGCATGCGTCTAGGGTAGGATCGGTGACTGGAGTTAAGTCGTAACAAGGTATCCCTACGAGAACGTGGGGATGGATCACCTCCTTTCT",
         null,
         "b87c612c2064389a5682867bffaec619"
        ],
        [
         35576136,
         "URS00021ED948",
         "2021-04-30T13:01:23.699+0000",
         "rnacen",
         "DDEC580C7259DEDB",
         38,
         "CAAATTGTGCCCATCGTTGGCACGCGTGCTGGATTGCT",
         null,
         "7362c73ce259a77217b5ca1cc6f48e01"
        ],
        [
         8989228,
         "URS0000892A2C",
         "2015-10-20T18:04:07.000+0000",
         "RNACEN",
         "51572894703B6872",
         1545,
         "AGAGTTTGATTATGGCTCAGAACGAACGCTGGCGGCGTGGATAAGACATGCAAGTCGAACGCTCGTTTCGGGGTAGCAATATTCCGAGGCGGGAGTGGCGCAAGGGTGCGTAACACGTGGGTTATTTGCCGCGAACGTGGGGAATAACTCGTTGAAAGACGAGCTAATACCCAATGTGCTCCTCACCGAGCAAAGCCGGGGACCGCAAGGCCTGGCACTTCGCGATAAGCCCGCGGCCTATCAGCTAGTTGGCGGGGTAACGGCCCACCAAGGCTAAGACGGGTAGCTGGTCTGAGAGGACGACCAGCCACACTGGAACTGAGACACGGTCCAGACACCTACGGGTGGCAGCAGTCGAGAATTTTTCACAATGGGCGAAACCCTGATGGAGCGACGCCGCGTGGGGGATGAAGGGCTTCGGCTCGTAAACCCCTGTTCATTTGCGAACAAAGGCGCCGACCTAACACGTCGTCGTCTGATAGTAGCAGAAGAGGAAGGGACGGCTAACTCTGTGCCAGCAGCCGCGTAATACAGAGGTCCCAAGCGTTGTTCGGATTCACTGGGCGTAAAGGGTGCGTAGGTGGTGGACTAAGTTCGGTGTGAATTCTCCGGGCTCAACCCGGGTGGCGCGTCGAATACTGGTCCGCTAGAGGATGGGAGGGGAGACTGGAATTCTTCGGTGTAGCAGTGAAATGCGTAGATATCGAGAGGAACACCCGTGGCGAAGGCGAGTCTCTGGACCATTCCTGACACTGAGGCACGAAAGCCGGGGGAGCAAACAGGATTAGATACCCTGGTAGTCCCGGCCCTAAACGGTGCGCATTTGCTGTGAGCGGAATCGACCCCGCTCGTGGCGAGCTAACGCGTTAAATGCGCCGCCTGGGGAGTACGGCCGCAAGGTTAAAACTCAAAGAAATTGACGGGGGCCTGCACAAGCGGTGGAGTATGTGGCTTAATTCGATGCAACGCGAAGAACCTTACCTGGCCTTGACATGTAGGTAGTAGAAGCCTGAAAGGTAACGACTCCGCAAGGAAGCCTGCACAGGTGCTGCATGGCTGTCGTCAGCTCGTGTCGTGAGATGTTGGGTTAAGTCCCGCAACGAGCGCAACCCCTGTGTCCTGTTGCCACCGGAACGAGACTTCCGAGCACTCTGGACAGACTGCCCGCCAAACGGGAGGAAGGTGGGGATGACGTCAAGTCAGTATGGCCCTTACGGCCAGGGCTGCACACGTACTACAATGCCCGGTACAAAGGGAAGCAAGGCGGCAACGCGGAGCAAATCCCAAAAACCGGGCCCAGTTCAGATTGTCGGCTGCAACTCGCCGGCATGAAGCTGGAATCGCTAGTAATGGCGCATCAGCTACGGCGCCGTGAATACGTTCCCAGGCCTTGTACACACCGCCCGTCACATCATGAAAGCCGGCTGTACCCGAAGTCGTTGCGTCAACCGCAAGGAGATAGACGCCGAAGGTATAGCCGGTGATTGGGATGAAGTCGTAACAAGGTAGCCGTATCGGAAGGTGCGGCTGGATCACCTCCTTTCT",
         null,
         "5f76ee7f0662a9dcf809ac1ac8e22df6"
        ],
        [
         8989230,
         "URS0000892A2E",
         "2015-10-20T18:04:07.000+0000",
         "RNACEN",
         "91CD76927B63F73B",
         1379,
         "CTGGCGGCAGGCCTAATACATGCAAGTCGAGCGGAAACGATGGAGCTTGCTCCAGGCGTCGAGCGGCGGACGGGTGAGTAACGCGTAGGAATCTGCCCAGTAGAGGGGGATAGCCCGGGGAAACTCGGATTAATACCGCATACGCCCTACGGGGGAAAGCAGGGGATCTTCGGACCTTGCGCTATTGGATGAGCCTGCGTTGGATTAGCTTGTTGGTGGGGTAAAGGCCTACCAAGGCGACGATCCATAGCTGGTCTGAGAGGATGATCAGCCACACTGGGACTGAGACACGGCCCAGACTCCTACGGGAGGCAGCAGTAGGGAATATTGGACAATGGGGGCAACCCTGATCCAGCCATGCCGCGTGTGTGAAGAAGGCCTTAGGGTTGTAAAGCACTTTCAGTAGGGAGGAAGGCTGTAAGGTTAATACCCTTGCAGATTGACGTTACCTACAGAAGCAGCACCGGCTAACTCCGTGCCAGCAGCCGCGGTAATACGGAGGGTGCAAGCGTTAATCGGAATTACTGGGCGTAAAGCGCGCGTAGGCGGTTTGTTAAGTGAGATGTGAAAGCCCAGGGCTCAACCTTGGAACTGCATCTCATACTGGCAGGCTAGAGTACGGTAGAGGGGGGTAGAATTCCATGTGTAGCGGTGAAATGCGTAGAGATGTGGAGGAATACCAGTGGCGAAGGCGGCCCCCTGGATCGATACTGACGCTAAGGTGCGAAAGCGTGGGGAGCAAACAGGATTAGATACCCTGGTAGTCCACGCTGTAAACGATGTCAACTAGCCGTTGGAAGGGTAATCCTTTTAGTGGCGTAGCTAACGCGCTAAGTTGACCGCCTGGGGAGTACGGTCGCAAGATTAAAACTCAAATGAATTGACGGGGGCCCGCACAAGCGGTGGAGCATGTGGTTTAATTCGACGCAACGCGAAGAACCTTACCTACTCTTGACATCCTCGGAACTTTCCAGAGATGGATTGGTGCCTTCGGGAACCGAGTGACAGGTGCTGCATGGCTGTCGTCAGCTCGTGTCGTGAGATGTTGGGTTAAGCCCCGTAACGAGCGCAACCCTTGTCCCTATTTGCCATCATTTAGTTGGGCACTCTAGGGAGACTGCCGGTGACAAACCGGAGGAAGGTGGGGACGACGTCAAGTCATCATGGCCCTTACGAGTAGGGCTACACACGTGCTACAATGGGACGTACAAAGGGTTGCGAACCCGCGAGGGGGAGCTAATCTCATAAAACGTCTCGTAGTCCGGATTGCAGTCTGCAACTCGACTGCATGAAGTCGGAATCGCTAGTAATCGCGAATCAGAACGTCGCGGTGAATACGTTCCCGGGCCTTGTACACACCGCCCGTCACACCATGGGAG",
         null,
         "c55564eb9849be7796ec88fe79efea92"
        ],
        [
         8989231,
         "URS0000892A2F",
         "2015-10-20T18:04:07.000+0000",
         "RNACEN",
         "EDEFB7EF26B53C3E",
         1385,
         "TTAGAGTTTGATCCTGGCTCAGGATGAACGCTGGCGGCGTGCCTAATACATGCAAGTCGAACGCTTCACTTCAGTGAAGAGTGGCGAACGGGTGAGTAATACATAAGTAACCTGGCATCTACAGGGGGATAACTGATGGAAACGTCAGCTAAGACCGCATAGGTGTAGAGATCGCATGAACTCTATATGAAAAGTGCTACGGGACTGGTAGATGATGGACTTATGGCGCATTAGCTGGTTGGTAGGGTAACGGCCTACCAAGGCGACGATGCGTAGCCGACCTGAGAGGGTGACCGGCCACACTGGGACTGAGACACGGCCCAGACTCCTACGGGAGGCAGCAGTAGGGAATTTTCGGCAATGGGGGAAACCCTGACCGAGCAACGCCGCGTGAAGGAAGAAGTAATTCGTTATGTAAACTTCTGTCATAGAGGAAGAACGGTGGATATAGGGAATGATATCCAAGTGACGGTACTCTATAAGAAAGCCACGGCTAACTACGTGCCAGCAGCCGCGGTAATACGTAGGTGGCGAGCGTTATCCGGAATTATTGGGCGTAAAGAGGGAGCAGGCGGCACTAAGGGTCTGTGGTGAAAGATCGAAGCTTAACTTCGGTAAGCCATGGAAACCGTAGAGCTAGAGTGTGTGAGAGGATCGTGGAATTCCATGTGTAGCGGTGAAATGCGTAGATATATGGAGGAACACCAGTGGCGAAGGCGACGATCTGGCGCATAACTGACGCTCAGTCCCGAAAGCGTGGGGAGCAAATAGGATTAGATACCCTAGTAGTCCACGCCGTAAACGATGAGTACTAAGTGTTGGGAGTCAAATCTCAGTGCTGCAGTTAACGCAATAAGTACTCCGCCTGAGTAGTACGTTCGCAAGAATGAAACTCAAAGGAATTGACGGGGGCCCGCACAAGCGGTGGAGCATGTGGTTTAATTCGAAGCAACGCGAAGAACCTTACCAGGTCTTGACATCGATCTAAAGGCTCCAGAGATGGAGAGATAGCTATAGAGAAGACAGGTGGTGCATGGTTGTCGTCAGCTCGTGTCGTGAGATGTTGGGTTAAGTCCCGCAACGAGCGCAACCCCTGTTGCCAGTTGCCAGCATTAAGTTGGGGACTCTGGCGAGACTGCCGGTGACAAGCCGGAGGAAGGCGGGGATGACGTCAAATCATCATGCCCCTTATGACCTGGGCTACACACGTGCTACAATGGACAGAGCAGAGGGAAGCGAAGCCGCGAGGTGGAGCGAAACCCATAAAACTGTTCTCAGTTCGGACTGCAGTCTGCAACTCGACTGCACGAAGATGGAATCGCTAGTAATCGCGAATCAGCATGTCGCGGTGAATACGTTCTCGGGCCTTGCACTCACCGCCCGTC",
         null,
         "ff125a95ed0cbc8d11b78d8762287029"
        ],
        [
         8989232,
         "URS0000892A30",
         "2015-10-20T18:04:07.000+0000",
         "RNACEN",
         "3C75C6955C132403",
         1309,
         "TAGTGGCGAACGGGTGAGTAACACGTGGGTGACCTGCCCCCAAGTCCGGCATAACAGTGGGAAACTGCTGCTAATACCGGATGTGCTCCTGCCTCCTGTGGCATGAGTAAAGTTCTTCGCTTGGGGATGGGCCCGCGGCGCATCAGCTTGTTGGTGGGGTAATGGCCTACCAAGGCGACGACGCGTAGCCGGCCTGAGAGGGTGACCGGCCACAGGGGCACTGAGACACGGGCCCCACTCCTACGGGAGGCAGCAGTTAGGAATCTTCCACAATGGGCGAAAGCCTGATGGAGCGACACCGCGTGAGGGATGACGGCTCTCGGGTTGTAAACCTCTAAAAGGGGGACGAATGATGACGGTACCCCTTGAAAAGCACCGGCTAACTCCGTGCCAGCAGCCGCGGTAATACGGAGGGTGCAAGCGTTATCCGGAATCACTGGGCGTAAAGGGCGCGTAGGCGGTCTTGTAAGTCCGATGTTAAAGAGCGGGGCTCAACCCCGTCACGGCGTTGGATACTGCAGGGCTTGACGGCTGGAGAGGTGAGTGGAATTACCAGTGTAGCGGTGGAATGCGTAGATACTGGTAGGAACACCCATTGCGAAGGCAGCTCACTGGACAGCACGTGACGCTGAGGCGCGAAAGTGTGGGGAGCAAACCGGATTAGATACCCGGGTAGTCCACACCCTAAACGATGCATACTTGGTGTCGGCCCGTTGGGGTCGGCGCCGGAGTTAACGCGTTAAGTATGCCGCCTGGGAAGTACGGCCGCAAGGTTGAAACTCAAAGGAATTGACGGGGACCCGCACAAGCGGTGGAGCATGTGGTTTAATTCGAAGCAACGCGAAGAACCTTACCAGGTCTTGACATCCTTGGAATCCCTGAGAGATCAGGGAGTGCCCTTCGGGGAACCGAGTGACAGGTGCTGCATGGCTGTCGTCAGCTCGTGTCGTGAGATGTTCGGTTAAGTCCGGCAACGAGCGCAACCCACGTCAGTAGTTGCCATCAGTTCGGCTGGGAACTCTACTGAGACTGCCTGTGAAAGCAGGAGGAAGGCGTGGATGACGTCTAGTCAGCATGGTCCTTACGACCTGGGCTACACACGTGCTACAATGGCCAGGATAATGCGCTGCTACCCGGCGACGGGACGCGAATCGCGAAACCTGGTCCCAGTTCAGATCGCAGTCTGCAACTCGACAGCGTGAAGTTGGAATCGCTAGTAATCGCAGATCAGCCATGCTGCGGTGAATACGTTCCCGGGTCTTGTACACACCGCCCGTCAAACCATGGAAGCAAGTTGCACCCGAAGACG",
         null,
         "5f77c4b208d872a45b3406038be418f8"
        ],
        [
         8989233,
         "URS0000892A31",
         "2015-10-20T18:04:07.000+0000",
         "RNACEN",
         "AA13364DFEC93096",
         1443,
         "GCGGCGTGCTTAACACATGCAAGTCGAGCGAAGCACTTTACTTTGATTTCTTCGGATTGAAAAGTGATTTGACTGAGCGGCGGACGGGTGAGTAACGCGTGGGTAACCTGCCTCATACAGGGGGATAACAGTTAGAAATGGCTGCTAATACCGCATAAGACCACGGTACCGCATGGTACAGAGGTAAAAACTCCGGTGGTATGAGATGGACCCGCGTCTGATTAGGTAGTTGGTGGGGTAACGGCCCACCAAGCCGACGATCAGTAGCCGACCTGAGAGGGTGACCGGCCACATTGGGACTGAGACACGGCCCAAACTCCTACGGGAGGCAGCAGTGGGGAATATTGCACAATGGGGGAAACCCTGATGCAGCGACGCCGCGTGAAGGATGAAGTATTTCGGTATGTAAACTTCTATCAGCAGGGAAGAAAATGACGGTACCTGACTAAGAAGCCCCGGCTAACTACGTGCCAGCAGCCGCGGTAATACGTAGGGGGCAAGCGTTATCCGGATTTACTGGGTGTAAAGGGAGCGTAGACGGCTGTGTAAGTCTGATGTGAAAACCCGGGGCTCAACCCCGGGACTGCATTGGAAACTATGCGGCTAGAGTGTCGGAGAGGTAAGTGGAATTCCTAGTGTAGCGGTGAAATGCGTAGATATTAGGGGGAACACCAGTGGCGAAGGCGGCTTACTGGACGATGACTGACGTTGAGGCTCGAAAGCGTGGGGAGCAAACAGGATTAGATACCCTGGTAGTCCACGCCGTAAACGATGACTACTAGGTGTCGGGTGGCAAAGCCATTCGGTGCCGCAGCCAACGCAATAAGTAGTCCACCTGGGGAGTACGTTCGCAAGAATGAAACTCAAAGGAATTGACGGGGACCCGCACAAGCGGTGGAGCATGTGGTTTAATTCGAAGCAACGCGAAGAACCTTACCTGCCCTTGACATCCCGCTGACCGGCCAGTAATGTGGCCTTCCCTTCGGGGCAGTGGAGACAGGTGGTGCATGGTTGTCGTCAGCTCGTGTCGTGAGATGTTGGGTTAAGTCCCGCAACGAGCGCAACCCTTATCTTTAGTAGCCAGCATTTCGGATGGGCACTCTAGAGAGACTGCCAGGGATAACCTGGAGGAAGGTGGGGATGACGTCAAATCATCATGCCCCTTATGGGCAGGGCTACACACGTGCTACAATGGCGTAAACAAAGGGAAGCAATACTGCGAAGTGGAGCAAATCCCAAAAATAACGTCTCAGTTCGGATTGTAGTCTGCAACTCGACTACATGAAGCTGGAATCGCTAGTAATCGCAAATCAGAATGTTGCGGTGAATACGTTCCCGGGTCTTGTACACACCGCCCGTCACACCATGGGAGTTGGTAACGCCCGAAGTCAGTGACCCAACCGTAAGGAGGGAGCTGCCGAAGGCGGGATCGATAACTGGGGT",
         null,
         "b88163e0a71bc77f6e824a6e352c405d"
        ],
        [
         12686427,
         "URS0000C1945B",
         "2017-10-19T09:46:04.148+0000",
         "rnacen",
         "E6217CA75DB09CBD",
         74,
         "GAGGGTATAGCTTAAGTGGTAGAGCATATGCTTAGCATACATCAAGGTCCTGAGTTCAATCCCCAGTACCTCCT",
         null,
         "28e17f801c27e3e9680af4e6ff8a7276"
        ],
        [
         12686428,
         "URS0000C1945C",
         "2017-10-19T09:46:04.149+0000",
         "rnacen",
         "2EB95D28759D6CB0",
         45,
         "ATCCAGCTGATGAGTTCCAAATAGAACGAAACGCCCGTTCTTTAT",
         null,
         "28e1825f44cb3a61aca85d3173a3f7d1"
        ],
        [
         8989234,
         "URS0000892A32",
         "2015-10-20T18:04:07.000+0000",
         "RNACEN",
         "BA64E6395E9C4681",
         1343,
         "GACGAACGCTGGCGGCGTGCTTAACACATGCAAGTCGAACGGAAAGGCCCTGCTTTTGTGGGGTGCTCGAGTGGCGAACGGGTGAGTAACACGTGAGTAACCTGCCCTTGACTTTGGGATAACTTCAGGAAACTGGGGCTAATACCGGATAGGAGCTCCTGCTGCATGGTGGGGGTTGGAAAGTTTCGGCGGTTGGGGATGGACTCGCGGCTTATCAGCTTGTTGGTGGGGTAGTGGCTTACCAAGGCTTTGACGGGTAGCCGGCCTGAGAGGGTGACCGGCCACATTGGGACTGAGATACGGCCCAGACTCCTACGGGAGGCAGCAGTGGGGAATATTGCACAATGGGCGGAAGCCTGATGCAGCAACGCCGCGTGCGGGATGACGGCCTTCGGGTTGTAAACCGCTTTCGCCTGTGACGAAGCGTGAGTGACGGTAATGGGTGAAGAAGCACCGGCTAACTACGTGCCAGCAGCCGCGGTGATACGTAGGGTGCGAGCGTTGTCCGGATTTATTGGGCGTAAAGGGCTCGTAGGTGGTTGATCGCGTCGGAAGTGTAATCTTGGGGCTTAACCCTGAGCGTGCTTTCGATACGGGTTGACTTGAGGAAGGTAGGGGAGGATGGAATTCCTGGTGGAGCGGTGGAATGCGCAGATATCAGGAGGAACACCAGTGGCGAAGGCGGTTCTCTGGGCCTTTCCTGACGCTGAGGAGCGAAAGCGTGGGGAGCGAACAGGCTTAGATACCCTGGTAGTCCACGCTGTAAACGGTGGGTACTAGGTGTGGGGTCCATTCCACGGGTTCCGTGCCGTAGCTAACGCTTTAAGTACCCCGCCTGGGGAGTACGGCCGCAAGGCTAAAACTCAAAGGAATTGACGGGGCCCCGCACAAGCGGCGGAGCATGCGGATTAATTCGATGCAACGCGTAGAACCTTACCTGGGTTTGACATGGATCGGGAGTGCTCAGAGATGGGTGTGCCTCTTTTGGGGTCGGTTCACAGGTGGTGCATGGCTGTCGTCAGCTCGTGTCGTGAGATGTTGGGTTAAGTCCCGCAACGAGCGCAACCCTTGTTCACTGTTGCCAGCACGTTATGGTGGGGACTCAGTGGAGACCGCCGGGGTCAACTCGGAGGAAGGTGGGGATGACGTCAAGTCATCATGCCCCTTATGTCCAGGGCTTCACGCATGCTACAATGGCTGGTACAGAGAGTGGCGAGCCTGTGAGGGTGAGCGAATCTCGGAAAGCCGGTCTCAGTTCGGATTGGGGTCTGCAACTCGACCTCATGAAGTCGGAGTCGCTAGTAATCGCAGATCAGCAACGCTGCGGTGAATACGTTCCCGGG",
         null,
         "c556949a6b7bf5b4894e37a9bf68c763"
        ],
        [
         8990002,
         "URS0000892D32",
         "2015-10-20T18:04:07.000+0000",
         "RNACEN",
         "309764D57BF4C4FB",
         1499,
         "TTAGAGTTTGATCCTGGCTCAGATTGAACGCTGGCGGCGTGCCTAACACATGCAAGTCGAGCGGCAGCGCGGGGGCAACCCTGGCGGCGAGCGGCGGACGGGTGAGTAACGCTTGGGAATCTGCCTGTTAGTGGGGGACAACCCGGGGAAACTCGGGCTAATACCGCATACGCACTACGGTGGAAAGCCGGGGACCGCAAGGCCTGGCGCTAACAGATGAGCCCAAGTCGGATTAGCTAGTTGGTAGGGTAACGGCCTACCAAGGCGACGATCCGTAACTGGTCTGAGAGGACGACCAGTCACACCGGAACTGAGACACGGTCCGGACTCCTACGGGAGGCAGCAGTGGGGAATATTGGACAATGGGCGAAAGCCTGATCCAGCGACGCCGCGTGGGTGAAGAAGGCCTGCGGGTTGTAAAGCCCTTTCGGTGGGGAAGAAAAGCCTCGAGCTAATACCTCGGGGTCTTGACGTAACCCATAGAAGAAGCACCGGCTAACTCTGTGCCAGCAGCCGCGGTAATACAGAGGGTGCGAGCGTTAATCGGAATTACTGGGCGTAAAGCGCGCGTAGGCGGCTTTGCAAGTCGAGTGTGAAATCCCCAGGCTTAACCTGGGAACTGCACCCGAGACTGCATAGCTAGAGTATGGGAGAGGGAAGTGGAATTTCAGGTGTAGCGGTGAAATGCGTAGATATCTGAAGGAACATCAGTGGCGAAAGCGACTTCCTGGACCAATACTGACGCTCATGTGCGAAAGCGTGGGGAGCAAACAGGATTAGATACCCTGGTAGTCCACGCCATAAACGATGACAACTGGATGTCGGGAGGGTCTGCCTCTCGGTGTCGTAGCTAACGCGTTAAGTTGTCCGCCTGGGGAGTACGGCCGCAAGGTTGAAACTCAAAGGAATTGACGGGGACCCGCACAAGCGGTGGAGCATGTGGTTTAATTCGATGCAACGCGAAGAACCTTACCTGGTCTTGACATCCCAGGAACCTCGCAGAGATGTGGGGGTGCCTTCGGGAACCTGGAGACAGGTGCTGCATGGCTGTCGTCAGCTCGTGTCGTGAGATGTTGGGTTAAGTCCCGCAACGAGCGCAACCCTTGCCCTTAGTTGCCAGCATTCAGTTGGGAACTCTAAGGGGACCGCCGGTGACAAACCGGAGGAAGGTGGGGATGACGTCAAGTCATCATGGCCCTTATGACCAGGGCTACACACGTGCTACAATGGCCAGTACAAAGGGTTGCCAACCCGCGAGGGGGAGCCAATCCCATAAAGCTGGTCGTAGTCCGGATCGCAGTCTGCAACTCGGCTGCGTGAAGTCGGAATCGCTAGTAATCGTGAATCAGCGATGTCACGGTGAATACGTTCCCGGGTCTTGTACACACCGCCCGTCACACCATGGGAGTTGATTGCACCAGAAGTAGGTAGCCTAACCGCAAGGAGGGCGCTTACCACGGTGTGGTCAATGACTGGGGTGAAGTCGTAACAAGGTAACC",
         null,
         "b93460abf0746f15bb6d7d3b7c807745"
        ],
        [
         8990004,
         "URS0000892D34",
         "2015-10-20T18:04:07.000+0000",
         "RNACEN",
         "BE5F5447FF059773",
         1412,
         "AGTCGAACGCGAAAGTCTCTTCGGAGACGAGTAGAGTGGCGAAAGGGTGAGTAATACATGGACGACGTACCCTCGACCCTGGGATAGCCCATCGAAAGGTGGGGTAATCCCGGATAATGTCCCTGGTTCAATTCCGGGAGACCAAAGGCAGGGATCCTTCGGGACCTGTCAGTTGAGGAGCGGTTCATGTCTTATCAGCTTGTTGGTGAGGTAACGGCTCACCAATGCGATGACGAGTACGGGGCCTGAGAGGGTGTTCCCGCACACTGGGACTGAGACACTGCCCAGACTCCTACGGGGGGCTGCAGTCGAGAATCTTCCCCAATGGGCGAAAAGCCTGAAGGGAGCGACGCCGTGTGGAGGATGAAGGCCTTCGGGTTGTAAACTCCTTTCAGTTAGCAGGAATAAGTGTAAGTCAATAGCTTGCACGATGACCCGCTTTCAGAAGAAGCACCGGCTAAACACGTGCCAGCAGCCGCGGTAATACGTGTGGTGCTAGCGTTGTTCGGAATCACTGGGCATAAAGGGCACGCAAAGCGGAAATGTCGTGTACCGGGGTGAAATCCACCGGCTTAACCCGGTGAACTGCCTCGGAAACTGGCATTCTAGAGTGCAAAAGGGGAGAGTGGAACTCTAGGTGGAACGGTGGAATGTGTAGATATCTAGAGGAACGCCGGTGGCGAAAGCGACTCTCTGGTTTCCAACTGACGCTCAGGTGCGAAAGCGTGGGGAGCAAACAGGATTAGATACCCTGGTAGTCCACGCCGTAAACGATGGGTACTAGGTAGAAGGGGTTCCTAAGCCTTTTCTGCTGGAGCTAATGTATTAAGTACCCCGCCTGGGGAGTACGGCCGCAAGGCTAAAACTCAAAGGAATTGACGGGGGCTCACACAAGCGGTGGAGCATGTGGCTTAATTCGAAGCAACGCGAAGAACCTTACCTGGGTTTGACATGCTTGAAGTAGGCGCCCGAAAGGGTTGCCCACCCGTTAAGTCGGGAGCTTGCACAGGTGTTGCATGGCTGTCGTCAGCTCGTGTCGTGAGATGTTGGGTTAAGTCCCGTAACGAGCGAAACCCTTGTCCTTAGTTACCAGCGGTTCGGCCGGGAACTCTAAGGAGACTGCCGGTGTTAAACCGGAGGAAGGTGGGGATGACGTCAAGTCATCATGGCCCTTACGCCCAGGGCTGCACACGTGCTACAATGGTCGATACAAACCGAAGCAAAGTCGTGAGGCTAAGCAAATCGGAAAAAGTCGGCCCCAGTTCGGATTGAAGGCTGCAATTCGCCTTCATGAAGCCGGAATCGCTAGTAATCGCAGATCAGCCATGCTGCGGTGAATGTGTTCCTGAGCATTGTACACACCGCCCGTCAAGCCACGAAAGTTGGCAGCATCCGAAGTCGGTATCCCAACC",
         null,
         "6020224caf221c10682275e2d35029aa"
        ],
        [
         8990006,
         "URS0000892D36",
         "2015-10-20T18:04:07.000+0000",
         "RNACEN",
         "607A5A14EF30DD8A",
         1364,
         "GGAGCGAGTACAGCGGCGGACGGGTGAGTAACGCGTGGACGATCTACCCAAGGATTCGGGATAACGCGTTGCGAAAGCGGGGCTAATACCGAATGGTCTGGGCATTTTGAAATGTGCCTGGTAAAGGTGGCCTCTGATTCAAGCTATCGTCTTTGGATGGGTCCGCGTCCCATTAGCTTGTTGGTAGGGTCAAGGCCTACCAAGGCGACGATGGGTAGCTGGTCTGGGAGGATGATCAGCCACACTGGGACTGGAACACGGCCCAGACTCCTACGGGAGGCAGCAGTGGGGAATATTGGGCAATGGGCGCAAGCCTGACCCAGCAACGCCGCGTGAGGGAAGAAGGTCTTCGGATCGTAAACCTCAGTCAGGAGGGAAGAAATGGGTTGTCCTGAACAGGGATGGCCTTTGACGGTACCTCCAGAGGAAGCACCGGCCAACTCCGTGCCAGCAGCCGCGGTAATACGGAGGGTGCAAGCGTTATTCGGAATCACTGGGCGTAAAGCGCACGTAGGCGGCTTTGCAAGTCAGGTGTGAAAGCCCTCGGCTCAACCGAGGAATTGCACTTGAAACTGTAGAGCTCGAGTTCGGGAGAGGGTGGCGGAATTCCAGGTGTAGGAGTGAAATCCGTAGATATCTGGAGGAACACCAGAGGCGAAGGCGGCCACCTGGACCGAAACTGACGCTGAGGTGCGAAAGCGTGGGGAGCAAACAGGATTAGATACCCTGGTAGTCCACGCCGTAAACGATGGATGCTAGATGCTGGGTGTGTAAGACATTCGGTGTCGGAGTTAACGCGTTAAGCATCCCGCCTGGGGAGTACGGTCGCAAGGCTGAAACTCAAAGAAATTGACGGGGGCCCGCACAAGCGGTGGAGTATGTGGTTTAATTCGATGCAACGCGAAGAACCTTACCTGGGCTTGACATCCCGGGAACCTCCTGGAAACAGGGGCGTGCCCTTCGGGGAACCCGGTGACAGGTGCTGCATGGCTGTCGTCAGCTCGTGCCGTGAGGTGTTGGGTTAAGTCCCGCAACGAGCGCAACCCTTGTCCTTAGTTGCCATCAGGTAAAGCTGGGCCCTCTAGGGAGACTGCCGAGGTGAACTCGGAGGAAGGTGGGGACGACGTCAAGTCATCATGGCCCTTACGCCCAGGGCTACACACGTACTACAATGGTGGGTACAAAGGGAAGCCAAGCCGCGAGGTGGAGCCAATCCCGAAAAGCCTACCCCAGTTCAGATCGCAGTCTGCAACTCGACTGCGTGAAGGCGGAATCGCTAGTAATCGCGGATCAGCATGCCGCGGTGAATACGTTCCCGGGCCTTGTACACACCGCCCGTCACACCACGAAAGCTGGCTCTACCC",
         null,
         "c615c64c6fd0a973b221878a6d6cb6f5"
        ],
        [
         8990383,
         "URS0000892EAF",
         "2015-10-20T18:04:07.000+0000",
         "RNACEN",
         "1C6069142DFE7B03",
         1372,
         "TGGCGGCGTGCTTAACACATGCAAGTCGAACGGGAACCTCTGGATTCGTCTGGAGGGGAGAGTGGCGAACGGGTGAGTAACACGTAGGTGACCTGCCTCGAAGACGGGGATAACTGCTGGAAACGGTAGCTAATACCCGATGGTCTCGATAATTCGGTTTGTCGAGTAAAGGCTCCGGCGCTTTGAGAGGGACCTGCGGCCCATCAGCTAGTTGGTAGGGTAACGGCCTACCAAGGCGAAGACGGGTAGGGGGCGTGAGAGCGTGACCCCCCACACTGGCACTGGGACACGGGCCAGACTCCTACGGGAGGCAGCAGTGAGGAATATTGCGCAATGAGCGAAAGCTAGACGCAGCAACGCCGCGTGGGTGATGAAGGCCTTCGGGTCGTAAAACCCTTTTCTGGGGGAAGAGTAAGGACGGTACCCCAGGAATAAGCCTCGGCTAACTATGTGCCAGCAGCCGCGGTAATACATAGGAGGCAAGCGTTATCCGGATTTACTGGGCGTAAAGAGCGTTGAGGCGGCTTCGTAAGTTGGACGTGAAAGCTCCCGGCTTAACTGGGAGAGGCCGTTCAATACTGCGGGGCTTGAGGACAGCAGAGGGGGGTGGAATTTCCGGTGTAGTGGTGAAATGCGTAGATATCGGAAGGAACACCAGTGGCGAAGGCGGCCCCCTGGGCTGCTCCTGACGCTGAAGGCGAAAGCTAGGGTAGCGAACGGGATTAGAAACCCCGGTAGTCCTAGCCGTAAACGATGGATACTAGGTGTAGGAGGTTAAAACTCCTTCTGTGCCGGAGCTAACGCGTTAAGTATCCCGCCTGGGGAGTACGGTCGCAAGGCTAAAACTCAAAGGAATTGACGGGGGCCCGCACAAGCAGCGGAGCGTGTGGTTTAATTCGATGCAACGCGAAGAACCTTACCAGGGCTTGACATGTAGGTAGTAGTGAAGCGAAAGCGGAACGAGCCTTCGGGAAGCCTACACAGGTGCTGCATGGCTGTCGTCAGCTCGTGCCGTGAGGTGTTAGGTTAAGTCCTGTAACGAGCGCAACCCCTGCCGTTAGTTACAAGTGTCTAACGGGACTGCCCGGCAAAACTGGGAGGAAGGTGGGGATGACGTCAAGTCAGCATGGCCTTTATGTCCTGGGCTACACACACGCTACAATGGCCGGTACAATGGGTTGCCAAGCCGCGAGGCGGAGCCAATCCTCTAAAGCCGGTCTCAGTTCGAATTGTAGGCTGCAACCCGCCTGCATGAAGTTGGAGTTGCTAGTAACCGCAGGTCAGCCACACTGCGGTGATACGTTCCCGGGCCTTGTACACACCGCCCGTCACGTCATGGAAGCTGGTAACACCTGAAGCCGGTGAGCTAACC",
         null,
         "ecbd128339d3c4ebcc8a3f08905fb923"
        ],
        [
         12012133,
         "URS0000B74A65",
         "2017-10-13T16:49:04.820+0000",
         "rnacen",
         "BB9300567B683E0C",
         305,
         "TTTTCCTACGGGAGGCAGCAGTGGGGGATATTGCACAATGGGGGAAACCCTGATGCAGCGACACCGCGTGGGTGAGGAAGCGCTTCGGCGTGTAAAGCCCTATCAGTGGGGAAGAAAAAGGACGGTACCCAAAGAAGAAGCACCGGCTAAATACGTGCCAGCAGCCGCGGTAATACGTATGGTGCAAGCGTTATCCGGATTCACTGGGTGTAAAGGGAGCGTAGACGGCCGTGCAAGCCAGGAGTGAAAGCCCGGGGCCCAACCCCGGGACTGCTCTTGGAACTGTGCGGCTGGAGTGCGGGAGG",
         null,
         "7585a8c8d077c3ecbd9e543592d4d3e7"
        ],
        [
         8990385,
         "URS0000892EB1",
         "2015-10-20T18:04:07.000+0000",
         "RNACEN",
         "BB685D618CFDE9A1",
         1350,
         "GATTAGTGGCGAACGGGTGAGTAACACGTGGGCAATCTGCCCTTCACTCTGGGACAAGCCCTGGAAACGGGGTCTAATACCGGATAACACTGCGGATCTCATGGTCTGCGGTTAAAAGCTCCGGCGGTGAAGGATGAGCCCGCGGCCTATCAGCTTGTTGGTGAGGTAATGGCTCACCAAGGCGACGACGGGTAGCCGGCCTGAGAGGGCGACCGGCCACACTGGGACTGAGACACGGCCCAGACTCCTACGGGAGGCAGCAGTGGGGAATATTGCACAATGGGCGAAAGCCTGATGCAGCGACGCCGCGTGAGGGATGACGGCCTTCGGGTTGTAAACCTCTTTCAGCAGGGAAGAAGCGAAAGTGACGGTACCTGCAGAAGAAGCGCCGGCTAACTACGTGCCAGCAGCCGCGGTAATACGTAGGGCGCAAGCGTTGTCCGGAATTATTGGGCGTAAAGAGCTCGTAGCGGCTTGTCACGTCGATTGTGAAAGCTCGGGGCTTAACCCCGAGTCTGCAGTCGATACGGCTAGCTAGAGTGTGGTAGGGGAGATCGGAATTCCTGGTGTAGCGGTGAAATGCGCAGATATCAGGAGGAACACCGGTGGCGAAGGCGGATCTCTGGGCCATTACTGACGCTGAGGAGCGAAAGCGTGGGGAGCGAACAGGATTAGATACCCTGGTAGTCCACGCCGTAAACGGTGGGCACTAGGTGTTGGCGACATTCCACGTCGTCGGTGCCGCAGCTAACGCATTAAGTGCCCCGCCTGGGGAGTACGGCCGCAAGGCTAAAACTCAAAGGAATTGACGGGGGCCCGCACAAGCAGCGGAGCATGTGGCTTAATTCGACGCAACGCGAAGAACCTTACCAAGGCTTGACATACGCCGGAAAGCATCAGAGATGGTGCCCCCCTTGTGGTCGGTGTACAGGTGGTGCATGGCTGTCGTCAGCTCGTGTCGTGAGATGTTGGGTTAAGTCCCGCAACGAGCGCAACCCTTGTTCTGTGTTGCCAGCATGCCCTTCGGGGTGATGGGGACTCACAGGAGACTGCCGGGGTCAACTCGGAGGAAGGTGGGGACGACGTCAAGTCATCATGCCCCTTATGTCTTGGGCTGCACACGTGCTACAATGGCAGGTACAATGAGCTGCGAAACCGTGAGGTGGAGCGAATCTCAAAAAGCCTGTCTCAGTTCGGATTGGGGTCTGCAACTCGACCCCATGAAGTCGGAGTTGCTAGTAATCGCAGATCAGCATTGCTGCGGTGAATACGTTCCCGGGCCTTGTACACACCGCCCGTCACGTCACGAAAGTCGGTAACACCCGAAGCCGGTGGCCCAACCCCCTGCGG",
         null,
         "b97f0079b120eed5c582caec210c82aa"
        ],
        [
         8990387,
         "URS0000892EB3",
         "2015-10-20T18:04:07.000+0000",
         "RNACEN",
         "CB85AEAB48932A53",
         1474,
         "GAGTTTGATCCTGGCTCAGGATGAACGCTAGCGGCAGGCTTAACACATGCAAGTCGAGGGGTATAGTTCTTCGGAACTAGAGACCGGCGCACGGGTGCGTAACGCGTATGCAATCTACCTTTCACAGAGGGATAGCCCAGAGAAATTTGGATTAATACCTCATAGTATAATTGAATGGCATCATTTAATTATTAAAGTCACAACGGTGAAAGATGAGCATGCGTCCCATTAGCTTGTTGGTAAGGTAACGGCTTACCAAGGCGACGATGGGTAGGGGTCCTGAGAGGGAGATCCCCCACACTGGTACTGAGACACGGACCAGACTCCTACGGGAGGCAGCAGTGAGGAATATTGGTCAATGGGCGCAAGCCTGAACCAGCCATGCCGCGTGCAGGATGACGGTCCTATGGATTGTAAACTGCTTTTGTACAGGAAGAAACACTGGTTCGTGAACCAGCTTGACGGTACTGTAAGAATAAGGATCGGCTAACTCCGTGCCAGCAGCCGCGGTAATACGGAGGATCCAAGCGTTATCCGGAATCATTGGGTTTAAAGGGTCCGTAGGCGGTCAGATAAGTCAGTGGTGAAAGCCCATCGCTCAACGGTGGAACGGCCATTGATACTGTCTGACTTGAATTATTAGGAAGTAACTAGAATATGTAGTGTAGCGGTGAAATGCTTAGAGATTACATGGAATACCAATTGCGAAGGCAGGTTACTACTAATGGATTGACGCTGATGGACGAAAGCGTGGGTAGCGAACAGGATTAGATACCCTGGTAGTCCACGCCGTAAACGATGGATACTAGCTGTTGGGAGCAATCTCAGTGGCTAAGCGAAAGTGATAAGTATCCCACCTGGGGAGTACGTTCGCAAGAATGAAACTCAAAGGAATTGACGGGGGCCCGCACAAGCGGTGGAGCATGTGGTTTAATTCGATGATACGCGAGGAACCTTACCAAGGCTTAAATGTAGATTGACCGGTTTGGAAACAGATCTTTCGCAAGACAATTTACAAGGTGCTGCATGGTTGTCGTCAGCTCGTGCCGTGAGGTGTCAGGTTAAGTCCTATAACGAGCGCAACCCCTGTTGTTAGTTGCCAGCGAGTCATGTCGGGAACTCTAACGAGACTGCCAGTGCAAACTGTGAGGAAGGTGGGGATGACGTCAAATCATCACGGCCCTTACGCCTTGGGCTACACACGTGCTACAATGGCCGGTACAGAGAGCAGCCACTGGGCGACCAGGAGCGAATCTATAAAACCGGTCACAGTTCGGATCGGAGTCTGCAACTCGACTCCGTGAAGCTGGAATCGCTAGTAATCGGATATCAGCCATGGTCCGGTGAATACGTTCCCGGGCCTTGTACACACCGCCCGTCAAGCCATGGAAGCTGGGGGTGCCTGAAGTCGGTGACCGCAAGGAGCTGCCTAGGGTAAAACTGGTAACTAGGGCTAAGTCGTAACAAGGTAACC",
         null,
         "ecbe293c735102fbcade79dd3d95c388"
        ],
        [
         8990388,
         "URS0000892EB4",
         "2015-10-20T18:04:07.000+0000",
         "RNACEN",
         "CB27103838A67CC1",
         1462,
         "GATGAACGCTAGCGGCAGGCTTAACACATGCAAGTCGAACGGTAACAGAAAAAGCTTGCTTTTTGCTGACGAGTGGCGAACGGGTGCGTAACGCGTATGCAACCTACCTTCTTCAGAGGAATAGCCCAGAGAAATTTGGATTAATACCTCATAATAATATTTTTTCGCATGATAATTTATTTAAAGCTTCGGCGGAGGAAGATGGGCATGCGTAACATTAGTTAGTTGGTGAGGTAACGGCTCACCAAGACTACGATGTTTAGGGGGTCTGAGAGGATGATCCCCCACACTGGTACTGAGACACGGACCAGACTCCTACGGGAGGCAGCAGTGAGGAATATTGGTCAATGGACGAAAGTCTGAACCAGCCATGCCGCGTGAAGGATGACTGCCCTATGGGTTGTAAACTTCTTTTATATAGGAAGAAACCCCTCTACGTGTAGAGGGTTGACGGTACTATACGAATAAGCACCGGCTAACTCCGTGCCAGCAGCCGCGGTAATACGGAGGGTGCAAGCGTTATCCGGAATTATTGGGTTTAAAGGGTGCGTAGGCGGAAATTTAAGTCAGTGGTGAAAGCCTGCAGCTTAACTGTAGAATTGCCATTGAAACTGAATTTCTTGAATCTAATTGAAGTAGGCGGAATATGACATGTAGCGGTGAAATGCTTAGATATGTCATAGAACACCAATGGCGAAGGCAGCTTACTAAGTTAGTATTGACGCTAATGCACGAAAGCGTGGGGAGCGAACAGGATTAGATACCCTGGTAGTCCACGCCGTAAACTATGATTACTCGCTATTGGCGATACACTGTCAGTGGCTAAGCGAAAGTGATAAGTAATCCACCTGGGGAGTACGATCGCAAGGTTGAAACTCAAAGGAATTGACGGGGGCCCGCACAAGCGGTGGAGCATGTGGTTTAATTCGATGATACGCGAGGAACCTTACCAGGACTTAAATGCATTACGATCGGTTGGGAAACCAACTTTTCTTCGGACGGAATGCAAGGTGCTGCATGGTTGTCGTCAGCTCGTGCCGTGAGGTGTCAGGTTAAGTCCTATAACGAGCGCAACCCCTATTCTTAGTTGCCAGCGGTTCGGCCGGGGACTCTAAGAAAACTGCCAGTGCAAGCTGCGAGGAAGGTGGGGATGACGTCAAATCATCACGGCCCTTACGTCCTGGGCCACACACGTGCTACAATGGTAGGTACAAAGGGCAGCCACTTGGTGACAAGGAGCTAATCTCTAAAACCTATCTCAGTTCGGATTGGAGTCTGAAACTCGACTCTATGAAGCTGGAATCGCTAGTAATCGCGCATCAGCCATGGCGCGGTGAATACGTTCCCGGGCCTTGTACACACCGCCCGTCAAGCCATGGAAGCTGGGAGTACCTGAAGTCGGTAACCATATAGGAGCTGCCTAGGGTAAAACTAGTAACTGGGGCTAAGTCGTAACAAGGTA",
         null,
         "c6630d24b63a2891f6cd492ab940ad01"
        ],
        [
         8990389,
         "URS0000892EB5",
         "2015-10-20T18:04:07.000+0000",
         "RNACEN",
         "CA277A83FBE413A5",
         1343,
         "GACGAACGCTGGCGGCGTGCTTAACACATGCAAGTCGAACGGAAAGGCCCTGCTTTTGTGGGGTGCTCGAGTGGCGAACGGGTGAGTAACACGTGAGTAACCTGCCCTTGACTTTGGGATAACTTCAGGAAACTGGGGCTAATACCGGATAGGAGCTCCTGCTGCATGGTGGGGGTTGGAAAGTTTCGGCGGTTGGGGATGGACTCGCGGCTTATCAGCTTGTTGGTGGGGTAGTGGCTTACCAAGGCTTTGACGGGTAGCCGGCCTGAGAGGGTGACCGGCCACATTGGGACTGAGATACGGCCCAGACTCCTACGGGAGGCAGCAGTGGGGAATATTGCACAATGGGCGGAAGCCTGATGCAGCAACGCCGCGTGCGGGATGACGGCCTTCGGGTTGTAAACCGCTTTCGCCTGTGACGAAGCGTGAGTGACGGTAATGGGTAAAGAAGCACCGGCTAACTACGTGCCAGCAGCCGCGGTGATACGTAGGGTGCGAGCGTTGTCCAGATTTATTGGGCGTAAAGGGCTCGTAGGTGGTTGATCGCGTCGGAAGTGTAATCTTGGGGCTTAACCCTGAGCGTGCTTTCGATACGGGTTGACTTGAGGAAGGTAGGGGAGAATGGAATTCCTGGTGGAGCGGTGGAATGCGCAGATATCAGGAGGAACACCAGTGGCGAAGGCGGTTCTCTGGGCCTTTCCTGACGCTGAGGAGCGAAAGCGTGGGGAGCGAACAGGCTTAGATACCCTGGTAGTCCACGCTGTAAACGGTAGGTACTAGGTGTGGGGTCCATTCCACGGGTTCCGTGCCGTAGCTAACGCTTTAAGTACCCCGCCTGGGGAGTACGGCCGCAAGGCTAAAACTCAAAGGAATTGACGGGGCCCCGCACAAGCGGCGGAGCATGCGGATTAATTCGATGCAACGCGTAGAACCTTACCTGGGTTTGACATGGATCGGGAGCGCTCAGAGATGGGTGTGCCTCTTTTGGGGTCGGTTCACAGGTGGTGCATGGCTGTCGTCAGCTCGTGTCGTGAGATGTTGGGTTAAGTCCCGCAACGAGCGCAACCCTTGTTCACTGTTGCCAGCACGTTATGGTGGGGACTCAGTGGAGACCGCCGGGGTCAACTCGGAGGAAGGTGGGGATGACGTCAAGTCATCATGCCCCTTATGTCCAGGGCTTCACGCATGCTACAATGGCTGGTACAGAGAGTGGCGAGCCTGTGAGGGTGAGCGAATCTCGGAAAGCCGGTCTCAGTTCGGATTGGGGTCTGCAACTCGACCTCATGAAGTCGGAGTCGCTAGTAATCGCAGATCAGCAACGCTGCGGTGAATACGTTCCCGGG",
         null,
         "b97f187dba506b81ed537a3d40e50868"
        ],
        [
         8990390,
         "URS0000892EB6",
         "2015-10-20T18:04:07.000+0000",
         "RNACEN",
         "2551DC1A3578CC97",
         1349,
         "AGTGGCGCACGGGTGAGTAATATGTAAGTAATCTGCCCTTGGCTTTGGAATAACGCAGAGAAATTTGCGCTAATACCGAATAATGCAGCGGCATCGCATGATGATGTTGTTAAGGGTGCAGCAATGTAACGGCTAGGGATGAGCTTGCATCTGATTAGCTTGTTGGTAGGGTAACGGCCTACCAAGGCTACGATCAGTAGCTGGTCTGAGAGGATGATCAGCCACACTGGAACTGAGACACGGTCCAGACTCCTACGGGAGGCAGCAGTGAGGAATATTGGGCAATGCCCGCAAGGGTGACCCAGCAACGCCGCGTGGAGGATGAATGCCGTAAGGTTGTAAACTCCTGTGAGATGGGATGAAAGTGCAGAATTCGTAAGGGTTCTGCTTTGACCGTACCATCAGAGGAAACCCCGGCTAACTACGTGCCAGCAGCCGCGGTAATACGTAGGGGGTGAGCGTTGTCCGGATTTACTGGGTGTAAAGGGCGCGTAGGCGGGCCCGTAAGTCAGAGGTGAAAGCCTGCAGCTTAACTGCAGAACTGCCTTTGATACTGCGGGTCTTGAATTCAGAAGAGAGAGATGGAATTCCAGGTGTAGTGGTGAAATACGTAGATATCTGGAAGAACACCAGTGGCGAAGGCGATCTCTTGGTCTGATATTGACGCTGAGGCGCGAAAGCGTGAGTAACAAACAGGATTAGATACCCTGGTAGTCCACGCTGTAAACGATGAATACTAGATGTTGGGCAGAAATGTTCAGTGTCGCAGCTAACACATTAAGTATTCCACCTGGGGAGTACGATCGCAAGGTTGAAACTCAAAGGAATTGACGGGGGCCCGCACAAGCAGTGGAGCATGTGGTTTAATTCGATGCAACGCGAAGAACCTTACCTGGGCTTGAAAGGCAAGTGACCGGGTGTGAAAGCACCCTTCCCTTCGGGGCACTTGTACAGGTGCTGCATGGCTGTCGTCAGCTCGTGCCGTGAGGTGTTGGGTTAAGTCCCGCAACGAGCGCAACCCTTACTATTAGTTGCCATCAGGTCAAGCTGGGCACTCTAATAGGACTGCCTACGCAAGTAGTGAGGAAGGTGGGGATGACGTCAAGTCCGCATGGCCCTTACGCCCAGGGCCACACACGTGCTACAATGGATACAACAGAGGGTAGCCAAACCGCAAGGTGGAGCCAATCCCATAAAAGTATCCTCAGTTCGGATTGGAGTCTGCGACTCGACTCCATGAAGTTGGAATTGCTAGTAATCGCGCATCAGCACGGCGCGGTGAATACGTTCCCGGGCCTTGTACACACCGCCCGTCAAGCCATGGAAGCCAGGGGTACCCGAAGTCAGTG",
         null,
         "606f85307a7de55dadb72d3b1a6a28d1"
        ],
        [
         12012147,
         "URS0000B74A73",
         "2017-10-13T16:49:04.823+0000",
         "rnacen",
         "A16F916C9AB357E3",
         281,
         "CGACCTACGGGGCGCAGCAGTGGGGAATATTGCACAATGGGGGAAACCCTGATGCAGCGACGCCGCGTGAGTGAGGAAGTATTTCGGTATGTAAAGCTCTATCAGCAGGGAAGAAAATGACGGTACCTGACTAAGAAGCCCCGGCTAACTACGTGCCAGCAGCCGCGGTAATACGTAGGGGGCAAGCGCTATCCGGCTTTACTGGGTGTAAAGGGAGCGTAGACGGAATAGCAAGTCTGGTGTGAAAACCCGGGGCTCAAATCCGGGAGTGCATTGGAAAC",
         null,
         "7586fe717bd56447302a5679ce7caf44"
        ],
        [
         8991635,
         "URS0000893393",
         "2015-10-20T18:04:07.000+0000",
         "RNACEN",
         "EF89A35D9D8DFF96",
         1473,
         "TAGGGTTTGATCCTGGCTCAGGATGAACGCTGGCGGCGTGCCTAATACATGCAAGTCGAACGCGAGAATTGCTAGCTTGCTAATAATTCTCTAGTGGCGCACGGGTGAGTAACACGTGAGTAACCTGCCCCCGAGAGCGGGATAGCCCTGGGAAACTGGGATTAATACCGCATAGTATCGAAAGATTAAAGCAGCAATGCGCTTGGGGATGGGCTCGCGGCCTATTAGTTAGTTGGTGAGGTAACGGCTCACCAAGGCGATGACGGGTAGCCGGTCTGAGAGGATGTCCGGCCACACTGGAACTGAGACACGGTCCAGACACCTACGGGTGGCAGCAGTCGAGTATCATTCACAATGGGGGAAACCCTGATGGTGCGACGCCGCGTGGGGGAATGAAGGTCTTCGGATTGTAAACCCCTGTCATGTGGGAGCAAATTAAAAAGATAGTACCACAAGAGGAAGAGACGGCTAACTCTGTGCCAGCAGCCGCGGTAATACAGAGGTCTCAAGCGTTGTTCGGAATCACTGGGCGTAAAGCGTGCGTAGGCTGTTTCGTAAGCCGTGTGTGAAAGGCGCGGGCTCAACCCGCGGACGGCACATGATACTGCGAGACTAGAGTAATGGAGGGGGAACCGGAATTCTCGGTGTAGCAGTGAAATGCGTAGATATCGAGAGGAACACTCGTGGCGAAGGCGGGTTCCTGGACATTAACTGACGCTGAGGCACGAAGGCCAGGGGAGCGAGAGGGATTAGATACCCCTGTAGTCCTGGCAGTAAACGGTGCACGCTTGGTGTGCGGGGAATCGACCCCCTGCGTGCCGGAGCTAACGCGTTAAGCGTGCCGCCTGGGGAGTACGGTCGCAAGATTAAAACTCAAAGAAATTGACGGGGACCCGCACAAGCGGTGGAGTATGTGGCTTAATTCGATGCAACGCGAAGAACCTTACCTGGGCTTGACATGTAATGAACAACATGTGAAAGCATGCGACTCTTCGGAGGCGTTACACAGGTGCTGCATGGCCGTCGTCAGCTCGTGTCGTGAGATGTTTGGTTAAGTCCAGCAACGAGCGCAACCCCTGTTGCCAGTTACCAGCACGTGAAGGTGGGGACTCTGGCGAGACTGCCCAGATCAACTGGGAGGAAGGTGGGGACGACGTCAGGTCAGTATGGCCCTTATGCCCAGGGCTGCACACGTACTACAATGCCCAGTACAGAGGGGGCCGAAGCCGCGAGGCGGAGGAAATCCTAAAAACTGGGCCCAGTTCGGACTGTAGGCTGCAACCCGCCCACACGAAGCCGGAACCGCTAGTAATGGCGCATCAGCTACGGCGCCGCGAATACGTTCCCGGGTCTTGTACACACCGCCCGTCACATCATGGAAGCCGGTCGCACCCGAAGTATCTGAAGCCAACCGCAAGGAGGCAGGGTCCTAAGGTGAGACTGGTAACTGGGATGAAGTCGTAACTAGGTAAC",
         null,
         "ba80100f6b1317329c9b06ec952c3886"
        ],
        [
         8991638,
         "URS0000893396",
         "2015-10-20T18:04:07.000+0000",
         "RNACEN",
         "AFB905931973766C",
         1415,
         "AACGCTGAAAGCCCAGCTTGCTGGGTGGATGAGTGGCGAACGGGTGAGTAACACGTGGGTAATCTGCCCTGTACTCTGGGATAAGCCTGGGAAACTGGGTCTAATACCGGATAGGACACACTGCCGCATGGTGGTGTGTGGAAAGCTCCGGCGGTACAGGTTGAGCCCGCGGCCTATCAGCTTGTTGGTGGGGTGATGGCCTACCAAGGCGACGACGGGTAGCCGGCCTGAGAGGGTGACCGGCCACACTGGGACTGAGACACGGCCCAGACTCCTACGGGAGGCAGCAGTGGGGAATATTGCACAATGGGCGCAAGCCTGATGCAGCGACGCCGCGTGGGGGATGACGGCCTTCGGGTTGTAAACCCCTTTCGCCAGGGACGAAGCGTAAGTGACGGTACCTGGAGAAGAAGCACCGGCCAACTACGTGCCAGCAGCCGCGGTAATACGTAGGGTGCAAGCGTTGTCCGGAATTATTGGGCGTAAAGAGCTCGTAGGCGGTGTGTCACGTCTGCCGTGAAAACCTGCGGCTTAACCGTGGGCGTGCGGTGGATACGGGCATCACTTGAGTTCGGTAGGGGAGACTGGAATTCCTGGTGTAGCGGTGGAATGCGCAGATATCAGGAGGAACACTGGTGGCGGCCCCGGTCCTCTGGGTAAAACGGCCCTGCGATACTGACGCTGATGAGCGAAAGCGTGGGGAGCGAACAGGATTAGCATACCCTGGTAGTCCACGCCGTAAACGTTGGGCGCTAGGTGTGGGGCGCTGTTCACGTGTCCCGTGCCGTAGCTAACGCATTAAGCGCCCCGCCTGGGGAGTACGGCCGCAAGGCTAAAACTCAAAGGAATTGACGGGGGCCCGCACAAGCGGCGGAGCATGTGGATTAATTCGATGCAACGCGAAGAACCTTACCTGGGCTTGACATGCACCGGATCGCCTCAGAGATGGGGTTTCCCTTGTGGTCGGTGCACAGGTGGTGCATGGCTGTCGTCCAGCCCTTTCCTCAGGATGTTGGTTTAATCCCGCAAACCAAGCGCAACCCTTGTCCCATGTTTGCCAGCGGGGTAATGCCGGGGACTCCTTGGGAGAACTGCCCGGGGGTCAACTCCGGAAAGAAAGGTGGGGATGACGTCAAGTCATCAAGCCCCTTATGTCCAGGGCTTCACACATGCTACAATGGCTGGTACAGAGGGTTGCGATACCGTGAGGTGGAGCGAATCCCTTAAAGCCAGTCTCAGTTCGGATCGCAGTCTGCAACTCGACTGCGTGAAGTCGGAGTCGCTAGTAATCGCAGATCAGCATTGCTGCGGTGAATACGTTCCCGGGCCTTGTACACACCGCCTGTCACGTCATGAAAGTCGGTAACACCCGAAGCCCATGGCCCAACCCGCTTGCGGGGGCCCGTGGTCGAAGG",
         null,
         "edcbadd055decf871b55b3a5f7b512b9"
        ],
        [
         8991195,
         "URS00008931DB",
         "2015-10-20T18:04:07.000+0000",
         "RNACEN",
         "2304520E354780B4",
         1481,
         "TTTGATCCTGGCTCAGGATGAACGCTGGCGGCGTGCCTAATACATGCAAGTCGAGCGAACAGATGAGAAGCTTGCTTCTCTGATGTTAGCGGCGGACGGGTGAGTAACACGTGGGTAACCTACCTATAAGACTGGGATAACTCCGGGAAACCGGGGCTAATACCAGATAATACATTGAACCGCATGGTTCAATGTTGAAAGACGGTTTCGGCTGTCACTTATAGATGGACCCGCGCCGTATTAGCTAGTTGGTAAGGTAACGGCTTACCAAGGCAACGATACGTAGCCGACCTGAGAGGGTGATCGGCCACACTGGAACTGAGACACGGTCCAGACTCCTACGGGAGGCAGCAGTAGGGAATCTTCCGCAATGGGCGAAAGCCTGACGGAGCAACGCCGCGTGAGTGATGAAGGTCTTAGGATCGTAAAACTCTGTTGTTAGGGAAGAACAAATTTGTTAGTAACTGAACAAGTCTTGACGGTACCTAACCAGAAAGCCACGGCTAACTACGTGCCAGCAGCCGCGGTAATACGTAGGTGGCAAGCGTTATCCGGAATTATTGGGCGTAAAGCGCGCGTAGGCGGTTTCTTAAGTCTGATGTGAAAGCCCACGGCTCAACCGTGGAGGGTCATTGGAAACTGGGGAACTTGAGTGCAGAAGAGGAGAGTGGAATTCCATGTGTAGCGGTGAAATGCGCAGAGATATGGAGGAACACCAGTGGCGAAGGCGGCTCTCTGGTCTGTAACTGACGCTGATGTGCGAAAGCGTGGGGATCAAACAGGATTAGATACCCTGGTAGTCCACGCCGTAAACGAATGAGTGCTAAGGTTAGGGGGTTTCCGCCCCTTAGTGCTGCAGCTAACGCATTAAGCACTCCGCCTTGGGGAGTACGACCGCAAGGTTGAAACTCAAAGGAATTGACGGGGACCCGCACAAGCGGTGGAGCATGTGGTTTAATTCGAAGCAACGCGAAGAACCTTACCAAATCTTGACATCCTTTGACCGCTCTAGAGATAGAGTCTTCCCCTTCGGGGGACAAAGTGACAGGTGGTGCATGGTTGTCGTCAGCTCGTGTCGTGAGATGTTGGGTTAAGTCCCGCAACGAGCGCAACCCTTAAGCTTAGTTGCCATCATTAAGTTGGGCACTCTAGGTTGACTGCCGGTGACAAACCGGAGGAAGGTGGGGATGACGTCAAATCATCATGCCCCTTATGATTTGGGCTACACACGTGCTACAATGGATAATACAAAGGGCAGCGAACCCGCGAGGTCAAGCAAATCCCATAAAATTATTCTCAGTTCGGATTGTAGTCTGCAACTCGACTACATGAAGCTGGAATCGCTAGTAATCGTAGATCAGCATGCTACGGTGAATAAGTTCCCGGGTCTTGTACACACCGCCCGTCACACCACGAGAGTTTGTAACACCCGAAGCCGGTGGAGTAACCTAATATTAGGAGCTAGCCGTCGAAGGTGGGAC",
         null,
         "c70ec74a719e6f9359c429a4a27035bb"
        ],
        [
         8991196,
         "URS00008931DC",
         "2015-10-20T18:04:07.000+0000",
         "RNACEN",
         "092BE86A2720D1E5",
         1375,
         "TGAACGCTGGCGGCAGGCCTAACACATGCAAGTCGAACGGTAACAGGAAGCAGCTTGCTGCTTCGCTGACGAGTGGCGGACGGGTGAGTAATGTCTGGGAAACTGCCTGATGGAGGGGGATAACTACTGGAAACGGTAGCTAATACCGCATAATGTCGCAAGACCAAAGAGGGGGACCTTCGGGCCTCTTGCCATCGGATGTGCCCAGATGGGATTAGCTAGTAGGTGGGGTAACGGCTCACCTAGGCGACGATCCCTAGCTGGTCTGAGAGGATGACCAGCCACACTGGAACTGAGACACGGTCCAGACTCCTACGGGAGGCAGCAGTGGGGAATATTGCACAATGGGCGCAAGCCTGATGCAGCCATGCCGCGTGTATGAAGAAGGCCTTCGGGTTGTAAAGTACTTTCAGCGGGGAGGAAGGTGTTGAGGTTAATAACCTCAGCAATTGACGTTACCCGCAGAAGAAGCACCGGCTAACTCCGTGCCAGCAGCCGCGGTAATACGGAGGGTGCAAGCGTTAATCGGAATTACTGGGCGTAAAGCGCACGCAGGCGGTCTGTCAAGTCGGATGTGAAATCCCCGGGCTCAACCTGGGAACTGCATTCGAAACTGGCAGGCTAGAGTCTTGTAGAGGGGGGTAGAATTCCAGGTGTAGCGGTGAAATGCGTAGAGATCTGGAGGAATACCGGTGGCGAAGGCGGCCCCCTGGACAAAGACTGACGCTCAGGTGCGAAAGCGTGGGGAGCAAACAGGATTAGATACCCTGGTAGTCCCACGCCGTAAACGATGTCGACTTGGAGGTTGTGCCCTTGAGGCGTGGCTTCCGGAGCTAACGCGTTAAGTCGACCGCCTGGGGAGTACGGCCGCAAGGTTAAAACTCAAATGAATTGACGGGGGCCCGCACAAGCGGTGGAGCATGTGGTTTAATTCGATGCAACGCGAAGAACCTTACCTACTCTTGACATCCAGAGAACTTTCCAGAGATGGATTGGTGCCTTCGGGAACTCTGAGACAGGTGCTGCATGGCTGTCGTCAGCTCGTGTTGTGAAATGTTGGGTTAAGTCCCGCAACGAGCGCAACCCTTATCCTTTGTTGCCAGCGGTTAGGCCGGGAACTCAAAGGAGACTGCCAGTGATAAACTGGAGGAAGGTGGGGATGACGTCAAGTCATCATGGCCCTTACGAGTAGGGCTACACACGTGCTACAATGGCGCATACAAAGAGAAGCGACCTCGCGAGAGCAAGCGGACCTCATAAAGTGCGTCGTAGTCCGGATTGGAGTCTGCAACTCGACTCCATGAAGTCGGAATCGCTAGTAATCGTGGATCAGAATGCCACGGTGAATACGTTCCCGGGCCTTGTACTCACCGCC",
         null,
         "ed647700fe1d0a9a8d774d7beb3c4726"
        ],
        [
         8991197,
         "URS00008931DD",
         "2015-10-20T18:04:07.000+0000",
         "RNACEN",
         "E97C5CB927F371CC",
         1429,
         "ATACATGCAAGTCGAGCGAACTGATTAGAAGCTTGCTTCTATGACGTTAGCGGCGGACGGGTGAGTAACACGTGGGCAACCTGCCTGTAAGACTGGGATAACTCCGGGAAACCGGAGCTAATACCGGATAACATTTTCTCTTGCATAAGAGAAAATTGAAAGATGGTTTCGGCTATCACTTACAGATGGGCCCGCGGTGCATTAGCTAGTTGGTGAGGTAACGGCTCACCAAGGCAACGATGCATAGCCGACCTGAGAGGGTGATCGGCCACACTGGGACTGAGACACGGCCCAGACTCCTACGGGAGGCAGCAGTAGGGAATCTTCCGCAATGGACGAAAGTCTGACGGAGCAACGCCGCGTGAGTGATGAAGGCTTTCGGGTCGTAAAACTCTGTTGTTAGGGAAGAACAAGTACAAGAGTAACTGCTTGTACCTTGACGGTACCTAACCAGAAAGCCACGGCTAACTACGTGCCAGCAGCCGCGGTAATACGTAGGTGGCAAGCGTTATCCGGAATTATTGGGCGTAAAGCGCGCGCAGGCGGTTTCTTAAGTCTGATGTGAAAGCCCACGGCTCAACCGTGGAGGGTCATTGGAAACTGGGGAACTTGAGTGCAGAAGAGAAAAGCGGAATTCCACGTGTAGCGGTGAAATGCGTAGAGATGTGGAGGAACACCAGTGGCGAAGGCGGCTTTTTGGTCTGTAACTGACGCTGAGGCGCGAAAGCGTGGGGAGCAAACAGGATTAGATACCCTGGTAGTCCACGCCGTAAACGATGAGTGCTAAGTGTTAGAGGGTTTCCGCCCTTTAGTGCTGCAGCTAACGCATTAAGCACTCCGCCTGGGGAGTACGGTCGCAAGACTGAAACTCAAAGGAATTGACGGGGGCCCGCACAAGCGGTGGAGCATGTGGTTTAATTCGAAGCAACGCGAAGAACCTTACCAGGTCTTGACATCCTCTGACAACTCTAGAGATAGAGCGTTCCCCTTCGGGGGACAGAGTGACAGGTGGTGCATGGTTGTCGTCAGCTCGTGTCGTGAGATGTTGGGTTAAGTCCCGCAACGAGCGCAACCCTTGATCTTAGTTGCCAGCATTTAGTTGGGCACTCTAAGGTGACTGCCGGTGACAAACCGGAGGAAGGTGGGGATGACGTCAAATCATCATGCCCCTTATGACCTGGGCTACACACGTGCTACAATGGATGGTACAAAGGGCTGCAAGACCGCGAGGTCAAGCCAATCCCATAAAACCATTCTCAGTTCGGATTGTAGGCTGCAACTCGCCTACATGAAGCTGGAATCGCTAGTAATCGCGGATCAGCATGCCGCGGTGAATACGTTCCCGGGCCTTGTACACACCGCCCGTCACACCACGAGAGTTTGTAACACCCGAAGTCGGTGGGGTAACCTTTATGGAGCCAGCCGCCTA",
         null,
         "611ba79afb30f26373c471791cb3b96a"
        ],
        [
         12686429,
         "URS0000C1945D",
         "2017-10-19T09:46:04.149+0000",
         "rnacen",
         "D4C04F73AB81E842",
         72,
         "GAGGGTATAGCTCAGTGGTAGAGCATTTGACTGCAGATCAAGAGGTCCCTGGTTCTAATCCAGGTGCCCCCA",
         null,
         "28e1938fe1ee589e284ef1812092e638"
        ],
        [
         8991198,
         "URS00008931DE",
         "2015-10-20T18:04:07.000+0000",
         "RNACEN",
         "CF931F4FF2D03186",
         1455,
         "GAACGCTGGCGGAACGCTTTACACATGCAAGTCGAACGGTAACGCGGAGAGAAGCTTGCTTCTCACCGGCGACGAGTGGCGAACGGGTGAGTAATACATCGGAACGTGTCCGCTCGTGGGGGACAACCAGCCGAAAGGTTGGCTAATACCGCATGAGTTCTACGGAAGAAAGAGGGGGACCCGCAAGGGCCTCTCGCGAGCGGAGCGGCCGATGACTGATTAGCCGGTTGGTGAGGTAACGGCTCACCAAAGCAACGATCAGTAGCTGGTCTGAGAGGACGACCAGCCACACTGGGACTGAGACACGGCCCAGACTCCTACGGGAGGCAGCAGTGGGGAATTTTGGACAATGGGCGCAAGCCTGATCCAGCTATTCCGCGTGTGGGATGAAGGCCCTCGGGTTGTAAACCACTTTTGTAGAGAACGAAAAGACACCTTCGAATAAAGGGTGTTGCTGACGGTACTCTAAGAATAAGCACCGGCTAACTACGTGCCAGCAGCCGCGGTAATACGTAGGGTGCGAGCGTTAATCGGAATTACTGGGCGTAAAGGGTGCGCAGGCGGTTGAGTAAGACAGATGTGAAATCCCCGAGCTTGACTCGGGAATGGCATATGTGACTGCTCGACTAGAGTGTGTCAGAGGGAGGTGGAATTCCACGTGTAGCAGTGAAATGCGTAGATATGTGGAAGAACACCGATGGCGAAGGCAGCCTCCTGGGACATAACTGACGCTCAGGCACGAAAGCGTGGGGAGCAAACAGGATTAGATACCCTGGTAGTCCACGCCCTAAACGATGTTAACTAGTTGTTGGGAAGTAAAATTCTCAGTAACGCAGCCAACGCGAGAAGTTAACCGCCTGGGAAGTACGGTCGCAAGACTAAAACTCAAAGGAATTGACGGGGACCCGCACAAGCGGTGGATGATGTGGATTAATTCGATGCAACGCGAAAAACCTTACCTACCCTTGACATGTCAGGAAGCTCTTGTAATGAGAGTGTGCCCGCAAGGGAGCCTGAACACAGGTGCTGCATGGCTGTCGTCAGCTCGTGTCGTGAGATGTTGGGTTAAGTCCCGCAACGAGCGCAACCCTTGTCACTAGTTGCTACGAAAGGGCACTCTAGTGAGACTGCCGGTGACAAACCGGAGGAAGGTGGGGATGACGTCAAGTCCTCATGGCCCTTATGGGTAGGGCTTCACACGTCATACAATGGTCGGAACAGAGGGCAGCGAAGTCGTGAGACGGAGCCAATCCCAGAAAACCGATCGTAGTCCGGATTGCAGTCTGCAACTCGACTGCATGAAGTCGGAATCGCTAGTAATCGCGGATCAGCATGCCGCGGTGAATACGTTCCCGGGTCTTGTACACACCGCCCGTCAAACAATGGGAGTGGTGTTTACCAGAAGTCGTTAGCCTAACCGCAAGGAGGGCGGCGACCACGGTGAGCACCGTGACT",
         null,
         "ba2b77b5eadc4ee8cd3a3017c25258d9"
        ],
        [
         8991199,
         "URS00008931DF",
         "2015-10-20T18:04:07.000+0000",
         "RNACEN",
         "F2555BD69FDD0739",
         1401,
         "TTTGATTATGGCTCAGGATGAACGCCTGGCTACAGGCTTAACACATGCAAGTCGAGGGGAAACGGCATTTGAGCGCTTTGCACTGAATGGACGTCGACCGGCGCACGGGTGAGTAACGCGTATCCAACCTTCCCGTTACTGCGGGATAACCTGCCGAAAGGCAGACTAATACCGCATGTTCTTCGATGACGGCATCAGATTCGAAGCAAAGATCCGTCGGTAACGGAGGGGGATGCGTCTGATTAGCTAGTTGGCGGGGCGACGGCCCACCAAGGCGACGATCAGTAGGGGTTCTGAGAGGAAGGTCCCCCACATTGGAACTGAGACACGGTCCAAACTCCTACGGGAGGCAGCAGTGAGGAATATTGGTCAATGGGCGGAAGCCTGAACCAGCCAAGTAGCGTGCAGGATGACGGCCCTACGGGTTGTAAACTGCTTTTATGCGGGGATAAAGTGAGGGACGCGTCCCTTTTTGCAGGTACCGCATGAATAAGGACCGGCTAATTCCGTGCCAGCAGCCGCGGTAATACGGAAGGTCCGGGCGTTATCCGGATTTATTGGGTTTAAAGGGAGCGTAGGCCGGGGATTAAGTGTGTTGTGAAATGTAGGCGCCCAACGTCTGACTTGCAGCGCATACTGGTTCCCTTGAGTACGCGCAACGCCGGCGGAATTCGTCGTGTAGCGGTGAAATGCTTAGATATGACGAAGAACCCCGATTGCGAAGGCAGCCGGCGGGAGCGCAACTGACGCTGAAGCTCGAAGGTGCGGGTATCGAACAGGATTAGATACCCTGGTAGTCCGCACGGTAAACGATGGATGCCCGCTGTCGGCGCCTTGCGCCGGCGGCCAAGCGAAAGCGTTAAGCATCCCACCTGGGGAGTACGCCGGCAACGGTGAAACTCAAAGGAATTGACGGGGGCCCGCACAAGCGGAGGAACATGTGGTTTAATTCGATGATACGCGAGGAACCTTACCCGGGCTTGAATCGCAGGAGAACGAAACAGAGATGTTGAGGTCCTTCGGGACTCCTGCGAAGGTGCTGCATGGTTGTCGTCAGCTCGTGCCGTGAGGTGTCGGCTTAAGTGCCATAACGAGCGCAACCCCTCTCCCCAGTTGCCATCGGGTGATGCCGGGCACTCCGGGGACACTGCCGCCGCAAGGTGCGAGGAAGGTGGGGACGACGTCAAATCAGCACGGCCCTTACGTCCGGGGCTACACACGTGTTACAATGGCCGGTACAGAGCGCCGGTGCGGCGCGAGCCGCATCTAATCTTGAAAACCGGTCTCAGTTCGGACTGGGGTCTGCAACCCGACCCCACGAAGCTGGATTCGCTAGTAATCGCGCATTCAGCCACGGCGCGGTGAATACGTTTCCCGGGCCTTGTACACACCCGCCCGTCA",
         null,
         "c70f2c4fb8bc9bf914ca5655f334bfe4"
        ],
        [
         8991203,
         "URS00008931E3",
         "2015-10-20T18:04:07.000+0000",
         "RNACEN",
         "1E854EC43938ED26",
         1436,
         "AATCCGGTTGATCCTGCCGGACCTGACTGCTATCGGATTGATACTAAGCCATGCGAGTCATTGTAGCAATACAAGGCATACGGCTCAGTAACGCGTAGTCAACCTAACCTATGGACGGGAATAACCTCGGGAAACTGAGAATAATGCCCGATAGAACACTATACCTGGAATGGTTTGTGTTCCAAATGATTTATCGCCATAGGATGGGACTGCGGCCTATCAGTTTGTTGGTGAGGTAATGGCCCACCAAGACTATTACAGGTACGGGCTCTGAGAGGAGTAGCCCGGAGATGGGTACTGAGACACGGACCCAGGCCCTATGGGGCGCAGCAGGCGAGAAAACTTTGCAATGTGCGAAAGCACGACAAGGTTAATCCGAGTGATTTGTGCTAAACGAATCTTTTGTTAGTCCTAGAAACACTAACGAATAAGGGGTGGGCAAGTTCTGGTGTCAGCCGCCGCGGTAAAACCAGCACCTCAAGTGGTCAGGATGATTATTGGGCCTAAAGCATCCGTAGCCGGCTCTGTAAGTTTTCGGTTAAATCTGTACGCTTAACGTACAGGCTGCCGGGAATACTGCAAAGCTAGGGAGTGGGAGAGGTAGACGGTACTCGGTAGGAAGTGGTAAAATGCTTTGATCTATCGATGACCACCTGTGGCGAAGGCGGTCTACCAGAACACGTCCGACGGTGAGGGATGAAAGCTGGGGGAGCAAACCGGATTAGATACCCGGGTAGTCCCAGCTGTAAACTATGCAAACTCAGTGATGCATTGGCTTGTGGCCAATGCAGTGCTGCAGGGAAGCCGTTAAGTTTGCCGCCTGGGAAGTACGTACGCAAGTATGAAACTTAAAGGAATTGGCGGGGGAGCACCACAAGGGGTGAAGCTGCGGTTCAATTGGAGTCAACGCCAGAAATCTTACCCGGAGAGACAGCAGAATGAAGGTCAAGCTGAAGACTTTACCAGACAAGCTGAGAGGTGGTGCATGGCCGTCGCCAGCTCGTGCCGTGAGATGTCCTGTTAAGTCAGGTAACGAGCGAGATCCCTGCCTCTAGTTGCCACCATTACTCTCAGGAGTAGTGGGGCGAATTAGCGGGACCGCCGCAGTTAATGCGGAGGAAGGAAGGGGCCACGGCAGGTCAGTATGCCCCGAAACTCTGGGGCCACACGCGGGCTGCAATGGTAGCGACAATTGGTTTCGAATCCGAAAGGATGAGGTAATCCACAAACGCTACCACAGTTATGACTGAGGGCTGCAACTCGCCCTCACGAATATGGAATCCCTAGTAACTGCGTGTCATTATCGCGCGGTGAATACGTCCCTGCTCCTTGCACACACCGCCCGTCGTTTCATTGAAGTGAGCTTTTAGCGAGGTGACGTCTAATTGGCGTTATCGAACTTGAGGTTCGTGACAAGGGAAAAGTCGTAACAAGGT",
         null,
         "c70f4a247687baa73bc0329ce55af1b3"
        ],
        [
         8991206,
         "URS00008931E6",
         "2015-10-20T18:04:07.000+0000",
         "RNACEN",
         "240043A7EBC33F15",
         1345,
         "AAAGGGCTTCGGCCTGAGTAAAGTGGCGTACGGGTGAGTAACACGTGAATGATCTACCTCCGAGTGGGGAATAACCTAGAGAAATCTGGGCTAATACCGCATAACACTTACGAGTCAAAGCAGCAATGCGCTTGGAGAGGAGTTCGCGGCCGATTAGTTAGTTGGCAGGGTAATGGCCTACCAAGACGATGATCGGTATCCGGCCTGAGAGGGCGCACGGACACACTGGAACTGAAACACGGTCCAGACTCCTACGGGAGGCAGCAGTGGGGAATTTTGCGCAATGGGGGAAACCCTGACGCAGCAACGCCGCGTGGAGGATGAAATCCCTTGGGATGTAAACTCCTTTCGATAGGGAAGATAATGACGGTACCTATAGAAGAAGCCCCGGCTAACTTCGTGCCAGCAGCCGCGGTAATACGAGGGGGGCAAGCGTTGTTCGGAATTATTGGGCGTAAAGGGTGCGTAGGCGGTCTGACAAGTCTGATGTGAAATCTATGGGCTCAACCCATAGTCTGCATCGGAAACTGTCGGGCTTGAGTATGGGAGAGGTGAGTGGAATTTCCGGTGTAGCGGTGAAATGCGTAGATATCGGAAGGAACACCTGTGGCGAAAGCGGCTCACTGGACCATTACTGACGCTGAGGCACGAAAGCTAGGGGAGCAAACAGGATTAGATACCCTGGTAGTCCTAGCCCTAAACGATGATTGCTTGATGTGACAGGTACCCAATCCTGTCGTGTCGAAGCTAACGCGATAAGCAATCCGCCTGGGGAGTACGGTCGCAAGGCTGAAACTCAAAGGAATTGACGGGGGCCCGCACAAGCGGTGGAGCATGTGGTTTAATTCGACGCAACGCGAAGAACCTTACCTGGGCTCGAAATGCACAGGAATCCGGTAGAAACATCGGCGTCCAGCAATGGACCTGTGTATAGGTGCTGCATGGCTGTCGTCAGCTCGTGTCGTGAGATGTTGGGTTAAGTCCCGCAACGAGCGCAACCCTTATCTCCAGTTGCTACCATTTAGTTGAGCACTCTGGCGAAACCGCCTCGGATAACGGGGAGGAAGGTGGGGATGACGTCAAGTCTCTCATGGCCTTTATGTCCAGGGCTACACACGTGCTACAATGGCCGGTACAAACCGCTGCAAACCCGCGAGGGGGAGCTAATCGGAAAAAGCCGGCCTCAGTTCGGATTGGAGTCTGCAACTCGACTCCATGAAGCTGGAATCGCTAGTAATCGCAGATCAGCACGCTGCGGTGAATACGTTCCCGGGCCTTGTACACACCGCCCGCCACATCACGAAAGTGGGTTGCACTAGAAGTCGGTGCGCTAACCGCAAGGGAG",
         null,
         "ba2bea7a7300ee3e5a786c09a4ef8d29"
        ],
        [
         8992493,
         "URS00008936ED",
         "2015-10-20T18:04:07.000+0000",
         "RNACEN",
         "35BA7CD1CF861770",
         1469,
         "GGACGAACGCTGGCGGCGTGCTTAACACATGCAAGTCGAACGGAGAACTTATTTCGGTAAGTTCTTAGTGGCGAACGGGTGAGTAACGCGTGGGCAACCTGCCCTCCAGTTGGGGACAACATTCCGAAAGGGATGCTAATACCGAATGTGCTCCCTCCTCCGCATGGAGGAGGGAGGAAAGATGGCCTCTGCTTGCAAGCTATCGCTGGAAGATGGGCCCGCGTCTGATTAGCTAGTTGGTGGGGTAACGGCTCACCAAGGCGATGATCAGTAGCCGGTCTGAGAGGATGAGCGGCCACATTGGGACTGAGACACGGCCCAAACTCCTACGGGAGGCAGCAGTGGGGAATCTTCCGCAATGGACGAAAGTCTGACGGAGCAACGCCGCGTGAGTGGTGAAGGTCTTCGGATTGTAAAACTCTGTTGTTAGGGACGAAAGCACCGTGTTCGAACAGGTCATGGTGTTGACGGTACCTAACGAGGAAGCCACGGCTAAATACGTGCCAGCAGCCGCGGTAATACGTAGGTGGCAAGCGTTGTCCGGAATTATTGGGCGTAAAGAGCATGTAGGCGGGCTTTTAAGTCTGACGTGAAAATGCGGGGCTTAACCCCGTATGGCGTTGGATACTGGAAGTCTTGAGTGCAGGAGAGGAAAGGGGAATTCCCAGTGTAGCGGTGAAATGCGTAGATATTGGGAGGAACACCAGTGGCGAAGGCGCCTTTCTGGACTGTGTCTGACGCTGAGATGCGAAAGCCAGGGTAGCAAACGGGATTAGATACCCCGGTAGTCCTGGCCGTAAACGATGGATACTAGGTGTAGGAGGTATCGACCCCTTCTGTGCCGGAGTTAACGCAATAAGTATCCCGCCTGGGGACTACGATCGCAAGATTGAAACTCAAAGGAATTGACGGGGGCCCGCACAAGCGGTGGAGTATGTGGTTTAATTCGACGCAACGCGAAGAACCTTACCAAGGCTTGACATTGAGTGAAAGACCTAGAGATAGGTCCCTCCCTTCGGGGACACGAAAACAGGTGGTGCATGGCTGTCGTCAGCTCGTGTCGTGAGATGTTGGGTTAAGTCCCGCAACGAGCGCAACCCCTATCCTATGTTACCAGCGCGTAATGGCGGGGACTCATAGGAGACTGCCAGGGATAACTTGGAGGAAGGCGGGGATGACGTCAAGTCATCATGCCCCTTATGTCTTGGGCTACACACGTACTACAATGGTCGGCAACAAAGGGCAGCGAAACCGCGAGGTGGAGCAAATCCCAGAAACCCGACCCCAGTTCGGATCGTAGGCTGCAACCCGCCTACGTGAAGTTGGAATCGCTAGTAATCGCAGGTCAGCATACTGCGGTGAATACGTTCCCGGGCCTTGTACACACCGCCCGTCACACCACGAAAGTTGGTAACACCCGAAGCCGGTGAGATAACCTTTTAGGAGTCAGCTGTCTAAGGTGGGGCCGA",
         null,
         "bb3ac3ff4992a8a30af72da3594956f7"
        ]
       ],
       "datasetInfos": [],
       "dbfsResultPath": null,
       "isJsonSchema": true,
       "metadata": {},
       "overflow": false,
       "plotOptions": {
        "customPlotOptions": {},
        "displayType": "table",
        "pivotAggregation": null,
        "pivotColumns": null,
        "xColumns": null,
        "yColumns": null
       },
       "removedWidgets": [],
       "schema": [
        {
         "metadata": "{\"scale\":0}",
         "name": "id",
         "type": "\"long\""
        },
        {
         "metadata": "{\"scale\":0}",
         "name": "upi",
         "type": "\"string\""
        },
        {
         "metadata": "{\"scale\":6}",
         "name": "timestamp",
         "type": "\"timestamp\""
        },
        {
         "metadata": "{\"scale\":0}",
         "name": "userstamp",
         "type": "\"string\""
        },
        {
         "metadata": "{\"scale\":0}",
         "name": "crc64",
         "type": "\"string\""
        },
        {
         "metadata": "{\"scale\":0}",
         "name": "len",
         "type": "\"integer\""
        },
        {
         "metadata": "{\"scale\":0}",
         "name": "seq_short",
         "type": "\"string\""
        },
        {
         "metadata": "{\"scale\":0}",
         "name": "seq_long",
         "type": "\"string\""
        },
        {
         "metadata": "{\"scale\":0}",
         "name": "md5",
         "type": "\"string\""
        }
       ],
       "type": "table"
      }
     },
     "output_type": "display_data"
    }
   ],
   "source": [
    "# Write your solution here\n",
    "\n",
    "jdbc_url = \"jdbc:postgresql://hh-pgsql-public.ebi.ac.uk:5432/pfmegrnargs\"\n",
    "rna_query = \"SELECT * FROM rna LIMIT 100\"\n",
    "rna_table = (spark.read\n",
    "             .format(\"jdbc\")\n",
    "             .option(\"url\", jdbc_url)\n",
    "             .option(\"query\", rna_query)\n",
    "             .option(\"user\", \"reader\")\n",
    "             .option(\"password\", \"NWDMCE5xdipIjRrp\")\n",
    "             .option(\"driver\", \"org.postgresql.Driver\") \n",
    "             .load()\n",
    "             )\n",
    "\n",
    "spark.sql(\"DROP TABLE IF EXISTS rna_100_records\")\n",
    "\n",
    "rna_table.write.mode(\"overwrite\").saveAsTable(\"rna_100_records\")\n",
    "\n",
    "display(spark.sql(\"SELECT * FROm rna_100_records\"))\n",
    "\n"
   ]
  }
 ],
 "metadata": {
  "application/vnd.databricks.v1+notebook": {
   "computePreferences": null,
   "dashboards": [],
   "environmentMetadata": null,
   "language": "python",
   "notebookMetadata": {
    "pythonIndentUnit": 4
   },
   "notebookName": "2 - Spark ETL Jobs Exercieses",
   "widgets": {}
  }
 },
 "nbformat": 4,
 "nbformat_minor": 0
}
